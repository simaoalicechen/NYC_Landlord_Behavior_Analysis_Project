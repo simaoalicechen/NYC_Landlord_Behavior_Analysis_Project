{
 "cells": [
  {
   "cell_type": "markdown",
   "id": "f199e7f5",
   "metadata": {},
   "source": [
    "# An introduction to these notebooks"
   ]
  },
  {
   "cell_type": "markdown",
   "id": "3cdf934f",
   "metadata": {},
   "source": [
    "# Part 1 Get the Eviction Data\n",
    "# Part 2 Get to know the GeoDataFrame\n",
    "## Part 2.1 Aggregation to find eviction counts (with BBL)\n",
    "## Part 2.2 Visualize the GeoDataFrame -- Plotly and Folium\n",
    "# Part 3 Clustering\n",
    "## Part 3.1 Buildings with the most evictions (top_bbls)\n",
    "## Part 3.2 DBSCAN\n",
    "### Part 3.2.1 Prepare the data for DBSCAN\n",
    "### Part 3.2.2 Apply DBSCAN\n",
    "## Part 3.3 K means (with k = 3 as given by DBSCAN)\n",
    "### Part 3.3.1 Prepare and apply K means\n",
    "### Part 3.3.1 Quck comparisons between DBSCAN and K means cluster classifications\n",
    "# Part 4 Clustering Analysis\n",
    "## Part 4.1 Queen and Rook Contiguity\n",
    "## Part 4.2 Local Moran's I Lisa Analysis\n",
    "## Part 4.3 Clustering map vis/comparison"
   ]
  },
  {
   "cell_type": "code",
   "execution_count": null,
   "id": "2a6399df",
   "metadata": {},
   "outputs": [],
   "source": []
  }
 ],
 "metadata": {
  "kernelspec": {
   "display_name": "Python 3 (ipykernel)",
   "language": "python",
   "name": "python3"
  },
  "language_info": {
   "codemirror_mode": {
    "name": "ipython",
    "version": 3
   },
   "file_extension": ".py",
   "mimetype": "text/x-python",
   "name": "python",
   "nbconvert_exporter": "python",
   "pygments_lexer": "ipython3",
   "version": "3.11.0"
  }
 },
 "nbformat": 4,
 "nbformat_minor": 5
}
