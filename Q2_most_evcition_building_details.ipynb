version https://git-lfs.github.com/spec/v1
oid sha256:3bf37bc7ed9d90c2426be42c269d5d3ecaeaf9927c31a034c3f98d89ca821cf5
size 20031768
