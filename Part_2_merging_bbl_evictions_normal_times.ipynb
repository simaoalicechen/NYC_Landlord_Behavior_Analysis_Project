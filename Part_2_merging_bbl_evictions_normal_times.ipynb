{
 "cells": [
  {
   "cell_type": "code",
   "execution_count": 3,
   "metadata": {
    "id": "0j1GVN6Sqs0d"
   },
   "outputs": [],
   "source": [
    "import pandas as pd\n",
    "import geopandas as gpd\n",
    "import numpy as np\n",
    "import datetime as dt\n",
    "import scipy\n",
    "\n",
    "from sklearn.cluster import DBSCAN\n",
    "from sklearn.cluster import KMeans\n",
    "from sklearn.preprocessing import StandardScaler\n",
    "from sklearn.metrics import silhouette_score\n",
    "from scipy.spatial.distance import cdist\n",
    "\n",
    "# visualization\n",
    "import matplotlib.pyplot as plt\n",
    "from matplotlib import colors as mcolors\n",
    "import seaborn as sns\n",
    "\n",
    "# system and utility\n",
    "import warnings\n",
    "import os\n",
    "import io\n",
    "from IPython.display import IFrame\n",
    "from google.colab import files\n",
    "\n",
    "# suppress warnings\n",
    "warnings.filterwarnings('ignore')\n",
    "\n",
    "# inline\n",
    "%matplotlib inline"
   ]
  },
  {
   "cell_type": "code",
   "execution_count": 118,
   "metadata": {
    "id": "jRgC77XNIAfN"
   },
   "outputs": [],
   "source": [
    "pd.set_option('display.max_rows', None)\n",
    "pd.set_option('display.max_columns', None)"
   ]
  },
  {
   "cell_type": "code",
   "execution_count": 4,
   "metadata": {
    "colab": {
     "base_uri": "https://localhost:8080/"
    },
    "id": "yL8pJMQbqwK_",
    "outputId": "a1b28010-334a-421e-93a3-39dee0d72fa3"
   },
   "outputs": [
    {
     "name": "stdout",
     "output_type": "stream",
     "text": [
      "Mounted at /content/drive\n"
     ]
    }
   ],
   "source": [
    "from google.colab import drive\n",
    "drive.mount('/content/drive')"
   ]
  },
  {
   "cell_type": "code",
   "execution_count": 5,
   "metadata": {
    "id": "utvDWnmGqyCu"
   },
   "outputs": [],
   "source": [
    "# data source:\n",
    "file_path1 = '/content/drive/My Drive/X999/evictions_pre_post_covid.csv'\n",
    "file_path2 = '/content/drive/My Drive/X999/bbl_cleaned.csv'"
   ]
  },
  {
   "cell_type": "code",
   "execution_count": 6,
   "metadata": {
    "id": "YQa5mRHmq4bs"
   },
   "outputs": [],
   "source": [
    "evictions_pre_post_raw = pd.read_csv(file_path1)"
   ]
  },
  {
   "cell_type": "code",
   "execution_count": 7,
   "metadata": {
    "id": "GapCNuOBq6F4"
   },
   "outputs": [],
   "source": [
    "evictions_pre_post = evictions_pre_post_raw.copy()"
   ]
  },
  {
   "cell_type": "code",
   "execution_count": 8,
   "metadata": {
    "id": "yWRNzZVsq9YJ"
   },
   "outputs": [],
   "source": [
    "bbl = pd.read_csv(file_path2)"
   ]
  },
  {
   "cell_type": "code",
   "execution_count": 9,
   "metadata": {
    "id": "kZY9dwCR-hUs"
   },
   "outputs": [],
   "source": [
    "bbl_df = bbl.copy()"
   ]
  },
  {
   "cell_type": "code",
   "execution_count": 10,
   "metadata": {
    "colab": {
     "base_uri": "https://localhost:8080/"
    },
    "id": "3b-YfOAQrOBy",
    "outputId": "0d566bb1-a8f3-4273-a35a-0950284b8363"
   },
   "outputs": [
    {
     "data": {
      "text/plain": [
       "97"
      ]
     },
     "execution_count": 10,
     "metadata": {},
     "output_type": "execute_result"
    }
   ],
   "source": [
    "len(list(bbl_df.columns))\n",
    "# correct"
   ]
  },
  {
   "cell_type": "code",
   "execution_count": 11,
   "metadata": {
    "colab": {
     "base_uri": "https://localhost:8080/",
     "height": 450
    },
    "id": "3Iv3yR50t1jR",
    "outputId": "b91c0e4d-ffac-4385-9356-99d308c0b4a2"
   },
   "outputs": [
    {
     "data": {
      "application/vnd.google.colaboratory.intrinsic+json": {
       "type": "dataframe",
       "variable_name": "bbl_df"
      },
      "text/html": [
       "\n",
       "  <div id=\"df-c6d7c055-0edb-4365-9475-e7f185ae3ab1\" class=\"colab-df-container\">\n",
       "    <div>\n",
       "<style scoped>\n",
       "    .dataframe tbody tr th:only-of-type {\n",
       "        vertical-align: middle;\n",
       "    }\n",
       "\n",
       "    .dataframe tbody tr th {\n",
       "        vertical-align: top;\n",
       "    }\n",
       "\n",
       "    .dataframe thead th {\n",
       "        text-align: right;\n",
       "    }\n",
       "</style>\n",
       "<table border=\"1\" class=\"dataframe\">\n",
       "  <thead>\n",
       "    <tr style=\"text-align: right;\">\n",
       "      <th></th>\n",
       "      <th>borough</th>\n",
       "      <th>block</th>\n",
       "      <th>lot</th>\n",
       "      <th>community board</th>\n",
       "      <th>census tract 2010</th>\n",
       "      <th>cb2010</th>\n",
       "      <th>schooldist</th>\n",
       "      <th>council district</th>\n",
       "      <th>postcode</th>\n",
       "      <th>firecomp</th>\n",
       "      <th>...</th>\n",
       "      <th>is_condo</th>\n",
       "      <th>floor_category</th>\n",
       "      <th>rent_era</th>\n",
       "      <th>architectural_style</th>\n",
       "      <th>economic_period</th>\n",
       "      <th>residential_units_category</th>\n",
       "      <th>is_llc</th>\n",
       "      <th>building_size_category</th>\n",
       "      <th>size_quartile</th>\n",
       "      <th>decade</th>\n",
       "    </tr>\n",
       "  </thead>\n",
       "  <tbody>\n",
       "    <tr>\n",
       "      <th>0</th>\n",
       "      <td>BK</td>\n",
       "      <td>8366</td>\n",
       "      <td>222</td>\n",
       "      <td>318.0</td>\n",
       "      <td>696.02</td>\n",
       "      <td>2002.0</td>\n",
       "      <td>22.0</td>\n",
       "      <td>46.0</td>\n",
       "      <td>11234.0</td>\n",
       "      <td>E323</td>\n",
       "      <td>...</td>\n",
       "      <td>False</td>\n",
       "      <td>low-rise</td>\n",
       "      <td>1994–Present, vacancy decontrol</td>\n",
       "      <td>2001-present, New Architecture</td>\n",
       "      <td>2009–present, post-financial crisis</td>\n",
       "      <td>single-unit</td>\n",
       "      <td>True</td>\n",
       "      <td>very small</td>\n",
       "      <td>Q1 (smallest 25%)</td>\n",
       "      <td>2010-2020</td>\n",
       "    </tr>\n",
       "    <tr>\n",
       "      <th>1</th>\n",
       "      <td>BK</td>\n",
       "      <td>2571</td>\n",
       "      <td>28</td>\n",
       "      <td>301.0</td>\n",
       "      <td>561.00</td>\n",
       "      <td>1005.0</td>\n",
       "      <td>14.0</td>\n",
       "      <td>33.0</td>\n",
       "      <td>11222.0</td>\n",
       "      <td>L106</td>\n",
       "      <td>...</td>\n",
       "      <td>False</td>\n",
       "      <td>low-rise</td>\n",
       "      <td>1994–Present, vacancy decontrol</td>\n",
       "      <td>2001-present, New Architecture</td>\n",
       "      <td>2009–present, post-financial crisis</td>\n",
       "      <td>single-unit</td>\n",
       "      <td>True</td>\n",
       "      <td>medium-small</td>\n",
       "      <td>Q4 (largest 25%)</td>\n",
       "      <td>2010-2020</td>\n",
       "    </tr>\n",
       "    <tr>\n",
       "      <th>2</th>\n",
       "      <td>BK</td>\n",
       "      <td>3197</td>\n",
       "      <td>8</td>\n",
       "      <td>304.0</td>\n",
       "      <td>429.00</td>\n",
       "      <td>1002.0</td>\n",
       "      <td>32.0</td>\n",
       "      <td>34.0</td>\n",
       "      <td>11237.0</td>\n",
       "      <td>E218</td>\n",
       "      <td>...</td>\n",
       "      <td>False</td>\n",
       "      <td>low-rise</td>\n",
       "      <td>Pre-1947, pre-rent-control</td>\n",
       "      <td>1931–1950, Manhattan Modern</td>\n",
       "      <td>1930-1945, great depression and WWII</td>\n",
       "      <td>3-5 units</td>\n",
       "      <td>False</td>\n",
       "      <td>medium-small</td>\n",
       "      <td>Q4 (largest 25%)</td>\n",
       "      <td>1930-1939</td>\n",
       "    </tr>\n",
       "    <tr>\n",
       "      <th>3</th>\n",
       "      <td>QN</td>\n",
       "      <td>52</td>\n",
       "      <td>7</td>\n",
       "      <td>402.0</td>\n",
       "      <td>7.00</td>\n",
       "      <td>1000.0</td>\n",
       "      <td>30.0</td>\n",
       "      <td>26.0</td>\n",
       "      <td>11101.0</td>\n",
       "      <td>L115</td>\n",
       "      <td>...</td>\n",
       "      <td>False</td>\n",
       "      <td>mid-rise</td>\n",
       "      <td>1947–1969, rent-control</td>\n",
       "      <td>1951–1980, the International Style, Alternativ...</td>\n",
       "      <td>1946–1975, pst war economic boom</td>\n",
       "      <td>6-20 units</td>\n",
       "      <td>True</td>\n",
       "      <td>medium</td>\n",
       "      <td>Q4 (largest 25%)</td>\n",
       "      <td>1950-1959</td>\n",
       "    </tr>\n",
       "  </tbody>\n",
       "</table>\n",
       "<p>4 rows × 97 columns</p>\n",
       "</div>\n",
       "    <div class=\"colab-df-buttons\">\n",
       "\n",
       "  <div class=\"colab-df-container\">\n",
       "    <button class=\"colab-df-convert\" onclick=\"convertToInteractive('df-c6d7c055-0edb-4365-9475-e7f185ae3ab1')\"\n",
       "            title=\"Convert this dataframe to an interactive table.\"\n",
       "            style=\"display:none;\">\n",
       "\n",
       "  <svg xmlns=\"http://www.w3.org/2000/svg\" height=\"24px\" viewBox=\"0 -960 960 960\">\n",
       "    <path d=\"M120-120v-720h720v720H120Zm60-500h600v-160H180v160Zm220 220h160v-160H400v160Zm0 220h160v-160H400v160ZM180-400h160v-160H180v160Zm440 0h160v-160H620v160ZM180-180h160v-160H180v160Zm440 0h160v-160H620v160Z\"/>\n",
       "  </svg>\n",
       "    </button>\n",
       "\n",
       "  <style>\n",
       "    .colab-df-container {\n",
       "      display:flex;\n",
       "      gap: 12px;\n",
       "    }\n",
       "\n",
       "    .colab-df-convert {\n",
       "      background-color: #E8F0FE;\n",
       "      border: none;\n",
       "      border-radius: 50%;\n",
       "      cursor: pointer;\n",
       "      display: none;\n",
       "      fill: #1967D2;\n",
       "      height: 32px;\n",
       "      padding: 0 0 0 0;\n",
       "      width: 32px;\n",
       "    }\n",
       "\n",
       "    .colab-df-convert:hover {\n",
       "      background-color: #E2EBFA;\n",
       "      box-shadow: 0px 1px 2px rgba(60, 64, 67, 0.3), 0px 1px 3px 1px rgba(60, 64, 67, 0.15);\n",
       "      fill: #174EA6;\n",
       "    }\n",
       "\n",
       "    .colab-df-buttons div {\n",
       "      margin-bottom: 4px;\n",
       "    }\n",
       "\n",
       "    [theme=dark] .colab-df-convert {\n",
       "      background-color: #3B4455;\n",
       "      fill: #D2E3FC;\n",
       "    }\n",
       "\n",
       "    [theme=dark] .colab-df-convert:hover {\n",
       "      background-color: #434B5C;\n",
       "      box-shadow: 0px 1px 3px 1px rgba(0, 0, 0, 0.15);\n",
       "      filter: drop-shadow(0px 1px 2px rgba(0, 0, 0, 0.3));\n",
       "      fill: #FFFFFF;\n",
       "    }\n",
       "  </style>\n",
       "\n",
       "    <script>\n",
       "      const buttonEl =\n",
       "        document.querySelector('#df-c6d7c055-0edb-4365-9475-e7f185ae3ab1 button.colab-df-convert');\n",
       "      buttonEl.style.display =\n",
       "        google.colab.kernel.accessAllowed ? 'block' : 'none';\n",
       "\n",
       "      async function convertToInteractive(key) {\n",
       "        const element = document.querySelector('#df-c6d7c055-0edb-4365-9475-e7f185ae3ab1');\n",
       "        const dataTable =\n",
       "          await google.colab.kernel.invokeFunction('convertToInteractive',\n",
       "                                                    [key], {});\n",
       "        if (!dataTable) return;\n",
       "\n",
       "        const docLinkHtml = 'Like what you see? Visit the ' +\n",
       "          '<a target=\"_blank\" href=https://colab.research.google.com/notebooks/data_table.ipynb>data table notebook</a>'\n",
       "          + ' to learn more about interactive tables.';\n",
       "        element.innerHTML = '';\n",
       "        dataTable['output_type'] = 'display_data';\n",
       "        await google.colab.output.renderOutput(dataTable, element);\n",
       "        const docLink = document.createElement('div');\n",
       "        docLink.innerHTML = docLinkHtml;\n",
       "        element.appendChild(docLink);\n",
       "      }\n",
       "    </script>\n",
       "  </div>\n",
       "\n",
       "\n",
       "<div id=\"df-9ab1c888-e291-4a04-ab26-c5980d28fed1\">\n",
       "  <button class=\"colab-df-quickchart\" onclick=\"quickchart('df-9ab1c888-e291-4a04-ab26-c5980d28fed1')\"\n",
       "            title=\"Suggest charts\"\n",
       "            style=\"display:none;\">\n",
       "\n",
       "<svg xmlns=\"http://www.w3.org/2000/svg\" height=\"24px\"viewBox=\"0 0 24 24\"\n",
       "     width=\"24px\">\n",
       "    <g>\n",
       "        <path d=\"M19 3H5c-1.1 0-2 .9-2 2v14c0 1.1.9 2 2 2h14c1.1 0 2-.9 2-2V5c0-1.1-.9-2-2-2zM9 17H7v-7h2v7zm4 0h-2V7h2v10zm4 0h-2v-4h2v4z\"/>\n",
       "    </g>\n",
       "</svg>\n",
       "  </button>\n",
       "\n",
       "<style>\n",
       "  .colab-df-quickchart {\n",
       "      --bg-color: #E8F0FE;\n",
       "      --fill-color: #1967D2;\n",
       "      --hover-bg-color: #E2EBFA;\n",
       "      --hover-fill-color: #174EA6;\n",
       "      --disabled-fill-color: #AAA;\n",
       "      --disabled-bg-color: #DDD;\n",
       "  }\n",
       "\n",
       "  [theme=dark] .colab-df-quickchart {\n",
       "      --bg-color: #3B4455;\n",
       "      --fill-color: #D2E3FC;\n",
       "      --hover-bg-color: #434B5C;\n",
       "      --hover-fill-color: #FFFFFF;\n",
       "      --disabled-bg-color: #3B4455;\n",
       "      --disabled-fill-color: #666;\n",
       "  }\n",
       "\n",
       "  .colab-df-quickchart {\n",
       "    background-color: var(--bg-color);\n",
       "    border: none;\n",
       "    border-radius: 50%;\n",
       "    cursor: pointer;\n",
       "    display: none;\n",
       "    fill: var(--fill-color);\n",
       "    height: 32px;\n",
       "    padding: 0;\n",
       "    width: 32px;\n",
       "  }\n",
       "\n",
       "  .colab-df-quickchart:hover {\n",
       "    background-color: var(--hover-bg-color);\n",
       "    box-shadow: 0 1px 2px rgba(60, 64, 67, 0.3), 0 1px 3px 1px rgba(60, 64, 67, 0.15);\n",
       "    fill: var(--button-hover-fill-color);\n",
       "  }\n",
       "\n",
       "  .colab-df-quickchart-complete:disabled,\n",
       "  .colab-df-quickchart-complete:disabled:hover {\n",
       "    background-color: var(--disabled-bg-color);\n",
       "    fill: var(--disabled-fill-color);\n",
       "    box-shadow: none;\n",
       "  }\n",
       "\n",
       "  .colab-df-spinner {\n",
       "    border: 2px solid var(--fill-color);\n",
       "    border-color: transparent;\n",
       "    border-bottom-color: var(--fill-color);\n",
       "    animation:\n",
       "      spin 1s steps(1) infinite;\n",
       "  }\n",
       "\n",
       "  @keyframes spin {\n",
       "    0% {\n",
       "      border-color: transparent;\n",
       "      border-bottom-color: var(--fill-color);\n",
       "      border-left-color: var(--fill-color);\n",
       "    }\n",
       "    20% {\n",
       "      border-color: transparent;\n",
       "      border-left-color: var(--fill-color);\n",
       "      border-top-color: var(--fill-color);\n",
       "    }\n",
       "    30% {\n",
       "      border-color: transparent;\n",
       "      border-left-color: var(--fill-color);\n",
       "      border-top-color: var(--fill-color);\n",
       "      border-right-color: var(--fill-color);\n",
       "    }\n",
       "    40% {\n",
       "      border-color: transparent;\n",
       "      border-right-color: var(--fill-color);\n",
       "      border-top-color: var(--fill-color);\n",
       "    }\n",
       "    60% {\n",
       "      border-color: transparent;\n",
       "      border-right-color: var(--fill-color);\n",
       "    }\n",
       "    80% {\n",
       "      border-color: transparent;\n",
       "      border-right-color: var(--fill-color);\n",
       "      border-bottom-color: var(--fill-color);\n",
       "    }\n",
       "    90% {\n",
       "      border-color: transparent;\n",
       "      border-bottom-color: var(--fill-color);\n",
       "    }\n",
       "  }\n",
       "</style>\n",
       "\n",
       "  <script>\n",
       "    async function quickchart(key) {\n",
       "      const quickchartButtonEl =\n",
       "        document.querySelector('#' + key + ' button');\n",
       "      quickchartButtonEl.disabled = true;  // To prevent multiple clicks.\n",
       "      quickchartButtonEl.classList.add('colab-df-spinner');\n",
       "      try {\n",
       "        const charts = await google.colab.kernel.invokeFunction(\n",
       "            'suggestCharts', [key], {});\n",
       "      } catch (error) {\n",
       "        console.error('Error during call to suggestCharts:', error);\n",
       "      }\n",
       "      quickchartButtonEl.classList.remove('colab-df-spinner');\n",
       "      quickchartButtonEl.classList.add('colab-df-quickchart-complete');\n",
       "    }\n",
       "    (() => {\n",
       "      let quickchartButtonEl =\n",
       "        document.querySelector('#df-9ab1c888-e291-4a04-ab26-c5980d28fed1 button');\n",
       "      quickchartButtonEl.style.display =\n",
       "        google.colab.kernel.accessAllowed ? 'block' : 'none';\n",
       "    })();\n",
       "  </script>\n",
       "</div>\n",
       "\n",
       "    </div>\n",
       "  </div>\n"
      ],
      "text/plain": [
       "  borough  block  lot  community board  census tract 2010  cb2010  schooldist  \\\n",
       "0      BK   8366  222            318.0             696.02  2002.0        22.0   \n",
       "1      BK   2571   28            301.0             561.00  1005.0        14.0   \n",
       "2      BK   3197    8            304.0             429.00  1002.0        32.0   \n",
       "3      QN     52    7            402.0               7.00  1000.0        30.0   \n",
       "\n",
       "   council district  postcode firecomp  ...  is_condo  floor_category  \\\n",
       "0              46.0   11234.0     E323  ...     False        low-rise   \n",
       "1              33.0   11222.0     L106  ...     False        low-rise   \n",
       "2              34.0   11237.0     E218  ...     False        low-rise   \n",
       "3              26.0   11101.0     L115  ...     False        mid-rise   \n",
       "\n",
       "                          rent_era  \\\n",
       "0  1994–Present, vacancy decontrol   \n",
       "1  1994–Present, vacancy decontrol   \n",
       "2       Pre-1947, pre-rent-control   \n",
       "3          1947–1969, rent-control   \n",
       "\n",
       "                                 architectural_style  \\\n",
       "0                     2001-present, New Architecture   \n",
       "1                     2001-present, New Architecture   \n",
       "2                        1931–1950, Manhattan Modern   \n",
       "3  1951–1980, the International Style, Alternativ...   \n",
       "\n",
       "                        economic_period residential_units_category is_llc  \\\n",
       "0   2009–present, post-financial crisis                single-unit   True   \n",
       "1   2009–present, post-financial crisis                single-unit   True   \n",
       "2  1930-1945, great depression and WWII                  3-5 units  False   \n",
       "3      1946–1975, pst war economic boom                 6-20 units   True   \n",
       "\n",
       "  building_size_category      size_quartile     decade  \n",
       "0             very small  Q1 (smallest 25%)  2010-2020  \n",
       "1           medium-small   Q4 (largest 25%)  2010-2020  \n",
       "2           medium-small   Q4 (largest 25%)  1930-1939  \n",
       "3                 medium   Q4 (largest 25%)  1950-1959  \n",
       "\n",
       "[4 rows x 97 columns]"
      ]
     },
     "execution_count": 11,
     "metadata": {},
     "output_type": "execute_result"
    }
   ],
   "source": [
    "bbl_df.head(4)"
   ]
  },
  {
   "cell_type": "code",
   "execution_count": null,
   "metadata": {
    "id": "v89-aEvR1qox"
   },
   "outputs": [],
   "source": [
    "# list(bbl_df.columns)"
   ]
  },
  {
   "cell_type": "code",
   "execution_count": 15,
   "metadata": {
    "colab": {
     "base_uri": "https://localhost:8080/"
    },
    "id": "S964sKcR2CJF",
    "outputId": "ec3c476a-d6f5-4276-e90e-144f808ba2ad"
   },
   "outputs": [
    {
     "data": {
      "text/plain": [
       "(76718, 22)"
      ]
     },
     "execution_count": 15,
     "metadata": {},
     "output_type": "execute_result"
    }
   ],
   "source": [
    "evictions_pre_post.shape\n",
    "# correct 20 - 2 + 4"
   ]
  },
  {
   "cell_type": "code",
   "execution_count": 17,
   "metadata": {
    "colab": {
     "base_uri": "https://localhost:8080/"
    },
    "id": "WouXZymk7yXL",
    "outputId": "1ed35dbf-80ff-4cd0-cd1b-9a77a2b2ea15"
   },
   "outputs": [
    {
     "data": {
      "text/plain": [
       "Index(['primary_key', 'court_index_number', 'docket_number',\n",
       "       'eviction_address', 'eviction_apartment_number', 'executed_date',\n",
       "       'borough', 'eviction_postcode', 'ejectment',\n",
       "       'eviction/legal_possession', 'latitude', 'longitude', 'community_board',\n",
       "       'council_district', 'census_tract', 'bin', 'bbl', 'nta', 'year',\n",
       "       'month_year', 'geometry', 'average_year_eviction_count'],\n",
       "      dtype='object')"
      ]
     },
     "execution_count": 17,
     "metadata": {},
     "output_type": "execute_result"
    }
   ],
   "source": [
    "evictions_pre_post.columns"
   ]
  },
  {
   "cell_type": "code",
   "execution_count": 18,
   "metadata": {
    "colab": {
     "base_uri": "https://localhost:8080/"
    },
    "id": "tp1pdm878FdK",
    "outputId": "08cb9e32-4e02-4eac-ca49-8af3dcec873e"
   },
   "outputs": [
    {
     "data": {
      "text/plain": [
       "False"
      ]
     },
     "execution_count": 18,
     "metadata": {},
     "output_type": "execute_result"
    }
   ],
   "source": [
    "'bin' in bbl_df.columns\n",
    "# therefore use bbl for merge"
   ]
  },
  {
   "cell_type": "code",
   "execution_count": 19,
   "metadata": {
    "colab": {
     "base_uri": "https://localhost:8080/",
     "height": 469
    },
    "id": "inwUBQf_5Qwg",
    "outputId": "0bad5965-37cb-48d9-e657-e8c5bc794d43"
   },
   "outputs": [
    {
     "data": {
      "application/vnd.google.colaboratory.intrinsic+json": {
       "type": "dataframe",
       "variable_name": "bbl_cleaned"
      },
      "text/html": [
       "\n",
       "  <div id=\"df-bafe76a1-c5dc-4855-bdbf-72bbc63bbd5f\" class=\"colab-df-container\">\n",
       "    <div>\n",
       "<style scoped>\n",
       "    .dataframe tbody tr th:only-of-type {\n",
       "        vertical-align: middle;\n",
       "    }\n",
       "\n",
       "    .dataframe tbody tr th {\n",
       "        vertical-align: top;\n",
       "    }\n",
       "\n",
       "    .dataframe thead th {\n",
       "        text-align: right;\n",
       "    }\n",
       "</style>\n",
       "<table border=\"1\" class=\"dataframe\">\n",
       "  <thead>\n",
       "    <tr style=\"text-align: right;\">\n",
       "      <th></th>\n",
       "      <th>bbl</th>\n",
       "      <th>yearbuilt</th>\n",
       "      <th>bldgclass</th>\n",
       "      <th>numfloors</th>\n",
       "      <th>unitsres</th>\n",
       "      <th>ownername</th>\n",
       "      <th>bldgarea</th>\n",
       "      <th>building_type</th>\n",
       "      <th>building_category</th>\n",
       "      <th>is_condo</th>\n",
       "      <th>floor_category</th>\n",
       "      <th>rent_era</th>\n",
       "      <th>architectural_style</th>\n",
       "      <th>economic_period</th>\n",
       "      <th>residential_units_category</th>\n",
       "      <th>is_llc</th>\n",
       "      <th>building_size_category</th>\n",
       "      <th>size_quartile</th>\n",
       "      <th>decade</th>\n",
       "    </tr>\n",
       "  </thead>\n",
       "  <tbody>\n",
       "    <tr>\n",
       "      <th>0</th>\n",
       "      <td>3083660222</td>\n",
       "      <td>2019.0</td>\n",
       "      <td>A5</td>\n",
       "      <td>2</td>\n",
       "      <td>1</td>\n",
       "      <td>EAST 69 AVENUE N DEVELOPMENT, LLC</td>\n",
       "      <td>1288.0</td>\n",
       "      <td>post-war</td>\n",
       "      <td>single-family</td>\n",
       "      <td>False</td>\n",
       "      <td>low-rise</td>\n",
       "      <td>1994–Present, vacancy decontrol</td>\n",
       "      <td>2001-present, New Architecture</td>\n",
       "      <td>2009–present, post-financial crisis</td>\n",
       "      <td>single-unit</td>\n",
       "      <td>True</td>\n",
       "      <td>very small</td>\n",
       "      <td>Q1 (smallest 25%)</td>\n",
       "      <td>2010-2020</td>\n",
       "    </tr>\n",
       "    <tr>\n",
       "      <th>1</th>\n",
       "      <td>3025710028</td>\n",
       "      <td>2018.0</td>\n",
       "      <td>A5</td>\n",
       "      <td>3</td>\n",
       "      <td>1</td>\n",
       "      <td>85 CALYER STREET LLC</td>\n",
       "      <td>3478.0</td>\n",
       "      <td>post-war</td>\n",
       "      <td>single-family</td>\n",
       "      <td>False</td>\n",
       "      <td>low-rise</td>\n",
       "      <td>1994–Present, vacancy decontrol</td>\n",
       "      <td>2001-present, New Architecture</td>\n",
       "      <td>2009–present, post-financial crisis</td>\n",
       "      <td>single-unit</td>\n",
       "      <td>True</td>\n",
       "      <td>medium-small</td>\n",
       "      <td>Q4 (largest 25%)</td>\n",
       "      <td>2010-2020</td>\n",
       "    </tr>\n",
       "    <tr>\n",
       "      <th>2</th>\n",
       "      <td>3031970008</td>\n",
       "      <td>1931.0</td>\n",
       "      <td>S4</td>\n",
       "      <td>3</td>\n",
       "      <td>4</td>\n",
       "      <td>SERLIN BUILDING LIMITED PARTNERSHIP</td>\n",
       "      <td>4125.0</td>\n",
       "      <td>pre-war</td>\n",
       "      <td>primarily_res_with_mixed_use</td>\n",
       "      <td>False</td>\n",
       "      <td>low-rise</td>\n",
       "      <td>Pre-1947, pre-rent-control</td>\n",
       "      <td>1931–1950, Manhattan Modern</td>\n",
       "      <td>1930-1945, great depression and WWII</td>\n",
       "      <td>3-5 units</td>\n",
       "      <td>False</td>\n",
       "      <td>medium-small</td>\n",
       "      <td>Q4 (largest 25%)</td>\n",
       "      <td>1930-1939</td>\n",
       "    </tr>\n",
       "    <tr>\n",
       "      <th>3</th>\n",
       "      <td>4000520007</td>\n",
       "      <td>1958.0</td>\n",
       "      <td>C1</td>\n",
       "      <td>5</td>\n",
       "      <td>7</td>\n",
       "      <td>TRIBECA TREASURES, LLC</td>\n",
       "      <td>7416.0</td>\n",
       "      <td>post-war</td>\n",
       "      <td>walk-up</td>\n",
       "      <td>False</td>\n",
       "      <td>mid-rise</td>\n",
       "      <td>1947–1969, rent-control</td>\n",
       "      <td>1951–1980, the International Style, Alternativ...</td>\n",
       "      <td>1946–1975, pst war economic boom</td>\n",
       "      <td>6-20 units</td>\n",
       "      <td>True</td>\n",
       "      <td>medium</td>\n",
       "      <td>Q4 (largest 25%)</td>\n",
       "      <td>1950-1959</td>\n",
       "    </tr>\n",
       "    <tr>\n",
       "      <th>4</th>\n",
       "      <td>3067140055</td>\n",
       "      <td>1931.0</td>\n",
       "      <td>C3</td>\n",
       "      <td>2</td>\n",
       "      <td>4</td>\n",
       "      <td>RAMBOD, SHAHROKH</td>\n",
       "      <td>2112.0</td>\n",
       "      <td>pre-war</td>\n",
       "      <td>walk-up</td>\n",
       "      <td>False</td>\n",
       "      <td>low-rise</td>\n",
       "      <td>Pre-1947, pre-rent-control</td>\n",
       "      <td>1931–1950, Manhattan Modern</td>\n",
       "      <td>1930-1945, great depression and WWII</td>\n",
       "      <td>3-5 units</td>\n",
       "      <td>False</td>\n",
       "      <td>small</td>\n",
       "      <td>Q3 (50-75%)</td>\n",
       "      <td>1930-1939</td>\n",
       "    </tr>\n",
       "  </tbody>\n",
       "</table>\n",
       "</div>\n",
       "    <div class=\"colab-df-buttons\">\n",
       "\n",
       "  <div class=\"colab-df-container\">\n",
       "    <button class=\"colab-df-convert\" onclick=\"convertToInteractive('df-bafe76a1-c5dc-4855-bdbf-72bbc63bbd5f')\"\n",
       "            title=\"Convert this dataframe to an interactive table.\"\n",
       "            style=\"display:none;\">\n",
       "\n",
       "  <svg xmlns=\"http://www.w3.org/2000/svg\" height=\"24px\" viewBox=\"0 -960 960 960\">\n",
       "    <path d=\"M120-120v-720h720v720H120Zm60-500h600v-160H180v160Zm220 220h160v-160H400v160Zm0 220h160v-160H400v160ZM180-400h160v-160H180v160Zm440 0h160v-160H620v160ZM180-180h160v-160H180v160Zm440 0h160v-160H620v160Z\"/>\n",
       "  </svg>\n",
       "    </button>\n",
       "\n",
       "  <style>\n",
       "    .colab-df-container {\n",
       "      display:flex;\n",
       "      gap: 12px;\n",
       "    }\n",
       "\n",
       "    .colab-df-convert {\n",
       "      background-color: #E8F0FE;\n",
       "      border: none;\n",
       "      border-radius: 50%;\n",
       "      cursor: pointer;\n",
       "      display: none;\n",
       "      fill: #1967D2;\n",
       "      height: 32px;\n",
       "      padding: 0 0 0 0;\n",
       "      width: 32px;\n",
       "    }\n",
       "\n",
       "    .colab-df-convert:hover {\n",
       "      background-color: #E2EBFA;\n",
       "      box-shadow: 0px 1px 2px rgba(60, 64, 67, 0.3), 0px 1px 3px 1px rgba(60, 64, 67, 0.15);\n",
       "      fill: #174EA6;\n",
       "    }\n",
       "\n",
       "    .colab-df-buttons div {\n",
       "      margin-bottom: 4px;\n",
       "    }\n",
       "\n",
       "    [theme=dark] .colab-df-convert {\n",
       "      background-color: #3B4455;\n",
       "      fill: #D2E3FC;\n",
       "    }\n",
       "\n",
       "    [theme=dark] .colab-df-convert:hover {\n",
       "      background-color: #434B5C;\n",
       "      box-shadow: 0px 1px 3px 1px rgba(0, 0, 0, 0.15);\n",
       "      filter: drop-shadow(0px 1px 2px rgba(0, 0, 0, 0.3));\n",
       "      fill: #FFFFFF;\n",
       "    }\n",
       "  </style>\n",
       "\n",
       "    <script>\n",
       "      const buttonEl =\n",
       "        document.querySelector('#df-bafe76a1-c5dc-4855-bdbf-72bbc63bbd5f button.colab-df-convert');\n",
       "      buttonEl.style.display =\n",
       "        google.colab.kernel.accessAllowed ? 'block' : 'none';\n",
       "\n",
       "      async function convertToInteractive(key) {\n",
       "        const element = document.querySelector('#df-bafe76a1-c5dc-4855-bdbf-72bbc63bbd5f');\n",
       "        const dataTable =\n",
       "          await google.colab.kernel.invokeFunction('convertToInteractive',\n",
       "                                                    [key], {});\n",
       "        if (!dataTable) return;\n",
       "\n",
       "        const docLinkHtml = 'Like what you see? Visit the ' +\n",
       "          '<a target=\"_blank\" href=https://colab.research.google.com/notebooks/data_table.ipynb>data table notebook</a>'\n",
       "          + ' to learn more about interactive tables.';\n",
       "        element.innerHTML = '';\n",
       "        dataTable['output_type'] = 'display_data';\n",
       "        await google.colab.output.renderOutput(dataTable, element);\n",
       "        const docLink = document.createElement('div');\n",
       "        docLink.innerHTML = docLinkHtml;\n",
       "        element.appendChild(docLink);\n",
       "      }\n",
       "    </script>\n",
       "  </div>\n",
       "\n",
       "\n",
       "<div id=\"df-a1f9430c-fbe5-40e6-913f-3267419c895b\">\n",
       "  <button class=\"colab-df-quickchart\" onclick=\"quickchart('df-a1f9430c-fbe5-40e6-913f-3267419c895b')\"\n",
       "            title=\"Suggest charts\"\n",
       "            style=\"display:none;\">\n",
       "\n",
       "<svg xmlns=\"http://www.w3.org/2000/svg\" height=\"24px\"viewBox=\"0 0 24 24\"\n",
       "     width=\"24px\">\n",
       "    <g>\n",
       "        <path d=\"M19 3H5c-1.1 0-2 .9-2 2v14c0 1.1.9 2 2 2h14c1.1 0 2-.9 2-2V5c0-1.1-.9-2-2-2zM9 17H7v-7h2v7zm4 0h-2V7h2v10zm4 0h-2v-4h2v4z\"/>\n",
       "    </g>\n",
       "</svg>\n",
       "  </button>\n",
       "\n",
       "<style>\n",
       "  .colab-df-quickchart {\n",
       "      --bg-color: #E8F0FE;\n",
       "      --fill-color: #1967D2;\n",
       "      --hover-bg-color: #E2EBFA;\n",
       "      --hover-fill-color: #174EA6;\n",
       "      --disabled-fill-color: #AAA;\n",
       "      --disabled-bg-color: #DDD;\n",
       "  }\n",
       "\n",
       "  [theme=dark] .colab-df-quickchart {\n",
       "      --bg-color: #3B4455;\n",
       "      --fill-color: #D2E3FC;\n",
       "      --hover-bg-color: #434B5C;\n",
       "      --hover-fill-color: #FFFFFF;\n",
       "      --disabled-bg-color: #3B4455;\n",
       "      --disabled-fill-color: #666;\n",
       "  }\n",
       "\n",
       "  .colab-df-quickchart {\n",
       "    background-color: var(--bg-color);\n",
       "    border: none;\n",
       "    border-radius: 50%;\n",
       "    cursor: pointer;\n",
       "    display: none;\n",
       "    fill: var(--fill-color);\n",
       "    height: 32px;\n",
       "    padding: 0;\n",
       "    width: 32px;\n",
       "  }\n",
       "\n",
       "  .colab-df-quickchart:hover {\n",
       "    background-color: var(--hover-bg-color);\n",
       "    box-shadow: 0 1px 2px rgba(60, 64, 67, 0.3), 0 1px 3px 1px rgba(60, 64, 67, 0.15);\n",
       "    fill: var(--button-hover-fill-color);\n",
       "  }\n",
       "\n",
       "  .colab-df-quickchart-complete:disabled,\n",
       "  .colab-df-quickchart-complete:disabled:hover {\n",
       "    background-color: var(--disabled-bg-color);\n",
       "    fill: var(--disabled-fill-color);\n",
       "    box-shadow: none;\n",
       "  }\n",
       "\n",
       "  .colab-df-spinner {\n",
       "    border: 2px solid var(--fill-color);\n",
       "    border-color: transparent;\n",
       "    border-bottom-color: var(--fill-color);\n",
       "    animation:\n",
       "      spin 1s steps(1) infinite;\n",
       "  }\n",
       "\n",
       "  @keyframes spin {\n",
       "    0% {\n",
       "      border-color: transparent;\n",
       "      border-bottom-color: var(--fill-color);\n",
       "      border-left-color: var(--fill-color);\n",
       "    }\n",
       "    20% {\n",
       "      border-color: transparent;\n",
       "      border-left-color: var(--fill-color);\n",
       "      border-top-color: var(--fill-color);\n",
       "    }\n",
       "    30% {\n",
       "      border-color: transparent;\n",
       "      border-left-color: var(--fill-color);\n",
       "      border-top-color: var(--fill-color);\n",
       "      border-right-color: var(--fill-color);\n",
       "    }\n",
       "    40% {\n",
       "      border-color: transparent;\n",
       "      border-right-color: var(--fill-color);\n",
       "      border-top-color: var(--fill-color);\n",
       "    }\n",
       "    60% {\n",
       "      border-color: transparent;\n",
       "      border-right-color: var(--fill-color);\n",
       "    }\n",
       "    80% {\n",
       "      border-color: transparent;\n",
       "      border-right-color: var(--fill-color);\n",
       "      border-bottom-color: var(--fill-color);\n",
       "    }\n",
       "    90% {\n",
       "      border-color: transparent;\n",
       "      border-bottom-color: var(--fill-color);\n",
       "    }\n",
       "  }\n",
       "</style>\n",
       "\n",
       "  <script>\n",
       "    async function quickchart(key) {\n",
       "      const quickchartButtonEl =\n",
       "        document.querySelector('#' + key + ' button');\n",
       "      quickchartButtonEl.disabled = true;  // To prevent multiple clicks.\n",
       "      quickchartButtonEl.classList.add('colab-df-spinner');\n",
       "      try {\n",
       "        const charts = await google.colab.kernel.invokeFunction(\n",
       "            'suggestCharts', [key], {});\n",
       "      } catch (error) {\n",
       "        console.error('Error during call to suggestCharts:', error);\n",
       "      }\n",
       "      quickchartButtonEl.classList.remove('colab-df-spinner');\n",
       "      quickchartButtonEl.classList.add('colab-df-quickchart-complete');\n",
       "    }\n",
       "    (() => {\n",
       "      let quickchartButtonEl =\n",
       "        document.querySelector('#df-a1f9430c-fbe5-40e6-913f-3267419c895b button');\n",
       "      quickchartButtonEl.style.display =\n",
       "        google.colab.kernel.accessAllowed ? 'block' : 'none';\n",
       "    })();\n",
       "  </script>\n",
       "</div>\n",
       "\n",
       "    </div>\n",
       "  </div>\n"
      ],
      "text/plain": [
       "          bbl  yearbuilt bldgclass  numfloors  unitsres  \\\n",
       "0  3083660222     2019.0        A5          2         1   \n",
       "1  3025710028     2018.0        A5          3         1   \n",
       "2  3031970008     1931.0        S4          3         4   \n",
       "3  4000520007     1958.0        C1          5         7   \n",
       "4  3067140055     1931.0        C3          2         4   \n",
       "\n",
       "                             ownername  bldgarea building_type  \\\n",
       "0    EAST 69 AVENUE N DEVELOPMENT, LLC    1288.0      post-war   \n",
       "1                 85 CALYER STREET LLC    3478.0      post-war   \n",
       "2  SERLIN BUILDING LIMITED PARTNERSHIP    4125.0       pre-war   \n",
       "3               TRIBECA TREASURES, LLC    7416.0      post-war   \n",
       "4                     RAMBOD, SHAHROKH    2112.0       pre-war   \n",
       "\n",
       "              building_category  is_condo floor_category  \\\n",
       "0                 single-family     False       low-rise   \n",
       "1                 single-family     False       low-rise   \n",
       "2  primarily_res_with_mixed_use     False       low-rise   \n",
       "3                       walk-up     False       mid-rise   \n",
       "4                       walk-up     False       low-rise   \n",
       "\n",
       "                          rent_era  \\\n",
       "0  1994–Present, vacancy decontrol   \n",
       "1  1994–Present, vacancy decontrol   \n",
       "2       Pre-1947, pre-rent-control   \n",
       "3          1947–1969, rent-control   \n",
       "4       Pre-1947, pre-rent-control   \n",
       "\n",
       "                                 architectural_style  \\\n",
       "0                     2001-present, New Architecture   \n",
       "1                     2001-present, New Architecture   \n",
       "2                        1931–1950, Manhattan Modern   \n",
       "3  1951–1980, the International Style, Alternativ...   \n",
       "4                        1931–1950, Manhattan Modern   \n",
       "\n",
       "                        economic_period residential_units_category  is_llc  \\\n",
       "0   2009–present, post-financial crisis                single-unit    True   \n",
       "1   2009–present, post-financial crisis                single-unit    True   \n",
       "2  1930-1945, great depression and WWII                  3-5 units   False   \n",
       "3      1946–1975, pst war economic boom                 6-20 units    True   \n",
       "4  1930-1945, great depression and WWII                  3-5 units   False   \n",
       "\n",
       "  building_size_category      size_quartile     decade  \n",
       "0             very small  Q1 (smallest 25%)  2010-2020  \n",
       "1           medium-small   Q4 (largest 25%)  2010-2020  \n",
       "2           medium-small   Q4 (largest 25%)  1930-1939  \n",
       "3                 medium   Q4 (largest 25%)  1950-1959  \n",
       "4                  small        Q3 (50-75%)  1930-1939  "
      ]
     },
     "execution_count": 19,
     "metadata": {},
     "output_type": "execute_result"
    }
   ],
   "source": [
    "# only check the relevant ones\n",
    "bbl_cleaned = bbl_df[['bbl', 'yearbuilt', 'bldgclass', 'numfloors', 'unitsres', 'ownername', 'bldgarea','building_type', 'building_category', 'is_condo', 'floor_category',\n",
    "           'rent_era', 'architectural_style', 'economic_period',\n",
    "           'residential_units_category', 'is_llc', 'building_size_category', 'size_quartile', 'decade']]\n",
    "bbl_cleaned.head()"
   ]
  },
  {
   "cell_type": "code",
   "execution_count": 20,
   "metadata": {
    "colab": {
     "base_uri": "https://localhost:8080/"
    },
    "id": "bOag11Ipe_nb",
    "outputId": "ae9dcd5e-f44c-416f-b982-39a7941ed7fa"
   },
   "outputs": [
    {
     "data": {
      "text/plain": [
       "752619"
      ]
     },
     "execution_count": 20,
     "metadata": {},
     "output_type": "execute_result"
    }
   ],
   "source": [
    "len(bbl_cleaned)"
   ]
  },
  {
   "cell_type": "code",
   "execution_count": 30,
   "metadata": {
    "colab": {
     "base_uri": "https://localhost:8080/"
    },
    "id": "1kprxZFp8qBm",
    "outputId": "1c4def41-f244-4139-fe1b-13b21f7c54b8"
   },
   "outputs": [
    {
     "data": {
      "text/plain": [
       "Index(['borough', 'block', 'lot', 'community board', 'census tract 2010',\n",
       "       'cb2010', 'schooldist', 'council district', 'postcode', 'firecomp',\n",
       "       'policeprct', 'healtharea', 'sanitboro', 'sanitsub', 'address',\n",
       "       'zonedist1', 'zonedist2', 'zonedist3', 'overlay1', 'overlay2',\n",
       "       'spdist1', 'ltdheight', 'splitzone', 'bldgclass', 'landuse',\n",
       "       'easements', 'ownertype', 'ownername', 'lotarea', 'bldgarea', 'comarea',\n",
       "       'resarea', 'officearea', 'retailarea', 'garagearea', 'strgearea',\n",
       "       'factryarea', 'otherarea', 'areasource', 'numbldgs', 'numfloors',\n",
       "       'unitsres', 'unitstotal', 'lotfront', 'lotdepth', 'bldgfront',\n",
       "       'bldgdepth', 'ext', 'proxcode', 'irrlotcode', 'lottype', 'bsmtcode',\n",
       "       'assessland', 'assesstot', 'exempttot', 'yearbuilt', 'yearalter1',\n",
       "       'yearalter2', 'histdist', 'landmark', 'builtfar', 'residfar', 'commfar',\n",
       "       'facilfar', 'borocode', 'bbl', 'condono', 'tract2010', 'xcoord',\n",
       "       'ycoord', 'latitude', 'longitude', 'zonemap', 'zmcode', 'sanborn',\n",
       "       'taxmap', 'appbbl', 'appdate', 'plutomapid', 'version', 'sanitdistrict',\n",
       "       'healthcenterdistrict', 'firm07_flag', 'pfirm15_flag', 'dcpedited',\n",
       "       'building_category', 'building_type', 'is_condo', 'floor_category',\n",
       "       'rent_era', 'architectural_style', 'economic_period',\n",
       "       'residential_units_category', 'is_llc', 'building_size_category',\n",
       "       'size_quartile', 'decade'],\n",
       "      dtype='object')"
      ]
     },
     "execution_count": 30,
     "metadata": {},
     "output_type": "execute_result"
    }
   ],
   "source": [
    "bbl_df.columns"
   ]
  },
  {
   "cell_type": "code",
   "execution_count": 34,
   "metadata": {
    "colab": {
     "base_uri": "https://localhost:8080/"
    },
    "id": "bsd1Dkav9PE0",
    "outputId": "8ba0a65a-3fa1-40ae-f1ae-987826254d99"
   },
   "outputs": [
    {
     "data": {
      "text/plain": [
       "Index(['primary_key', 'court_index_number', 'docket_number',\n",
       "       'eviction_address', 'eviction_apartment_number', 'executed_date',\n",
       "       'borough', 'eviction_postcode', 'ejectment',\n",
       "       'eviction/legal_possession', 'latitude', 'longitude', 'community_board',\n",
       "       'council_district', 'census_tract', 'bin', 'bbl', 'nta', 'year',\n",
       "       'month_year', 'geometry', 'average_year_eviction_count'],\n",
       "      dtype='object')"
      ]
     },
     "execution_count": 34,
     "metadata": {},
     "output_type": "execute_result"
    }
   ],
   "source": [
    "evictions_pre_post.columns"
   ]
  },
  {
   "cell_type": "code",
   "execution_count": 36,
   "metadata": {
    "colab": {
     "base_uri": "https://localhost:8080/"
    },
    "id": "_rwsaS9l8Urj",
    "outputId": "139e00a1-3d7c-48bf-a21f-6259756e2a84"
   },
   "outputs": [
    {
     "data": {
      "text/plain": [
       "(dtype('int64'), dtype('int64'), 752619, 36029, 183, 752619, 204)"
      ]
     },
     "execution_count": 36,
     "metadata": {},
     "output_type": "execute_result"
    }
   ],
   "source": [
    "bbl_cleaned.bbl.dtype, evictions_pre_post.bbl.dtype, len(bbl_cleaned.bbl.unique()), len(evictions_pre_post.bin.unique()), \\\n",
    "len(bbl_df.postcode.unique()), len(bbl_df.bbl.unique()), len(evictions_pre_post.eviction_postcode.unique())\n",
    "# cleaned\n",
    "# makes sense to use bbl as merge base"
   ]
  },
  {
   "cell_type": "code",
   "execution_count": 37,
   "metadata": {
    "colab": {
     "base_uri": "https://localhost:8080/"
    },
    "id": "ZF2wR6koKnoJ",
    "outputId": "71221ee5-641e-4fd3-e417-ecea175b2fe5"
   },
   "outputs": [
    {
     "data": {
      "text/plain": [
       "(numpy.int64, numpy.int64)"
      ]
     },
     "execution_count": 37,
     "metadata": {},
     "output_type": "execute_result"
    }
   ],
   "source": [
    "type(evictions_pre_post['bbl'][0]), type(bbl_cleaned['bbl'][0])"
   ]
  },
  {
   "cell_type": "code",
   "execution_count": 77,
   "metadata": {
    "colab": {
     "base_uri": "https://localhost:8080/"
    },
    "id": "MGSbIe4e3fXO",
    "outputId": "ef2db35a-77c5-4664-bea4-628ac24fd6c2"
   },
   "outputs": [
    {
     "data": {
      "text/plain": [
       "(str, str)"
      ]
     },
     "execution_count": 77,
     "metadata": {},
     "output_type": "execute_result"
    }
   ],
   "source": [
    "# convert both to strings\n",
    "# not necesssary, as they both have been int\n",
    "evictions_pre_post['bbl'] = evictions_pre_post['bbl'].astype(str)\n",
    "bbl_cleaned['bbl'] = bbl_cleaned['bbl'].astype(str)\n",
    "type(evictions_pre_post['bbl'][0]), type(bbl_cleaned['bbl'][0])"
   ]
  },
  {
   "cell_type": "code",
   "execution_count": 78,
   "metadata": {
    "colab": {
     "base_uri": "https://localhost:8080/"
    },
    "id": "a88K-2vI8cZ_",
    "outputId": "eea6e36a-3749-482c-ac31-8588e68178c8"
   },
   "outputs": [
    {
     "name": "stdout",
     "output_type": "stream",
     "text": [
      "evictions data unique bbls: 33766\n",
      "building data unqiue bbls: 752619\n",
      "number of common bbls: 32379\n",
      "percentage of eviction bbls found in building data: 95.89%\n"
     ]
    }
   ],
   "source": [
    "# use set to check common ones\n",
    "eviction_bbls = set(evictions_pre_post['bbl'])\n",
    "building_bbls = set(bbl_cleaned['bbl'])\n",
    "common_bbls = eviction_bbls.intersection(building_bbls)\n",
    "print(f\"evictions data unique bbls: {len(eviction_bbls)}\")\n",
    "print(f\"building data unqiue bbls: {len(building_bbls)}\")\n",
    "print(f\"number of common bbls: {len(common_bbls)}\")\n",
    "print(f\"percentage of eviction bbls found in building data: {len(common_bbls)/len(eviction_bbls)*100:.2f}%\")\n",
    "# so, at first, there were no common ones"
   ]
  },
  {
   "cell_type": "code",
   "execution_count": 79,
   "metadata": {
    "colab": {
     "base_uri": "https://localhost:8080/"
    },
    "id": "6OGzJDn09Act",
    "outputId": "546606c2-a915-4a97-8511-e5b112f47860"
   },
   "outputs": [
    {
     "name": "stdout",
     "output_type": "stream",
     "text": [
      "eveiction bbls:  ['3037420029', '3057940012', '3057820030', '2032510420', '2025770038', '2031770041', '2033020071', '2030500008', '3040560040', '3087110015']\n",
      "building bbls:  ['3083660222', '3025710028', '3031970008', '4000520007', '3067140055', '3032840022', '3079650040', '4101330113', '3082137501', '4007030017']\n"
     ]
    }
   ],
   "source": [
    "print(\"eveiction bbls: \", evictions_pre_post['bbl'].head(10).tolist())\n",
    "print(\"building bbls: \", bbl_cleaned['bbl'].head(10).tolist())\n",
    "# same length and same type of bbls."
   ]
  },
  {
   "cell_type": "code",
   "execution_count": 80,
   "metadata": {
    "colab": {
     "base_uri": "https://localhost:8080/"
    },
    "id": "CFCiZpVj52ih",
    "outputId": "b93574c1-e82e-4d26-c895-1ab41e9f51b7"
   },
   "outputs": [
    {
     "name": "stdout",
     "output_type": "stream",
     "text": [
      "evictions BBL string length: bbl\n",
      "10    76715\n",
      "Name: count, dtype: int64\n",
      "building BBL string length: bbl\n",
      "10    752619\n",
      "Name: count, dtype: int64\n"
     ]
    }
   ],
   "source": [
    "print(\"evictions BBL string length:\", evictions_pre_post['bbl'].str.len().value_counts())\n",
    "print(\"building BBL string length:\", bbl_cleaned['bbl'].str.len().value_counts())"
   ]
  },
  {
   "cell_type": "code",
   "execution_count": 81,
   "metadata": {
    "colab": {
     "base_uri": "https://localhost:8080/",
     "height": 109
    },
    "id": "1vCNPzTZAY0V",
    "outputId": "5441e5fe-a80d-42d1-843e-7e1e356fb3c9"
   },
   "outputs": [
    {
     "data": {
      "application/vnd.google.colaboratory.intrinsic+json": {
       "type": "dataframe",
       "variable_name": "length_1_bbls"
      },
      "text/html": [
       "\n",
       "  <div id=\"df-f9b12186-651f-4120-8632-6bdba6c869c4\" class=\"colab-df-container\">\n",
       "    <div>\n",
       "<style scoped>\n",
       "    .dataframe tbody tr th:only-of-type {\n",
       "        vertical-align: middle;\n",
       "    }\n",
       "\n",
       "    .dataframe tbody tr th {\n",
       "        vertical-align: top;\n",
       "    }\n",
       "\n",
       "    .dataframe thead th {\n",
       "        text-align: right;\n",
       "    }\n",
       "</style>\n",
       "<table border=\"1\" class=\"dataframe\">\n",
       "  <thead>\n",
       "    <tr style=\"text-align: right;\">\n",
       "      <th></th>\n",
       "      <th>primary_key</th>\n",
       "      <th>court_index_number</th>\n",
       "      <th>docket_number</th>\n",
       "      <th>eviction_address</th>\n",
       "      <th>eviction_apartment_number</th>\n",
       "      <th>executed_date</th>\n",
       "      <th>borough</th>\n",
       "      <th>eviction_postcode</th>\n",
       "      <th>ejectment</th>\n",
       "      <th>eviction/legal_possession</th>\n",
       "      <th>...</th>\n",
       "      <th>community_board</th>\n",
       "      <th>council_district</th>\n",
       "      <th>census_tract</th>\n",
       "      <th>bin</th>\n",
       "      <th>bbl</th>\n",
       "      <th>nta</th>\n",
       "      <th>year</th>\n",
       "      <th>month_year</th>\n",
       "      <th>geometry</th>\n",
       "      <th>average_year_eviction_count</th>\n",
       "    </tr>\n",
       "  </thead>\n",
       "  <tbody>\n",
       "  </tbody>\n",
       "</table>\n",
       "<p>0 rows × 22 columns</p>\n",
       "</div>\n",
       "    <div class=\"colab-df-buttons\">\n",
       "\n",
       "  <div class=\"colab-df-container\">\n",
       "    <button class=\"colab-df-convert\" onclick=\"convertToInteractive('df-f9b12186-651f-4120-8632-6bdba6c869c4')\"\n",
       "            title=\"Convert this dataframe to an interactive table.\"\n",
       "            style=\"display:none;\">\n",
       "\n",
       "  <svg xmlns=\"http://www.w3.org/2000/svg\" height=\"24px\" viewBox=\"0 -960 960 960\">\n",
       "    <path d=\"M120-120v-720h720v720H120Zm60-500h600v-160H180v160Zm220 220h160v-160H400v160Zm0 220h160v-160H400v160ZM180-400h160v-160H180v160Zm440 0h160v-160H620v160ZM180-180h160v-160H180v160Zm440 0h160v-160H620v160Z\"/>\n",
       "  </svg>\n",
       "    </button>\n",
       "\n",
       "  <style>\n",
       "    .colab-df-container {\n",
       "      display:flex;\n",
       "      gap: 12px;\n",
       "    }\n",
       "\n",
       "    .colab-df-convert {\n",
       "      background-color: #E8F0FE;\n",
       "      border: none;\n",
       "      border-radius: 50%;\n",
       "      cursor: pointer;\n",
       "      display: none;\n",
       "      fill: #1967D2;\n",
       "      height: 32px;\n",
       "      padding: 0 0 0 0;\n",
       "      width: 32px;\n",
       "    }\n",
       "\n",
       "    .colab-df-convert:hover {\n",
       "      background-color: #E2EBFA;\n",
       "      box-shadow: 0px 1px 2px rgba(60, 64, 67, 0.3), 0px 1px 3px 1px rgba(60, 64, 67, 0.15);\n",
       "      fill: #174EA6;\n",
       "    }\n",
       "\n",
       "    .colab-df-buttons div {\n",
       "      margin-bottom: 4px;\n",
       "    }\n",
       "\n",
       "    [theme=dark] .colab-df-convert {\n",
       "      background-color: #3B4455;\n",
       "      fill: #D2E3FC;\n",
       "    }\n",
       "\n",
       "    [theme=dark] .colab-df-convert:hover {\n",
       "      background-color: #434B5C;\n",
       "      box-shadow: 0px 1px 3px 1px rgba(0, 0, 0, 0.15);\n",
       "      filter: drop-shadow(0px 1px 2px rgba(0, 0, 0, 0.3));\n",
       "      fill: #FFFFFF;\n",
       "    }\n",
       "  </style>\n",
       "\n",
       "    <script>\n",
       "      const buttonEl =\n",
       "        document.querySelector('#df-f9b12186-651f-4120-8632-6bdba6c869c4 button.colab-df-convert');\n",
       "      buttonEl.style.display =\n",
       "        google.colab.kernel.accessAllowed ? 'block' : 'none';\n",
       "\n",
       "      async function convertToInteractive(key) {\n",
       "        const element = document.querySelector('#df-f9b12186-651f-4120-8632-6bdba6c869c4');\n",
       "        const dataTable =\n",
       "          await google.colab.kernel.invokeFunction('convertToInteractive',\n",
       "                                                    [key], {});\n",
       "        if (!dataTable) return;\n",
       "\n",
       "        const docLinkHtml = 'Like what you see? Visit the ' +\n",
       "          '<a target=\"_blank\" href=https://colab.research.google.com/notebooks/data_table.ipynb>data table notebook</a>'\n",
       "          + ' to learn more about interactive tables.';\n",
       "        element.innerHTML = '';\n",
       "        dataTable['output_type'] = 'display_data';\n",
       "        await google.colab.output.renderOutput(dataTable, element);\n",
       "        const docLink = document.createElement('div');\n",
       "        docLink.innerHTML = docLinkHtml;\n",
       "        element.appendChild(docLink);\n",
       "      }\n",
       "    </script>\n",
       "  </div>\n",
       "\n",
       "\n",
       "  <div id=\"id_384bbe33-92c4-430f-9cc2-9adc3a823638\">\n",
       "    <style>\n",
       "      .colab-df-generate {\n",
       "        background-color: #E8F0FE;\n",
       "        border: none;\n",
       "        border-radius: 50%;\n",
       "        cursor: pointer;\n",
       "        display: none;\n",
       "        fill: #1967D2;\n",
       "        height: 32px;\n",
       "        padding: 0 0 0 0;\n",
       "        width: 32px;\n",
       "      }\n",
       "\n",
       "      .colab-df-generate:hover {\n",
       "        background-color: #E2EBFA;\n",
       "        box-shadow: 0px 1px 2px rgba(60, 64, 67, 0.3), 0px 1px 3px 1px rgba(60, 64, 67, 0.15);\n",
       "        fill: #174EA6;\n",
       "      }\n",
       "\n",
       "      [theme=dark] .colab-df-generate {\n",
       "        background-color: #3B4455;\n",
       "        fill: #D2E3FC;\n",
       "      }\n",
       "\n",
       "      [theme=dark] .colab-df-generate:hover {\n",
       "        background-color: #434B5C;\n",
       "        box-shadow: 0px 1px 3px 1px rgba(0, 0, 0, 0.15);\n",
       "        filter: drop-shadow(0px 1px 2px rgba(0, 0, 0, 0.3));\n",
       "        fill: #FFFFFF;\n",
       "      }\n",
       "    </style>\n",
       "    <button class=\"colab-df-generate\" onclick=\"generateWithVariable('length_1_bbls')\"\n",
       "            title=\"Generate code using this dataframe.\"\n",
       "            style=\"display:none;\">\n",
       "\n",
       "  <svg xmlns=\"http://www.w3.org/2000/svg\" height=\"24px\"viewBox=\"0 0 24 24\"\n",
       "       width=\"24px\">\n",
       "    <path d=\"M7,19H8.4L18.45,9,17,7.55,7,17.6ZM5,21V16.75L18.45,3.32a2,2,0,0,1,2.83,0l1.4,1.43a1.91,1.91,0,0,1,.58,1.4,1.91,1.91,0,0,1-.58,1.4L9.25,21ZM18.45,9,17,7.55Zm-12,3A5.31,5.31,0,0,0,4.9,8.1,5.31,5.31,0,0,0,1,6.5,5.31,5.31,0,0,0,4.9,4.9,5.31,5.31,0,0,0,6.5,1,5.31,5.31,0,0,0,8.1,4.9,5.31,5.31,0,0,0,12,6.5,5.46,5.46,0,0,0,6.5,12Z\"/>\n",
       "  </svg>\n",
       "    </button>\n",
       "    <script>\n",
       "      (() => {\n",
       "      const buttonEl =\n",
       "        document.querySelector('#id_384bbe33-92c4-430f-9cc2-9adc3a823638 button.colab-df-generate');\n",
       "      buttonEl.style.display =\n",
       "        google.colab.kernel.accessAllowed ? 'block' : 'none';\n",
       "\n",
       "      buttonEl.onclick = () => {\n",
       "        google.colab.notebook.generateWithVariable('length_1_bbls');\n",
       "      }\n",
       "      })();\n",
       "    </script>\n",
       "  </div>\n",
       "\n",
       "    </div>\n",
       "  </div>\n"
      ],
      "text/plain": [
       "Empty DataFrame\n",
       "Columns: [primary_key, court_index_number, docket_number, eviction_address, eviction_apartment_number, executed_date, borough, eviction_postcode, ejectment, eviction/legal_possession, latitude, longitude, community_board, council_district, census_tract, bin, bbl, nta, year, month_year, geometry, average_year_eviction_count]\n",
       "Index: []\n",
       "\n",
       "[0 rows x 22 columns]"
      ]
     },
     "execution_count": 81,
     "metadata": {},
     "output_type": "execute_result"
    }
   ],
   "source": [
    "evictions_pre_post['bbl'] = evictions_pre_post['bbl'].astype(str)\n",
    "length_1_bbls = evictions_pre_post[evictions_pre_post['bbl'].str.len() == 1]\n",
    "length_1_bbls\n",
    "# these evictions' bbl is 0. Will remove them, as they were not properly recorded and there were only 3 of them."
   ]
  },
  {
   "cell_type": "code",
   "execution_count": 82,
   "metadata": {
    "id": "YJbLmwn5A4p3"
   },
   "outputs": [],
   "source": [
    "evictions_pre_post = evictions_pre_post[evictions_pre_post['bbl'] != '0']"
   ]
  },
  {
   "cell_type": "code",
   "execution_count": 83,
   "metadata": {
    "id": "5huJKh1WnePH"
   },
   "outputs": [],
   "source": [
    "# no longer necessary\n",
    "# def clean_bbl(bbl_val):\n",
    "#     bbl_as_string = str(bbl_val)\n",
    "#     digits_only = \"\"\n",
    "#     for character in bbl_as_string:\n",
    "#         if character.isdigit():\n",
    "#             digits_only = digits_only + character\n",
    "#     first_ten_digits = digits_only[:10]\n",
    "#     final_bbl = first_ten_digits.zfill(10)\n",
    "#     return final_bbl"
   ]
  },
  {
   "cell_type": "code",
   "execution_count": 84,
   "metadata": {
    "colab": {
     "base_uri": "https://localhost:8080/"
    },
    "id": "6kBBVAFnBErY",
    "outputId": "f2177a5e-e792-4ac1-bb11-b0353489798c"
   },
   "outputs": [
    {
     "data": {
      "text/plain": [
       "(np.int64(0), np.int64(0))"
      ]
     },
     "execution_count": 84,
     "metadata": {},
     "output_type": "execute_result"
    }
   ],
   "source": [
    "evictions_pre_post['bbl'].isna().sum(), bbl_cleaned['bbl'].isna().sum()"
   ]
  },
  {
   "cell_type": "code",
   "execution_count": 85,
   "metadata": {
    "colab": {
     "base_uri": "https://localhost:8080/"
    },
    "id": "bGRh6EiLPSUC",
    "outputId": "98f4aa1e-e2dd-4a88-e41c-3fc263ddebba"
   },
   "outputs": [
    {
     "data": {
      "text/plain": [
       "('number of common BBLs after thorough cleaning: 32379',\n",
       " 752619,\n",
       " 33766,\n",
       " 33766,\n",
       " 752619,\n",
       " 0.9589231771604573)"
      ]
     },
     "execution_count": 85,
     "metadata": {},
     "output_type": "execute_result"
    }
   ],
   "source": [
    "# evictions_pre_post['bbl_clean'] = evictions_pre_post['bbl'].apply(clean_bbl)\n",
    "# bbl_cleaned['bbl_clean'] = bbl_cleaned['bbl'].apply(clean_bbl)\n",
    "\n",
    "eviction_bbls_set = set(evictions_pre_post['bbl'])\n",
    "building_bbls_set = set(bbl_cleaned['bbl'])\n",
    "common_bbls_clean = eviction_bbls_set.intersection(building_bbls_set)\n",
    "\n",
    "f\"number of common BBLs after thorough cleaning: {len(common_bbls_clean)}\", \\\n",
    "len(bbl_cleaned['bbl'].unique()), len(evictions_pre_post['bbl'].unique()), \\\n",
    "len(set(evictions_pre_post['bbl'])), \\\n",
    "len(set(bbl_cleaned['bbl'])), \\\n",
    "32379/33766 # 95.89% common bbls, pretty good ratio of matched bbls in eviction data"
   ]
  },
  {
   "cell_type": "code",
   "execution_count": 75,
   "metadata": {
    "id": "KaonTGNyn1kT"
   },
   "outputs": [],
   "source": [
    "# len(evictions_pre_post['bbl']), \\\n",
    "# len(bbl_cleaned['bbl']), \\\n",
    "# # 33766 should be the number we aim for common bbls"
   ]
  },
  {
   "cell_type": "code",
   "execution_count": 87,
   "metadata": {
    "id": "wq_Tg9syoBcU"
   },
   "outputs": [],
   "source": [
    "evictions_pre_post['bbl'] = evictions_pre_post['bbl'].astype(str).str.strip()\n",
    "bbl_cleaned['bbl'] = bbl_cleaned['bbl'].astype(str).str.strip()\n",
    "# easy cleaning without functions"
   ]
  },
  {
   "cell_type": "code",
   "execution_count": 89,
   "metadata": {
    "colab": {
     "base_uri": "https://localhost:8080/"
    },
    "id": "bWP_oKY3oZtt",
    "outputId": "2c8bcf01-0900-4dd1-b180-a4eeeff6cd83"
   },
   "outputs": [
    {
     "name": "stdout",
     "output_type": "stream",
     "text": [
      "number of common bbl after standardization: 32379\n"
     ]
    }
   ],
   "source": [
    "eviction_bbls_std = set(evictions_pre_post['bbl'])\n",
    "building_bbls_std = set(bbl_cleaned['bbl'])\n",
    "common_bbls_std = eviction_bbls_std.intersection(building_bbls_std)\n",
    "print(f\"number of common bbl after standardization: {len(common_bbls_std)}\")"
   ]
  },
  {
   "cell_type": "code",
   "execution_count": 107,
   "metadata": {
    "colab": {
     "base_uri": "https://localhost:8080/"
    },
    "id": "2dHpVkcYDB99",
    "outputId": "5e60bc86-e64c-484f-ea30-ded2bcf06a2a"
   },
   "outputs": [
    {
     "data": {
      "text/plain": [
       "(182, 204)"
      ]
     },
     "execution_count": 107,
     "metadata": {},
     "output_type": "execute_result"
    }
   ],
   "source": [
    "bbl_df.postcode.nunique(), evictions_pre_post.eviction_postcode.nunique()"
   ]
  },
  {
   "cell_type": "code",
   "execution_count": 100,
   "metadata": {
    "colab": {
     "base_uri": "https://localhost:8080/"
    },
    "id": "67cDcmPSDSXh",
    "outputId": "4de90ec0-173b-4b4d-b1f2-a718c934c2a4"
   },
   "outputs": [
    {
     "data": {
      "text/plain": [
       "(dtype('float64'), dtype('int64'), np.int64(44), np.int64(0))"
      ]
     },
     "execution_count": 100,
     "metadata": {},
     "output_type": "execute_result"
    }
   ],
   "source": [
    "bbl_df.postcode.dtype, evictions_pre_post.eviction_postcode.dtype, \\\n",
    "bbl_df.postcode.isna().sum(), evictions_pre_post.eviction_postcode.isna().sum()"
   ]
  },
  {
   "cell_type": "markdown",
   "metadata": {
    "id": "xL3_tvkMGV0L"
   },
   "source": [
    "### **Of course, we could also merge on zipcodes, but bbl seems more fitting as bbl is a more granular unit of the records and doing so keeps more records. Once merged, we will still have the zipcode columns kept from evictions_pre_post dataframe. Therefore, it is safe to ignore the fact that bbl_df had some nan values in zipcodes. See the few cells below (before merge).**"
   ]
  },
  {
   "cell_type": "code",
   "execution_count": 101,
   "metadata": {
    "id": "ficDdz_jDha9"
   },
   "outputs": [],
   "source": [
    "bbl_df_copy = bbl_df.copy()"
   ]
  },
  {
   "cell_type": "code",
   "execution_count": 102,
   "metadata": {
    "id": "O5LF7DPJFtlh"
   },
   "outputs": [],
   "source": [
    "bbl_df_copy = bbl_df_copy.dropna(subset=['postcode'])"
   ]
  },
  {
   "cell_type": "code",
   "execution_count": 104,
   "metadata": {
    "id": "DSygQRG4Dj0O"
   },
   "outputs": [],
   "source": [
    "bbl_df_copy = bbl_df_copy.dropna(subset=['postcode'])"
   ]
  },
  {
   "cell_type": "code",
   "execution_count": 109,
   "metadata": {
    "colab": {
     "base_uri": "https://localhost:8080/"
    },
    "id": "DDwaPPvsGBQM",
    "outputId": "fb2721a6-390f-4a80-a827-fc18bbcb82e7"
   },
   "outputs": [
    {
     "data": {
      "text/plain": [
       "((752575, 97), (752619, 19), True)"
      ]
     },
     "execution_count": 109,
     "metadata": {},
     "output_type": "execute_result"
    }
   ],
   "source": [
    "bbl_df_copy.shape, bbl_cleaned.shape, \\\n",
    "752619 > 752575"
   ]
  },
  {
   "cell_type": "code",
   "execution_count": 112,
   "metadata": {
    "id": "uLDpKA9_FwZf"
   },
   "outputs": [],
   "source": [
    "cleaned_merge = pd.merge(\n",
    "    evictions_pre_post,\n",
    "    bbl_cleaned[['bbl', 'yearbuilt', 'bldgclass', 'numfloors', 'unitsres', 'ownername', 'bldgarea','building_type', 'building_category',\n",
    "            'is_condo', 'floor_category','rent_era', 'architectural_style', 'economic_period', 'residential_units_category', 'is_llc',\n",
    "                 'building_size_category', 'size_quartile', 'decade']],\n",
    "    on='bbl',\n",
    "    how='left')"
   ]
  },
  {
   "cell_type": "code",
   "execution_count": 115,
   "metadata": {
    "colab": {
     "base_uri": "https://localhost:8080/"
    },
    "id": "OGzw9HhwGz23",
    "outputId": "e8624179-da68-479f-ccfc-8b032b8774c5"
   },
   "outputs": [
    {
     "data": {
      "text/plain": [
       "('number of non null building_type values in cleaned merge: 72551',\n",
       " 76715,\n",
       " 752619,\n",
       " 76715)"
      ]
     },
     "execution_count": 115,
     "metadata": {},
     "output_type": "execute_result"
    }
   ],
   "source": [
    "f\"number of non null building_type values in cleaned merge: {cleaned_merge['building_type'].notna().sum()}\", \\\n",
    "len(cleaned_merge), len(bbl_cleaned), len(evictions_pre_post)\n",
    "# there are way more buildings than the ones that had the evictions as expected\n",
    "# and the merged df keeps the same records as the eviction ones."
   ]
  },
  {
   "cell_type": "code",
   "execution_count": 119,
   "metadata": {
    "colab": {
     "base_uri": "https://localhost:8080/",
     "height": 452
    },
    "id": "4bHIo2Dnm-vY",
    "outputId": "4abf553a-77ae-4150-ec3a-692199021c25"
   },
   "outputs": [
    {
     "data": {
      "application/vnd.google.colaboratory.intrinsic+json": {
       "type": "dataframe"
      },
      "text/html": [
       "\n",
       "  <div id=\"df-f61ef226-cd46-4af5-a1ec-f78ac9919022\" class=\"colab-df-container\">\n",
       "    <div>\n",
       "<style scoped>\n",
       "    .dataframe tbody tr th:only-of-type {\n",
       "        vertical-align: middle;\n",
       "    }\n",
       "\n",
       "    .dataframe tbody tr th {\n",
       "        vertical-align: top;\n",
       "    }\n",
       "\n",
       "    .dataframe thead th {\n",
       "        text-align: right;\n",
       "    }\n",
       "</style>\n",
       "<table border=\"1\" class=\"dataframe\">\n",
       "  <thead>\n",
       "    <tr style=\"text-align: right;\">\n",
       "      <th></th>\n",
       "      <th>primary_key</th>\n",
       "      <th>court_index_number</th>\n",
       "      <th>docket_number</th>\n",
       "      <th>eviction_address</th>\n",
       "      <th>eviction_apartment_number</th>\n",
       "      <th>executed_date</th>\n",
       "      <th>borough</th>\n",
       "      <th>eviction_postcode</th>\n",
       "      <th>ejectment</th>\n",
       "      <th>eviction/legal_possession</th>\n",
       "      <th>latitude</th>\n",
       "      <th>longitude</th>\n",
       "      <th>community_board</th>\n",
       "      <th>council_district</th>\n",
       "      <th>census_tract</th>\n",
       "      <th>bin</th>\n",
       "      <th>bbl</th>\n",
       "      <th>nta</th>\n",
       "      <th>year</th>\n",
       "      <th>month_year</th>\n",
       "      <th>geometry</th>\n",
       "      <th>average_year_eviction_count</th>\n",
       "      <th>yearbuilt</th>\n",
       "      <th>bldgclass</th>\n",
       "      <th>numfloors</th>\n",
       "      <th>unitsres</th>\n",
       "      <th>ownername</th>\n",
       "      <th>bldgarea</th>\n",
       "      <th>building_type</th>\n",
       "      <th>building_category</th>\n",
       "      <th>is_condo</th>\n",
       "      <th>floor_category</th>\n",
       "      <th>rent_era</th>\n",
       "      <th>architectural_style</th>\n",
       "      <th>economic_period</th>\n",
       "      <th>residential_units_category</th>\n",
       "      <th>is_llc</th>\n",
       "      <th>building_size_category</th>\n",
       "      <th>size_quartile</th>\n",
       "      <th>decade</th>\n",
       "    </tr>\n",
       "  </thead>\n",
       "  <tbody>\n",
       "    <tr>\n",
       "      <th>0</th>\n",
       "      <td>*308072/22_5865</td>\n",
       "      <td>*308072/22</td>\n",
       "      <td>5865</td>\n",
       "      <td>356 MILLER AVE</td>\n",
       "      <td>1 AND BASEMENT</td>\n",
       "      <td>2024-12-04</td>\n",
       "      <td>BROOKLYN</td>\n",
       "      <td>11207</td>\n",
       "      <td>Not an Ejectment</td>\n",
       "      <td>Possession</td>\n",
       "      <td>40.672121</td>\n",
       "      <td>-73.891105</td>\n",
       "      <td>5.0</td>\n",
       "      <td>37.0</td>\n",
       "      <td>1152.0</td>\n",
       "      <td>3083989</td>\n",
       "      <td>3037420029</td>\n",
       "      <td>East New York</td>\n",
       "      <td>2024</td>\n",
       "      <td>2024-12</td>\n",
       "      <td>POINT (-73.891105 40.672121)</td>\n",
       "      <td>0.8</td>\n",
       "      <td>1930.0</td>\n",
       "      <td>C0</td>\n",
       "      <td>3.0</td>\n",
       "      <td>3.0</td>\n",
       "      <td>356 MILLER LLC</td>\n",
       "      <td>2700.0</td>\n",
       "      <td>pre-war</td>\n",
       "      <td>walk-up</td>\n",
       "      <td>False</td>\n",
       "      <td>low-rise</td>\n",
       "      <td>Pre-1947, pre-rent-control</td>\n",
       "      <td>1921–1930, Art Deco Skyscrapers</td>\n",
       "      <td>1930-1945, great depression and WWII</td>\n",
       "      <td>3-5 units</td>\n",
       "      <td>True</td>\n",
       "      <td>small</td>\n",
       "      <td>Q3 (50-75%)</td>\n",
       "      <td>1930-1939</td>\n",
       "    </tr>\n",
       "    <tr>\n",
       "      <th>1</th>\n",
       "      <td>*313639/23_5202</td>\n",
       "      <td>*313639/23</td>\n",
       "      <td>5202</td>\n",
       "      <td>710 61ST STREET</td>\n",
       "      <td>2ND FLOOR</td>\n",
       "      <td>2024-03-04</td>\n",
       "      <td>BROOKLYN</td>\n",
       "      <td>11220</td>\n",
       "      <td>Not an Ejectment</td>\n",
       "      <td>Possession</td>\n",
       "      <td>40.635941</td>\n",
       "      <td>-74.011883</td>\n",
       "      <td>7.0</td>\n",
       "      <td>38.0</td>\n",
       "      <td>118.0</td>\n",
       "      <td>3143881</td>\n",
       "      <td>3057940012</td>\n",
       "      <td>Sunset Park East</td>\n",
       "      <td>2024</td>\n",
       "      <td>2024-03</td>\n",
       "      <td>POINT (-74.011883 40.635941)</td>\n",
       "      <td>0.6</td>\n",
       "      <td>1920.0</td>\n",
       "      <td>B2</td>\n",
       "      <td>2.0</td>\n",
       "      <td>2.0</td>\n",
       "      <td>A.R.M. PARKING, LLC</td>\n",
       "      <td>1204.0</td>\n",
       "      <td>pre-war</td>\n",
       "      <td>two-family</td>\n",
       "      <td>False</td>\n",
       "      <td>low-rise</td>\n",
       "      <td>Pre-1947, pre-rent-control</td>\n",
       "      <td>1900–1920, Beaux-Arts</td>\n",
       "      <td>Pre-1929, pre-great depression</td>\n",
       "      <td>2-unit</td>\n",
       "      <td>True</td>\n",
       "      <td>very small</td>\n",
       "      <td>Q1 (smallest 25%)</td>\n",
       "      <td>1920-1929</td>\n",
       "    </tr>\n",
       "    <tr>\n",
       "      <th>2</th>\n",
       "      <td>*324973/22_5308</td>\n",
       "      <td>*324973/22</td>\n",
       "      <td>5308</td>\n",
       "      <td>462 60TH STREET</td>\n",
       "      <td>FOURTH FLOOR APT AKA</td>\n",
       "      <td>2024-08-13</td>\n",
       "      <td>BROOKLYN</td>\n",
       "      <td>11220</td>\n",
       "      <td>Not an Ejectment</td>\n",
       "      <td>Possession</td>\n",
       "      <td>40.640008</td>\n",
       "      <td>-74.017068</td>\n",
       "      <td>7.0</td>\n",
       "      <td>38.0</td>\n",
       "      <td>122.0</td>\n",
       "      <td>3143435</td>\n",
       "      <td>3057820030</td>\n",
       "      <td>Sunset Park West</td>\n",
       "      <td>2024</td>\n",
       "      <td>2024-08</td>\n",
       "      <td>POINT (-74.017068 40.640008)</td>\n",
       "      <td>0.6</td>\n",
       "      <td>1907.0</td>\n",
       "      <td>C3</td>\n",
       "      <td>4.0</td>\n",
       "      <td>4.0</td>\n",
       "      <td>LIN, RONG LAN</td>\n",
       "      <td>4800.0</td>\n",
       "      <td>pre-war</td>\n",
       "      <td>walk-up</td>\n",
       "      <td>False</td>\n",
       "      <td>mid-rise</td>\n",
       "      <td>Pre-1947, pre-rent-control</td>\n",
       "      <td>1900–1920, Beaux-Arts</td>\n",
       "      <td>Pre-1929, pre-great depression</td>\n",
       "      <td>3-5 units</td>\n",
       "      <td>False</td>\n",
       "      <td>medium-small</td>\n",
       "      <td>Q4 (largest 25%)</td>\n",
       "      <td>1900-1909</td>\n",
       "    </tr>\n",
       "    <tr>\n",
       "      <th>3</th>\n",
       "      <td>*53336/16_170279</td>\n",
       "      <td>*53336/16</td>\n",
       "      <td>170279</td>\n",
       "      <td>3400 PAUL AVENUE</td>\n",
       "      <td>15D</td>\n",
       "      <td>2018-10-17</td>\n",
       "      <td>BRONX</td>\n",
       "      <td>10468</td>\n",
       "      <td>Not an Ejectment</td>\n",
       "      <td>Possession</td>\n",
       "      <td>40.877190</td>\n",
       "      <td>-73.889569</td>\n",
       "      <td>7.0</td>\n",
       "      <td>11.0</td>\n",
       "      <td>409.0</td>\n",
       "      <td>2015444</td>\n",
       "      <td>2032510420</td>\n",
       "      <td>Van Cortlandt Village</td>\n",
       "      <td>2018</td>\n",
       "      <td>2018-10</td>\n",
       "      <td>POINT (-73.889569 40.87719)</td>\n",
       "      <td>0.8</td>\n",
       "      <td>1967.0</td>\n",
       "      <td>D4</td>\n",
       "      <td>21.0</td>\n",
       "      <td>352.0</td>\n",
       "      <td>SCOTT TOWER HOUSING CO INC</td>\n",
       "      <td>381213.0</td>\n",
       "      <td>post-war</td>\n",
       "      <td>condo-co-op</td>\n",
       "      <td>True</td>\n",
       "      <td>high-rise</td>\n",
       "      <td>1947–1969, rent-control</td>\n",
       "      <td>1951–1980, the International Style, Alternativ...</td>\n",
       "      <td>1946–1975, pst war economic boom</td>\n",
       "      <td>100+ units</td>\n",
       "      <td>False</td>\n",
       "      <td>mega</td>\n",
       "      <td>Q4 (largest 25%)</td>\n",
       "      <td>1960-1969</td>\n",
       "    </tr>\n",
       "    <tr>\n",
       "      <th>4</th>\n",
       "      <td>*5990/17_2703</td>\n",
       "      <td>*5990/17</td>\n",
       "      <td>2703</td>\n",
       "      <td>480 CONCORD AVENUE</td>\n",
       "      <td>4E</td>\n",
       "      <td>2019-08-30</td>\n",
       "      <td>BRONX</td>\n",
       "      <td>10455</td>\n",
       "      <td>Not an Ejectment</td>\n",
       "      <td>Possession</td>\n",
       "      <td>40.811197</td>\n",
       "      <td>-73.908810</td>\n",
       "      <td>1.0</td>\n",
       "      <td>8.0</td>\n",
       "      <td>35.0</td>\n",
       "      <td>2003900</td>\n",
       "      <td>2025770038</td>\n",
       "      <td>Mott Haven-Port Morris</td>\n",
       "      <td>2019</td>\n",
       "      <td>2019-08</td>\n",
       "      <td>POINT (-73.90881 40.811197)</td>\n",
       "      <td>1.6</td>\n",
       "      <td>1928.0</td>\n",
       "      <td>D7</td>\n",
       "      <td>6.0</td>\n",
       "      <td>65.0</td>\n",
       "      <td>480 CONCORD AVE OWNER LLC</td>\n",
       "      <td>69102.0</td>\n",
       "      <td>pre-war</td>\n",
       "      <td>elevator</td>\n",
       "      <td>False</td>\n",
       "      <td>mid-rise</td>\n",
       "      <td>Pre-1947, pre-rent-control</td>\n",
       "      <td>1921–1930, Art Deco Skyscrapers</td>\n",
       "      <td>Pre-1929, pre-great depression</td>\n",
       "      <td>21-100 units</td>\n",
       "      <td>True</td>\n",
       "      <td>very large</td>\n",
       "      <td>Q4 (largest 25%)</td>\n",
       "      <td>1920-1929</td>\n",
       "    </tr>\n",
       "  </tbody>\n",
       "</table>\n",
       "</div>\n",
       "    <div class=\"colab-df-buttons\">\n",
       "\n",
       "  <div class=\"colab-df-container\">\n",
       "    <button class=\"colab-df-convert\" onclick=\"convertToInteractive('df-f61ef226-cd46-4af5-a1ec-f78ac9919022')\"\n",
       "            title=\"Convert this dataframe to an interactive table.\"\n",
       "            style=\"display:none;\">\n",
       "\n",
       "  <svg xmlns=\"http://www.w3.org/2000/svg\" height=\"24px\" viewBox=\"0 -960 960 960\">\n",
       "    <path d=\"M120-120v-720h720v720H120Zm60-500h600v-160H180v160Zm220 220h160v-160H400v160Zm0 220h160v-160H400v160ZM180-400h160v-160H180v160Zm440 0h160v-160H620v160ZM180-180h160v-160H180v160Zm440 0h160v-160H620v160Z\"/>\n",
       "  </svg>\n",
       "    </button>\n",
       "\n",
       "  <style>\n",
       "    .colab-df-container {\n",
       "      display:flex;\n",
       "      gap: 12px;\n",
       "    }\n",
       "\n",
       "    .colab-df-convert {\n",
       "      background-color: #E8F0FE;\n",
       "      border: none;\n",
       "      border-radius: 50%;\n",
       "      cursor: pointer;\n",
       "      display: none;\n",
       "      fill: #1967D2;\n",
       "      height: 32px;\n",
       "      padding: 0 0 0 0;\n",
       "      width: 32px;\n",
       "    }\n",
       "\n",
       "    .colab-df-convert:hover {\n",
       "      background-color: #E2EBFA;\n",
       "      box-shadow: 0px 1px 2px rgba(60, 64, 67, 0.3), 0px 1px 3px 1px rgba(60, 64, 67, 0.15);\n",
       "      fill: #174EA6;\n",
       "    }\n",
       "\n",
       "    .colab-df-buttons div {\n",
       "      margin-bottom: 4px;\n",
       "    }\n",
       "\n",
       "    [theme=dark] .colab-df-convert {\n",
       "      background-color: #3B4455;\n",
       "      fill: #D2E3FC;\n",
       "    }\n",
       "\n",
       "    [theme=dark] .colab-df-convert:hover {\n",
       "      background-color: #434B5C;\n",
       "      box-shadow: 0px 1px 3px 1px rgba(0, 0, 0, 0.15);\n",
       "      filter: drop-shadow(0px 1px 2px rgba(0, 0, 0, 0.3));\n",
       "      fill: #FFFFFF;\n",
       "    }\n",
       "  </style>\n",
       "\n",
       "    <script>\n",
       "      const buttonEl =\n",
       "        document.querySelector('#df-f61ef226-cd46-4af5-a1ec-f78ac9919022 button.colab-df-convert');\n",
       "      buttonEl.style.display =\n",
       "        google.colab.kernel.accessAllowed ? 'block' : 'none';\n",
       "\n",
       "      async function convertToInteractive(key) {\n",
       "        const element = document.querySelector('#df-f61ef226-cd46-4af5-a1ec-f78ac9919022');\n",
       "        const dataTable =\n",
       "          await google.colab.kernel.invokeFunction('convertToInteractive',\n",
       "                                                    [key], {});\n",
       "        if (!dataTable) return;\n",
       "\n",
       "        const docLinkHtml = 'Like what you see? Visit the ' +\n",
       "          '<a target=\"_blank\" href=https://colab.research.google.com/notebooks/data_table.ipynb>data table notebook</a>'\n",
       "          + ' to learn more about interactive tables.';\n",
       "        element.innerHTML = '';\n",
       "        dataTable['output_type'] = 'display_data';\n",
       "        await google.colab.output.renderOutput(dataTable, element);\n",
       "        const docLink = document.createElement('div');\n",
       "        docLink.innerHTML = docLinkHtml;\n",
       "        element.appendChild(docLink);\n",
       "      }\n",
       "    </script>\n",
       "  </div>\n",
       "\n",
       "\n",
       "<div id=\"df-c7c31fea-f322-42e6-9176-a320629384cb\">\n",
       "  <button class=\"colab-df-quickchart\" onclick=\"quickchart('df-c7c31fea-f322-42e6-9176-a320629384cb')\"\n",
       "            title=\"Suggest charts\"\n",
       "            style=\"display:none;\">\n",
       "\n",
       "<svg xmlns=\"http://www.w3.org/2000/svg\" height=\"24px\"viewBox=\"0 0 24 24\"\n",
       "     width=\"24px\">\n",
       "    <g>\n",
       "        <path d=\"M19 3H5c-1.1 0-2 .9-2 2v14c0 1.1.9 2 2 2h14c1.1 0 2-.9 2-2V5c0-1.1-.9-2-2-2zM9 17H7v-7h2v7zm4 0h-2V7h2v10zm4 0h-2v-4h2v4z\"/>\n",
       "    </g>\n",
       "</svg>\n",
       "  </button>\n",
       "\n",
       "<style>\n",
       "  .colab-df-quickchart {\n",
       "      --bg-color: #E8F0FE;\n",
       "      --fill-color: #1967D2;\n",
       "      --hover-bg-color: #E2EBFA;\n",
       "      --hover-fill-color: #174EA6;\n",
       "      --disabled-fill-color: #AAA;\n",
       "      --disabled-bg-color: #DDD;\n",
       "  }\n",
       "\n",
       "  [theme=dark] .colab-df-quickchart {\n",
       "      --bg-color: #3B4455;\n",
       "      --fill-color: #D2E3FC;\n",
       "      --hover-bg-color: #434B5C;\n",
       "      --hover-fill-color: #FFFFFF;\n",
       "      --disabled-bg-color: #3B4455;\n",
       "      --disabled-fill-color: #666;\n",
       "  }\n",
       "\n",
       "  .colab-df-quickchart {\n",
       "    background-color: var(--bg-color);\n",
       "    border: none;\n",
       "    border-radius: 50%;\n",
       "    cursor: pointer;\n",
       "    display: none;\n",
       "    fill: var(--fill-color);\n",
       "    height: 32px;\n",
       "    padding: 0;\n",
       "    width: 32px;\n",
       "  }\n",
       "\n",
       "  .colab-df-quickchart:hover {\n",
       "    background-color: var(--hover-bg-color);\n",
       "    box-shadow: 0 1px 2px rgba(60, 64, 67, 0.3), 0 1px 3px 1px rgba(60, 64, 67, 0.15);\n",
       "    fill: var(--button-hover-fill-color);\n",
       "  }\n",
       "\n",
       "  .colab-df-quickchart-complete:disabled,\n",
       "  .colab-df-quickchart-complete:disabled:hover {\n",
       "    background-color: var(--disabled-bg-color);\n",
       "    fill: var(--disabled-fill-color);\n",
       "    box-shadow: none;\n",
       "  }\n",
       "\n",
       "  .colab-df-spinner {\n",
       "    border: 2px solid var(--fill-color);\n",
       "    border-color: transparent;\n",
       "    border-bottom-color: var(--fill-color);\n",
       "    animation:\n",
       "      spin 1s steps(1) infinite;\n",
       "  }\n",
       "\n",
       "  @keyframes spin {\n",
       "    0% {\n",
       "      border-color: transparent;\n",
       "      border-bottom-color: var(--fill-color);\n",
       "      border-left-color: var(--fill-color);\n",
       "    }\n",
       "    20% {\n",
       "      border-color: transparent;\n",
       "      border-left-color: var(--fill-color);\n",
       "      border-top-color: var(--fill-color);\n",
       "    }\n",
       "    30% {\n",
       "      border-color: transparent;\n",
       "      border-left-color: var(--fill-color);\n",
       "      border-top-color: var(--fill-color);\n",
       "      border-right-color: var(--fill-color);\n",
       "    }\n",
       "    40% {\n",
       "      border-color: transparent;\n",
       "      border-right-color: var(--fill-color);\n",
       "      border-top-color: var(--fill-color);\n",
       "    }\n",
       "    60% {\n",
       "      border-color: transparent;\n",
       "      border-right-color: var(--fill-color);\n",
       "    }\n",
       "    80% {\n",
       "      border-color: transparent;\n",
       "      border-right-color: var(--fill-color);\n",
       "      border-bottom-color: var(--fill-color);\n",
       "    }\n",
       "    90% {\n",
       "      border-color: transparent;\n",
       "      border-bottom-color: var(--fill-color);\n",
       "    }\n",
       "  }\n",
       "</style>\n",
       "\n",
       "  <script>\n",
       "    async function quickchart(key) {\n",
       "      const quickchartButtonEl =\n",
       "        document.querySelector('#' + key + ' button');\n",
       "      quickchartButtonEl.disabled = true;  // To prevent multiple clicks.\n",
       "      quickchartButtonEl.classList.add('colab-df-spinner');\n",
       "      try {\n",
       "        const charts = await google.colab.kernel.invokeFunction(\n",
       "            'suggestCharts', [key], {});\n",
       "      } catch (error) {\n",
       "        console.error('Error during call to suggestCharts:', error);\n",
       "      }\n",
       "      quickchartButtonEl.classList.remove('colab-df-spinner');\n",
       "      quickchartButtonEl.classList.add('colab-df-quickchart-complete');\n",
       "    }\n",
       "    (() => {\n",
       "      let quickchartButtonEl =\n",
       "        document.querySelector('#df-c7c31fea-f322-42e6-9176-a320629384cb button');\n",
       "      quickchartButtonEl.style.display =\n",
       "        google.colab.kernel.accessAllowed ? 'block' : 'none';\n",
       "    })();\n",
       "  </script>\n",
       "</div>\n",
       "\n",
       "    </div>\n",
       "  </div>\n"
      ],
      "text/plain": [
       "        primary_key court_index_number  docket_number    eviction_address  \\\n",
       "0   *308072/22_5865         *308072/22           5865      356 MILLER AVE   \n",
       "1   *313639/23_5202         *313639/23           5202     710 61ST STREET   \n",
       "2   *324973/22_5308         *324973/22           5308     462 60TH STREET   \n",
       "3  *53336/16_170279          *53336/16         170279    3400 PAUL AVENUE   \n",
       "4     *5990/17_2703           *5990/17           2703  480 CONCORD AVENUE   \n",
       "\n",
       "  eviction_apartment_number executed_date   borough  eviction_postcode  \\\n",
       "0            1 AND BASEMENT    2024-12-04  BROOKLYN              11207   \n",
       "1                 2ND FLOOR    2024-03-04  BROOKLYN              11220   \n",
       "2      FOURTH FLOOR APT AKA    2024-08-13  BROOKLYN              11220   \n",
       "3                       15D    2018-10-17     BRONX              10468   \n",
       "4                        4E    2019-08-30     BRONX              10455   \n",
       "\n",
       "          ejectment eviction/legal_possession   latitude  longitude  \\\n",
       "0  Not an Ejectment                Possession  40.672121 -73.891105   \n",
       "1  Not an Ejectment                Possession  40.635941 -74.011883   \n",
       "2  Not an Ejectment                Possession  40.640008 -74.017068   \n",
       "3  Not an Ejectment                Possession  40.877190 -73.889569   \n",
       "4  Not an Ejectment                Possession  40.811197 -73.908810   \n",
       "\n",
       "   community_board  council_district  census_tract      bin         bbl  \\\n",
       "0              5.0              37.0        1152.0  3083989  3037420029   \n",
       "1              7.0              38.0         118.0  3143881  3057940012   \n",
       "2              7.0              38.0         122.0  3143435  3057820030   \n",
       "3              7.0              11.0         409.0  2015444  2032510420   \n",
       "4              1.0               8.0          35.0  2003900  2025770038   \n",
       "\n",
       "                      nta  year month_year                      geometry  \\\n",
       "0           East New York  2024    2024-12  POINT (-73.891105 40.672121)   \n",
       "1        Sunset Park East  2024    2024-03  POINT (-74.011883 40.635941)   \n",
       "2        Sunset Park West  2024    2024-08  POINT (-74.017068 40.640008)   \n",
       "3   Van Cortlandt Village  2018    2018-10   POINT (-73.889569 40.87719)   \n",
       "4  Mott Haven-Port Morris  2019    2019-08   POINT (-73.90881 40.811197)   \n",
       "\n",
       "   average_year_eviction_count  yearbuilt bldgclass  numfloors  unitsres  \\\n",
       "0                          0.8     1930.0        C0        3.0       3.0   \n",
       "1                          0.6     1920.0        B2        2.0       2.0   \n",
       "2                          0.6     1907.0        C3        4.0       4.0   \n",
       "3                          0.8     1967.0        D4       21.0     352.0   \n",
       "4                          1.6     1928.0        D7        6.0      65.0   \n",
       "\n",
       "                    ownername  bldgarea building_type building_category  \\\n",
       "0              356 MILLER LLC    2700.0       pre-war           walk-up   \n",
       "1         A.R.M. PARKING, LLC    1204.0       pre-war        two-family   \n",
       "2               LIN, RONG LAN    4800.0       pre-war           walk-up   \n",
       "3  SCOTT TOWER HOUSING CO INC  381213.0      post-war       condo-co-op   \n",
       "4   480 CONCORD AVE OWNER LLC   69102.0       pre-war          elevator   \n",
       "\n",
       "  is_condo floor_category                    rent_era  \\\n",
       "0    False       low-rise  Pre-1947, pre-rent-control   \n",
       "1    False       low-rise  Pre-1947, pre-rent-control   \n",
       "2    False       mid-rise  Pre-1947, pre-rent-control   \n",
       "3     True      high-rise     1947–1969, rent-control   \n",
       "4    False       mid-rise  Pre-1947, pre-rent-control   \n",
       "\n",
       "                                 architectural_style  \\\n",
       "0                    1921–1930, Art Deco Skyscrapers   \n",
       "1                              1900–1920, Beaux-Arts   \n",
       "2                              1900–1920, Beaux-Arts   \n",
       "3  1951–1980, the International Style, Alternativ...   \n",
       "4                    1921–1930, Art Deco Skyscrapers   \n",
       "\n",
       "                        economic_period residential_units_category is_llc  \\\n",
       "0  1930-1945, great depression and WWII                  3-5 units   True   \n",
       "1        Pre-1929, pre-great depression                     2-unit   True   \n",
       "2        Pre-1929, pre-great depression                  3-5 units  False   \n",
       "3      1946–1975, pst war economic boom                 100+ units  False   \n",
       "4        Pre-1929, pre-great depression               21-100 units   True   \n",
       "\n",
       "  building_size_category      size_quartile     decade  \n",
       "0                  small        Q3 (50-75%)  1930-1939  \n",
       "1             very small  Q1 (smallest 25%)  1920-1929  \n",
       "2           medium-small   Q4 (largest 25%)  1900-1909  \n",
       "3                   mega   Q4 (largest 25%)  1960-1969  \n",
       "4             very large   Q4 (largest 25%)  1920-1929  "
      ]
     },
     "metadata": {},
     "output_type": "display_data"
    }
   ],
   "source": [
    "display(cleaned_merge.head())\n",
    "# shows all the columns"
   ]
  },
  {
   "cell_type": "code",
   "execution_count": 133,
   "metadata": {
    "colab": {
     "base_uri": "https://localhost:8080/"
    },
    "id": "9doKEExoKsJU",
    "outputId": "4b91d779-4628-4d65-b9cb-70f1a423eda5"
   },
   "outputs": [
    {
     "data": {
      "text/plain": [
       "(76715, 40)"
      ]
     },
     "execution_count": 133,
     "metadata": {},
     "output_type": "execute_result"
    }
   ],
   "source": [
    "cleaned_merge.shape"
   ]
  },
  {
   "cell_type": "code",
   "execution_count": 122,
   "metadata": {
    "colab": {
     "base_uri": "https://localhost:8080/"
    },
    "id": "nquV_lpMINUA",
    "outputId": "e4b0ceb6-0ea6-4221-acdd-d41afbb1aad7"
   },
   "outputs": [
    {
     "data": {
      "text/plain": [
       "0.054278824219513785"
      ]
     },
     "execution_count": 122,
     "metadata": {},
     "output_type": "execute_result"
    }
   ],
   "source": [
    "# check nan:\n",
    "cleaned_merge.isna().sum()\n",
    "4164/cleaned_merge.shape[0]\n",
    "# 5.4278% of the records have nans"
   ]
  },
  {
   "cell_type": "code",
   "execution_count": 126,
   "metadata": {
    "colab": {
     "base_uri": "https://localhost:8080/",
     "height": 1000
    },
    "id": "kSlNjPfJIyRk",
    "outputId": "27d26761-1ec0-4c56-9bfb-a9ce5d769b3f"
   },
   "outputs": [
    {
     "data": {
      "text/html": [
       "<div>\n",
       "<style scoped>\n",
       "    .dataframe tbody tr th:only-of-type {\n",
       "        vertical-align: middle;\n",
       "    }\n",
       "\n",
       "    .dataframe tbody tr th {\n",
       "        vertical-align: top;\n",
       "    }\n",
       "\n",
       "    .dataframe thead th {\n",
       "        text-align: right;\n",
       "    }\n",
       "</style>\n",
       "<table border=\"1\" class=\"dataframe\">\n",
       "  <thead>\n",
       "    <tr style=\"text-align: right;\">\n",
       "      <th></th>\n",
       "      <th>0</th>\n",
       "    </tr>\n",
       "  </thead>\n",
       "  <tbody>\n",
       "    <tr>\n",
       "      <th>rent_era</th>\n",
       "      <td>4164</td>\n",
       "    </tr>\n",
       "    <tr>\n",
       "      <th>architectural_style</th>\n",
       "      <td>4164</td>\n",
       "    </tr>\n",
       "    <tr>\n",
       "      <th>economic_period</th>\n",
       "      <td>4164</td>\n",
       "    </tr>\n",
       "    <tr>\n",
       "      <th>residential_units_category</th>\n",
       "      <td>4164</td>\n",
       "    </tr>\n",
       "    <tr>\n",
       "      <th>is_llc</th>\n",
       "      <td>4164</td>\n",
       "    </tr>\n",
       "    <tr>\n",
       "      <th>building_size_category</th>\n",
       "      <td>4164</td>\n",
       "    </tr>\n",
       "    <tr>\n",
       "      <th>yearbuilt</th>\n",
       "      <td>4164</td>\n",
       "    </tr>\n",
       "    <tr>\n",
       "      <th>bldgclass</th>\n",
       "      <td>4164</td>\n",
       "    </tr>\n",
       "    <tr>\n",
       "      <th>size_quartile</th>\n",
       "      <td>4164</td>\n",
       "    </tr>\n",
       "    <tr>\n",
       "      <th>decade</th>\n",
       "      <td>4164</td>\n",
       "    </tr>\n",
       "    <tr>\n",
       "      <th>building_category</th>\n",
       "      <td>4164</td>\n",
       "    </tr>\n",
       "    <tr>\n",
       "      <th>building_type</th>\n",
       "      <td>4164</td>\n",
       "    </tr>\n",
       "    <tr>\n",
       "      <th>bldgarea</th>\n",
       "      <td>4164</td>\n",
       "    </tr>\n",
       "    <tr>\n",
       "      <th>ownername</th>\n",
       "      <td>4164</td>\n",
       "    </tr>\n",
       "    <tr>\n",
       "      <th>unitsres</th>\n",
       "      <td>4164</td>\n",
       "    </tr>\n",
       "    <tr>\n",
       "      <th>numfloors</th>\n",
       "      <td>4164</td>\n",
       "    </tr>\n",
       "    <tr>\n",
       "      <th>floor_category</th>\n",
       "      <td>4164</td>\n",
       "    </tr>\n",
       "    <tr>\n",
       "      <th>is_condo</th>\n",
       "      <td>4164</td>\n",
       "    </tr>\n",
       "    <tr>\n",
       "      <th>executed_date</th>\n",
       "      <td>0</td>\n",
       "    </tr>\n",
       "    <tr>\n",
       "      <th>eviction_apartment_number</th>\n",
       "      <td>0</td>\n",
       "    </tr>\n",
       "    <tr>\n",
       "      <th>eviction_address</th>\n",
       "      <td>0</td>\n",
       "    </tr>\n",
       "    <tr>\n",
       "      <th>docket_number</th>\n",
       "      <td>0</td>\n",
       "    </tr>\n",
       "    <tr>\n",
       "      <th>court_index_number</th>\n",
       "      <td>0</td>\n",
       "    </tr>\n",
       "    <tr>\n",
       "      <th>primary_key</th>\n",
       "      <td>0</td>\n",
       "    </tr>\n",
       "    <tr>\n",
       "      <th>eviction_postcode</th>\n",
       "      <td>0</td>\n",
       "    </tr>\n",
       "    <tr>\n",
       "      <th>borough</th>\n",
       "      <td>0</td>\n",
       "    </tr>\n",
       "    <tr>\n",
       "      <th>geometry</th>\n",
       "      <td>0</td>\n",
       "    </tr>\n",
       "    <tr>\n",
       "      <th>average_year_eviction_count</th>\n",
       "      <td>0</td>\n",
       "    </tr>\n",
       "    <tr>\n",
       "      <th>nta</th>\n",
       "      <td>0</td>\n",
       "    </tr>\n",
       "    <tr>\n",
       "      <th>bbl</th>\n",
       "      <td>0</td>\n",
       "    </tr>\n",
       "    <tr>\n",
       "      <th>year</th>\n",
       "      <td>0</td>\n",
       "    </tr>\n",
       "    <tr>\n",
       "      <th>month_year</th>\n",
       "      <td>0</td>\n",
       "    </tr>\n",
       "    <tr>\n",
       "      <th>longitude</th>\n",
       "      <td>0</td>\n",
       "    </tr>\n",
       "    <tr>\n",
       "      <th>latitude</th>\n",
       "      <td>0</td>\n",
       "    </tr>\n",
       "    <tr>\n",
       "      <th>council_district</th>\n",
       "      <td>0</td>\n",
       "    </tr>\n",
       "    <tr>\n",
       "      <th>community_board</th>\n",
       "      <td>0</td>\n",
       "    </tr>\n",
       "    <tr>\n",
       "      <th>eviction/legal_possession</th>\n",
       "      <td>0</td>\n",
       "    </tr>\n",
       "    <tr>\n",
       "      <th>ejectment</th>\n",
       "      <td>0</td>\n",
       "    </tr>\n",
       "    <tr>\n",
       "      <th>census_tract</th>\n",
       "      <td>0</td>\n",
       "    </tr>\n",
       "    <tr>\n",
       "      <th>bin</th>\n",
       "      <td>0</td>\n",
       "    </tr>\n",
       "  </tbody>\n",
       "</table>\n",
       "</div><br><label><b>dtype:</b> int64</label>"
      ],
      "text/plain": [
       "rent_era                       4164\n",
       "architectural_style            4164\n",
       "economic_period                4164\n",
       "residential_units_category     4164\n",
       "is_llc                         4164\n",
       "building_size_category         4164\n",
       "yearbuilt                      4164\n",
       "bldgclass                      4164\n",
       "size_quartile                  4164\n",
       "decade                         4164\n",
       "building_category              4164\n",
       "building_type                  4164\n",
       "bldgarea                       4164\n",
       "ownername                      4164\n",
       "unitsres                       4164\n",
       "numfloors                      4164\n",
       "floor_category                 4164\n",
       "is_condo                       4164\n",
       "executed_date                     0\n",
       "eviction_apartment_number         0\n",
       "eviction_address                  0\n",
       "docket_number                     0\n",
       "court_index_number                0\n",
       "primary_key                       0\n",
       "eviction_postcode                 0\n",
       "borough                           0\n",
       "geometry                          0\n",
       "average_year_eviction_count       0\n",
       "nta                               0\n",
       "bbl                               0\n",
       "year                              0\n",
       "month_year                        0\n",
       "longitude                         0\n",
       "latitude                          0\n",
       "council_district                  0\n",
       "community_board                   0\n",
       "eviction/legal_possession         0\n",
       "ejectment                         0\n",
       "census_tract                      0\n",
       "bin                               0\n",
       "dtype: int64"
      ]
     },
     "execution_count": 126,
     "metadata": {},
     "output_type": "execute_result"
    }
   ],
   "source": [
    "cleaned_merge.isna().sum().sort_values(ascending=False)"
   ]
  },
  {
   "cell_type": "markdown",
   "metadata": {
    "id": "y3Ttjf_gKT8-"
   },
   "source": [
    "## **At this stage, we will keep those nan values carried over from bbl.csv. When doing analysis with building features, we will just drop them. When doing solely evictions, or evictions with other relevant data, we will pick the columns that don't have rows that had nans in them to work with.**"
   ]
  },
  {
   "cell_type": "code",
   "execution_count": 127,
   "metadata": {
    "colab": {
     "base_uri": "https://localhost:8080/"
    },
    "id": "MWsbyzUgJ2Jn",
    "outputId": "a3f46603-572f-4be4-f787-157620fb8878"
   },
   "outputs": [
    {
     "data": {
      "text/plain": [
       "np.int64(0)"
      ]
     },
     "execution_count": 127,
     "metadata": {},
     "output_type": "execute_result"
    }
   ],
   "source": [
    "cleaned_merge.duplicated().sum()\n",
    "# no duplicates"
   ]
  },
  {
   "cell_type": "code",
   "execution_count": 128,
   "metadata": {
    "id": "oV0dHy_vP0Lh"
   },
   "outputs": [],
   "source": [
    "cleaned_merge.to_csv('/content/drive/My Drive/X999/bbl_evictions_merged.csv', index=False)"
   ]
  },
  {
   "cell_type": "code",
   "execution_count": 129,
   "metadata": {
    "id": "SnkEvVBIsdTu"
   },
   "outputs": [],
   "source": [
    "file_path1 = '/content/drive/My Drive/X999/bbl_evictions_merged.csv'"
   ]
  },
  {
   "cell_type": "code",
   "execution_count": 130,
   "metadata": {
    "id": "KLD3cwIUsdyu"
   },
   "outputs": [],
   "source": [
    "df = pd.read_csv(file_path1)"
   ]
  },
  {
   "cell_type": "code",
   "execution_count": 134,
   "metadata": {
    "colab": {
     "base_uri": "https://localhost:8080/"
    },
    "id": "JoV-SWj-sgjC",
    "outputId": "3d81bb4c-7c18-4640-ecc5-dced809cfee8"
   },
   "outputs": [
    {
     "data": {
      "text/plain": [
       "(Index(['primary_key', 'court_index_number', 'docket_number',\n",
       "        'eviction_address', 'eviction_apartment_number', 'executed_date',\n",
       "        'borough', 'eviction_postcode', 'ejectment',\n",
       "        'eviction/legal_possession', 'latitude', 'longitude', 'community_board',\n",
       "        'council_district', 'census_tract', 'bin', 'bbl', 'nta', 'year',\n",
       "        'month_year', 'geometry', 'average_year_eviction_count', 'yearbuilt',\n",
       "        'bldgclass', 'numfloors', 'unitsres', 'ownername', 'bldgarea',\n",
       "        'building_type', 'building_category', 'is_condo', 'floor_category',\n",
       "        'rent_era', 'architectural_style', 'economic_period',\n",
       "        'residential_units_category', 'is_llc', 'building_size_category',\n",
       "        'size_quartile', 'decade'],\n",
       "       dtype='object'),\n",
       " (76715, 40))"
      ]
     },
     "execution_count": 134,
     "metadata": {},
     "output_type": "execute_result"
    }
   ],
   "source": [
    "df.columns, df.shape\n",
    "# correct"
   ]
  },
  {
   "cell_type": "code",
   "execution_count": null,
   "metadata": {
    "id": "cpInjXC0tfzL"
   },
   "outputs": [],
   "source": []
  }
 ],
 "metadata": {
  "colab": {
   "provenance": []
  },
  "kernelspec": {
   "display_name": "Python 3 (ipykernel)",
   "language": "python",
   "name": "python3"
  },
  "language_info": {
   "codemirror_mode": {
    "name": "ipython",
    "version": 3
   },
   "file_extension": ".py",
   "mimetype": "text/x-python",
   "name": "python",
   "nbconvert_exporter": "python",
   "pygments_lexer": "ipython3",
   "version": "3.11.0"
  }
 },
 "nbformat": 4,
 "nbformat_minor": 0
}
