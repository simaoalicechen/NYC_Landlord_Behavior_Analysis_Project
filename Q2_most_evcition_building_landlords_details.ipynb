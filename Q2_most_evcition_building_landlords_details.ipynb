version https://git-lfs.github.com/spec/v1
oid sha256:fb60112a9b55d62db6d7c26bb5c427e74dccc96f8c974eb9cf3e6d261cc23aeb
size 20156025
