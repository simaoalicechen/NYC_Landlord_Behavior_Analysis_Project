{
 "cells": [
  {
   "cell_type": "markdown",
   "metadata": {
    "id": "sVnn7RvMZUuT"
   },
   "source": [
    "In this notebook, we are cleaning the 311 data from 2017 to 2024, year by year, due to the large size of each raw file. \\\n",
    "Each raw file was donwloaded from https://data.cityofnewyork.us/Social-Services/311-Service-Requests-from-2010-to-Present/erm2-nwe9/about_data. \\\n",
    "The query was set the created_date with each eary, and closed_date between the start of the year and the end of the second year. These query criteria has proven to be a very generous appraoch to include as many as cases that were open longer than usual. It was later discovered that on average, most cases closed within a week, and 94~95% closed within 90 days. \\\n",
    "We will then concatenate these cleaned and reduced df together to form the final 311_df in the next notebook.  \\\n",
    "We will further use the merged 311_df to merge with eviction data. \\\n",
    "Finally, we will perform analysis on 311 complaint data and eviction data.  \\"
   ]
  },
  {
   "cell_type": "code",
   "execution_count": null,
   "metadata": {
    "id": "nAmNEs6wVScC"
   },
   "outputs": [],
   "source": [
    "import pandas as pd\n",
    "import numpy as np\n",
    "import datetime as dt\n",
    "import matplotlib\n",
    "import matplotlib.pyplot as plt\n",
    "import os\n",
    "import io\n",
    "import geopandas as gpd\n",
    "import seaborn as sns\n",
    "\n",
    "# suppress warning\n",
    "import warnings\n",
    "warnings.filterwarnings('ignore')\n",
    "\n",
    "%matplotlib inline"
   ]
  },
  {
   "cell_type": "code",
   "execution_count": null,
   "metadata": {
    "colab": {
     "base_uri": "https://localhost:8080/"
    },
    "id": "fVLfYL7LWCKH",
    "outputId": "eafc5886-d68d-4931-c328-b02d4e142c5a"
   },
   "outputs": [
    {
     "name": "stdout",
     "output_type": "stream",
     "text": [
      "Mounted at /content/drive\n"
     ]
    }
   ],
   "source": [
    "from google.colab import drive\n",
    "drive.mount('/content/drive')"
   ]
  },
  {
   "cell_type": "code",
   "execution_count": null,
   "metadata": {
    "id": "qpFrBTBgxVNg"
   },
   "outputs": [],
   "source": [
    "# data source:\n",
    "# very very very large files, have to save after each cleanning\n",
    "# do one file at a time\n",
    "file_path1 = '/content/drive/My Drive/X999/311_different_years/2017-2018_311.csv'# 2017, 2018 both in it\n",
    "file_path2 = '/content/drive/My Drive/X999/311_different_years/2019_311.csv'# 2019\n",
    "file_path3 = '/content/drive/My Drive/X999/311_different_years/2020_311.csv'# mostly 2020, some 2017-2019 ones will be removed\n",
    "file_path4 = '/content/drive/My Drive/X999/311_different_years/2021_311.csv'# 2021\n",
    "file_path5 = '/content/drive/My Drive/X999/311_different_years/2022_311.csv'# 2022\n",
    "file_path6 = '/content/drive/My Drive/X999/311_different_years/2023_311.csv'# 2023\n",
    "file_path7 = '/content/drive/My Drive/X999/311_different_years/2024_311.csv'# 2024"
   ]
  },
  {
   "cell_type": "code",
   "execution_count": null,
   "metadata": {
    "id": "0uWP8HxD1tjW"
   },
   "outputs": [],
   "source": [
    "complaints_df = pd.read_csv(file_path1)\n",
    "# complaints_df_2 = pd.read_csv(file_path8)"
   ]
  },
  {
   "cell_type": "code",
   "execution_count": null,
   "metadata": {
    "id": "npiSPYJZ4zYF"
   },
   "outputs": [],
   "source": [
    "# copy_df = complaints_df.copy()"
   ]
  },
  {
   "cell_type": "code",
   "execution_count": null,
   "metadata": {
    "id": "khgrxkCK4gVW"
   },
   "outputs": [],
   "source": [
    "# combined_df = pd.concat([complaints_df, complaints_df_2], ignore_index=True)"
   ]
  },
  {
   "cell_type": "code",
   "execution_count": null,
   "metadata": {
    "id": "FdN32Lt64wZd"
   },
   "outputs": [],
   "source": [
    "# compliants_df = combined_df.copy()"
   ]
  },
  {
   "cell_type": "code",
   "execution_count": null,
   "metadata": {
    "colab": {
     "base_uri": "https://localhost:8080/"
    },
    "id": "T4dHR-a2hxM-",
    "outputId": "38bb7b33-bdbb-4056-85f4-f55a86464984"
   },
   "outputs": [
    {
     "data": {
      "text/plain": [
       "(Index(['Unique Key', 'Created Date', 'Closed Date', 'Agency', 'Agency Name',\n",
       "        'Complaint Type', 'Descriptor', 'Location Type', 'Incident Zip',\n",
       "        'Incident Address', 'Street Name', 'Cross Street 1', 'Cross Street 2',\n",
       "        'Intersection Street 1', 'Intersection Street 2', 'Address Type',\n",
       "        'City', 'Landmark', 'Facility Type', 'Status', 'Due Date',\n",
       "        'Resolution Description', 'Resolution Action Updated Date',\n",
       "        'Community Board', 'BBL', 'Borough', 'X Coordinate (State Plane)',\n",
       "        'Y Coordinate (State Plane)', 'Open Data Channel Type',\n",
       "        'Park Facility Name', 'Park Borough', 'Vehicle Type',\n",
       "        'Taxi Company Borough', 'Taxi Pick Up Location', 'Bridge Highway Name',\n",
       "        'Bridge Highway Direction', 'Road Ramp', 'Bridge Highway Segment',\n",
       "        'Latitude', 'Longitude', 'Location'],\n",
       "       dtype='object'),\n",
       " (5265027, 41))"
      ]
     },
     "execution_count": 5,
     "metadata": {},
     "output_type": "execute_result"
    }
   ],
   "source": [
    "complaints_df.columns, complaints_df.shape"
   ]
  },
  {
   "cell_type": "code",
   "execution_count": null,
   "metadata": {
    "colab": {
     "base_uri": "https://localhost:8080/"
    },
    "id": "7S0IitB-5CG3",
    "outputId": "1c613b0c-1d1a-47af-e59d-0dddedc8f013"
   },
   "outputs": [
    {
     "data": {
      "text/plain": [
       "(5265027, 41)"
      ]
     },
     "execution_count": 6,
     "metadata": {},
     "output_type": "execute_result"
    }
   ],
   "source": [
    "complaints_df.shape"
   ]
  },
  {
   "cell_type": "code",
   "execution_count": null,
   "metadata": {
    "id": "-tHEYji-qn_0"
   },
   "outputs": [],
   "source": [
    "# cleaning functions\n",
    "\n",
    "# some cleaning ideas are from:\n",
    "# https://www.kaggle.com/code/riyapatel1697/nyc-311-customer-service-requests-analysis\n",
    "\n",
    "def drop_columns(df, columns):\n",
    "    df.drop(columns, axis=1, inplace=True)\n",
    "\n",
    "def clean_column_names(df):\n",
    "    df.columns = df.columns.str.lower()\n",
    "    df.columns = df.columns.str.strip().str.replace(' ', '_')\n",
    "    return df\n",
    "\n",
    "# drop columns that are empty or almost empty\n",
    "def drop_empty_columns(df):\n",
    "    # drop columns that are completely or almost empty\n",
    "    # and get the count of NaNs in each column\n",
    "    na_cololumn_count = df.isna().sum()\n",
    "    columns_to_drop = []\n",
    "    # use .items() instead of .iteritems()\n",
    "    for column, na_count in na_cololumn_count.items():\n",
    "        if na_count / len(df) >= 0.85:\n",
    "            columns_to_drop.append(column)\n",
    "\n",
    "    df.drop(columns_to_drop, axis=1, inplace=True)\n",
    "    return df\n",
    "\n",
    "def drop_unneccessary_columns(df):\n",
    "    columns_to_drop = ['x_coordinate_(state_plane)', 'agency_name', 'agency',\n",
    "                       'y_coordinate_(state_plane)', 'open_data_channel_type',\n",
    "                       'park_facility_name', 'park_borough', 'vehicle_type',\n",
    "                       'due_date', 'taxi_company_borough', 'taxi_pick_up_location',\n",
    "                       'bridge_highway_name', 'bridge_highway_direction', 'road_ramp',\n",
    "                       'bridge_highway_segment', 'facility_type', \"community_board\", \"landmark\"]\n",
    "\n",
    "    df_cleaned = df.drop(columns=[col for col in columns_to_drop if col in df.columns], errors='ignore')\n",
    "\n",
    "    return df_cleaned\n",
    "\n",
    "def clean_date_times(df, created_date='created_date', closed_date='closed_date',\n",
    "                     cutoff_date='2024-12-31 23:59:59'):\n",
    "    # step by step reducing and return a new dataframe\n",
    "    original_shape = df.shape\n",
    "    print(f\"filtered_df shape: {original_shape}\")\n",
    "    cutoff_date = pd.Timestamp(cutoff_date)\n",
    "    min_plausible_date = pd.Timestamp('2017-01-01')\n",
    "    condition1 = df[closed_date] >= df[created_date]\n",
    "    filtered1 = df[condition1]\n",
    "    print(f\"after closed ≥ created: {filtered1.shape}\")\n",
    "    condition2 = df[closed_date] <= cutoff_date\n",
    "    filtered2 = df[condition2]\n",
    "    print(f\"after closed ≤ cutoff: {filtered2.shape}\")\n",
    "    condition3 = df[closed_date] >= min_plausible_date\n",
    "    filtered3 = df[condition3]\n",
    "    print(f\"after closed ≥ min_plausible: {filtered3.shape}\")\n",
    "    final_df = df[condition1 & condition2 & condition3]\n",
    "    final_df = final_df.copy()\n",
    "    print(f\"cleaned filtered dataframe shape: {final_df.shape}\")\n",
    "    return final_df\n",
    "\n",
    "def get_whole_year_cases(year, df, created_col='created_date', closed_col='closed_date'):\n",
    "\n",
    "    # this function works on one or multiple dataframes so that we can accurate get the data from\n",
    "    # strictly just one year with the cut-off date for close_date that is 90 days later after the year ends\n",
    "\n",
    "    created_start = pd.Timestamp(f'{year}-01-01 00:00:00')\n",
    "    created_end = pd.Timestamp(f'{year}-12-31 23:59:59')\n",
    "\n",
    "    # set closure cutoff to March 31st of the following year (90 days), because 94~95% of the cases close\n",
    "    # within 90 days and we just want the majority of the cases created within a certain whole year\n",
    "    closed_cutoff = pd.Timestamp(f'{year+1}-03-31 23:59:59')\n",
    "    records_year = df[(df[created_col] >= created_start) &\n",
    "                      (df[created_col] <= created_end) &\n",
    "                      (df[closed_col] >= created_start) &\n",
    "                      (df[closed_col] <= closed_cutoff)]\n",
    "\n",
    "    total_created = len(df[(df[created_col] >= created_start) &\n",
    "                          (df[created_col] <= created_end)])\n",
    "\n",
    "    print(f\"total records in {year}: {len(df)} cases\")\n",
    "    print(f\"cases created in {year}: {total_created} cases\")\n",
    "    print(f\"cases created in {year} and closed by March 31, {year+1}: {len(records_year)} cases\")\n",
    "    print(f\"percentage of {year} cases captured within our cutoff: {(len(records_year) / total_created) * 100:.2f}%\")\n",
    "\n",
    "    return records_year\n",
    "\n",
    "def calculate_closure_duration(df, created_col='created_date', closed_col='closed_date'):\n",
    "    # added new temporary columns to make calculations easier, but will eventually get rid of them for later\n",
    "    df['duration_days'] = (df[closed_col] - df[created_col]).dt.total_seconds() / (60 * 60 * 24)\n",
    "    avg_duration = df['duration_days'].mean()\n",
    "    median_duration = df['duration_days'].median()\n",
    "    min_duration = df['duration_days'].min()\n",
    "    max_duration = df['duration_days'].max()\n",
    "\n",
    "    print(f\"average closure duration: {avg_duration:.2f} days\")\n",
    "    print(f\"median closure duration: {median_duration:.2f} days\")\n",
    "    print(f\"minimum closure duration: {min_duration:.2f} days\")\n",
    "    print(f\"maximum closure duration: {max_duration:.2f} days\")\n",
    "\n",
    "    print(\"summary:\")\n",
    "    bins = [0, 1, 7, 30, 90, 180, 365, float('inf')]\n",
    "    labels = ['Same day', '1-7 days', '8-30 days', '31-90 days',\n",
    "              '91-180 days', '181-365 days', 'Over 1 year']\n",
    "    df['duration_category'] = pd.cut(df['duration_days'], bins=bins, labels=labels)\n",
    "\n",
    "    duration_counts = df['duration_category'].value_counts().sort_index()\n",
    "    for category, count in duration_counts.items():\n",
    "        percentage = (count / len(df)) * 100\n",
    "        print(f\"{category}: {count} cases ({percentage:.2f}%)\")\n",
    "\n",
    "    return df['duration_days']\n",
    "\n",
    "def find_majority_year_data(filtered_df, created_col='created_date', closed_col='closed_date'):\n",
    "    filtered_df['created_year'] = filtered_df[created_col].dt.year\n",
    "    filtered_df['closed_year'] = filtered_df[closed_col].dt.year\n",
    "\n",
    "    created_counts = filtered_df['created_year'].value_counts().sort_index()\n",
    "\n",
    "    closed_counts = filtered_df['closed_year'].value_counts().sort_index()\n",
    "\n",
    "    print(\"distribution by created_date year:\")\n",
    "    for year, count in created_counts.items():\n",
    "        percentage = (count / len(filtered_df)) * 100\n",
    "        print(f\"{year}: {count} cases ({percentage:.2f}%)\")\n",
    "\n",
    "    print(\"distribution by closed_date year:\")\n",
    "    for year, count in closed_counts.items():\n",
    "        percentage = (count / len(filtered_df)) * 100\n",
    "        print(f\"{year}: {count} cases ({percentage:.2f}%)\")\n",
    "\n",
    "    majority_year = created_counts.idxmax()\n",
    "    majority_count = created_counts.max()\n",
    "    majority_percentage = (majority_count / len(filtered_df)) * 100\n",
    "\n",
    "    print(f\"\\nMajority year by creation date: {majority_year} with {majority_count} cases ({majority_percentage:.2f}%)\")\n",
    "\n",
    "    return majority_year"
   ]
  },
  {
   "cell_type": "code",
   "execution_count": null,
   "metadata": {
    "id": "Ld3gsaNki77P"
   },
   "outputs": [],
   "source": []
  },
  {
   "cell_type": "code",
   "execution_count": null,
   "metadata": {
    "colab": {
     "base_uri": "https://localhost:8080/"
    },
    "id": "kGqW2dGTmY6g",
    "outputId": "1ef3cd7a-a375-40c8-e1ed-75e87b352e99"
   },
   "outputs": [
    {
     "data": {
      "text/plain": [
       "(5265027, 41)"
      ]
     },
     "execution_count": 8,
     "metadata": {},
     "output_type": "execute_result"
    }
   ],
   "source": [
    "complaints_df.shape # complaints_2023.shape (3225555, 41)"
   ]
  },
  {
   "cell_type": "code",
   "execution_count": null,
   "metadata": {
    "id": "nvLFQQBE8NJr"
   },
   "outputs": [],
   "source": [
    "# make sure the column names are all lower case with hiphen, so that it would easier for cleaning\n",
    "complaints_df = clean_column_names(complaints_df)"
   ]
  },
  {
   "cell_type": "code",
   "execution_count": null,
   "metadata": {
    "colab": {
     "base_uri": "https://localhost:8080/"
    },
    "id": "auqPlNzSFpMP",
    "outputId": "c15d7258-a715-4423-faf8-1290c531796c"
   },
   "outputs": [
    {
     "data": {
      "text/plain": [
       "array(['General Construction/Plumbing', 'Noise', 'Noise - Commercial',\n",
       "       'Noise - Residential', 'Noise - Street/Sidewalk',\n",
       "       'Noise - Vehicle', 'Noise - Helicopter', 'Noise - Park',\n",
       "       'Construction Safety Enforcement', 'Collection Truck Noise',\n",
       "       'Noise - House of Worship'], dtype=object)"
      ]
     },
     "execution_count": 10,
     "metadata": {},
     "output_type": "execute_result"
    }
   ],
   "source": [
    "# find complaint types that have something to do with noice or constructions\n",
    "noise_construction_complaints = complaints_df[complaints_df['complaint_type'].str.contains(r'(?i)noise|construction', regex=True)]\n",
    "noise_construction_complaints.complaint_type.unique()"
   ]
  },
  {
   "cell_type": "code",
   "execution_count": null,
   "metadata": {
    "colab": {
     "base_uri": "https://localhost:8080/"
    },
    "id": "HSfYYmbrmiAT",
    "outputId": "5fae7f42-ccfc-4200-8dbf-9223d2ab311e"
   },
   "outputs": [
    {
     "data": {
      "text/plain": [
       "(5265027, 41)"
      ]
     },
     "execution_count": 11,
     "metadata": {},
     "output_type": "execute_result"
    }
   ],
   "source": [
    "complaints_df.shape"
   ]
  },
  {
   "cell_type": "code",
   "execution_count": null,
   "metadata": {
    "id": "VpcoaTb0t1QB"
   },
   "outputs": [],
   "source": [
    "# the type of complaints we want to keep: noise related\n",
    "# AND we also want to keep the location type that is family residential related.\n",
    "# so this is an OR situation, we keep them both here and do deeper cleaning later.\n",
    "\n",
    "# following the last cell\n",
    "noise_complaint_types = [\n",
    "    'Noise - Residential', 'Noise - Helicopter', 'Noise - House of Worship', 'Noise - Commercial', 'Noise - Park',\n",
    "    'Noise - Street/Sidewalk', 'Noise', 'Noise - Vehicle',\n",
    "    'General Construction/Plumbing',\n",
    "    'Collection Truck Noise', 'Construction Lead Dust',\n",
    "    'COVID-19 Non-essential Construction',\n",
    "    'Construction Safety Enforcement'\n",
    "]\n",
    "# particularly picked complaint types that tend to have stronger correlations between complaints and evictions.\n",
    "must_include = [\n",
    "    \"Noise - Residential\", \"Unsanitary Condition\", \"Heat/Hot Water\", \"Flooring/Stairs\", \"Indoor Air Quality\", \"Smoking\", \"Door/Window\",\n",
    "    \"Paint/Plaster\", \"Water Leak\", \"Electric\", \"Safety\", \"Plumbing\", \"Appliance\", \"Rodent\", \"Unsanitary Pigeon Condition\", \"Asbestos\",\n",
    "    \"Elevator\", \"Construction Lead Dust\", \"Indoor Sewage\", \"Peeling Paint\", \"Window Guard\", \"Harboring Bees/Wasps\", \"Drinking Water\",\n",
    "    \"Noise - Street/Sidewalk\", \"Mold\"]"
   ]
  },
  {
   "cell_type": "code",
   "execution_count": null,
   "metadata": {
    "id": "j7gxA0svrLI-"
   },
   "outputs": [],
   "source": [
    "# filter rows where complaint_type is in the noise_complaint_types list or location_type contains the keywords\n",
    "filtered_df = complaints_df[\n",
    "    (complaints_df['complaint_type'].isin(noise_complaint_types)) |\n",
    "     (complaints_df[\"complaint_type\"].isin(must_include)) |\n",
    "    (complaints_df['location_type'].str.contains(r'family|residential', case=False, na=False))\n",
    "]"
   ]
  },
  {
   "cell_type": "code",
   "execution_count": null,
   "metadata": {
    "id": "FUL4QD1whGmN"
   },
   "outputs": [],
   "source": [
    "# basic cleaning\n",
    "filtered_df = drop_unneccessary_columns(filtered_df)\n",
    "filtered_df = drop_empty_columns(filtered_df)"
   ]
  },
  {
   "cell_type": "code",
   "execution_count": null,
   "metadata": {
    "colab": {
     "base_uri": "https://localhost:8080/"
    },
    "id": "gUVYS7BzmmHe",
    "outputId": "f4a13b3c-0065-44ad-9444-6f4e53c562a5"
   },
   "outputs": [
    {
     "data": {
      "text/plain": [
       "(2364600, 21)"
      ]
     },
     "execution_count": 15,
     "metadata": {},
     "output_type": "execute_result"
    }
   ],
   "source": [
    "filtered_df.shape"
   ]
  },
  {
   "cell_type": "code",
   "execution_count": null,
   "metadata": {
    "colab": {
     "base_uri": "https://localhost:8080/"
    },
    "id": "htTLTGsTv5Cr",
    "outputId": "4bd00e08-26ba-46a0-9ea8-fbb3455b6948"
   },
   "outputs": [
    {
     "data": {
      "text/plain": [
       "(array(['General Construction/Plumbing', 'HEAT/HOT WATER', 'DOOR/WINDOW',\n",
       "        'WATER LEAK', 'UNSANITARY CONDITION', 'Vending', 'APPLIANCE',\n",
       "        'PLUMBING', 'PAINT/PLASTER', 'SAFETY', 'Graffiti', 'Elevator',\n",
       "        'Noise', 'Noise - Commercial', 'Homeless Person Assistance',\n",
       "        'Noise - Residential', 'OUTSIDE BUILDING', 'FLOORING/STAIRS',\n",
       "        'Noise - Street/Sidewalk', 'GENERAL', 'ELEVATOR',\n",
       "        'DOF Property - Reduction Issue', 'Homeless Encampment',\n",
       "        'Non-Residential Heat', 'Animal Abuse',\n",
       "        'Non-Emergency Police Matter', 'Noise - Vehicle', 'ELECTRIC',\n",
       "        'Indoor Sewage', 'Noise - Helicopter', 'Indoor Air Quality',\n",
       "        'Noise - Park', 'Asbestos', 'Construction Safety Enforcement',\n",
       "        'Plumbing', 'Smoking', 'Collection Truck Noise', 'Rodent',\n",
       "        'Unsanitary Animal Pvt Property', 'Noise - House of Worship',\n",
       "        'Mold', 'Drinking Water', 'Urinating in Public',\n",
       "        'Unsanitary Pigeon Condition', 'Drinking', 'Animal-Abuse',\n",
       "        'Posting Advertisement', 'Panhandling',\n",
       "        'Bike/Roller/Skate Chronic', 'Illegal Fireworks',\n",
       "        'Disorderly Youth', 'Poison Ivy', 'Window Guard',\n",
       "        'Harboring Bees/Wasps', 'Unsanitary Condition', 'General',\n",
       "        'Standing Water', 'Mosquitoes', 'Safety', 'AGENCY',\n",
       "        'VACANT APARTMENT'], dtype=object),\n",
       " array([nan, 'RESIDENTIAL BUILDING', 'Residential Building/House',\n",
       "        'Residential', 'Store/Commercial', 'Street/Sidewalk',\n",
       "        '1-, 2- and 3- Family Home', 'Building (Non-Residential)',\n",
       "        'Commercial Building', 'Above Address',\n",
       "        '3+ Family Apartment Building', 'Park/Playground',\n",
       "        '1-2 Family Dwelling', 'Residential Building', 'Sidewalk',\n",
       "        'Club/Bar/Restaurant', 'Other (Explain Below)',\n",
       "        'Restaurant/Bar/Deli/Bakery', '3+ Family Mixed Use Building',\n",
       "        '3+ Family Apt. Building', '1-2 Family Mixed Use Building',\n",
       "        'Construction Site', 'Vacant Lot', 'Parking Lot/Garage',\n",
       "        'Vacant Building', 'House of Worship',\n",
       "        'Single Room Occupancy (SRO)', 'Catch Basin/Sewer',\n",
       "        'Government Building', 'Airport or Train/Bus Station',\n",
       "        'Sports Arena', 'Homeless Shelter', 'Public Garden', 'School',\n",
       "        'Restaurant', 'School/Pre-School', 'School - K-12 Private',\n",
       "        '1-3 Family Dwelling', 'Hospital', 'Office Building',\n",
       "        'Day Care/Nursery', 'Other', 'Theater', 'School - K-12 Public',\n",
       "        'Medical Facility', '1-3 Family Mixed Use Building',\n",
       "        'Nursing Home', 'Residential Property',\n",
       "        'School - College/University', 'Public Stairs', 'Summer Camp',\n",
       "        'Government Building - Foreign'], dtype=object),\n",
       " 61,\n",
       " 52)"
      ]
     },
     "execution_count": 16,
     "metadata": {},
     "output_type": "execute_result"
    }
   ],
   "source": [
    "filtered_df.complaint_type.unique(), filtered_df.location_type.unique(), len(filtered_df.complaint_type.unique()), len(filtered_df.location_type.unique())"
   ]
  },
  {
   "cell_type": "code",
   "execution_count": null,
   "metadata": {
    "colab": {
     "base_uri": "https://localhost:8080/"
    },
    "id": "V_bmS53Fwslf",
    "outputId": "f4264d0c-51e7-458a-d9d3-d56cb0a91329"
   },
   "outputs": [
    {
     "name": "stdout",
     "output_type": "stream",
     "text": [
      "<class 'pandas.core.frame.DataFrame'>\n",
      "Index: 2364600 entries, 5 to 5265026\n",
      "Data columns (total 21 columns):\n",
      " #   Column                          Dtype  \n",
      "---  ------                          -----  \n",
      " 0   unique_key                      int64  \n",
      " 1   created_date                    object \n",
      " 2   closed_date                     object \n",
      " 3   complaint_type                  object \n",
      " 4   descriptor                      object \n",
      " 5   location_type                   object \n",
      " 6   incident_zip                    object \n",
      " 7   incident_address                object \n",
      " 8   street_name                     object \n",
      " 9   cross_street_1                  object \n",
      " 10  cross_street_2                  object \n",
      " 11  address_type                    object \n",
      " 12  city                            object \n",
      " 13  status                          object \n",
      " 14  resolution_description          object \n",
      " 15  resolution_action_updated_date  object \n",
      " 16  bbl                             float64\n",
      " 17  borough                         object \n",
      " 18  latitude                        float64\n",
      " 19  longitude                       float64\n",
      " 20  location                        object \n",
      "dtypes: float64(3), int64(1), object(17)\n",
      "memory usage: 396.9+ MB\n"
     ]
    }
   ],
   "source": [
    "filtered_df.info()"
   ]
  },
  {
   "cell_type": "code",
   "execution_count": null,
   "metadata": {
    "colab": {
     "base_uri": "https://localhost:8080/",
     "height": 213
    },
    "id": "w8hGVyQx5vp7",
    "outputId": "c20dfef5-371a-4e69-e787-3eaaf7ee6410"
   },
   "outputs": [
    {
     "data": {
      "application/vnd.google.colaboratory.intrinsic+json": {
       "type": "dataframe",
       "variable_name": "filtered_df"
      },
      "text/html": [
       "\n",
       "  <div id=\"df-c3dc8ecd-0289-4ab2-b7fd-394524867326\" class=\"colab-df-container\">\n",
       "    <div>\n",
       "<style scoped>\n",
       "    .dataframe tbody tr th:only-of-type {\n",
       "        vertical-align: middle;\n",
       "    }\n",
       "\n",
       "    .dataframe tbody tr th {\n",
       "        vertical-align: top;\n",
       "    }\n",
       "\n",
       "    .dataframe thead th {\n",
       "        text-align: right;\n",
       "    }\n",
       "</style>\n",
       "<table border=\"1\" class=\"dataframe\">\n",
       "  <thead>\n",
       "    <tr style=\"text-align: right;\">\n",
       "      <th></th>\n",
       "      <th>unique_key</th>\n",
       "      <th>created_date</th>\n",
       "      <th>closed_date</th>\n",
       "      <th>complaint_type</th>\n",
       "      <th>descriptor</th>\n",
       "      <th>location_type</th>\n",
       "      <th>incident_zip</th>\n",
       "      <th>incident_address</th>\n",
       "      <th>street_name</th>\n",
       "      <th>cross_street_1</th>\n",
       "      <th>...</th>\n",
       "      <th>address_type</th>\n",
       "      <th>city</th>\n",
       "      <th>status</th>\n",
       "      <th>resolution_description</th>\n",
       "      <th>resolution_action_updated_date</th>\n",
       "      <th>bbl</th>\n",
       "      <th>borough</th>\n",
       "      <th>latitude</th>\n",
       "      <th>longitude</th>\n",
       "      <th>location</th>\n",
       "    </tr>\n",
       "  </thead>\n",
       "  <tbody>\n",
       "    <tr>\n",
       "      <th>5</th>\n",
       "      <td>41313741</td>\n",
       "      <td>12/31/2018 11:58:47 AM</td>\n",
       "      <td>01/10/2019 12:00:00 AM</td>\n",
       "      <td>General Construction/Plumbing</td>\n",
       "      <td>Building Permit - None</td>\n",
       "      <td>NaN</td>\n",
       "      <td>10451.0</td>\n",
       "      <td>825 GERARD AVENUE</td>\n",
       "      <td>GERARD AVENUE</td>\n",
       "      <td>NaN</td>\n",
       "      <td>...</td>\n",
       "      <td>ADDRESS</td>\n",
       "      <td>BRONX</td>\n",
       "      <td>Closed</td>\n",
       "      <td>The Department of Buildings investigated this ...</td>\n",
       "      <td>01/10/2019 12:00:00 AM</td>\n",
       "      <td>2.024830e+09</td>\n",
       "      <td>BRONX</td>\n",
       "      <td>40.825866</td>\n",
       "      <td>-73.925913</td>\n",
       "      <td>(40.825865645198235, -73.92591342579004)</td>\n",
       "    </tr>\n",
       "    <tr>\n",
       "      <th>6</th>\n",
       "      <td>41335801</td>\n",
       "      <td>12/31/2018 11:58:44 AM</td>\n",
       "      <td>01/03/2019 10:25:10 AM</td>\n",
       "      <td>HEAT/HOT WATER</td>\n",
       "      <td>ENTIRE BUILDING</td>\n",
       "      <td>RESIDENTIAL BUILDING</td>\n",
       "      <td>10458.0</td>\n",
       "      <td>2410 WASHINGTON AVENUE</td>\n",
       "      <td>WASHINGTON AVENUE</td>\n",
       "      <td>NaN</td>\n",
       "      <td>...</td>\n",
       "      <td>ADDRESS</td>\n",
       "      <td>BRONX</td>\n",
       "      <td>Closed</td>\n",
       "      <td>The Department of Housing Preservation and Dev...</td>\n",
       "      <td>01/03/2019 10:25:10 AM</td>\n",
       "      <td>2.030570e+09</td>\n",
       "      <td>BRONX</td>\n",
       "      <td>40.858053</td>\n",
       "      <td>-73.890913</td>\n",
       "      <td>(40.858052508996636, -73.8909130551251)</td>\n",
       "    </tr>\n",
       "  </tbody>\n",
       "</table>\n",
       "<p>2 rows × 21 columns</p>\n",
       "</div>\n",
       "    <div class=\"colab-df-buttons\">\n",
       "\n",
       "  <div class=\"colab-df-container\">\n",
       "    <button class=\"colab-df-convert\" onclick=\"convertToInteractive('df-c3dc8ecd-0289-4ab2-b7fd-394524867326')\"\n",
       "            title=\"Convert this dataframe to an interactive table.\"\n",
       "            style=\"display:none;\">\n",
       "\n",
       "  <svg xmlns=\"http://www.w3.org/2000/svg\" height=\"24px\" viewBox=\"0 -960 960 960\">\n",
       "    <path d=\"M120-120v-720h720v720H120Zm60-500h600v-160H180v160Zm220 220h160v-160H400v160Zm0 220h160v-160H400v160ZM180-400h160v-160H180v160Zm440 0h160v-160H620v160ZM180-180h160v-160H180v160Zm440 0h160v-160H620v160Z\"/>\n",
       "  </svg>\n",
       "    </button>\n",
       "\n",
       "  <style>\n",
       "    .colab-df-container {\n",
       "      display:flex;\n",
       "      gap: 12px;\n",
       "    }\n",
       "\n",
       "    .colab-df-convert {\n",
       "      background-color: #E8F0FE;\n",
       "      border: none;\n",
       "      border-radius: 50%;\n",
       "      cursor: pointer;\n",
       "      display: none;\n",
       "      fill: #1967D2;\n",
       "      height: 32px;\n",
       "      padding: 0 0 0 0;\n",
       "      width: 32px;\n",
       "    }\n",
       "\n",
       "    .colab-df-convert:hover {\n",
       "      background-color: #E2EBFA;\n",
       "      box-shadow: 0px 1px 2px rgba(60, 64, 67, 0.3), 0px 1px 3px 1px rgba(60, 64, 67, 0.15);\n",
       "      fill: #174EA6;\n",
       "    }\n",
       "\n",
       "    .colab-df-buttons div {\n",
       "      margin-bottom: 4px;\n",
       "    }\n",
       "\n",
       "    [theme=dark] .colab-df-convert {\n",
       "      background-color: #3B4455;\n",
       "      fill: #D2E3FC;\n",
       "    }\n",
       "\n",
       "    [theme=dark] .colab-df-convert:hover {\n",
       "      background-color: #434B5C;\n",
       "      box-shadow: 0px 1px 3px 1px rgba(0, 0, 0, 0.15);\n",
       "      filter: drop-shadow(0px 1px 2px rgba(0, 0, 0, 0.3));\n",
       "      fill: #FFFFFF;\n",
       "    }\n",
       "  </style>\n",
       "\n",
       "    <script>\n",
       "      const buttonEl =\n",
       "        document.querySelector('#df-c3dc8ecd-0289-4ab2-b7fd-394524867326 button.colab-df-convert');\n",
       "      buttonEl.style.display =\n",
       "        google.colab.kernel.accessAllowed ? 'block' : 'none';\n",
       "\n",
       "      async function convertToInteractive(key) {\n",
       "        const element = document.querySelector('#df-c3dc8ecd-0289-4ab2-b7fd-394524867326');\n",
       "        const dataTable =\n",
       "          await google.colab.kernel.invokeFunction('convertToInteractive',\n",
       "                                                    [key], {});\n",
       "        if (!dataTable) return;\n",
       "\n",
       "        const docLinkHtml = 'Like what you see? Visit the ' +\n",
       "          '<a target=\"_blank\" href=https://colab.research.google.com/notebooks/data_table.ipynb>data table notebook</a>'\n",
       "          + ' to learn more about interactive tables.';\n",
       "        element.innerHTML = '';\n",
       "        dataTable['output_type'] = 'display_data';\n",
       "        await google.colab.output.renderOutput(dataTable, element);\n",
       "        const docLink = document.createElement('div');\n",
       "        docLink.innerHTML = docLinkHtml;\n",
       "        element.appendChild(docLink);\n",
       "      }\n",
       "    </script>\n",
       "  </div>\n",
       "\n",
       "\n",
       "<div id=\"df-154f13fe-3bfe-4e67-b1ab-6a4ab6dec3eb\">\n",
       "  <button class=\"colab-df-quickchart\" onclick=\"quickchart('df-154f13fe-3bfe-4e67-b1ab-6a4ab6dec3eb')\"\n",
       "            title=\"Suggest charts\"\n",
       "            style=\"display:none;\">\n",
       "\n",
       "<svg xmlns=\"http://www.w3.org/2000/svg\" height=\"24px\"viewBox=\"0 0 24 24\"\n",
       "     width=\"24px\">\n",
       "    <g>\n",
       "        <path d=\"M19 3H5c-1.1 0-2 .9-2 2v14c0 1.1.9 2 2 2h14c1.1 0 2-.9 2-2V5c0-1.1-.9-2-2-2zM9 17H7v-7h2v7zm4 0h-2V7h2v10zm4 0h-2v-4h2v4z\"/>\n",
       "    </g>\n",
       "</svg>\n",
       "  </button>\n",
       "\n",
       "<style>\n",
       "  .colab-df-quickchart {\n",
       "      --bg-color: #E8F0FE;\n",
       "      --fill-color: #1967D2;\n",
       "      --hover-bg-color: #E2EBFA;\n",
       "      --hover-fill-color: #174EA6;\n",
       "      --disabled-fill-color: #AAA;\n",
       "      --disabled-bg-color: #DDD;\n",
       "  }\n",
       "\n",
       "  [theme=dark] .colab-df-quickchart {\n",
       "      --bg-color: #3B4455;\n",
       "      --fill-color: #D2E3FC;\n",
       "      --hover-bg-color: #434B5C;\n",
       "      --hover-fill-color: #FFFFFF;\n",
       "      --disabled-bg-color: #3B4455;\n",
       "      --disabled-fill-color: #666;\n",
       "  }\n",
       "\n",
       "  .colab-df-quickchart {\n",
       "    background-color: var(--bg-color);\n",
       "    border: none;\n",
       "    border-radius: 50%;\n",
       "    cursor: pointer;\n",
       "    display: none;\n",
       "    fill: var(--fill-color);\n",
       "    height: 32px;\n",
       "    padding: 0;\n",
       "    width: 32px;\n",
       "  }\n",
       "\n",
       "  .colab-df-quickchart:hover {\n",
       "    background-color: var(--hover-bg-color);\n",
       "    box-shadow: 0 1px 2px rgba(60, 64, 67, 0.3), 0 1px 3px 1px rgba(60, 64, 67, 0.15);\n",
       "    fill: var(--button-hover-fill-color);\n",
       "  }\n",
       "\n",
       "  .colab-df-quickchart-complete:disabled,\n",
       "  .colab-df-quickchart-complete:disabled:hover {\n",
       "    background-color: var(--disabled-bg-color);\n",
       "    fill: var(--disabled-fill-color);\n",
       "    box-shadow: none;\n",
       "  }\n",
       "\n",
       "  .colab-df-spinner {\n",
       "    border: 2px solid var(--fill-color);\n",
       "    border-color: transparent;\n",
       "    border-bottom-color: var(--fill-color);\n",
       "    animation:\n",
       "      spin 1s steps(1) infinite;\n",
       "  }\n",
       "\n",
       "  @keyframes spin {\n",
       "    0% {\n",
       "      border-color: transparent;\n",
       "      border-bottom-color: var(--fill-color);\n",
       "      border-left-color: var(--fill-color);\n",
       "    }\n",
       "    20% {\n",
       "      border-color: transparent;\n",
       "      border-left-color: var(--fill-color);\n",
       "      border-top-color: var(--fill-color);\n",
       "    }\n",
       "    30% {\n",
       "      border-color: transparent;\n",
       "      border-left-color: var(--fill-color);\n",
       "      border-top-color: var(--fill-color);\n",
       "      border-right-color: var(--fill-color);\n",
       "    }\n",
       "    40% {\n",
       "      border-color: transparent;\n",
       "      border-right-color: var(--fill-color);\n",
       "      border-top-color: var(--fill-color);\n",
       "    }\n",
       "    60% {\n",
       "      border-color: transparent;\n",
       "      border-right-color: var(--fill-color);\n",
       "    }\n",
       "    80% {\n",
       "      border-color: transparent;\n",
       "      border-right-color: var(--fill-color);\n",
       "      border-bottom-color: var(--fill-color);\n",
       "    }\n",
       "    90% {\n",
       "      border-color: transparent;\n",
       "      border-bottom-color: var(--fill-color);\n",
       "    }\n",
       "  }\n",
       "</style>\n",
       "\n",
       "  <script>\n",
       "    async function quickchart(key) {\n",
       "      const quickchartButtonEl =\n",
       "        document.querySelector('#' + key + ' button');\n",
       "      quickchartButtonEl.disabled = true;  // To prevent multiple clicks.\n",
       "      quickchartButtonEl.classList.add('colab-df-spinner');\n",
       "      try {\n",
       "        const charts = await google.colab.kernel.invokeFunction(\n",
       "            'suggestCharts', [key], {});\n",
       "      } catch (error) {\n",
       "        console.error('Error during call to suggestCharts:', error);\n",
       "      }\n",
       "      quickchartButtonEl.classList.remove('colab-df-spinner');\n",
       "      quickchartButtonEl.classList.add('colab-df-quickchart-complete');\n",
       "    }\n",
       "    (() => {\n",
       "      let quickchartButtonEl =\n",
       "        document.querySelector('#df-154f13fe-3bfe-4e67-b1ab-6a4ab6dec3eb button');\n",
       "      quickchartButtonEl.style.display =\n",
       "        google.colab.kernel.accessAllowed ? 'block' : 'none';\n",
       "    })();\n",
       "  </script>\n",
       "</div>\n",
       "\n",
       "    </div>\n",
       "  </div>\n"
      ],
      "text/plain": [
       "   unique_key            created_date             closed_date  \\\n",
       "5    41313741  12/31/2018 11:58:47 AM  01/10/2019 12:00:00 AM   \n",
       "6    41335801  12/31/2018 11:58:44 AM  01/03/2019 10:25:10 AM   \n",
       "\n",
       "                  complaint_type              descriptor  \\\n",
       "5  General Construction/Plumbing  Building Permit - None   \n",
       "6                 HEAT/HOT WATER         ENTIRE BUILDING   \n",
       "\n",
       "          location_type incident_zip        incident_address  \\\n",
       "5                   NaN      10451.0       825 GERARD AVENUE   \n",
       "6  RESIDENTIAL BUILDING      10458.0  2410 WASHINGTON AVENUE   \n",
       "\n",
       "         street_name cross_street_1  ... address_type   city  status  \\\n",
       "5      GERARD AVENUE            NaN  ...      ADDRESS  BRONX  Closed   \n",
       "6  WASHINGTON AVENUE            NaN  ...      ADDRESS  BRONX  Closed   \n",
       "\n",
       "                              resolution_description  \\\n",
       "5  The Department of Buildings investigated this ...   \n",
       "6  The Department of Housing Preservation and Dev...   \n",
       "\n",
       "  resolution_action_updated_date           bbl  borough   latitude  longitude  \\\n",
       "5         01/10/2019 12:00:00 AM  2.024830e+09    BRONX  40.825866 -73.925913   \n",
       "6         01/03/2019 10:25:10 AM  2.030570e+09    BRONX  40.858053 -73.890913   \n",
       "\n",
       "                                   location  \n",
       "5  (40.825865645198235, -73.92591342579004)  \n",
       "6   (40.858052508996636, -73.8909130551251)  \n",
       "\n",
       "[2 rows x 21 columns]"
      ]
     },
     "execution_count": 18,
     "metadata": {},
     "output_type": "execute_result"
    }
   ],
   "source": [
    "filtered_df.head(2)"
   ]
  },
  {
   "cell_type": "code",
   "execution_count": null,
   "metadata": {
    "colab": {
     "base_uri": "https://localhost:8080/",
     "height": 617
    },
    "id": "UOj_sQaq8Oxe",
    "outputId": "3b43fa81-3af3-4977-a418-262666ea62fd"
   },
   "outputs": [
    {
     "data": {
      "text/html": [
       "<div>\n",
       "<style scoped>\n",
       "    .dataframe tbody tr th:only-of-type {\n",
       "        vertical-align: middle;\n",
       "    }\n",
       "\n",
       "    .dataframe tbody tr th {\n",
       "        vertical-align: top;\n",
       "    }\n",
       "\n",
       "    .dataframe thead th {\n",
       "        text-align: right;\n",
       "    }\n",
       "</style>\n",
       "<table border=\"1\" class=\"dataframe\">\n",
       "  <thead>\n",
       "    <tr style=\"text-align: right;\">\n",
       "      <th></th>\n",
       "      <th>0</th>\n",
       "    </tr>\n",
       "  </thead>\n",
       "  <tbody>\n",
       "    <tr>\n",
       "      <th>closed_date</th>\n",
       "      <td>13329.0</td>\n",
       "    </tr>\n",
       "    <tr>\n",
       "      <th>descriptor</th>\n",
       "      <td>7406.0</td>\n",
       "    </tr>\n",
       "    <tr>\n",
       "      <th>location_type</th>\n",
       "      <td>281354.0</td>\n",
       "    </tr>\n",
       "    <tr>\n",
       "      <th>incident_zip</th>\n",
       "      <td>49342.0</td>\n",
       "    </tr>\n",
       "    <tr>\n",
       "      <th>incident_address</th>\n",
       "      <td>119175.0</td>\n",
       "    </tr>\n",
       "    <tr>\n",
       "      <th>street_name</th>\n",
       "      <td>119176.0</td>\n",
       "    </tr>\n",
       "    <tr>\n",
       "      <th>cross_street_1</th>\n",
       "      <td>1468900.0</td>\n",
       "    </tr>\n",
       "    <tr>\n",
       "      <th>cross_street_2</th>\n",
       "      <td>1470038.0</td>\n",
       "    </tr>\n",
       "    <tr>\n",
       "      <th>address_type</th>\n",
       "      <td>45572.0</td>\n",
       "    </tr>\n",
       "    <tr>\n",
       "      <th>city</th>\n",
       "      <td>49015.0</td>\n",
       "    </tr>\n",
       "    <tr>\n",
       "      <th>resolution_description</th>\n",
       "      <td>1480.0</td>\n",
       "    </tr>\n",
       "    <tr>\n",
       "      <th>resolution_action_updated_date</th>\n",
       "      <td>3552.0</td>\n",
       "    </tr>\n",
       "    <tr>\n",
       "      <th>bbl</th>\n",
       "      <td>240056.0</td>\n",
       "    </tr>\n",
       "    <tr>\n",
       "      <th>borough</th>\n",
       "      <td>4.0</td>\n",
       "    </tr>\n",
       "    <tr>\n",
       "      <th>latitude</th>\n",
       "      <td>70596.0</td>\n",
       "    </tr>\n",
       "    <tr>\n",
       "      <th>longitude</th>\n",
       "      <td>70596.0</td>\n",
       "    </tr>\n",
       "    <tr>\n",
       "      <th>location</th>\n",
       "      <td>70596.0</td>\n",
       "    </tr>\n",
       "  </tbody>\n",
       "</table>\n",
       "</div><br><label><b>dtype:</b> float64</label>"
      ],
      "text/plain": [
       "closed_date                         13329.0\n",
       "descriptor                           7406.0\n",
       "location_type                      281354.0\n",
       "incident_zip                        49342.0\n",
       "incident_address                   119175.0\n",
       "street_name                        119176.0\n",
       "cross_street_1                    1468900.0\n",
       "cross_street_2                    1470038.0\n",
       "address_type                        45572.0\n",
       "city                                49015.0\n",
       "resolution_description               1480.0\n",
       "resolution_action_updated_date       3552.0\n",
       "bbl                                240056.0\n",
       "borough                                 4.0\n",
       "latitude                            70596.0\n",
       "longitude                           70596.0\n",
       "location                            70596.0\n",
       "dtype: float64"
      ]
     },
     "execution_count": 19,
     "metadata": {},
     "output_type": "execute_result"
    }
   ],
   "source": [
    "filtered_df.isna().sum().where(lambda x:x>0).dropna()"
   ]
  },
  {
   "cell_type": "code",
   "execution_count": null,
   "metadata": {
    "colab": {
     "base_uri": "https://localhost:8080/"
    },
    "id": "46UijPfSxIUm",
    "outputId": "94637bf3-de87-4380-e218-46169ffd99b2"
   },
   "outputs": [
    {
     "data": {
      "text/plain": [
       "(2124544, 21)"
      ]
     },
     "execution_count": 20,
     "metadata": {},
     "output_type": "execute_result"
    }
   ],
   "source": [
    "filtered_df = filtered_df.dropna(subset=['bbl'])\n",
    "filtered_df.shape"
   ]
  },
  {
   "cell_type": "code",
   "execution_count": null,
   "metadata": {
    "id": "dl5GmRvNo_yy"
   },
   "outputs": [],
   "source": [
    "# convert to datetime\n",
    "filtered_df.created_date =  pd.to_datetime(filtered_df.created_date)\n",
    "filtered_df.closed_date =  pd.to_datetime(filtered_df.closed_date)"
   ]
  },
  {
   "cell_type": "code",
   "execution_count": null,
   "metadata": {
    "colab": {
     "base_uri": "https://localhost:8080/"
    },
    "id": "27xuqkvmy2LR",
    "outputId": "b0d08d3d-9f3c-4d2c-9a4d-416f3b41b0ab"
   },
   "outputs": [
    {
     "data": {
      "text/plain": [
       "(Timestamp('2017-01-01 00:00:00'),\n",
       " Timestamp('2018-12-31 11:58:47'),\n",
       " Timestamp('1900-01-01 00:00:00'),\n",
       " Timestamp('2025-02-28 00:00:00'))"
      ]
     },
     "execution_count": 22,
     "metadata": {},
     "output_type": "execute_result"
    }
   ],
   "source": [
    "filtered_df.created_date.min(), filtered_df.created_date.max(), \\\n",
    "filtered_df.closed_date.min(), filtered_df.closed_date.max()"
   ]
  },
  {
   "cell_type": "code",
   "execution_count": null,
   "metadata": {
    "colab": {
     "base_uri": "https://localhost:8080/"
    },
    "id": "Z80BljMNT0It",
    "outputId": "770f3589-31d8-4590-c409-170df750bf2a"
   },
   "outputs": [
    {
     "name": "stdout",
     "output_type": "stream",
     "text": [
      "average closure duration: 13.16 days\n",
      "median closure duration: 2.63 days\n",
      "minimum closure duration: -42872.51 days\n",
      "maximum closure duration: 2920.40 days\n",
      "summary:\n",
      "Same day: 772986 cases (36.38%)\n",
      "1-7 days: 683573 cases (32.18%)\n",
      "8-30 days: 482064 cases (22.69%)\n",
      "31-90 days: 112922 cases (5.32%)\n",
      "91-180 days: 20403 cases (0.96%)\n",
      "181-365 days: 5561 cases (0.26%)\n",
      "Over 1 year: 7384 cases (0.35%)\n"
     ]
    }
   ],
   "source": [
    "duration_days = calculate_closure_duration(filtered_df)"
   ]
  },
  {
   "cell_type": "code",
   "execution_count": null,
   "metadata": {
    "colab": {
     "base_uri": "https://localhost:8080/"
    },
    "id": "8TlO8Qh3jX9I",
    "outputId": "48fb72cc-6602-4ba8-d2d7-0dd1192b6ada"
   },
   "outputs": [
    {
     "name": "stdout",
     "output_type": "stream",
     "text": [
      "distribution by created_date year:\n",
      "2017: 1046038 cases (49.24%)\n",
      "2018: 1078506 cases (50.76%)\n",
      "distribution by closed_date year:\n",
      "1900.0: 7 cases (0.00%)\n",
      "2001.0: 1 cases (0.00%)\n",
      "2016.0: 2 cases (0.00%)\n",
      "2017.0: 994102 cases (46.79%)\n",
      "2018.0: 1084013 cases (51.02%)\n",
      "2019.0: 30317 cases (1.43%)\n",
      "2020.0: 1047 cases (0.05%)\n",
      "2021.0: 475 cases (0.02%)\n",
      "2022.0: 326 cases (0.02%)\n",
      "2023.0: 832 cases (0.04%)\n",
      "2024.0: 1858 cases (0.09%)\n",
      "2025.0: 126 cases (0.01%)\n",
      "\n",
      "Majority year by creation date: 2018 with 1078506 cases (50.76%)\n"
     ]
    }
   ],
   "source": [
    "majority_year = find_majority_year_data(filtered_df)\n",
    "# turns out this particular one, when I downloaded it, spanner over 2 years.\n",
    "# all the other raw csv only contained a little bit over one year"
   ]
  },
  {
   "cell_type": "code",
   "execution_count": null,
   "metadata": {
    "colab": {
     "base_uri": "https://localhost:8080/"
    },
    "id": "jl8qS6XlyC7Y",
    "outputId": "eaafbdce-1905-43b2-be02-39749511a130"
   },
   "outputs": [
    {
     "name": "stdout",
     "output_type": "stream",
     "text": [
      "filtered_df shape: (2124544, 25)\n",
      "after closed ≥ created: (2112807, 25)\n",
      "after closed ≤ cutoff: (2112980, 25)\n",
      "after closed ≥ min_plausible: (2113096, 25)\n",
      "cleaned filtered dataframe shape: (2112681, 25)\n"
     ]
    }
   ],
   "source": [
    "cleaned_filtered_df = clean_date_times(filtered_df,\n",
    "                                      created_date='created_date',\n",
    "                                      closed_date='closed_date')"
   ]
  },
  {
   "cell_type": "code",
   "execution_count": null,
   "metadata": {
    "colab": {
     "base_uri": "https://localhost:8080/",
     "height": 204
    },
    "id": "McllXKbzyWEY",
    "outputId": "e7fb4bf2-d1c9-4222-f8fb-4f1f67f685ec"
   },
   "outputs": [
    {
     "data": {
      "text/html": [
       "<div style=\"max-width:800px; border: 1px solid var(--colab-border-color);\"><style>\n",
       "      pre.function-repr-contents {\n",
       "        overflow-x: auto;\n",
       "        padding: 8px 12px;\n",
       "        max-height: 500px;\n",
       "      }\n",
       "\n",
       "      pre.function-repr-contents.function-repr-contents-collapsed {\n",
       "        cursor: pointer;\n",
       "        max-height: 100px;\n",
       "      }\n",
       "    </style>\n",
       "    <pre style=\"white-space: initial; background:\n",
       "         var(--colab-secondary-surface-color); padding: 8px 12px;\n",
       "         border-bottom: 1px solid var(--colab-border-color);\"><b>pandas.core.series.Series</b><br/>def __init__(data=None, index=None, dtype: Dtype | None=None, name=None, copy: bool | None=None, fastpath: bool | lib.NoDefault=lib.no_default) -&gt; None</pre><pre class=\"function-repr-contents function-repr-contents-collapsed\" style=\"\"><a class=\"filepath\" style=\"display:none\" href=\"#\">/usr/local/lib/python3.11/dist-packages/pandas/core/series.py</a>One-dimensional ndarray with axis labels (including time series).\n",
       "\n",
       "Labels need not be unique but must be a hashable type. The object\n",
       "supports both integer- and label-based indexing and provides a host of\n",
       "methods for performing operations involving the index. Statistical\n",
       "methods from ndarray have been overridden to automatically exclude\n",
       "missing data (currently represented as NaN).\n",
       "\n",
       "Operations between Series (+, -, /, \\*, \\*\\*) align values based on their\n",
       "associated index values-- they need not be the same length. The result\n",
       "index will be the sorted union of the two indexes.\n",
       "\n",
       "Parameters\n",
       "----------\n",
       "data : array-like, Iterable, dict, or scalar value\n",
       "    Contains data stored in Series. If data is a dict, argument order is\n",
       "    maintained.\n",
       "index : array-like or Index (1d)\n",
       "    Values must be hashable and have the same length as `data`.\n",
       "    Non-unique index values are allowed. Will default to\n",
       "    RangeIndex (0, 1, 2, ..., n) if not provided. If data is dict-like\n",
       "    and index is None, then the keys in the data are used as the index. If the\n",
       "    index is not None, the resulting Series is reindexed with the index values.\n",
       "dtype : str, numpy.dtype, or ExtensionDtype, optional\n",
       "    Data type for the output Series. If not specified, this will be\n",
       "    inferred from `data`.\n",
       "    See the :ref:`user guide &lt;basics.dtypes&gt;` for more usages.\n",
       "name : Hashable, default None\n",
       "    The name to give to the Series.\n",
       "copy : bool, default False\n",
       "    Copy input data. Only affects Series or 1d ndarray input. See examples.\n",
       "\n",
       "Notes\n",
       "-----\n",
       "Please reference the :ref:`User Guide &lt;basics.series&gt;` for more information.\n",
       "\n",
       "Examples\n",
       "--------\n",
       "Constructing Series from a dictionary with an Index specified\n",
       "\n",
       "&gt;&gt;&gt; d = {&#x27;a&#x27;: 1, &#x27;b&#x27;: 2, &#x27;c&#x27;: 3}\n",
       "&gt;&gt;&gt; ser = pd.Series(data=d, index=[&#x27;a&#x27;, &#x27;b&#x27;, &#x27;c&#x27;])\n",
       "&gt;&gt;&gt; ser\n",
       "a   1\n",
       "b   2\n",
       "c   3\n",
       "dtype: int64\n",
       "\n",
       "The keys of the dictionary match with the Index values, hence the Index\n",
       "values have no effect.\n",
       "\n",
       "&gt;&gt;&gt; d = {&#x27;a&#x27;: 1, &#x27;b&#x27;: 2, &#x27;c&#x27;: 3}\n",
       "&gt;&gt;&gt; ser = pd.Series(data=d, index=[&#x27;x&#x27;, &#x27;y&#x27;, &#x27;z&#x27;])\n",
       "&gt;&gt;&gt; ser\n",
       "x   NaN\n",
       "y   NaN\n",
       "z   NaN\n",
       "dtype: float64\n",
       "\n",
       "Note that the Index is first build with the keys from the dictionary.\n",
       "After this the Series is reindexed with the given Index values, hence we\n",
       "get all NaN as a result.\n",
       "\n",
       "Constructing Series from a list with `copy=False`.\n",
       "\n",
       "&gt;&gt;&gt; r = [1, 2]\n",
       "&gt;&gt;&gt; ser = pd.Series(r, copy=False)\n",
       "&gt;&gt;&gt; ser.iloc[0] = 999\n",
       "&gt;&gt;&gt; r\n",
       "[1, 2]\n",
       "&gt;&gt;&gt; ser\n",
       "0    999\n",
       "1      2\n",
       "dtype: int64\n",
       "\n",
       "Due to input data type the Series has a `copy` of\n",
       "the original data even though `copy=False`, so\n",
       "the data is unchanged.\n",
       "\n",
       "Constructing Series from a 1d ndarray with `copy=False`.\n",
       "\n",
       "&gt;&gt;&gt; r = np.array([1, 2])\n",
       "&gt;&gt;&gt; ser = pd.Series(r, copy=False)\n",
       "&gt;&gt;&gt; ser.iloc[0] = 999\n",
       "&gt;&gt;&gt; r\n",
       "array([999,   2])\n",
       "&gt;&gt;&gt; ser\n",
       "0    999\n",
       "1      2\n",
       "dtype: int64\n",
       "\n",
       "Due to input data type the Series has a `view` on\n",
       "the original data, so\n",
       "the data is changed as well.</pre>\n",
       "      <script>\n",
       "      if (google.colab.kernel.accessAllowed && google.colab.files && google.colab.files.view) {\n",
       "        for (const element of document.querySelectorAll('.filepath')) {\n",
       "          element.style.display = 'block'\n",
       "          element.onclick = (event) => {\n",
       "            event.preventDefault();\n",
       "            event.stopPropagation();\n",
       "            google.colab.files.view(element.textContent, 263);\n",
       "          };\n",
       "        }\n",
       "      }\n",
       "      for (const element of document.querySelectorAll('.function-repr-contents')) {\n",
       "        element.onclick = (event) => {\n",
       "          event.preventDefault();\n",
       "          event.stopPropagation();\n",
       "          element.classList.toggle('function-repr-contents-collapsed');\n",
       "        };\n",
       "      }\n",
       "      </script>\n",
       "      </div>"
      ],
      "text/plain": [
       "pandas.core.series.Series"
      ]
     },
     "execution_count": 28,
     "metadata": {},
     "output_type": "execute_result"
    }
   ],
   "source": [
    "type(cleaned_filtered_df.created_date)"
   ]
  },
  {
   "cell_type": "code",
   "execution_count": null,
   "metadata": {
    "colab": {
     "base_uri": "https://localhost:8080/"
    },
    "id": "ui3qvR7UyRR3",
    "outputId": "45975a16-549b-42f2-b823-45be17c2d35b"
   },
   "outputs": [
    {
     "data": {
      "text/plain": [
       "(Timestamp('2017-01-01 00:00:00'),\n",
       " Timestamp('2018-12-31 11:58:47'),\n",
       " Timestamp('2017-01-01 00:00:00'),\n",
       " Timestamp('2024-12-29 00:00:00'))"
      ]
     },
     "execution_count": 29,
     "metadata": {},
     "output_type": "execute_result"
    }
   ],
   "source": [
    "cleaned_filtered_df['created_date'].min(), cleaned_filtered_df['created_date'].max(), \\\n",
    "cleaned_filtered_df['closed_date'].min(), cleaned_filtered_df['closed_date'].max()\n",
    "# good"
   ]
  },
  {
   "cell_type": "code",
   "execution_count": null,
   "metadata": {
    "colab": {
     "base_uri": "https://localhost:8080/",
     "height": 359
    },
    "id": "6VtyfYWF-hGV",
    "outputId": "8d082961-8281-4212-bcd3-967c73e5a310"
   },
   "outputs": [
    {
     "data": {
      "application/vnd.google.colaboratory.intrinsic+json": {
       "type": "dataframe",
       "variable_name": "cleaned_filtered_df"
      },
      "text/html": [
       "\n",
       "  <div id=\"df-cd6c0950-fed2-49c6-aec1-334e708b97c8\" class=\"colab-df-container\">\n",
       "    <div>\n",
       "<style scoped>\n",
       "    .dataframe tbody tr th:only-of-type {\n",
       "        vertical-align: middle;\n",
       "    }\n",
       "\n",
       "    .dataframe tbody tr th {\n",
       "        vertical-align: top;\n",
       "    }\n",
       "\n",
       "    .dataframe thead th {\n",
       "        text-align: right;\n",
       "    }\n",
       "</style>\n",
       "<table border=\"1\" class=\"dataframe\">\n",
       "  <thead>\n",
       "    <tr style=\"text-align: right;\">\n",
       "      <th></th>\n",
       "      <th>unique_key</th>\n",
       "      <th>created_date</th>\n",
       "      <th>closed_date</th>\n",
       "      <th>complaint_type</th>\n",
       "      <th>descriptor</th>\n",
       "      <th>location_type</th>\n",
       "      <th>incident_zip</th>\n",
       "      <th>incident_address</th>\n",
       "      <th>street_name</th>\n",
       "      <th>cross_street_1</th>\n",
       "      <th>...</th>\n",
       "      <th>resolution_action_updated_date</th>\n",
       "      <th>bbl</th>\n",
       "      <th>borough</th>\n",
       "      <th>latitude</th>\n",
       "      <th>longitude</th>\n",
       "      <th>location</th>\n",
       "      <th>duration_days</th>\n",
       "      <th>duration_category</th>\n",
       "      <th>created_year</th>\n",
       "      <th>closed_year</th>\n",
       "    </tr>\n",
       "  </thead>\n",
       "  <tbody>\n",
       "    <tr>\n",
       "      <th>5</th>\n",
       "      <td>41313741</td>\n",
       "      <td>2018-12-31 11:58:47</td>\n",
       "      <td>2019-01-10 00:00:00</td>\n",
       "      <td>General Construction/Plumbing</td>\n",
       "      <td>Building Permit - None</td>\n",
       "      <td>NaN</td>\n",
       "      <td>10451.0</td>\n",
       "      <td>825 GERARD AVENUE</td>\n",
       "      <td>GERARD AVENUE</td>\n",
       "      <td>NaN</td>\n",
       "      <td>...</td>\n",
       "      <td>01/10/2019 12:00:00 AM</td>\n",
       "      <td>2.024830e+09</td>\n",
       "      <td>BRONX</td>\n",
       "      <td>40.825866</td>\n",
       "      <td>-73.925913</td>\n",
       "      <td>(40.825865645198235, -73.92591342579004)</td>\n",
       "      <td>9.500845</td>\n",
       "      <td>8-30 days</td>\n",
       "      <td>2018</td>\n",
       "      <td>2019.0</td>\n",
       "    </tr>\n",
       "    <tr>\n",
       "      <th>6</th>\n",
       "      <td>41335801</td>\n",
       "      <td>2018-12-31 11:58:44</td>\n",
       "      <td>2019-01-03 10:25:10</td>\n",
       "      <td>HEAT/HOT WATER</td>\n",
       "      <td>ENTIRE BUILDING</td>\n",
       "      <td>RESIDENTIAL BUILDING</td>\n",
       "      <td>10458.0</td>\n",
       "      <td>2410 WASHINGTON AVENUE</td>\n",
       "      <td>WASHINGTON AVENUE</td>\n",
       "      <td>NaN</td>\n",
       "      <td>...</td>\n",
       "      <td>01/03/2019 10:25:10 AM</td>\n",
       "      <td>2.030570e+09</td>\n",
       "      <td>BRONX</td>\n",
       "      <td>40.858053</td>\n",
       "      <td>-73.890913</td>\n",
       "      <td>(40.858052508996636, -73.8909130551251)</td>\n",
       "      <td>2.935023</td>\n",
       "      <td>1-7 days</td>\n",
       "      <td>2018</td>\n",
       "      <td>2019.0</td>\n",
       "    </tr>\n",
       "    <tr>\n",
       "      <th>13</th>\n",
       "      <td>41481637</td>\n",
       "      <td>2018-12-31 11:57:41</td>\n",
       "      <td>2019-01-22 02:05:22</td>\n",
       "      <td>DOOR/WINDOW</td>\n",
       "      <td>WINDOW FRAME</td>\n",
       "      <td>RESIDENTIAL BUILDING</td>\n",
       "      <td>11207.0</td>\n",
       "      <td>474 RIVERDALE AVENUE</td>\n",
       "      <td>RIVERDALE AVENUE</td>\n",
       "      <td>NaN</td>\n",
       "      <td>...</td>\n",
       "      <td>01/22/2019 02:05:22 AM</td>\n",
       "      <td>3.038340e+09</td>\n",
       "      <td>BROOKLYN</td>\n",
       "      <td>40.662480</td>\n",
       "      <td>-73.898600</td>\n",
       "      <td>(40.662480035678755, -73.89860033599884)</td>\n",
       "      <td>21.588669</td>\n",
       "      <td>8-30 days</td>\n",
       "      <td>2018</td>\n",
       "      <td>2019.0</td>\n",
       "    </tr>\n",
       "    <tr>\n",
       "      <th>14</th>\n",
       "      <td>41484466</td>\n",
       "      <td>2018-12-31 11:57:41</td>\n",
       "      <td>2019-01-22 02:05:22</td>\n",
       "      <td>WATER LEAK</td>\n",
       "      <td>HEAVY FLOW</td>\n",
       "      <td>RESIDENTIAL BUILDING</td>\n",
       "      <td>11207.0</td>\n",
       "      <td>474 RIVERDALE AVENUE</td>\n",
       "      <td>RIVERDALE AVENUE</td>\n",
       "      <td>NaN</td>\n",
       "      <td>...</td>\n",
       "      <td>01/22/2019 02:05:22 AM</td>\n",
       "      <td>3.038340e+09</td>\n",
       "      <td>BROOKLYN</td>\n",
       "      <td>40.662480</td>\n",
       "      <td>-73.898600</td>\n",
       "      <td>(40.662480035678755, -73.89860033599884)</td>\n",
       "      <td>21.588669</td>\n",
       "      <td>8-30 days</td>\n",
       "      <td>2018</td>\n",
       "      <td>2019.0</td>\n",
       "    </tr>\n",
       "    <tr>\n",
       "      <th>15</th>\n",
       "      <td>41845281</td>\n",
       "      <td>2018-12-31 11:57:41</td>\n",
       "      <td>2019-03-01 09:47:08</td>\n",
       "      <td>UNSANITARY CONDITION</td>\n",
       "      <td>MOLD</td>\n",
       "      <td>RESIDENTIAL BUILDING</td>\n",
       "      <td>11378.0</td>\n",
       "      <td>59-15 MASPETH AVENUE</td>\n",
       "      <td>MASPETH AVENUE</td>\n",
       "      <td>NaN</td>\n",
       "      <td>...</td>\n",
       "      <td>03/01/2019 09:47:08 AM</td>\n",
       "      <td>4.026910e+09</td>\n",
       "      <td>QUEENS</td>\n",
       "      <td>40.723177</td>\n",
       "      <td>-73.907819</td>\n",
       "      <td>(40.72317740723669, -73.90781948052384)</td>\n",
       "      <td>59.909340</td>\n",
       "      <td>31-90 days</td>\n",
       "      <td>2018</td>\n",
       "      <td>2019.0</td>\n",
       "    </tr>\n",
       "  </tbody>\n",
       "</table>\n",
       "<p>5 rows × 25 columns</p>\n",
       "</div>\n",
       "    <div class=\"colab-df-buttons\">\n",
       "\n",
       "  <div class=\"colab-df-container\">\n",
       "    <button class=\"colab-df-convert\" onclick=\"convertToInteractive('df-cd6c0950-fed2-49c6-aec1-334e708b97c8')\"\n",
       "            title=\"Convert this dataframe to an interactive table.\"\n",
       "            style=\"display:none;\">\n",
       "\n",
       "  <svg xmlns=\"http://www.w3.org/2000/svg\" height=\"24px\" viewBox=\"0 -960 960 960\">\n",
       "    <path d=\"M120-120v-720h720v720H120Zm60-500h600v-160H180v160Zm220 220h160v-160H400v160Zm0 220h160v-160H400v160ZM180-400h160v-160H180v160Zm440 0h160v-160H620v160ZM180-180h160v-160H180v160Zm440 0h160v-160H620v160Z\"/>\n",
       "  </svg>\n",
       "    </button>\n",
       "\n",
       "  <style>\n",
       "    .colab-df-container {\n",
       "      display:flex;\n",
       "      gap: 12px;\n",
       "    }\n",
       "\n",
       "    .colab-df-convert {\n",
       "      background-color: #E8F0FE;\n",
       "      border: none;\n",
       "      border-radius: 50%;\n",
       "      cursor: pointer;\n",
       "      display: none;\n",
       "      fill: #1967D2;\n",
       "      height: 32px;\n",
       "      padding: 0 0 0 0;\n",
       "      width: 32px;\n",
       "    }\n",
       "\n",
       "    .colab-df-convert:hover {\n",
       "      background-color: #E2EBFA;\n",
       "      box-shadow: 0px 1px 2px rgba(60, 64, 67, 0.3), 0px 1px 3px 1px rgba(60, 64, 67, 0.15);\n",
       "      fill: #174EA6;\n",
       "    }\n",
       "\n",
       "    .colab-df-buttons div {\n",
       "      margin-bottom: 4px;\n",
       "    }\n",
       "\n",
       "    [theme=dark] .colab-df-convert {\n",
       "      background-color: #3B4455;\n",
       "      fill: #D2E3FC;\n",
       "    }\n",
       "\n",
       "    [theme=dark] .colab-df-convert:hover {\n",
       "      background-color: #434B5C;\n",
       "      box-shadow: 0px 1px 3px 1px rgba(0, 0, 0, 0.15);\n",
       "      filter: drop-shadow(0px 1px 2px rgba(0, 0, 0, 0.3));\n",
       "      fill: #FFFFFF;\n",
       "    }\n",
       "  </style>\n",
       "\n",
       "    <script>\n",
       "      const buttonEl =\n",
       "        document.querySelector('#df-cd6c0950-fed2-49c6-aec1-334e708b97c8 button.colab-df-convert');\n",
       "      buttonEl.style.display =\n",
       "        google.colab.kernel.accessAllowed ? 'block' : 'none';\n",
       "\n",
       "      async function convertToInteractive(key) {\n",
       "        const element = document.querySelector('#df-cd6c0950-fed2-49c6-aec1-334e708b97c8');\n",
       "        const dataTable =\n",
       "          await google.colab.kernel.invokeFunction('convertToInteractive',\n",
       "                                                    [key], {});\n",
       "        if (!dataTable) return;\n",
       "\n",
       "        const docLinkHtml = 'Like what you see? Visit the ' +\n",
       "          '<a target=\"_blank\" href=https://colab.research.google.com/notebooks/data_table.ipynb>data table notebook</a>'\n",
       "          + ' to learn more about interactive tables.';\n",
       "        element.innerHTML = '';\n",
       "        dataTable['output_type'] = 'display_data';\n",
       "        await google.colab.output.renderOutput(dataTable, element);\n",
       "        const docLink = document.createElement('div');\n",
       "        docLink.innerHTML = docLinkHtml;\n",
       "        element.appendChild(docLink);\n",
       "      }\n",
       "    </script>\n",
       "  </div>\n",
       "\n",
       "\n",
       "<div id=\"df-94c575a1-540b-45be-b465-d2e6302710b6\">\n",
       "  <button class=\"colab-df-quickchart\" onclick=\"quickchart('df-94c575a1-540b-45be-b465-d2e6302710b6')\"\n",
       "            title=\"Suggest charts\"\n",
       "            style=\"display:none;\">\n",
       "\n",
       "<svg xmlns=\"http://www.w3.org/2000/svg\" height=\"24px\"viewBox=\"0 0 24 24\"\n",
       "     width=\"24px\">\n",
       "    <g>\n",
       "        <path d=\"M19 3H5c-1.1 0-2 .9-2 2v14c0 1.1.9 2 2 2h14c1.1 0 2-.9 2-2V5c0-1.1-.9-2-2-2zM9 17H7v-7h2v7zm4 0h-2V7h2v10zm4 0h-2v-4h2v4z\"/>\n",
       "    </g>\n",
       "</svg>\n",
       "  </button>\n",
       "\n",
       "<style>\n",
       "  .colab-df-quickchart {\n",
       "      --bg-color: #E8F0FE;\n",
       "      --fill-color: #1967D2;\n",
       "      --hover-bg-color: #E2EBFA;\n",
       "      --hover-fill-color: #174EA6;\n",
       "      --disabled-fill-color: #AAA;\n",
       "      --disabled-bg-color: #DDD;\n",
       "  }\n",
       "\n",
       "  [theme=dark] .colab-df-quickchart {\n",
       "      --bg-color: #3B4455;\n",
       "      --fill-color: #D2E3FC;\n",
       "      --hover-bg-color: #434B5C;\n",
       "      --hover-fill-color: #FFFFFF;\n",
       "      --disabled-bg-color: #3B4455;\n",
       "      --disabled-fill-color: #666;\n",
       "  }\n",
       "\n",
       "  .colab-df-quickchart {\n",
       "    background-color: var(--bg-color);\n",
       "    border: none;\n",
       "    border-radius: 50%;\n",
       "    cursor: pointer;\n",
       "    display: none;\n",
       "    fill: var(--fill-color);\n",
       "    height: 32px;\n",
       "    padding: 0;\n",
       "    width: 32px;\n",
       "  }\n",
       "\n",
       "  .colab-df-quickchart:hover {\n",
       "    background-color: var(--hover-bg-color);\n",
       "    box-shadow: 0 1px 2px rgba(60, 64, 67, 0.3), 0 1px 3px 1px rgba(60, 64, 67, 0.15);\n",
       "    fill: var(--button-hover-fill-color);\n",
       "  }\n",
       "\n",
       "  .colab-df-quickchart-complete:disabled,\n",
       "  .colab-df-quickchart-complete:disabled:hover {\n",
       "    background-color: var(--disabled-bg-color);\n",
       "    fill: var(--disabled-fill-color);\n",
       "    box-shadow: none;\n",
       "  }\n",
       "\n",
       "  .colab-df-spinner {\n",
       "    border: 2px solid var(--fill-color);\n",
       "    border-color: transparent;\n",
       "    border-bottom-color: var(--fill-color);\n",
       "    animation:\n",
       "      spin 1s steps(1) infinite;\n",
       "  }\n",
       "\n",
       "  @keyframes spin {\n",
       "    0% {\n",
       "      border-color: transparent;\n",
       "      border-bottom-color: var(--fill-color);\n",
       "      border-left-color: var(--fill-color);\n",
       "    }\n",
       "    20% {\n",
       "      border-color: transparent;\n",
       "      border-left-color: var(--fill-color);\n",
       "      border-top-color: var(--fill-color);\n",
       "    }\n",
       "    30% {\n",
       "      border-color: transparent;\n",
       "      border-left-color: var(--fill-color);\n",
       "      border-top-color: var(--fill-color);\n",
       "      border-right-color: var(--fill-color);\n",
       "    }\n",
       "    40% {\n",
       "      border-color: transparent;\n",
       "      border-right-color: var(--fill-color);\n",
       "      border-top-color: var(--fill-color);\n",
       "    }\n",
       "    60% {\n",
       "      border-color: transparent;\n",
       "      border-right-color: var(--fill-color);\n",
       "    }\n",
       "    80% {\n",
       "      border-color: transparent;\n",
       "      border-right-color: var(--fill-color);\n",
       "      border-bottom-color: var(--fill-color);\n",
       "    }\n",
       "    90% {\n",
       "      border-color: transparent;\n",
       "      border-bottom-color: var(--fill-color);\n",
       "    }\n",
       "  }\n",
       "</style>\n",
       "\n",
       "  <script>\n",
       "    async function quickchart(key) {\n",
       "      const quickchartButtonEl =\n",
       "        document.querySelector('#' + key + ' button');\n",
       "      quickchartButtonEl.disabled = true;  // To prevent multiple clicks.\n",
       "      quickchartButtonEl.classList.add('colab-df-spinner');\n",
       "      try {\n",
       "        const charts = await google.colab.kernel.invokeFunction(\n",
       "            'suggestCharts', [key], {});\n",
       "      } catch (error) {\n",
       "        console.error('Error during call to suggestCharts:', error);\n",
       "      }\n",
       "      quickchartButtonEl.classList.remove('colab-df-spinner');\n",
       "      quickchartButtonEl.classList.add('colab-df-quickchart-complete');\n",
       "    }\n",
       "    (() => {\n",
       "      let quickchartButtonEl =\n",
       "        document.querySelector('#df-94c575a1-540b-45be-b465-d2e6302710b6 button');\n",
       "      quickchartButtonEl.style.display =\n",
       "        google.colab.kernel.accessAllowed ? 'block' : 'none';\n",
       "    })();\n",
       "  </script>\n",
       "</div>\n",
       "\n",
       "    </div>\n",
       "  </div>\n"
      ],
      "text/plain": [
       "    unique_key        created_date         closed_date  \\\n",
       "5     41313741 2018-12-31 11:58:47 2019-01-10 00:00:00   \n",
       "6     41335801 2018-12-31 11:58:44 2019-01-03 10:25:10   \n",
       "13    41481637 2018-12-31 11:57:41 2019-01-22 02:05:22   \n",
       "14    41484466 2018-12-31 11:57:41 2019-01-22 02:05:22   \n",
       "15    41845281 2018-12-31 11:57:41 2019-03-01 09:47:08   \n",
       "\n",
       "                   complaint_type              descriptor  \\\n",
       "5   General Construction/Plumbing  Building Permit - None   \n",
       "6                  HEAT/HOT WATER         ENTIRE BUILDING   \n",
       "13                    DOOR/WINDOW            WINDOW FRAME   \n",
       "14                     WATER LEAK              HEAVY FLOW   \n",
       "15           UNSANITARY CONDITION                    MOLD   \n",
       "\n",
       "           location_type incident_zip        incident_address  \\\n",
       "5                    NaN      10451.0       825 GERARD AVENUE   \n",
       "6   RESIDENTIAL BUILDING      10458.0  2410 WASHINGTON AVENUE   \n",
       "13  RESIDENTIAL BUILDING      11207.0    474 RIVERDALE AVENUE   \n",
       "14  RESIDENTIAL BUILDING      11207.0    474 RIVERDALE AVENUE   \n",
       "15  RESIDENTIAL BUILDING      11378.0    59-15 MASPETH AVENUE   \n",
       "\n",
       "          street_name cross_street_1  ... resolution_action_updated_date  \\\n",
       "5       GERARD AVENUE            NaN  ...         01/10/2019 12:00:00 AM   \n",
       "6   WASHINGTON AVENUE            NaN  ...         01/03/2019 10:25:10 AM   \n",
       "13   RIVERDALE AVENUE            NaN  ...         01/22/2019 02:05:22 AM   \n",
       "14   RIVERDALE AVENUE            NaN  ...         01/22/2019 02:05:22 AM   \n",
       "15     MASPETH AVENUE            NaN  ...         03/01/2019 09:47:08 AM   \n",
       "\n",
       "             bbl   borough   latitude  longitude  \\\n",
       "5   2.024830e+09     BRONX  40.825866 -73.925913   \n",
       "6   2.030570e+09     BRONX  40.858053 -73.890913   \n",
       "13  3.038340e+09  BROOKLYN  40.662480 -73.898600   \n",
       "14  3.038340e+09  BROOKLYN  40.662480 -73.898600   \n",
       "15  4.026910e+09    QUEENS  40.723177 -73.907819   \n",
       "\n",
       "                                    location  duration_days duration_category  \\\n",
       "5   (40.825865645198235, -73.92591342579004)       9.500845         8-30 days   \n",
       "6    (40.858052508996636, -73.8909130551251)       2.935023          1-7 days   \n",
       "13  (40.662480035678755, -73.89860033599884)      21.588669         8-30 days   \n",
       "14  (40.662480035678755, -73.89860033599884)      21.588669         8-30 days   \n",
       "15   (40.72317740723669, -73.90781948052384)      59.909340        31-90 days   \n",
       "\n",
       "    created_year  closed_year  \n",
       "5           2018       2019.0  \n",
       "6           2018       2019.0  \n",
       "13          2018       2019.0  \n",
       "14          2018       2019.0  \n",
       "15          2018       2019.0  \n",
       "\n",
       "[5 rows x 25 columns]"
      ]
     },
     "execution_count": 30,
     "metadata": {},
     "output_type": "execute_result"
    }
   ],
   "source": [
    "cleaned_filtered_df.head()"
   ]
  },
  {
   "cell_type": "code",
   "execution_count": null,
   "metadata": {
    "colab": {
     "base_uri": "https://localhost:8080/"
    },
    "id": "UW9lI9wGs1fR",
    "outputId": "de7b3303-c0e3-4392-abe1-45e9e315d5c8"
   },
   "outputs": [
    {
     "data": {
      "text/plain": [
       "((2124544, 25), (2112681, 25))"
      ]
     },
     "execution_count": 31,
     "metadata": {},
     "output_type": "execute_result"
    }
   ],
   "source": [
    "filtered_df.shape, cleaned_filtered_df.shape # ((2124544, 21), (2112681, 21)), ((1046019, 21), (1038184, 21))"
   ]
  },
  {
   "cell_type": "code",
   "execution_count": null,
   "metadata": {
    "colab": {
     "base_uri": "https://localhost:8080/"
    },
    "id": "HQHMN8iYbagv",
    "outputId": "11a60af4-c5f5-4128-844c-76a806cc6343"
   },
   "outputs": [
    {
     "name": "stdout",
     "output_type": "stream",
     "text": [
      "total records in 2017: 2112681 cases\n",
      "cases created in 2017: 1038203 cases\n",
      "cases created in 2017 and closed by March 31, 2018: 1032946 cases\n",
      "percentage of 2017 cases captured within our cutoff: 99.49%\n"
     ]
    }
   ],
   "source": [
    "records_2017 = get_whole_year_cases(2017, cleaned_filtered_df)"
   ]
  },
  {
   "cell_type": "code",
   "execution_count": null,
   "metadata": {
    "colab": {
     "base_uri": "https://localhost:8080/"
    },
    "id": "EM3mWEyfSpQU",
    "outputId": "55555fe2-880d-4159-8af9-c7d87e89e6e2"
   },
   "outputs": [
    {
     "name": "stdout",
     "output_type": "stream",
     "text": [
      "total records in 2018: 2112681 cases\n",
      "cases created in 2018: 1074478 cases\n",
      "cases created in 2018 and closed by March 31, 2019: 1066249 cases\n",
      "percentage of 2018 cases captured within our cutoff: 99.23%\n"
     ]
    }
   ],
   "source": [
    "records_2018 = get_whole_year_cases(2018, cleaned_filtered_df)\n",
    "# one thing about this particular function is, it works on any one or multiple dataframes to get just one year's data"
   ]
  },
  {
   "cell_type": "code",
   "execution_count": null,
   "metadata": {
    "colab": {
     "base_uri": "https://localhost:8080/"
    },
    "id": "xZ8AG3wwbagw",
    "outputId": "a86bfd2f-415d-4835-eef8-0b765e3a4813"
   },
   "outputs": [
    {
     "data": {
      "text/plain": [
       "(Timestamp('2017-01-01 00:00:00'),\n",
       " Timestamp('2017-12-31 23:59:35'),\n",
       " Timestamp('2017-01-01 00:00:00'),\n",
       " Timestamp('2018-03-31 08:11:33'),\n",
       " (1032946, 25))"
      ]
     },
     "execution_count": 36,
     "metadata": {},
     "output_type": "execute_result"
    }
   ],
   "source": [
    "records_2017.created_date.min(), records_2017.created_date.max(), \\\n",
    "records_2017.closed_date.min(),records_2017.closed_date.max(), \\\n",
    "records_2017.shape"
   ]
  },
  {
   "cell_type": "code",
   "execution_count": null,
   "metadata": {
    "colab": {
     "base_uri": "https://localhost:8080/"
    },
    "id": "CjC_6xjrS2Cg",
    "outputId": "b867998c-4f19-4004-d46c-92608a27b3be"
   },
   "outputs": [
    {
     "data": {
      "text/plain": [
       "(Timestamp('2018-01-01 00:00:00'),\n",
       " Timestamp('2018-12-31 11:58:47'),\n",
       " Timestamp('2018-01-01 00:00:00'),\n",
       " Timestamp('2019-03-31 18:10:54'),\n",
       " (1066249, 25))"
      ]
     },
     "execution_count": 37,
     "metadata": {},
     "output_type": "execute_result"
    }
   ],
   "source": [
    "records_2018.created_date.min(), records_2018.created_date.max(), \\\n",
    "records_2018.closed_date.min(),records_2018.closed_date.max(), \\\n",
    "records_2018.shape"
   ]
  },
  {
   "cell_type": "code",
   "execution_count": null,
   "metadata": {
    "id": "dGlKEQHsfhop"
   },
   "outputs": [],
   "source": [
    "# due to very large file size, save every year's cleaned version to the drive and then later merge them\n",
    "# do it one by one later\n",
    "records_2017.to_csv('/content/drive/My Drive/X999/311_different_years/filtered_df_2017.csv', index=False)"
   ]
  },
  {
   "cell_type": "code",
   "execution_count": null,
   "metadata": {
    "id": "_SAof2JnS-5_"
   },
   "outputs": [],
   "source": [
    "records_2018.to_csv('/content/drive/My Drive/X999/311_different_years/filtered_df_2017.csv', index=False)"
   ]
  },
  {
   "cell_type": "markdown",
   "metadata": {
    "id": "WOO1bD0bHtEb"
   },
   "source": [
    "## After first round of cleanning and reducing, we realize that we need to further reduce the size by removing some more irrelevant columns"
   ]
  },
  {
   "cell_type": "code",
   "execution_count": null,
   "metadata": {
    "id": "V44C9nKUgwFu"
   },
   "outputs": [],
   "source": [
    "# get them back from the cloud\n",
    "saved_2017 = \"/content/drive/My Drive/X999/311_different_years/filtered_df_2017.csv\"\n",
    "saved_2018 = \"/content/drive/My Drive/X999/311_different_years/filtered_df_2018.csv\"\n",
    "saved_2019 = \"/content/drive/My Drive/X999/311_different_years/filtered_df_2019.csv\"\n",
    "saved_2020 = \"/content/drive/My Drive/X999/311_different_years/filtered_df_2020.csv\"\n",
    "saved_2021 = \"/content/drive/My Drive/X999/311_different_years/filtered_df_2021.csv\"\n",
    "saved_2022 = \"/content/drive/My Drive/X999/311_different_years/filtered_df_2022.csv\"\n",
    "saved_2023 = \"/content/drive/My Drive/X999/311_different_years/filtered_df_2023.csv\"\n",
    "saved_2024 = \"/content/drive/My Drive/X999/311_different_years/filtered_df_2024.csv\""
   ]
  },
  {
   "cell_type": "code",
   "execution_count": null,
   "metadata": {
    "id": "KDBlC6MDIA_c"
   },
   "outputs": [],
   "source": [
    "df_2017 = pd.read_csv(saved_2017)\n",
    "df_2018 = pd.read_csv(saved_2018)\n",
    "df_2019 = pd.read_csv(saved_2019)\n",
    "df_2020 = pd.read_csv(saved_2020)\n",
    "df_2021 = pd.read_csv(saved_2021)\n",
    "df_2022 = pd.read_csv(saved_2022)\n",
    "df_2023 = pd.read_csv(saved_2023)\n",
    "df_2024 = pd.read_csv(saved_2024)"
   ]
  },
  {
   "cell_type": "code",
   "execution_count": null,
   "metadata": {
    "colab": {
     "base_uri": "https://localhost:8080/",
     "height": 313
    },
    "id": "SL0FpidvEbjZ",
    "outputId": "c93027f0-0ce0-4595-a3c6-d351ae2173dc"
   },
   "outputs": [
    {
     "data": {
      "application/vnd.google.colaboratory.intrinsic+json": {
       "type": "dataframe",
       "variable_name": "df_2017"
      },
      "text/html": [
       "\n",
       "  <div id=\"df-183cf7a5-7a80-465d-a061-7701d2dd6add\" class=\"colab-df-container\">\n",
       "    <div>\n",
       "<style scoped>\n",
       "    .dataframe tbody tr th:only-of-type {\n",
       "        vertical-align: middle;\n",
       "    }\n",
       "\n",
       "    .dataframe tbody tr th {\n",
       "        vertical-align: top;\n",
       "    }\n",
       "\n",
       "    .dataframe thead th {\n",
       "        text-align: right;\n",
       "    }\n",
       "</style>\n",
       "<table border=\"1\" class=\"dataframe\">\n",
       "  <thead>\n",
       "    <tr style=\"text-align: right;\">\n",
       "      <th></th>\n",
       "      <th>unique_key</th>\n",
       "      <th>created_date</th>\n",
       "      <th>closed_date</th>\n",
       "      <th>complaint_type</th>\n",
       "      <th>descriptor</th>\n",
       "      <th>location_type</th>\n",
       "      <th>incident_zip</th>\n",
       "      <th>incident_address</th>\n",
       "      <th>city</th>\n",
       "      <th>status</th>\n",
       "      <th>bbl</th>\n",
       "      <th>borough</th>\n",
       "      <th>latitude</th>\n",
       "      <th>longitude</th>\n",
       "      <th>duration_days</th>\n",
       "      <th>duration_category</th>\n",
       "      <th>created_year</th>\n",
       "      <th>closed_year</th>\n",
       "    </tr>\n",
       "  </thead>\n",
       "  <tbody>\n",
       "    <tr>\n",
       "      <th>0</th>\n",
       "      <td>38070156</td>\n",
       "      <td>2017-12-31 23:59:35</td>\n",
       "      <td>2018-01-04 19:27:02</td>\n",
       "      <td>HEAT/HOT WATER</td>\n",
       "      <td>ENTIRE BUILDING</td>\n",
       "      <td>RESIDENTIAL BUILDING</td>\n",
       "      <td>10030.0</td>\n",
       "      <td>181 WEST  135 STREET</td>\n",
       "      <td>NEW YORK</td>\n",
       "      <td>Closed</td>\n",
       "      <td>1.019200e+09</td>\n",
       "      <td>MANHATTAN</td>\n",
       "      <td>40.815127</td>\n",
       "      <td>-73.943252</td>\n",
       "      <td>3.810729</td>\n",
       "      <td>1-7 days</td>\n",
       "      <td>2017</td>\n",
       "      <td>2018.0</td>\n",
       "    </tr>\n",
       "    <tr>\n",
       "      <th>1</th>\n",
       "      <td>38067146</td>\n",
       "      <td>2017-12-31 23:59:34</td>\n",
       "      <td>2018-01-01 00:57:19</td>\n",
       "      <td>Noise - Residential</td>\n",
       "      <td>Loud Talking</td>\n",
       "      <td>Residential Building/House</td>\n",
       "      <td>10035.0</td>\n",
       "      <td>2048 MADISON AVENUE</td>\n",
       "      <td>NEW YORK</td>\n",
       "      <td>Closed</td>\n",
       "      <td>1.017540e+09</td>\n",
       "      <td>MANHATTAN</td>\n",
       "      <td>40.808655</td>\n",
       "      <td>-73.938532</td>\n",
       "      <td>0.040104</td>\n",
       "      <td>Same day</td>\n",
       "      <td>2017</td>\n",
       "      <td>2018.0</td>\n",
       "    </tr>\n",
       "    <tr>\n",
       "      <th>2</th>\n",
       "      <td>38066214</td>\n",
       "      <td>2017-12-31 23:59:15</td>\n",
       "      <td>2018-01-01 02:48:23</td>\n",
       "      <td>Noise - Residential</td>\n",
       "      <td>Loud Music/Party</td>\n",
       "      <td>Residential Building/House</td>\n",
       "      <td>10466.0</td>\n",
       "      <td>1902 NEREID AVENUE</td>\n",
       "      <td>BRONX</td>\n",
       "      <td>Closed</td>\n",
       "      <td>2.050540e+09</td>\n",
       "      <td>BRONX</td>\n",
       "      <td>40.898700</td>\n",
       "      <td>-73.848528</td>\n",
       "      <td>0.117454</td>\n",
       "      <td>Same day</td>\n",
       "      <td>2017</td>\n",
       "      <td>2018.0</td>\n",
       "    </tr>\n",
       "    <tr>\n",
       "      <th>3</th>\n",
       "      <td>38067041</td>\n",
       "      <td>2017-12-31 23:58:38</td>\n",
       "      <td>2018-01-01 02:53:28</td>\n",
       "      <td>Noise - Street/Sidewalk</td>\n",
       "      <td>Loud Music/Party</td>\n",
       "      <td>Street/Sidewalk</td>\n",
       "      <td>11230.0</td>\n",
       "      <td>1201 AVENUE H</td>\n",
       "      <td>BROOKLYN</td>\n",
       "      <td>Closed</td>\n",
       "      <td>3.066870e+09</td>\n",
       "      <td>BROOKLYN</td>\n",
       "      <td>40.629675</td>\n",
       "      <td>-73.964939</td>\n",
       "      <td>0.121412</td>\n",
       "      <td>Same day</td>\n",
       "      <td>2017</td>\n",
       "      <td>2018.0</td>\n",
       "    </tr>\n",
       "    <tr>\n",
       "      <th>4</th>\n",
       "      <td>38068229</td>\n",
       "      <td>2017-12-31 23:58:33</td>\n",
       "      <td>2018-01-08 13:30:58</td>\n",
       "      <td>HEAT/HOT WATER</td>\n",
       "      <td>APARTMENT ONLY</td>\n",
       "      <td>RESIDENTIAL BUILDING</td>\n",
       "      <td>11226.0</td>\n",
       "      <td>70 LINDEN BOULEVARD</td>\n",
       "      <td>BROOKLYN</td>\n",
       "      <td>Closed</td>\n",
       "      <td>3.050860e+09</td>\n",
       "      <td>BROOKLYN</td>\n",
       "      <td>40.652289</td>\n",
       "      <td>-73.956328</td>\n",
       "      <td>7.564178</td>\n",
       "      <td>8-30 days</td>\n",
       "      <td>2017</td>\n",
       "      <td>2018.0</td>\n",
       "    </tr>\n",
       "  </tbody>\n",
       "</table>\n",
       "</div>\n",
       "    <div class=\"colab-df-buttons\">\n",
       "\n",
       "  <div class=\"colab-df-container\">\n",
       "    <button class=\"colab-df-convert\" onclick=\"convertToInteractive('df-183cf7a5-7a80-465d-a061-7701d2dd6add')\"\n",
       "            title=\"Convert this dataframe to an interactive table.\"\n",
       "            style=\"display:none;\">\n",
       "\n",
       "  <svg xmlns=\"http://www.w3.org/2000/svg\" height=\"24px\" viewBox=\"0 -960 960 960\">\n",
       "    <path d=\"M120-120v-720h720v720H120Zm60-500h600v-160H180v160Zm220 220h160v-160H400v160Zm0 220h160v-160H400v160ZM180-400h160v-160H180v160Zm440 0h160v-160H620v160ZM180-180h160v-160H180v160Zm440 0h160v-160H620v160Z\"/>\n",
       "  </svg>\n",
       "    </button>\n",
       "\n",
       "  <style>\n",
       "    .colab-df-container {\n",
       "      display:flex;\n",
       "      gap: 12px;\n",
       "    }\n",
       "\n",
       "    .colab-df-convert {\n",
       "      background-color: #E8F0FE;\n",
       "      border: none;\n",
       "      border-radius: 50%;\n",
       "      cursor: pointer;\n",
       "      display: none;\n",
       "      fill: #1967D2;\n",
       "      height: 32px;\n",
       "      padding: 0 0 0 0;\n",
       "      width: 32px;\n",
       "    }\n",
       "\n",
       "    .colab-df-convert:hover {\n",
       "      background-color: #E2EBFA;\n",
       "      box-shadow: 0px 1px 2px rgba(60, 64, 67, 0.3), 0px 1px 3px 1px rgba(60, 64, 67, 0.15);\n",
       "      fill: #174EA6;\n",
       "    }\n",
       "\n",
       "    .colab-df-buttons div {\n",
       "      margin-bottom: 4px;\n",
       "    }\n",
       "\n",
       "    [theme=dark] .colab-df-convert {\n",
       "      background-color: #3B4455;\n",
       "      fill: #D2E3FC;\n",
       "    }\n",
       "\n",
       "    [theme=dark] .colab-df-convert:hover {\n",
       "      background-color: #434B5C;\n",
       "      box-shadow: 0px 1px 3px 1px rgba(0, 0, 0, 0.15);\n",
       "      filter: drop-shadow(0px 1px 2px rgba(0, 0, 0, 0.3));\n",
       "      fill: #FFFFFF;\n",
       "    }\n",
       "  </style>\n",
       "\n",
       "    <script>\n",
       "      const buttonEl =\n",
       "        document.querySelector('#df-183cf7a5-7a80-465d-a061-7701d2dd6add button.colab-df-convert');\n",
       "      buttonEl.style.display =\n",
       "        google.colab.kernel.accessAllowed ? 'block' : 'none';\n",
       "\n",
       "      async function convertToInteractive(key) {\n",
       "        const element = document.querySelector('#df-183cf7a5-7a80-465d-a061-7701d2dd6add');\n",
       "        const dataTable =\n",
       "          await google.colab.kernel.invokeFunction('convertToInteractive',\n",
       "                                                    [key], {});\n",
       "        if (!dataTable) return;\n",
       "\n",
       "        const docLinkHtml = 'Like what you see? Visit the ' +\n",
       "          '<a target=\"_blank\" href=https://colab.research.google.com/notebooks/data_table.ipynb>data table notebook</a>'\n",
       "          + ' to learn more about interactive tables.';\n",
       "        element.innerHTML = '';\n",
       "        dataTable['output_type'] = 'display_data';\n",
       "        await google.colab.output.renderOutput(dataTable, element);\n",
       "        const docLink = document.createElement('div');\n",
       "        docLink.innerHTML = docLinkHtml;\n",
       "        element.appendChild(docLink);\n",
       "      }\n",
       "    </script>\n",
       "  </div>\n",
       "\n",
       "\n",
       "<div id=\"df-3ac18a80-c7d5-46b3-be5c-45671ed0a5cf\">\n",
       "  <button class=\"colab-df-quickchart\" onclick=\"quickchart('df-3ac18a80-c7d5-46b3-be5c-45671ed0a5cf')\"\n",
       "            title=\"Suggest charts\"\n",
       "            style=\"display:none;\">\n",
       "\n",
       "<svg xmlns=\"http://www.w3.org/2000/svg\" height=\"24px\"viewBox=\"0 0 24 24\"\n",
       "     width=\"24px\">\n",
       "    <g>\n",
       "        <path d=\"M19 3H5c-1.1 0-2 .9-2 2v14c0 1.1.9 2 2 2h14c1.1 0 2-.9 2-2V5c0-1.1-.9-2-2-2zM9 17H7v-7h2v7zm4 0h-2V7h2v10zm4 0h-2v-4h2v4z\"/>\n",
       "    </g>\n",
       "</svg>\n",
       "  </button>\n",
       "\n",
       "<style>\n",
       "  .colab-df-quickchart {\n",
       "      --bg-color: #E8F0FE;\n",
       "      --fill-color: #1967D2;\n",
       "      --hover-bg-color: #E2EBFA;\n",
       "      --hover-fill-color: #174EA6;\n",
       "      --disabled-fill-color: #AAA;\n",
       "      --disabled-bg-color: #DDD;\n",
       "  }\n",
       "\n",
       "  [theme=dark] .colab-df-quickchart {\n",
       "      --bg-color: #3B4455;\n",
       "      --fill-color: #D2E3FC;\n",
       "      --hover-bg-color: #434B5C;\n",
       "      --hover-fill-color: #FFFFFF;\n",
       "      --disabled-bg-color: #3B4455;\n",
       "      --disabled-fill-color: #666;\n",
       "  }\n",
       "\n",
       "  .colab-df-quickchart {\n",
       "    background-color: var(--bg-color);\n",
       "    border: none;\n",
       "    border-radius: 50%;\n",
       "    cursor: pointer;\n",
       "    display: none;\n",
       "    fill: var(--fill-color);\n",
       "    height: 32px;\n",
       "    padding: 0;\n",
       "    width: 32px;\n",
       "  }\n",
       "\n",
       "  .colab-df-quickchart:hover {\n",
       "    background-color: var(--hover-bg-color);\n",
       "    box-shadow: 0 1px 2px rgba(60, 64, 67, 0.3), 0 1px 3px 1px rgba(60, 64, 67, 0.15);\n",
       "    fill: var(--button-hover-fill-color);\n",
       "  }\n",
       "\n",
       "  .colab-df-quickchart-complete:disabled,\n",
       "  .colab-df-quickchart-complete:disabled:hover {\n",
       "    background-color: var(--disabled-bg-color);\n",
       "    fill: var(--disabled-fill-color);\n",
       "    box-shadow: none;\n",
       "  }\n",
       "\n",
       "  .colab-df-spinner {\n",
       "    border: 2px solid var(--fill-color);\n",
       "    border-color: transparent;\n",
       "    border-bottom-color: var(--fill-color);\n",
       "    animation:\n",
       "      spin 1s steps(1) infinite;\n",
       "  }\n",
       "\n",
       "  @keyframes spin {\n",
       "    0% {\n",
       "      border-color: transparent;\n",
       "      border-bottom-color: var(--fill-color);\n",
       "      border-left-color: var(--fill-color);\n",
       "    }\n",
       "    20% {\n",
       "      border-color: transparent;\n",
       "      border-left-color: var(--fill-color);\n",
       "      border-top-color: var(--fill-color);\n",
       "    }\n",
       "    30% {\n",
       "      border-color: transparent;\n",
       "      border-left-color: var(--fill-color);\n",
       "      border-top-color: var(--fill-color);\n",
       "      border-right-color: var(--fill-color);\n",
       "    }\n",
       "    40% {\n",
       "      border-color: transparent;\n",
       "      border-right-color: var(--fill-color);\n",
       "      border-top-color: var(--fill-color);\n",
       "    }\n",
       "    60% {\n",
       "      border-color: transparent;\n",
       "      border-right-color: var(--fill-color);\n",
       "    }\n",
       "    80% {\n",
       "      border-color: transparent;\n",
       "      border-right-color: var(--fill-color);\n",
       "      border-bottom-color: var(--fill-color);\n",
       "    }\n",
       "    90% {\n",
       "      border-color: transparent;\n",
       "      border-bottom-color: var(--fill-color);\n",
       "    }\n",
       "  }\n",
       "</style>\n",
       "\n",
       "  <script>\n",
       "    async function quickchart(key) {\n",
       "      const quickchartButtonEl =\n",
       "        document.querySelector('#' + key + ' button');\n",
       "      quickchartButtonEl.disabled = true;  // To prevent multiple clicks.\n",
       "      quickchartButtonEl.classList.add('colab-df-spinner');\n",
       "      try {\n",
       "        const charts = await google.colab.kernel.invokeFunction(\n",
       "            'suggestCharts', [key], {});\n",
       "      } catch (error) {\n",
       "        console.error('Error during call to suggestCharts:', error);\n",
       "      }\n",
       "      quickchartButtonEl.classList.remove('colab-df-spinner');\n",
       "      quickchartButtonEl.classList.add('colab-df-quickchart-complete');\n",
       "    }\n",
       "    (() => {\n",
       "      let quickchartButtonEl =\n",
       "        document.querySelector('#df-3ac18a80-c7d5-46b3-be5c-45671ed0a5cf button');\n",
       "      quickchartButtonEl.style.display =\n",
       "        google.colab.kernel.accessAllowed ? 'block' : 'none';\n",
       "    })();\n",
       "  </script>\n",
       "</div>\n",
       "\n",
       "    </div>\n",
       "  </div>\n"
      ],
      "text/plain": [
       "   unique_key         created_date          closed_date  \\\n",
       "0    38070156  2017-12-31 23:59:35  2018-01-04 19:27:02   \n",
       "1    38067146  2017-12-31 23:59:34  2018-01-01 00:57:19   \n",
       "2    38066214  2017-12-31 23:59:15  2018-01-01 02:48:23   \n",
       "3    38067041  2017-12-31 23:58:38  2018-01-01 02:53:28   \n",
       "4    38068229  2017-12-31 23:58:33  2018-01-08 13:30:58   \n",
       "\n",
       "            complaint_type        descriptor               location_type  \\\n",
       "0           HEAT/HOT WATER   ENTIRE BUILDING        RESIDENTIAL BUILDING   \n",
       "1      Noise - Residential      Loud Talking  Residential Building/House   \n",
       "2      Noise - Residential  Loud Music/Party  Residential Building/House   \n",
       "3  Noise - Street/Sidewalk  Loud Music/Party             Street/Sidewalk   \n",
       "4           HEAT/HOT WATER    APARTMENT ONLY        RESIDENTIAL BUILDING   \n",
       "\n",
       "   incident_zip      incident_address      city  status           bbl  \\\n",
       "0       10030.0  181 WEST  135 STREET  NEW YORK  Closed  1.019200e+09   \n",
       "1       10035.0   2048 MADISON AVENUE  NEW YORK  Closed  1.017540e+09   \n",
       "2       10466.0    1902 NEREID AVENUE     BRONX  Closed  2.050540e+09   \n",
       "3       11230.0         1201 AVENUE H  BROOKLYN  Closed  3.066870e+09   \n",
       "4       11226.0   70 LINDEN BOULEVARD  BROOKLYN  Closed  3.050860e+09   \n",
       "\n",
       "     borough   latitude  longitude  duration_days duration_category  \\\n",
       "0  MANHATTAN  40.815127 -73.943252       3.810729          1-7 days   \n",
       "1  MANHATTAN  40.808655 -73.938532       0.040104          Same day   \n",
       "2      BRONX  40.898700 -73.848528       0.117454          Same day   \n",
       "3   BROOKLYN  40.629675 -73.964939       0.121412          Same day   \n",
       "4   BROOKLYN  40.652289 -73.956328       7.564178         8-30 days   \n",
       "\n",
       "   created_year  closed_year  \n",
       "0          2017       2018.0  \n",
       "1          2017       2018.0  \n",
       "2          2017       2018.0  \n",
       "3          2017       2018.0  \n",
       "4          2017       2018.0  "
      ]
     },
     "execution_count": 7,
     "metadata": {},
     "output_type": "execute_result"
    }
   ],
   "source": [
    "df_2017.head()"
   ]
  },
  {
   "cell_type": "code",
   "execution_count": null,
   "metadata": {
    "id": "q4YA44MihKGj"
   },
   "outputs": [],
   "source": [
    "additional_irrelevant_columns = [\n",
    "    'street_name',\n",
    "    'cross_street_1',\n",
    "    'cross_street_2',\n",
    "    'resolution_description',\n",
    "    'resolution_action_updated_date',\n",
    "    'location',\n",
    "    'address_type'\n",
    "]"
   ]
  },
  {
   "cell_type": "code",
   "execution_count": null,
   "metadata": {
    "colab": {
     "base_uri": "https://localhost:8080/"
    },
    "id": "mX0YY602JrmE",
    "outputId": "0833f698-fdfd-4ae3-c7ff-fed5bace46a4"
   },
   "outputs": [
    {
     "data": {
      "text/plain": [
       "Index(['unique_key', 'created_date', 'closed_date', 'complaint_type',\n",
       "       'descriptor', 'location_type', 'incident_zip', 'incident_address',\n",
       "       'street_name', 'cross_street_1', 'cross_street_2', 'address_type',\n",
       "       'city', 'status', 'resolution_description',\n",
       "       'resolution_action_updated_date', 'bbl', 'borough', 'latitude',\n",
       "       'longitude', 'location', 'duration_days', 'duration_category',\n",
       "       'created_year', 'closed_year'],\n",
       "      dtype='object')"
      ]
     },
     "execution_count": 48,
     "metadata": {},
     "output_type": "execute_result"
    }
   ],
   "source": [
    "df_2017.columns"
   ]
  },
  {
   "cell_type": "code",
   "execution_count": null,
   "metadata": {
    "id": "TxSZ67HTImZ3"
   },
   "outputs": [],
   "source": [
    "df_2017 = df_2017.drop(columns=additional_irrelevant_columns)\n",
    "df_2018 = df_2018.drop(columns=additional_irrelevant_columns)\n",
    "df_2019 = df_2019.drop(columns=additional_irrelevant_columns)\n",
    "df_2020 = df_2020.drop(columns=additional_irrelevant_columns)\n",
    "df_2021 = df_2021.drop(columns=additional_irrelevant_columns)\n",
    "df_2022 = df_2022.drop(columns=additional_irrelevant_columns)\n",
    "df_2023 = df_2023.drop(columns=additional_irrelevant_columns)\n",
    "df_2024 = df_2024.drop(columns=additional_irrelevant_columns)"
   ]
  },
  {
   "cell_type": "code",
   "execution_count": null,
   "metadata": {
    "colab": {
     "base_uri": "https://localhost:8080/"
    },
    "id": "tGwzcn4OJ6ev",
    "outputId": "f79d04b0-0617-4ee9-b662-60323c63170b"
   },
   "outputs": [
    {
     "data": {
      "text/plain": [
       "Index(['unique_key', 'created_date', 'closed_date', 'complaint_type',\n",
       "       'descriptor', 'location_type', 'incident_zip', 'incident_address',\n",
       "       'intersection_street_1', 'intersection_street_2', 'city', 'status',\n",
       "       'bbl', 'borough', 'latitude', 'longitude', 'duration_days',\n",
       "       'duration_category', 'created_year', 'closed_year'],\n",
       "      dtype='object')"
      ]
     },
     "execution_count": 51,
     "metadata": {},
     "output_type": "execute_result"
    }
   ],
   "source": [
    "df_2019.columns"
   ]
  },
  {
   "cell_type": "code",
   "execution_count": null,
   "metadata": {
    "colab": {
     "base_uri": "https://localhost:8080/"
    },
    "id": "BhecHQbXKSSg",
    "outputId": "a6ca6f68-80c2-40fe-87bc-8317a060bedf"
   },
   "outputs": [
    {
     "data": {
      "text/plain": [
       "Index(['unique_key', 'created_date', 'closed_date', 'complaint_type',\n",
       "       'descriptor', 'location_type', 'incident_zip', 'incident_address',\n",
       "       'intersection_street_1', 'intersection_street_2', 'city', 'status',\n",
       "       'bbl', 'borough', 'latitude', 'longitude', 'duration_days',\n",
       "       'duration_category', 'created_year', 'closed_year'],\n",
       "      dtype='object')"
      ]
     },
     "execution_count": 56,
     "metadata": {},
     "output_type": "execute_result"
    }
   ],
   "source": [
    "df_2024.columns"
   ]
  },
  {
   "cell_type": "code",
   "execution_count": null,
   "metadata": {
    "colab": {
     "base_uri": "https://localhost:8080/"
    },
    "id": "x4ykCbHwJ83C",
    "outputId": "c78fc396-3fe9-4f52-fd87-b4a2f4319865"
   },
   "outputs": [
    {
     "data": {
      "text/plain": [
       "Index(['unique_key', 'created_date', 'closed_date', 'complaint_type',\n",
       "       'descriptor', 'location_type', 'incident_zip', 'incident_address',\n",
       "       'city', 'status', 'bbl', 'borough', 'latitude', 'longitude',\n",
       "       'duration_days', 'duration_category', 'created_year', 'closed_year'],\n",
       "      dtype='object')"
      ]
     },
     "execution_count": 52,
     "metadata": {},
     "output_type": "execute_result"
    }
   ],
   "source": [
    "df_2017.columns"
   ]
  },
  {
   "cell_type": "code",
   "execution_count": null,
   "metadata": {
    "colab": {
     "base_uri": "https://localhost:8080/"
    },
    "id": "nX-arnAoJ1B6",
    "outputId": "97f58f87-3b80-4c69-f9d3-86338d5b0fc7"
   },
   "outputs": [
    {
     "data": {
      "text/plain": [
       "((1032946, 18),\n",
       " (1066249, 18),\n",
       " (996996, 20),\n",
       " (1263463, 18),\n",
       " (1355688, 20),\n",
       " (1433295, 18),\n",
       " (1412135, 18),\n",
       " (1527906, 20))"
      ]
     },
     "execution_count": 50,
     "metadata": {},
     "output_type": "execute_result"
    }
   ],
   "source": [
    "df_2017.shape, df_2018.shape, df_2019.shape, df_2020.shape, df_2021.shape, df_2022.shape, df_2023.shape, df_2024.shape"
   ]
  },
  {
   "cell_type": "code",
   "execution_count": null,
   "metadata": {
    "id": "Iz-fxm6xKDZ_"
   },
   "outputs": [],
   "source": [
    "additional_irrelevant_columns2 = [\n",
    "    'intersection_street_1',\n",
    "    'intersection_street_2',\n",
    "]"
   ]
  },
  {
   "cell_type": "code",
   "execution_count": null,
   "metadata": {
    "id": "5Ebbjm3BNhvD"
   },
   "outputs": [],
   "source": [
    "df_2020 = df_2020.drop(columns=additional_irrelevant_columns2)\n",
    "df_2022 = df_2022.drop(columns=additional_irrelevant_columns2)\n",
    "df_2023 = df_2023.drop(columns=additional_irrelevant_columns2)"
   ]
  },
  {
   "cell_type": "code",
   "execution_count": null,
   "metadata": {
    "id": "7KIcvmWEKJwK"
   },
   "outputs": [],
   "source": [
    "df_2024 = df_2024.drop(columns=additional_irrelevant_columns2)\n",
    "df_2021 = df_2021.drop(columns=additional_irrelevant_columns2)\n",
    "df_2019 = df_2019.drop(columns=additional_irrelevant_columns2)"
   ]
  },
  {
   "cell_type": "code",
   "execution_count": null,
   "metadata": {
    "colab": {
     "base_uri": "https://localhost:8080/"
    },
    "id": "WMK2fT_zKdkj",
    "outputId": "cb41daa9-b4aa-45ff-f682-762dd60b9ac0"
   },
   "outputs": [
    {
     "data": {
      "text/plain": [
       "((1032946, 18),\n",
       " (1066249, 18),\n",
       " (996996, 18),\n",
       " (1263463, 18),\n",
       " (1355688, 18),\n",
       " (1433295, 18),\n",
       " (1412135, 18),\n",
       " (1527906, 18))"
      ]
     },
     "execution_count": 58,
     "metadata": {},
     "output_type": "execute_result"
    }
   ],
   "source": [
    "df_2017.shape, df_2018.shape, df_2019.shape, df_2020.shape, df_2021.shape, df_2022.shape, df_2023.shape, df_2024.shape"
   ]
  },
  {
   "cell_type": "code",
   "execution_count": null,
   "metadata": {
    "id": "RIaaBfg6I1wV"
   },
   "outputs": [],
   "source": [
    "# slimmer and more sensile version\n",
    "df_2017.to_csv('/content/drive/My Drive/X999/311_different_years/filtered_df_2017.csv', index=False)\n",
    "df_2018.to_csv('/content/drive/My Drive/X999/311_different_years/filtered_df_2018.csv', index=False)\n",
    "df_2019.to_csv('/content/drive/My Drive/X999/311_different_years/filtered_df_2019.csv', index=False)\n",
    "df_2020.to_csv('/content/drive/My Drive/X999/311_different_years/filtered_df_2020.csv', index=False)\n",
    "df_2021.to_csv('/content/drive/My Drive/X999/311_different_years/filtered_df_2021.csv', index=False)\n",
    "df_2022.to_csv('/content/drive/My Drive/X999/311_different_years/filtered_df_2022.csv', index=False)\n",
    "df_2023.to_csv('/content/drive/My Drive/X999/311_different_years/filtered_df_2023.csv', index=False)\n",
    "df_2024.to_csv('/content/drive/My Drive/X999/311_different_years/filtered_df_2024.csv', index=False)"
   ]
  },
  {
   "cell_type": "code",
   "execution_count": null,
   "metadata": {
    "colab": {
     "base_uri": "https://localhost:8080/"
    },
    "id": "8A893hMYKqz1",
    "outputId": "79a17fba-c98c-4d70-8e02-0d7f89812106"
   },
   "outputs": [
    {
     "data": {
      "text/plain": [
       "(Index(['unique_key', 'created_date', 'closed_date', 'complaint_type',\n",
       "        'descriptor', 'location_type', 'incident_zip', 'incident_address',\n",
       "        'city', 'status', 'bbl', 'borough', 'latitude', 'longitude',\n",
       "        'duration_days', 'duration_category', 'created_year', 'closed_year'],\n",
       "       dtype='object'),\n",
       " (1032946, 18))"
      ]
     },
     "execution_count": 66,
     "metadata": {},
     "output_type": "execute_result"
    }
   ],
   "source": [
    "df_2017.columns, df_2017.shape"
   ]
  },
  {
   "cell_type": "code",
   "execution_count": null,
   "metadata": {
    "colab": {
     "base_uri": "https://localhost:8080/"
    },
    "id": "ueHmQODAMfGU",
    "outputId": "a00c247f-13f9-4ea9-f4b2-c5aa9219a70f"
   },
   "outputs": [
    {
     "data": {
      "text/plain": [
       "array(['RESIDENTIAL BUILDING', 'Residential Building/House',\n",
       "       'Street/Sidewalk', 'Store/Commercial', 'Club/Bar/Restaurant', nan,\n",
       "       'Residential Building', '3+ Family Apartment Building',\n",
       "       'Residential', 'Other (Explain Below)', 'Commercial Building',\n",
       "       '3+ Family Apt. Building', '1-2 Family Dwelling',\n",
       "       '3+ Family Mixed Use Building', '1-2 Family Mixed Use Building',\n",
       "       'Vacant Building', '1-3 Family Dwelling', 'House of Worship',\n",
       "       'Sidewalk', 'Above Address', 'Construction Site', 'Public Garden',\n",
       "       'Single Room Occupancy (SRO)', 'School/Pre-School', 'Restaurant',\n",
       "       'Parking Lot/Garage', 'Hospital', 'Vacant Lot', 'School',\n",
       "       'Office Building', 'Park/Playground', 'Government Building',\n",
       "       'Catch Basin/Sewer', 'Public Stairs', 'Day Care/Nursery',\n",
       "       '1-3 Family Mixed Use Building', 'Summer Camp',\n",
       "       'Residential Property'], dtype=object)"
      ]
     },
     "execution_count": 64,
     "metadata": {},
     "output_type": "execute_result"
    }
   ],
   "source": [
    "df_2017.location_type.unique()"
   ]
  },
  {
   "cell_type": "code",
   "execution_count": null,
   "metadata": {
    "colab": {
     "base_uri": "https://localhost:8080/"
    },
    "id": "6GxyZF42MpM0",
    "outputId": "3f9c9861-c8d9-40b7-be8a-c9b2ade68422"
   },
   "outputs": [
    {
     "data": {
      "text/plain": [
       "array(['181 WEST  135 STREET', '2048 MADISON AVENUE',\n",
       "       '1902 NEREID AVENUE', ..., '435 WILLOWBROOK ROAD',\n",
       "       '74 EAST   95 STREET', '520 EAST  144 STREET'], dtype=object)"
      ]
     },
     "execution_count": 65,
     "metadata": {},
     "output_type": "execute_result"
    }
   ],
   "source": [
    "df_2017.incident_address.unique()"
   ]
  },
  {
   "cell_type": "markdown",
   "metadata": {
    "id": "5rzl0WMILrVM"
   },
   "source": [
    "## However, we could even further reduce the dimension of the dataframe, since they are still very large and contain some less important featurees. To make the future concatenating with each other or merging with other types of datasets more seamless, we decide to further reduce the dataframe dimension."
   ]
  },
  {
   "cell_type": "code",
   "execution_count": null,
   "metadata": {
    "id": "cEzLWrwOLoKv"
   },
   "outputs": [],
   "source": [
    "additional_irrelevant_columns3 = [\n",
    "    'descriptor',\n",
    "    'location_type',\n",
    "    'status',\n",
    "    'city',\n",
    "    'created_year',\n",
    "    'closed_year',\n",
    "    'duration_days',\n",
    "    'duration_category'\n",
    "]"
   ]
  },
  {
   "cell_type": "code",
   "execution_count": null,
   "metadata": {
    "id": "-SgeDIDYMxkD"
   },
   "outputs": [],
   "source": [
    "df_2017 = df_2017.drop(columns=additional_irrelevant_columns3)\n",
    "df_2018 = df_2018.drop(columns=additional_irrelevant_columns3)\n",
    "df_2019 = df_2019.drop(columns=additional_irrelevant_columns3)\n",
    "# df_2020 = df_2020.drop(columns=additional_irrelevant_columns3)\n",
    "df_2021 = df_2021.drop(columns=additional_irrelevant_columns3)\n",
    "# df_2022 = df_2022.drop(columns=additional_irrelevant_columns3)\n",
    "# df_2023 = df_2023.drop(columns=additional_irrelevant_columns3)\n",
    "df_2024 = df_2024.drop(columns=additional_irrelevant_columns3)"
   ]
  },
  {
   "cell_type": "code",
   "execution_count": null,
   "metadata": {
    "id": "vqm86tL0NNiB"
   },
   "outputs": [],
   "source": [
    "additional_irrelevant_columns3 = [\n",
    "    'descriptor',\n",
    "    'location_type',\n",
    "    # 'incident_address',\n",
    "    'status',\n",
    "    'city',\n",
    "    'duration_days',\n",
    "    'duration_category'\n",
    "]"
   ]
  },
  {
   "cell_type": "code",
   "execution_count": null,
   "metadata": {
    "id": "OuX1h73jNQaR"
   },
   "outputs": [],
   "source": [
    "df_2020 = df_2020.drop(columns=additional_irrelevant_columns3)\n",
    "df_2022 = df_2022.drop(columns=additional_irrelevant_columns3)\n",
    "df_2023 = df_2023.drop(columns=additional_irrelevant_columns3)"
   ]
  },
  {
   "cell_type": "code",
   "execution_count": null,
   "metadata": {
    "colab": {
     "base_uri": "https://localhost:8080/"
    },
    "id": "S822_6hWNaRX",
    "outputId": "a60d545f-6c54-43ac-d0dd-458abb05feb5"
   },
   "outputs": [
    {
     "data": {
      "text/plain": [
       "12"
      ]
     },
     "execution_count": 13,
     "metadata": {},
     "output_type": "execute_result"
    }
   ],
   "source": [
    "len(df_2020.columns)"
   ]
  },
  {
   "cell_type": "code",
   "execution_count": null,
   "metadata": {
    "colab": {
     "base_uri": "https://localhost:8080/"
    },
    "id": "RnRSl5qyM0am",
    "outputId": "42956b9c-37c9-4e31-de71-c733e67fc5cc"
   },
   "outputs": [
    {
     "data": {
      "text/plain": [
       "((1032946, 10),\n",
       " (1066249, 10),\n",
       " (996996, 10),\n",
       " (1263463, 10),\n",
       " (1355688, 10),\n",
       " (1433295, 10),\n",
       " (1412135, 10),\n",
       " (1527906, 10))"
      ]
     },
     "execution_count": 22,
     "metadata": {},
     "output_type": "execute_result"
    }
   ],
   "source": [
    "df_2017.shape, df_2018.shape, df_2019.shape, df_2020.shape, df_2021.shape, df_2022.shape, df_2023.shape, df_2024.shape"
   ]
  },
  {
   "cell_type": "code",
   "execution_count": null,
   "metadata": {
    "colab": {
     "base_uri": "https://localhost:8080/"
    },
    "id": "eObuqYpqNFiK",
    "outputId": "d2b4df40-be8a-4b61-9d7e-34c7f531dd4f"
   },
   "outputs": [
    {
     "data": {
      "text/plain": [
       "10"
      ]
     },
     "execution_count": 24,
     "metadata": {},
     "output_type": "execute_result"
    }
   ],
   "source": [
    "len(df_2024.columns)"
   ]
  },
  {
   "cell_type": "code",
   "execution_count": null,
   "metadata": {
    "id": "x4nIm0WuNrDS"
   },
   "outputs": [],
   "source": [
    "df_2017.to_csv('/content/drive/My Drive/X999/311_different_years/filtered_df_2017_reduced.csv', index=False)\n",
    "df_2018.to_csv('/content/drive/My Drive/X999/311_different_years/filtered_df_2018_reduced.csv', index=False)\n",
    "df_2019.to_csv('/content/drive/My Drive/X999/311_different_years/filtered_df_2019_reduced.csv', index=False)\n",
    "df_2020.to_csv('/content/drive/My Drive/X999/311_different_years/filtered_df_2020_reduced.csv', index=False)\n",
    "df_2021.to_csv('/content/drive/My Drive/X999/311_different_years/filtered_df_2021_reduced.csv', index=False)\n",
    "df_2022.to_csv('/content/drive/My Drive/X999/311_different_years/filtered_df_2022_reduced.csv', index=False)\n",
    "df_2023.to_csv('/content/drive/My Drive/X999/311_different_years/filtered_df_2023_reduced.csv', index=False)\n",
    "df_2024.to_csv('/content/drive/My Drive/X999/311_different_years/filtered_df_2024_reduced.csv', index=False)"
   ]
  },
  {
   "cell_type": "code",
   "execution_count": null,
   "metadata": {
    "id": "skZUp23UQVND"
   },
   "outputs": [],
   "source": [
    "link = '/content/drive/My Drive/X999/311_different_years/filtered_df_2024_reduced.csv'"
   ]
  },
  {
   "cell_type": "code",
   "execution_count": null,
   "metadata": {
    "id": "xKF5oDHpQXyS"
   },
   "outputs": [],
   "source": [
    "df = pd.read_csv(link)"
   ]
  },
  {
   "cell_type": "code",
   "execution_count": null,
   "metadata": {
    "colab": {
     "base_uri": "https://localhost:8080/"
    },
    "id": "c79bDMoiQaJY",
    "outputId": "cacd6159-4222-4542-cd01-aa2a0709d7f5"
   },
   "outputs": [
    {
     "data": {
      "text/plain": [
       "10"
      ]
     },
     "execution_count": 29,
     "metadata": {},
     "output_type": "execute_result"
    }
   ],
   "source": [
    "len(df.columns)"
   ]
  },
  {
   "cell_type": "code",
   "execution_count": null,
   "metadata": {
    "colab": {
     "base_uri": "https://localhost:8080/",
     "height": 617
    },
    "id": "yuxItimkN-Ip",
    "outputId": "35a7ba18-b848-46ce-8324-7b1c8c6138c4"
   },
   "outputs": [
    {
     "data": {
      "application/vnd.google.colaboratory.intrinsic+json": {
       "type": "dataframe",
       "variable_name": "df_2017"
      },
      "text/html": [
       "\n",
       "  <div id=\"df-98eb4f79-b205-4162-9645-2ee34751dbc0\" class=\"colab-df-container\">\n",
       "    <div>\n",
       "<style scoped>\n",
       "    .dataframe tbody tr th:only-of-type {\n",
       "        vertical-align: middle;\n",
       "    }\n",
       "\n",
       "    .dataframe tbody tr th {\n",
       "        vertical-align: top;\n",
       "    }\n",
       "\n",
       "    .dataframe thead th {\n",
       "        text-align: right;\n",
       "    }\n",
       "</style>\n",
       "<table border=\"1\" class=\"dataframe\">\n",
       "  <thead>\n",
       "    <tr style=\"text-align: right;\">\n",
       "      <th></th>\n",
       "      <th>unique_key</th>\n",
       "      <th>created_date</th>\n",
       "      <th>closed_date</th>\n",
       "      <th>complaint_type</th>\n",
       "      <th>incident_zip</th>\n",
       "      <th>incident_address</th>\n",
       "      <th>bbl</th>\n",
       "      <th>borough</th>\n",
       "      <th>latitude</th>\n",
       "      <th>longitude</th>\n",
       "    </tr>\n",
       "  </thead>\n",
       "  <tbody>\n",
       "    <tr>\n",
       "      <th>0</th>\n",
       "      <td>38070156</td>\n",
       "      <td>2017-12-31 23:59:35</td>\n",
       "      <td>2018-01-04 19:27:02</td>\n",
       "      <td>HEAT/HOT WATER</td>\n",
       "      <td>10030.0</td>\n",
       "      <td>181 WEST  135 STREET</td>\n",
       "      <td>1.019200e+09</td>\n",
       "      <td>MANHATTAN</td>\n",
       "      <td>40.815127</td>\n",
       "      <td>-73.943252</td>\n",
       "    </tr>\n",
       "    <tr>\n",
       "      <th>1</th>\n",
       "      <td>38067146</td>\n",
       "      <td>2017-12-31 23:59:34</td>\n",
       "      <td>2018-01-01 00:57:19</td>\n",
       "      <td>Noise - Residential</td>\n",
       "      <td>10035.0</td>\n",
       "      <td>2048 MADISON AVENUE</td>\n",
       "      <td>1.017540e+09</td>\n",
       "      <td>MANHATTAN</td>\n",
       "      <td>40.808655</td>\n",
       "      <td>-73.938532</td>\n",
       "    </tr>\n",
       "    <tr>\n",
       "      <th>2</th>\n",
       "      <td>38066214</td>\n",
       "      <td>2017-12-31 23:59:15</td>\n",
       "      <td>2018-01-01 02:48:23</td>\n",
       "      <td>Noise - Residential</td>\n",
       "      <td>10466.0</td>\n",
       "      <td>1902 NEREID AVENUE</td>\n",
       "      <td>2.050540e+09</td>\n",
       "      <td>BRONX</td>\n",
       "      <td>40.898700</td>\n",
       "      <td>-73.848528</td>\n",
       "    </tr>\n",
       "    <tr>\n",
       "      <th>3</th>\n",
       "      <td>38067041</td>\n",
       "      <td>2017-12-31 23:58:38</td>\n",
       "      <td>2018-01-01 02:53:28</td>\n",
       "      <td>Noise - Street/Sidewalk</td>\n",
       "      <td>11230.0</td>\n",
       "      <td>1201 AVENUE H</td>\n",
       "      <td>3.066870e+09</td>\n",
       "      <td>BROOKLYN</td>\n",
       "      <td>40.629675</td>\n",
       "      <td>-73.964939</td>\n",
       "    </tr>\n",
       "    <tr>\n",
       "      <th>4</th>\n",
       "      <td>38068229</td>\n",
       "      <td>2017-12-31 23:58:33</td>\n",
       "      <td>2018-01-08 13:30:58</td>\n",
       "      <td>HEAT/HOT WATER</td>\n",
       "      <td>11226.0</td>\n",
       "      <td>70 LINDEN BOULEVARD</td>\n",
       "      <td>3.050860e+09</td>\n",
       "      <td>BROOKLYN</td>\n",
       "      <td>40.652289</td>\n",
       "      <td>-73.956328</td>\n",
       "    </tr>\n",
       "    <tr>\n",
       "      <th>...</th>\n",
       "      <td>...</td>\n",
       "      <td>...</td>\n",
       "      <td>...</td>\n",
       "      <td>...</td>\n",
       "      <td>...</td>\n",
       "      <td>...</td>\n",
       "      <td>...</td>\n",
       "      <td>...</td>\n",
       "      <td>...</td>\n",
       "      <td>...</td>\n",
       "    </tr>\n",
       "    <tr>\n",
       "      <th>1032941</th>\n",
       "      <td>35147286</td>\n",
       "      <td>2017-01-01 00:00:00</td>\n",
       "      <td>2017-01-01 00:00:00</td>\n",
       "      <td>HEAT/HOT WATER</td>\n",
       "      <td>10454.0</td>\n",
       "      <td>520 EAST  144 STREET</td>\n",
       "      <td>2.022690e+09</td>\n",
       "      <td>BRONX</td>\n",
       "      <td>40.811424</td>\n",
       "      <td>-73.916165</td>\n",
       "    </tr>\n",
       "    <tr>\n",
       "      <th>1032942</th>\n",
       "      <td>35147155</td>\n",
       "      <td>2017-01-01 00:00:00</td>\n",
       "      <td>2017-01-04 16:19:56</td>\n",
       "      <td>Unsanitary Pigeon Condition</td>\n",
       "      <td>11208.0</td>\n",
       "      <td>735 LINCOLN AVENUE</td>\n",
       "      <td>3.042719e+09</td>\n",
       "      <td>BROOKLYN</td>\n",
       "      <td>40.671189</td>\n",
       "      <td>-73.866071</td>\n",
       "    </tr>\n",
       "    <tr>\n",
       "      <th>1032943</th>\n",
       "      <td>35146489</td>\n",
       "      <td>2017-01-01 00:00:00</td>\n",
       "      <td>2017-01-05 00:00:00</td>\n",
       "      <td>Rodent</td>\n",
       "      <td>10028.0</td>\n",
       "      <td>315 EAST   86 STREET</td>\n",
       "      <td>1.015490e+09</td>\n",
       "      <td>MANHATTAN</td>\n",
       "      <td>40.777632</td>\n",
       "      <td>-73.951144</td>\n",
       "    </tr>\n",
       "    <tr>\n",
       "      <th>1032944</th>\n",
       "      <td>35147048</td>\n",
       "      <td>2017-01-01 00:00:00</td>\n",
       "      <td>2017-01-01 00:00:00</td>\n",
       "      <td>Rodent</td>\n",
       "      <td>10003.0</td>\n",
       "      <td>71 EAST    4 STREET</td>\n",
       "      <td>1.004600e+09</td>\n",
       "      <td>MANHATTAN</td>\n",
       "      <td>40.726604</td>\n",
       "      <td>-73.990381</td>\n",
       "    </tr>\n",
       "    <tr>\n",
       "      <th>1032945</th>\n",
       "      <td>35146902</td>\n",
       "      <td>2017-01-01 00:00:00</td>\n",
       "      <td>2017-01-01 00:00:00</td>\n",
       "      <td>Rodent</td>\n",
       "      <td>11206.0</td>\n",
       "      <td>48 JEFFERSON STREET</td>\n",
       "      <td>3.031710e+09</td>\n",
       "      <td>BROOKLYN</td>\n",
       "      <td>40.698646</td>\n",
       "      <td>-73.933228</td>\n",
       "    </tr>\n",
       "  </tbody>\n",
       "</table>\n",
       "<p>1032946 rows × 10 columns</p>\n",
       "</div>\n",
       "    <div class=\"colab-df-buttons\">\n",
       "\n",
       "  <div class=\"colab-df-container\">\n",
       "    <button class=\"colab-df-convert\" onclick=\"convertToInteractive('df-98eb4f79-b205-4162-9645-2ee34751dbc0')\"\n",
       "            title=\"Convert this dataframe to an interactive table.\"\n",
       "            style=\"display:none;\">\n",
       "\n",
       "  <svg xmlns=\"http://www.w3.org/2000/svg\" height=\"24px\" viewBox=\"0 -960 960 960\">\n",
       "    <path d=\"M120-120v-720h720v720H120Zm60-500h600v-160H180v160Zm220 220h160v-160H400v160Zm0 220h160v-160H400v160ZM180-400h160v-160H180v160Zm440 0h160v-160H620v160ZM180-180h160v-160H180v160Zm440 0h160v-160H620v160Z\"/>\n",
       "  </svg>\n",
       "    </button>\n",
       "\n",
       "  <style>\n",
       "    .colab-df-container {\n",
       "      display:flex;\n",
       "      gap: 12px;\n",
       "    }\n",
       "\n",
       "    .colab-df-convert {\n",
       "      background-color: #E8F0FE;\n",
       "      border: none;\n",
       "      border-radius: 50%;\n",
       "      cursor: pointer;\n",
       "      display: none;\n",
       "      fill: #1967D2;\n",
       "      height: 32px;\n",
       "      padding: 0 0 0 0;\n",
       "      width: 32px;\n",
       "    }\n",
       "\n",
       "    .colab-df-convert:hover {\n",
       "      background-color: #E2EBFA;\n",
       "      box-shadow: 0px 1px 2px rgba(60, 64, 67, 0.3), 0px 1px 3px 1px rgba(60, 64, 67, 0.15);\n",
       "      fill: #174EA6;\n",
       "    }\n",
       "\n",
       "    .colab-df-buttons div {\n",
       "      margin-bottom: 4px;\n",
       "    }\n",
       "\n",
       "    [theme=dark] .colab-df-convert {\n",
       "      background-color: #3B4455;\n",
       "      fill: #D2E3FC;\n",
       "    }\n",
       "\n",
       "    [theme=dark] .colab-df-convert:hover {\n",
       "      background-color: #434B5C;\n",
       "      box-shadow: 0px 1px 3px 1px rgba(0, 0, 0, 0.15);\n",
       "      filter: drop-shadow(0px 1px 2px rgba(0, 0, 0, 0.3));\n",
       "      fill: #FFFFFF;\n",
       "    }\n",
       "  </style>\n",
       "\n",
       "    <script>\n",
       "      const buttonEl =\n",
       "        document.querySelector('#df-98eb4f79-b205-4162-9645-2ee34751dbc0 button.colab-df-convert');\n",
       "      buttonEl.style.display =\n",
       "        google.colab.kernel.accessAllowed ? 'block' : 'none';\n",
       "\n",
       "      async function convertToInteractive(key) {\n",
       "        const element = document.querySelector('#df-98eb4f79-b205-4162-9645-2ee34751dbc0');\n",
       "        const dataTable =\n",
       "          await google.colab.kernel.invokeFunction('convertToInteractive',\n",
       "                                                    [key], {});\n",
       "        if (!dataTable) return;\n",
       "\n",
       "        const docLinkHtml = 'Like what you see? Visit the ' +\n",
       "          '<a target=\"_blank\" href=https://colab.research.google.com/notebooks/data_table.ipynb>data table notebook</a>'\n",
       "          + ' to learn more about interactive tables.';\n",
       "        element.innerHTML = '';\n",
       "        dataTable['output_type'] = 'display_data';\n",
       "        await google.colab.output.renderOutput(dataTable, element);\n",
       "        const docLink = document.createElement('div');\n",
       "        docLink.innerHTML = docLinkHtml;\n",
       "        element.appendChild(docLink);\n",
       "      }\n",
       "    </script>\n",
       "  </div>\n",
       "\n",
       "\n",
       "<div id=\"df-731ecf66-e8a5-4001-9cc7-409ed984e355\">\n",
       "  <button class=\"colab-df-quickchart\" onclick=\"quickchart('df-731ecf66-e8a5-4001-9cc7-409ed984e355')\"\n",
       "            title=\"Suggest charts\"\n",
       "            style=\"display:none;\">\n",
       "\n",
       "<svg xmlns=\"http://www.w3.org/2000/svg\" height=\"24px\"viewBox=\"0 0 24 24\"\n",
       "     width=\"24px\">\n",
       "    <g>\n",
       "        <path d=\"M19 3H5c-1.1 0-2 .9-2 2v14c0 1.1.9 2 2 2h14c1.1 0 2-.9 2-2V5c0-1.1-.9-2-2-2zM9 17H7v-7h2v7zm4 0h-2V7h2v10zm4 0h-2v-4h2v4z\"/>\n",
       "    </g>\n",
       "</svg>\n",
       "  </button>\n",
       "\n",
       "<style>\n",
       "  .colab-df-quickchart {\n",
       "      --bg-color: #E8F0FE;\n",
       "      --fill-color: #1967D2;\n",
       "      --hover-bg-color: #E2EBFA;\n",
       "      --hover-fill-color: #174EA6;\n",
       "      --disabled-fill-color: #AAA;\n",
       "      --disabled-bg-color: #DDD;\n",
       "  }\n",
       "\n",
       "  [theme=dark] .colab-df-quickchart {\n",
       "      --bg-color: #3B4455;\n",
       "      --fill-color: #D2E3FC;\n",
       "      --hover-bg-color: #434B5C;\n",
       "      --hover-fill-color: #FFFFFF;\n",
       "      --disabled-bg-color: #3B4455;\n",
       "      --disabled-fill-color: #666;\n",
       "  }\n",
       "\n",
       "  .colab-df-quickchart {\n",
       "    background-color: var(--bg-color);\n",
       "    border: none;\n",
       "    border-radius: 50%;\n",
       "    cursor: pointer;\n",
       "    display: none;\n",
       "    fill: var(--fill-color);\n",
       "    height: 32px;\n",
       "    padding: 0;\n",
       "    width: 32px;\n",
       "  }\n",
       "\n",
       "  .colab-df-quickchart:hover {\n",
       "    background-color: var(--hover-bg-color);\n",
       "    box-shadow: 0 1px 2px rgba(60, 64, 67, 0.3), 0 1px 3px 1px rgba(60, 64, 67, 0.15);\n",
       "    fill: var(--button-hover-fill-color);\n",
       "  }\n",
       "\n",
       "  .colab-df-quickchart-complete:disabled,\n",
       "  .colab-df-quickchart-complete:disabled:hover {\n",
       "    background-color: var(--disabled-bg-color);\n",
       "    fill: var(--disabled-fill-color);\n",
       "    box-shadow: none;\n",
       "  }\n",
       "\n",
       "  .colab-df-spinner {\n",
       "    border: 2px solid var(--fill-color);\n",
       "    border-color: transparent;\n",
       "    border-bottom-color: var(--fill-color);\n",
       "    animation:\n",
       "      spin 1s steps(1) infinite;\n",
       "  }\n",
       "\n",
       "  @keyframes spin {\n",
       "    0% {\n",
       "      border-color: transparent;\n",
       "      border-bottom-color: var(--fill-color);\n",
       "      border-left-color: var(--fill-color);\n",
       "    }\n",
       "    20% {\n",
       "      border-color: transparent;\n",
       "      border-left-color: var(--fill-color);\n",
       "      border-top-color: var(--fill-color);\n",
       "    }\n",
       "    30% {\n",
       "      border-color: transparent;\n",
       "      border-left-color: var(--fill-color);\n",
       "      border-top-color: var(--fill-color);\n",
       "      border-right-color: var(--fill-color);\n",
       "    }\n",
       "    40% {\n",
       "      border-color: transparent;\n",
       "      border-right-color: var(--fill-color);\n",
       "      border-top-color: var(--fill-color);\n",
       "    }\n",
       "    60% {\n",
       "      border-color: transparent;\n",
       "      border-right-color: var(--fill-color);\n",
       "    }\n",
       "    80% {\n",
       "      border-color: transparent;\n",
       "      border-right-color: var(--fill-color);\n",
       "      border-bottom-color: var(--fill-color);\n",
       "    }\n",
       "    90% {\n",
       "      border-color: transparent;\n",
       "      border-bottom-color: var(--fill-color);\n",
       "    }\n",
       "  }\n",
       "</style>\n",
       "\n",
       "  <script>\n",
       "    async function quickchart(key) {\n",
       "      const quickchartButtonEl =\n",
       "        document.querySelector('#' + key + ' button');\n",
       "      quickchartButtonEl.disabled = true;  // To prevent multiple clicks.\n",
       "      quickchartButtonEl.classList.add('colab-df-spinner');\n",
       "      try {\n",
       "        const charts = await google.colab.kernel.invokeFunction(\n",
       "            'suggestCharts', [key], {});\n",
       "      } catch (error) {\n",
       "        console.error('Error during call to suggestCharts:', error);\n",
       "      }\n",
       "      quickchartButtonEl.classList.remove('colab-df-spinner');\n",
       "      quickchartButtonEl.classList.add('colab-df-quickchart-complete');\n",
       "    }\n",
       "    (() => {\n",
       "      let quickchartButtonEl =\n",
       "        document.querySelector('#df-731ecf66-e8a5-4001-9cc7-409ed984e355 button');\n",
       "      quickchartButtonEl.style.display =\n",
       "        google.colab.kernel.accessAllowed ? 'block' : 'none';\n",
       "    })();\n",
       "  </script>\n",
       "</div>\n",
       "\n",
       "  <div id=\"id_bff99087-b101-4100-9d94-62a629ed30d5\">\n",
       "    <style>\n",
       "      .colab-df-generate {\n",
       "        background-color: #E8F0FE;\n",
       "        border: none;\n",
       "        border-radius: 50%;\n",
       "        cursor: pointer;\n",
       "        display: none;\n",
       "        fill: #1967D2;\n",
       "        height: 32px;\n",
       "        padding: 0 0 0 0;\n",
       "        width: 32px;\n",
       "      }\n",
       "\n",
       "      .colab-df-generate:hover {\n",
       "        background-color: #E2EBFA;\n",
       "        box-shadow: 0px 1px 2px rgba(60, 64, 67, 0.3), 0px 1px 3px 1px rgba(60, 64, 67, 0.15);\n",
       "        fill: #174EA6;\n",
       "      }\n",
       "\n",
       "      [theme=dark] .colab-df-generate {\n",
       "        background-color: #3B4455;\n",
       "        fill: #D2E3FC;\n",
       "      }\n",
       "\n",
       "      [theme=dark] .colab-df-generate:hover {\n",
       "        background-color: #434B5C;\n",
       "        box-shadow: 0px 1px 3px 1px rgba(0, 0, 0, 0.15);\n",
       "        filter: drop-shadow(0px 1px 2px rgba(0, 0, 0, 0.3));\n",
       "        fill: #FFFFFF;\n",
       "      }\n",
       "    </style>\n",
       "    <button class=\"colab-df-generate\" onclick=\"generateWithVariable('df_2017')\"\n",
       "            title=\"Generate code using this dataframe.\"\n",
       "            style=\"display:none;\">\n",
       "\n",
       "  <svg xmlns=\"http://www.w3.org/2000/svg\" height=\"24px\"viewBox=\"0 0 24 24\"\n",
       "       width=\"24px\">\n",
       "    <path d=\"M7,19H8.4L18.45,9,17,7.55,7,17.6ZM5,21V16.75L18.45,3.32a2,2,0,0,1,2.83,0l1.4,1.43a1.91,1.91,0,0,1,.58,1.4,1.91,1.91,0,0,1-.58,1.4L9.25,21ZM18.45,9,17,7.55Zm-12,3A5.31,5.31,0,0,0,4.9,8.1,5.31,5.31,0,0,0,1,6.5,5.31,5.31,0,0,0,4.9,4.9,5.31,5.31,0,0,0,6.5,1,5.31,5.31,0,0,0,8.1,4.9,5.31,5.31,0,0,0,12,6.5,5.46,5.46,0,0,0,6.5,12Z\"/>\n",
       "  </svg>\n",
       "    </button>\n",
       "    <script>\n",
       "      (() => {\n",
       "      const buttonEl =\n",
       "        document.querySelector('#id_bff99087-b101-4100-9d94-62a629ed30d5 button.colab-df-generate');\n",
       "      buttonEl.style.display =\n",
       "        google.colab.kernel.accessAllowed ? 'block' : 'none';\n",
       "\n",
       "      buttonEl.onclick = () => {\n",
       "        google.colab.notebook.generateWithVariable('df_2017');\n",
       "      }\n",
       "      })();\n",
       "    </script>\n",
       "  </div>\n",
       "\n",
       "    </div>\n",
       "  </div>\n"
      ],
      "text/plain": [
       "         unique_key         created_date          closed_date  \\\n",
       "0          38070156  2017-12-31 23:59:35  2018-01-04 19:27:02   \n",
       "1          38067146  2017-12-31 23:59:34  2018-01-01 00:57:19   \n",
       "2          38066214  2017-12-31 23:59:15  2018-01-01 02:48:23   \n",
       "3          38067041  2017-12-31 23:58:38  2018-01-01 02:53:28   \n",
       "4          38068229  2017-12-31 23:58:33  2018-01-08 13:30:58   \n",
       "...             ...                  ...                  ...   \n",
       "1032941    35147286  2017-01-01 00:00:00  2017-01-01 00:00:00   \n",
       "1032942    35147155  2017-01-01 00:00:00  2017-01-04 16:19:56   \n",
       "1032943    35146489  2017-01-01 00:00:00  2017-01-05 00:00:00   \n",
       "1032944    35147048  2017-01-01 00:00:00  2017-01-01 00:00:00   \n",
       "1032945    35146902  2017-01-01 00:00:00  2017-01-01 00:00:00   \n",
       "\n",
       "                      complaint_type  incident_zip      incident_address  \\\n",
       "0                     HEAT/HOT WATER       10030.0  181 WEST  135 STREET   \n",
       "1                Noise - Residential       10035.0   2048 MADISON AVENUE   \n",
       "2                Noise - Residential       10466.0    1902 NEREID AVENUE   \n",
       "3            Noise - Street/Sidewalk       11230.0         1201 AVENUE H   \n",
       "4                     HEAT/HOT WATER       11226.0   70 LINDEN BOULEVARD   \n",
       "...                              ...           ...                   ...   \n",
       "1032941               HEAT/HOT WATER       10454.0  520 EAST  144 STREET   \n",
       "1032942  Unsanitary Pigeon Condition       11208.0    735 LINCOLN AVENUE   \n",
       "1032943                       Rodent       10028.0  315 EAST   86 STREET   \n",
       "1032944                       Rodent       10003.0   71 EAST    4 STREET   \n",
       "1032945                       Rodent       11206.0   48 JEFFERSON STREET   \n",
       "\n",
       "                  bbl    borough   latitude  longitude  \n",
       "0        1.019200e+09  MANHATTAN  40.815127 -73.943252  \n",
       "1        1.017540e+09  MANHATTAN  40.808655 -73.938532  \n",
       "2        2.050540e+09      BRONX  40.898700 -73.848528  \n",
       "3        3.066870e+09   BROOKLYN  40.629675 -73.964939  \n",
       "4        3.050860e+09   BROOKLYN  40.652289 -73.956328  \n",
       "...               ...        ...        ...        ...  \n",
       "1032941  2.022690e+09      BRONX  40.811424 -73.916165  \n",
       "1032942  3.042719e+09   BROOKLYN  40.671189 -73.866071  \n",
       "1032943  1.015490e+09  MANHATTAN  40.777632 -73.951144  \n",
       "1032944  1.004600e+09  MANHATTAN  40.726604 -73.990381  \n",
       "1032945  3.031710e+09   BROOKLYN  40.698646 -73.933228  \n",
       "\n",
       "[1032946 rows x 10 columns]"
      ]
     },
     "execution_count": 30,
     "metadata": {},
     "output_type": "execute_result"
    }
   ],
   "source": [
    "# a current and final look (we may even futher reduce them during analysis)\n",
    "# 10 columns in total\n",
    "df_2017"
   ]
  },
  {
   "cell_type": "code",
   "execution_count": null,
   "metadata": {
    "id": "EULeoJCDQZWC"
   },
   "outputs": [],
   "source": []
  },
  {
   "cell_type": "code",
   "execution_count": null,
   "metadata": {
    "id": "nr0zTSQ_OrHX"
   },
   "outputs": [],
   "source": []
  }
 ],
 "metadata": {
  "colab": {
   "gpuType": "A100",
   "machine_shape": "hm",
   "provenance": []
  },
  "kernelspec": {
   "display_name": "Python 3 (ipykernel)",
   "language": "python",
   "name": "python3"
  },
  "language_info": {
   "codemirror_mode": {
    "name": "ipython",
    "version": 3
   },
   "file_extension": ".py",
   "mimetype": "text/x-python",
   "name": "python",
   "nbconvert_exporter": "python",
   "pygments_lexer": "ipython3",
   "version": "3.11.0"
  }
 },
 "nbformat": 4,
 "nbformat_minor": 0
}
