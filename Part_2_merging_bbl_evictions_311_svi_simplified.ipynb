{
 "cells": [
  {
   "cell_type": "code",
   "execution_count": 2,
   "metadata": {
    "id": "PN_U9et3qjx7"
   },
   "outputs": [],
   "source": [
    "# !pip install geopandas folium matplotlib seaborn scipy\n",
    "# !pip install esda\n",
    "# !pip install splot\n",
    "# # for google colab, had to reinstall some pacakges."
   ]
  },
  {
   "cell_type": "code",
   "execution_count": 3,
   "metadata": {
    "id": "0j1GVN6Sqs0d"
   },
   "outputs": [],
   "source": [
    "import pandas as pd\n",
    "import numpy as np\n",
    "from scipy import stats\n",
    "import datetime as dt\n",
    "import matplotlib\n",
    "import matplotlib.pyplot as plt\n",
    "import os\n",
    "import io\n",
    "import geopandas as gpd\n",
    "import seaborn as sns\n",
    "\n",
    "# suppress warning\n",
    "import warnings\n",
    "warnings.filterwarnings('ignore')\n",
    "\n",
    "%matplotlib inline"
   ]
  },
  {
   "cell_type": "code",
   "execution_count": 4,
   "metadata": {
    "colab": {
     "base_uri": "https://localhost:8080/"
    },
    "id": "yL8pJMQbqwK_",
    "outputId": "a61aea59-204e-463b-c7cd-6cf6f1ed5a93"
   },
   "outputs": [
    {
     "name": "stdout",
     "output_type": "stream",
     "text": [
      "Mounted at /content/drive\n"
     ]
    }
   ],
   "source": [
    "from google.colab import drive\n",
    "drive.mount('/content/drive')"
   ]
  },
  {
   "cell_type": "code",
   "execution_count": 5,
   "metadata": {
    "id": "bw2k7BqMMRTr"
   },
   "outputs": [],
   "source": [
    "file_path1 = '/content/drive/My Drive/X999/bbl_evictions_merged.csv'"
   ]
  },
  {
   "cell_type": "markdown",
   "metadata": {
    "id": "MISUltnfzzUB"
   },
   "source": []
  },
  {
   "cell_type": "code",
   "execution_count": 6,
   "metadata": {
    "id": "NhxlMVk2aX7Y"
   },
   "outputs": [],
   "source": [
    "file_path2 = '/content/drive/My Drive/X999/svi_cleaned.csv'"
   ]
  },
  {
   "cell_type": "code",
   "execution_count": 7,
   "metadata": {
    "id": "zFtAZ7Yx6U4l"
   },
   "outputs": [],
   "source": [
    "file_path3 = '/content/drive/My Drive/X999/bbl_evictions_svi.csv'"
   ]
  },
  {
   "cell_type": "code",
   "execution_count": 8,
   "metadata": {
    "id": "6IJp5Keo8nbw"
   },
   "outputs": [],
   "source": [
    "file_path5 = '/content/drive/My Drive/X999/svi_simplified.csv'"
   ]
  },
  {
   "cell_type": "markdown",
   "metadata": {
    "id": "BANEjkYp8m6Y"
   },
   "source": []
  },
  {
   "cell_type": "code",
   "execution_count": 9,
   "metadata": {
    "id": "3EGzBLiH6YsO"
   },
   "outputs": [],
   "source": [
    "bbl_evictions_svi_df = pd.read_csv(file_path3)"
   ]
  },
  {
   "cell_type": "code",
   "execution_count": 10,
   "metadata": {
    "id": "7nKPJI5i7hNU"
   },
   "outputs": [],
   "source": [
    "file_path4 = '/content/drive/My Drive/X999/bbl_evcitions_311_df_groupby_bbl.csv'"
   ]
  },
  {
   "cell_type": "code",
   "execution_count": 11,
   "metadata": {
    "id": "z3Km_c9K6nCv"
   },
   "outputs": [],
   "source": [
    "bbl_evictions_311_df = pd.read_csv(file_path4)"
   ]
  },
  {
   "cell_type": "code",
   "execution_count": 12,
   "metadata": {
    "id": "VqTboIPm6f28"
   },
   "outputs": [],
   "source": [
    "svi_simplified_df = pd.read_csv(file_path5)"
   ]
  },
  {
   "cell_type": "code",
   "execution_count": 13,
   "metadata": {
    "colab": {
     "base_uri": "https://localhost:8080/"
    },
    "id": "xbUjTNFy8voX",
    "outputId": "10fb4dc7-e787-4b85-b2fe-393d331416b1"
   },
   "outputs": [
    {
     "data": {
      "text/plain": [
       "Index(['FIPS', 'E_TOTPOP', 'RPL_THEME1', 'RPL_THEME2', 'RPL_THEME3',\n",
       "       'RPL_THEME4', 'RPL_THEMES', 'EP_POV150', 'EP_UNEMP', 'EP_NOHSDP',\n",
       "       'EP_UNINSUR', 'EP_AGE65', 'EP_AGE17', 'EP_DISABL', 'EP_LIMENG',\n",
       "       'EP_NOVEH', 'EP_CROWD', 'EP_HBURD', 'EP_AFAM', 'EP_HISP', 'EP_ASIAN',\n",
       "       'EP_AIAN', 'EP_NHPI', 'EP_TWOMORE', 'EP_OTHERRACE', 'EP_MINRTY',\n",
       "       'EP_WHITE'],\n",
       "      dtype='object')"
      ]
     },
     "execution_count": 13,
     "metadata": {},
     "output_type": "execute_result"
    }
   ],
   "source": [
    "svi_simplified_df.columns"
   ]
  },
  {
   "cell_type": "code",
   "execution_count": 14,
   "metadata": {
    "id": "WuEYRWrt83Pq"
   },
   "outputs": [],
   "source": [
    "svi_simplified_df = svi_simplified_df.rename(columns={'FIPS': 'zipcodes'})"
   ]
  },
  {
   "cell_type": "code",
   "execution_count": 15,
   "metadata": {
    "colab": {
     "base_uri": "https://localhost:8080/"
    },
    "id": "isyo8eGd8xus",
    "outputId": "e2601c6d-675c-4f43-f59b-4608be235d7f"
   },
   "outputs": [
    {
     "data": {
      "text/plain": [
       "Index(['court_index_number', 'docket_number', 'eviction_address',\n",
       "       'eviction_apartment_number', 'executed_date', 'borough',\n",
       "       'eviction_postcode', 'ejectment', 'eviction/legal_possession',\n",
       "       'latitude', 'longitude', 'community_board', 'council_district',\n",
       "       'census_tract', 'bin', 'bbl', 'nta', 'geometry', 'eviction_count',\n",
       "       'year', 'average_year_eviction_count', 'bbl_clean', 'yearbuilt',\n",
       "       'bldgclass', 'numfloors', 'unitsres', 'ownername', 'bldgarea',\n",
       "       'building_type', 'building_category', 'is_condo', 'floor_category',\n",
       "       'rent_era', 'architectural_style', 'economic_period',\n",
       "       'residential_units_category', 'is_llc', 'building_size_category',\n",
       "       'size_quartile', 'decade', 'complaint_count'],\n",
       "      dtype='object')"
      ]
     },
     "execution_count": 15,
     "metadata": {},
     "output_type": "execute_result"
    }
   ],
   "source": [
    "bbl_evictions_311_df.columns"
   ]
  },
  {
   "cell_type": "code",
   "execution_count": 16,
   "metadata": {
    "id": "6Nb0TFYe81G-"
   },
   "outputs": [],
   "source": [
    "bbl_evictions_311_df = bbl_evictions_311_df.rename(columns={'eviction_postcode': 'zipcodes'})"
   ]
  },
  {
   "cell_type": "code",
   "execution_count": 17,
   "metadata": {
    "id": "vBq16-By9OS1"
   },
   "outputs": [],
   "source": [
    "bbl_evictions_311_df = bbl_evictions_311_df.drop(columns=['bbl_clean'])"
   ]
  },
  {
   "cell_type": "code",
   "execution_count": 18,
   "metadata": {
    "id": "Jf4wmSj-9Xaa"
   },
   "outputs": [],
   "source": [
    "# merge based on bbl_evictions_311_df to just add svi columns to the 311 evictions columns\n",
    "merged_df = bbl_evictions_311_df.merge(\n",
    "    svi_simplified_df,\n",
    "    on='zipcodes',\n",
    "    how='left'\n",
    ")"
   ]
  },
  {
   "cell_type": "code",
   "execution_count": 19,
   "metadata": {
    "colab": {
     "base_uri": "https://localhost:8080/"
    },
    "id": "G6ZkwUln982S",
    "outputId": "d3b09652-549c-4c73-bd98-fb4c5777ba85"
   },
   "outputs": [
    {
     "data": {
      "text/plain": [
       "Index(['court_index_number', 'docket_number', 'eviction_address',\n",
       "       'eviction_apartment_number', 'executed_date', 'borough', 'zipcodes',\n",
       "       'ejectment', 'eviction/legal_possession', 'latitude', 'longitude',\n",
       "       'community_board', 'council_district', 'census_tract', 'bin', 'bbl',\n",
       "       'nta', 'geometry', 'eviction_count', 'year',\n",
       "       'average_year_eviction_count', 'yearbuilt', 'bldgclass', 'numfloors',\n",
       "       'unitsres', 'ownername', 'bldgarea', 'building_type',\n",
       "       'building_category', 'is_condo', 'floor_category', 'rent_era',\n",
       "       'architectural_style', 'economic_period', 'residential_units_category',\n",
       "       'is_llc', 'building_size_category', 'size_quartile', 'decade',\n",
       "       'complaint_count', 'E_TOTPOP', 'RPL_THEME1', 'RPL_THEME2', 'RPL_THEME3',\n",
       "       'RPL_THEME4', 'RPL_THEMES', 'EP_POV150', 'EP_UNEMP', 'EP_NOHSDP',\n",
       "       'EP_UNINSUR', 'EP_AGE65', 'EP_AGE17', 'EP_DISABL', 'EP_LIMENG',\n",
       "       'EP_NOVEH', 'EP_CROWD', 'EP_HBURD', 'EP_AFAM', 'EP_HISP', 'EP_ASIAN',\n",
       "       'EP_AIAN', 'EP_NHPI', 'EP_TWOMORE', 'EP_OTHERRACE', 'EP_MINRTY',\n",
       "       'EP_WHITE'],\n",
       "      dtype='object')"
      ]
     },
     "execution_count": 19,
     "metadata": {},
     "output_type": "execute_result"
    }
   ],
   "source": [
    "merged_df.columns"
   ]
  },
  {
   "cell_type": "code",
   "execution_count": 20,
   "metadata": {
    "colab": {
     "base_uri": "https://localhost:8080/"
    },
    "id": "RTQaxkHL_PqL",
    "outputId": "f4617c88-2791-4133-f971-3055c2b3015f"
   },
   "outputs": [
    {
     "data": {
      "text/plain": [
       "(74082, 66)"
      ]
     },
     "execution_count": 20,
     "metadata": {},
     "output_type": "execute_result"
    }
   ],
   "source": [
    "merged_df.shape\n",
    "# lovely, all necessary features, but not too large"
   ]
  },
  {
   "cell_type": "code",
   "execution_count": 27,
   "metadata": {
    "id": "_UY6C-LF_VBI"
   },
   "outputs": [],
   "source": [
    "merged_df.to_csv('/content/drive/My Drive/X999/bbl_evictions_311_svi.csv', index=False)"
   ]
  },
  {
   "cell_type": "code",
   "execution_count": 24,
   "metadata": {
    "id": "HAP0uBkT-nEN"
   },
   "outputs": [],
   "source": []
  }
 ],
 "metadata": {
  "colab": {
   "provenance": []
  },
  "kernelspec": {
   "display_name": "Python 3 (ipykernel)",
   "language": "python",
   "name": "python3"
  },
  "language_info": {
   "codemirror_mode": {
    "name": "ipython",
    "version": 3
   },
   "file_extension": ".py",
   "mimetype": "text/x-python",
   "name": "python",
   "nbconvert_exporter": "python",
   "pygments_lexer": "ipython3",
   "version": "3.11.0"
  }
 },
 "nbformat": 4,
 "nbformat_minor": 0
}
