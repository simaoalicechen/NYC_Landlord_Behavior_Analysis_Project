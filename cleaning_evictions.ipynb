{
 "cells": [
  {
   "cell_type": "markdown",
   "metadata": {
    "id": "ocQYNz3Sj8Dn"
   },
   "source": [
    "# In this notebook, we only focus on cleaning the eviction dataset from:\n",
    "\n",
    "https://data.cityofnewyork.us/City-Government/Evictions/6z8x-wfk4/data_preview\n",
    "\n",
    "The explainations of the data can be found here: https://data.cityofnewyork.us/City-Government/Evictions/6z8x-wfk4/about_data\n",
    "\n",
    "- The originally downloaded dataset ranges from 2017 - 2025.02.22, but in this notebook, we will ignore the 2025 data, and only focus on 2017 - 2024\n",
    "- We went from 104,457 records and 20 columns, to 88,471 records 19 columns (subtracted 2 and added 1).\n",
    "- We treat \"court_index_number\" as primary keys and dropped records that have the same cour index number but with earlier eviction exected dates. \"cour_index_number\" is also the primary key on the website.\n",
    "- We only focus on residential records and drop commercial records (the ratio is roughly 9:1)\n",
    "- We dropped rows that have NaN in geo data columns\n",
    "- We included bar charts to see the spatial and temporal trends and will include them later in the formal analysis\n",
    "\n",
    "Finally, we saved the cleaned dataset to google drive and will do the visual and data exploration, and eventually test out hypothesis regarding complaints and evictions, clusterings in NYC, and predictions in different notebooks later."
   ]
  },
  {
   "cell_type": "code",
   "execution_count": 471,
   "metadata": {
    "id": "nAmNEs6wVScC"
   },
   "outputs": [],
   "source": [
    "import pandas as pd\n",
    "import numpy as np\n",
    "import datetime as dt\n",
    "import matplotlib\n",
    "import matplotlib.pyplot as plt\n",
    "import os\n",
    "import io\n",
    "import folium\n",
    "import geopandas as gpd\n",
    "import seaborn as sns\n",
    "\n",
    "# suppress warning\n",
    "import warnings\n",
    "warnings.filterwarnings('ignore')\n",
    "\n",
    "%matplotlib inline"
   ]
  },
  {
   "cell_type": "code",
   "execution_count": 472,
   "metadata": {
    "colab": {
     "base_uri": "https://localhost:8080/"
    },
    "id": "fVLfYL7LWCKH",
    "outputId": "74cec1b0-47cd-461a-9cb7-5fa062fffc12"
   },
   "outputs": [
    {
     "name": "stdout",
     "output_type": "stream",
     "text": [
      "Drive already mounted at /content/drive; to attempt to forcibly remount, call drive.mount(\"/content/drive\", force_remount=True).\n"
     ]
    }
   ],
   "source": [
    "# # load eviction data\n",
    "# from google.colab import files\n",
    "# uploaded = files.upload()\n",
    "\n",
    "# uploaded manually\n",
    "\n",
    "from google.colab import drive\n",
    "drive.mount('/content/drive')\n",
    "file_path = '/content/drive/My Drive/X999/Evictions.csv'"
   ]
  },
  {
   "cell_type": "code",
   "execution_count": 473,
   "metadata": {
    "id": "NQbIji-sWaEe"
   },
   "outputs": [],
   "source": [
    "# evictions = pd.read_csv(io.BytesIO(uploaded['Evictions_20240918.csv']))\n",
    "evictions_df_row = pd.read_csv(file_path)"
   ]
  },
  {
   "cell_type": "code",
   "execution_count": 474,
   "metadata": {
    "id": "uLhHyaJ2zpfz"
   },
   "outputs": [],
   "source": [
    "evictions_df = evictions_df_row"
   ]
  },
  {
   "cell_type": "code",
   "execution_count": 475,
   "metadata": {
    "colab": {
     "base_uri": "https://localhost:8080/",
     "height": 205
    },
    "id": "Vrkn22NdW1pa",
    "outputId": "555f6a15-38d5-43f5-e801-759fd14fd02e"
   },
   "outputs": [
    {
     "data": {
      "application/vnd.google.colaboratory.intrinsic+json": {
       "type": "dataframe",
       "variable_name": "evictions_df"
      },
      "text/html": [
       "\n",
       "  <div id=\"df-81e3051e-60c2-45db-9610-632cba2086d2\" class=\"colab-df-container\">\n",
       "    <div>\n",
       "<style scoped>\n",
       "    .dataframe tbody tr th:only-of-type {\n",
       "        vertical-align: middle;\n",
       "    }\n",
       "\n",
       "    .dataframe tbody tr th {\n",
       "        vertical-align: top;\n",
       "    }\n",
       "\n",
       "    .dataframe thead th {\n",
       "        text-align: right;\n",
       "    }\n",
       "</style>\n",
       "<table border=\"1\" class=\"dataframe\">\n",
       "  <thead>\n",
       "    <tr style=\"text-align: right;\">\n",
       "      <th></th>\n",
       "      <th>Court Index Number</th>\n",
       "      <th>Docket Number</th>\n",
       "      <th>Eviction Address</th>\n",
       "      <th>Eviction Apartment Number</th>\n",
       "      <th>Executed Date</th>\n",
       "      <th>Marshal First Name</th>\n",
       "      <th>Marshal Last Name</th>\n",
       "      <th>Residential/Commercial</th>\n",
       "      <th>BOROUGH</th>\n",
       "      <th>Eviction Postcode</th>\n",
       "      <th>Ejectment</th>\n",
       "      <th>Eviction/Legal Possession</th>\n",
       "      <th>Latitude</th>\n",
       "      <th>Longitude</th>\n",
       "      <th>Community Board</th>\n",
       "      <th>Council District</th>\n",
       "      <th>Census Tract</th>\n",
       "      <th>BIN</th>\n",
       "      <th>BBL</th>\n",
       "      <th>NTA</th>\n",
       "    </tr>\n",
       "  </thead>\n",
       "  <tbody>\n",
       "    <tr>\n",
       "      <th>0</th>\n",
       "      <td>22379/19</td>\n",
       "      <td>354582</td>\n",
       "      <td>2915 LA SALLE AVENUE</td>\n",
       "      <td>3R</td>\n",
       "      <td>08/14/2019</td>\n",
       "      <td>Thomas</td>\n",
       "      <td>Bia</td>\n",
       "      <td>Residential</td>\n",
       "      <td>BRONX</td>\n",
       "      <td>10461</td>\n",
       "      <td>Not an Ejectment</td>\n",
       "      <td>Possession</td>\n",
       "      <td>40.839044</td>\n",
       "      <td>-73.830768</td>\n",
       "      <td>10.0</td>\n",
       "      <td>13.0</td>\n",
       "      <td>184.0</td>\n",
       "      <td>2073762.0</td>\n",
       "      <td>2.053580e+09</td>\n",
       "      <td>Schuylerville-Throgs Neck-Edgewater Park</td>\n",
       "    </tr>\n",
       "  </tbody>\n",
       "</table>\n",
       "</div>\n",
       "    <div class=\"colab-df-buttons\">\n",
       "\n",
       "  <div class=\"colab-df-container\">\n",
       "    <button class=\"colab-df-convert\" onclick=\"convertToInteractive('df-81e3051e-60c2-45db-9610-632cba2086d2')\"\n",
       "            title=\"Convert this dataframe to an interactive table.\"\n",
       "            style=\"display:none;\">\n",
       "\n",
       "  <svg xmlns=\"http://www.w3.org/2000/svg\" height=\"24px\" viewBox=\"0 -960 960 960\">\n",
       "    <path d=\"M120-120v-720h720v720H120Zm60-500h600v-160H180v160Zm220 220h160v-160H400v160Zm0 220h160v-160H400v160ZM180-400h160v-160H180v160Zm440 0h160v-160H620v160ZM180-180h160v-160H180v160Zm440 0h160v-160H620v160Z\"/>\n",
       "  </svg>\n",
       "    </button>\n",
       "\n",
       "  <style>\n",
       "    .colab-df-container {\n",
       "      display:flex;\n",
       "      gap: 12px;\n",
       "    }\n",
       "\n",
       "    .colab-df-convert {\n",
       "      background-color: #E8F0FE;\n",
       "      border: none;\n",
       "      border-radius: 50%;\n",
       "      cursor: pointer;\n",
       "      display: none;\n",
       "      fill: #1967D2;\n",
       "      height: 32px;\n",
       "      padding: 0 0 0 0;\n",
       "      width: 32px;\n",
       "    }\n",
       "\n",
       "    .colab-df-convert:hover {\n",
       "      background-color: #E2EBFA;\n",
       "      box-shadow: 0px 1px 2px rgba(60, 64, 67, 0.3), 0px 1px 3px 1px rgba(60, 64, 67, 0.15);\n",
       "      fill: #174EA6;\n",
       "    }\n",
       "\n",
       "    .colab-df-buttons div {\n",
       "      margin-bottom: 4px;\n",
       "    }\n",
       "\n",
       "    [theme=dark] .colab-df-convert {\n",
       "      background-color: #3B4455;\n",
       "      fill: #D2E3FC;\n",
       "    }\n",
       "\n",
       "    [theme=dark] .colab-df-convert:hover {\n",
       "      background-color: #434B5C;\n",
       "      box-shadow: 0px 1px 3px 1px rgba(0, 0, 0, 0.15);\n",
       "      filter: drop-shadow(0px 1px 2px rgba(0, 0, 0, 0.3));\n",
       "      fill: #FFFFFF;\n",
       "    }\n",
       "  </style>\n",
       "\n",
       "    <script>\n",
       "      const buttonEl =\n",
       "        document.querySelector('#df-81e3051e-60c2-45db-9610-632cba2086d2 button.colab-df-convert');\n",
       "      buttonEl.style.display =\n",
       "        google.colab.kernel.accessAllowed ? 'block' : 'none';\n",
       "\n",
       "      async function convertToInteractive(key) {\n",
       "        const element = document.querySelector('#df-81e3051e-60c2-45db-9610-632cba2086d2');\n",
       "        const dataTable =\n",
       "          await google.colab.kernel.invokeFunction('convertToInteractive',\n",
       "                                                    [key], {});\n",
       "        if (!dataTable) return;\n",
       "\n",
       "        const docLinkHtml = 'Like what you see? Visit the ' +\n",
       "          '<a target=\"_blank\" href=https://colab.research.google.com/notebooks/data_table.ipynb>data table notebook</a>'\n",
       "          + ' to learn more about interactive tables.';\n",
       "        element.innerHTML = '';\n",
       "        dataTable['output_type'] = 'display_data';\n",
       "        await google.colab.output.renderOutput(dataTable, element);\n",
       "        const docLink = document.createElement('div');\n",
       "        docLink.innerHTML = docLinkHtml;\n",
       "        element.appendChild(docLink);\n",
       "      }\n",
       "    </script>\n",
       "  </div>\n",
       "\n",
       "\n",
       "    </div>\n",
       "  </div>\n"
      ],
      "text/plain": [
       "  Court Index Number  Docket Number       Eviction Address  \\\n",
       "0           22379/19          354582  2915 LA SALLE AVENUE   \n",
       "\n",
       "  Eviction Apartment Number Executed Date Marshal First Name  \\\n",
       "0                        3R    08/14/2019             Thomas   \n",
       "\n",
       "  Marshal Last Name Residential/Commercial BOROUGH  Eviction Postcode  \\\n",
       "0               Bia            Residential   BRONX              10461   \n",
       "\n",
       "          Ejectment Eviction/Legal Possession   Latitude  Longitude  \\\n",
       "0  Not an Ejectment                Possession  40.839044 -73.830768   \n",
       "\n",
       "   Community Board  Council District  Census Tract        BIN           BBL  \\\n",
       "0             10.0              13.0         184.0  2073762.0  2.053580e+09   \n",
       "\n",
       "                                        NTA  \n",
       "0  Schuylerville-Throgs Neck-Edgewater Park  "
      ]
     },
     "execution_count": 475,
     "metadata": {},
     "output_type": "execute_result"
    }
   ],
   "source": [
    "evictions_df.head(1)"
   ]
  },
  {
   "cell_type": "code",
   "execution_count": 476,
   "metadata": {
    "colab": {
     "base_uri": "https://localhost:8080/"
    },
    "id": "510mX6DGgB31",
    "outputId": "2e0b9eac-09b4-4975-ebab-f396ac5c6fc6"
   },
   "outputs": [
    {
     "data": {
      "text/plain": [
       "(104457, 20)"
      ]
     },
     "execution_count": 476,
     "metadata": {},
     "output_type": "execute_result"
    }
   ],
   "source": [
    "evictions_df.shape"
   ]
  },
  {
   "cell_type": "code",
   "execution_count": 477,
   "metadata": {
    "colab": {
     "base_uri": "https://localhost:8080/"
    },
    "id": "cMj8m9KkgEgu",
    "outputId": "d55ad022-83a1-4a9f-b1a3-4c5cf505b008"
   },
   "outputs": [
    {
     "name": "stdout",
     "output_type": "stream",
     "text": [
      "<class 'pandas.core.frame.DataFrame'>\n",
      "RangeIndex: 104457 entries, 0 to 104456\n",
      "Data columns (total 20 columns):\n",
      " #   Column                     Non-Null Count   Dtype  \n",
      "---  ------                     --------------   -----  \n",
      " 0   Court Index Number         104457 non-null  object \n",
      " 1   Docket Number              104457 non-null  int64  \n",
      " 2   Eviction Address           104457 non-null  object \n",
      " 3   Eviction Apartment Number  88714 non-null   object \n",
      " 4   Executed Date              104457 non-null  object \n",
      " 5   Marshal First Name         104457 non-null  object \n",
      " 6   Marshal Last Name          104457 non-null  object \n",
      " 7   Residential/Commercial     104457 non-null  object \n",
      " 8   BOROUGH                    104457 non-null  object \n",
      " 9   Eviction Postcode          104457 non-null  int64  \n",
      " 10  Ejectment                  104457 non-null  object \n",
      " 11  Eviction/Legal Possession  104457 non-null  object \n",
      " 12  Latitude                   95049 non-null   float64\n",
      " 13  Longitude                  95049 non-null   float64\n",
      " 14  Community Board            95049 non-null   float64\n",
      " 15  Council District           95049 non-null   float64\n",
      " 16  Census Tract               95049 non-null   float64\n",
      " 17  BIN                        94782 non-null   float64\n",
      " 18  BBL                        94782 non-null   float64\n",
      " 19  NTA                        95049 non-null   object \n",
      "dtypes: float64(7), int64(2), object(11)\n",
      "memory usage: 15.9+ MB\n"
     ]
    }
   ],
   "source": [
    "evictions_df.info()"
   ]
  },
  {
   "cell_type": "code",
   "execution_count": 478,
   "metadata": {
    "colab": {
     "base_uri": "https://localhost:8080/"
    },
    "id": "OI2YcLl7yVHi",
    "outputId": "9ca622f3-7c0f-4a77-f077-c2960f033206"
   },
   "outputs": [
    {
     "data": {
      "text/plain": [
       "Index(['Court Index Number', 'Docket Number ', 'Eviction Address',\n",
       "       'Eviction Apartment Number', 'Executed Date', 'Marshal First Name',\n",
       "       'Marshal Last Name', 'Residential/Commercial', 'BOROUGH',\n",
       "       'Eviction Postcode', 'Ejectment', 'Eviction/Legal Possession',\n",
       "       'Latitude', 'Longitude', 'Community Board', 'Council District',\n",
       "       'Census Tract', 'BIN', 'BBL', 'NTA'],\n",
       "      dtype='object')"
      ]
     },
     "execution_count": 478,
     "metadata": {},
     "output_type": "execute_result"
    }
   ],
   "source": [
    "evictions_df.columns"
   ]
  },
  {
   "cell_type": "code",
   "execution_count": 479,
   "metadata": {
    "colab": {
     "base_uri": "https://localhost:8080/",
     "height": 178
    },
    "id": "3RwvonDyw50j",
    "outputId": "a4a30a80-181d-41fc-b7a8-ca20d6a002b5"
   },
   "outputs": [
    {
     "data": {
      "text/html": [
       "<div>\n",
       "<style scoped>\n",
       "    .dataframe tbody tr th:only-of-type {\n",
       "        vertical-align: middle;\n",
       "    }\n",
       "\n",
       "    .dataframe tbody tr th {\n",
       "        vertical-align: top;\n",
       "    }\n",
       "\n",
       "    .dataframe thead th {\n",
       "        text-align: right;\n",
       "    }\n",
       "</style>\n",
       "<table border=\"1\" class=\"dataframe\">\n",
       "  <thead>\n",
       "    <tr style=\"text-align: right;\">\n",
       "      <th></th>\n",
       "      <th>count</th>\n",
       "    </tr>\n",
       "    <tr>\n",
       "      <th>Residential/Commercial</th>\n",
       "      <th></th>\n",
       "    </tr>\n",
       "  </thead>\n",
       "  <tbody>\n",
       "    <tr>\n",
       "      <th>Residential</th>\n",
       "      <td>94907</td>\n",
       "    </tr>\n",
       "    <tr>\n",
       "      <th>Commercial</th>\n",
       "      <td>9550</td>\n",
       "    </tr>\n",
       "  </tbody>\n",
       "</table>\n",
       "</div><br><label><b>dtype:</b> int64</label>"
      ],
      "text/plain": [
       "Residential/Commercial\n",
       "Residential    94907\n",
       "Commercial      9550\n",
       "Name: count, dtype: int64"
      ]
     },
     "execution_count": 479,
     "metadata": {},
     "output_type": "execute_result"
    }
   ],
   "source": [
    "evictions_df['Residential/Commercial'].value_counts()"
   ]
  },
  {
   "cell_type": "code",
   "execution_count": 480,
   "metadata": {
    "colab": {
     "base_uri": "https://localhost:8080/",
     "height": 178
    },
    "id": "ZLPhh7cdxA-O",
    "outputId": "f9398e20-c25f-44df-cc97-4cf1f140bbc9"
   },
   "outputs": [
    {
     "data": {
      "text/html": [
       "<div>\n",
       "<style scoped>\n",
       "    .dataframe tbody tr th:only-of-type {\n",
       "        vertical-align: middle;\n",
       "    }\n",
       "\n",
       "    .dataframe tbody tr th {\n",
       "        vertical-align: top;\n",
       "    }\n",
       "\n",
       "    .dataframe thead th {\n",
       "        text-align: right;\n",
       "    }\n",
       "</style>\n",
       "<table border=\"1\" class=\"dataframe\">\n",
       "  <thead>\n",
       "    <tr style=\"text-align: right;\">\n",
       "      <th></th>\n",
       "      <th>proportion</th>\n",
       "    </tr>\n",
       "    <tr>\n",
       "      <th>Residential/Commercial</th>\n",
       "      <th></th>\n",
       "    </tr>\n",
       "  </thead>\n",
       "  <tbody>\n",
       "    <tr>\n",
       "      <th>Residential</th>\n",
       "      <td>90.857482</td>\n",
       "    </tr>\n",
       "    <tr>\n",
       "      <th>Commercial</th>\n",
       "      <td>9.142518</td>\n",
       "    </tr>\n",
       "  </tbody>\n",
       "</table>\n",
       "</div><br><label><b>dtype:</b> float64</label>"
      ],
      "text/plain": [
       "Residential/Commercial\n",
       "Residential    90.857482\n",
       "Commercial      9.142518\n",
       "Name: proportion, dtype: float64"
      ]
     },
     "execution_count": 480,
     "metadata": {},
     "output_type": "execute_result"
    }
   ],
   "source": [
    "# percentage\n",
    "evictions_df['Residential/Commercial'].value_counts(normalize=True) * 100"
   ]
  },
  {
   "cell_type": "markdown",
   "metadata": {
    "id": "47Mmo3-tC2eJ"
   },
   "source": [
    "#### Residential/Commercial graph"
   ]
  },
  {
   "cell_type": "code",
   "execution_count": 481,
   "metadata": {
    "colab": {
     "base_uri": "https://localhost:8080/"
    },
    "id": "vuU0a6ZixfPR",
    "outputId": "0c901d7c-8b96-47ce-f046-6a75689d2c9d"
   },
   "outputs": [
    {
     "data": {
      "text/plain": [
       "104457"
      ]
     },
     "execution_count": 481,
     "metadata": {},
     "output_type": "execute_result"
    }
   ],
   "source": [
    "len(evictions_df)"
   ]
  },
  {
   "cell_type": "code",
   "execution_count": 482,
   "metadata": {
    "colab": {
     "base_uri": "https://localhost:8080/",
     "height": 241
    },
    "id": "JPCaGs5sSxM9",
    "outputId": "7bdf17c0-2762-4f5f-e0b2-0aef98107d61"
   },
   "outputs": [
    {
     "data": {
      "text/html": [
       "<div>\n",
       "<style scoped>\n",
       "    .dataframe tbody tr th:only-of-type {\n",
       "        vertical-align: middle;\n",
       "    }\n",
       "\n",
       "    .dataframe tbody tr th {\n",
       "        vertical-align: top;\n",
       "    }\n",
       "\n",
       "    .dataframe thead th {\n",
       "        text-align: right;\n",
       "    }\n",
       "</style>\n",
       "<table border=\"1\" class=\"dataframe\">\n",
       "  <thead>\n",
       "    <tr style=\"text-align: right;\">\n",
       "      <th></th>\n",
       "      <th>Marshal Last Name</th>\n",
       "    </tr>\n",
       "  </thead>\n",
       "  <tbody>\n",
       "    <tr>\n",
       "      <th>0</th>\n",
       "      <td>Bia</td>\n",
       "    </tr>\n",
       "    <tr>\n",
       "      <th>1</th>\n",
       "      <td>Rose</td>\n",
       "    </tr>\n",
       "    <tr>\n",
       "      <th>2</th>\n",
       "      <td>Bia</td>\n",
       "    </tr>\n",
       "    <tr>\n",
       "      <th>3</th>\n",
       "      <td>Guida</td>\n",
       "    </tr>\n",
       "    <tr>\n",
       "      <th>4</th>\n",
       "      <td>Grossman</td>\n",
       "    </tr>\n",
       "  </tbody>\n",
       "</table>\n",
       "</div><br><label><b>dtype:</b> object</label>"
      ],
      "text/plain": [
       "0         Bia\n",
       "1        Rose\n",
       "2         Bia\n",
       "3       Guida\n",
       "4    Grossman\n",
       "Name: Marshal Last Name, dtype: object"
      ]
     },
     "execution_count": 482,
     "metadata": {},
     "output_type": "execute_result"
    }
   ],
   "source": [
    "evictions_df[\"Marshal Last Name\"].head()\n",
    "# will drop this coloumn"
   ]
  },
  {
   "cell_type": "code",
   "execution_count": 483,
   "metadata": {
    "id": "PS4GipvsTc4z"
   },
   "outputs": [],
   "source": [
    "# cleaning functions (later to drop commercials)\n",
    "def drop_columns(df, columns):\n",
    "    df.drop(columns, axis=1, inplace=True)\n",
    "\n",
    "# convert all the column names into lower case, strip the final space, and change the spaces betwen words to \"_\"\n",
    "def clean_column_names(df):\n",
    "    df.columns = df.columns.str.lower()\n",
    "    df.columns = df.columns.str.strip().str.replace(' ', '_')\n",
    "    return df"
   ]
  },
  {
   "cell_type": "code",
   "execution_count": 484,
   "metadata": {
    "id": "Bo_Nev-kB7nR"
   },
   "outputs": [],
   "source": [
    "evictions_df = clean_column_names(evictions_df)"
   ]
  },
  {
   "cell_type": "code",
   "execution_count": 485,
   "metadata": {
    "id": "Ldi4of4ZB__t"
   },
   "outputs": [],
   "source": [
    "# drop rows that represent commercial units, instead of residentail units\n",
    "# drop columns that are irrelevant, such as \"Marshal Last Name\", and \"Marshal first Name\"\n",
    "\n",
    "# drop_rows_by_value(evictions_df, \"Residential/Commercial\", 'Commercial')\n",
    "drop_columns(evictions_df, [\"marshal_last_name\", \"marshal_first_name\"])\n",
    "evictions_df = evictions_df[evictions_df['residential/commercial'] != 'Commercial']"
   ]
  },
  {
   "cell_type": "code",
   "execution_count": 486,
   "metadata": {
    "colab": {
     "base_uri": "https://localhost:8080/"
    },
    "id": "zoCGT_1XVSeK",
    "outputId": "01106b26-0c94-43b4-ca11-5c8dcf87039c"
   },
   "outputs": [
    {
     "data": {
      "text/plain": [
       "(94907, 18)"
      ]
     },
     "execution_count": 486,
     "metadata": {},
     "output_type": "execute_result"
    }
   ],
   "source": [
    "evictions_df.shape\n",
    "# original dataset's volumn:\n",
    "# 104467, 20"
   ]
  },
  {
   "cell_type": "code",
   "execution_count": 487,
   "metadata": {
    "colab": {
     "base_uri": "https://localhost:8080/"
    },
    "id": "nB7ARwQjVWdm",
    "outputId": "52717b68-a218-4615-9942-8ca673354a78"
   },
   "outputs": [
    {
     "data": {
      "text/plain": [
       "Index(['court_index_number', 'docket_number', 'eviction_address',\n",
       "       'eviction_apartment_number', 'executed_date', 'residential/commercial',\n",
       "       'borough', 'eviction_postcode', 'ejectment',\n",
       "       'eviction/legal_possession', 'latitude', 'longitude', 'community_board',\n",
       "       'council_district', 'census_tract', 'bin', 'bbl', 'nta'],\n",
       "      dtype='object')"
      ]
     },
     "execution_count": 487,
     "metadata": {},
     "output_type": "execute_result"
    }
   ],
   "source": [
    "evictions_df.columns"
   ]
  },
  {
   "cell_type": "code",
   "execution_count": 488,
   "metadata": {
    "colab": {
     "base_uri": "https://localhost:8080/"
    },
    "id": "tXPHu_zZVb7V",
    "outputId": "98ae3ff9-4ded-4224-d318-87de848baac4"
   },
   "outputs": [
    {
     "data": {
      "text/plain": [
       "(94907, 18)"
      ]
     },
     "execution_count": 488,
     "metadata": {},
     "output_type": "execute_result"
    }
   ],
   "source": [
    "evictions_df[\"residential/commercial\"].unique()\n",
    "evictions_df.shape"
   ]
  },
  {
   "cell_type": "code",
   "execution_count": 489,
   "metadata": {
    "colab": {
     "base_uri": "https://localhost:8080/"
    },
    "id": "Fuc18OPZWy85",
    "outputId": "aba8b70f-6a49-4512-e341-d3a9792afe26"
   },
   "outputs": [
    {
     "name": "stdout",
     "output_type": "stream",
     "text": [
      "court_index_number               0\n",
      "docket_number                    0\n",
      "eviction_address                 0\n",
      "eviction_apartment_number    10896\n",
      "executed_date                    0\n",
      "residential/commercial           0\n",
      "borough                          0\n",
      "eviction_postcode                0\n",
      "ejectment                        0\n",
      "eviction/legal_possession        0\n",
      "latitude                      6257\n",
      "longitude                     6257\n",
      "community_board               6257\n",
      "council_district              6257\n",
      "census_tract                  6257\n",
      "bin                           6436\n",
      "bbl                           6436\n",
      "nta                           6257\n",
      "dtype: int64\n"
     ]
    }
   ],
   "source": [
    "print(evictions_df.isnull().sum())"
   ]
  },
  {
   "cell_type": "code",
   "execution_count": 490,
   "metadata": {
    "colab": {
     "base_uri": "https://localhost:8080/"
    },
    "id": "sxlzSZYpXP8z",
    "outputId": "e6d1e4bc-5044-4a3b-c176-c9bf48c3e06a"
   },
   "outputs": [
    {
     "data": {
      "text/plain": [
       "str"
      ]
     },
     "execution_count": 490,
     "metadata": {},
     "output_type": "execute_result"
    }
   ],
   "source": [
    "type(evictions_df[\"eviction_apartment_number\"][0])"
   ]
  },
  {
   "cell_type": "code",
   "execution_count": 491,
   "metadata": {
    "id": "juV9wFE-XL8a"
   },
   "outputs": [],
   "source": [
    "# though \"eviction apartment number\" column has NaN, still keep the strings there, because they might be interesting\n",
    "# to look at for certain case studies later\n",
    "evictions_df['eviction_apartment_number'].fillna(\"unknown\", inplace=True)"
   ]
  },
  {
   "cell_type": "code",
   "execution_count": 492,
   "metadata": {
    "colab": {
     "base_uri": "https://localhost:8080/"
    },
    "id": "D5qkcpODXbJw",
    "outputId": "e2910fa3-10ee-4c7c-e0f0-07b582644283"
   },
   "outputs": [
    {
     "name": "stdout",
     "output_type": "stream",
     "text": [
      "court_index_number              0\n",
      "docket_number                   0\n",
      "eviction_address                0\n",
      "eviction_apartment_number       0\n",
      "executed_date                   0\n",
      "residential/commercial          0\n",
      "borough                         0\n",
      "eviction_postcode               0\n",
      "ejectment                       0\n",
      "eviction/legal_possession       0\n",
      "latitude                     6257\n",
      "longitude                    6257\n",
      "community_board              6257\n",
      "council_district             6257\n",
      "census_tract                 6257\n",
      "bin                          6436\n",
      "bbl                          6436\n",
      "nta                          6257\n",
      "dtype: int64\n"
     ]
    }
   ],
   "source": [
    "print(evictions_df.isnull().sum())"
   ]
  },
  {
   "cell_type": "code",
   "execution_count": 493,
   "metadata": {
    "id": "WHnL_zHBXkXI"
   },
   "outputs": [],
   "source": [
    "evictions_df.dropna(inplace=True)"
   ]
  },
  {
   "cell_type": "code",
   "execution_count": 494,
   "metadata": {
    "colab": {
     "base_uri": "https://localhost:8080/"
    },
    "id": "6W7-OFIcXoK7",
    "outputId": "d0637794-32b3-4011-8056-16e14eeb38c9"
   },
   "outputs": [
    {
     "name": "stdout",
     "output_type": "stream",
     "text": [
      "<class 'pandas.core.frame.DataFrame'>\n",
      "Index: 88471 entries, 0 to 104456\n",
      "Data columns (total 18 columns):\n",
      " #   Column                     Non-Null Count  Dtype  \n",
      "---  ------                     --------------  -----  \n",
      " 0   court_index_number         88471 non-null  object \n",
      " 1   docket_number              88471 non-null  int64  \n",
      " 2   eviction_address           88471 non-null  object \n",
      " 3   eviction_apartment_number  88471 non-null  object \n",
      " 4   executed_date              88471 non-null  object \n",
      " 5   residential/commercial     88471 non-null  object \n",
      " 6   borough                    88471 non-null  object \n",
      " 7   eviction_postcode          88471 non-null  int64  \n",
      " 8   ejectment                  88471 non-null  object \n",
      " 9   eviction/legal_possession  88471 non-null  object \n",
      " 10  latitude                   88471 non-null  float64\n",
      " 11  longitude                  88471 non-null  float64\n",
      " 12  community_board            88471 non-null  float64\n",
      " 13  council_district           88471 non-null  float64\n",
      " 14  census_tract               88471 non-null  float64\n",
      " 15  bin                        88471 non-null  float64\n",
      " 16  bbl                        88471 non-null  float64\n",
      " 17  nta                        88471 non-null  object \n",
      "dtypes: float64(7), int64(2), object(9)\n",
      "memory usage: 12.8+ MB\n"
     ]
    },
    {
     "data": {
      "text/plain": [
       "((88471, 18), None)"
      ]
     },
     "execution_count": 494,
     "metadata": {},
     "output_type": "execute_result"
    }
   ],
   "source": [
    "# sanity check\n",
    "evictions_df.shape, \\\n",
    "evictions_df.info()"
   ]
  },
  {
   "cell_type": "code",
   "execution_count": 495,
   "metadata": {
    "colab": {
     "base_uri": "https://localhost:8080/"
    },
    "id": "VH7jXtMTB4zS",
    "outputId": "b193b3ed-5439-42b1-e9d0-14bccaff49ea"
   },
   "outputs": [
    {
     "data": {
      "text/plain": [
       "array(['Residential'], dtype=object)"
      ]
     },
     "execution_count": 495,
     "metadata": {},
     "output_type": "execute_result"
    }
   ],
   "source": [
    "evictions_df[\"residential/commercial\"].unique()"
   ]
  },
  {
   "cell_type": "code",
   "execution_count": 500,
   "metadata": {
    "colab": {
     "base_uri": "https://localhost:8080/"
    },
    "id": "o-LBK0p5bcfZ",
    "outputId": "bfa69c6a-1b5d-4b83-fcbf-5e23948c1e55"
   },
   "outputs": [
    {
     "name": "stdout",
     "output_type": "stream",
     "text": [
      "<class 'pandas.core.frame.DataFrame'>\n",
      "Index: 88341 entries, 0 to 104456\n",
      "Data columns (total 18 columns):\n",
      " #   Column                     Non-Null Count  Dtype  \n",
      "---  ------                     --------------  -----  \n",
      " 0   court_index_number         88341 non-null  object \n",
      " 1   docket_number              88341 non-null  int64  \n",
      " 2   eviction_address           88341 non-null  object \n",
      " 3   eviction_apartment_number  88341 non-null  object \n",
      " 4   executed_date              88341 non-null  object \n",
      " 5   residential/commercial     88341 non-null  object \n",
      " 6   borough                    88341 non-null  object \n",
      " 7   eviction_postcode          88341 non-null  int64  \n",
      " 8   ejectment                  88341 non-null  object \n",
      " 9   eviction/legal_possession  88341 non-null  object \n",
      " 10  latitude                   88341 non-null  float64\n",
      " 11  longitude                  88341 non-null  float64\n",
      " 12  community_board            88341 non-null  float64\n",
      " 13  council_district           88341 non-null  float64\n",
      " 14  census_tract               88341 non-null  float64\n",
      " 15  bin                        88341 non-null  float64\n",
      " 16  bbl                        88341 non-null  float64\n",
      " 17  nta                        88341 non-null  object \n",
      "dtypes: float64(7), int64(2), object(9)\n",
      "memory usage: 12.8+ MB\n"
     ]
    },
    {
     "data": {
      "text/plain": [
       "((88341, 18), None)"
      ]
     },
     "execution_count": 500,
     "metadata": {},
     "output_type": "execute_result"
    }
   ],
   "source": [
    "evictions_df.shape, \\\n",
    "evictions_df.info()"
   ]
  },
  {
   "cell_type": "code",
   "execution_count": 501,
   "metadata": {
    "colab": {
     "base_uri": "https://localhost:8080/"
    },
    "id": "xZHsiSzQZoKX",
    "outputId": "b1923b8b-bdb6-4dd7-d125-6f0ac168a6c0"
   },
   "outputs": [
    {
     "data": {
      "text/plain": [
       "(82473, 75088)"
      ]
     },
     "execution_count": 501,
     "metadata": {},
     "output_type": "execute_result"
    }
   ],
   "source": [
    "len(evictions_df.court_index_number.unique()), \\\n",
    "len(evictions_df.docket_number.unique())"
   ]
  },
  {
   "cell_type": "code",
   "execution_count": 502,
   "metadata": {
    "id": "BSDQkJAed2oM"
   },
   "outputs": [],
   "source": [
    "# 82473, 75088"
   ]
  },
  {
   "cell_type": "code",
   "execution_count": 503,
   "metadata": {
    "id": "7upYhItlb7QX"
   },
   "outputs": [],
   "source": [
    "evictions_df.drop_duplicates(inplace=True)"
   ]
  },
  {
   "cell_type": "code",
   "execution_count": 504,
   "metadata": {
    "colab": {
     "base_uri": "https://localhost:8080/"
    },
    "id": "-TB1molbz_bn",
    "outputId": "a3f1a290-5425-4dfc-f46b-633ea83561da"
   },
   "outputs": [
    {
     "data": {
      "text/plain": [
       "(82473, 75088)"
      ]
     },
     "execution_count": 504,
     "metadata": {},
     "output_type": "execute_result"
    }
   ],
   "source": [
    "len(evictions_df.court_index_number.unique()), \\\n",
    "len(evictions_df.docket_number.unique())"
   ]
  },
  {
   "cell_type": "code",
   "execution_count": 505,
   "metadata": {
    "id": "Pw8moBDLg5cx"
   },
   "outputs": [],
   "source": [
    "# since all rows are residential now, drop the column that indicates if it is residential or commercial\n",
    "evictions_df.drop(columns=['residential/commercial'], inplace=True)"
   ]
  },
  {
   "cell_type": "code",
   "execution_count": 506,
   "metadata": {
    "id": "KGBZKl1iz9yE"
   },
   "outputs": [],
   "source": [
    "# drop duplicates based on court_index_number\n",
    "# evictions_df = evictions_df.drop_duplicates(subset=['court_index_number'])"
   ]
  },
  {
   "cell_type": "code",
   "execution_count": 507,
   "metadata": {
    "colab": {
     "base_uri": "https://localhost:8080/"
    },
    "id": "u-6VP7jT0DXD",
    "outputId": "6018c0a8-0b61-4312-ba9a-9c057a213ce7"
   },
   "outputs": [
    {
     "data": {
      "text/plain": [
       "Index(['court_index_number', 'docket_number', 'eviction_address',\n",
       "       'eviction_apartment_number', 'executed_date', 'borough',\n",
       "       'eviction_postcode', 'ejectment', 'eviction/legal_possession',\n",
       "       'latitude', 'longitude', 'community_board', 'council_district',\n",
       "       'census_tract', 'bin', 'bbl', 'nta'],\n",
       "      dtype='object')"
      ]
     },
     "execution_count": 507,
     "metadata": {},
     "output_type": "execute_result"
    }
   ],
   "source": [
    "evictions_df.columns"
   ]
  },
  {
   "cell_type": "code",
   "execution_count": 508,
   "metadata": {
    "colab": {
     "base_uri": "https://localhost:8080/"
    },
    "id": "utdHRktthCj7",
    "outputId": "277f1e08-55bd-4938-8095-7d1e37e2a0a0"
   },
   "outputs": [
    {
     "name": "stdout",
     "output_type": "stream",
     "text": [
      "<class 'pandas.core.frame.DataFrame'>\n",
      "Index: 88341 entries, 0 to 104456\n",
      "Data columns (total 17 columns):\n",
      " #   Column                     Non-Null Count  Dtype  \n",
      "---  ------                     --------------  -----  \n",
      " 0   court_index_number         88341 non-null  object \n",
      " 1   docket_number              88341 non-null  int64  \n",
      " 2   eviction_address           88341 non-null  object \n",
      " 3   eviction_apartment_number  88341 non-null  object \n",
      " 4   executed_date              88341 non-null  object \n",
      " 5   borough                    88341 non-null  object \n",
      " 6   eviction_postcode          88341 non-null  int64  \n",
      " 7   ejectment                  88341 non-null  object \n",
      " 8   eviction/legal_possession  88341 non-null  object \n",
      " 9   latitude                   88341 non-null  float64\n",
      " 10  longitude                  88341 non-null  float64\n",
      " 11  community_board            88341 non-null  float64\n",
      " 12  council_district           88341 non-null  float64\n",
      " 13  census_tract               88341 non-null  float64\n",
      " 14  bin                        88341 non-null  float64\n",
      " 15  bbl                        88341 non-null  float64\n",
      " 16  nta                        88341 non-null  object \n",
      "dtypes: float64(7), int64(2), object(8)\n",
      "memory usage: 12.1+ MB\n"
     ]
    },
    {
     "data": {
      "text/plain": [
       "((88341, 17), None)"
      ]
     },
     "execution_count": 508,
     "metadata": {},
     "output_type": "execute_result"
    }
   ],
   "source": [
    "evictions_df.shape, \\\n",
    "evictions_df.info()"
   ]
  },
  {
   "cell_type": "code",
   "execution_count": 509,
   "metadata": {
    "colab": {
     "base_uri": "https://localhost:8080/",
     "height": 167
    },
    "id": "5LVwBb22WhbE",
    "outputId": "7398e0db-c85c-4171-fcac-afc7da966818"
   },
   "outputs": [
    {
     "data": {
      "application/vnd.google.colaboratory.intrinsic+json": {
       "repr_error": "0",
       "type": "dataframe",
       "variable_name": "duplicate_groups"
      },
      "text/html": [
       "\n",
       "  <div id=\"df-614132c0-1c7a-44c1-9203-fb448ebed1d5\" class=\"colab-df-container\">\n",
       "    <div>\n",
       "<style scoped>\n",
       "    .dataframe tbody tr th:only-of-type {\n",
       "        vertical-align: middle;\n",
       "    }\n",
       "\n",
       "    .dataframe tbody tr th {\n",
       "        vertical-align: top;\n",
       "    }\n",
       "\n",
       "    .dataframe thead th {\n",
       "        text-align: right;\n",
       "    }\n",
       "</style>\n",
       "<table border=\"1\" class=\"dataframe\">\n",
       "  <thead>\n",
       "    <tr style=\"text-align: right;\">\n",
       "      <th></th>\n",
       "      <th>court_index_number</th>\n",
       "      <th>docket_number</th>\n",
       "      <th>eviction_address</th>\n",
       "      <th>eviction_apartment_number</th>\n",
       "      <th>executed_date</th>\n",
       "      <th>borough</th>\n",
       "      <th>eviction_postcode</th>\n",
       "      <th>ejectment</th>\n",
       "      <th>eviction/legal_possession</th>\n",
       "      <th>latitude</th>\n",
       "      <th>longitude</th>\n",
       "      <th>community_board</th>\n",
       "      <th>council_district</th>\n",
       "      <th>census_tract</th>\n",
       "      <th>bin</th>\n",
       "      <th>bbl</th>\n",
       "      <th>nta</th>\n",
       "    </tr>\n",
       "  </thead>\n",
       "  <tbody>\n",
       "    <tr>\n",
       "      <th>1</th>\n",
       "      <td>55120/17</td>\n",
       "      <td>22819</td>\n",
       "      <td>310 EAST 2ND STREET</td>\n",
       "      <td>3H</td>\n",
       "      <td>01/25/2018</td>\n",
       "      <td>MANHATTAN</td>\n",
       "      <td>10009</td>\n",
       "      <td>Not an Ejectment</td>\n",
       "      <td>Possession</td>\n",
       "      <td>40.720081</td>\n",
       "      <td>-73.979203</td>\n",
       "      <td>3.0</td>\n",
       "      <td>2.0</td>\n",
       "      <td>2202.0</td>\n",
       "      <td>1088845.0</td>\n",
       "      <td>1.003720e+09</td>\n",
       "      <td>Lower East Side</td>\n",
       "    </tr>\n",
       "    <tr>\n",
       "      <th>2</th>\n",
       "      <td>308641/22</td>\n",
       "      <td>366619</td>\n",
       "      <td>3003 WALLACE AVENUE</td>\n",
       "      <td>1</td>\n",
       "      <td>11/13/2023</td>\n",
       "      <td>BRONX</td>\n",
       "      <td>10467</td>\n",
       "      <td>Not an Ejectment</td>\n",
       "      <td>Possession</td>\n",
       "      <td>40.869928</td>\n",
       "      <td>-73.864326</td>\n",
       "      <td>12.0</td>\n",
       "      <td>15.0</td>\n",
       "      <td>338.0</td>\n",
       "      <td>2055595.0</td>\n",
       "      <td>2.045700e+09</td>\n",
       "      <td>Bronxdale</td>\n",
       "    </tr>\n",
       "  </tbody>\n",
       "</table>\n",
       "</div>\n",
       "    <div class=\"colab-df-buttons\">\n",
       "\n",
       "  <div class=\"colab-df-container\">\n",
       "    <button class=\"colab-df-convert\" onclick=\"convertToInteractive('df-614132c0-1c7a-44c1-9203-fb448ebed1d5')\"\n",
       "            title=\"Convert this dataframe to an interactive table.\"\n",
       "            style=\"display:none;\">\n",
       "\n",
       "  <svg xmlns=\"http://www.w3.org/2000/svg\" height=\"24px\" viewBox=\"0 -960 960 960\">\n",
       "    <path d=\"M120-120v-720h720v720H120Zm60-500h600v-160H180v160Zm220 220h160v-160H400v160Zm0 220h160v-160H400v160ZM180-400h160v-160H180v160Zm440 0h160v-160H620v160ZM180-180h160v-160H180v160Zm440 0h160v-160H620v160Z\"/>\n",
       "  </svg>\n",
       "    </button>\n",
       "\n",
       "  <style>\n",
       "    .colab-df-container {\n",
       "      display:flex;\n",
       "      gap: 12px;\n",
       "    }\n",
       "\n",
       "    .colab-df-convert {\n",
       "      background-color: #E8F0FE;\n",
       "      border: none;\n",
       "      border-radius: 50%;\n",
       "      cursor: pointer;\n",
       "      display: none;\n",
       "      fill: #1967D2;\n",
       "      height: 32px;\n",
       "      padding: 0 0 0 0;\n",
       "      width: 32px;\n",
       "    }\n",
       "\n",
       "    .colab-df-convert:hover {\n",
       "      background-color: #E2EBFA;\n",
       "      box-shadow: 0px 1px 2px rgba(60, 64, 67, 0.3), 0px 1px 3px 1px rgba(60, 64, 67, 0.15);\n",
       "      fill: #174EA6;\n",
       "    }\n",
       "\n",
       "    .colab-df-buttons div {\n",
       "      margin-bottom: 4px;\n",
       "    }\n",
       "\n",
       "    [theme=dark] .colab-df-convert {\n",
       "      background-color: #3B4455;\n",
       "      fill: #D2E3FC;\n",
       "    }\n",
       "\n",
       "    [theme=dark] .colab-df-convert:hover {\n",
       "      background-color: #434B5C;\n",
       "      box-shadow: 0px 1px 3px 1px rgba(0, 0, 0, 0.15);\n",
       "      filter: drop-shadow(0px 1px 2px rgba(0, 0, 0, 0.3));\n",
       "      fill: #FFFFFF;\n",
       "    }\n",
       "  </style>\n",
       "\n",
       "    <script>\n",
       "      const buttonEl =\n",
       "        document.querySelector('#df-614132c0-1c7a-44c1-9203-fb448ebed1d5 button.colab-df-convert');\n",
       "      buttonEl.style.display =\n",
       "        google.colab.kernel.accessAllowed ? 'block' : 'none';\n",
       "\n",
       "      async function convertToInteractive(key) {\n",
       "        const element = document.querySelector('#df-614132c0-1c7a-44c1-9203-fb448ebed1d5');\n",
       "        const dataTable =\n",
       "          await google.colab.kernel.invokeFunction('convertToInteractive',\n",
       "                                                    [key], {});\n",
       "        if (!dataTable) return;\n",
       "\n",
       "        const docLinkHtml = 'Like what you see? Visit the ' +\n",
       "          '<a target=\"_blank\" href=https://colab.research.google.com/notebooks/data_table.ipynb>data table notebook</a>'\n",
       "          + ' to learn more about interactive tables.';\n",
       "        element.innerHTML = '';\n",
       "        dataTable['output_type'] = 'display_data';\n",
       "        await google.colab.output.renderOutput(dataTable, element);\n",
       "        const docLink = document.createElement('div');\n",
       "        docLink.innerHTML = docLinkHtml;\n",
       "        element.appendChild(docLink);\n",
       "      }\n",
       "    </script>\n",
       "  </div>\n",
       "\n",
       "\n",
       "<div id=\"df-2ce00303-8134-43ab-934f-4f2b2b07d7e5\">\n",
       "  <button class=\"colab-df-quickchart\" onclick=\"quickchart('df-2ce00303-8134-43ab-934f-4f2b2b07d7e5')\"\n",
       "            title=\"Suggest charts\"\n",
       "            style=\"display:none;\">\n",
       "\n",
       "<svg xmlns=\"http://www.w3.org/2000/svg\" height=\"24px\"viewBox=\"0 0 24 24\"\n",
       "     width=\"24px\">\n",
       "    <g>\n",
       "        <path d=\"M19 3H5c-1.1 0-2 .9-2 2v14c0 1.1.9 2 2 2h14c1.1 0 2-.9 2-2V5c0-1.1-.9-2-2-2zM9 17H7v-7h2v7zm4 0h-2V7h2v10zm4 0h-2v-4h2v4z\"/>\n",
       "    </g>\n",
       "</svg>\n",
       "  </button>\n",
       "\n",
       "<style>\n",
       "  .colab-df-quickchart {\n",
       "      --bg-color: #E8F0FE;\n",
       "      --fill-color: #1967D2;\n",
       "      --hover-bg-color: #E2EBFA;\n",
       "      --hover-fill-color: #174EA6;\n",
       "      --disabled-fill-color: #AAA;\n",
       "      --disabled-bg-color: #DDD;\n",
       "  }\n",
       "\n",
       "  [theme=dark] .colab-df-quickchart {\n",
       "      --bg-color: #3B4455;\n",
       "      --fill-color: #D2E3FC;\n",
       "      --hover-bg-color: #434B5C;\n",
       "      --hover-fill-color: #FFFFFF;\n",
       "      --disabled-bg-color: #3B4455;\n",
       "      --disabled-fill-color: #666;\n",
       "  }\n",
       "\n",
       "  .colab-df-quickchart {\n",
       "    background-color: var(--bg-color);\n",
       "    border: none;\n",
       "    border-radius: 50%;\n",
       "    cursor: pointer;\n",
       "    display: none;\n",
       "    fill: var(--fill-color);\n",
       "    height: 32px;\n",
       "    padding: 0;\n",
       "    width: 32px;\n",
       "  }\n",
       "\n",
       "  .colab-df-quickchart:hover {\n",
       "    background-color: var(--hover-bg-color);\n",
       "    box-shadow: 0 1px 2px rgba(60, 64, 67, 0.3), 0 1px 3px 1px rgba(60, 64, 67, 0.15);\n",
       "    fill: var(--button-hover-fill-color);\n",
       "  }\n",
       "\n",
       "  .colab-df-quickchart-complete:disabled,\n",
       "  .colab-df-quickchart-complete:disabled:hover {\n",
       "    background-color: var(--disabled-bg-color);\n",
       "    fill: var(--disabled-fill-color);\n",
       "    box-shadow: none;\n",
       "  }\n",
       "\n",
       "  .colab-df-spinner {\n",
       "    border: 2px solid var(--fill-color);\n",
       "    border-color: transparent;\n",
       "    border-bottom-color: var(--fill-color);\n",
       "    animation:\n",
       "      spin 1s steps(1) infinite;\n",
       "  }\n",
       "\n",
       "  @keyframes spin {\n",
       "    0% {\n",
       "      border-color: transparent;\n",
       "      border-bottom-color: var(--fill-color);\n",
       "      border-left-color: var(--fill-color);\n",
       "    }\n",
       "    20% {\n",
       "      border-color: transparent;\n",
       "      border-left-color: var(--fill-color);\n",
       "      border-top-color: var(--fill-color);\n",
       "    }\n",
       "    30% {\n",
       "      border-color: transparent;\n",
       "      border-left-color: var(--fill-color);\n",
       "      border-top-color: var(--fill-color);\n",
       "      border-right-color: var(--fill-color);\n",
       "    }\n",
       "    40% {\n",
       "      border-color: transparent;\n",
       "      border-right-color: var(--fill-color);\n",
       "      border-top-color: var(--fill-color);\n",
       "    }\n",
       "    60% {\n",
       "      border-color: transparent;\n",
       "      border-right-color: var(--fill-color);\n",
       "    }\n",
       "    80% {\n",
       "      border-color: transparent;\n",
       "      border-right-color: var(--fill-color);\n",
       "      border-bottom-color: var(--fill-color);\n",
       "    }\n",
       "    90% {\n",
       "      border-color: transparent;\n",
       "      border-bottom-color: var(--fill-color);\n",
       "    }\n",
       "  }\n",
       "</style>\n",
       "\n",
       "  <script>\n",
       "    async function quickchart(key) {\n",
       "      const quickchartButtonEl =\n",
       "        document.querySelector('#' + key + ' button');\n",
       "      quickchartButtonEl.disabled = true;  // To prevent multiple clicks.\n",
       "      quickchartButtonEl.classList.add('colab-df-spinner');\n",
       "      try {\n",
       "        const charts = await google.colab.kernel.invokeFunction(\n",
       "            'suggestCharts', [key], {});\n",
       "      } catch (error) {\n",
       "        console.error('Error during call to suggestCharts:', error);\n",
       "      }\n",
       "      quickchartButtonEl.classList.remove('colab-df-spinner');\n",
       "      quickchartButtonEl.classList.add('colab-df-quickchart-complete');\n",
       "    }\n",
       "    (() => {\n",
       "      let quickchartButtonEl =\n",
       "        document.querySelector('#df-2ce00303-8134-43ab-934f-4f2b2b07d7e5 button');\n",
       "      quickchartButtonEl.style.display =\n",
       "        google.colab.kernel.accessAllowed ? 'block' : 'none';\n",
       "    })();\n",
       "  </script>\n",
       "</div>\n",
       "\n",
       "    </div>\n",
       "  </div>\n"
      ],
      "text/plain": [
       "  court_index_number  docket_number     eviction_address  \\\n",
       "1           55120/17          22819  310 EAST 2ND STREET   \n",
       "2          308641/22         366619  3003 WALLACE AVENUE   \n",
       "\n",
       "  eviction_apartment_number executed_date    borough  eviction_postcode  \\\n",
       "1                        3H    01/25/2018  MANHATTAN              10009   \n",
       "2                         1    11/13/2023      BRONX              10467   \n",
       "\n",
       "          ejectment eviction/legal_possession   latitude  longitude  \\\n",
       "1  Not an Ejectment                Possession  40.720081 -73.979203   \n",
       "2  Not an Ejectment                Possession  40.869928 -73.864326   \n",
       "\n",
       "   community_board  council_district  census_tract        bin           bbl  \\\n",
       "1              3.0               2.0        2202.0  1088845.0  1.003720e+09   \n",
       "2             12.0              15.0         338.0  2055595.0  2.045700e+09   \n",
       "\n",
       "               nta  \n",
       "1  Lower East Side  \n",
       "2        Bronxdale  "
      ]
     },
     "execution_count": 509,
     "metadata": {},
     "output_type": "execute_result"
    }
   ],
   "source": [
    "# find some rows that have the same court index number\n",
    "duplicate_groups = evictions_df.groupby('court_index_number').filter(lambda x: len(x) > 1)\n",
    "duplicate_groups.head(2)"
   ]
  },
  {
   "cell_type": "code",
   "execution_count": 510,
   "metadata": {
    "colab": {
     "base_uri": "https://localhost:8080/",
     "height": 167
    },
    "id": "W-1yCXScejaG",
    "outputId": "cd5a7668-54d7-4485-fb0c-71e987e38300"
   },
   "outputs": [
    {
     "data": {
      "application/vnd.google.colaboratory.intrinsic+json": {
       "repr_error": "0",
       "type": "dataframe",
       "variable_name": "check"
      },
      "text/html": [
       "\n",
       "  <div id=\"df-5795f849-29d4-490f-b959-eddd6b083f77\" class=\"colab-df-container\">\n",
       "    <div>\n",
       "<style scoped>\n",
       "    .dataframe tbody tr th:only-of-type {\n",
       "        vertical-align: middle;\n",
       "    }\n",
       "\n",
       "    .dataframe tbody tr th {\n",
       "        vertical-align: top;\n",
       "    }\n",
       "\n",
       "    .dataframe thead th {\n",
       "        text-align: right;\n",
       "    }\n",
       "</style>\n",
       "<table border=\"1\" class=\"dataframe\">\n",
       "  <thead>\n",
       "    <tr style=\"text-align: right;\">\n",
       "      <th></th>\n",
       "      <th>court_index_number</th>\n",
       "      <th>docket_number</th>\n",
       "      <th>eviction_address</th>\n",
       "      <th>eviction_apartment_number</th>\n",
       "      <th>executed_date</th>\n",
       "      <th>borough</th>\n",
       "      <th>eviction_postcode</th>\n",
       "      <th>ejectment</th>\n",
       "      <th>eviction/legal_possession</th>\n",
       "      <th>latitude</th>\n",
       "      <th>longitude</th>\n",
       "      <th>community_board</th>\n",
       "      <th>council_district</th>\n",
       "      <th>census_tract</th>\n",
       "      <th>bin</th>\n",
       "      <th>bbl</th>\n",
       "      <th>nta</th>\n",
       "    </tr>\n",
       "  </thead>\n",
       "  <tbody>\n",
       "    <tr>\n",
       "      <th>63441</th>\n",
       "      <td>307019/20</td>\n",
       "      <td>108457</td>\n",
       "      <td>505 WEST 54TH STREET</td>\n",
       "      <td>1111</td>\n",
       "      <td>08/16/2022</td>\n",
       "      <td>MANHATTAN</td>\n",
       "      <td>10019</td>\n",
       "      <td>Not an Ejectment</td>\n",
       "      <td>Possession</td>\n",
       "      <td>40.767339</td>\n",
       "      <td>-73.9903</td>\n",
       "      <td>4.0</td>\n",
       "      <td>6.0</td>\n",
       "      <td>135.0</td>\n",
       "      <td>1087122.0</td>\n",
       "      <td>1.010830e+09</td>\n",
       "      <td>Clinton</td>\n",
       "    </tr>\n",
       "    <tr>\n",
       "      <th>72514</th>\n",
       "      <td>307019/20</td>\n",
       "      <td>108457</td>\n",
       "      <td>505 WEST 54TH STREET</td>\n",
       "      <td>1111</td>\n",
       "      <td>09/28/2022</td>\n",
       "      <td>MANHATTAN</td>\n",
       "      <td>10019</td>\n",
       "      <td>Not an Ejectment</td>\n",
       "      <td>Possession</td>\n",
       "      <td>40.767339</td>\n",
       "      <td>-73.9903</td>\n",
       "      <td>4.0</td>\n",
       "      <td>6.0</td>\n",
       "      <td>135.0</td>\n",
       "      <td>1087122.0</td>\n",
       "      <td>1.010830e+09</td>\n",
       "      <td>Clinton</td>\n",
       "    </tr>\n",
       "  </tbody>\n",
       "</table>\n",
       "</div>\n",
       "    <div class=\"colab-df-buttons\">\n",
       "\n",
       "  <div class=\"colab-df-container\">\n",
       "    <button class=\"colab-df-convert\" onclick=\"convertToInteractive('df-5795f849-29d4-490f-b959-eddd6b083f77')\"\n",
       "            title=\"Convert this dataframe to an interactive table.\"\n",
       "            style=\"display:none;\">\n",
       "\n",
       "  <svg xmlns=\"http://www.w3.org/2000/svg\" height=\"24px\" viewBox=\"0 -960 960 960\">\n",
       "    <path d=\"M120-120v-720h720v720H120Zm60-500h600v-160H180v160Zm220 220h160v-160H400v160Zm0 220h160v-160H400v160ZM180-400h160v-160H180v160Zm440 0h160v-160H620v160ZM180-180h160v-160H180v160Zm440 0h160v-160H620v160Z\"/>\n",
       "  </svg>\n",
       "    </button>\n",
       "\n",
       "  <style>\n",
       "    .colab-df-container {\n",
       "      display:flex;\n",
       "      gap: 12px;\n",
       "    }\n",
       "\n",
       "    .colab-df-convert {\n",
       "      background-color: #E8F0FE;\n",
       "      border: none;\n",
       "      border-radius: 50%;\n",
       "      cursor: pointer;\n",
       "      display: none;\n",
       "      fill: #1967D2;\n",
       "      height: 32px;\n",
       "      padding: 0 0 0 0;\n",
       "      width: 32px;\n",
       "    }\n",
       "\n",
       "    .colab-df-convert:hover {\n",
       "      background-color: #E2EBFA;\n",
       "      box-shadow: 0px 1px 2px rgba(60, 64, 67, 0.3), 0px 1px 3px 1px rgba(60, 64, 67, 0.15);\n",
       "      fill: #174EA6;\n",
       "    }\n",
       "\n",
       "    .colab-df-buttons div {\n",
       "      margin-bottom: 4px;\n",
       "    }\n",
       "\n",
       "    [theme=dark] .colab-df-convert {\n",
       "      background-color: #3B4455;\n",
       "      fill: #D2E3FC;\n",
       "    }\n",
       "\n",
       "    [theme=dark] .colab-df-convert:hover {\n",
       "      background-color: #434B5C;\n",
       "      box-shadow: 0px 1px 3px 1px rgba(0, 0, 0, 0.15);\n",
       "      filter: drop-shadow(0px 1px 2px rgba(0, 0, 0, 0.3));\n",
       "      fill: #FFFFFF;\n",
       "    }\n",
       "  </style>\n",
       "\n",
       "    <script>\n",
       "      const buttonEl =\n",
       "        document.querySelector('#df-5795f849-29d4-490f-b959-eddd6b083f77 button.colab-df-convert');\n",
       "      buttonEl.style.display =\n",
       "        google.colab.kernel.accessAllowed ? 'block' : 'none';\n",
       "\n",
       "      async function convertToInteractive(key) {\n",
       "        const element = document.querySelector('#df-5795f849-29d4-490f-b959-eddd6b083f77');\n",
       "        const dataTable =\n",
       "          await google.colab.kernel.invokeFunction('convertToInteractive',\n",
       "                                                    [key], {});\n",
       "        if (!dataTable) return;\n",
       "\n",
       "        const docLinkHtml = 'Like what you see? Visit the ' +\n",
       "          '<a target=\"_blank\" href=https://colab.research.google.com/notebooks/data_table.ipynb>data table notebook</a>'\n",
       "          + ' to learn more about interactive tables.';\n",
       "        element.innerHTML = '';\n",
       "        dataTable['output_type'] = 'display_data';\n",
       "        await google.colab.output.renderOutput(dataTable, element);\n",
       "        const docLink = document.createElement('div');\n",
       "        docLink.innerHTML = docLinkHtml;\n",
       "        element.appendChild(docLink);\n",
       "      }\n",
       "    </script>\n",
       "  </div>\n",
       "\n",
       "\n",
       "<div id=\"df-c44bc25e-7182-4d1d-bc96-359e98b6fc09\">\n",
       "  <button class=\"colab-df-quickchart\" onclick=\"quickchart('df-c44bc25e-7182-4d1d-bc96-359e98b6fc09')\"\n",
       "            title=\"Suggest charts\"\n",
       "            style=\"display:none;\">\n",
       "\n",
       "<svg xmlns=\"http://www.w3.org/2000/svg\" height=\"24px\"viewBox=\"0 0 24 24\"\n",
       "     width=\"24px\">\n",
       "    <g>\n",
       "        <path d=\"M19 3H5c-1.1 0-2 .9-2 2v14c0 1.1.9 2 2 2h14c1.1 0 2-.9 2-2V5c0-1.1-.9-2-2-2zM9 17H7v-7h2v7zm4 0h-2V7h2v10zm4 0h-2v-4h2v4z\"/>\n",
       "    </g>\n",
       "</svg>\n",
       "  </button>\n",
       "\n",
       "<style>\n",
       "  .colab-df-quickchart {\n",
       "      --bg-color: #E8F0FE;\n",
       "      --fill-color: #1967D2;\n",
       "      --hover-bg-color: #E2EBFA;\n",
       "      --hover-fill-color: #174EA6;\n",
       "      --disabled-fill-color: #AAA;\n",
       "      --disabled-bg-color: #DDD;\n",
       "  }\n",
       "\n",
       "  [theme=dark] .colab-df-quickchart {\n",
       "      --bg-color: #3B4455;\n",
       "      --fill-color: #D2E3FC;\n",
       "      --hover-bg-color: #434B5C;\n",
       "      --hover-fill-color: #FFFFFF;\n",
       "      --disabled-bg-color: #3B4455;\n",
       "      --disabled-fill-color: #666;\n",
       "  }\n",
       "\n",
       "  .colab-df-quickchart {\n",
       "    background-color: var(--bg-color);\n",
       "    border: none;\n",
       "    border-radius: 50%;\n",
       "    cursor: pointer;\n",
       "    display: none;\n",
       "    fill: var(--fill-color);\n",
       "    height: 32px;\n",
       "    padding: 0;\n",
       "    width: 32px;\n",
       "  }\n",
       "\n",
       "  .colab-df-quickchart:hover {\n",
       "    background-color: var(--hover-bg-color);\n",
       "    box-shadow: 0 1px 2px rgba(60, 64, 67, 0.3), 0 1px 3px 1px rgba(60, 64, 67, 0.15);\n",
       "    fill: var(--button-hover-fill-color);\n",
       "  }\n",
       "\n",
       "  .colab-df-quickchart-complete:disabled,\n",
       "  .colab-df-quickchart-complete:disabled:hover {\n",
       "    background-color: var(--disabled-bg-color);\n",
       "    fill: var(--disabled-fill-color);\n",
       "    box-shadow: none;\n",
       "  }\n",
       "\n",
       "  .colab-df-spinner {\n",
       "    border: 2px solid var(--fill-color);\n",
       "    border-color: transparent;\n",
       "    border-bottom-color: var(--fill-color);\n",
       "    animation:\n",
       "      spin 1s steps(1) infinite;\n",
       "  }\n",
       "\n",
       "  @keyframes spin {\n",
       "    0% {\n",
       "      border-color: transparent;\n",
       "      border-bottom-color: var(--fill-color);\n",
       "      border-left-color: var(--fill-color);\n",
       "    }\n",
       "    20% {\n",
       "      border-color: transparent;\n",
       "      border-left-color: var(--fill-color);\n",
       "      border-top-color: var(--fill-color);\n",
       "    }\n",
       "    30% {\n",
       "      border-color: transparent;\n",
       "      border-left-color: var(--fill-color);\n",
       "      border-top-color: var(--fill-color);\n",
       "      border-right-color: var(--fill-color);\n",
       "    }\n",
       "    40% {\n",
       "      border-color: transparent;\n",
       "      border-right-color: var(--fill-color);\n",
       "      border-top-color: var(--fill-color);\n",
       "    }\n",
       "    60% {\n",
       "      border-color: transparent;\n",
       "      border-right-color: var(--fill-color);\n",
       "    }\n",
       "    80% {\n",
       "      border-color: transparent;\n",
       "      border-right-color: var(--fill-color);\n",
       "      border-bottom-color: var(--fill-color);\n",
       "    }\n",
       "    90% {\n",
       "      border-color: transparent;\n",
       "      border-bottom-color: var(--fill-color);\n",
       "    }\n",
       "  }\n",
       "</style>\n",
       "\n",
       "  <script>\n",
       "    async function quickchart(key) {\n",
       "      const quickchartButtonEl =\n",
       "        document.querySelector('#' + key + ' button');\n",
       "      quickchartButtonEl.disabled = true;  // To prevent multiple clicks.\n",
       "      quickchartButtonEl.classList.add('colab-df-spinner');\n",
       "      try {\n",
       "        const charts = await google.colab.kernel.invokeFunction(\n",
       "            'suggestCharts', [key], {});\n",
       "      } catch (error) {\n",
       "        console.error('Error during call to suggestCharts:', error);\n",
       "      }\n",
       "      quickchartButtonEl.classList.remove('colab-df-spinner');\n",
       "      quickchartButtonEl.classList.add('colab-df-quickchart-complete');\n",
       "    }\n",
       "    (() => {\n",
       "      let quickchartButtonEl =\n",
       "        document.querySelector('#df-c44bc25e-7182-4d1d-bc96-359e98b6fc09 button');\n",
       "      quickchartButtonEl.style.display =\n",
       "        google.colab.kernel.accessAllowed ? 'block' : 'none';\n",
       "    })();\n",
       "  </script>\n",
       "</div>\n",
       "\n",
       "  <div id=\"id_9eb14c4a-6b0f-48a6-8994-99c0b55dbad8\">\n",
       "    <style>\n",
       "      .colab-df-generate {\n",
       "        background-color: #E8F0FE;\n",
       "        border: none;\n",
       "        border-radius: 50%;\n",
       "        cursor: pointer;\n",
       "        display: none;\n",
       "        fill: #1967D2;\n",
       "        height: 32px;\n",
       "        padding: 0 0 0 0;\n",
       "        width: 32px;\n",
       "      }\n",
       "\n",
       "      .colab-df-generate:hover {\n",
       "        background-color: #E2EBFA;\n",
       "        box-shadow: 0px 1px 2px rgba(60, 64, 67, 0.3), 0px 1px 3px 1px rgba(60, 64, 67, 0.15);\n",
       "        fill: #174EA6;\n",
       "      }\n",
       "\n",
       "      [theme=dark] .colab-df-generate {\n",
       "        background-color: #3B4455;\n",
       "        fill: #D2E3FC;\n",
       "      }\n",
       "\n",
       "      [theme=dark] .colab-df-generate:hover {\n",
       "        background-color: #434B5C;\n",
       "        box-shadow: 0px 1px 3px 1px rgba(0, 0, 0, 0.15);\n",
       "        filter: drop-shadow(0px 1px 2px rgba(0, 0, 0, 0.3));\n",
       "        fill: #FFFFFF;\n",
       "      }\n",
       "    </style>\n",
       "    <button class=\"colab-df-generate\" onclick=\"generateWithVariable('check')\"\n",
       "            title=\"Generate code using this dataframe.\"\n",
       "            style=\"display:none;\">\n",
       "\n",
       "  <svg xmlns=\"http://www.w3.org/2000/svg\" height=\"24px\"viewBox=\"0 0 24 24\"\n",
       "       width=\"24px\">\n",
       "    <path d=\"M7,19H8.4L18.45,9,17,7.55,7,17.6ZM5,21V16.75L18.45,3.32a2,2,0,0,1,2.83,0l1.4,1.43a1.91,1.91,0,0,1,.58,1.4,1.91,1.91,0,0,1-.58,1.4L9.25,21ZM18.45,9,17,7.55Zm-12,3A5.31,5.31,0,0,0,4.9,8.1,5.31,5.31,0,0,0,1,6.5,5.31,5.31,0,0,0,4.9,4.9,5.31,5.31,0,0,0,6.5,1,5.31,5.31,0,0,0,8.1,4.9,5.31,5.31,0,0,0,12,6.5,5.46,5.46,0,0,0,6.5,12Z\"/>\n",
       "  </svg>\n",
       "    </button>\n",
       "    <script>\n",
       "      (() => {\n",
       "      const buttonEl =\n",
       "        document.querySelector('#id_9eb14c4a-6b0f-48a6-8994-99c0b55dbad8 button.colab-df-generate');\n",
       "      buttonEl.style.display =\n",
       "        google.colab.kernel.accessAllowed ? 'block' : 'none';\n",
       "\n",
       "      buttonEl.onclick = () => {\n",
       "        google.colab.notebook.generateWithVariable('check');\n",
       "      }\n",
       "      })();\n",
       "    </script>\n",
       "  </div>\n",
       "\n",
       "    </div>\n",
       "  </div>\n"
      ],
      "text/plain": [
       "      court_index_number  docket_number      eviction_address  \\\n",
       "63441          307019/20         108457  505 WEST 54TH STREET   \n",
       "72514          307019/20         108457  505 WEST 54TH STREET   \n",
       "\n",
       "      eviction_apartment_number executed_date    borough  eviction_postcode  \\\n",
       "63441                      1111    08/16/2022  MANHATTAN              10019   \n",
       "72514                      1111    09/28/2022  MANHATTAN              10019   \n",
       "\n",
       "              ejectment eviction/legal_possession   latitude  longitude  \\\n",
       "63441  Not an Ejectment                Possession  40.767339   -73.9903   \n",
       "72514  Not an Ejectment                Possession  40.767339   -73.9903   \n",
       "\n",
       "       community_board  council_district  census_tract        bin  \\\n",
       "63441              4.0               6.0         135.0  1087122.0   \n",
       "72514              4.0               6.0         135.0  1087122.0   \n",
       "\n",
       "                bbl      nta  \n",
       "63441  1.010830e+09  Clinton  \n",
       "72514  1.010830e+09  Clinton  "
      ]
     },
     "execution_count": 510,
     "metadata": {},
     "output_type": "execute_result"
    }
   ],
   "source": [
    "check = evictions_df[evictions_df[\"court_index_number\"] == '307019/20']\n",
    "\n",
    "# display the filtered rows\n",
    "check"
   ]
  },
  {
   "cell_type": "code",
   "execution_count": 511,
   "metadata": {
    "colab": {
     "base_uri": "https://localhost:8080/"
    },
    "id": "FCttFUijzY--",
    "outputId": "a90d25bb-8640-4d00-fc4f-3359f65ef4c7"
   },
   "outputs": [
    {
     "name": "stdout",
     "output_type": "stream",
     "text": [
      "<class 'pandas.core.frame.DataFrame'>\n",
      "Index: 88341 entries, 0 to 104456\n",
      "Data columns (total 17 columns):\n",
      " #   Column                     Non-Null Count  Dtype  \n",
      "---  ------                     --------------  -----  \n",
      " 0   court_index_number         88341 non-null  object \n",
      " 1   docket_number              88341 non-null  int64  \n",
      " 2   eviction_address           88341 non-null  object \n",
      " 3   eviction_apartment_number  88341 non-null  object \n",
      " 4   executed_date              88341 non-null  object \n",
      " 5   borough                    88341 non-null  object \n",
      " 6   eviction_postcode          88341 non-null  int64  \n",
      " 7   ejectment                  88341 non-null  object \n",
      " 8   eviction/legal_possession  88341 non-null  object \n",
      " 9   latitude                   88341 non-null  float64\n",
      " 10  longitude                  88341 non-null  float64\n",
      " 11  community_board            88341 non-null  float64\n",
      " 12  council_district           88341 non-null  float64\n",
      " 13  census_tract               88341 non-null  float64\n",
      " 14  bin                        88341 non-null  float64\n",
      " 15  bbl                        88341 non-null  float64\n",
      " 16  nta                        88341 non-null  object \n",
      "dtypes: float64(7), int64(2), object(8)\n",
      "memory usage: 12.1+ MB\n"
     ]
    }
   ],
   "source": [
    "evictions_df.info()"
   ]
  },
  {
   "cell_type": "code",
   "execution_count": 512,
   "metadata": {
    "id": "61iukie4zRf6"
   },
   "outputs": [],
   "source": [
    "# drop duplicates based on Court Index Number\n",
    "# cleaned_df = evictions_df.drop_duplicates(subset=['court_index_number'])"
   ]
  },
  {
   "cell_type": "code",
   "execution_count": 513,
   "metadata": {
    "id": "-AiRPnGhhjTH"
   },
   "outputs": [],
   "source": [
    "evictions_df['executed_date'] = pd.to_datetime(evictions_df['executed_date'])"
   ]
  },
  {
   "cell_type": "code",
   "execution_count": 514,
   "metadata": {
    "id": "IovcRFeFhpL-"
   },
   "outputs": [],
   "source": [
    "evictions_df.sort_values(by=['court_index_number', 'executed_date'], inplace=True)"
   ]
  },
  {
   "cell_type": "code",
   "execution_count": 515,
   "metadata": {
    "id": "bCayRG9Lhwuu"
   },
   "outputs": [],
   "source": [
    "evictions_df = evictions_df.drop_duplicates(subset=['court_index_number'], keep='last')"
   ]
  },
  {
   "cell_type": "code",
   "execution_count": 516,
   "metadata": {
    "id": "vFAGWmWJ6qgO"
   },
   "outputs": [],
   "source": [
    "# only keep the relevant ones\n",
    "start_date = '2017-01-01'\n",
    "end_date = '2024-12-31'\n",
    "date_mask = (evictions_df['executed_date'] >= start_date) & (evictions_df['executed_date'] <= end_date)"
   ]
  },
  {
   "cell_type": "code",
   "execution_count": 517,
   "metadata": {
    "id": "5N9K7Z1R6zIX"
   },
   "outputs": [],
   "source": [
    "evictions_df = evictions_df[date_mask]\n",
    "sorted_df = evictions_df.sort_values('executed_date')"
   ]
  },
  {
   "cell_type": "code",
   "execution_count": 518,
   "metadata": {
    "colab": {
     "base_uri": "https://localhost:8080/"
    },
    "id": "E7zf0kiR6744",
    "outputId": "60f41e65-f1d5-445c-c151-ccb38a9d90f4"
   },
   "outputs": [
    {
     "name": "stdout",
     "output_type": "stream",
     "text": [
      "<class 'pandas.core.frame.DataFrame'>\n",
      "Index: 80420 entries, 7797 to 21704\n",
      "Data columns (total 17 columns):\n",
      " #   Column                     Non-Null Count  Dtype         \n",
      "---  ------                     --------------  -----         \n",
      " 0   court_index_number         80420 non-null  object        \n",
      " 1   docket_number              80420 non-null  int64         \n",
      " 2   eviction_address           80420 non-null  object        \n",
      " 3   eviction_apartment_number  80420 non-null  object        \n",
      " 4   executed_date              80420 non-null  datetime64[ns]\n",
      " 5   borough                    80420 non-null  object        \n",
      " 6   eviction_postcode          80420 non-null  int64         \n",
      " 7   ejectment                  80420 non-null  object        \n",
      " 8   eviction/legal_possession  80420 non-null  object        \n",
      " 9   latitude                   80420 non-null  float64       \n",
      " 10  longitude                  80420 non-null  float64       \n",
      " 11  community_board            80420 non-null  float64       \n",
      " 12  council_district           80420 non-null  float64       \n",
      " 13  census_tract               80420 non-null  float64       \n",
      " 14  bin                        80420 non-null  float64       \n",
      " 15  bbl                        80420 non-null  float64       \n",
      " 16  nta                        80420 non-null  object        \n",
      "dtypes: datetime64[ns](1), float64(7), int64(2), object(7)\n",
      "memory usage: 11.0+ MB\n"
     ]
    },
    {
     "data": {
      "text/plain": [
       "(None, 80420)"
      ]
     },
     "execution_count": 518,
     "metadata": {},
     "output_type": "execute_result"
    }
   ],
   "source": [
    "evictions_df.info(), \\\n",
    "len(evictions_df)"
   ]
  },
  {
   "cell_type": "code",
   "execution_count": 519,
   "metadata": {
    "colab": {
     "base_uri": "https://localhost:8080/",
     "height": 738
    },
    "id": "vvmB4h7s1WSH",
    "outputId": "9861cca8-fbeb-4a6c-95c8-60ea3f0dd701"
   },
   "outputs": [
    {
     "data": {
      "application/vnd.google.colaboratory.intrinsic+json": {
       "summary": "{\n  \"name\": \"sorted_df\",\n  \"rows\": 80420,\n  \"fields\": [\n    {\n      \"column\": \"court_index_number\",\n      \"properties\": {\n        \"dtype\": \"string\",\n        \"num_unique_values\": 80420,\n        \"samples\": [\n          \"324247/22\",\n          \"11547/14\",\n          \"70411/18\"\n        ],\n        \"semantic_type\": \"\",\n        \"description\": \"\"\n      }\n    },\n    {\n      \"column\": \"docket_number\",\n      \"properties\": {\n        \"dtype\": \"number\",\n        \"std\": 137631,\n        \"min\": 1,\n        \"max\": 496987,\n        \"num_unique_values\": 69670,\n        \"samples\": [\n          465753,\n          120474,\n          338185\n        ],\n        \"semantic_type\": \"\",\n        \"description\": \"\"\n      }\n    },\n    {\n      \"column\": \"eviction_address\",\n      \"properties\": {\n        \"dtype\": \"string\",\n        \"num_unique_values\": 45660,\n        \"samples\": [\n          \"831 MONTGOMERY ST\",\n          \"2023 HUGHES AVENUE\",\n          \"246 WEST 137 STREET\"\n        ],\n        \"semantic_type\": \"\",\n        \"description\": \"\"\n      }\n    },\n    {\n      \"column\": \"eviction_apartment_number\",\n      \"properties\": {\n        \"dtype\": \"category\",\n        \"num_unique_values\": 7573,\n        \"samples\": [\n          \"EYEBROW THREADING SA\",\n          \"19S\",\n          \"2F, 2ND FLOOR\"\n        ],\n        \"semantic_type\": \"\",\n        \"description\": \"\"\n      }\n    },\n    {\n      \"column\": \"executed_date\",\n      \"properties\": {\n        \"dtype\": \"date\",\n        \"min\": \"2017-01-03 00:00:00\",\n        \"max\": \"2024-12-30 00:00:00\",\n        \"num_unique_values\": 1578,\n        \"samples\": [\n          \"2023-08-10 00:00:00\",\n          \"2021-08-25 00:00:00\",\n          \"2023-05-08 00:00:00\"\n        ],\n        \"semantic_type\": \"\",\n        \"description\": \"\"\n      }\n    },\n    {\n      \"column\": \"borough\",\n      \"properties\": {\n        \"dtype\": \"category\",\n        \"num_unique_values\": 5,\n        \"samples\": [\n          \"MANHATTAN\",\n          \"STATEN ISLAND\",\n          \"BROOKLYN\"\n        ],\n        \"semantic_type\": \"\",\n        \"description\": \"\"\n      }\n    },\n    {\n      \"column\": \"eviction_postcode\",\n      \"properties\": {\n        \"dtype\": \"number\",\n        \"std\": 506,\n        \"min\": 10000,\n        \"max\": 11698,\n        \"num_unique_values\": 202,\n        \"samples\": [\n          11209,\n          10451,\n          11428\n        ],\n        \"semantic_type\": \"\",\n        \"description\": \"\"\n      }\n    },\n    {\n      \"column\": \"ejectment\",\n      \"properties\": {\n        \"dtype\": \"category\",\n        \"num_unique_values\": 2,\n        \"samples\": [\n          \"Ejectment\",\n          \"Not an Ejectment\"\n        ],\n        \"semantic_type\": \"\",\n        \"description\": \"\"\n      }\n    },\n    {\n      \"column\": \"eviction/legal_possession\",\n      \"properties\": {\n        \"dtype\": \"category\",\n        \"num_unique_values\": 2,\n        \"samples\": [\n          \"Eviction\",\n          \"Possession\"\n        ],\n        \"semantic_type\": \"\",\n        \"description\": \"\"\n      }\n    },\n    {\n      \"column\": \"latitude\",\n      \"properties\": {\n        \"dtype\": \"number\",\n        \"std\": 0.09250641053424126,\n        \"min\": 40.49905,\n        \"max\": 40.912869,\n        \"num_unique_values\": 35900,\n        \"samples\": [\n          40.69661,\n          40.63958\n        ],\n        \"semantic_type\": \"\",\n        \"description\": \"\"\n      }\n    },\n    {\n      \"column\": \"longitude\",\n      \"properties\": {\n        \"dtype\": \"number\",\n        \"std\": 0.06896600722340676,\n        \"min\": -74.251262,\n        \"max\": -73.70143,\n        \"num_unique_values\": 35201,\n        \"samples\": [\n          -73.917217,\n          -73.821088\n        ],\n        \"semantic_type\": \"\",\n        \"description\": \"\"\n      }\n    },\n    {\n      \"column\": \"community_board\",\n      \"properties\": {\n        \"dtype\": \"number\",\n        \"std\": 4.577233156787827,\n        \"min\": 1.0,\n        \"max\": 18.0,\n        \"num_unique_values\": 18,\n        \"samples\": [\n          12.0,\n          3.0\n        ],\n        \"semantic_type\": \"\",\n        \"description\": \"\"\n      }\n    },\n    {\n      \"column\": \"council_district\",\n      \"properties\": {\n        \"dtype\": \"number\",\n        \"std\": 13.857945566130347,\n        \"min\": 1.0,\n        \"max\": 51.0,\n        \"num_unique_values\": 51,\n        \"samples\": [\n          22.0,\n          37.0\n        ],\n        \"semantic_type\": \"\",\n        \"description\": \"\"\n      }\n    },\n    {\n      \"column\": \"census_tract\",\n      \"properties\": {\n        \"dtype\": \"number\",\n        \"std\": 21432.903255258094,\n        \"min\": 1.0,\n        \"max\": 157903.0,\n        \"num_unique_values\": 1289,\n        \"samples\": [\n          1191.0,\n          70201.0\n        ],\n        \"semantic_type\": \"\",\n        \"description\": \"\"\n      }\n    },\n    {\n      \"column\": \"bin\",\n      \"properties\": {\n        \"dtype\": \"number\",\n        \"std\": 1116095.4847912209,\n        \"min\": 1000000.0,\n        \"max\": 5171959.0,\n        \"num_unique_values\": 37498,\n        \"samples\": [\n          3041582.0,\n          2007839.0\n        ],\n        \"semantic_type\": \"\",\n        \"description\": \"\"\n      }\n    },\n    {\n      \"column\": \"bbl\",\n      \"properties\": {\n        \"dtype\": \"number\",\n        \"std\": 1065170973.5952367,\n        \"min\": 0.0,\n        \"max\": 5080490021.0,\n        \"num_unique_values\": 35164,\n        \"samples\": [\n          4017300002.0,\n          1018250041.0\n        ],\n        \"semantic_type\": \"\",\n        \"description\": \"\"\n      }\n    },\n    {\n      \"column\": \"nta\",\n      \"properties\": {\n        \"dtype\": \"category\",\n        \"num_unique_values\": 190,\n        \"samples\": [\n          \"Woodside\",\n          \"Oakwood-Oakwood Beach\"\n        ],\n        \"semantic_type\": \"\",\n        \"description\": \"\"\n      }\n    }\n  ]\n}",
       "type": "dataframe",
       "variable_name": "sorted_df"
      },
      "text/html": [
       "\n",
       "  <div id=\"df-9f37e809-ee63-4a74-a358-2c520be5ad67\" class=\"colab-df-container\">\n",
       "    <div>\n",
       "<style scoped>\n",
       "    .dataframe tbody tr th:only-of-type {\n",
       "        vertical-align: middle;\n",
       "    }\n",
       "\n",
       "    .dataframe tbody tr th {\n",
       "        vertical-align: top;\n",
       "    }\n",
       "\n",
       "    .dataframe thead th {\n",
       "        text-align: right;\n",
       "    }\n",
       "</style>\n",
       "<table border=\"1\" class=\"dataframe\">\n",
       "  <thead>\n",
       "    <tr style=\"text-align: right;\">\n",
       "      <th></th>\n",
       "      <th>court_index_number</th>\n",
       "      <th>docket_number</th>\n",
       "      <th>eviction_address</th>\n",
       "      <th>eviction_apartment_number</th>\n",
       "      <th>executed_date</th>\n",
       "      <th>borough</th>\n",
       "      <th>eviction_postcode</th>\n",
       "      <th>ejectment</th>\n",
       "      <th>eviction/legal_possession</th>\n",
       "      <th>latitude</th>\n",
       "      <th>longitude</th>\n",
       "      <th>community_board</th>\n",
       "      <th>council_district</th>\n",
       "      <th>census_tract</th>\n",
       "      <th>bin</th>\n",
       "      <th>bbl</th>\n",
       "      <th>nta</th>\n",
       "    </tr>\n",
       "  </thead>\n",
       "  <tbody>\n",
       "    <tr>\n",
       "      <th>26688</th>\n",
       "      <td>34859/16</td>\n",
       "      <td>53416</td>\n",
       "      <td>3476 SEYMOUR AVENUE</td>\n",
       "      <td>3-B</td>\n",
       "      <td>2017-01-03</td>\n",
       "      <td>BRONX</td>\n",
       "      <td>10469</td>\n",
       "      <td>Not an Ejectment</td>\n",
       "      <td>Possession</td>\n",
       "      <td>40.877620</td>\n",
       "      <td>-73.849806</td>\n",
       "      <td>12.0</td>\n",
       "      <td>12.0</td>\n",
       "      <td>386.0</td>\n",
       "      <td>2117041.0</td>\n",
       "      <td>2.047200e+09</td>\n",
       "      <td>Eastchester-Edenwald-Baychester</td>\n",
       "    </tr>\n",
       "    <tr>\n",
       "      <th>66493</th>\n",
       "      <td>B57808/16</td>\n",
       "      <td>74242</td>\n",
       "      <td>1426 BRYANT AVENUE</td>\n",
       "      <td>10 AKA 2ND FL UNIT</td>\n",
       "      <td>2017-01-03</td>\n",
       "      <td>BRONX</td>\n",
       "      <td>10459</td>\n",
       "      <td>Not an Ejectment</td>\n",
       "      <td>Possession</td>\n",
       "      <td>40.830691</td>\n",
       "      <td>-73.888555</td>\n",
       "      <td>3.0</td>\n",
       "      <td>17.0</td>\n",
       "      <td>123.0</td>\n",
       "      <td>2099901.0</td>\n",
       "      <td>2.029990e+09</td>\n",
       "      <td>Crotona Park East</td>\n",
       "    </tr>\n",
       "    <tr>\n",
       "      <th>47644</th>\n",
       "      <td>N069212/14</td>\n",
       "      <td>355977</td>\n",
       "      <td>1309 5TH AVENUE</td>\n",
       "      <td>24H</td>\n",
       "      <td>2017-01-03</td>\n",
       "      <td>MANHATTAN</td>\n",
       "      <td>10029</td>\n",
       "      <td>Not an Ejectment</td>\n",
       "      <td>Possession</td>\n",
       "      <td>40.797309</td>\n",
       "      <td>-73.948901</td>\n",
       "      <td>11.0</td>\n",
       "      <td>9.0</td>\n",
       "      <td>17402.0</td>\n",
       "      <td>1078884.0</td>\n",
       "      <td>1.016160e+09</td>\n",
       "      <td>East Harlem South</td>\n",
       "    </tr>\n",
       "    <tr>\n",
       "      <th>15788</th>\n",
       "      <td>K065455/16</td>\n",
       "      <td>367441</td>\n",
       "      <td>458 EAST 51 STREET</td>\n",
       "      <td>6A</td>\n",
       "      <td>2017-01-03</td>\n",
       "      <td>BROOKLYN</td>\n",
       "      <td>11203</td>\n",
       "      <td>Not an Ejectment</td>\n",
       "      <td>Possession</td>\n",
       "      <td>40.650624</td>\n",
       "      <td>-73.929261</td>\n",
       "      <td>17.0</td>\n",
       "      <td>45.0</td>\n",
       "      <td>862.0</td>\n",
       "      <td>3102875.0</td>\n",
       "      <td>3.046980e+09</td>\n",
       "      <td>Rugby-Remsen Village</td>\n",
       "    </tr>\n",
       "    <tr>\n",
       "      <th>16805</th>\n",
       "      <td>33992/16</td>\n",
       "      <td>458984</td>\n",
       "      <td>580 EAST 168TH STREE T</td>\n",
       "      <td>*</td>\n",
       "      <td>2017-01-03</td>\n",
       "      <td>BRONX</td>\n",
       "      <td>10456</td>\n",
       "      <td>Not an Ejectment</td>\n",
       "      <td>Possession</td>\n",
       "      <td>40.830494</td>\n",
       "      <td>-73.904108</td>\n",
       "      <td>3.0</td>\n",
       "      <td>16.0</td>\n",
       "      <td>185.0</td>\n",
       "      <td>2004234.0</td>\n",
       "      <td>2.026110e+09</td>\n",
       "      <td>Morrisania-Melrose</td>\n",
       "    </tr>\n",
       "    <tr>\n",
       "      <th>...</th>\n",
       "      <td>...</td>\n",
       "      <td>...</td>\n",
       "      <td>...</td>\n",
       "      <td>...</td>\n",
       "      <td>...</td>\n",
       "      <td>...</td>\n",
       "      <td>...</td>\n",
       "      <td>...</td>\n",
       "      <td>...</td>\n",
       "      <td>...</td>\n",
       "      <td>...</td>\n",
       "      <td>...</td>\n",
       "      <td>...</td>\n",
       "      <td>...</td>\n",
       "      <td>...</td>\n",
       "      <td>...</td>\n",
       "      <td>...</td>\n",
       "    </tr>\n",
       "    <tr>\n",
       "      <th>75414</th>\n",
       "      <td>308123/24</td>\n",
       "      <td>23218</td>\n",
       "      <td>45 BRADHURST AVENUE APT 1</td>\n",
       "      <td>1</td>\n",
       "      <td>2024-12-26</td>\n",
       "      <td>MANHATTAN</td>\n",
       "      <td>10030</td>\n",
       "      <td>Not an Ejectment</td>\n",
       "      <td>Possession</td>\n",
       "      <td>40.822848</td>\n",
       "      <td>-73.943318</td>\n",
       "      <td>9.0</td>\n",
       "      <td>9.0</td>\n",
       "      <td>227.0</td>\n",
       "      <td>1061113.0</td>\n",
       "      <td>1.020510e+09</td>\n",
       "      <td>Hamilton Heights</td>\n",
       "    </tr>\n",
       "    <tr>\n",
       "      <th>78140</th>\n",
       "      <td>314456/24</td>\n",
       "      <td>22735</td>\n",
       "      <td>370 WEST 52ND STREET APT 3-B</td>\n",
       "      <td>3-B</td>\n",
       "      <td>2024-12-26</td>\n",
       "      <td>MANHATTAN</td>\n",
       "      <td>10019</td>\n",
       "      <td>Not an Ejectment</td>\n",
       "      <td>Possession</td>\n",
       "      <td>40.764435</td>\n",
       "      <td>-73.987336</td>\n",
       "      <td>4.0</td>\n",
       "      <td>3.0</td>\n",
       "      <td>133.0</td>\n",
       "      <td>1078889.0</td>\n",
       "      <td>1.010420e+09</td>\n",
       "      <td>Clinton</td>\n",
       "    </tr>\n",
       "    <tr>\n",
       "      <th>51668</th>\n",
       "      <td>308611/20</td>\n",
       "      <td>21515</td>\n",
       "      <td>1629 ST JOHNS PLACE APT. 4F</td>\n",
       "      <td>4F</td>\n",
       "      <td>2024-12-27</td>\n",
       "      <td>BROOKLYN</td>\n",
       "      <td>11233</td>\n",
       "      <td>Not an Ejectment</td>\n",
       "      <td>Possession</td>\n",
       "      <td>40.670179</td>\n",
       "      <td>-73.923408</td>\n",
       "      <td>8.0</td>\n",
       "      <td>41.0</td>\n",
       "      <td>359.0</td>\n",
       "      <td>3036936.0</td>\n",
       "      <td>3.013810e+09</td>\n",
       "      <td>Crown Heights North</td>\n",
       "    </tr>\n",
       "    <tr>\n",
       "      <th>71721</th>\n",
       "      <td>306966/24</td>\n",
       "      <td>22953</td>\n",
       "      <td>119 BAXTER STREET APARTMENT 8R</td>\n",
       "      <td>8R</td>\n",
       "      <td>2024-12-27</td>\n",
       "      <td>MANHATTAN</td>\n",
       "      <td>10013</td>\n",
       "      <td>Not an Ejectment</td>\n",
       "      <td>Possession</td>\n",
       "      <td>40.718065</td>\n",
       "      <td>-73.998975</td>\n",
       "      <td>2.0</td>\n",
       "      <td>1.0</td>\n",
       "      <td>41.0</td>\n",
       "      <td>1079542.0</td>\n",
       "      <td>1.002060e+09</td>\n",
       "      <td>SoHo-TriBeCa-Civic Center-Little Italy</td>\n",
       "    </tr>\n",
       "    <tr>\n",
       "      <th>79105</th>\n",
       "      <td>423/24</td>\n",
       "      <td>21979</td>\n",
       "      <td>735 WEST 172 STREET APT. 1A</td>\n",
       "      <td>1A</td>\n",
       "      <td>2024-12-30</td>\n",
       "      <td>MANHATTAN</td>\n",
       "      <td>10032</td>\n",
       "      <td>Not an Ejectment</td>\n",
       "      <td>Possession</td>\n",
       "      <td>40.844948</td>\n",
       "      <td>-73.941398</td>\n",
       "      <td>12.0</td>\n",
       "      <td>10.0</td>\n",
       "      <td>255.0</td>\n",
       "      <td>1063439.0</td>\n",
       "      <td>1.021390e+09</td>\n",
       "      <td>Washington Heights South</td>\n",
       "    </tr>\n",
       "  </tbody>\n",
       "</table>\n",
       "<p>80420 rows × 17 columns</p>\n",
       "</div>\n",
       "    <div class=\"colab-df-buttons\">\n",
       "\n",
       "  <div class=\"colab-df-container\">\n",
       "    <button class=\"colab-df-convert\" onclick=\"convertToInteractive('df-9f37e809-ee63-4a74-a358-2c520be5ad67')\"\n",
       "            title=\"Convert this dataframe to an interactive table.\"\n",
       "            style=\"display:none;\">\n",
       "\n",
       "  <svg xmlns=\"http://www.w3.org/2000/svg\" height=\"24px\" viewBox=\"0 -960 960 960\">\n",
       "    <path d=\"M120-120v-720h720v720H120Zm60-500h600v-160H180v160Zm220 220h160v-160H400v160Zm0 220h160v-160H400v160ZM180-400h160v-160H180v160Zm440 0h160v-160H620v160ZM180-180h160v-160H180v160Zm440 0h160v-160H620v160Z\"/>\n",
       "  </svg>\n",
       "    </button>\n",
       "\n",
       "  <style>\n",
       "    .colab-df-container {\n",
       "      display:flex;\n",
       "      gap: 12px;\n",
       "    }\n",
       "\n",
       "    .colab-df-convert {\n",
       "      background-color: #E8F0FE;\n",
       "      border: none;\n",
       "      border-radius: 50%;\n",
       "      cursor: pointer;\n",
       "      display: none;\n",
       "      fill: #1967D2;\n",
       "      height: 32px;\n",
       "      padding: 0 0 0 0;\n",
       "      width: 32px;\n",
       "    }\n",
       "\n",
       "    .colab-df-convert:hover {\n",
       "      background-color: #E2EBFA;\n",
       "      box-shadow: 0px 1px 2px rgba(60, 64, 67, 0.3), 0px 1px 3px 1px rgba(60, 64, 67, 0.15);\n",
       "      fill: #174EA6;\n",
       "    }\n",
       "\n",
       "    .colab-df-buttons div {\n",
       "      margin-bottom: 4px;\n",
       "    }\n",
       "\n",
       "    [theme=dark] .colab-df-convert {\n",
       "      background-color: #3B4455;\n",
       "      fill: #D2E3FC;\n",
       "    }\n",
       "\n",
       "    [theme=dark] .colab-df-convert:hover {\n",
       "      background-color: #434B5C;\n",
       "      box-shadow: 0px 1px 3px 1px rgba(0, 0, 0, 0.15);\n",
       "      filter: drop-shadow(0px 1px 2px rgba(0, 0, 0, 0.3));\n",
       "      fill: #FFFFFF;\n",
       "    }\n",
       "  </style>\n",
       "\n",
       "    <script>\n",
       "      const buttonEl =\n",
       "        document.querySelector('#df-9f37e809-ee63-4a74-a358-2c520be5ad67 button.colab-df-convert');\n",
       "      buttonEl.style.display =\n",
       "        google.colab.kernel.accessAllowed ? 'block' : 'none';\n",
       "\n",
       "      async function convertToInteractive(key) {\n",
       "        const element = document.querySelector('#df-9f37e809-ee63-4a74-a358-2c520be5ad67');\n",
       "        const dataTable =\n",
       "          await google.colab.kernel.invokeFunction('convertToInteractive',\n",
       "                                                    [key], {});\n",
       "        if (!dataTable) return;\n",
       "\n",
       "        const docLinkHtml = 'Like what you see? Visit the ' +\n",
       "          '<a target=\"_blank\" href=https://colab.research.google.com/notebooks/data_table.ipynb>data table notebook</a>'\n",
       "          + ' to learn more about interactive tables.';\n",
       "        element.innerHTML = '';\n",
       "        dataTable['output_type'] = 'display_data';\n",
       "        await google.colab.output.renderOutput(dataTable, element);\n",
       "        const docLink = document.createElement('div');\n",
       "        docLink.innerHTML = docLinkHtml;\n",
       "        element.appendChild(docLink);\n",
       "      }\n",
       "    </script>\n",
       "  </div>\n",
       "\n",
       "\n",
       "<div id=\"df-78a06a39-6822-40ae-a9b4-c1bca4cb5189\">\n",
       "  <button class=\"colab-df-quickchart\" onclick=\"quickchart('df-78a06a39-6822-40ae-a9b4-c1bca4cb5189')\"\n",
       "            title=\"Suggest charts\"\n",
       "            style=\"display:none;\">\n",
       "\n",
       "<svg xmlns=\"http://www.w3.org/2000/svg\" height=\"24px\"viewBox=\"0 0 24 24\"\n",
       "     width=\"24px\">\n",
       "    <g>\n",
       "        <path d=\"M19 3H5c-1.1 0-2 .9-2 2v14c0 1.1.9 2 2 2h14c1.1 0 2-.9 2-2V5c0-1.1-.9-2-2-2zM9 17H7v-7h2v7zm4 0h-2V7h2v10zm4 0h-2v-4h2v4z\"/>\n",
       "    </g>\n",
       "</svg>\n",
       "  </button>\n",
       "\n",
       "<style>\n",
       "  .colab-df-quickchart {\n",
       "      --bg-color: #E8F0FE;\n",
       "      --fill-color: #1967D2;\n",
       "      --hover-bg-color: #E2EBFA;\n",
       "      --hover-fill-color: #174EA6;\n",
       "      --disabled-fill-color: #AAA;\n",
       "      --disabled-bg-color: #DDD;\n",
       "  }\n",
       "\n",
       "  [theme=dark] .colab-df-quickchart {\n",
       "      --bg-color: #3B4455;\n",
       "      --fill-color: #D2E3FC;\n",
       "      --hover-bg-color: #434B5C;\n",
       "      --hover-fill-color: #FFFFFF;\n",
       "      --disabled-bg-color: #3B4455;\n",
       "      --disabled-fill-color: #666;\n",
       "  }\n",
       "\n",
       "  .colab-df-quickchart {\n",
       "    background-color: var(--bg-color);\n",
       "    border: none;\n",
       "    border-radius: 50%;\n",
       "    cursor: pointer;\n",
       "    display: none;\n",
       "    fill: var(--fill-color);\n",
       "    height: 32px;\n",
       "    padding: 0;\n",
       "    width: 32px;\n",
       "  }\n",
       "\n",
       "  .colab-df-quickchart:hover {\n",
       "    background-color: var(--hover-bg-color);\n",
       "    box-shadow: 0 1px 2px rgba(60, 64, 67, 0.3), 0 1px 3px 1px rgba(60, 64, 67, 0.15);\n",
       "    fill: var(--button-hover-fill-color);\n",
       "  }\n",
       "\n",
       "  .colab-df-quickchart-complete:disabled,\n",
       "  .colab-df-quickchart-complete:disabled:hover {\n",
       "    background-color: var(--disabled-bg-color);\n",
       "    fill: var(--disabled-fill-color);\n",
       "    box-shadow: none;\n",
       "  }\n",
       "\n",
       "  .colab-df-spinner {\n",
       "    border: 2px solid var(--fill-color);\n",
       "    border-color: transparent;\n",
       "    border-bottom-color: var(--fill-color);\n",
       "    animation:\n",
       "      spin 1s steps(1) infinite;\n",
       "  }\n",
       "\n",
       "  @keyframes spin {\n",
       "    0% {\n",
       "      border-color: transparent;\n",
       "      border-bottom-color: var(--fill-color);\n",
       "      border-left-color: var(--fill-color);\n",
       "    }\n",
       "    20% {\n",
       "      border-color: transparent;\n",
       "      border-left-color: var(--fill-color);\n",
       "      border-top-color: var(--fill-color);\n",
       "    }\n",
       "    30% {\n",
       "      border-color: transparent;\n",
       "      border-left-color: var(--fill-color);\n",
       "      border-top-color: var(--fill-color);\n",
       "      border-right-color: var(--fill-color);\n",
       "    }\n",
       "    40% {\n",
       "      border-color: transparent;\n",
       "      border-right-color: var(--fill-color);\n",
       "      border-top-color: var(--fill-color);\n",
       "    }\n",
       "    60% {\n",
       "      border-color: transparent;\n",
       "      border-right-color: var(--fill-color);\n",
       "    }\n",
       "    80% {\n",
       "      border-color: transparent;\n",
       "      border-right-color: var(--fill-color);\n",
       "      border-bottom-color: var(--fill-color);\n",
       "    }\n",
       "    90% {\n",
       "      border-color: transparent;\n",
       "      border-bottom-color: var(--fill-color);\n",
       "    }\n",
       "  }\n",
       "</style>\n",
       "\n",
       "  <script>\n",
       "    async function quickchart(key) {\n",
       "      const quickchartButtonEl =\n",
       "        document.querySelector('#' + key + ' button');\n",
       "      quickchartButtonEl.disabled = true;  // To prevent multiple clicks.\n",
       "      quickchartButtonEl.classList.add('colab-df-spinner');\n",
       "      try {\n",
       "        const charts = await google.colab.kernel.invokeFunction(\n",
       "            'suggestCharts', [key], {});\n",
       "      } catch (error) {\n",
       "        console.error('Error during call to suggestCharts:', error);\n",
       "      }\n",
       "      quickchartButtonEl.classList.remove('colab-df-spinner');\n",
       "      quickchartButtonEl.classList.add('colab-df-quickchart-complete');\n",
       "    }\n",
       "    (() => {\n",
       "      let quickchartButtonEl =\n",
       "        document.querySelector('#df-78a06a39-6822-40ae-a9b4-c1bca4cb5189 button');\n",
       "      quickchartButtonEl.style.display =\n",
       "        google.colab.kernel.accessAllowed ? 'block' : 'none';\n",
       "    })();\n",
       "  </script>\n",
       "</div>\n",
       "\n",
       "  <div id=\"id_fad1bab2-f671-4d82-8552-a17035eed6ec\">\n",
       "    <style>\n",
       "      .colab-df-generate {\n",
       "        background-color: #E8F0FE;\n",
       "        border: none;\n",
       "        border-radius: 50%;\n",
       "        cursor: pointer;\n",
       "        display: none;\n",
       "        fill: #1967D2;\n",
       "        height: 32px;\n",
       "        padding: 0 0 0 0;\n",
       "        width: 32px;\n",
       "      }\n",
       "\n",
       "      .colab-df-generate:hover {\n",
       "        background-color: #E2EBFA;\n",
       "        box-shadow: 0px 1px 2px rgba(60, 64, 67, 0.3), 0px 1px 3px 1px rgba(60, 64, 67, 0.15);\n",
       "        fill: #174EA6;\n",
       "      }\n",
       "\n",
       "      [theme=dark] .colab-df-generate {\n",
       "        background-color: #3B4455;\n",
       "        fill: #D2E3FC;\n",
       "      }\n",
       "\n",
       "      [theme=dark] .colab-df-generate:hover {\n",
       "        background-color: #434B5C;\n",
       "        box-shadow: 0px 1px 3px 1px rgba(0, 0, 0, 0.15);\n",
       "        filter: drop-shadow(0px 1px 2px rgba(0, 0, 0, 0.3));\n",
       "        fill: #FFFFFF;\n",
       "      }\n",
       "    </style>\n",
       "    <button class=\"colab-df-generate\" onclick=\"generateWithVariable('sorted_df')\"\n",
       "            title=\"Generate code using this dataframe.\"\n",
       "            style=\"display:none;\">\n",
       "\n",
       "  <svg xmlns=\"http://www.w3.org/2000/svg\" height=\"24px\"viewBox=\"0 0 24 24\"\n",
       "       width=\"24px\">\n",
       "    <path d=\"M7,19H8.4L18.45,9,17,7.55,7,17.6ZM5,21V16.75L18.45,3.32a2,2,0,0,1,2.83,0l1.4,1.43a1.91,1.91,0,0,1,.58,1.4,1.91,1.91,0,0,1-.58,1.4L9.25,21ZM18.45,9,17,7.55Zm-12,3A5.31,5.31,0,0,0,4.9,8.1,5.31,5.31,0,0,0,1,6.5,5.31,5.31,0,0,0,4.9,4.9,5.31,5.31,0,0,0,6.5,1,5.31,5.31,0,0,0,8.1,4.9,5.31,5.31,0,0,0,12,6.5,5.46,5.46,0,0,0,6.5,12Z\"/>\n",
       "  </svg>\n",
       "    </button>\n",
       "    <script>\n",
       "      (() => {\n",
       "      const buttonEl =\n",
       "        document.querySelector('#id_fad1bab2-f671-4d82-8552-a17035eed6ec button.colab-df-generate');\n",
       "      buttonEl.style.display =\n",
       "        google.colab.kernel.accessAllowed ? 'block' : 'none';\n",
       "\n",
       "      buttonEl.onclick = () => {\n",
       "        google.colab.notebook.generateWithVariable('sorted_df');\n",
       "      }\n",
       "      })();\n",
       "    </script>\n",
       "  </div>\n",
       "\n",
       "    </div>\n",
       "  </div>\n"
      ],
      "text/plain": [
       "      court_index_number  docket_number                eviction_address  \\\n",
       "26688           34859/16          53416             3476 SEYMOUR AVENUE   \n",
       "66493          B57808/16          74242              1426 BRYANT AVENUE   \n",
       "47644         N069212/14         355977                 1309 5TH AVENUE   \n",
       "15788         K065455/16         367441              458 EAST 51 STREET   \n",
       "16805           33992/16         458984          580 EAST 168TH STREE T   \n",
       "...                  ...            ...                             ...   \n",
       "75414          308123/24          23218       45 BRADHURST AVENUE APT 1   \n",
       "78140          314456/24          22735    370 WEST 52ND STREET APT 3-B   \n",
       "51668          308611/20          21515     1629 ST JOHNS PLACE APT. 4F   \n",
       "71721          306966/24          22953  119 BAXTER STREET APARTMENT 8R   \n",
       "79105             423/24          21979     735 WEST 172 STREET APT. 1A   \n",
       "\n",
       "      eviction_apartment_number executed_date    borough  eviction_postcode  \\\n",
       "26688                       3-B    2017-01-03      BRONX              10469   \n",
       "66493        10 AKA 2ND FL UNIT    2017-01-03      BRONX              10459   \n",
       "47644                       24H    2017-01-03  MANHATTAN              10029   \n",
       "15788                        6A    2017-01-03   BROOKLYN              11203   \n",
       "16805                         *    2017-01-03      BRONX              10456   \n",
       "...                         ...           ...        ...                ...   \n",
       "75414                         1    2024-12-26  MANHATTAN              10030   \n",
       "78140                       3-B    2024-12-26  MANHATTAN              10019   \n",
       "51668                        4F    2024-12-27   BROOKLYN              11233   \n",
       "71721                        8R    2024-12-27  MANHATTAN              10013   \n",
       "79105                        1A    2024-12-30  MANHATTAN              10032   \n",
       "\n",
       "              ejectment eviction/legal_possession   latitude  longitude  \\\n",
       "26688  Not an Ejectment                Possession  40.877620 -73.849806   \n",
       "66493  Not an Ejectment                Possession  40.830691 -73.888555   \n",
       "47644  Not an Ejectment                Possession  40.797309 -73.948901   \n",
       "15788  Not an Ejectment                Possession  40.650624 -73.929261   \n",
       "16805  Not an Ejectment                Possession  40.830494 -73.904108   \n",
       "...                 ...                       ...        ...        ...   \n",
       "75414  Not an Ejectment                Possession  40.822848 -73.943318   \n",
       "78140  Not an Ejectment                Possession  40.764435 -73.987336   \n",
       "51668  Not an Ejectment                Possession  40.670179 -73.923408   \n",
       "71721  Not an Ejectment                Possession  40.718065 -73.998975   \n",
       "79105  Not an Ejectment                Possession  40.844948 -73.941398   \n",
       "\n",
       "       community_board  council_district  census_tract        bin  \\\n",
       "26688             12.0              12.0         386.0  2117041.0   \n",
       "66493              3.0              17.0         123.0  2099901.0   \n",
       "47644             11.0               9.0       17402.0  1078884.0   \n",
       "15788             17.0              45.0         862.0  3102875.0   \n",
       "16805              3.0              16.0         185.0  2004234.0   \n",
       "...                ...               ...           ...        ...   \n",
       "75414              9.0               9.0         227.0  1061113.0   \n",
       "78140              4.0               3.0         133.0  1078889.0   \n",
       "51668              8.0              41.0         359.0  3036936.0   \n",
       "71721              2.0               1.0          41.0  1079542.0   \n",
       "79105             12.0              10.0         255.0  1063439.0   \n",
       "\n",
       "                bbl                                     nta  \n",
       "26688  2.047200e+09         Eastchester-Edenwald-Baychester  \n",
       "66493  2.029990e+09                       Crotona Park East  \n",
       "47644  1.016160e+09                       East Harlem South  \n",
       "15788  3.046980e+09                    Rugby-Remsen Village  \n",
       "16805  2.026110e+09                      Morrisania-Melrose  \n",
       "...             ...                                     ...  \n",
       "75414  1.020510e+09                        Hamilton Heights  \n",
       "78140  1.010420e+09                                 Clinton  \n",
       "51668  3.013810e+09                     Crown Heights North  \n",
       "71721  1.002060e+09  SoHo-TriBeCa-Civic Center-Little Italy  \n",
       "79105  1.021390e+09                Washington Heights South  \n",
       "\n",
       "[80420 rows x 17 columns]"
      ]
     },
     "execution_count": 519,
     "metadata": {},
     "output_type": "execute_result"
    }
   ],
   "source": [
    "sorted_df"
   ]
  },
  {
   "cell_type": "code",
   "execution_count": 520,
   "metadata": {
    "colab": {
     "base_uri": "https://localhost:8080/"
    },
    "id": "cWlUAyQYh8nY",
    "outputId": "9e0c3db8-ac76-4ad0-811f-e723ef4583b4"
   },
   "outputs": [
    {
     "name": "stdout",
     "output_type": "stream",
     "text": [
      "<class 'pandas.core.frame.DataFrame'>\n",
      "Index: 80420 entries, 7797 to 21704\n",
      "Data columns (total 17 columns):\n",
      " #   Column                     Non-Null Count  Dtype         \n",
      "---  ------                     --------------  -----         \n",
      " 0   court_index_number         80420 non-null  object        \n",
      " 1   docket_number              80420 non-null  int64         \n",
      " 2   eviction_address           80420 non-null  object        \n",
      " 3   eviction_apartment_number  80420 non-null  object        \n",
      " 4   executed_date              80420 non-null  datetime64[ns]\n",
      " 5   borough                    80420 non-null  object        \n",
      " 6   eviction_postcode          80420 non-null  int64         \n",
      " 7   ejectment                  80420 non-null  object        \n",
      " 8   eviction/legal_possession  80420 non-null  object        \n",
      " 9   latitude                   80420 non-null  float64       \n",
      " 10  longitude                  80420 non-null  float64       \n",
      " 11  community_board            80420 non-null  float64       \n",
      " 12  council_district           80420 non-null  float64       \n",
      " 13  census_tract               80420 non-null  float64       \n",
      " 14  bin                        80420 non-null  float64       \n",
      " 15  bbl                        80420 non-null  float64       \n",
      " 16  nta                        80420 non-null  object        \n",
      "dtypes: datetime64[ns](1), float64(7), int64(2), object(7)\n",
      "memory usage: 11.0+ MB\n"
     ]
    },
    {
     "data": {
      "text/plain": [
       "((80420, 17), None)"
      ]
     },
     "execution_count": 520,
     "metadata": {},
     "output_type": "execute_result"
    }
   ],
   "source": [
    "# final eviction df sanity check\n",
    "evictions_df.shape, \\\n",
    "evictions_df.info()"
   ]
  },
  {
   "cell_type": "code",
   "execution_count": 521,
   "metadata": {
    "id": "g7T1UCXmii7Y"
   },
   "outputs": [],
   "source": [
    "# evictions_df.head()"
   ]
  },
  {
   "cell_type": "markdown",
   "metadata": {
    "id": "exIvipCB15-2"
   },
   "source": [
    "#### For the write-up: do a check on each year's eviction numbers and visuals\n",
    "\n",
    "1. numbers\n",
    "2. bar chart showing the annual trend\n",
    "3."
   ]
  },
  {
   "cell_type": "code",
   "execution_count": 524,
   "metadata": {
    "colab": {
     "base_uri": "https://localhost:8080/"
    },
    "id": "XCTvo7z51t45",
    "outputId": "931c9651-8bdc-416b-fba6-9a443bf16f3e"
   },
   "outputs": [
    {
     "name": "stdout",
     "output_type": "stream",
     "text": [
      "2017 17860\n",
      "2018 17186\n",
      "2019 14903\n",
      "2020 2704\n",
      "2021 122\n",
      "2022 3512\n",
      "2023 10476\n",
      "2024 13657\n"
     ]
    }
   ],
   "source": [
    "evictions_df['year'] = evictions_df['executed_date'].dt.year\n",
    "df_2017 = evictions_df[evictions_df['year'] == 2017]\n",
    "print(\"2017\", len(df_2017))\n",
    "df_2018 = evictions_df[evictions_df['year'] == 2018]\n",
    "print(\"2018\", len(df_2018))\n",
    "df_2019 = evictions_df[evictions_df['year'] == 2019]\n",
    "print(\"2019\", len(df_2019))\n",
    "df_2020 = evictions_df[evictions_df['year'] == 2020]\n",
    "print(\"2020\", len(df_2020))\n",
    "df_2021 = evictions_df[evictions_df['year'] == 2021]\n",
    "print(\"2021\", len(df_2021))\n",
    "df_2022 = evictions_df[evictions_df['year'] == 2022]\n",
    "print(\"2022\", len(df_2022))\n",
    "df_2023 = evictions_df[evictions_df['year'] == 2023]\n",
    "print(\"2023\", len(df_2023))\n",
    "df_2024 = evictions_df[evictions_df['year'] == 2024]\n",
    "print(\"2024\", len(df_2024))"
   ]
  },
  {
   "cell_type": "code",
   "execution_count": 525,
   "metadata": {
    "id": "n3_k3RNtDvVc"
   },
   "outputs": [],
   "source": [
    "# plt.style.use('seaborn')\n",
    "pastel_colors = sns.color_palette(\"pastel\")"
   ]
  },
  {
   "cell_type": "code",
   "execution_count": 526,
   "metadata": {
    "colab": {
     "base_uri": "https://localhost:8080/",
     "height": 606
    },
    "id": "YJGYQDHz2Gp4",
    "outputId": "5506fc6f-1a65-41d3-9453-fee0d7476b33"
   },
   "outputs": [
    {
     "data": {
      "image/png": "[encoded data removed]",
      "text/plain": [
       "<Figure size 1200x600 with 1 Axes>"
      ]
     },
     "metadata": {},
     "output_type": "display_data"
    }
   ],
   "source": [
    "# count evictions by year\n",
    "yearly_counts = evictions_df.groupby(evictions_df['executed_date'].dt.year).size()\n",
    "fig, ax = plt.subplots(figsize=(12, 6))\n",
    "bars = ax.bar(yearly_counts.index, yearly_counts.values, color='blue', alpha=0.7)\n",
    "ax.plot(yearly_counts.index, yearly_counts.values, color='red', marker='o', linewidth=2, markersize=8,)\n",
    "\n",
    "# plot\n",
    "plt.title('Number of evictions by year from 2017 2024', fontsize=14, pad=20)\n",
    "plt.xlabel('year', fontsize=12)\n",
    "plt.ylabel('number of evictions', fontsize=12)\n",
    "plt.grid(axis='y', linestyle='--', alpha=0.2)\n",
    "plt.xticks(yearly_counts.index, rotation=45)\n",
    "\n",
    "# value labels\n",
    "for i, v in enumerate(yearly_counts):\n",
    "    ax.text(yearly_counts.index[i], v, str(v),\n",
    "            ha='center', va='bottom',\n",
    "            fontweight='bold')\n",
    "\n",
    "plt.tight_layout()\n",
    "plt.show()"
   ]
  },
  {
   "cell_type": "code",
   "execution_count": 527,
   "metadata": {
    "colab": {
     "base_uri": "https://localhost:8080/"
    },
    "id": "twZ8xQsj4rH5",
    "outputId": "bf417280-ffca-447f-ac31-919066eb4b7e"
   },
   "outputs": [
    {
     "name": "stdout",
     "output_type": "stream",
     "text": [
      "Evictions per year:\n",
      "executed_date\n",
      "2017    17860\n",
      "2018    17186\n",
      "2019    14903\n",
      "2020     2704\n",
      "2021      122\n",
      "2022     3512\n",
      "2023    10476\n",
      "2024    13657\n",
      "dtype: int64\n"
     ]
    }
   ],
   "source": [
    "print(\"Evictions per year:\")\n",
    "print(yearly_counts)"
   ]
  },
  {
   "cell_type": "code",
   "execution_count": 528,
   "metadata": {
    "colab": {
     "base_uri": "https://localhost:8080/",
     "height": 1000
    },
    "id": "d2GlsK0W-TSE",
    "outputId": "e7581b50-40c5-40d6-f393-56d3fd035730"
   },
   "outputs": [
    {
     "data": {
      "image/png": "[encoded data removed]",
      "text/plain": [
       "<Figure size 1000x800 with 1 Axes>"
      ]
     },
     "metadata": {},
     "output_type": "display_data"
    },
    {
     "data": {
      "text/plain": [
       "<Figure size 1200x1600 with 0 Axes>"
      ]
     },
     "metadata": {},
     "output_type": "display_data"
    },
    {
     "data": {
      "image/png": "[encoded data removed]",
      "text/plain": [
       "<Figure size 640x480 with 1 Axes>"
      ]
     },
     "metadata": {},
     "output_type": "display_data"
    }
   ],
   "source": [
    "# borough-wise distribution\n",
    "# Pie Chart\n",
    "plt.figure(figsize=(10, 8))\n",
    "evictions_df['borough'].value_counts().plot(kind='pie', autopct='%1.1f%%', colors=sns.color_palette(\"pastel\"))\n",
    "plt.title('Distribution of evictions by borough')\n",
    "plt.ylabel('')\n",
    "plt.show()\n",
    "\n",
    "# borough trends over time\n",
    "# stacked area chart\n",
    "plt.figure(figsize=(12, 16))\n",
    "borough_time = evictions_df.groupby([evictions_df['executed_date'].dt.year, 'borough']).size().unstack()\n",
    "borough_time.plot(kind='area',\n",
    "                 stacked=True,\n",
    "                 color=pastel_colors)\n",
    "plt.title('Eviction trends by borough')\n",
    "plt.show()"
   ]
  },
  {
   "cell_type": "code",
   "execution_count": 553,
   "metadata": {
    "colab": {
     "base_uri": "https://localhost:8080/"
    },
    "id": "rsAMjhs7O6GY",
    "outputId": "88ef2e55-a35d-409a-b16b-767ff21a4f7f"
   },
   "outputs": [
    {
     "name": "stdout",
     "output_type": "stream",
     "text": [
      "Borough-wise distribution summary:\n",
      "--------------------------------------------------\n",
      "Total number of evictions: 80420\n",
      "Breakdown by borough:\n",
      "Bronx:::::::::: | Count:  28155 | Percentage:   35.0%\n",
      "Brooklyn::::::: | Count:  23050 | Percentage:   28.7%\n",
      "Queens::::::::: | Count:  14202 | Percentage:   17.7%\n",
      "Manhattan:::::: | Count:  12301 | Percentage:   15.3%\n",
      "Staten Island:: | Count:   2712 | Percentage:    3.4%\n",
      "Borough trends by year:\n",
      "--------------------------------------------------\n",
      "Yearly counts by borough:\n",
      "borough        BRONX  BROOKLYN  MANHATTAN  QUEENS  STATEN ISLAND\n",
      "executed_date                                                   \n",
      "2017            6776      4973       2556    3092            463\n",
      "2018            6312      4867       2389    3151            467\n",
      "2019            5432      4268       2081    2662            460\n",
      "2020             935       824        369     502             74\n",
      "2021              12        49         21      18             22\n",
      "2022             908      1317        538     527            222\n",
      "2023            3649      3054       1898    1422            453\n",
      "2024            4131      3698       2449    2828            551\n",
      "Summary statistics by borough:\n",
      "--------------------------------------------------\n",
      "Bronx:\n",
      "Total evictions: 28,155\n",
      "Average yearly evictions: 3,519.4\n",
      "Peak year: 2017 with 6,776 evictions\n",
      "Brooklyn:\n",
      "Total evictions: 23,050\n",
      "Average yearly evictions: 2,881.2\n",
      "Peak year: 2017 with 4,973 evictions\n",
      "Manhattan:\n",
      "Total evictions: 12,301\n",
      "Average yearly evictions: 1,537.6\n",
      "Peak year: 2017 with 2,556 evictions\n",
      "Queens:\n",
      "Total evictions: 14,202\n",
      "Average yearly evictions: 1,775.2\n",
      "Peak year: 2018 with 3,151 evictions\n",
      "Staten Island:\n",
      "Total evictions: 2,712\n",
      "Average yearly evictions: 339.0\n",
      "Peak year: 2024 with 551 evictions\n",
      "Year-over-year changes:\n",
      "--------------------------------------------------\n",
      "borough         BRONX  BROOKLYN  MANHATTAN  QUEENS  STATEN ISLAND\n",
      "executed_date                                                    \n",
      "2017              NaN       NaN        NaN     NaN            NaN\n",
      "2018             -6.8      -2.1       -6.5     1.9            0.9\n",
      "2019            -13.9     -12.3      -12.9   -15.5           -1.5\n",
      "2020            -82.8     -80.7      -82.3   -81.1          -83.9\n",
      "2021            -98.7     -94.1      -94.3   -96.4          -70.3\n",
      "2022           7466.7    2587.8     2461.9  2827.8          909.1\n",
      "2023            301.9     131.9      252.8   169.8          104.1\n",
      "2024             13.2      21.1       29.0    98.9           21.6\n"
     ]
    }
   ],
   "source": [
    "# summary\n",
    "borough_counts = evictions_df['borough'].value_counts()\n",
    "total_evictions = len(evictions_df)\n",
    "\n",
    "print(\"Borough-wise distribution summary:\")\n",
    "print(\"-\" * 50)\n",
    "print(\"Total number of evictions:\", total_evictions)\n",
    "print(\"Breakdown by borough:\")\n",
    "for borough, count in borough_counts.items():\n",
    "   percentage = (count / total_evictions) * 100\n",
    "   print(f\"{borough.title()::<15} | Count: {count:>6} | Percentage: {percentage:>6.1f}%\")\n",
    "\n",
    "# borough trends\n",
    "print(\"Borough trends by year:\")\n",
    "print(\"-\" * 50)\n",
    "print(\"Yearly counts by borough:\")\n",
    "print(borough_time.to_string())\n",
    "\n",
    "# additional statistics\n",
    "print(\"Summary statistics by borough:\")\n",
    "print(\"-\" * 50)\n",
    "for borough in borough_time.columns:\n",
    "   total = borough_time[borough].sum()\n",
    "   avg = borough_time[borough].mean()\n",
    "   max_year = borough_time[borough].idxmax()\n",
    "   max_count = borough_time[borough].max()\n",
    "\n",
    "   print(f\"{borough.title()}:\")\n",
    "   print(f\"Total evictions: {total:,.0f}\")\n",
    "   print(f\"Average yearly evictions: {avg:,.1f}\")\n",
    "   print(f\"Peak year: {max_year} with {max_count:,.0f} evictions\")\n",
    "\n",
    "# year over year changes\n",
    "print(\"Year-over-year changes:\")\n",
    "print(\"-\" * 50)\n",
    "yearly_changes = borough_time.pct_change() * 100\n",
    "print(yearly_changes.round(1).to_string())"
   ]
  },
  {
   "cell_type": "markdown",
   "metadata": {
    "id": "JiOVCa4HETyy"
   },
   "source": [
    "#### monthly changes bar/line chart"
   ]
  },
  {
   "cell_type": "code",
   "execution_count": 529,
   "metadata": {
    "id": "qeBSm7XzETAm"
   },
   "outputs": [],
   "source": [
    "evictions_df['month_year'] = evictions_df['executed_date'].dt.to_period('M')\n",
    "monthly_trend = evictions_df.groupby('month_year').size().reset_index()\n",
    "monthly_trend.columns = ['month_year', 'count']"
   ]
  },
  {
   "cell_type": "code",
   "execution_count": 550,
   "metadata": {
    "colab": {
     "base_uri": "https://localhost:8080/",
     "height": 607
    },
    "id": "6rEqGjcNEOeb",
    "outputId": "19ab631c-125a-4e82-a87d-ccf326549daa"
   },
   "outputs": [
    {
     "data": {
      "image/png": "[encoded data removed]",
      "text/plain": [
       "<Figure size 1500x600 with 1 Axes>"
      ]
     },
     "metadata": {},
     "output_type": "display_data"
    }
   ],
   "source": [
    "fig, ax = plt.subplots(figsize=(15, 6))\n",
    "ax.bar(monthly_trend['month_year'].astype(str),\n",
    "       monthly_trend['count'],\n",
    "       color=sns.color_palette(\"pastel\")[0],\n",
    "       alpha=0.7)\n",
    "\n",
    "ax.plot(monthly_trend['month_year'].astype(str),\n",
    "        monthly_trend['count'],\n",
    "        color=sns.color_palette(\"pastel\")[1],\n",
    "        marker='o',\n",
    "        linewidth=2,\n",
    "        markersize=6)\n",
    "\n",
    "plt.title('Monthly evictions over time')\n",
    "plt.xlabel('Month-Year')\n",
    "plt.ylabel('Number of Evictions')\n",
    "plt.xticks(rotation=45)\n",
    "plt.grid(True, axis='y', alpha=0.3)\n",
    "plt.tight_layout()\n",
    "plt.show()"
   ]
  },
  {
   "cell_type": "code",
   "execution_count": 554,
   "metadata": {
    "colab": {
     "base_uri": "https://localhost:8080/"
    },
    "id": "9m74_t85ODUw",
    "outputId": "c67b0898-9ebe-4700-9036-0d3a01660f35"
   },
   "outputs": [
    {
     "name": "stdout",
     "output_type": "stream",
     "text": [
      "Monthly Eviction Counts:\n",
      "Month-Year | Number of Evictions\n",
      "-----------------------------------\n",
      "2017-01 |       1752       \n",
      "2017-02 |       1330       \n",
      "2017-03 |       1609       \n",
      "2017-04 |       1472       \n",
      "2017-05 |       1636       \n",
      "2017-06 |       1559       \n",
      "2017-07 |       1328       \n",
      "2017-08 |       1649       \n",
      "2017-09 |       1428       \n",
      "2017-10 |       1569       \n",
      "2017-11 |       1450       \n",
      "2017-12 |       1078       \n",
      "2018-01 |       1789       \n",
      "2018-02 |       1436       \n",
      "2018-03 |       1496       \n",
      "2018-04 |       1566       \n",
      "2018-05 |       1691       \n",
      "2018-06 |       1467       \n",
      "2018-07 |       1462       \n",
      "2018-08 |       1530       \n",
      "2018-09 |       1237       \n",
      "2018-10 |       1381       \n",
      "2018-11 |       1192       \n",
      "2018-12 |        939       \n",
      "2019-01 |       1639       \n",
      "2019-02 |       1339       \n",
      "2019-03 |       1330       \n",
      "2019-04 |       1394       \n",
      "2019-05 |       1408       \n",
      "2019-06 |       1295       \n",
      "2019-07 |       1312       \n",
      "2019-08 |       1242       \n",
      "2019-09 |       1153       \n",
      "2019-10 |       1110       \n",
      "2019-11 |        928       \n",
      "2019-12 |        753       \n",
      "2020-01 |       1277       \n",
      "2020-02 |        928       \n",
      "2020-03 |        490       \n",
      "2020-11 |         3        \n",
      "2020-12 |         6        \n",
      "2021-04 |         3        \n",
      "2021-05 |         5        \n",
      "2021-06 |         5        \n",
      "2021-07 |        28        \n",
      "2021-08 |        26        \n",
      "2021-09 |         8        \n",
      "2021-10 |        10        \n",
      "2021-11 |        18        \n",
      "2021-12 |        19        \n",
      "2022-01 |        87        \n",
      "2022-02 |        128       \n",
      "2022-03 |        174       \n",
      "2022-04 |        199       \n",
      "2022-05 |        275       \n",
      "2022-06 |        279       \n",
      "2022-07 |        277       \n",
      "2022-08 |        350       \n",
      "2022-09 |        379       \n",
      "2022-10 |        479       \n",
      "2022-11 |        556       \n",
      "2022-12 |        329       \n",
      "2023-01 |        725       \n",
      "2023-02 |        552       \n",
      "2023-03 |        715       \n",
      "2023-04 |        607       \n",
      "2023-05 |        851       \n",
      "2023-06 |       1068       \n",
      "2023-07 |        958       \n",
      "2023-08 |       1146       \n",
      "2023-09 |        988       \n",
      "2023-10 |       1141       \n",
      "2023-11 |        993       \n",
      "2023-12 |        732       \n",
      "2024-01 |       1261       \n",
      "2024-02 |       1032       \n",
      "2024-03 |        957       \n",
      "2024-04 |       1022       \n",
      "2024-05 |       1132       \n",
      "2024-06 |        997       \n",
      "2024-07 |       1251       \n",
      "2024-08 |       1267       \n",
      "2024-09 |       1234       \n",
      "2024-10 |       1435       \n",
      "2024-11 |       1068       \n",
      "2024-12 |       1001       \n",
      "Summary Statistics by month - year:\n",
      "Total number of evictions: 80,420\n",
      "Average monthly evictions: 935.1\n",
      "Maximum monthly evictions: 1789 (in 2018-01)\n",
      "Minimum monthly evictions: 3 (in 2020-11)\n",
      "Largest monthly changes:\n",
      "Month-Year | Change | % Change\n",
      "----------------------------------------\n",
      "2018-01 |  711   |  66.0 %\n",
      "2019-01 |  700   |  74.5 %\n",
      "2024-01 |  529   |  72.3 %\n",
      "2020-01 |  524   |  69.6 %\n",
      "2023-01 |  396   | 120.4 %\n",
      "2017-08 |  321   |  24.2 %\n",
      "2017-03 |  279   |  21.0 %\n",
      "2024-07 |  254   |  25.5 %\n",
      "2023-05 |  244   |  40.2 %\n",
      "2023-06 |  217   |  25.5 %\n",
      "Largest monthly decreases:\n",
      "Month-Year | Change | % Change\n",
      "----------------------------------------\n",
      "2020-11 |  -487  | -99.4 %\n",
      "2020-03 |  -438  | -47.2 %\n",
      "2017-02 |  -422  | -24.1 %\n",
      "2017-12 |  -372  | -25.7 %\n",
      "2024-11 |  -367  | -25.6 %\n",
      "2018-02 |  -353  | -19.7 %\n",
      "2020-02 |  -349  | -27.3 %\n",
      "2019-02 |  -300  | -18.3 %\n",
      "2018-09 |  -293  | -19.2 %\n",
      "2023-12 |  -261  | -26.3 %\n"
     ]
    }
   ],
   "source": [
    "monthly_trend = monthly_trend.sort_values('month_year')\n",
    "\n",
    "print(\"Monthly Eviction Counts:\")\n",
    "print(\"Month-Year | Number of Evictions\")\n",
    "print(\"-\" * 35)\n",
    "for _, row in monthly_trend.iterrows():\n",
    "    print(f\"{row['month_year']} | {row['count']:^17}\")\n",
    "\n",
    "# summary statistics\n",
    "print(\"Summary Statistics by month - year:\")\n",
    "print(f\"Total number of evictions: {monthly_trend['count'].sum():,}\")\n",
    "print(f\"Average monthly evictions: {monthly_trend['count'].mean():.1f}\")\n",
    "print(f\"Maximum monthly evictions: {monthly_trend['count'].max()} (in {monthly_trend.loc[monthly_trend['count'].idxmax(), 'month_year']})\")\n",
    "print(f\"Minimum monthly evictions: {monthly_trend['count'].min()} (in {monthly_trend.loc[monthly_trend['count'].idxmin(), 'month_year']})\")\n",
    "\n",
    "# month-over-month changes\n",
    "monthly_trend['change'] = monthly_trend['count'].diff()\n",
    "monthly_trend['pct_change'] = monthly_trend['count'].pct_change() * 100\n",
    "\n",
    "print(\"Largest monthly changes:\")\n",
    "print(\"Month-Year | Change | % Change\")\n",
    "print(\"-\" * 40)\n",
    "for _, row in monthly_trend.nlargest(10, 'change').iterrows():\n",
    "    print(f\"{row['month_year']} | {row['change']:^6.0f} | {row['pct_change']:^6.1f}%\")\n",
    "\n",
    "print(\"Largest monthly decreases:\")\n",
    "print(\"Month-Year | Change | % Change\")\n",
    "print(\"-\" * 40)\n",
    "for _, row in monthly_trend.nsmallest(10, 'change').iterrows():\n",
    "    print(f\"{row['month_year']} | {row['change']:^6.0f} | {row['pct_change']:^6.1f}%\")"
   ]
  },
  {
   "cell_type": "markdown",
   "metadata": {
    "id": "V4hCrKGjOXrR"
   },
   "source": [
    "#### top 20 zipcodes bar chart"
   ]
  },
  {
   "cell_type": "code",
   "execution_count": 546,
   "metadata": {
    "colab": {
     "base_uri": "https://localhost:8080/",
     "height": 607
    },
    "id": "UrT2xFbHEu6X",
    "outputId": "2941e067-0cb2-40b7-da78-c77ac59b8440"
   },
   "outputs": [
    {
     "data": {
      "image/png": "[encoded data removed]",
      "text/plain": [
       "<Figure size 1200x600 with 1 Axes>"
      ]
     },
     "metadata": {},
     "output_type": "display_data"
    }
   ],
   "source": [
    "# top postal codes\n",
    "plt.figure(figsize=(12, 6))\n",
    "evictions_df['eviction_postcode'].value_counts().head(20).plot(kind='bar',\n",
    "                                                              color=pastel_colors)\n",
    "plt.title('Top 20 zip codes by number of evictions')\n",
    "plt.xticks(rotation=45)\n",
    "plt.tight_layout()\n",
    "plt.show()"
   ]
  },
  {
   "cell_type": "code",
   "execution_count": 549,
   "metadata": {
    "colab": {
     "base_uri": "https://localhost:8080/"
    },
    "id": "Jz_kjCFmNS5f",
    "outputId": "a56cf887-5543-490a-f426-68b34c3f8da3"
   },
   "outputs": [
    {
     "name": "stdout",
     "output_type": "stream",
     "text": [
      "\n",
      "Top 20 zip codes by number of evictions:\n",
      "\n",
      "Zip Code | Number of Evictions | % of Total\n",
      "---------------------------------------------\n",
      " 10467   |       2422        |   3.01  %\n",
      " 10458   |       2363        |   2.94  %\n",
      " 10456   |       2150        |   2.67  %\n",
      " 10453   |       2133        |   2.65  %\n",
      " 10457   |       1941        |   2.41  %\n",
      " 10468   |       1843        |   2.29  %\n",
      " 11226   |       1804        |   2.24  %\n",
      " 10460   |       1759        |   2.19  %\n",
      " 11212   |       1729        |   2.15  %\n",
      " 10452   |       1702        |   2.12  %\n",
      " 11207   |       1648        |   2.05  %\n",
      " 11208   |       1508        |   1.88  %\n",
      " 11233   |       1394        |   1.73  %\n",
      " 10462   |       1348        |   1.68  %\n",
      " 10466   |       1340        |   1.67  %\n",
      " 10459   |       1305        |   1.62  %\n",
      " 10472   |       1189        |   1.48  %\n",
      " 11203   |       1173        |   1.46  %\n",
      " 10451   |       1163        |   1.45  %\n",
      " 11213   |       1140        |   1.42  %\n"
     ]
    }
   ],
   "source": [
    "# with %\n",
    "zip_counts = evictions_df['eviction_postcode'].value_counts().head(20)\n",
    "total_evictions = len(evictions_df)\n",
    "print(\"Top 20 zip codes by number of evictions:\")\n",
    "print(\"Zip Code | Number of Evictions | % of Total\")\n",
    "print(\"-\" * 45)\n",
    "for zip_code, count in zip_counts.items():\n",
    "    percentage = (count / total_evictions) * 100\n",
    "    print(f\"{zip_code:^8} | {count:^17} | {percentage:^8.2f}%\")"
   ]
  },
  {
   "cell_type": "markdown",
   "metadata": {
    "id": "TaPC8ohNGWgH"
   },
   "source": [
    "#### community boards"
   ]
  },
  {
   "cell_type": "code",
   "execution_count": 534,
   "metadata": {
    "id": "LAG2Eb2LHVqL"
   },
   "outputs": [],
   "source": [
    "# community board mappings by borough\n",
    "# source: https://www.nyc.gov/site/cau/community-boards/about-commmunity-boards.page\n",
    "\n",
    "cb_names = {\n",
    "    # Manhattan (1-12)\n",
    "    1: \"Financial District/Tribeca\",\n",
    "    2: \"Greenwich Village/Little Italy/SoHo/NoHo\",\n",
    "    3: \"Lower East Side/Chinatown\",\n",
    "    4: \"Chelsea/Clinton/Hudson Yards\",\n",
    "    5: \"Midtown\",\n",
    "    6: \"Stuyvesant Town/Tudor City\",\n",
    "    7: \"Upper West Side/Manhattan Valley\",\n",
    "    8: \"Upper East Side\",\n",
    "    9: \"Hamilton Heights/Morningside Heights/Manhattanville\",\n",
    "    10: \"Central Harlem\",\n",
    "    11: \"East Harlem\",\n",
    "    12: \"Inwood/Washington Heights\",\n",
    "\n",
    "    # Bronx (201-212)\n",
    "    201: \"Mott Haven/Melrose/Port Morris\",\n",
    "    202: \"Hunts Point/Longwood\",\n",
    "    203: \"Morrisania/Crotona\",\n",
    "    204: \"Highbridge/Concourse\",\n",
    "    205: \"Morris Heights/Fordham South/Mount Hope\",\n",
    "    206: \"Belmont/East Tremont/Bathgate\",\n",
    "    207: \"Kingsbridge Heights/Bedford Park/Fordham/University Heights\",\n",
    "    208: \"Riverdale/Kingsbridge/Marble Hill\",\n",
    "    209: \"Parkchester/Unionport/Soundview\",\n",
    "    210: \"Throgs Neck/Co-op City/Pelham Bay\",\n",
    "    211: \"Morris Park/Bronxdale/Pelham Parkway\",\n",
    "    212: \"Williamsbridge/Baychester\",\n",
    "\n",
    "    # Brooklyn (301-318)\n",
    "    301: \"Brooklyn Heights/DUMBO/Downtown Brooklyn\",\n",
    "    302: \"Fort Greene/Brooklyn Navy Yard/Clinton Hill\",\n",
    "    303: \"Bedford-Stuyvesant\",\n",
    "    304: \"Bushwick\",\n",
    "    305: \"East New York/Cypress Hills\",\n",
    "    306: \"Red Hook/Park Slope\",\n",
    "    307: \"Sunset Park/Windsor Terrace\",\n",
    "    308: \"Crown Heights/Prospect Heights\",\n",
    "    309: \"South Crown Heights/Prospect Lefferts Gardens\",\n",
    "    310: \"Bay Ridge/Dyker Heights\",\n",
    "    311: \"Bensonhurst/Bath Beach\",\n",
    "    312: \"Borough Park/Ocean Parkway\",\n",
    "    313: \"Coney Island/Brighton Beach\",\n",
    "    314: \"Flatbush/Midwood\",\n",
    "    315: \"Sheepshead Bay/Manhattan Beach/Gerritsen Beach\",\n",
    "    316: \"Brownsville\",\n",
    "    317: \"East Flatbush\",\n",
    "    318: \"Flatlands/Canarsie\",\n",
    "\n",
    "    # Queens (401-414)\n",
    "    401: \"Astoria\",\n",
    "    402: \"Sunnyside/Woodside\",\n",
    "    403: \"Jackson Heights\",\n",
    "    404: \"Elmhurst/Corona\",\n",
    "    405: \"Ridgewood/Maspeth/Middle Village\",\n",
    "    406: \"Rego Park/Forest Hills\",\n",
    "    407: \"Flushing/Murray Hill/Whitestone\",\n",
    "    408: \"Fresh Meadows/Briarwood\",\n",
    "    409: \"Kew Gardens/Richmond Hill\",\n",
    "    410: \"South Ozone Park/Howard Beach\",\n",
    "    411: \"Bayside/Douglaston/Little Neck\",\n",
    "    412: \"Jamaica/St. Albans/Hollis\",\n",
    "    413: \"Queens Village/Rosedale\",\n",
    "    414: \"Rockaway/Broad Channel\",\n",
    "\n",
    "    # Staten Island (501-503)\n",
    "    501: \"St. George/Stapleton\",\n",
    "    502: \"South Beach/Willowbrook\",\n",
    "    503: \"Tottenville/Great Kills\"\n",
    "}"
   ]
  },
  {
   "cell_type": "code",
   "execution_count": 544,
   "metadata": {
    "id": "kPPHPztaH_t3"
   },
   "outputs": [],
   "source": [
    "# Council District mappings\n",
    "# source: https://council.nyc.gov/districts/\n",
    "\n",
    "cd_names = {\n",
    "    # Manhattan\n",
    "    1: \"Lower Manhattan/Chinatown/Lower East Side\",\n",
    "    2: \"East Village/Gramercy/Kips Bay\",\n",
    "    3: \"Greenwich Village/Chelsea/Hell's Kitchen\",\n",
    "    4: \"Upper East Side/East Midtown\",\n",
    "    5: \"Upper East Side/Roosevelt Island/Sutton Place\",\n",
    "    6: \"Upper West Side/Central Park\",\n",
    "    7: \"Upper West Side/Manhattan Valley/Morningside Heights\",\n",
    "    8: \"East Harlem/Mott Haven/Randall's Island\",\n",
    "    9: \"Central Harlem/Morningside Heights/Upper West Side\",\n",
    "    10: \"Central Harlem/East Harlem\",\n",
    "\n",
    "    # Brooklyn\n",
    "    33: \"Brooklyn Heights/Greenpoint/Williamsburg\",\n",
    "    34: \"Bushwick/Ridgewood\",\n",
    "    35: \"Fort Greene/Clinton Hill/Crown Heights\",\n",
    "    36: \"Bedford-Stuyvesant/Crown Heights\",\n",
    "    37: \"Bushwick/East New York/Cypress Hills\",\n",
    "    38: \"Red Hook/Sunset Park/Windsor Terrace\",\n",
    "    39: \"Cobble Hill/Park Slope/Prospect Heights\",\n",
    "    40: \"Crown Heights/East Flatbush/Prospect Lefferts Gardens\",\n",
    "    41: \"Bedford-Stuyvesant/Ocean Hill-Brownsville\",\n",
    "    42: \"East New York/New Lots/Spring Creek\",\n",
    "    43: \"Bay Ridge/Dyker Heights\",\n",
    "    44: \"Bensonhurst/Borough Park\",\n",
    "    45: \"Flatbush/Flatlands/Midwood\",\n",
    "    46: \"Bergen Beach/Canarsie/Mill Basin\",\n",
    "    47: \"Bensonhurst/Gravesend/Coney Island\",\n",
    "    48: \"Brighton Beach/Manhattan Beach/Sheepshead Bay\",\n",
    "\n",
    "    # Bronx\n",
    "    11: \"Bedford Park/Morris Park/Riverdale/Wakefield\",\n",
    "    12: \"Wakefield/Williamsbridge\",\n",
    "    13: \"Allerton/City Island/Throgs Neck\",\n",
    "    14: \"Morris Heights/University Heights/Fordham\",\n",
    "    15: \"Bedford Park/Fordham/Mount Hope/Bathgate\",\n",
    "    16: \"Claremont/Concourse/Morrisania\",\n",
    "    17: \"Hunts Point/Longwood/Melrose\",\n",
    "    18: \"Soundview/Parkchester\",\n",
    "\n",
    "    # Queens\n",
    "    19: \"College Point/Whitestone\",\n",
    "    20: \"Downtown Flushing/Murray Hill\",\n",
    "    21: \"Bayside/College Point/Fresh Meadows\",\n",
    "    22: \"Astoria/East Elmhurst/Jackson Heights\",\n",
    "    23: \"Fresh Meadows/Hollis/Queens Village\",\n",
    "    24: \"Fresh Meadows/Jamaica Estates\",\n",
    "    25: \"Elmhurst/Jackson Heights\",\n",
    "    26: \"Long Island City/Sunnyside/Woodside\",\n",
    "    27: \"Cambria Heights/Hollis/Jamaica\",\n",
    "    28: \"Jamaica/Richmond Hill/Rochdale Village\",\n",
    "    29: \"Forest Hills/Rego Park\",\n",
    "    30: \"Glendale/Maspeth/Middle Village\",\n",
    "    31: \"Arverne/Far Rockaway\",\n",
    "    32: \"Belle Harbor/Breezy Point/Howard Beach\",\n",
    "\n",
    "    # Staten Island\n",
    "    49: \"North Shore\",\n",
    "    50: \"Mid-Island\",\n",
    "    51: \"South Shore\"\n",
    "}"
   ]
  },
  {
   "cell_type": "code",
   "execution_count": 536,
   "metadata": {
    "colab": {
     "base_uri": "https://localhost:8080/",
     "height": 807
    },
    "id": "KiQFWy9FILG8",
    "outputId": "99f19a8f-5be2-4848-93ea-f5c5e537917c"
   },
   "outputs": [
    {
     "data": {
      "image/png": "[encoded data removed]",
      "text/plain": [
       "<Figure size 1500x800 with 1 Axes>"
      ]
     },
     "metadata": {},
     "output_type": "display_data"
    }
   ],
   "source": [
    "cb_counts = evictions_df['community_board'].value_counts()\n",
    "cb_df = pd.DataFrame({\n",
    "    'district_number': cb_counts.index,\n",
    "    'eviction_count': cb_counts.values\n",
    "})\n",
    "cb_df['district_name'] = cb_df['district_number'].map(cb_names)\n",
    "cb_df = cb_df.sort_values('eviction_count', ascending=False)\n",
    "\n",
    "plt.figure(figsize=(15, 8))\n",
    "plt.barh(\n",
    "    range(10),\n",
    "    cb_df['eviction_count'].head(10),\n",
    "    color=sns.color_palette(\"pastel\")[0]\n",
    ")\n",
    "\n",
    "# labels for Community Boards\n",
    "plt.yticks(\n",
    "    range(10),\n",
    "    [f\"{num} - {name}\" for num, name in\n",
    "     zip(cb_df['district_number'].head(10),\n",
    "         cb_df['district_name'].head(10))],\n",
    "    fontsize=10\n",
    ")\n",
    "\n",
    "plt.title('Top 10 community boards by evictions', pad=20)\n",
    "plt.xlabel('Number of evictions')\n",
    "plt.grid(axis='x', alpha=0.3)\n",
    "plt.tight_layout()\n",
    "plt.show()"
   ]
  },
  {
   "cell_type": "code",
   "execution_count": 537,
   "metadata": {
    "colab": {
     "base_uri": "https://localhost:8080/",
     "height": 807
    },
    "id": "U8QbcyhzIt9t",
    "outputId": "b3481339-02e0-43d9-ca5e-96f24790d678"
   },
   "outputs": [
    {
     "data": {
      "image/png": "[encoded data removed]",
      "text/plain": [
       "<Figure size 1500x800 with 1 Axes>"
      ]
     },
     "metadata": {},
     "output_type": "display_data"
    }
   ],
   "source": [
    "# Council District\n",
    "cd_counts = evictions_df['council_district'].value_counts()\n",
    "\n",
    "cd_df = pd.DataFrame({\n",
    "    'district_number': cd_counts.index,\n",
    "    'eviction_count': cd_counts.values\n",
    "})\n",
    "\n",
    "cd_df['district_name'] = cd_df['district_number'].map(cd_names)\n",
    "cd_df = cd_df.sort_values('eviction_count', ascending=False)\n",
    "\n",
    "plt.figure(figsize=(15, 8))\n",
    "plt.barh(\n",
    "    range(10),\n",
    "    cd_df['eviction_count'].head(10),\n",
    "    color=sns.color_palette(\"pastel\")[1]\n",
    ")\n",
    "\n",
    "# labels for council districts\n",
    "plt.yticks(\n",
    "    range(10),\n",
    "    [f\"{num} - {name}\" for num, name in\n",
    "     zip(cd_df['district_number'].head(10),\n",
    "         cd_df['district_name'].head(10))],\n",
    "    fontsize=10\n",
    ")\n",
    "\n",
    "plt.title('Top 10 council districts by evictions', pad=20)\n",
    "plt.xlabel('Number of evictions')\n",
    "plt.grid(axis='x', alpha=0.3)\n",
    "plt.tight_layout()\n",
    "plt.show()"
   ]
  },
  {
   "cell_type": "code",
   "execution_count": 538,
   "metadata": {
    "colab": {
     "base_uri": "https://localhost:8080/"
    },
    "id": "_tcCJxZXI0UM",
    "outputId": "115b99f0-7cef-40c5-e431-07eb50623393"
   },
   "outputs": [
    {
     "name": "stdout",
     "output_type": "stream",
     "text": [
      "Top 10 community boards by evictions:\n",
      "   district_number                                        district_name  eviction_count\n",
      "0             12.0                            Inwood/Washington Heights            8801\n",
      "1              5.0                                              Midtown            7813\n",
      "2              4.0                         Chelsea/Clinton/Hudson Yards            6918\n",
      "3              9.0  Hamilton Heights/Morningside Heights/Manhattanville            6312\n",
      "4              3.0                            Lower East Side/Chinatown            6187\n",
      "5              7.0                     Upper West Side/Manhattan Valley            5735\n",
      "6              1.0                           Financial District/Tribeca            5717\n",
      "7              8.0                                      Upper East Side            4412\n",
      "8             10.0                                       Central Harlem            4347\n",
      "9             11.0                                          East Harlem            4265\n",
      "Top 10 council districts by evictions:\n",
      "   district_number                                       district_name  eviction_count\n",
      "0             15.0            Bedford Park/Fordham/Mount Hope/Bathgate            4901\n",
      "1             17.0                        Hunts Point/Longwood/Melrose            4167\n",
      "2             14.0           Morris Heights/University Heights/Fordham            3879\n",
      "3             16.0                      Claremont/Concourse/Morrisania            3825\n",
      "4             42.0                 East New York/New Lots/Spring Creek            3001\n",
      "5              9.0  Central Harlem/Morningside Heights/Upper West Side            2909\n",
      "6              8.0             East Harlem/Mott Haven/Randall's Island            2875\n",
      "7             41.0           Bedford-Stuyvesant/Ocean Hill-Brownsville            2872\n",
      "8             18.0                               Soundview/Parkchester            2688\n",
      "9             12.0                            Wakefield/Williamsbridge            2665\n"
     ]
    }
   ],
   "source": [
    "print(\"Top 10 community boards by evictions:\")\n",
    "print(cb_df[['district_number', 'district_name', 'eviction_count']].head(10).to_string())\n",
    "\n",
    "print(\"Top 10 council districts by evictions:\")\n",
    "print(cd_df[['district_number', 'district_name', 'eviction_count']].head(10).to_string())"
   ]
  },
  {
   "cell_type": "markdown",
   "metadata": {
    "id": "sqVCTWU1G5dw"
   },
   "source": [
    "#### community boards are the governining entities of neighborhoods and the council districts serve similar purpose."
   ]
  },
  {
   "cell_type": "markdown",
   "metadata": {
    "id": "86JWXc5FKOwS"
   },
   "source": [
    "#### neighborhood trends"
   ]
  },
  {
   "cell_type": "code",
   "execution_count": 539,
   "metadata": {
    "colab": {
     "base_uri": "https://localhost:8080/"
    },
    "id": "1Z4yCtwLG3yB",
    "outputId": "e2f6fb15-dca5-494f-fae8-0470d14d9a21"
   },
   "outputs": [
    {
     "name": "stdout",
     "output_type": "stream",
     "text": [
      "<class 'pandas.core.frame.DataFrame'>\n",
      "Index: 80420 entries, 7797 to 21704\n",
      "Data columns (total 19 columns):\n",
      " #   Column                     Non-Null Count  Dtype         \n",
      "---  ------                     --------------  -----         \n",
      " 0   court_index_number         80420 non-null  object        \n",
      " 1   docket_number              80420 non-null  int64         \n",
      " 2   eviction_address           80420 non-null  object        \n",
      " 3   eviction_apartment_number  80420 non-null  object        \n",
      " 4   executed_date              80420 non-null  datetime64[ns]\n",
      " 5   borough                    80420 non-null  object        \n",
      " 6   eviction_postcode          80420 non-null  int64         \n",
      " 7   ejectment                  80420 non-null  object        \n",
      " 8   eviction/legal_possession  80420 non-null  object        \n",
      " 9   latitude                   80420 non-null  float64       \n",
      " 10  longitude                  80420 non-null  float64       \n",
      " 11  community_board            80420 non-null  float64       \n",
      " 12  council_district           80420 non-null  float64       \n",
      " 13  census_tract               80420 non-null  float64       \n",
      " 14  bin                        80420 non-null  float64       \n",
      " 15  bbl                        80420 non-null  float64       \n",
      " 16  nta                        80420 non-null  object        \n",
      " 17  year                       80420 non-null  int32         \n",
      " 18  month_year                 80420 non-null  period[M]     \n",
      "dtypes: datetime64[ns](1), float64(7), int32(1), int64(2), object(7), period[M](1)\n",
      "memory usage: 12.0+ MB\n"
     ]
    }
   ],
   "source": [
    "evictions_df.info()"
   ]
  },
  {
   "cell_type": "code",
   "execution_count": 540,
   "metadata": {
    "colab": {
     "base_uri": "https://localhost:8080/",
     "height": 807
    },
    "id": "mdZofRhbJjE_",
    "outputId": "b61f01aa-5bb4-475f-cafb-10e4e4200b95"
   },
   "outputs": [
    {
     "data": {
      "image/png": "[encoded data removed]",
      "text/plain": [
       "<Figure size 1500x800 with 1 Axes>"
      ]
     },
     "metadata": {},
     "output_type": "display_data"
    }
   ],
   "source": [
    "# nta %\n",
    "nta_counts = evictions_df['nta'].value_counts()\n",
    "total_evictions = nta_counts.sum()\n",
    "nta_analysis = pd.DataFrame({\n",
    "    'eviction_count': nta_counts,\n",
    "    'percentage': (nta_counts / total_evictions * 100).round(2)\n",
    "})\n",
    "\n",
    "nta_analysis = nta_analysis.sort_values('eviction_count', ascending=False)\n",
    "\n",
    "plt.figure(figsize=(15, 8))\n",
    "bars = plt.barh(\n",
    "    range(20),\n",
    "    nta_analysis['eviction_count'].head(20),\n",
    "    color=sns.color_palette(\"pastel\")[2]\n",
    ")\n",
    "\n",
    "plt.yticks(\n",
    "    range(20),\n",
    "    [f\"{name} ({pct}%)\" for name, pct in\n",
    "     zip(nta_analysis.head(20).index,\n",
    "         nta_analysis['percentage'].head(20))],\n",
    "    fontsize=10\n",
    ")\n",
    "\n",
    "plt.title('Top 20 NTAs by evictions (with percentages)', pad=20)\n",
    "plt.xlabel('Number of evictions')\n",
    "plt.grid(axis='x', alpha=0.3)\n",
    "plt.tight_layout()\n",
    "plt.show()"
   ]
  },
  {
   "cell_type": "code",
   "execution_count": 541,
   "metadata": {
    "colab": {
     "base_uri": "https://localhost:8080/"
    },
    "id": "p71iP1s7Jr63",
    "outputId": "a809f66d-c515-474f-c348-5df6344cb6cd"
   },
   "outputs": [
    {
     "name": "stdout",
     "output_type": "stream",
     "text": [
      "Top 20 NTAs by evictions:\n",
      "                                   eviction_count  percentage\n",
      "nta                                                          \n",
      "East New York                                1813        2.25\n",
      "Crown Heights North                          1771        2.20\n",
      "Central Harlem North-Polo Grounds            1700        2.11\n",
      "Bedford Park-Fordham North                   1615        2.01\n",
      "East Concourse-Concourse Village             1612        2.00\n",
      "Williamsbridge-Olinville                     1564        1.94\n",
      "University Heights-Morris Heights            1411        1.75\n",
      "Mount Hope                                   1403        1.74\n",
      "Flatbush                                     1358        1.69\n",
      "East Tremont                                 1219        1.52\n",
      "Morrisania-Melrose                           1183        1.47\n",
      "Prospect Lefferts Gardens-Wingate            1140        1.42\n",
      "Brownsville                                  1134        1.41\n",
      "Washington Heights South                     1063        1.32\n",
      "Rugby-Remsen Village                         1018        1.27\n",
      "Mott Haven-Port Morris                       1000        1.24\n",
      "West Concourse                                992        1.23\n",
      "Van Cortlandt Village                         943        1.17\n",
      "Norwood                                       920        1.14\n",
      "East Flatbush-Farragut                        909        1.13\n"
     ]
    }
   ],
   "source": [
    "print(\"Top 20 NTAs by evictions:\")\n",
    "print(nta_analysis.head(20).to_string())"
   ]
  },
  {
   "cell_type": "code",
   "execution_count": 542,
   "metadata": {
    "colab": {
     "base_uri": "https://localhost:8080/"
    },
    "id": "Pqz72LQ5Ka8i",
    "outputId": "4432b07d-942e-403c-94cd-ad14dd422953"
   },
   "outputs": [
    {
     "name": "stdout",
     "output_type": "stream",
     "text": [
      "<class 'pandas.core.frame.DataFrame'>\n",
      "Index: 80420 entries, 7797 to 21704\n",
      "Data columns (total 19 columns):\n",
      " #   Column                     Non-Null Count  Dtype         \n",
      "---  ------                     --------------  -----         \n",
      " 0   court_index_number         80420 non-null  object        \n",
      " 1   docket_number              80420 non-null  int64         \n",
      " 2   eviction_address           80420 non-null  object        \n",
      " 3   eviction_apartment_number  80420 non-null  object        \n",
      " 4   executed_date              80420 non-null  datetime64[ns]\n",
      " 5   borough                    80420 non-null  object        \n",
      " 6   eviction_postcode          80420 non-null  int64         \n",
      " 7   ejectment                  80420 non-null  object        \n",
      " 8   eviction/legal_possession  80420 non-null  object        \n",
      " 9   latitude                   80420 non-null  float64       \n",
      " 10  longitude                  80420 non-null  float64       \n",
      " 11  community_board            80420 non-null  float64       \n",
      " 12  council_district           80420 non-null  float64       \n",
      " 13  census_tract               80420 non-null  float64       \n",
      " 14  bin                        80420 non-null  float64       \n",
      " 15  bbl                        80420 non-null  float64       \n",
      " 16  nta                        80420 non-null  object        \n",
      " 17  year                       80420 non-null  int32         \n",
      " 18  month_year                 80420 non-null  period[M]     \n",
      "dtypes: datetime64[ns](1), float64(7), int32(1), int64(2), object(7), period[M](1)\n",
      "memory usage: 12.0+ MB\n"
     ]
    }
   ],
   "source": [
    "evictions_df.info()"
   ]
  },
  {
   "cell_type": "code",
   "execution_count": 543,
   "metadata": {
    "id": "w7Id0FZEARkM"
   },
   "outputs": [],
   "source": [
    "# save cleaned evictions data to my drive\n",
    "sorted_df.to_csv('/content/drive/My Drive/X999/evictions_df_cleaned.csv', index=False)"
   ]
  },
  {
   "cell_type": "code",
   "execution_count": 543,
   "metadata": {
    "id": "Mx9T1oTcLWYo"
   },
   "outputs": [],
   "source": []
  }
 ],
 "metadata": {
  "colab": {
   "provenance": []
  },
  "kernelspec": {
   "display_name": "Python 3 (ipykernel)",
   "language": "python",
   "name": "python3"
  },
  "language_info": {
   "codemirror_mode": {
    "name": "ipython",
    "version": 3
   },
   "file_extension": ".py",
   "mimetype": "text/x-python",
   "name": "python",
   "nbconvert_exporter": "python",
   "pygments_lexer": "ipython3",
   "version": "3.11.0"
  }
 },
 "nbformat": 4,
 "nbformat_minor": 0
}
