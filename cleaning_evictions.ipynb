{
 "cells": [
  {
   "cell_type": "markdown",
   "metadata": {
    "id": "ocQYNz3Sj8Dn"
   },
   "source": [
    "# In this notebook, we only focus on cleaning the eviction dataset from:\n",
    "\n",
    "https://data.cityofnewyork.us/City-Government/Evictions/6z8x-wfk4/data_preview\n",
    "\n",
    "The explainations of the data can be found here: https://data.cityofnewyork.us/City-Government/Evictions/6z8x-wfk4/about_data\n",
    "\n",
    "- The originally downloaded dataset ranges from 2017 - 2025.02.22, but in this notebook, we will ignore the 2025 data, and only focus on 2017 - 2024\n",
    "- We went from 104,457 records and 20 columns, to 80,477 records 15 columns.\n",
    "- We treat \"court_index_number\" as primary keys and dropped records that have the same cour index number but with earlier eviction exected dates. \"cour_index_number\" is also the primary key on the website.\n",
    "- We only focus on residential records and drop commercial records (the ratio is roughly 9:1)\n",
    "- We dropped rows that have NaN in geo data columns\n",
    "\n",
    "Finally, we saved the cleaned dataset to google drive and will do the visual and data exploration, and eventually test out hypothesis regarding complaints and evictions, clusterings in NYC, and predictions in different notebooks later."
   ]
  },
  {
   "cell_type": "code",
   "execution_count": 244,
   "metadata": {
    "id": "nAmNEs6wVScC"
   },
   "outputs": [],
   "source": [
    "import pandas as pd\n",
    "import numpy as np\n",
    "import datetime as dt\n",
    "import matplotlib\n",
    "import matplotlib.pyplot as plt\n",
    "import os\n",
    "import io\n",
    "import folium\n",
    "import geopandas as gpd\n",
    "import seaborn as sns\n",
    "\n",
    "# suppress warning\n",
    "import warnings\n",
    "warnings.filterwarnings('ignore')\n",
    "\n",
    "%matplotlib inline"
   ]
  },
  {
   "cell_type": "code",
   "execution_count": 245,
   "metadata": {
    "colab": {
     "base_uri": "https://localhost:8080/"
    },
    "id": "fVLfYL7LWCKH",
    "outputId": "329730db-c638-4578-ab64-8a0dab0ec279"
   },
   "outputs": [
    {
     "name": "stdout",
     "output_type": "stream",
     "text": [
      "Drive already mounted at /content/drive; to attempt to forcibly remount, call drive.mount(\"/content/drive\", force_remount=True).\n"
     ]
    }
   ],
   "source": [
    "# # load eviction data\n",
    "# from google.colab import files\n",
    "# uploaded = files.upload()\n",
    "\n",
    "# uploaded manually\n",
    "\n",
    "from google.colab import drive\n",
    "drive.mount('/content/drive')\n",
    "file_path = '/content/drive/My Drive/X999/Evictions.csv'"
   ]
  },
  {
   "cell_type": "code",
   "execution_count": 246,
   "metadata": {
    "id": "NQbIji-sWaEe"
   },
   "outputs": [],
   "source": [
    "# evictions = pd.read_csv(io.BytesIO(uploaded['Evictions_20240918.csv']))\n",
    "evictions_df_row = pd.read_csv(file_path)"
   ]
  },
  {
   "cell_type": "code",
   "execution_count": 247,
   "metadata": {
    "id": "uLhHyaJ2zpfz"
   },
   "outputs": [],
   "source": [
    "evictions_df = evictions_df_row"
   ]
  },
  {
   "cell_type": "code",
   "execution_count": 248,
   "metadata": {
    "colab": {
     "base_uri": "https://localhost:8080/",
     "height": 205
    },
    "id": "Vrkn22NdW1pa",
    "outputId": "f2cc826c-6f9a-4842-c69b-5c142afb822c"
   },
   "outputs": [
    {
     "data": {
      "application/vnd.google.colaboratory.intrinsic+json": {
       "type": "dataframe",
       "variable_name": "evictions_df"
      },
      "text/html": [
       "\n",
       "  <div id=\"df-3730832c-721d-4884-861d-0ab2864a628c\" class=\"colab-df-container\">\n",
       "    <div>\n",
       "<style scoped>\n",
       "    .dataframe tbody tr th:only-of-type {\n",
       "        vertical-align: middle;\n",
       "    }\n",
       "\n",
       "    .dataframe tbody tr th {\n",
       "        vertical-align: top;\n",
       "    }\n",
       "\n",
       "    .dataframe thead th {\n",
       "        text-align: right;\n",
       "    }\n",
       "</style>\n",
       "<table border=\"1\" class=\"dataframe\">\n",
       "  <thead>\n",
       "    <tr style=\"text-align: right;\">\n",
       "      <th></th>\n",
       "      <th>Court Index Number</th>\n",
       "      <th>Docket Number</th>\n",
       "      <th>Eviction Address</th>\n",
       "      <th>Eviction Apartment Number</th>\n",
       "      <th>Executed Date</th>\n",
       "      <th>Marshal First Name</th>\n",
       "      <th>Marshal Last Name</th>\n",
       "      <th>Residential/Commercial</th>\n",
       "      <th>BOROUGH</th>\n",
       "      <th>Eviction Postcode</th>\n",
       "      <th>Ejectment</th>\n",
       "      <th>Eviction/Legal Possession</th>\n",
       "      <th>Latitude</th>\n",
       "      <th>Longitude</th>\n",
       "      <th>Community Board</th>\n",
       "      <th>Council District</th>\n",
       "      <th>Census Tract</th>\n",
       "      <th>BIN</th>\n",
       "      <th>BBL</th>\n",
       "      <th>NTA</th>\n",
       "    </tr>\n",
       "  </thead>\n",
       "  <tbody>\n",
       "    <tr>\n",
       "      <th>0</th>\n",
       "      <td>22379/19</td>\n",
       "      <td>354582</td>\n",
       "      <td>2915 LA SALLE AVENUE</td>\n",
       "      <td>3R</td>\n",
       "      <td>08/14/2019</td>\n",
       "      <td>Thomas</td>\n",
       "      <td>Bia</td>\n",
       "      <td>Residential</td>\n",
       "      <td>BRONX</td>\n",
       "      <td>10461</td>\n",
       "      <td>Not an Ejectment</td>\n",
       "      <td>Possession</td>\n",
       "      <td>40.839044</td>\n",
       "      <td>-73.830768</td>\n",
       "      <td>10.0</td>\n",
       "      <td>13.0</td>\n",
       "      <td>184.0</td>\n",
       "      <td>2073762.0</td>\n",
       "      <td>2.053580e+09</td>\n",
       "      <td>Schuylerville-Throgs Neck-Edgewater Park</td>\n",
       "    </tr>\n",
       "  </tbody>\n",
       "</table>\n",
       "</div>\n",
       "    <div class=\"colab-df-buttons\">\n",
       "\n",
       "  <div class=\"colab-df-container\">\n",
       "    <button class=\"colab-df-convert\" onclick=\"convertToInteractive('df-3730832c-721d-4884-861d-0ab2864a628c')\"\n",
       "            title=\"Convert this dataframe to an interactive table.\"\n",
       "            style=\"display:none;\">\n",
       "\n",
       "  <svg xmlns=\"http://www.w3.org/2000/svg\" height=\"24px\" viewBox=\"0 -960 960 960\">\n",
       "    <path d=\"M120-120v-720h720v720H120Zm60-500h600v-160H180v160Zm220 220h160v-160H400v160Zm0 220h160v-160H400v160ZM180-400h160v-160H180v160Zm440 0h160v-160H620v160ZM180-180h160v-160H180v160Zm440 0h160v-160H620v160Z\"/>\n",
       "  </svg>\n",
       "    </button>\n",
       "\n",
       "  <style>\n",
       "    .colab-df-container {\n",
       "      display:flex;\n",
       "      gap: 12px;\n",
       "    }\n",
       "\n",
       "    .colab-df-convert {\n",
       "      background-color: #E8F0FE;\n",
       "      border: none;\n",
       "      border-radius: 50%;\n",
       "      cursor: pointer;\n",
       "      display: none;\n",
       "      fill: #1967D2;\n",
       "      height: 32px;\n",
       "      padding: 0 0 0 0;\n",
       "      width: 32px;\n",
       "    }\n",
       "\n",
       "    .colab-df-convert:hover {\n",
       "      background-color: #E2EBFA;\n",
       "      box-shadow: 0px 1px 2px rgba(60, 64, 67, 0.3), 0px 1px 3px 1px rgba(60, 64, 67, 0.15);\n",
       "      fill: #174EA6;\n",
       "    }\n",
       "\n",
       "    .colab-df-buttons div {\n",
       "      margin-bottom: 4px;\n",
       "    }\n",
       "\n",
       "    [theme=dark] .colab-df-convert {\n",
       "      background-color: #3B4455;\n",
       "      fill: #D2E3FC;\n",
       "    }\n",
       "\n",
       "    [theme=dark] .colab-df-convert:hover {\n",
       "      background-color: #434B5C;\n",
       "      box-shadow: 0px 1px 3px 1px rgba(0, 0, 0, 0.15);\n",
       "      filter: drop-shadow(0px 1px 2px rgba(0, 0, 0, 0.3));\n",
       "      fill: #FFFFFF;\n",
       "    }\n",
       "  </style>\n",
       "\n",
       "    <script>\n",
       "      const buttonEl =\n",
       "        document.querySelector('#df-3730832c-721d-4884-861d-0ab2864a628c button.colab-df-convert');\n",
       "      buttonEl.style.display =\n",
       "        google.colab.kernel.accessAllowed ? 'block' : 'none';\n",
       "\n",
       "      async function convertToInteractive(key) {\n",
       "        const element = document.querySelector('#df-3730832c-721d-4884-861d-0ab2864a628c');\n",
       "        const dataTable =\n",
       "          await google.colab.kernel.invokeFunction('convertToInteractive',\n",
       "                                                    [key], {});\n",
       "        if (!dataTable) return;\n",
       "\n",
       "        const docLinkHtml = 'Like what you see? Visit the ' +\n",
       "          '<a target=\"_blank\" href=https://colab.research.google.com/notebooks/data_table.ipynb>data table notebook</a>'\n",
       "          + ' to learn more about interactive tables.';\n",
       "        element.innerHTML = '';\n",
       "        dataTable['output_type'] = 'display_data';\n",
       "        await google.colab.output.renderOutput(dataTable, element);\n",
       "        const docLink = document.createElement('div');\n",
       "        docLink.innerHTML = docLinkHtml;\n",
       "        element.appendChild(docLink);\n",
       "      }\n",
       "    </script>\n",
       "  </div>\n",
       "\n",
       "\n",
       "    </div>\n",
       "  </div>\n"
      ],
      "text/plain": [
       "  Court Index Number  Docket Number       Eviction Address  \\\n",
       "0           22379/19          354582  2915 LA SALLE AVENUE   \n",
       "\n",
       "  Eviction Apartment Number Executed Date Marshal First Name  \\\n",
       "0                        3R    08/14/2019             Thomas   \n",
       "\n",
       "  Marshal Last Name Residential/Commercial BOROUGH  Eviction Postcode  \\\n",
       "0               Bia            Residential   BRONX              10461   \n",
       "\n",
       "          Ejectment Eviction/Legal Possession   Latitude  Longitude  \\\n",
       "0  Not an Ejectment                Possession  40.839044 -73.830768   \n",
       "\n",
       "   Community Board  Council District  Census Tract        BIN           BBL  \\\n",
       "0             10.0              13.0         184.0  2073762.0  2.053580e+09   \n",
       "\n",
       "                                        NTA  \n",
       "0  Schuylerville-Throgs Neck-Edgewater Park  "
      ]
     },
     "execution_count": 248,
     "metadata": {},
     "output_type": "execute_result"
    }
   ],
   "source": [
    "evictions_df.head(1)"
   ]
  },
  {
   "cell_type": "code",
   "execution_count": 249,
   "metadata": {
    "colab": {
     "base_uri": "https://localhost:8080/"
    },
    "id": "510mX6DGgB31",
    "outputId": "b495c9e6-0623-46be-e2c7-05dab61016eb"
   },
   "outputs": [
    {
     "data": {
      "text/plain": [
       "(104457, 20)"
      ]
     },
     "execution_count": 249,
     "metadata": {},
     "output_type": "execute_result"
    }
   ],
   "source": [
    "evictions_df.shape"
   ]
  },
  {
   "cell_type": "code",
   "execution_count": 250,
   "metadata": {
    "colab": {
     "base_uri": "https://localhost:8080/"
    },
    "id": "cMj8m9KkgEgu",
    "outputId": "e064fde0-1187-4171-81c7-3792cbb6771e"
   },
   "outputs": [
    {
     "name": "stdout",
     "output_type": "stream",
     "text": [
      "<class 'pandas.core.frame.DataFrame'>\n",
      "RangeIndex: 104457 entries, 0 to 104456\n",
      "Data columns (total 20 columns):\n",
      " #   Column                     Non-Null Count   Dtype  \n",
      "---  ------                     --------------   -----  \n",
      " 0   Court Index Number         104457 non-null  object \n",
      " 1   Docket Number              104457 non-null  int64  \n",
      " 2   Eviction Address           104457 non-null  object \n",
      " 3   Eviction Apartment Number  88714 non-null   object \n",
      " 4   Executed Date              104457 non-null  object \n",
      " 5   Marshal First Name         104457 non-null  object \n",
      " 6   Marshal Last Name          104457 non-null  object \n",
      " 7   Residential/Commercial     104457 non-null  object \n",
      " 8   BOROUGH                    104457 non-null  object \n",
      " 9   Eviction Postcode          104457 non-null  int64  \n",
      " 10  Ejectment                  104457 non-null  object \n",
      " 11  Eviction/Legal Possession  104457 non-null  object \n",
      " 12  Latitude                   95049 non-null   float64\n",
      " 13  Longitude                  95049 non-null   float64\n",
      " 14  Community Board            95049 non-null   float64\n",
      " 15  Council District           95049 non-null   float64\n",
      " 16  Census Tract               95049 non-null   float64\n",
      " 17  BIN                        94782 non-null   float64\n",
      " 18  BBL                        94782 non-null   float64\n",
      " 19  NTA                        95049 non-null   object \n",
      "dtypes: float64(7), int64(2), object(11)\n",
      "memory usage: 15.9+ MB\n"
     ]
    }
   ],
   "source": [
    "evictions_df.info()"
   ]
  },
  {
   "cell_type": "code",
   "execution_count": 251,
   "metadata": {
    "colab": {
     "base_uri": "https://localhost:8080/"
    },
    "id": "OI2YcLl7yVHi",
    "outputId": "9950a4f3-a97c-49bd-8e20-70a0a6fab9ac"
   },
   "outputs": [
    {
     "data": {
      "text/plain": [
       "Index(['Court Index Number', 'Docket Number ', 'Eviction Address',\n",
       "       'Eviction Apartment Number', 'Executed Date', 'Marshal First Name',\n",
       "       'Marshal Last Name', 'Residential/Commercial', 'BOROUGH',\n",
       "       'Eviction Postcode', 'Ejectment', 'Eviction/Legal Possession',\n",
       "       'Latitude', 'Longitude', 'Community Board', 'Council District',\n",
       "       'Census Tract', 'BIN', 'BBL', 'NTA'],\n",
       "      dtype='object')"
      ]
     },
     "execution_count": 251,
     "metadata": {},
     "output_type": "execute_result"
    }
   ],
   "source": [
    "evictions_df.columns"
   ]
  },
  {
   "cell_type": "code",
   "execution_count": 252,
   "metadata": {
    "colab": {
     "base_uri": "https://localhost:8080/",
     "height": 178
    },
    "id": "3RwvonDyw50j",
    "outputId": "fc434daf-0715-4c06-e316-539ea46bdb1a"
   },
   "outputs": [
    {
     "data": {
      "text/html": [
       "<div>\n",
       "<style scoped>\n",
       "    .dataframe tbody tr th:only-of-type {\n",
       "        vertical-align: middle;\n",
       "    }\n",
       "\n",
       "    .dataframe tbody tr th {\n",
       "        vertical-align: top;\n",
       "    }\n",
       "\n",
       "    .dataframe thead th {\n",
       "        text-align: right;\n",
       "    }\n",
       "</style>\n",
       "<table border=\"1\" class=\"dataframe\">\n",
       "  <thead>\n",
       "    <tr style=\"text-align: right;\">\n",
       "      <th></th>\n",
       "      <th>count</th>\n",
       "    </tr>\n",
       "    <tr>\n",
       "      <th>Residential/Commercial</th>\n",
       "      <th></th>\n",
       "    </tr>\n",
       "  </thead>\n",
       "  <tbody>\n",
       "    <tr>\n",
       "      <th>Residential</th>\n",
       "      <td>94907</td>\n",
       "    </tr>\n",
       "    <tr>\n",
       "      <th>Commercial</th>\n",
       "      <td>9550</td>\n",
       "    </tr>\n",
       "  </tbody>\n",
       "</table>\n",
       "</div><br><label><b>dtype:</b> int64</label>"
      ],
      "text/plain": [
       "Residential/Commercial\n",
       "Residential    94907\n",
       "Commercial      9550\n",
       "Name: count, dtype: int64"
      ]
     },
     "execution_count": 252,
     "metadata": {},
     "output_type": "execute_result"
    }
   ],
   "source": [
    "evictions_df['Residential/Commercial'].value_counts()"
   ]
  },
  {
   "cell_type": "code",
   "execution_count": 253,
   "metadata": {
    "colab": {
     "base_uri": "https://localhost:8080/",
     "height": 178
    },
    "id": "ZLPhh7cdxA-O",
    "outputId": "cfe4dd37-cfa6-4b04-e250-a01165d8d59b"
   },
   "outputs": [
    {
     "data": {
      "text/html": [
       "<div>\n",
       "<style scoped>\n",
       "    .dataframe tbody tr th:only-of-type {\n",
       "        vertical-align: middle;\n",
       "    }\n",
       "\n",
       "    .dataframe tbody tr th {\n",
       "        vertical-align: top;\n",
       "    }\n",
       "\n",
       "    .dataframe thead th {\n",
       "        text-align: right;\n",
       "    }\n",
       "</style>\n",
       "<table border=\"1\" class=\"dataframe\">\n",
       "  <thead>\n",
       "    <tr style=\"text-align: right;\">\n",
       "      <th></th>\n",
       "      <th>proportion</th>\n",
       "    </tr>\n",
       "    <tr>\n",
       "      <th>Residential/Commercial</th>\n",
       "      <th></th>\n",
       "    </tr>\n",
       "  </thead>\n",
       "  <tbody>\n",
       "    <tr>\n",
       "      <th>Residential</th>\n",
       "      <td>90.857482</td>\n",
       "    </tr>\n",
       "    <tr>\n",
       "      <th>Commercial</th>\n",
       "      <td>9.142518</td>\n",
       "    </tr>\n",
       "  </tbody>\n",
       "</table>\n",
       "</div><br><label><b>dtype:</b> float64</label>"
      ],
      "text/plain": [
       "Residential/Commercial\n",
       "Residential    90.857482\n",
       "Commercial      9.142518\n",
       "Name: proportion, dtype: float64"
      ]
     },
     "execution_count": 253,
     "metadata": {},
     "output_type": "execute_result"
    }
   ],
   "source": [
    "# percentage\n",
    "evictions_df['Residential/Commercial'].value_counts(normalize=True) * 100"
   ]
  },
  {
   "cell_type": "code",
   "execution_count": 254,
   "metadata": {
    "colab": {
     "base_uri": "https://localhost:8080/"
    },
    "id": "vuU0a6ZixfPR",
    "outputId": "ece18c36-a694-4a15-b388-0cdd0f145900"
   },
   "outputs": [
    {
     "data": {
      "text/plain": [
       "104457"
      ]
     },
     "execution_count": 254,
     "metadata": {},
     "output_type": "execute_result"
    }
   ],
   "source": [
    "len(evictions_df)"
   ]
  },
  {
   "cell_type": "code",
   "execution_count": 255,
   "metadata": {
    "colab": {
     "base_uri": "https://localhost:8080/",
     "height": 241
    },
    "id": "JPCaGs5sSxM9",
    "outputId": "f6bc6a48-f0ad-47f3-b199-b350372e4f41"
   },
   "outputs": [
    {
     "data": {
      "text/html": [
       "<div>\n",
       "<style scoped>\n",
       "    .dataframe tbody tr th:only-of-type {\n",
       "        vertical-align: middle;\n",
       "    }\n",
       "\n",
       "    .dataframe tbody tr th {\n",
       "        vertical-align: top;\n",
       "    }\n",
       "\n",
       "    .dataframe thead th {\n",
       "        text-align: right;\n",
       "    }\n",
       "</style>\n",
       "<table border=\"1\" class=\"dataframe\">\n",
       "  <thead>\n",
       "    <tr style=\"text-align: right;\">\n",
       "      <th></th>\n",
       "      <th>Marshal Last Name</th>\n",
       "    </tr>\n",
       "  </thead>\n",
       "  <tbody>\n",
       "    <tr>\n",
       "      <th>0</th>\n",
       "      <td>Bia</td>\n",
       "    </tr>\n",
       "    <tr>\n",
       "      <th>1</th>\n",
       "      <td>Rose</td>\n",
       "    </tr>\n",
       "    <tr>\n",
       "      <th>2</th>\n",
       "      <td>Bia</td>\n",
       "    </tr>\n",
       "    <tr>\n",
       "      <th>3</th>\n",
       "      <td>Guida</td>\n",
       "    </tr>\n",
       "    <tr>\n",
       "      <th>4</th>\n",
       "      <td>Grossman</td>\n",
       "    </tr>\n",
       "  </tbody>\n",
       "</table>\n",
       "</div><br><label><b>dtype:</b> object</label>"
      ],
      "text/plain": [
       "0         Bia\n",
       "1        Rose\n",
       "2         Bia\n",
       "3       Guida\n",
       "4    Grossman\n",
       "Name: Marshal Last Name, dtype: object"
      ]
     },
     "execution_count": 255,
     "metadata": {},
     "output_type": "execute_result"
    }
   ],
   "source": [
    "evictions_df[\"Marshal Last Name\"].head()"
   ]
  },
  {
   "cell_type": "code",
   "execution_count": 256,
   "metadata": {
    "colab": {
     "base_uri": "https://localhost:8080/"
    },
    "id": "mFc4wV1nTqF0",
    "outputId": "e6c50efa-b902-4a1b-b9c2-bd6ed2320e40"
   },
   "outputs": [
    {
     "data": {
      "text/plain": [
       "array(['Residential', 'Commercial'], dtype=object)"
      ]
     },
     "execution_count": 256,
     "metadata": {},
     "output_type": "execute_result"
    }
   ],
   "source": [
    "evictions_df[\"Residential/Commercial\"].unique()"
   ]
  },
  {
   "cell_type": "code",
   "execution_count": 257,
   "metadata": {
    "id": "PS4GipvsTc4z"
   },
   "outputs": [],
   "source": [
    "# cleaning functions (later to drop commercials)\n",
    "def drop_columns(df, columns):\n",
    "    df.drop(columns, axis=1, inplace=True)\n",
    "\n",
    "# convert all the column names into lower case, strip the final space, and change the spaces betwen words to \"_\"\n",
    "def clean_column_names(df):\n",
    "    df.columns = df.columns.str.lower()\n",
    "    df.columns = df.columns.str.strip().str.replace(' ', '_')\n",
    "    return df"
   ]
  },
  {
   "cell_type": "code",
   "execution_count": 258,
   "metadata": {
    "colab": {
     "base_uri": "https://localhost:8080/"
    },
    "id": "zoCGT_1XVSeK",
    "outputId": "8710b356-eded-41ae-a7b7-6f118cfa1dbe"
   },
   "outputs": [
    {
     "data": {
      "text/plain": [
       "(104457, 20)"
      ]
     },
     "execution_count": 258,
     "metadata": {},
     "output_type": "execute_result"
    }
   ],
   "source": [
    "evictions_df.shape"
   ]
  },
  {
   "cell_type": "code",
   "execution_count": 259,
   "metadata": {
    "colab": {
     "base_uri": "https://localhost:8080/"
    },
    "id": "nB7ARwQjVWdm",
    "outputId": "86fa4e29-5518-4e5f-f662-bdaf9a729639"
   },
   "outputs": [
    {
     "data": {
      "text/plain": [
       "Index(['Court Index Number', 'Docket Number ', 'Eviction Address',\n",
       "       'Eviction Apartment Number', 'Executed Date', 'Marshal First Name',\n",
       "       'Marshal Last Name', 'Residential/Commercial', 'BOROUGH',\n",
       "       'Eviction Postcode', 'Ejectment', 'Eviction/Legal Possession',\n",
       "       'Latitude', 'Longitude', 'Community Board', 'Council District',\n",
       "       'Census Tract', 'BIN', 'BBL', 'NTA'],\n",
       "      dtype='object')"
      ]
     },
     "execution_count": 259,
     "metadata": {},
     "output_type": "execute_result"
    }
   ],
   "source": [
    "evictions_df.columns"
   ]
  },
  {
   "cell_type": "code",
   "execution_count": 260,
   "metadata": {
    "id": "okSW247qUtxw"
   },
   "outputs": [],
   "source": [
    "# drop rows that represent commercial units, instead of residentail units\n",
    "# drop columns that are irrelevant, such as \"Marshal Last Name\", and \"Marshal first Name\"\n",
    "\n",
    "# drop_rows_by_value(evictions_df, \"Residential/Commercial\", 'Commercial')\n",
    "drop_columns(evictions_df, [\"Marshal Last Name\", \"Marshal First Name\", 'Community Board', 'Council District'])\n",
    "evictions_df = evictions_df[evictions_df['Residential/Commercial'] != 'Commercial']"
   ]
  },
  {
   "cell_type": "code",
   "execution_count": 261,
   "metadata": {
    "colab": {
     "base_uri": "https://localhost:8080/"
    },
    "id": "tXPHu_zZVb7V",
    "outputId": "b2c8b441-76a9-484b-9613-39895d9e50ce"
   },
   "outputs": [
    {
     "data": {
      "text/plain": [
       "(94907, 16)"
      ]
     },
     "execution_count": 261,
     "metadata": {},
     "output_type": "execute_result"
    }
   ],
   "source": [
    "evictions_df[\"Residential/Commercial\"].unique()\n",
    "evictions_df.shape"
   ]
  },
  {
   "cell_type": "code",
   "execution_count": 262,
   "metadata": {
    "colab": {
     "base_uri": "https://localhost:8080/"
    },
    "id": "Fuc18OPZWy85",
    "outputId": "fd56d5d8-e7a4-4f4f-f2ad-9c6f9f0821cf"
   },
   "outputs": [
    {
     "name": "stdout",
     "output_type": "stream",
     "text": [
      "Court Index Number               0\n",
      "Docket Number                    0\n",
      "Eviction Address                 0\n",
      "Eviction Apartment Number    10896\n",
      "Executed Date                    0\n",
      "Residential/Commercial           0\n",
      "BOROUGH                          0\n",
      "Eviction Postcode                0\n",
      "Ejectment                        0\n",
      "Eviction/Legal Possession        0\n",
      "Latitude                      6257\n",
      "Longitude                     6257\n",
      "Census Tract                  6257\n",
      "BIN                           6436\n",
      "BBL                           6436\n",
      "NTA                           6257\n",
      "dtype: int64\n"
     ]
    }
   ],
   "source": [
    "print(evictions_df.isnull().sum())"
   ]
  },
  {
   "cell_type": "code",
   "execution_count": 263,
   "metadata": {
    "colab": {
     "base_uri": "https://localhost:8080/"
    },
    "id": "sxlzSZYpXP8z",
    "outputId": "21db0403-a248-41ec-cb48-3a527facb9a7"
   },
   "outputs": [
    {
     "data": {
      "text/plain": [
       "str"
      ]
     },
     "execution_count": 263,
     "metadata": {},
     "output_type": "execute_result"
    }
   ],
   "source": [
    "type(evictions_df[\"Eviction Apartment Number\"][0])"
   ]
  },
  {
   "cell_type": "code",
   "execution_count": 264,
   "metadata": {
    "id": "juV9wFE-XL8a"
   },
   "outputs": [],
   "source": [
    "# though \"eviction apartment number\" column has NaN, still keep the strings there, because they might be interesting\n",
    "# to look at for certain case studies later\n",
    "evictions_df['Eviction Apartment Number'].fillna(\"unknown\", inplace=True)"
   ]
  },
  {
   "cell_type": "code",
   "execution_count": 265,
   "metadata": {
    "colab": {
     "base_uri": "https://localhost:8080/"
    },
    "id": "D5qkcpODXbJw",
    "outputId": "41cc2f90-cc89-41f9-fb4d-6f7d2c870f11"
   },
   "outputs": [
    {
     "name": "stdout",
     "output_type": "stream",
     "text": [
      "Court Index Number              0\n",
      "Docket Number                   0\n",
      "Eviction Address                0\n",
      "Eviction Apartment Number       0\n",
      "Executed Date                   0\n",
      "Residential/Commercial          0\n",
      "BOROUGH                         0\n",
      "Eviction Postcode               0\n",
      "Ejectment                       0\n",
      "Eviction/Legal Possession       0\n",
      "Latitude                     6257\n",
      "Longitude                    6257\n",
      "Census Tract                 6257\n",
      "BIN                          6436\n",
      "BBL                          6436\n",
      "NTA                          6257\n",
      "dtype: int64\n"
     ]
    }
   ],
   "source": [
    "print(evictions_df.isnull().sum())"
   ]
  },
  {
   "cell_type": "code",
   "execution_count": 266,
   "metadata": {
    "id": "WHnL_zHBXkXI"
   },
   "outputs": [],
   "source": [
    "evictions_df.dropna(inplace=True)"
   ]
  },
  {
   "cell_type": "code",
   "execution_count": 267,
   "metadata": {
    "colab": {
     "base_uri": "https://localhost:8080/"
    },
    "id": "6W7-OFIcXoK7",
    "outputId": "1f25a323-05d2-4bf4-e302-c6ffd925364a"
   },
   "outputs": [
    {
     "name": "stdout",
     "output_type": "stream",
     "text": [
      "<class 'pandas.core.frame.DataFrame'>\n",
      "Index: 88471 entries, 0 to 104456\n",
      "Data columns (total 16 columns):\n",
      " #   Column                     Non-Null Count  Dtype  \n",
      "---  ------                     --------------  -----  \n",
      " 0   Court Index Number         88471 non-null  object \n",
      " 1   Docket Number              88471 non-null  int64  \n",
      " 2   Eviction Address           88471 non-null  object \n",
      " 3   Eviction Apartment Number  88471 non-null  object \n",
      " 4   Executed Date              88471 non-null  object \n",
      " 5   Residential/Commercial     88471 non-null  object \n",
      " 6   BOROUGH                    88471 non-null  object \n",
      " 7   Eviction Postcode          88471 non-null  int64  \n",
      " 8   Ejectment                  88471 non-null  object \n",
      " 9   Eviction/Legal Possession  88471 non-null  object \n",
      " 10  Latitude                   88471 non-null  float64\n",
      " 11  Longitude                  88471 non-null  float64\n",
      " 12  Census Tract               88471 non-null  float64\n",
      " 13  BIN                        88471 non-null  float64\n",
      " 14  BBL                        88471 non-null  float64\n",
      " 15  NTA                        88471 non-null  object \n",
      "dtypes: float64(5), int64(2), object(9)\n",
      "memory usage: 11.5+ MB\n"
     ]
    },
    {
     "data": {
      "text/plain": [
       "((88471, 16), None)"
      ]
     },
     "execution_count": 267,
     "metadata": {},
     "output_type": "execute_result"
    }
   ],
   "source": [
    "# sanity check\n",
    "evictions_df.shape, \\\n",
    "evictions_df.info()"
   ]
  },
  {
   "cell_type": "code",
   "execution_count": 268,
   "metadata": {
    "id": "QnBX9rXpbWR3"
   },
   "outputs": [],
   "source": [
    "evictions_df = clean_column_names(evictions_df)"
   ]
  },
  {
   "cell_type": "code",
   "execution_count": 269,
   "metadata": {
    "colab": {
     "base_uri": "https://localhost:8080/"
    },
    "id": "o-LBK0p5bcfZ",
    "outputId": "c98618c0-a3c1-4912-f5a2-d08f5f32c498"
   },
   "outputs": [
    {
     "name": "stdout",
     "output_type": "stream",
     "text": [
      "<class 'pandas.core.frame.DataFrame'>\n",
      "Index: 88471 entries, 0 to 104456\n",
      "Data columns (total 16 columns):\n",
      " #   Column                     Non-Null Count  Dtype  \n",
      "---  ------                     --------------  -----  \n",
      " 0   court_index_number         88471 non-null  object \n",
      " 1   docket_number              88471 non-null  int64  \n",
      " 2   eviction_address           88471 non-null  object \n",
      " 3   eviction_apartment_number  88471 non-null  object \n",
      " 4   executed_date              88471 non-null  object \n",
      " 5   residential/commercial     88471 non-null  object \n",
      " 6   borough                    88471 non-null  object \n",
      " 7   eviction_postcode          88471 non-null  int64  \n",
      " 8   ejectment                  88471 non-null  object \n",
      " 9   eviction/legal_possession  88471 non-null  object \n",
      " 10  latitude                   88471 non-null  float64\n",
      " 11  longitude                  88471 non-null  float64\n",
      " 12  census_tract               88471 non-null  float64\n",
      " 13  bin                        88471 non-null  float64\n",
      " 14  bbl                        88471 non-null  float64\n",
      " 15  nta                        88471 non-null  object \n",
      "dtypes: float64(5), int64(2), object(9)\n",
      "memory usage: 11.5+ MB\n"
     ]
    },
    {
     "data": {
      "text/plain": [
       "((88471, 16), None)"
      ]
     },
     "execution_count": 269,
     "metadata": {},
     "output_type": "execute_result"
    }
   ],
   "source": [
    "evictions_df.shape, \\\n",
    "evictions_df.info()"
   ]
  },
  {
   "cell_type": "code",
   "execution_count": 270,
   "metadata": {
    "colab": {
     "base_uri": "https://localhost:8080/"
    },
    "id": "xZHsiSzQZoKX",
    "outputId": "dc02373e-8317-4e25-e527-d05de9611bb7"
   },
   "outputs": [
    {
     "data": {
      "text/plain": [
       "(82473, 75088)"
      ]
     },
     "execution_count": 270,
     "metadata": {},
     "output_type": "execute_result"
    }
   ],
   "source": [
    "len(evictions_df.court_index_number.unique()), \\\n",
    "len(evictions_df.docket_number.unique())"
   ]
  },
  {
   "cell_type": "code",
   "execution_count": 271,
   "metadata": {
    "id": "BSDQkJAed2oM"
   },
   "outputs": [],
   "source": [
    "# 81888 - 76484"
   ]
  },
  {
   "cell_type": "code",
   "execution_count": 272,
   "metadata": {
    "id": "7upYhItlb7QX"
   },
   "outputs": [],
   "source": [
    "evictions_df.drop_duplicates(inplace=True)"
   ]
  },
  {
   "cell_type": "code",
   "execution_count": 273,
   "metadata": {
    "colab": {
     "base_uri": "https://localhost:8080/"
    },
    "id": "-TB1molbz_bn",
    "outputId": "80412852-b09c-4c11-aa82-3821f179d11d"
   },
   "outputs": [
    {
     "data": {
      "text/plain": [
       "(82473, 75088)"
      ]
     },
     "execution_count": 273,
     "metadata": {},
     "output_type": "execute_result"
    }
   ],
   "source": [
    "len(evictions_df.court_index_number.unique()), \\\n",
    "len(evictions_df.docket_number.unique())"
   ]
  },
  {
   "cell_type": "code",
   "execution_count": 274,
   "metadata": {
    "id": "Pw8moBDLg5cx"
   },
   "outputs": [],
   "source": [
    "# since all rows are residential now, drop the column that indicates if it is residential or commercial\n",
    "evictions_df.drop(columns=['residential/commercial'], inplace=True)"
   ]
  },
  {
   "cell_type": "code",
   "execution_count": 286,
   "metadata": {
    "id": "KGBZKl1iz9yE"
   },
   "outputs": [],
   "source": [
    "# drop duplicates based on court_index_number\n",
    "# evictions_df = evictions_df.drop_duplicates(subset=['court_index_number'])"
   ]
  },
  {
   "cell_type": "code",
   "execution_count": 276,
   "metadata": {
    "colab": {
     "base_uri": "https://localhost:8080/"
    },
    "id": "u-6VP7jT0DXD",
    "outputId": "f72ca4f1-27fd-4f99-9909-20604df18011"
   },
   "outputs": [
    {
     "data": {
      "text/plain": [
       "Index(['court_index_number', 'docket_number', 'eviction_address',\n",
       "       'eviction_apartment_number', 'executed_date', 'borough',\n",
       "       'eviction_postcode', 'ejectment', 'eviction/legal_possession',\n",
       "       'latitude', 'longitude', 'census_tract', 'bin', 'bbl', 'nta'],\n",
       "      dtype='object')"
      ]
     },
     "execution_count": 276,
     "metadata": {},
     "output_type": "execute_result"
    }
   ],
   "source": [
    "evictions_df.columns"
   ]
  },
  {
   "cell_type": "code",
   "execution_count": 277,
   "metadata": {
    "colab": {
     "base_uri": "https://localhost:8080/"
    },
    "id": "utdHRktthCj7",
    "outputId": "4f9d7a73-4277-4d74-f847-8cbc3c24267f"
   },
   "outputs": [
    {
     "name": "stdout",
     "output_type": "stream",
     "text": [
      "<class 'pandas.core.frame.DataFrame'>\n",
      "Index: 82473 entries, 0 to 104456\n",
      "Data columns (total 15 columns):\n",
      " #   Column                     Non-Null Count  Dtype  \n",
      "---  ------                     --------------  -----  \n",
      " 0   court_index_number         82473 non-null  object \n",
      " 1   docket_number              82473 non-null  int64  \n",
      " 2   eviction_address           82473 non-null  object \n",
      " 3   eviction_apartment_number  82473 non-null  object \n",
      " 4   executed_date              82473 non-null  object \n",
      " 5   borough                    82473 non-null  object \n",
      " 6   eviction_postcode          82473 non-null  int64  \n",
      " 7   ejectment                  82473 non-null  object \n",
      " 8   eviction/legal_possession  82473 non-null  object \n",
      " 9   latitude                   82473 non-null  float64\n",
      " 10  longitude                  82473 non-null  float64\n",
      " 11  census_tract               82473 non-null  float64\n",
      " 12  bin                        82473 non-null  float64\n",
      " 13  bbl                        82473 non-null  float64\n",
      " 14  nta                        82473 non-null  object \n",
      "dtypes: float64(5), int64(2), object(8)\n",
      "memory usage: 10.1+ MB\n"
     ]
    },
    {
     "data": {
      "text/plain": [
       "((82473, 15), None)"
      ]
     },
     "execution_count": 277,
     "metadata": {},
     "output_type": "execute_result"
    }
   ],
   "source": [
    "evictions_df.shape, \\\n",
    "evictions_df.info()"
   ]
  },
  {
   "cell_type": "code",
   "execution_count": 278,
   "metadata": {
    "colab": {
     "base_uri": "https://localhost:8080/",
     "height": 73
    },
    "id": "5LVwBb22WhbE",
    "outputId": "274eb6e5-408d-4df9-ffa8-3523ad5f8202"
   },
   "outputs": [
    {
     "data": {
      "application/vnd.google.colaboratory.intrinsic+json": {
       "repr_error": "Out of range float values are not JSON compliant: nan",
       "type": "dataframe",
       "variable_name": "duplicate_groups"
      },
      "text/html": [
       "\n",
       "  <div id=\"df-7e6ff43b-e1b0-49d1-b3fe-9d20a6c03742\" class=\"colab-df-container\">\n",
       "    <div>\n",
       "<style scoped>\n",
       "    .dataframe tbody tr th:only-of-type {\n",
       "        vertical-align: middle;\n",
       "    }\n",
       "\n",
       "    .dataframe tbody tr th {\n",
       "        vertical-align: top;\n",
       "    }\n",
       "\n",
       "    .dataframe thead th {\n",
       "        text-align: right;\n",
       "    }\n",
       "</style>\n",
       "<table border=\"1\" class=\"dataframe\">\n",
       "  <thead>\n",
       "    <tr style=\"text-align: right;\">\n",
       "      <th></th>\n",
       "      <th>court_index_number</th>\n",
       "      <th>docket_number</th>\n",
       "      <th>eviction_address</th>\n",
       "      <th>eviction_apartment_number</th>\n",
       "      <th>executed_date</th>\n",
       "      <th>borough</th>\n",
       "      <th>eviction_postcode</th>\n",
       "      <th>ejectment</th>\n",
       "      <th>eviction/legal_possession</th>\n",
       "      <th>latitude</th>\n",
       "      <th>longitude</th>\n",
       "      <th>census_tract</th>\n",
       "      <th>bin</th>\n",
       "      <th>bbl</th>\n",
       "      <th>nta</th>\n",
       "    </tr>\n",
       "  </thead>\n",
       "  <tbody>\n",
       "  </tbody>\n",
       "</table>\n",
       "</div>\n",
       "    <div class=\"colab-df-buttons\">\n",
       "\n",
       "  <div class=\"colab-df-container\">\n",
       "    <button class=\"colab-df-convert\" onclick=\"convertToInteractive('df-7e6ff43b-e1b0-49d1-b3fe-9d20a6c03742')\"\n",
       "            title=\"Convert this dataframe to an interactive table.\"\n",
       "            style=\"display:none;\">\n",
       "\n",
       "  <svg xmlns=\"http://www.w3.org/2000/svg\" height=\"24px\" viewBox=\"0 -960 960 960\">\n",
       "    <path d=\"M120-120v-720h720v720H120Zm60-500h600v-160H180v160Zm220 220h160v-160H400v160Zm0 220h160v-160H400v160ZM180-400h160v-160H180v160Zm440 0h160v-160H620v160ZM180-180h160v-160H180v160Zm440 0h160v-160H620v160Z\"/>\n",
       "  </svg>\n",
       "    </button>\n",
       "\n",
       "  <style>\n",
       "    .colab-df-container {\n",
       "      display:flex;\n",
       "      gap: 12px;\n",
       "    }\n",
       "\n",
       "    .colab-df-convert {\n",
       "      background-color: #E8F0FE;\n",
       "      border: none;\n",
       "      border-radius: 50%;\n",
       "      cursor: pointer;\n",
       "      display: none;\n",
       "      fill: #1967D2;\n",
       "      height: 32px;\n",
       "      padding: 0 0 0 0;\n",
       "      width: 32px;\n",
       "    }\n",
       "\n",
       "    .colab-df-convert:hover {\n",
       "      background-color: #E2EBFA;\n",
       "      box-shadow: 0px 1px 2px rgba(60, 64, 67, 0.3), 0px 1px 3px 1px rgba(60, 64, 67, 0.15);\n",
       "      fill: #174EA6;\n",
       "    }\n",
       "\n",
       "    .colab-df-buttons div {\n",
       "      margin-bottom: 4px;\n",
       "    }\n",
       "\n",
       "    [theme=dark] .colab-df-convert {\n",
       "      background-color: #3B4455;\n",
       "      fill: #D2E3FC;\n",
       "    }\n",
       "\n",
       "    [theme=dark] .colab-df-convert:hover {\n",
       "      background-color: #434B5C;\n",
       "      box-shadow: 0px 1px 3px 1px rgba(0, 0, 0, 0.15);\n",
       "      filter: drop-shadow(0px 1px 2px rgba(0, 0, 0, 0.3));\n",
       "      fill: #FFFFFF;\n",
       "    }\n",
       "  </style>\n",
       "\n",
       "    <script>\n",
       "      const buttonEl =\n",
       "        document.querySelector('#df-7e6ff43b-e1b0-49d1-b3fe-9d20a6c03742 button.colab-df-convert');\n",
       "      buttonEl.style.display =\n",
       "        google.colab.kernel.accessAllowed ? 'block' : 'none';\n",
       "\n",
       "      async function convertToInteractive(key) {\n",
       "        const element = document.querySelector('#df-7e6ff43b-e1b0-49d1-b3fe-9d20a6c03742');\n",
       "        const dataTable =\n",
       "          await google.colab.kernel.invokeFunction('convertToInteractive',\n",
       "                                                    [key], {});\n",
       "        if (!dataTable) return;\n",
       "\n",
       "        const docLinkHtml = 'Like what you see? Visit the ' +\n",
       "          '<a target=\"_blank\" href=https://colab.research.google.com/notebooks/data_table.ipynb>data table notebook</a>'\n",
       "          + ' to learn more about interactive tables.';\n",
       "        element.innerHTML = '';\n",
       "        dataTable['output_type'] = 'display_data';\n",
       "        await google.colab.output.renderOutput(dataTable, element);\n",
       "        const docLink = document.createElement('div');\n",
       "        docLink.innerHTML = docLinkHtml;\n",
       "        element.appendChild(docLink);\n",
       "      }\n",
       "    </script>\n",
       "  </div>\n",
       "\n",
       "\n",
       "    </div>\n",
       "  </div>\n"
      ],
      "text/plain": [
       "Empty DataFrame\n",
       "Columns: [court_index_number, docket_number, eviction_address, eviction_apartment_number, executed_date, borough, eviction_postcode, ejectment, eviction/legal_possession, latitude, longitude, census_tract, bin, bbl, nta]\n",
       "Index: []"
      ]
     },
     "execution_count": 278,
     "metadata": {},
     "output_type": "execute_result"
    }
   ],
   "source": [
    "# find some rows that have the same court index number\n",
    "duplicate_groups = evictions_df.groupby('court_index_number').filter(lambda x: len(x) > 1)\n",
    "duplicate_groups.head(2)"
   ]
  },
  {
   "cell_type": "code",
   "execution_count": 279,
   "metadata": {
    "colab": {
     "base_uri": "https://localhost:8080/",
     "height": 118
    },
    "id": "W-1yCXScejaG",
    "outputId": "f2a63bf3-2391-4f99-bb83-98c125094f50"
   },
   "outputs": [
    {
     "data": {
      "application/vnd.google.colaboratory.intrinsic+json": {
       "repr_error": "0",
       "type": "dataframe",
       "variable_name": "check"
      },
      "text/html": [
       "\n",
       "  <div id=\"df-f0a71c1d-f598-4bf4-872f-c99d49d4d297\" class=\"colab-df-container\">\n",
       "    <div>\n",
       "<style scoped>\n",
       "    .dataframe tbody tr th:only-of-type {\n",
       "        vertical-align: middle;\n",
       "    }\n",
       "\n",
       "    .dataframe tbody tr th {\n",
       "        vertical-align: top;\n",
       "    }\n",
       "\n",
       "    .dataframe thead th {\n",
       "        text-align: right;\n",
       "    }\n",
       "</style>\n",
       "<table border=\"1\" class=\"dataframe\">\n",
       "  <thead>\n",
       "    <tr style=\"text-align: right;\">\n",
       "      <th></th>\n",
       "      <th>court_index_number</th>\n",
       "      <th>docket_number</th>\n",
       "      <th>eviction_address</th>\n",
       "      <th>eviction_apartment_number</th>\n",
       "      <th>executed_date</th>\n",
       "      <th>borough</th>\n",
       "      <th>eviction_postcode</th>\n",
       "      <th>ejectment</th>\n",
       "      <th>eviction/legal_possession</th>\n",
       "      <th>latitude</th>\n",
       "      <th>longitude</th>\n",
       "      <th>census_tract</th>\n",
       "      <th>bin</th>\n",
       "      <th>bbl</th>\n",
       "      <th>nta</th>\n",
       "    </tr>\n",
       "  </thead>\n",
       "  <tbody>\n",
       "    <tr>\n",
       "      <th>63441</th>\n",
       "      <td>307019/20</td>\n",
       "      <td>108457</td>\n",
       "      <td>505 WEST 54TH STREET</td>\n",
       "      <td>1111</td>\n",
       "      <td>08/16/2022</td>\n",
       "      <td>MANHATTAN</td>\n",
       "      <td>10019</td>\n",
       "      <td>Not an Ejectment</td>\n",
       "      <td>Possession</td>\n",
       "      <td>40.767339</td>\n",
       "      <td>-73.9903</td>\n",
       "      <td>135.0</td>\n",
       "      <td>1087122.0</td>\n",
       "      <td>1.010830e+09</td>\n",
       "      <td>Clinton</td>\n",
       "    </tr>\n",
       "  </tbody>\n",
       "</table>\n",
       "</div>\n",
       "    <div class=\"colab-df-buttons\">\n",
       "\n",
       "  <div class=\"colab-df-container\">\n",
       "    <button class=\"colab-df-convert\" onclick=\"convertToInteractive('df-f0a71c1d-f598-4bf4-872f-c99d49d4d297')\"\n",
       "            title=\"Convert this dataframe to an interactive table.\"\n",
       "            style=\"display:none;\">\n",
       "\n",
       "  <svg xmlns=\"http://www.w3.org/2000/svg\" height=\"24px\" viewBox=\"0 -960 960 960\">\n",
       "    <path d=\"M120-120v-720h720v720H120Zm60-500h600v-160H180v160Zm220 220h160v-160H400v160Zm0 220h160v-160H400v160ZM180-400h160v-160H180v160Zm440 0h160v-160H620v160ZM180-180h160v-160H180v160Zm440 0h160v-160H620v160Z\"/>\n",
       "  </svg>\n",
       "    </button>\n",
       "\n",
       "  <style>\n",
       "    .colab-df-container {\n",
       "      display:flex;\n",
       "      gap: 12px;\n",
       "    }\n",
       "\n",
       "    .colab-df-convert {\n",
       "      background-color: #E8F0FE;\n",
       "      border: none;\n",
       "      border-radius: 50%;\n",
       "      cursor: pointer;\n",
       "      display: none;\n",
       "      fill: #1967D2;\n",
       "      height: 32px;\n",
       "      padding: 0 0 0 0;\n",
       "      width: 32px;\n",
       "    }\n",
       "\n",
       "    .colab-df-convert:hover {\n",
       "      background-color: #E2EBFA;\n",
       "      box-shadow: 0px 1px 2px rgba(60, 64, 67, 0.3), 0px 1px 3px 1px rgba(60, 64, 67, 0.15);\n",
       "      fill: #174EA6;\n",
       "    }\n",
       "\n",
       "    .colab-df-buttons div {\n",
       "      margin-bottom: 4px;\n",
       "    }\n",
       "\n",
       "    [theme=dark] .colab-df-convert {\n",
       "      background-color: #3B4455;\n",
       "      fill: #D2E3FC;\n",
       "    }\n",
       "\n",
       "    [theme=dark] .colab-df-convert:hover {\n",
       "      background-color: #434B5C;\n",
       "      box-shadow: 0px 1px 3px 1px rgba(0, 0, 0, 0.15);\n",
       "      filter: drop-shadow(0px 1px 2px rgba(0, 0, 0, 0.3));\n",
       "      fill: #FFFFFF;\n",
       "    }\n",
       "  </style>\n",
       "\n",
       "    <script>\n",
       "      const buttonEl =\n",
       "        document.querySelector('#df-f0a71c1d-f598-4bf4-872f-c99d49d4d297 button.colab-df-convert');\n",
       "      buttonEl.style.display =\n",
       "        google.colab.kernel.accessAllowed ? 'block' : 'none';\n",
       "\n",
       "      async function convertToInteractive(key) {\n",
       "        const element = document.querySelector('#df-f0a71c1d-f598-4bf4-872f-c99d49d4d297');\n",
       "        const dataTable =\n",
       "          await google.colab.kernel.invokeFunction('convertToInteractive',\n",
       "                                                    [key], {});\n",
       "        if (!dataTable) return;\n",
       "\n",
       "        const docLinkHtml = 'Like what you see? Visit the ' +\n",
       "          '<a target=\"_blank\" href=https://colab.research.google.com/notebooks/data_table.ipynb>data table notebook</a>'\n",
       "          + ' to learn more about interactive tables.';\n",
       "        element.innerHTML = '';\n",
       "        dataTable['output_type'] = 'display_data';\n",
       "        await google.colab.output.renderOutput(dataTable, element);\n",
       "        const docLink = document.createElement('div');\n",
       "        docLink.innerHTML = docLinkHtml;\n",
       "        element.appendChild(docLink);\n",
       "      }\n",
       "    </script>\n",
       "  </div>\n",
       "\n",
       "\n",
       "  <div id=\"id_bbfa484b-ffa7-4d75-8eb5-30d4db1ac712\">\n",
       "    <style>\n",
       "      .colab-df-generate {\n",
       "        background-color: #E8F0FE;\n",
       "        border: none;\n",
       "        border-radius: 50%;\n",
       "        cursor: pointer;\n",
       "        display: none;\n",
       "        fill: #1967D2;\n",
       "        height: 32px;\n",
       "        padding: 0 0 0 0;\n",
       "        width: 32px;\n",
       "      }\n",
       "\n",
       "      .colab-df-generate:hover {\n",
       "        background-color: #E2EBFA;\n",
       "        box-shadow: 0px 1px 2px rgba(60, 64, 67, 0.3), 0px 1px 3px 1px rgba(60, 64, 67, 0.15);\n",
       "        fill: #174EA6;\n",
       "      }\n",
       "\n",
       "      [theme=dark] .colab-df-generate {\n",
       "        background-color: #3B4455;\n",
       "        fill: #D2E3FC;\n",
       "      }\n",
       "\n",
       "      [theme=dark] .colab-df-generate:hover {\n",
       "        background-color: #434B5C;\n",
       "        box-shadow: 0px 1px 3px 1px rgba(0, 0, 0, 0.15);\n",
       "        filter: drop-shadow(0px 1px 2px rgba(0, 0, 0, 0.3));\n",
       "        fill: #FFFFFF;\n",
       "      }\n",
       "    </style>\n",
       "    <button class=\"colab-df-generate\" onclick=\"generateWithVariable('check')\"\n",
       "            title=\"Generate code using this dataframe.\"\n",
       "            style=\"display:none;\">\n",
       "\n",
       "  <svg xmlns=\"http://www.w3.org/2000/svg\" height=\"24px\"viewBox=\"0 0 24 24\"\n",
       "       width=\"24px\">\n",
       "    <path d=\"M7,19H8.4L18.45,9,17,7.55,7,17.6ZM5,21V16.75L18.45,3.32a2,2,0,0,1,2.83,0l1.4,1.43a1.91,1.91,0,0,1,.58,1.4,1.91,1.91,0,0,1-.58,1.4L9.25,21ZM18.45,9,17,7.55Zm-12,3A5.31,5.31,0,0,0,4.9,8.1,5.31,5.31,0,0,0,1,6.5,5.31,5.31,0,0,0,4.9,4.9,5.31,5.31,0,0,0,6.5,1,5.31,5.31,0,0,0,8.1,4.9,5.31,5.31,0,0,0,12,6.5,5.46,5.46,0,0,0,6.5,12Z\"/>\n",
       "  </svg>\n",
       "    </button>\n",
       "    <script>\n",
       "      (() => {\n",
       "      const buttonEl =\n",
       "        document.querySelector('#id_bbfa484b-ffa7-4d75-8eb5-30d4db1ac712 button.colab-df-generate');\n",
       "      buttonEl.style.display =\n",
       "        google.colab.kernel.accessAllowed ? 'block' : 'none';\n",
       "\n",
       "      buttonEl.onclick = () => {\n",
       "        google.colab.notebook.generateWithVariable('check');\n",
       "      }\n",
       "      })();\n",
       "    </script>\n",
       "  </div>\n",
       "\n",
       "    </div>\n",
       "  </div>\n"
      ],
      "text/plain": [
       "      court_index_number  docket_number      eviction_address  \\\n",
       "63441          307019/20         108457  505 WEST 54TH STREET   \n",
       "\n",
       "      eviction_apartment_number executed_date    borough  eviction_postcode  \\\n",
       "63441                      1111    08/16/2022  MANHATTAN              10019   \n",
       "\n",
       "              ejectment eviction/legal_possession   latitude  longitude  \\\n",
       "63441  Not an Ejectment                Possession  40.767339   -73.9903   \n",
       "\n",
       "       census_tract        bin           bbl      nta  \n",
       "63441         135.0  1087122.0  1.010830e+09  Clinton  "
      ]
     },
     "execution_count": 279,
     "metadata": {},
     "output_type": "execute_result"
    }
   ],
   "source": [
    "check = evictions_df[evictions_df[\"court_index_number\"] == '307019/20']\n",
    "\n",
    "# display the filtered rows\n",
    "check"
   ]
  },
  {
   "cell_type": "code",
   "execution_count": 280,
   "metadata": {
    "colab": {
     "base_uri": "https://localhost:8080/"
    },
    "id": "FCttFUijzY--",
    "outputId": "a43db9a7-6495-4202-d867-78c239dd1471"
   },
   "outputs": [
    {
     "name": "stdout",
     "output_type": "stream",
     "text": [
      "<class 'pandas.core.frame.DataFrame'>\n",
      "Index: 82473 entries, 0 to 104456\n",
      "Data columns (total 15 columns):\n",
      " #   Column                     Non-Null Count  Dtype  \n",
      "---  ------                     --------------  -----  \n",
      " 0   court_index_number         82473 non-null  object \n",
      " 1   docket_number              82473 non-null  int64  \n",
      " 2   eviction_address           82473 non-null  object \n",
      " 3   eviction_apartment_number  82473 non-null  object \n",
      " 4   executed_date              82473 non-null  object \n",
      " 5   borough                    82473 non-null  object \n",
      " 6   eviction_postcode          82473 non-null  int64  \n",
      " 7   ejectment                  82473 non-null  object \n",
      " 8   eviction/legal_possession  82473 non-null  object \n",
      " 9   latitude                   82473 non-null  float64\n",
      " 10  longitude                  82473 non-null  float64\n",
      " 11  census_tract               82473 non-null  float64\n",
      " 12  bin                        82473 non-null  float64\n",
      " 13  bbl                        82473 non-null  float64\n",
      " 14  nta                        82473 non-null  object \n",
      "dtypes: float64(5), int64(2), object(8)\n",
      "memory usage: 10.1+ MB\n"
     ]
    }
   ],
   "source": [
    "evictions_df.info()"
   ]
  },
  {
   "cell_type": "code",
   "execution_count": 281,
   "metadata": {
    "id": "61iukie4zRf6"
   },
   "outputs": [],
   "source": [
    "# drop duplicates based on Court Index Number\n",
    "# cleaned_df = evictions_df.drop_duplicates(subset=['court_index_number'])"
   ]
  },
  {
   "cell_type": "code",
   "execution_count": 282,
   "metadata": {
    "id": "-AiRPnGhhjTH"
   },
   "outputs": [],
   "source": [
    "evictions_df['executed_date'] = pd.to_datetime(evictions_df['executed_date'])"
   ]
  },
  {
   "cell_type": "code",
   "execution_count": 287,
   "metadata": {
    "id": "IovcRFeFhpL-"
   },
   "outputs": [],
   "source": [
    "evictions_df.sort_values(by=['court_index_number', 'executed_date'], inplace=True)"
   ]
  },
  {
   "cell_type": "code",
   "execution_count": 288,
   "metadata": {
    "id": "bCayRG9Lhwuu"
   },
   "outputs": [],
   "source": [
    "evictions_df = evictions_df.drop_duplicates(subset=['court_index_number'], keep='last')"
   ]
  },
  {
   "cell_type": "code",
   "execution_count": 291,
   "metadata": {
    "id": "vFAGWmWJ6qgO"
   },
   "outputs": [],
   "source": [
    "# only keep the relevant ones\n",
    "start_date = '2017-01-01'\n",
    "end_date = '2024-12-31'\n",
    "date_mask = (evictions_df['executed_date'] >= start_date) & (evictions_df['executed_date'] <= end_date)"
   ]
  },
  {
   "cell_type": "code",
   "execution_count": 295,
   "metadata": {
    "id": "5N9K7Z1R6zIX"
   },
   "outputs": [],
   "source": [
    "evictions_df = evictions_df[date_mask]\n",
    "sorted_df = evictions_df.sort_values('executed_date')"
   ]
  },
  {
   "cell_type": "code",
   "execution_count": 297,
   "metadata": {
    "colab": {
     "base_uri": "https://localhost:8080/"
    },
    "id": "E7zf0kiR6744",
    "outputId": "bc8f8118-70f3-4694-f6b8-5b44995f528d"
   },
   "outputs": [
    {
     "name": "stdout",
     "output_type": "stream",
     "text": [
      "<class 'pandas.core.frame.DataFrame'>\n",
      "Index: 80477 entries, 7797 to 21704\n",
      "Data columns (total 15 columns):\n",
      " #   Column                     Non-Null Count  Dtype         \n",
      "---  ------                     --------------  -----         \n",
      " 0   court_index_number         80477 non-null  object        \n",
      " 1   docket_number              80477 non-null  int64         \n",
      " 2   eviction_address           80477 non-null  object        \n",
      " 3   eviction_apartment_number  80477 non-null  object        \n",
      " 4   executed_date              80477 non-null  datetime64[ns]\n",
      " 5   borough                    80477 non-null  object        \n",
      " 6   eviction_postcode          80477 non-null  int64         \n",
      " 7   ejectment                  80477 non-null  object        \n",
      " 8   eviction/legal_possession  80477 non-null  object        \n",
      " 9   latitude                   80477 non-null  float64       \n",
      " 10  longitude                  80477 non-null  float64       \n",
      " 11  census_tract               80477 non-null  float64       \n",
      " 12  bin                        80477 non-null  float64       \n",
      " 13  bbl                        80477 non-null  float64       \n",
      " 14  nta                        80477 non-null  object        \n",
      "dtypes: datetime64[ns](1), float64(5), int64(2), object(7)\n",
      "memory usage: 9.8+ MB\n"
     ]
    },
    {
     "data": {
      "text/plain": [
       "(None, 80477)"
      ]
     },
     "execution_count": 297,
     "metadata": {},
     "output_type": "execute_result"
    }
   ],
   "source": [
    "evictions_df.info(), \\\n",
    "len(evictions_df)"
   ]
  },
  {
   "cell_type": "code",
   "execution_count": 299,
   "metadata": {
    "colab": {
     "base_uri": "https://localhost:8080/",
     "height": 756
    },
    "id": "vvmB4h7s1WSH",
    "outputId": "d5c61538-49f7-40e7-8cc4-4572cf1b18d7"
   },
   "outputs": [
    {
     "data": {
      "application/vnd.google.colaboratory.intrinsic+json": {
       "summary": "{\n  \"name\": \"sorted_df\",\n  \"rows\": 80477,\n  \"fields\": [\n    {\n      \"column\": \"court_index_number\",\n      \"properties\": {\n        \"dtype\": \"string\",\n        \"num_unique_values\": 80477,\n        \"samples\": [\n          \"311521/23\",\n          \"57860/17\",\n          \"K305672/23\"\n        ],\n        \"semantic_type\": \"\",\n        \"description\": \"\"\n      }\n    },\n    {\n      \"column\": \"docket_number\",\n      \"properties\": {\n        \"dtype\": \"number\",\n        \"std\": 137483,\n        \"min\": 15,\n        \"max\": 496987,\n        \"num_unique_values\": 69693,\n        \"samples\": [\n          94644,\n          74864,\n          106944\n        ],\n        \"semantic_type\": \"\",\n        \"description\": \"\"\n      }\n    },\n    {\n      \"column\": \"eviction_address\",\n      \"properties\": {\n        \"dtype\": \"string\",\n        \"num_unique_values\": 45680,\n        \"samples\": [\n          \"86-65 208TH STREET\",\n          \"539 WEST 179TH STREE T\",\n          \"1148 EAST 84TH   STR EET\"\n        ],\n        \"semantic_type\": \"\",\n        \"description\": \"\"\n      }\n    },\n    {\n      \"column\": \"eviction_apartment_number\",\n      \"properties\": {\n        \"dtype\": \"category\",\n        \"num_unique_values\": 7594,\n        \"samples\": [\n          \"36-A\",\n          \"# 2E\",\n          \"3 (3RD FLOOR)\"\n        ],\n        \"semantic_type\": \"\",\n        \"description\": \"\"\n      }\n    },\n    {\n      \"column\": \"executed_date\",\n      \"properties\": {\n        \"dtype\": \"date\",\n        \"min\": \"2017-01-03 00:00:00\",\n        \"max\": \"2024-12-30 00:00:00\",\n        \"num_unique_values\": 1581,\n        \"samples\": [\n          \"2023-02-22 00:00:00\",\n          \"2021-08-24 00:00:00\",\n          \"2023-05-04 00:00:00\"\n        ],\n        \"semantic_type\": \"\",\n        \"description\": \"\"\n      }\n    },\n    {\n      \"column\": \"borough\",\n      \"properties\": {\n        \"dtype\": \"category\",\n        \"num_unique_values\": 5,\n        \"samples\": [\n          \"MANHATTAN\",\n          \"BROOKLYN\",\n          \"QUEENS\"\n        ],\n        \"semantic_type\": \"\",\n        \"description\": \"\"\n      }\n    },\n    {\n      \"column\": \"eviction_postcode\",\n      \"properties\": {\n        \"dtype\": \"number\",\n        \"std\": 506,\n        \"min\": 10000,\n        \"max\": 11698,\n        \"num_unique_values\": 203,\n        \"samples\": [\n          10457,\n          10301,\n          11429\n        ],\n        \"semantic_type\": \"\",\n        \"description\": \"\"\n      }\n    },\n    {\n      \"column\": \"ejectment\",\n      \"properties\": {\n        \"dtype\": \"category\",\n        \"num_unique_values\": 2,\n        \"samples\": [\n          \"Not an Ejectment\",\n          \"Ejectment\"\n        ],\n        \"semantic_type\": \"\",\n        \"description\": \"\"\n      }\n    },\n    {\n      \"column\": \"eviction/legal_possession\",\n      \"properties\": {\n        \"dtype\": \"category\",\n        \"num_unique_values\": 2,\n        \"samples\": [\n          \"Eviction\",\n          \"Possession\"\n        ],\n        \"semantic_type\": \"\",\n        \"description\": \"\"\n      }\n    },\n    {\n      \"column\": \"latitude\",\n      \"properties\": {\n        \"dtype\": \"number\",\n        \"std\": 0.09246068655301626,\n        \"min\": 40.49905,\n        \"max\": 40.912869,\n        \"num_unique_values\": 35914,\n        \"samples\": [\n          40.646904,\n          40.740302\n        ],\n        \"semantic_type\": \"\",\n        \"description\": \"\"\n      }\n    },\n    {\n      \"column\": \"longitude\",\n      \"properties\": {\n        \"dtype\": \"number\",\n        \"std\": 0.06881660020026219,\n        \"min\": -74.251262,\n        \"max\": -73.70143,\n        \"num_unique_values\": 35213,\n        \"samples\": [\n          -73.926951,\n          -74.069758\n        ],\n        \"semantic_type\": \"\",\n        \"description\": \"\"\n      }\n    },\n    {\n      \"column\": \"census_tract\",\n      \"properties\": {\n        \"dtype\": \"number\",\n        \"std\": 21384.600184748786,\n        \"min\": 1.0,\n        \"max\": 157903.0,\n        \"num_unique_values\": 1289,\n        \"samples\": [\n          1193.0,\n          16002.0\n        ],\n        \"semantic_type\": \"\",\n        \"description\": \"\"\n      }\n    },\n    {\n      \"column\": \"bin\",\n      \"properties\": {\n        \"dtype\": \"number\",\n        \"std\": 1115488.9177562925,\n        \"min\": 1000000.0,\n        \"max\": 5171959.0,\n        \"num_unique_values\": 37519,\n        \"samples\": [\n          3097117.0,\n          1059880.0\n        ],\n        \"semantic_type\": \"\",\n        \"description\": \"\"\n      }\n    },\n    {\n      \"column\": \"bbl\",\n      \"properties\": {\n        \"dtype\": \"number\",\n        \"std\": 1064592771.4373348,\n        \"min\": 0.0,\n        \"max\": 5080490021.0,\n        \"num_unique_values\": 35181,\n        \"samples\": [\n          4119390134.0,\n          1017100022.0\n        ],\n        \"semantic_type\": \"\",\n        \"description\": \"\"\n      }\n    },\n    {\n      \"column\": \"nta\",\n      \"properties\": {\n        \"dtype\": \"category\",\n        \"num_unique_values\": 190,\n        \"samples\": [\n          \"Woodside\",\n          \"Oakwood-Oakwood Beach\"\n        ],\n        \"semantic_type\": \"\",\n        \"description\": \"\"\n      }\n    }\n  ]\n}",
       "type": "dataframe",
       "variable_name": "sorted_df"
      },
      "text/html": [
       "\n",
       "  <div id=\"df-ccbe1f83-97d9-493e-8108-d992af41c694\" class=\"colab-df-container\">\n",
       "    <div>\n",
       "<style scoped>\n",
       "    .dataframe tbody tr th:only-of-type {\n",
       "        vertical-align: middle;\n",
       "    }\n",
       "\n",
       "    .dataframe tbody tr th {\n",
       "        vertical-align: top;\n",
       "    }\n",
       "\n",
       "    .dataframe thead th {\n",
       "        text-align: right;\n",
       "    }\n",
       "</style>\n",
       "<table border=\"1\" class=\"dataframe\">\n",
       "  <thead>\n",
       "    <tr style=\"text-align: right;\">\n",
       "      <th></th>\n",
       "      <th>court_index_number</th>\n",
       "      <th>docket_number</th>\n",
       "      <th>eviction_address</th>\n",
       "      <th>eviction_apartment_number</th>\n",
       "      <th>executed_date</th>\n",
       "      <th>borough</th>\n",
       "      <th>eviction_postcode</th>\n",
       "      <th>ejectment</th>\n",
       "      <th>eviction/legal_possession</th>\n",
       "      <th>latitude</th>\n",
       "      <th>longitude</th>\n",
       "      <th>census_tract</th>\n",
       "      <th>bin</th>\n",
       "      <th>bbl</th>\n",
       "      <th>nta</th>\n",
       "    </tr>\n",
       "  </thead>\n",
       "  <tbody>\n",
       "    <tr>\n",
       "      <th>46638</th>\n",
       "      <td>4150/15EJ</td>\n",
       "      <td>454323</td>\n",
       "      <td>3278 KINGSLAND AVENU E</td>\n",
       "      <td>*</td>\n",
       "      <td>2017-01-03</td>\n",
       "      <td>BRONX</td>\n",
       "      <td>10469</td>\n",
       "      <td>Ejectment</td>\n",
       "      <td>Possession</td>\n",
       "      <td>40.875117</td>\n",
       "      <td>-73.843328</td>\n",
       "      <td>358.0</td>\n",
       "      <td>2061514.0</td>\n",
       "      <td>2.047520e+09</td>\n",
       "      <td>Eastchester-Edenwald-Baychester</td>\n",
       "    </tr>\n",
       "    <tr>\n",
       "      <th>30294</th>\n",
       "      <td>29475/16</td>\n",
       "      <td>324496</td>\n",
       "      <td>2861 GRACE AVENUE</td>\n",
       "      <td>2</td>\n",
       "      <td>2017-01-03</td>\n",
       "      <td>BRONX</td>\n",
       "      <td>10469</td>\n",
       "      <td>Not an Ejectment</td>\n",
       "      <td>Possession</td>\n",
       "      <td>40.869247</td>\n",
       "      <td>-73.834603</td>\n",
       "      <td>46202.0</td>\n",
       "      <td>2114011.0</td>\n",
       "      <td>2.047990e+09</td>\n",
       "      <td>Co-op City</td>\n",
       "    </tr>\n",
       "    <tr>\n",
       "      <th>15599</th>\n",
       "      <td>68328/16</td>\n",
       "      <td>459862</td>\n",
       "      <td>747 10TH AVENUE</td>\n",
       "      <td>17D</td>\n",
       "      <td>2017-01-03</td>\n",
       "      <td>MANHATTAN</td>\n",
       "      <td>10019</td>\n",
       "      <td>Not an Ejectment</td>\n",
       "      <td>Possession</td>\n",
       "      <td>40.765094</td>\n",
       "      <td>-73.991502</td>\n",
       "      <td>135.0</td>\n",
       "      <td>1083800.0</td>\n",
       "      <td>1.010799e+09</td>\n",
       "      <td>Clinton</td>\n",
       "    </tr>\n",
       "    <tr>\n",
       "      <th>8802</th>\n",
       "      <td>71366/16</td>\n",
       "      <td>7567</td>\n",
       "      <td>70-20 261 STREET</td>\n",
       "      <td>unknown</td>\n",
       "      <td>2017-01-03</td>\n",
       "      <td>QUEENS</td>\n",
       "      <td>11004</td>\n",
       "      <td>Not an Ejectment</td>\n",
       "      <td>Possession</td>\n",
       "      <td>40.753507</td>\n",
       "      <td>-73.718358</td>\n",
       "      <td>155102.0</td>\n",
       "      <td>4459247.0</td>\n",
       "      <td>4.084430e+09</td>\n",
       "      <td>Glen Oaks-Floral Park-New Hyde Park</td>\n",
       "    </tr>\n",
       "    <tr>\n",
       "      <th>25901</th>\n",
       "      <td>N061066/09</td>\n",
       "      <td>373033</td>\n",
       "      <td>4-6 WEST 105TH STREET</td>\n",
       "      <td>4A</td>\n",
       "      <td>2017-01-03</td>\n",
       "      <td>MANHATTAN</td>\n",
       "      <td>10025</td>\n",
       "      <td>Not an Ejectment</td>\n",
       "      <td>Possession</td>\n",
       "      <td>40.797472</td>\n",
       "      <td>-73.960791</td>\n",
       "      <td>189.0</td>\n",
       "      <td>1055498.0</td>\n",
       "      <td>1.018400e+09</td>\n",
       "      <td>Upper West Side</td>\n",
       "    </tr>\n",
       "    <tr>\n",
       "      <th>...</th>\n",
       "      <td>...</td>\n",
       "      <td>...</td>\n",
       "      <td>...</td>\n",
       "      <td>...</td>\n",
       "      <td>...</td>\n",
       "      <td>...</td>\n",
       "      <td>...</td>\n",
       "      <td>...</td>\n",
       "      <td>...</td>\n",
       "      <td>...</td>\n",
       "      <td>...</td>\n",
       "      <td>...</td>\n",
       "      <td>...</td>\n",
       "      <td>...</td>\n",
       "      <td>...</td>\n",
       "    </tr>\n",
       "    <tr>\n",
       "      <th>75414</th>\n",
       "      <td>308123/24</td>\n",
       "      <td>23218</td>\n",
       "      <td>45 BRADHURST AVENUE APT 1</td>\n",
       "      <td>1</td>\n",
       "      <td>2024-12-26</td>\n",
       "      <td>MANHATTAN</td>\n",
       "      <td>10030</td>\n",
       "      <td>Not an Ejectment</td>\n",
       "      <td>Possession</td>\n",
       "      <td>40.822848</td>\n",
       "      <td>-73.943318</td>\n",
       "      <td>227.0</td>\n",
       "      <td>1061113.0</td>\n",
       "      <td>1.020510e+09</td>\n",
       "      <td>Hamilton Heights</td>\n",
       "    </tr>\n",
       "    <tr>\n",
       "      <th>78140</th>\n",
       "      <td>314456/24</td>\n",
       "      <td>22735</td>\n",
       "      <td>370 WEST 52ND STREET APT 3-B</td>\n",
       "      <td>3-B</td>\n",
       "      <td>2024-12-26</td>\n",
       "      <td>MANHATTAN</td>\n",
       "      <td>10019</td>\n",
       "      <td>Not an Ejectment</td>\n",
       "      <td>Possession</td>\n",
       "      <td>40.764435</td>\n",
       "      <td>-73.987336</td>\n",
       "      <td>133.0</td>\n",
       "      <td>1078889.0</td>\n",
       "      <td>1.010420e+09</td>\n",
       "      <td>Clinton</td>\n",
       "    </tr>\n",
       "    <tr>\n",
       "      <th>39261</th>\n",
       "      <td>308611/20</td>\n",
       "      <td>21653</td>\n",
       "      <td>1629 ST JOHNS PLACE APT. 4F</td>\n",
       "      <td>4F</td>\n",
       "      <td>2024-12-27</td>\n",
       "      <td>BROOKLYN</td>\n",
       "      <td>11233</td>\n",
       "      <td>Not an Ejectment</td>\n",
       "      <td>Possession</td>\n",
       "      <td>40.670179</td>\n",
       "      <td>-73.923408</td>\n",
       "      <td>359.0</td>\n",
       "      <td>3036936.0</td>\n",
       "      <td>3.013810e+09</td>\n",
       "      <td>Crown Heights North</td>\n",
       "    </tr>\n",
       "    <tr>\n",
       "      <th>71721</th>\n",
       "      <td>306966/24</td>\n",
       "      <td>22953</td>\n",
       "      <td>119 BAXTER STREET APARTMENT 8R</td>\n",
       "      <td>8R</td>\n",
       "      <td>2024-12-27</td>\n",
       "      <td>MANHATTAN</td>\n",
       "      <td>10013</td>\n",
       "      <td>Not an Ejectment</td>\n",
       "      <td>Possession</td>\n",
       "      <td>40.718065</td>\n",
       "      <td>-73.998975</td>\n",
       "      <td>41.0</td>\n",
       "      <td>1079542.0</td>\n",
       "      <td>1.002060e+09</td>\n",
       "      <td>SoHo-TriBeCa-Civic Center-Little Italy</td>\n",
       "    </tr>\n",
       "    <tr>\n",
       "      <th>79105</th>\n",
       "      <td>423/24</td>\n",
       "      <td>21979</td>\n",
       "      <td>735 WEST 172 STREET APT. 1A</td>\n",
       "      <td>1A</td>\n",
       "      <td>2024-12-30</td>\n",
       "      <td>MANHATTAN</td>\n",
       "      <td>10032</td>\n",
       "      <td>Not an Ejectment</td>\n",
       "      <td>Possession</td>\n",
       "      <td>40.844948</td>\n",
       "      <td>-73.941398</td>\n",
       "      <td>255.0</td>\n",
       "      <td>1063439.0</td>\n",
       "      <td>1.021390e+09</td>\n",
       "      <td>Washington Heights South</td>\n",
       "    </tr>\n",
       "  </tbody>\n",
       "</table>\n",
       "<p>80477 rows × 15 columns</p>\n",
       "</div>\n",
       "    <div class=\"colab-df-buttons\">\n",
       "\n",
       "  <div class=\"colab-df-container\">\n",
       "    <button class=\"colab-df-convert\" onclick=\"convertToInteractive('df-ccbe1f83-97d9-493e-8108-d992af41c694')\"\n",
       "            title=\"Convert this dataframe to an interactive table.\"\n",
       "            style=\"display:none;\">\n",
       "\n",
       "  <svg xmlns=\"http://www.w3.org/2000/svg\" height=\"24px\" viewBox=\"0 -960 960 960\">\n",
       "    <path d=\"M120-120v-720h720v720H120Zm60-500h600v-160H180v160Zm220 220h160v-160H400v160Zm0 220h160v-160H400v160ZM180-400h160v-160H180v160Zm440 0h160v-160H620v160ZM180-180h160v-160H180v160Zm440 0h160v-160H620v160Z\"/>\n",
       "  </svg>\n",
       "    </button>\n",
       "\n",
       "  <style>\n",
       "    .colab-df-container {\n",
       "      display:flex;\n",
       "      gap: 12px;\n",
       "    }\n",
       "\n",
       "    .colab-df-convert {\n",
       "      background-color: #E8F0FE;\n",
       "      border: none;\n",
       "      border-radius: 50%;\n",
       "      cursor: pointer;\n",
       "      display: none;\n",
       "      fill: #1967D2;\n",
       "      height: 32px;\n",
       "      padding: 0 0 0 0;\n",
       "      width: 32px;\n",
       "    }\n",
       "\n",
       "    .colab-df-convert:hover {\n",
       "      background-color: #E2EBFA;\n",
       "      box-shadow: 0px 1px 2px rgba(60, 64, 67, 0.3), 0px 1px 3px 1px rgba(60, 64, 67, 0.15);\n",
       "      fill: #174EA6;\n",
       "    }\n",
       "\n",
       "    .colab-df-buttons div {\n",
       "      margin-bottom: 4px;\n",
       "    }\n",
       "\n",
       "    [theme=dark] .colab-df-convert {\n",
       "      background-color: #3B4455;\n",
       "      fill: #D2E3FC;\n",
       "    }\n",
       "\n",
       "    [theme=dark] .colab-df-convert:hover {\n",
       "      background-color: #434B5C;\n",
       "      box-shadow: 0px 1px 3px 1px rgba(0, 0, 0, 0.15);\n",
       "      filter: drop-shadow(0px 1px 2px rgba(0, 0, 0, 0.3));\n",
       "      fill: #FFFFFF;\n",
       "    }\n",
       "  </style>\n",
       "\n",
       "    <script>\n",
       "      const buttonEl =\n",
       "        document.querySelector('#df-ccbe1f83-97d9-493e-8108-d992af41c694 button.colab-df-convert');\n",
       "      buttonEl.style.display =\n",
       "        google.colab.kernel.accessAllowed ? 'block' : 'none';\n",
       "\n",
       "      async function convertToInteractive(key) {\n",
       "        const element = document.querySelector('#df-ccbe1f83-97d9-493e-8108-d992af41c694');\n",
       "        const dataTable =\n",
       "          await google.colab.kernel.invokeFunction('convertToInteractive',\n",
       "                                                    [key], {});\n",
       "        if (!dataTable) return;\n",
       "\n",
       "        const docLinkHtml = 'Like what you see? Visit the ' +\n",
       "          '<a target=\"_blank\" href=https://colab.research.google.com/notebooks/data_table.ipynb>data table notebook</a>'\n",
       "          + ' to learn more about interactive tables.';\n",
       "        element.innerHTML = '';\n",
       "        dataTable['output_type'] = 'display_data';\n",
       "        await google.colab.output.renderOutput(dataTable, element);\n",
       "        const docLink = document.createElement('div');\n",
       "        docLink.innerHTML = docLinkHtml;\n",
       "        element.appendChild(docLink);\n",
       "      }\n",
       "    </script>\n",
       "  </div>\n",
       "\n",
       "\n",
       "<div id=\"df-df781f32-5d39-4d95-8de7-5cc851a34b0d\">\n",
       "  <button class=\"colab-df-quickchart\" onclick=\"quickchart('df-df781f32-5d39-4d95-8de7-5cc851a34b0d')\"\n",
       "            title=\"Suggest charts\"\n",
       "            style=\"display:none;\">\n",
       "\n",
       "<svg xmlns=\"http://www.w3.org/2000/svg\" height=\"24px\"viewBox=\"0 0 24 24\"\n",
       "     width=\"24px\">\n",
       "    <g>\n",
       "        <path d=\"M19 3H5c-1.1 0-2 .9-2 2v14c0 1.1.9 2 2 2h14c1.1 0 2-.9 2-2V5c0-1.1-.9-2-2-2zM9 17H7v-7h2v7zm4 0h-2V7h2v10zm4 0h-2v-4h2v4z\"/>\n",
       "    </g>\n",
       "</svg>\n",
       "  </button>\n",
       "\n",
       "<style>\n",
       "  .colab-df-quickchart {\n",
       "      --bg-color: #E8F0FE;\n",
       "      --fill-color: #1967D2;\n",
       "      --hover-bg-color: #E2EBFA;\n",
       "      --hover-fill-color: #174EA6;\n",
       "      --disabled-fill-color: #AAA;\n",
       "      --disabled-bg-color: #DDD;\n",
       "  }\n",
       "\n",
       "  [theme=dark] .colab-df-quickchart {\n",
       "      --bg-color: #3B4455;\n",
       "      --fill-color: #D2E3FC;\n",
       "      --hover-bg-color: #434B5C;\n",
       "      --hover-fill-color: #FFFFFF;\n",
       "      --disabled-bg-color: #3B4455;\n",
       "      --disabled-fill-color: #666;\n",
       "  }\n",
       "\n",
       "  .colab-df-quickchart {\n",
       "    background-color: var(--bg-color);\n",
       "    border: none;\n",
       "    border-radius: 50%;\n",
       "    cursor: pointer;\n",
       "    display: none;\n",
       "    fill: var(--fill-color);\n",
       "    height: 32px;\n",
       "    padding: 0;\n",
       "    width: 32px;\n",
       "  }\n",
       "\n",
       "  .colab-df-quickchart:hover {\n",
       "    background-color: var(--hover-bg-color);\n",
       "    box-shadow: 0 1px 2px rgba(60, 64, 67, 0.3), 0 1px 3px 1px rgba(60, 64, 67, 0.15);\n",
       "    fill: var(--button-hover-fill-color);\n",
       "  }\n",
       "\n",
       "  .colab-df-quickchart-complete:disabled,\n",
       "  .colab-df-quickchart-complete:disabled:hover {\n",
       "    background-color: var(--disabled-bg-color);\n",
       "    fill: var(--disabled-fill-color);\n",
       "    box-shadow: none;\n",
       "  }\n",
       "\n",
       "  .colab-df-spinner {\n",
       "    border: 2px solid var(--fill-color);\n",
       "    border-color: transparent;\n",
       "    border-bottom-color: var(--fill-color);\n",
       "    animation:\n",
       "      spin 1s steps(1) infinite;\n",
       "  }\n",
       "\n",
       "  @keyframes spin {\n",
       "    0% {\n",
       "      border-color: transparent;\n",
       "      border-bottom-color: var(--fill-color);\n",
       "      border-left-color: var(--fill-color);\n",
       "    }\n",
       "    20% {\n",
       "      border-color: transparent;\n",
       "      border-left-color: var(--fill-color);\n",
       "      border-top-color: var(--fill-color);\n",
       "    }\n",
       "    30% {\n",
       "      border-color: transparent;\n",
       "      border-left-color: var(--fill-color);\n",
       "      border-top-color: var(--fill-color);\n",
       "      border-right-color: var(--fill-color);\n",
       "    }\n",
       "    40% {\n",
       "      border-color: transparent;\n",
       "      border-right-color: var(--fill-color);\n",
       "      border-top-color: var(--fill-color);\n",
       "    }\n",
       "    60% {\n",
       "      border-color: transparent;\n",
       "      border-right-color: var(--fill-color);\n",
       "    }\n",
       "    80% {\n",
       "      border-color: transparent;\n",
       "      border-right-color: var(--fill-color);\n",
       "      border-bottom-color: var(--fill-color);\n",
       "    }\n",
       "    90% {\n",
       "      border-color: transparent;\n",
       "      border-bottom-color: var(--fill-color);\n",
       "    }\n",
       "  }\n",
       "</style>\n",
       "\n",
       "  <script>\n",
       "    async function quickchart(key) {\n",
       "      const quickchartButtonEl =\n",
       "        document.querySelector('#' + key + ' button');\n",
       "      quickchartButtonEl.disabled = true;  // To prevent multiple clicks.\n",
       "      quickchartButtonEl.classList.add('colab-df-spinner');\n",
       "      try {\n",
       "        const charts = await google.colab.kernel.invokeFunction(\n",
       "            'suggestCharts', [key], {});\n",
       "      } catch (error) {\n",
       "        console.error('Error during call to suggestCharts:', error);\n",
       "      }\n",
       "      quickchartButtonEl.classList.remove('colab-df-spinner');\n",
       "      quickchartButtonEl.classList.add('colab-df-quickchart-complete');\n",
       "    }\n",
       "    (() => {\n",
       "      let quickchartButtonEl =\n",
       "        document.querySelector('#df-df781f32-5d39-4d95-8de7-5cc851a34b0d button');\n",
       "      quickchartButtonEl.style.display =\n",
       "        google.colab.kernel.accessAllowed ? 'block' : 'none';\n",
       "    })();\n",
       "  </script>\n",
       "</div>\n",
       "\n",
       "  <div id=\"id_f32cdaa3-3a4a-404b-9c61-e0c05a8e1790\">\n",
       "    <style>\n",
       "      .colab-df-generate {\n",
       "        background-color: #E8F0FE;\n",
       "        border: none;\n",
       "        border-radius: 50%;\n",
       "        cursor: pointer;\n",
       "        display: none;\n",
       "        fill: #1967D2;\n",
       "        height: 32px;\n",
       "        padding: 0 0 0 0;\n",
       "        width: 32px;\n",
       "      }\n",
       "\n",
       "      .colab-df-generate:hover {\n",
       "        background-color: #E2EBFA;\n",
       "        box-shadow: 0px 1px 2px rgba(60, 64, 67, 0.3), 0px 1px 3px 1px rgba(60, 64, 67, 0.15);\n",
       "        fill: #174EA6;\n",
       "      }\n",
       "\n",
       "      [theme=dark] .colab-df-generate {\n",
       "        background-color: #3B4455;\n",
       "        fill: #D2E3FC;\n",
       "      }\n",
       "\n",
       "      [theme=dark] .colab-df-generate:hover {\n",
       "        background-color: #434B5C;\n",
       "        box-shadow: 0px 1px 3px 1px rgba(0, 0, 0, 0.15);\n",
       "        filter: drop-shadow(0px 1px 2px rgba(0, 0, 0, 0.3));\n",
       "        fill: #FFFFFF;\n",
       "      }\n",
       "    </style>\n",
       "    <button class=\"colab-df-generate\" onclick=\"generateWithVariable('sorted_df')\"\n",
       "            title=\"Generate code using this dataframe.\"\n",
       "            style=\"display:none;\">\n",
       "\n",
       "  <svg xmlns=\"http://www.w3.org/2000/svg\" height=\"24px\"viewBox=\"0 0 24 24\"\n",
       "       width=\"24px\">\n",
       "    <path d=\"M7,19H8.4L18.45,9,17,7.55,7,17.6ZM5,21V16.75L18.45,3.32a2,2,0,0,1,2.83,0l1.4,1.43a1.91,1.91,0,0,1,.58,1.4,1.91,1.91,0,0,1-.58,1.4L9.25,21ZM18.45,9,17,7.55Zm-12,3A5.31,5.31,0,0,0,4.9,8.1,5.31,5.31,0,0,0,1,6.5,5.31,5.31,0,0,0,4.9,4.9,5.31,5.31,0,0,0,6.5,1,5.31,5.31,0,0,0,8.1,4.9,5.31,5.31,0,0,0,12,6.5,5.46,5.46,0,0,0,6.5,12Z\"/>\n",
       "  </svg>\n",
       "    </button>\n",
       "    <script>\n",
       "      (() => {\n",
       "      const buttonEl =\n",
       "        document.querySelector('#id_f32cdaa3-3a4a-404b-9c61-e0c05a8e1790 button.colab-df-generate');\n",
       "      buttonEl.style.display =\n",
       "        google.colab.kernel.accessAllowed ? 'block' : 'none';\n",
       "\n",
       "      buttonEl.onclick = () => {\n",
       "        google.colab.notebook.generateWithVariable('sorted_df');\n",
       "      }\n",
       "      })();\n",
       "    </script>\n",
       "  </div>\n",
       "\n",
       "    </div>\n",
       "  </div>\n"
      ],
      "text/plain": [
       "      court_index_number  docket_number                eviction_address  \\\n",
       "46638          4150/15EJ         454323          3278 KINGSLAND AVENU E   \n",
       "30294           29475/16         324496               2861 GRACE AVENUE   \n",
       "15599           68328/16         459862                 747 10TH AVENUE   \n",
       "8802            71366/16           7567                70-20 261 STREET   \n",
       "25901         N061066/09         373033           4-6 WEST 105TH STREET   \n",
       "...                  ...            ...                             ...   \n",
       "75414          308123/24          23218       45 BRADHURST AVENUE APT 1   \n",
       "78140          314456/24          22735    370 WEST 52ND STREET APT 3-B   \n",
       "39261          308611/20          21653     1629 ST JOHNS PLACE APT. 4F   \n",
       "71721          306966/24          22953  119 BAXTER STREET APARTMENT 8R   \n",
       "79105             423/24          21979     735 WEST 172 STREET APT. 1A   \n",
       "\n",
       "      eviction_apartment_number executed_date    borough  eviction_postcode  \\\n",
       "46638                         *    2017-01-03      BRONX              10469   \n",
       "30294                         2    2017-01-03      BRONX              10469   \n",
       "15599                       17D    2017-01-03  MANHATTAN              10019   \n",
       "8802                    unknown    2017-01-03     QUEENS              11004   \n",
       "25901                        4A    2017-01-03  MANHATTAN              10025   \n",
       "...                         ...           ...        ...                ...   \n",
       "75414                         1    2024-12-26  MANHATTAN              10030   \n",
       "78140                       3-B    2024-12-26  MANHATTAN              10019   \n",
       "39261                        4F    2024-12-27   BROOKLYN              11233   \n",
       "71721                        8R    2024-12-27  MANHATTAN              10013   \n",
       "79105                        1A    2024-12-30  MANHATTAN              10032   \n",
       "\n",
       "              ejectment eviction/legal_possession   latitude  longitude  \\\n",
       "46638         Ejectment                Possession  40.875117 -73.843328   \n",
       "30294  Not an Ejectment                Possession  40.869247 -73.834603   \n",
       "15599  Not an Ejectment                Possession  40.765094 -73.991502   \n",
       "8802   Not an Ejectment                Possession  40.753507 -73.718358   \n",
       "25901  Not an Ejectment                Possession  40.797472 -73.960791   \n",
       "...                 ...                       ...        ...        ...   \n",
       "75414  Not an Ejectment                Possession  40.822848 -73.943318   \n",
       "78140  Not an Ejectment                Possession  40.764435 -73.987336   \n",
       "39261  Not an Ejectment                Possession  40.670179 -73.923408   \n",
       "71721  Not an Ejectment                Possession  40.718065 -73.998975   \n",
       "79105  Not an Ejectment                Possession  40.844948 -73.941398   \n",
       "\n",
       "       census_tract        bin           bbl  \\\n",
       "46638         358.0  2061514.0  2.047520e+09   \n",
       "30294       46202.0  2114011.0  2.047990e+09   \n",
       "15599         135.0  1083800.0  1.010799e+09   \n",
       "8802       155102.0  4459247.0  4.084430e+09   \n",
       "25901         189.0  1055498.0  1.018400e+09   \n",
       "...             ...        ...           ...   \n",
       "75414         227.0  1061113.0  1.020510e+09   \n",
       "78140         133.0  1078889.0  1.010420e+09   \n",
       "39261         359.0  3036936.0  3.013810e+09   \n",
       "71721          41.0  1079542.0  1.002060e+09   \n",
       "79105         255.0  1063439.0  1.021390e+09   \n",
       "\n",
       "                                          nta  \n",
       "46638         Eastchester-Edenwald-Baychester  \n",
       "30294                              Co-op City  \n",
       "15599                                 Clinton  \n",
       "8802      Glen Oaks-Floral Park-New Hyde Park  \n",
       "25901                         Upper West Side  \n",
       "...                                       ...  \n",
       "75414                        Hamilton Heights  \n",
       "78140                                 Clinton  \n",
       "39261                     Crown Heights North  \n",
       "71721  SoHo-TriBeCa-Civic Center-Little Italy  \n",
       "79105                Washington Heights South  \n",
       "\n",
       "[80477 rows x 15 columns]"
      ]
     },
     "execution_count": 299,
     "metadata": {},
     "output_type": "execute_result"
    }
   ],
   "source": [
    "sorted_df"
   ]
  },
  {
   "cell_type": "code",
   "execution_count": 315,
   "metadata": {
    "colab": {
     "base_uri": "https://localhost:8080/"
    },
    "id": "cWlUAyQYh8nY",
    "outputId": "632f5966-aec9-482a-ba91-9f5162f90528"
   },
   "outputs": [
    {
     "name": "stdout",
     "output_type": "stream",
     "text": [
      "<class 'pandas.core.frame.DataFrame'>\n",
      "Index: 80477 entries, 7797 to 21704\n",
      "Data columns (total 16 columns):\n",
      " #   Column                     Non-Null Count  Dtype         \n",
      "---  ------                     --------------  -----         \n",
      " 0   court_index_number         80477 non-null  object        \n",
      " 1   docket_number              80477 non-null  int64         \n",
      " 2   eviction_address           80477 non-null  object        \n",
      " 3   eviction_apartment_number  80477 non-null  object        \n",
      " 4   executed_date              80477 non-null  datetime64[ns]\n",
      " 5   borough                    80477 non-null  object        \n",
      " 6   eviction_postcode          80477 non-null  int64         \n",
      " 7   ejectment                  80477 non-null  object        \n",
      " 8   eviction/legal_possession  80477 non-null  object        \n",
      " 9   latitude                   80477 non-null  float64       \n",
      " 10  longitude                  80477 non-null  float64       \n",
      " 11  census_tract               80477 non-null  float64       \n",
      " 12  bin                        80477 non-null  float64       \n",
      " 13  bbl                        80477 non-null  float64       \n",
      " 14  nta                        80477 non-null  object        \n",
      " 15  year                       80477 non-null  int32         \n",
      "dtypes: datetime64[ns](1), float64(5), int32(1), int64(2), object(7)\n",
      "memory usage: 10.1+ MB\n"
     ]
    },
    {
     "data": {
      "text/plain": [
       "((80477, 16), None)"
      ]
     },
     "execution_count": 315,
     "metadata": {},
     "output_type": "execute_result"
    }
   ],
   "source": [
    "# final eviction df sanity check\n",
    "evictions_df.shape, \\\n",
    "evictions_df.info()"
   ]
  },
  {
   "cell_type": "code",
   "execution_count": null,
   "metadata": {
    "id": "g7T1UCXmii7Y"
   },
   "outputs": [],
   "source": [
    "# evictions_df.head()"
   ]
  },
  {
   "cell_type": "code",
   "execution_count": 316,
   "metadata": {
    "id": "Qxzbe__tithq"
   },
   "outputs": [],
   "source": [
    "# save cleaned evictions data to my drive\n",
    "sorted_df.to_csv('/content/drive/My Drive/X999/evictions_df_cleaned.csv', index=False)"
   ]
  },
  {
   "cell_type": "markdown",
   "metadata": {
    "id": "exIvipCB15-2"
   },
   "source": [
    "#### For the write-up: do a check on each year's eviction numbers"
   ]
  },
  {
   "cell_type": "code",
   "execution_count": 302,
   "metadata": {
    "colab": {
     "base_uri": "https://localhost:8080/"
    },
    "id": "XCTvo7z51t45",
    "outputId": "82c8e24e-72f6-41eb-f3be-1acaa68759e3"
   },
   "outputs": [
    {
     "name": "stdout",
     "output_type": "stream",
     "text": [
      "2017 18041\n",
      "2018 17193\n",
      "2019 14789\n",
      "2020 2672\n",
      "2021 123\n",
      "2022 3587\n",
      "2023 10598\n",
      "2024 13474\n"
     ]
    }
   ],
   "source": [
    "evictions_df['year'] = evictions_df['executed_date'].dt.year\n",
    "df_2017 = evictions_df[evictions_df['year'] == 2017]\n",
    "print(\"2017\", len(df_2017))\n",
    "df_2018 = evictions_df[evictions_df['year'] == 2018]\n",
    "print(\"2018\", len(df_2018))\n",
    "df_2019 = evictions_df[evictions_df['year'] == 2019]\n",
    "print(\"2019\", len(df_2019))\n",
    "df_2020 = evictions_df[evictions_df['year'] == 2020]\n",
    "print(\"2020\", len(df_2020))\n",
    "df_2021 = evictions_df[evictions_df['year'] == 2021]\n",
    "print(\"2021\", len(df_2021))\n",
    "df_2022 = evictions_df[evictions_df['year'] == 2022]\n",
    "print(\"2022\", len(df_2022))\n",
    "df_2023 = evictions_df[evictions_df['year'] == 2023]\n",
    "print(\"2023\", len(df_2023))\n",
    "df_2024 = evictions_df[evictions_df['year'] == 2024]\n",
    "print(\"2024\", len(df_2024))"
   ]
  },
  {
   "cell_type": "code",
   "execution_count": 314,
   "metadata": {
    "colab": {
     "base_uri": "https://localhost:8080/",
     "height": 606
    },
    "id": "YJGYQDHz2Gp4",
    "outputId": "2e1d6670-1482-4e78-c105-b5fb2e1b5a64"
   },
   "outputs": [
    {
     "data": {
      "image/png": "[encoded data removed]",
      "text/plain": [
       "<Figure size 1200x600 with 1 Axes>"
      ]
     },
     "metadata": {},
     "output_type": "display_data"
    }
   ],
   "source": [
    "# count evictions by year\n",
    "yearly_counts = evictions_df.groupby(evictions_df['executed_date'].dt.year).size()\n",
    "fig, ax = plt.subplots(figsize=(12, 6))\n",
    "bars = ax.bar(yearly_counts.index, yearly_counts.values, color='blue', alpha=0.7)\n",
    "ax.plot(yearly_counts.index, yearly_counts.values, color='red', marker='o', linewidth=2, markersize=8)\n",
    "\n",
    "# plot\n",
    "plt.title('Number of evictions by year from 2017 2024', fontsize=14, pad=20)\n",
    "plt.xlabel('year', fontsize=12)\n",
    "plt.ylabel('number of evictions', fontsize=12)\n",
    "plt.grid(axis='y', linestyle='--', alpha=0.2)\n",
    "plt.xticks(yearly_counts.index, rotation=45)\n",
    "\n",
    "# value labels\n",
    "for i, v in enumerate(yearly_counts):\n",
    "    ax.text(yearly_counts.index[i], v, str(v),\n",
    "            ha='center', va='bottom',\n",
    "            fontweight='bold')\n",
    "\n",
    "plt.tight_layout()\n",
    "plt.show()"
   ]
  },
  {
   "cell_type": "code",
   "execution_count": 313,
   "metadata": {
    "colab": {
     "base_uri": "https://localhost:8080/"
    },
    "id": "twZ8xQsj4rH5",
    "outputId": "0c3945ed-72f9-4160-b993-8da4d37847e7"
   },
   "outputs": [
    {
     "name": "stdout",
     "output_type": "stream",
     "text": [
      "Evictions per year:\n",
      "executed_date\n",
      "2017    18041\n",
      "2018    17193\n",
      "2019    14789\n",
      "2020     2672\n",
      "2021      123\n",
      "2022     3587\n",
      "2023    10598\n",
      "2024    13474\n",
      "dtype: int64\n"
     ]
    }
   ],
   "source": [
    "print(\"Evictions per year:\")\n",
    "print(yearly_counts)"
   ]
  },
  {
   "cell_type": "code",
   "execution_count": null,
   "metadata": {
    "id": "d2GlsK0W-TSE"
   },
   "outputs": [],
   "source": []
  }
 ],
 "metadata": {
  "colab": {
   "provenance": []
  },
  "kernelspec": {
   "display_name": "Python 3 (ipykernel)",
   "language": "python",
   "name": "python3"
  },
  "language_info": {
   "codemirror_mode": {
    "name": "ipython",
    "version": 3
   },
   "file_extension": ".py",
   "mimetype": "text/x-python",
   "name": "python",
   "nbconvert_exporter": "python",
   "pygments_lexer": "ipython3",
   "version": "3.11.0"
  }
 },
 "nbformat": 4,
 "nbformat_minor": 0
}
