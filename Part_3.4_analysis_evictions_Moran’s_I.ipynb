{
 "cells": [
  {
   "cell_type": "markdown",
   "metadata": {
    "id": "0LrSmTK1hXik"
   },
   "source": [
    "# Introduction\n",
    "\n",
    "In this notebook, we apply Moran’s I to quantify the spatial autocorrelation. We then use folium map to see the spatial clusters, which highlight neighborhoods based on their eviction patterns: top 20%, above median, low eviction/mode. The viz offers a clear view of how eviction rates are geographically distributed.\n",
    "\n",
    "Then, we used queen and rook methods. Both methods' moran's I are around 0.84, indicating a strong positive spatial autocorrelation. The p-values in both cases are also 0.001, further confirming the statistical significance of the spatial clustering pattern. Therefore, safe to conclude eviction data in nyc are geographically concentrated,"
   ]
  },
  {
   "cell_type": "code",
   "execution_count": 2,
   "metadata": {
    "id": "8BDmR5z23Lgw"
   },
   "outputs": [],
   "source": [
    "# !pip install geopandas folium matplotlib seaborn scipy\n",
    "# !pip install esda\n",
    "# !pip install splot\n",
    "# # for google colab, had to reinstall some pacakges."
   ]
  },
  {
   "cell_type": "code",
   "execution_count": null,
   "metadata": {
    "id": "rOCrbQvHzouc"
   },
   "outputs": [],
   "source": [
    "# !pip install geopandas folium matplotlib seaborn scipy esda splot"
   ]
  },
  {
   "cell_type": "code",
   "execution_count": 3,
   "metadata": {
    "id": "nAmNEs6wVScC"
   },
   "outputs": [],
   "source": [
    "import pandas as pd\n",
    "import geopandas as gpd\n",
    "import numpy as np\n",
    "import datetime as dt\n",
    "import scipy\n",
    "\n",
    "# sklearn stuff\n",
    "from sklearn.cluster import DBSCAN\n",
    "from sklearn.cluster import KMeans\n",
    "from sklearn.preprocessing import StandardScaler\n",
    "from sklearn.metrics import silhouette_score\n",
    "\n",
    "# visualization\n",
    "import matplotlib.pyplot as plt\n",
    "from matplotlib import colors as mcolors\n",
    "import seaborn as sns\n",
    "import folium\n",
    "from folium.plugins import HeatMap\n",
    "from folium import Marker\n",
    "from folium.plugins import MarkerCluster\n",
    "import plotly.express as px\n",
    "import plotly.io as pio\n",
    "\n",
    "# spatial statistics\n",
    "from esda.moran import Moran\n",
    "from esda.getisord import G_Local\n",
    "from shapely.geometry import Point\n",
    "from libpysal.weights import Queen, Rook\n",
    "\n",
    "# system and utility\n",
    "import warnings\n",
    "import os\n",
    "import io\n",
    "from IPython.display import IFrame\n",
    "from google.colab import files\n",
    "\n",
    "from libpysal.weights import Queen, Rook\n",
    "from esda.moran import Moran\n",
    "import matplotlib.pyplot as plt\n",
    "from splot.esda import moran_scatterplot\n",
    "\n",
    "# suppress warnings\n",
    "warnings.filterwarnings('ignore')\n",
    "\n",
    "# inline\n",
    "%matplotlib inline"
   ]
  },
  {
   "cell_type": "markdown",
   "metadata": {
    "id": "mdu1MZ4dafhf"
   },
   "source": [
    "# Part 1: Get the data"
   ]
  },
  {
   "cell_type": "code",
   "execution_count": 4,
   "metadata": {
    "colab": {
     "base_uri": "https://localhost:8080/"
    },
    "id": "fVLfYL7LWCKH",
    "outputId": "2c806af8-55d0-4a54-8edd-942720e6558e"
   },
   "outputs": [
    {
     "name": "stdout",
     "output_type": "stream",
     "text": [
      "Mounted at /content/drive\n"
     ]
    }
   ],
   "source": [
    "from google.colab import drive\n",
    "drive.mount('/content/drive')"
   ]
  },
  {
   "cell_type": "code",
   "execution_count": 9,
   "metadata": {
    "id": "qpFrBTBgxVNg"
   },
   "outputs": [],
   "source": [
    "# data source:\n",
    "# already cleaned gdf\n",
    "# file_path = '/content/drive/My Drive/X999/evictions_cleaned.csv'\n",
    "file_path1 = '/content/drive/My Drive/X999/evictions_covid.csv'\n",
    "file_path2 = '/content/drive/My Drive/X999/evictions_pre_post_covid.csv'"
   ]
  },
  {
   "cell_type": "code",
   "execution_count": 10,
   "metadata": {
    "id": "euMz6qtOA-Re"
   },
   "outputs": [],
   "source": [
    "evictions_covid_raw = pd.read_csv(file_path1)\n",
    "eviction_pre_post_covid_raw = pd.read_csv(file_path2)"
   ]
  },
  {
   "cell_type": "code",
   "execution_count": 11,
   "metadata": {
    "id": "-nNgSlMwskhZ"
   },
   "outputs": [],
   "source": [
    "evictions_covid = evictions_covid_raw.copy()\n",
    "eviction_pre_post_covid = eviction_pre_post_covid_raw.copy()\n",
    "# easier to work around with a copy"
   ]
  },
  {
   "cell_type": "markdown",
   "metadata": {
    "id": "y-0SVBTvkxbI"
   },
   "source": [
    "# Part 4: Clustering Analysis"
   ]
  },
  {
   "cell_type": "markdown",
   "metadata": {
    "id": "Vhgiu23NligR"
   },
   "source": [
    "## Part 4.1 Moran's I analysis:"
   ]
  },
  {
   "cell_type": "markdown",
   "metadata": {
    "id": "1APRrmKMcDRt"
   },
   "source": [
    "- Moran’s I Value: it ranges from -1 (perfect dispersion) to +1 (perfect clustering), with 0 indicating random spatial distribution.\n",
    "- p-value: indicates the statistical significance of the result. A low p-value (here we want < 0.05) suggests that the observed spatial pattern is unlikely to have occurred by chance.\n",
    "- only using DCSCAN clusters for later analysis\n",
    "\n",
    "source: https://www.statisticshowto.com/morans-i/"
   ]
  },
  {
   "cell_type": "code",
   "execution_count": 14,
   "metadata": {
    "colab": {
     "base_uri": "https://localhost:8080/"
    },
    "id": "PnKR4FPxbJfW",
    "outputId": "ee705a98-94c4-4e16-ca11-5545c38b6a04"
   },
   "outputs": [
    {
     "data": {
      "text/plain": [
       "(Index(['court_index_number', 'docket_number', 'eviction_address',\n",
       "        'eviction_apartment_number', 'executed_date', 'borough',\n",
       "        'eviction_postcode', 'ejectment', 'eviction/legal_possession',\n",
       "        'latitude', 'longitude', 'community_board', 'council_district',\n",
       "        'census_tract', 'bin', 'bbl', 'nta', 'geometry', 'eviction_count',\n",
       "        'year', 'average_year_eviction_count'],\n",
       "       dtype='object'),\n",
       " Index(['court_index_number', 'docket_number', 'eviction_address',\n",
       "        'eviction_apartment_number', 'executed_date', 'borough',\n",
       "        'eviction_postcode', 'ejectment', 'eviction/legal_possession',\n",
       "        'latitude', 'longitude', 'community_board', 'council_district',\n",
       "        'census_tract', 'bin', 'bbl', 'nta', 'geometry', 'eviction_count',\n",
       "        'year', 'average_year_eviction_count'],\n",
       "       dtype='object'))"
      ]
     },
     "execution_count": 14,
     "metadata": {},
     "output_type": "execute_result"
    }
   ],
   "source": [
    "evictions_covid.columns, \\\n",
    "eviction_pre_post_covid.columns"
   ]
  },
  {
   "cell_type": "code",
   "execution_count": 17,
   "metadata": {
    "id": "vjMsW30DbfwP"
   },
   "outputs": [],
   "source": [
    "# re-touch the data for further analysis\n",
    "k_covid = 2 # as decided by DBSCAN\n",
    "evictions_covid['latitude'] = evictions_covid['latitude'].astype(float)\n",
    "evictions_covid['longitude'] = evictions_covid['longitude'].astype(float)\n",
    "evictions_covid['geometry'] = evictions_covid.apply(lambda row: Point(row['longitude'], row['latitude']), axis=1)\n",
    "# gdf = gpd.GeoDataFrame(evictions_cleaned, geometry='geometry')\n"
   ]
  },
  {
   "cell_type": "code",
   "execution_count": 18,
   "metadata": {
    "id": "6mTbLR3IjdLj"
   },
   "outputs": [],
   "source": [
    "# re-touch the data for further analysis\n",
    "k = 3 # as decided by DBSCAN\n",
    "eviction_pre_post_covid['latitude'] = eviction_pre_post_covid['latitude'].astype(float)\n",
    "eviction_pre_post_covid['longitude'] = eviction_pre_post_covid['longitude'].astype(float)\n",
    "eviction_pre_post_covid['geometry'] = eviction_pre_post_covid.apply(lambda row: Point(row['longitude'], row['latitude']), axis=1)\n",
    "# gdf = gpd.GeoDataFrame(evictions_cleaned, geometry='geometry')"
   ]
  },
  {
   "cell_type": "code",
   "execution_count": 30,
   "metadata": {
    "id": "tTFRWKiRmGXL"
   },
   "outputs": [],
   "source": [
    "w = Queen.from_dataframe(evictions_covid)\n",
    "w.transform = 'r'"
   ]
  },
  {
   "cell_type": "code",
   "execution_count": 31,
   "metadata": {
    "colab": {
     "base_uri": "https://localhost:8080/"
    },
    "id": "gg7PohU4b1SO",
    "outputId": "c7891388-cb52-4524-a86f-b9628a47477f"
   },
   "outputs": [
    {
     "name": "stdout",
     "output_type": "stream",
     "text": [
      "results: covid moran's I: 0.526252423166464 p-value: 0.001\n"
     ]
    }
   ],
   "source": [
    "# using the weight, w, from above\n",
    "# moran's I for the average_year_eviction_count column\n",
    "# moran's I value and p-value\n",
    "# it suggests strong correlation with fairly good confidence\n",
    "attribute = evictions_covid['average_year_eviction_count'].values\n",
    "moran = Moran(attribute, w)\n",
    "print(\"results: covid moran's I:\", moran.I, \"p-value:\", moran.p_sim)"
   ]
  },
  {
   "cell_type": "code",
   "execution_count": 32,
   "metadata": {
    "colab": {
     "base_uri": "https://localhost:8080/",
     "height": 608
    },
    "id": "xB7WBgvIpEO5",
    "outputId": "e4ac2d63-2bc9-4be6-f0d2-6e3908e24e1c"
   },
   "outputs": [
    {
     "data": {
      "image/png": "[encoded data removed]",
      "text/plain": [
       "<Figure size 700x700 with 1 Axes>"
      ]
     },
     "metadata": {},
     "output_type": "display_data"
    }
   ],
   "source": [
    "fig, ax = moran_scatterplot(moran)\n",
    "plt.show()"
   ]
  },
  {
   "cell_type": "code",
   "execution_count": 26,
   "metadata": {
    "id": "qAh1l9efnC1o"
   },
   "outputs": [],
   "source": [
    "w = Queen.from_dataframe(eviction_pre_post_covid)\n",
    "w.transform = 'r'"
   ]
  },
  {
   "cell_type": "code",
   "execution_count": 28,
   "metadata": {
    "colab": {
     "base_uri": "https://localhost:8080/"
    },
    "id": "u4KkXof8nJiJ",
    "outputId": "c6533061-fb8a-4542-c4ed-ea479de3163e"
   },
   "outputs": [
    {
     "name": "stdout",
     "output_type": "stream",
     "text": [
      "results: outside of covid moran's I: 0.8538279709771178 p-value: 0.001\n"
     ]
    }
   ],
   "source": [
    "# using the weight, w, from above\n",
    "# moran's I for the average_year_eviction_count column\n",
    "# moran's I value and p-value\n",
    "# it suggests strong correlation with fairly good confidence\n",
    "attribute = eviction_pre_post_covid['average_year_eviction_count'].values\n",
    "moran = Moran(attribute, w)\n",
    "print(\"results: outside of covid moran's I:\", moran.I, \"p-value:\", moran.p_sim)"
   ]
  },
  {
   "cell_type": "code",
   "execution_count": 29,
   "metadata": {
    "colab": {
     "base_uri": "https://localhost:8080/",
     "height": 641
    },
    "id": "x8VNpc4-o9YD",
    "outputId": "3bfedfc4-d53d-423b-efd7-8da5762b09c4"
   },
   "outputs": [
    {
     "data": {
      "image/png": "[encoded data removed]",
      "text/plain": [
       "<Figure size 700x700 with 1 Axes>"
      ]
     },
     "metadata": {},
     "output_type": "display_data"
    }
   ],
   "source": [
    "fig, ax = moran_scatterplot(moran)\n",
    "plt.show()"
   ]
  },
  {
   "cell_type": "markdown",
   "metadata": {
    "id": "IuLdbfQMmkU8"
   },
   "source": [
    "- **Moran’s I > 0: positive spatial autocorrelation meaning similar values cluster together.**\n",
    "- Moran’s I < 0: negative spatial autocorrelation meaning values disperse.\n",
    "- **p-value < 0.05: significant spatial pattern.**\n",
    "- Apparently, outside of covid, the similar values cluster is stronger."
   ]
  },
  {
   "cell_type": "markdown",
   "metadata": {
    "id": "kDiciYrZpRQD"
   },
   "source": [
    "#### **Short summaries: what do these Moran results mean?**\n",
    "\n",
    "- The Moran's I value of 0.85 and a p-value of 0.001 (outside of covid) indicate a strong positive spatial autocorrelation. This suggests that areas with high eviction counts are likely to be surrounded by other areas with high eviction counts, and similarly for areas with low eviction counts.\n",
    "- The moran's i value of 0.53 and a p-value of 0.001 (during covid) also indicates a somewhat strong positive spatial autocorrelation."
   ]
  },
  {
   "cell_type": "code",
   "execution_count": null,
   "metadata": {
    "id": "AVmCCLgDo75j"
   },
   "outputs": [],
   "source": []
  },
  {
   "cell_type": "markdown",
   "metadata": {
    "id": "6dLy2Gd4dIzf"
   },
   "source": [
    "#### Running on Folium again to visualize everything on a map\n",
    "##### Also generate a map with selective dots on the map for clarity"
   ]
  },
  {
   "cell_type": "code",
   "execution_count": 33,
   "metadata": {
    "id": "Cb_cxM2keBCG"
   },
   "outputs": [],
   "source": [
    "threshold_80_percentile = eviction_pre_post_covid['average_year_eviction_count'].quantile(0.80)\n",
    "# top_20_percent_evictions = evictions_cleaned[evictions_cleaned['average_year_eviction_count'] >= threshold_80_percentile]\n",
    "threshold_median = eviction_pre_post_covid['average_year_eviction_count'].median()\n",
    "threshold_mode = eviction_pre_post_covid['average_year_eviction_count'].mode()\n",
    "threshold_low = eviction_pre_post_covid['average_year_eviction_count'].min()"
   ]
  },
  {
   "cell_type": "code",
   "execution_count": 34,
   "metadata": {
    "id": "ch1jW6fpqkY6"
   },
   "outputs": [],
   "source": [
    "threshold_80_percentile_covid = evictions_covid['average_year_eviction_count'].quantile(0.80)\n",
    "# top_20_percent_evictions = evictions_cleaned[evictions_cleaned['average_year_eviction_count'] >= threshold_80_percentile]\n",
    "threshold_median_covid = evictions_covid['average_year_eviction_count'].median()\n",
    "threshold_mode_covid = evictions_covid['average_year_eviction_count'].mode()\n",
    "threshold_low_covid = evictions_covid['average_year_eviction_count'].min()"
   ]
  },
  {
   "cell_type": "code",
   "execution_count": 37,
   "metadata": {
    "colab": {
     "base_uri": "https://localhost:8080/"
    },
    "id": "zFf1SIc0fL6x",
    "outputId": "070e092a-cf78-4ad8-a388-219f524de501"
   },
   "outputs": [
    {
     "data": {
      "text/plain": [
       "(3.0,\n",
       " 0    1.0\n",
       " Name: average_year_eviction_count, dtype: float64,\n",
       " 1.5,\n",
       " 1.0)"
      ]
     },
     "execution_count": 37,
     "metadata": {},
     "output_type": "execute_result"
    }
   ],
   "source": [
    "threshold_80_percentile, threshold_mode, threshold_median, threshold_low"
   ]
  },
  {
   "cell_type": "code",
   "execution_count": 38,
   "metadata": {
    "colab": {
     "base_uri": "https://localhost:8080/"
    },
    "id": "Xx5KuPKzeME1",
    "outputId": "a268d086-6905-4d0a-d4b2-3653730955ee"
   },
   "outputs": [
    {
     "data": {
      "text/plain": [
       "(2.0,\n",
       " 0    1.0\n",
       " Name: average_year_eviction_count, dtype: float64,\n",
       " 1.0,\n",
       " 1.0)"
      ]
     },
     "execution_count": 38,
     "metadata": {},
     "output_type": "execute_result"
    }
   ],
   "source": [
    "threshold_80_percentile_covid, threshold_mode_covid, threshold_median_covid, threshold_low_covid"
   ]
  },
  {
   "cell_type": "code",
   "execution_count": 51,
   "metadata": {
    "id": "rcj8En5-rXLl"
   },
   "outputs": [],
   "source": [
    "# to save space and stay organized, the generated image is saved to the image folder.\n",
    "\n",
    "map_clusters = folium.Map(location=[40.7128, -74.0060], zoom_start=12)\n",
    "\n",
    "top_20_evictions = evictions_covid[evictions_covid['average_year_eviction_count'] > threshold_80_percentile]\n",
    "\n",
    "# reduced the dot size from 5 to 2\n",
    "for idx, row in top_20_evictions.iterrows():\n",
    "    eviction_count = row['average_year_eviction_count']\n",
    "    color = 'red'\n",
    "    popup_info = f\"Top 20% evictions area: {eviction_count}\"\n",
    "\n",
    "    folium.CircleMarker(\n",
    "        location=[row['latitude'], row['longitude']],\n",
    "        radius=2,\n",
    "        color=color,\n",
    "        fill=True,\n",
    "        fill_color=color,\n",
    "        fill_opacity=0.6,\n",
    "        popup=popup_info\n",
    "    ).add_to(map_clusters)\n",
    "\n",
    "map_clusters\n"
   ]
  },
  {
   "cell_type": "code",
   "execution_count": 53,
   "metadata": {
    "id": "-g3yJxRcdOoc"
   },
   "outputs": [],
   "source": [
    "# with all evictions on the map\n",
    "# results not shown here, in image folder\n",
    "map_clusters = folium.Map(location=[40.7128, -74.0060], zoom_start=12)\n",
    "\n",
    "for idx, row in evictions_covid.iterrows():\n",
    "    eviction_count = row['average_year_eviction_count']\n",
    "    if eviction_count > threshold_80_percentile:\n",
    "        color = 'red'\n",
    "        popup_info = f\"top 20 percent evictions area: {eviction_count}\"\n",
    "    elif eviction_count >= threshold_median:\n",
    "        color = 'yellow'\n",
    "        popup_info = f\"above median eviction area: {eviction_count}\"\n",
    "    else:\n",
    "        color = 'greeen'\n",
    "        popup_info = f\"low eviction/most commen: {eviction_count}\"\n",
    "\n",
    "    folium.CircleMarker(\n",
    "        location=[row['latitude'], row['longitude']],\n",
    "        radius=2,\n",
    "        color=color,\n",
    "        fill=True,\n",
    "        fill_color=color,\n",
    "        fill_opacity=0.6,\n",
    "        popup=popup_info\n",
    "    ).add_to(map_clusters)\n",
    "\n",
    "map_clusters"
   ]
  },
  {
   "cell_type": "code",
   "execution_count": 72,
   "metadata": {
    "id": "JCMyxW_3up9X"
   },
   "outputs": [],
   "source": [
    "map_clusters = folium.Map(location=[40.7128, -74.0060], zoom_start=12)\n",
    "\n",
    "# corrected, use loc\n",
    "top_20_evictions = eviction_pre_post_covid.loc[\n",
    "    eviction_pre_post_covid['average_year_eviction_count'] > threshold_80_percentile\n",
    "]\n",
    "\n",
    "for idx, row in top_20_evictions.iterrows():\n",
    "    eviction_count = row['average_year_eviction_count']\n",
    "    color = 'red'\n",
    "    popup_info = f\"Top 20% evictions area: {eviction_count}\"\n",
    "\n",
    "    folium.CircleMarker(\n",
    "        location=[row['latitude'], row['longitude']],\n",
    "        radius=2,\n",
    "        color=color,\n",
    "        fill=True,\n",
    "        fill_color=color,\n",
    "        fill_opacity=0.6,\n",
    "        popup=popup_info\n",
    "    ).add_to(map_clusters)\n",
    "\n",
    "map_clusters\n"
   ]
  },
  {
   "cell_type": "code",
   "execution_count": 73,
   "metadata": {
    "id": "6BRifHEXutym"
   },
   "outputs": [],
   "source": [
    "# with all evictions on the map\n",
    "map_clusters = folium.Map(location=[40.7128, -74.0060], zoom_start=12)\n",
    "\n",
    "for idx, row in eviction_pre_post_covid.iterrows():\n",
    "    eviction_count = row['average_year_eviction_count']\n",
    "    if eviction_count > threshold_80_percentile:\n",
    "        color = 'red'\n",
    "        popup_info = f\"top 20 percent evictions area: {eviction_count}\"\n",
    "    elif eviction_count >= threshold_median:\n",
    "        color = 'yellow'\n",
    "        popup_info = f\"above median eviction area: {eviction_count}\"\n",
    "    else:\n",
    "        color = 'greeen'\n",
    "        popup_info = f\"low eviction/most commen: {eviction_count}\"\n",
    "\n",
    "    folium.CircleMarker(\n",
    "        location=[row['latitude'], row['longitude']],\n",
    "        radius=2,\n",
    "        color=color,\n",
    "        fill=True,\n",
    "        fill_color=color,\n",
    "        fill_opacity=0.6,\n",
    "        popup=popup_info\n",
    "    ).add_to(map_clusters)\n",
    "\n",
    "map_clusters"
   ]
  },
  {
   "cell_type": "code",
   "execution_count": 56,
   "metadata": {
    "id": "vmXqAWycfdrn"
   },
   "outputs": [],
   "source": [
    "# map_clusters.save('eviction_clusters_map.html')"
   ]
  },
  {
   "cell_type": "markdown",
   "metadata": {
    "id": "laIKZ6N24A2w"
   },
   "source": [
    "## Part 4.2: Queen and Rook Contiguity\n",
    "\n",
    "These two methods are usually used to evaluate autocorrelations in geo data.\n",
    "- queen contiguity: neighbors are considered adjacent if they share any boundary. edge or corner.\n",
    "- rook contiguity: neighbors are considered adjacent only if they share a common edge\n",
    "\n",
    "\n",
    "\n"
   ]
  },
  {
   "cell_type": "code",
   "execution_count": 61,
   "metadata": {
    "id": "vXZ8_pbl3s-b"
   },
   "outputs": [],
   "source": [
    "w_queen_covid = Queen.from_dataframe(evictions_covid)\n",
    "w_rook_covid = Rook.from_dataframe(evictions_covid)\n",
    "w_queen = Queen.from_dataframe(eviction_pre_post_covid)\n",
    "w_rook = Rook.from_dataframe(eviction_pre_post_covid)"
   ]
  },
  {
   "cell_type": "code",
   "execution_count": 62,
   "metadata": {
    "colab": {
     "base_uri": "https://localhost:8080/"
    },
    "id": "eAFuL2Dz4eIp",
    "outputId": "f905dc9f-c5e3-44e3-d739-7b6d43e48b9f"
   },
   "outputs": [
    {
     "data": {
      "text/plain": [
       "(<libpysal.weights.contiguity.Queen at 0x7e22bf7b2210>,\n",
       " <libpysal.weights.contiguity.Rook at 0x7e22c017d4d0>,\n",
       " <libpysal.weights.contiguity.Queen at 0x7e22bf035450>,\n",
       " <libpysal.weights.contiguity.Rook at 0x7e22df31ff10>)"
      ]
     },
     "execution_count": 62,
     "metadata": {},
     "output_type": "execute_result"
    }
   ],
   "source": [
    "w_queen_covid, w_rook_covid, w_queen, w_rook"
   ]
  },
  {
   "cell_type": "code",
   "execution_count": null,
   "metadata": {
    "id": "mO2JZwAr43qo"
   },
   "outputs": [],
   "source": [
    "# log did not work well with the previous data with DBSCAN algo, and therefore we will skip it here too\n",
    "# but what log-transform does to the eviction count is to normalize the data better but it is not always necessary\n",
    "# adding 1 to avoid log(0)\n",
    "# evictions_cleaned['average_year_eviction_count_log'] = np.log1p(evictions_cleaned['average_year_eviction_count'])"
   ]
  },
  {
   "cell_type": "code",
   "execution_count": 70,
   "metadata": {
    "colab": {
     "base_uri": "https://localhost:8080/"
    },
    "id": "izAkdwJD5Oz4",
    "outputId": "132c178b-5bf5-46d8-dacc-93d7f06e88db"
   },
   "outputs": [
    {
     "name": "stdout",
     "output_type": "stream",
     "text": [
      "moran's I with queen test covid: 0.526252423166464 p-value: 0.001\n"
     ]
    }
   ],
   "source": [
    "# still very good results\n",
    "# use \"average_year_eviction_count\" column's values\n",
    "attribute_covid = evictions_covid['average_year_eviction_count'].values\n",
    "moran_queen_covid = Moran(attribute_covid, w_queen_covid)\n",
    "print(\"moran's I with queen test covid:\", moran_queen_covid.I, \"p-value:\", moran_queen_covid.p_sim)"
   ]
  },
  {
   "cell_type": "code",
   "execution_count": 64,
   "metadata": {
    "colab": {
     "base_uri": "https://localhost:8080/"
    },
    "id": "N_kzTdEFzwhe",
    "outputId": "a1aa4d5b-f4f1-41e2-adc7-deb991195020"
   },
   "outputs": [
    {
     "name": "stdout",
     "output_type": "stream",
     "text": [
      "moran's I with queen test: 0.8538279709771178 p-value: 0.001\n"
     ]
    }
   ],
   "source": [
    "attribute = eviction_pre_post_covid['average_year_eviction_count'].values\n",
    "moran_queen = Moran(attribute, w_queen)\n",
    "print(\"moran's I with queen test:\", moran_queen.I, \"p-value:\", moran_queen.p_sim)"
   ]
  },
  {
   "cell_type": "code",
   "execution_count": null,
   "metadata": {
    "id": "S8O8PcNj0mow"
   },
   "outputs": [],
   "source": []
  },
  {
   "cell_type": "code",
   "execution_count": 71,
   "metadata": {
    "colab": {
     "base_uri": "https://localhost:8080/"
    },
    "id": "2AYflG1p5moA",
    "outputId": "211e9e5d-1fa7-4ddc-e649-24b5b7da0a75"
   },
   "outputs": [
    {
     "name": "stdout",
     "output_type": "stream",
     "text": [
      "Moran's I with rook test covid: 0.526252423166464 p-value (Rook): 0.001\n"
     ]
    }
   ],
   "source": [
    "# moran's I using Rook Contiguity\n",
    "# also very good results\n",
    "moran_rook_covid = Moran(attribute_covid, w_rook_covid)\n",
    "print(\"Moran's I with rook test covid:\", moran_rook_covid.I, \"p-value (Rook):\", moran_rook_covid.p_sim)"
   ]
  },
  {
   "cell_type": "code",
   "execution_count": 69,
   "metadata": {
    "colab": {
     "base_uri": "https://localhost:8080/"
    },
    "id": "wqaqDnLqz_40",
    "outputId": "a1c2cdf6-f2de-4b43-82b5-df4ab79db2e4"
   },
   "outputs": [
    {
     "name": "stdout",
     "output_type": "stream",
     "text": [
      "Moran's I with rook test: 0.8538288674759438 p-value (Rook): 0.001\n"
     ]
    }
   ],
   "source": [
    "# moran's I using Rook Contiguity\n",
    "# also very good results\n",
    "moran_rook = Moran(attribute, w_rook)\n",
    "print(\"Moran's I with rook test:\", moran_rook.I, \"p-value (Rook):\", moran_rook.p_sim)"
   ]
  },
  {
   "cell_type": "markdown",
   "metadata": {
    "id": "MfHjxQsm056D"
   },
   "source": [
    "- Queen contiguity (COVID)\t0.5262\t0.001\n",
    "meaning: moderate to strong spatial clustering of evictions pre/post COVID. There is a significant pattern in the data (not random). \\\n",
    "\n",
    "- Queen contiguity (all data)\t0.8538\t0.001\n",
    "Very strong spatial autocorrelation. Evictions tend to be highly concentrated in certain areas. \\\n",
    "\n",
    "- Rook contiguity (COVID)\t0.5262\t0.001\n",
    "same as Queen (this is moderate to strong clustering), suggesting similar results regardless of contiguity rule. \\\n",
    "\n",
    "- Rook contiguity (All)\t0.8538\t0.001\n",
    "Very strong clustering, nearly identical to Queen test, suggesting high spatial dependency. \\"
   ]
  },
  {
   "cell_type": "code",
   "execution_count": null,
   "metadata": {
    "id": "-5zKPYch05YS"
   },
   "outputs": [],
   "source": []
  },
  {
   "cell_type": "markdown",
   "metadata": {
    "id": "hrHB7WNmEq7I"
   },
   "source": [
    "#### **Short summary:**\n",
    "\n",
    "- The results confirm that locations with high eviction counts tend to be surrounded by other locations with high eviction counts (as previously suggested by DBSCAN, while locations with low eviction counts tend to be near other locations with low eviction counts. This indicates a strong spatial clustering of eviction rates.\n",
    "\n",
    "- The very low p-value (0.001) confirms that the observed positive spatial autocorrelation (moran’s I: 0.8538 outside of covid) is statistically significant. This means that the clustering of eviction counts is a real pattern in the data, not due to random chance.\n",
    "\n",
    "- Policy implications: the strong spatial clustering suggests that eviction-related issues are geographically concentrated. Policymakers could use this information to identify eviction hotspots and allocate targeted resources or interventions. However, further analysis at the building and landlord level is necessary to understand the underlying causes and design effective policy solutions."
   ]
  },
  {
   "cell_type": "markdown",
   "metadata": {
    "id": "SRMjBJBc-ADF"
   },
   "source": [
    "## Part 4.3 Local Moran's I Lisa Analysis: (and further sections will be included in part 5)\n"
   ]
  },
  {
   "cell_type": "code",
   "execution_count": null,
   "metadata": {
    "id": "1oHnYIB1G9jt"
   },
   "outputs": [],
   "source": []
  }
 ],
 "metadata": {
  "accelerator": "GPU",
  "colab": {
   "gpuType": "L4",
   "provenance": []
  },
  "kernelspec": {
   "display_name": "Python 3 (ipykernel)",
   "language": "python",
   "name": "python3"
  },
  "language_info": {
   "codemirror_mode": {
    "name": "ipython",
    "version": 3
   },
   "file_extension": ".py",
   "mimetype": "text/x-python",
   "name": "python",
   "nbconvert_exporter": "python",
   "pygments_lexer": "ipython3",
   "version": "3.11.0"
  }
 },
 "nbformat": 4,
 "nbformat_minor": 1
}
