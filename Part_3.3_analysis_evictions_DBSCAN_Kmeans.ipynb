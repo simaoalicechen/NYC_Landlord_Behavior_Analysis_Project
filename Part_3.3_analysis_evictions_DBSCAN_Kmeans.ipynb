{
 "cells": [
  {
   "cell_type": "markdown",
   "metadata": {
    "id": "2FviH-8FhFLn"
   },
   "source": [
    "# Introduction\n",
    "\n",
    "In this notebook, we want to analyze eviction data in nyc using DBSCAN and kmeans clustering algos. Following the previous notebook, we use the cleaned data to test on both techniques and compare their results. Quick viz and metrics are provided to assess the effectiveness of each approach."
   ]
  },
  {
   "cell_type": "code",
   "execution_count": null,
   "metadata": {
    "id": "3Vjg0Y7VhFLo"
   },
   "outputs": [],
   "source": [
    "# !pip install geopandas folium matplotlib seaborn scipy\n",
    "# !pip install esda\n",
    "# !pip install splot\n",
    "# !pip install geopandas contextily\n",
    "# # for google colab, had to reinstall some pacakges."
   ]
  },
  {
   "cell_type": "code",
   "execution_count": null,
   "metadata": {
    "id": "tT_WbxpWhFLo"
   },
   "outputs": [],
   "source": [
    "# !pip install geopandas folium matplotlib seaborn scipy esda splot"
   ]
  },
  {
   "cell_type": "code",
   "execution_count": null,
   "metadata": {
    "id": "p5r6sDBihFLo"
   },
   "outputs": [],
   "source": [
    "import pandas as pd\n",
    "import geopandas as gpd\n",
    "import numpy as np\n",
    "import datetime as dt\n",
    "import scipy\n",
    "\n",
    "from sklearn.cluster import DBSCAN\n",
    "from sklearn.cluster import KMeans\n",
    "from sklearn.preprocessing import StandardScaler\n",
    "from sklearn.metrics import silhouette_score\n",
    "from shapely.geometry import Point\n",
    "\n",
    "# visualization\n",
    "import matplotlib.pyplot as plt\n",
    "from matplotlib import colors as mcolors\n",
    "import seaborn as sns\n",
    "import folium\n",
    "from folium.plugins import HeatMap\n",
    "from folium import Marker\n",
    "from folium.plugins import MarkerCluster\n",
    "import plotly.express as px\n",
    "import plotly.io as pio\n",
    "import contextily as ctx\n",
    "\n",
    "# spatial statistics\n",
    "from esda.moran import Moran\n",
    "from esda.getisord import G_Local\n",
    "from libpysal.weights import Queen, Rook\n",
    "\n",
    "# system and utility\n",
    "import warnings\n",
    "import os\n",
    "import io\n",
    "from IPython.display import IFrame\n",
    "from google.colab import files\n",
    "\n",
    "from libpysal.weights import Queen, Rook\n",
    "from esda.moran import Moran\n",
    "import matplotlib.pyplot as plt\n",
    "from splot.esda import moran_scatterplot\n",
    "\n",
    "# suppress warnings\n",
    "warnings.filterwarnings('ignore')\n",
    "\n",
    "# inline\n",
    "%matplotlib inline"
   ]
  },
  {
   "cell_type": "markdown",
   "metadata": {
    "id": "vwTvcLx7hFLo"
   },
   "source": [
    "# Part 1 Get the Eviction data"
   ]
  },
  {
   "cell_type": "code",
   "execution_count": null,
   "metadata": {
    "colab": {
     "base_uri": "https://localhost:8080/"
    },
    "id": "k4j1KNpthFLo",
    "outputId": "78830ebe-8abe-43e5-a171-b407c9e2ac0b"
   },
   "outputs": [
    {
     "name": "stdout",
     "output_type": "stream",
     "text": [
      "Mounted at /content/drive\n"
     ]
    }
   ],
   "source": [
    "from google.colab import drive\n",
    "drive.mount('/content/drive')"
   ]
  },
  {
   "cell_type": "code",
   "execution_count": null,
   "metadata": {
    "id": "qOf1JnaphFLp"
   },
   "outputs": [],
   "source": [
    "# data source:\n",
    "file_path = '/content/drive/My Drive/X999/evictions_cleaned.csv'"
   ]
  },
  {
   "cell_type": "code",
   "execution_count": null,
   "metadata": {
    "id": "2HVdRGTrhFLp"
   },
   "outputs": [],
   "source": [
    "evictions_cleaned_raw = pd.read_csv(file_path)"
   ]
  },
  {
   "cell_type": "code",
   "execution_count": null,
   "metadata": {
    "id": "Qhzg5ZwvhFLp"
   },
   "outputs": [],
   "source": [
    "evictions_cleaned = evictions_cleaned_raw.copy()"
   ]
  },
  {
   "cell_type": "code",
   "execution_count": null,
   "metadata": {
    "colab": {
     "base_uri": "https://localhost:8080/",
     "height": 231
    },
    "id": "9Vw_pXxRhFLp",
    "outputId": "59824ff1-f1fd-4e4a-b318-bb1cc92ddf3f"
   },
   "outputs": [
    {
     "data": {
      "application/vnd.google.colaboratory.intrinsic+json": {
       "type": "dataframe",
       "variable_name": "evictions_cleaned"
      },
      "text/html": [
       "\n",
       "  <div id=\"df-88c7bcc1-7484-48ec-ae99-c82810e4463b\" class=\"colab-df-container\">\n",
       "    <div>\n",
       "<style scoped>\n",
       "    .dataframe tbody tr th:only-of-type {\n",
       "        vertical-align: middle;\n",
       "    }\n",
       "\n",
       "    .dataframe tbody tr th {\n",
       "        vertical-align: top;\n",
       "    }\n",
       "\n",
       "    .dataframe thead th {\n",
       "        text-align: right;\n",
       "    }\n",
       "</style>\n",
       "<table border=\"1\" class=\"dataframe\">\n",
       "  <thead>\n",
       "    <tr style=\"text-align: right;\">\n",
       "      <th></th>\n",
       "      <th>court_index_number</th>\n",
       "      <th>docket_number</th>\n",
       "      <th>eviction_address</th>\n",
       "      <th>eviction_apartment_number</th>\n",
       "      <th>executed_date</th>\n",
       "      <th>borough</th>\n",
       "      <th>eviction_postcode</th>\n",
       "      <th>ejectment</th>\n",
       "      <th>eviction/legal_possession</th>\n",
       "      <th>latitude</th>\n",
       "      <th>...</th>\n",
       "      <th>bin</th>\n",
       "      <th>bbl</th>\n",
       "      <th>nta</th>\n",
       "      <th>geometry</th>\n",
       "      <th>eviction_count</th>\n",
       "      <th>year</th>\n",
       "      <th>average_year_eviction_count</th>\n",
       "      <th>cluster</th>\n",
       "      <th>cluster_k</th>\n",
       "      <th>same_cluster</th>\n",
       "    </tr>\n",
       "  </thead>\n",
       "  <tbody>\n",
       "    <tr>\n",
       "      <th>0</th>\n",
       "      <td>*313639/23</td>\n",
       "      <td>5202</td>\n",
       "      <td>710 61ST STREET</td>\n",
       "      <td>2ND FLOOR</td>\n",
       "      <td>2024-03-04</td>\n",
       "      <td>BROOKLYN</td>\n",
       "      <td>11220</td>\n",
       "      <td>Not an Ejectment</td>\n",
       "      <td>Possession</td>\n",
       "      <td>40.635941</td>\n",
       "      <td>...</td>\n",
       "      <td>3143881.0</td>\n",
       "      <td>3.057940e+09</td>\n",
       "      <td>Sunset Park East</td>\n",
       "      <td>POINT (-74.011883 40.635941)</td>\n",
       "      <td>3</td>\n",
       "      <td>2024</td>\n",
       "      <td>3.0</td>\n",
       "      <td>0</td>\n",
       "      <td>0</td>\n",
       "      <td>True</td>\n",
       "    </tr>\n",
       "    <tr>\n",
       "      <th>1</th>\n",
       "      <td>*324973/22</td>\n",
       "      <td>5308</td>\n",
       "      <td>462 60TH STREET</td>\n",
       "      <td>FOURTH FLOOR APT AKA</td>\n",
       "      <td>2024-08-13</td>\n",
       "      <td>BROOKLYN</td>\n",
       "      <td>11220</td>\n",
       "      <td>Not an Ejectment</td>\n",
       "      <td>Possession</td>\n",
       "      <td>40.640008</td>\n",
       "      <td>...</td>\n",
       "      <td>3143435.0</td>\n",
       "      <td>3.057820e+09</td>\n",
       "      <td>Sunset Park West</td>\n",
       "      <td>POINT (-74.017068 40.640008)</td>\n",
       "      <td>3</td>\n",
       "      <td>2024</td>\n",
       "      <td>3.0</td>\n",
       "      <td>0</td>\n",
       "      <td>0</td>\n",
       "      <td>True</td>\n",
       "    </tr>\n",
       "  </tbody>\n",
       "</table>\n",
       "<p>2 rows × 24 columns</p>\n",
       "</div>\n",
       "    <div class=\"colab-df-buttons\">\n",
       "\n",
       "  <div class=\"colab-df-container\">\n",
       "    <button class=\"colab-df-convert\" onclick=\"convertToInteractive('df-88c7bcc1-7484-48ec-ae99-c82810e4463b')\"\n",
       "            title=\"Convert this dataframe to an interactive table.\"\n",
       "            style=\"display:none;\">\n",
       "\n",
       "  <svg xmlns=\"http://www.w3.org/2000/svg\" height=\"24px\" viewBox=\"0 -960 960 960\">\n",
       "    <path d=\"M120-120v-720h720v720H120Zm60-500h600v-160H180v160Zm220 220h160v-160H400v160Zm0 220h160v-160H400v160ZM180-400h160v-160H180v160Zm440 0h160v-160H620v160ZM180-180h160v-160H180v160Zm440 0h160v-160H620v160Z\"/>\n",
       "  </svg>\n",
       "    </button>\n",
       "\n",
       "  <style>\n",
       "    .colab-df-container {\n",
       "      display:flex;\n",
       "      gap: 12px;\n",
       "    }\n",
       "\n",
       "    .colab-df-convert {\n",
       "      background-color: #E8F0FE;\n",
       "      border: none;\n",
       "      border-radius: 50%;\n",
       "      cursor: pointer;\n",
       "      display: none;\n",
       "      fill: #1967D2;\n",
       "      height: 32px;\n",
       "      padding: 0 0 0 0;\n",
       "      width: 32px;\n",
       "    }\n",
       "\n",
       "    .colab-df-convert:hover {\n",
       "      background-color: #E2EBFA;\n",
       "      box-shadow: 0px 1px 2px rgba(60, 64, 67, 0.3), 0px 1px 3px 1px rgba(60, 64, 67, 0.15);\n",
       "      fill: #174EA6;\n",
       "    }\n",
       "\n",
       "    .colab-df-buttons div {\n",
       "      margin-bottom: 4px;\n",
       "    }\n",
       "\n",
       "    [theme=dark] .colab-df-convert {\n",
       "      background-color: #3B4455;\n",
       "      fill: #D2E3FC;\n",
       "    }\n",
       "\n",
       "    [theme=dark] .colab-df-convert:hover {\n",
       "      background-color: #434B5C;\n",
       "      box-shadow: 0px 1px 3px 1px rgba(0, 0, 0, 0.15);\n",
       "      filter: drop-shadow(0px 1px 2px rgba(0, 0, 0, 0.3));\n",
       "      fill: #FFFFFF;\n",
       "    }\n",
       "  </style>\n",
       "\n",
       "    <script>\n",
       "      const buttonEl =\n",
       "        document.querySelector('#df-88c7bcc1-7484-48ec-ae99-c82810e4463b button.colab-df-convert');\n",
       "      buttonEl.style.display =\n",
       "        google.colab.kernel.accessAllowed ? 'block' : 'none';\n",
       "\n",
       "      async function convertToInteractive(key) {\n",
       "        const element = document.querySelector('#df-88c7bcc1-7484-48ec-ae99-c82810e4463b');\n",
       "        const dataTable =\n",
       "          await google.colab.kernel.invokeFunction('convertToInteractive',\n",
       "                                                    [key], {});\n",
       "        if (!dataTable) return;\n",
       "\n",
       "        const docLinkHtml = 'Like what you see? Visit the ' +\n",
       "          '<a target=\"_blank\" href=https://colab.research.google.com/notebooks/data_table.ipynb>data table notebook</a>'\n",
       "          + ' to learn more about interactive tables.';\n",
       "        element.innerHTML = '';\n",
       "        dataTable['output_type'] = 'display_data';\n",
       "        await google.colab.output.renderOutput(dataTable, element);\n",
       "        const docLink = document.createElement('div');\n",
       "        docLink.innerHTML = docLinkHtml;\n",
       "        element.appendChild(docLink);\n",
       "      }\n",
       "    </script>\n",
       "  </div>\n",
       "\n",
       "\n",
       "<div id=\"df-c3585f5e-2117-4291-9e3b-01bf216dc135\">\n",
       "  <button class=\"colab-df-quickchart\" onclick=\"quickchart('df-c3585f5e-2117-4291-9e3b-01bf216dc135')\"\n",
       "            title=\"Suggest charts\"\n",
       "            style=\"display:none;\">\n",
       "\n",
       "<svg xmlns=\"http://www.w3.org/2000/svg\" height=\"24px\"viewBox=\"0 0 24 24\"\n",
       "     width=\"24px\">\n",
       "    <g>\n",
       "        <path d=\"M19 3H5c-1.1 0-2 .9-2 2v14c0 1.1.9 2 2 2h14c1.1 0 2-.9 2-2V5c0-1.1-.9-2-2-2zM9 17H7v-7h2v7zm4 0h-2V7h2v10zm4 0h-2v-4h2v4z\"/>\n",
       "    </g>\n",
       "</svg>\n",
       "  </button>\n",
       "\n",
       "<style>\n",
       "  .colab-df-quickchart {\n",
       "      --bg-color: #E8F0FE;\n",
       "      --fill-color: #1967D2;\n",
       "      --hover-bg-color: #E2EBFA;\n",
       "      --hover-fill-color: #174EA6;\n",
       "      --disabled-fill-color: #AAA;\n",
       "      --disabled-bg-color: #DDD;\n",
       "  }\n",
       "\n",
       "  [theme=dark] .colab-df-quickchart {\n",
       "      --bg-color: #3B4455;\n",
       "      --fill-color: #D2E3FC;\n",
       "      --hover-bg-color: #434B5C;\n",
       "      --hover-fill-color: #FFFFFF;\n",
       "      --disabled-bg-color: #3B4455;\n",
       "      --disabled-fill-color: #666;\n",
       "  }\n",
       "\n",
       "  .colab-df-quickchart {\n",
       "    background-color: var(--bg-color);\n",
       "    border: none;\n",
       "    border-radius: 50%;\n",
       "    cursor: pointer;\n",
       "    display: none;\n",
       "    fill: var(--fill-color);\n",
       "    height: 32px;\n",
       "    padding: 0;\n",
       "    width: 32px;\n",
       "  }\n",
       "\n",
       "  .colab-df-quickchart:hover {\n",
       "    background-color: var(--hover-bg-color);\n",
       "    box-shadow: 0 1px 2px rgba(60, 64, 67, 0.3), 0 1px 3px 1px rgba(60, 64, 67, 0.15);\n",
       "    fill: var(--button-hover-fill-color);\n",
       "  }\n",
       "\n",
       "  .colab-df-quickchart-complete:disabled,\n",
       "  .colab-df-quickchart-complete:disabled:hover {\n",
       "    background-color: var(--disabled-bg-color);\n",
       "    fill: var(--disabled-fill-color);\n",
       "    box-shadow: none;\n",
       "  }\n",
       "\n",
       "  .colab-df-spinner {\n",
       "    border: 2px solid var(--fill-color);\n",
       "    border-color: transparent;\n",
       "    border-bottom-color: var(--fill-color);\n",
       "    animation:\n",
       "      spin 1s steps(1) infinite;\n",
       "  }\n",
       "\n",
       "  @keyframes spin {\n",
       "    0% {\n",
       "      border-color: transparent;\n",
       "      border-bottom-color: var(--fill-color);\n",
       "      border-left-color: var(--fill-color);\n",
       "    }\n",
       "    20% {\n",
       "      border-color: transparent;\n",
       "      border-left-color: var(--fill-color);\n",
       "      border-top-color: var(--fill-color);\n",
       "    }\n",
       "    30% {\n",
       "      border-color: transparent;\n",
       "      border-left-color: var(--fill-color);\n",
       "      border-top-color: var(--fill-color);\n",
       "      border-right-color: var(--fill-color);\n",
       "    }\n",
       "    40% {\n",
       "      border-color: transparent;\n",
       "      border-right-color: var(--fill-color);\n",
       "      border-top-color: var(--fill-color);\n",
       "    }\n",
       "    60% {\n",
       "      border-color: transparent;\n",
       "      border-right-color: var(--fill-color);\n",
       "    }\n",
       "    80% {\n",
       "      border-color: transparent;\n",
       "      border-right-color: var(--fill-color);\n",
       "      border-bottom-color: var(--fill-color);\n",
       "    }\n",
       "    90% {\n",
       "      border-color: transparent;\n",
       "      border-bottom-color: var(--fill-color);\n",
       "    }\n",
       "  }\n",
       "</style>\n",
       "\n",
       "  <script>\n",
       "    async function quickchart(key) {\n",
       "      const quickchartButtonEl =\n",
       "        document.querySelector('#' + key + ' button');\n",
       "      quickchartButtonEl.disabled = true;  // To prevent multiple clicks.\n",
       "      quickchartButtonEl.classList.add('colab-df-spinner');\n",
       "      try {\n",
       "        const charts = await google.colab.kernel.invokeFunction(\n",
       "            'suggestCharts', [key], {});\n",
       "      } catch (error) {\n",
       "        console.error('Error during call to suggestCharts:', error);\n",
       "      }\n",
       "      quickchartButtonEl.classList.remove('colab-df-spinner');\n",
       "      quickchartButtonEl.classList.add('colab-df-quickchart-complete');\n",
       "    }\n",
       "    (() => {\n",
       "      let quickchartButtonEl =\n",
       "        document.querySelector('#df-c3585f5e-2117-4291-9e3b-01bf216dc135 button');\n",
       "      quickchartButtonEl.style.display =\n",
       "        google.colab.kernel.accessAllowed ? 'block' : 'none';\n",
       "    })();\n",
       "  </script>\n",
       "</div>\n",
       "\n",
       "    </div>\n",
       "  </div>\n"
      ],
      "text/plain": [
       "  court_index_number  docket_number eviction_address  \\\n",
       "0         *313639/23           5202  710 61ST STREET   \n",
       "1         *324973/22           5308  462 60TH STREET   \n",
       "\n",
       "  eviction_apartment_number executed_date   borough  eviction_postcode  \\\n",
       "0                 2ND FLOOR    2024-03-04  BROOKLYN              11220   \n",
       "1      FOURTH FLOOR APT AKA    2024-08-13  BROOKLYN              11220   \n",
       "\n",
       "          ejectment eviction/legal_possession   latitude  ...        bin  \\\n",
       "0  Not an Ejectment                Possession  40.635941  ...  3143881.0   \n",
       "1  Not an Ejectment                Possession  40.640008  ...  3143435.0   \n",
       "\n",
       "            bbl               nta                      geometry  \\\n",
       "0  3.057940e+09  Sunset Park East  POINT (-74.011883 40.635941)   \n",
       "1  3.057820e+09  Sunset Park West  POINT (-74.017068 40.640008)   \n",
       "\n",
       "   eviction_count  year average_year_eviction_count cluster  cluster_k  \\\n",
       "0               3  2024                         3.0       0          0   \n",
       "1               3  2024                         3.0       0          0   \n",
       "\n",
       "   same_cluster  \n",
       "0          True  \n",
       "1          True  \n",
       "\n",
       "[2 rows x 24 columns]"
      ]
     },
     "execution_count": 8,
     "metadata": {},
     "output_type": "execute_result"
    }
   ],
   "source": [
    "evictions_cleaned.head(2)"
   ]
  },
  {
   "cell_type": "code",
   "execution_count": null,
   "metadata": {
    "colab": {
     "base_uri": "https://localhost:8080/"
    },
    "id": "2K_QVQuHhFL5",
    "outputId": "e7664458-b2aa-4ba6-a872-72a875b2b58c"
   },
   "outputs": [
    {
     "data": {
      "text/plain": [
       "(Index(['court_index_number', 'docket_number', 'eviction_address',\n",
       "        'eviction_apartment_number', 'executed_date', 'borough',\n",
       "        'eviction_postcode', 'ejectment', 'eviction/legal_possession',\n",
       "        'latitude', 'longitude', 'community_board', 'council_district',\n",
       "        'census_tract', 'bin', 'bbl', 'nta', 'geometry', 'eviction_count',\n",
       "        'year', 'average_year_eviction_count', 'cluster', 'cluster_k',\n",
       "        'same_cluster'],\n",
       "       dtype='object'),\n",
       " (76484, 24))"
      ]
     },
     "execution_count": 9,
     "metadata": {},
     "output_type": "execute_result"
    }
   ],
   "source": [
    "evictions_cleaned.columns, \\\n",
    "evictions_cleaned.shape"
   ]
  },
  {
   "cell_type": "markdown",
   "metadata": {
    "id": "w77DI5CghFL6"
   },
   "source": [
    "### Skipped these sections and subsections (see notebook part 1)"
   ]
  },
  {
   "cell_type": "markdown",
   "metadata": {
    "id": "BchuNpPihFL6"
   },
   "source": [
    "# Part 2 Get to know the GeoDataFrame"
   ]
  },
  {
   "cell_type": "markdown",
   "metadata": {
    "id": "U_9dLpDxhFL6"
   },
   "source": [
    "## Part 2.1 Aggregation to find eviction counts (with BBL)"
   ]
  },
  {
   "cell_type": "markdown",
   "metadata": {
    "id": "iw01wUdlhFL6"
   },
   "source": [
    "## Part 2.2 Visualize the GeoDataFrame -- Plotly and Folium"
   ]
  },
  {
   "cell_type": "markdown",
   "metadata": {
    "id": "SI19b2hXhFL6"
   },
   "source": [
    "# Part 3 Clustering"
   ]
  },
  {
   "cell_type": "markdown",
   "metadata": {
    "id": "qaBZeGUFhFL6"
   },
   "source": [
    "## Part 3.1 Buildings with the most evictions (top_bbls)"
   ]
  },
  {
   "cell_type": "markdown",
   "metadata": {
    "id": "iiyWY63HhFL7"
   },
   "source": [
    "## Part 3.2 DBSCAN\n",
    "\n",
    "- Density-based spatial clustering of applications with noise (DBSCAN) is a clustering algorithm used in machine learning to partition data into clusters based on their distance to other points. Its effective at identifying and removing noise in a data set, making it useful for data cleaning and outlier detection.\n",
    "\n",
    "##### source: https://builtin.com/articles/dbscan#:~:text=What%20Is%20DBSCAN%3F,their%20distance%20to%20other%20points.\n",
    "##### inspirations: https://stackoverflow.com/questions/34579213/dbscan-for-clustering-of-geographic-location-data\n",
    "\n",
    "### Part 3.2.1 Prepare the data for DBSCAN test\n",
    "\n",
    "- Why didn't log the average eviction data points first?\n",
    "\n",
    "- We have tried log it first before send the data for further processing, but it only yields one cluster. Therefore logging it just compress the data too much and therefore it is not a good way to process the data in this case\n",
    "\n",
    "- We chose DBSCAN here, because it does not presumbly ask for the number of clusters, whereas K means does. K means also assume the clusters are in circular form, which may not be the case with geo data"
   ]
  },
  {
   "cell_type": "markdown",
   "metadata": {
    "id": "i2DbEv4FhFL7"
   },
   "source": [
    "### Part 3.2.1 Prepare the data for DBSCAN\n",
    "### Part 3.2.2 Apply DBSCAN"
   ]
  },
  {
   "cell_type": "code",
   "execution_count": null,
   "metadata": {
    "id": "-OVd1IkWhFL7"
   },
   "outputs": [],
   "source": [
    "# use eviction_count for clustering\n",
    "eviction_counts = evictions_cleaned[['average_year_eviction_count']]"
   ]
  },
  {
   "cell_type": "code",
   "execution_count": null,
   "metadata": {
    "id": "F5kxuFF-hFL7"
   },
   "outputs": [],
   "source": [
    "# normalize the eviction_counts\n",
    "scaler = StandardScaler()\n",
    "eviction_counts_scaled = scaler.fit_transform(eviction_counts)"
   ]
  },
  {
   "cell_type": "code",
   "execution_count": null,
   "metadata": {
    "id": "9lplnJKShFL7"
   },
   "outputs": [],
   "source": [
    "# apply DBSCAN\n",
    "dbscan = DBSCAN(eps=1, min_samples=3)\n",
    "evictions_cleaned['cluster'] = dbscan.fit_predict(eviction_counts_scaled)"
   ]
  },
  {
   "cell_type": "code",
   "execution_count": null,
   "metadata": {
    "colab": {
     "base_uri": "https://localhost:8080/"
    },
    "id": "iajQsKFChFL8",
    "outputId": "b827a50f-f084-4bb1-fc1b-2aa981401ef8"
   },
   "outputs": [
    {
     "name": "stdout",
     "output_type": "stream",
     "text": [
      "results: number of clusters:  3 number of noise points:  0\n"
     ]
    }
   ],
   "source": [
    "# analyze the number of clusters formed and noise points\n",
    "n_clusters = len(set(evictions_cleaned['cluster'])) - (1 if -1 in evictions_cleaned['cluster'] else 0)\n",
    "n_noise = list(evictions_cleaned['cluster']).count(-1)\n",
    "\n",
    "print(\"results: number of clusters: \", n_clusters, \"number of noise points: \", n_noise)\n",
    "\n",
    "## no noise, 3 clusters, luckily good"
   ]
  },
  {
   "cell_type": "code",
   "execution_count": null,
   "metadata": {
    "colab": {
     "base_uri": "https://localhost:8080/"
    },
    "id": "AAryIKYShFL8",
    "outputId": "86be2b41-6674-4406-8d4d-6a79caf950d0"
   },
   "outputs": [
    {
     "name": "stdout",
     "output_type": "stream",
     "text": [
      "[0 1 2]\n"
     ]
    }
   ],
   "source": [
    "# -1 would be noise label\n",
    "print(evictions_cleaned['cluster'].unique())"
   ]
  },
  {
   "cell_type": "code",
   "execution_count": null,
   "metadata": {
    "colab": {
     "base_uri": "https://localhost:8080/",
     "height": 472
    },
    "id": "y3Yl7iNghFL8",
    "outputId": "f902f1de-5a09-4932-9106-100b8b8d8b0e"
   },
   "outputs": [
    {
     "data": {
      "image/png": "[encoded data removed]",
      "text/plain": [
       "<Figure size 640x480 with 1 Axes>"
      ]
     },
     "metadata": {},
     "output_type": "display_data"
    }
   ],
   "source": [
    "# visualize the clusters\n",
    "plt.scatter(evictions_cleaned['average_year_eviction_count'], [0]*len(evictions_cleaned), c=evictions_cleaned['cluster'], cmap='viridis')\n",
    "plt.xlabel('average_year_eviction_count')\n",
    "plt.title('eviction clustering with DBSCAN')\n",
    "plt.show()"
   ]
  },
  {
   "cell_type": "code",
   "execution_count": null,
   "metadata": {
    "colab": {
     "base_uri": "https://localhost:8080/",
     "height": 564
    },
    "id": "_MlWesP1hFL8",
    "outputId": "ba32a32d-332c-4da1-d4e7-b3679a6baad2"
   },
   "outputs": [
    {
     "data": {
      "image/png": "[encoded data removed]",
      "text/plain": [
       "<Figure size 1000x600 with 1 Axes>"
      ]
     },
     "metadata": {},
     "output_type": "display_data"
    }
   ],
   "source": [
    "# better visuals\n",
    "plt.figure(figsize=(10, 6))\n",
    "\n",
    "for cluster_id in set(evictions_cleaned['cluster']):\n",
    "    # default: noise points\n",
    "    if cluster_id == -1:\n",
    "        color = 'black'\n",
    "        # luckily, we don't have noise in this case.\n",
    "        label = 'Noise'\n",
    "    else:\n",
    "        color = plt.cm.rainbow(cluster_id / n_clusters)\n",
    "        label = f'Cluster {cluster_id}'\n",
    "\n",
    "    plt.scatter(evictions_cleaned[evictions_cleaned['cluster'] == cluster_id]['average_year_eviction_count'],\n",
    "                [0] * len(evictions_cleaned[evictions_cleaned['cluster'] == cluster_id]),\n",
    "                color=color, label=label, alpha=0.6, edgecolor='k')\n",
    "\n",
    "plt.title('DBSCAN clustering of eviction counts')\n",
    "plt.xlabel('average year eviction count')\n",
    "plt.legend()\n",
    "plt.show()"
   ]
  }
 ],
 "metadata": {
  "colab": {
   "provenance": []
  },
  "kernelspec": {
   "display_name": "Python 3 (ipykernel)",
   "language": "python",
   "name": "python3"
  },
  "language_info": {
   "codemirror_mode": {
    "name": "ipython",
    "version": 3
   },
   "file_extension": ".py",
   "mimetype": "text/x-python",
   "name": "python",
   "nbconvert_exporter": "python",
   "pygments_lexer": "ipython3",
   "version": "3.11.0"
  }
 },
 "nbformat": 4,
 "nbformat_minor": 1
}
