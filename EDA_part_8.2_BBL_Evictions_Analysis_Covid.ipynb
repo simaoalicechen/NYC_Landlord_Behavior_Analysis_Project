{
 "cells": [
  {
   "cell_type": "code",
   "execution_count": 2,
   "metadata": {
    "id": "PN_U9et3qjx7"
   },
   "outputs": [],
   "source": [
    "# !pip install geopandas folium matplotlib seaborn scipy\n",
    "# !pip install esda\n",
    "# !pip install splot\n",
    "# # for google colab, had to reinstall some pacakges."
   ]
  },
  {
   "cell_type": "code",
   "execution_count": 3,
   "metadata": {
    "id": "0j1GVN6Sqs0d"
   },
   "outputs": [],
   "source": [
    "import pandas as pd\n",
    "import geopandas as gpd\n",
    "import numpy as np\n",
    "import datetime as dt\n",
    "import scipy\n",
    "\n",
    "from sklearn.cluster import DBSCAN\n",
    "from sklearn.cluster import KMeans\n",
    "from sklearn.preprocessing import StandardScaler\n",
    "from sklearn.metrics import silhouette_score\n",
    "from scipy.spatial.distance import cdist\n",
    "from scipy import stats\n",
    "\n",
    "# visualization\n",
    "import matplotlib.pyplot as plt\n",
    "from matplotlib import colors as mcolors\n",
    "import seaborn as sns\n",
    "import folium\n",
    "from folium.plugins import HeatMap\n",
    "from folium import Marker\n",
    "from folium.plugins import MarkerCluster\n",
    "import plotly.express as px\n",
    "import plotly.io as pio\n",
    "\n",
    "# spatial statistics\n",
    "from esda.moran import Moran\n",
    "from esda.getisord import G_Local\n",
    "from libpysal.weights import Queen, Rook\n",
    "\n",
    "# system and utility\n",
    "import warnings\n",
    "import os\n",
    "import io\n",
    "from IPython.display import IFrame\n",
    "from google.colab import files\n",
    "\n",
    "from libpysal.weights import Queen, Rook\n",
    "from esda.moran import Moran\n",
    "import matplotlib.pyplot as plt\n",
    "from splot.esda import moran_scatterplot\n",
    "\n",
    "# suppress warnings\n",
    "warnings.filterwarnings('ignore')\n",
    "\n",
    "# inline\n",
    "%matplotlib inline"
   ]
  },
  {
   "cell_type": "code",
   "execution_count": 4,
   "metadata": {
    "colab": {
     "base_uri": "https://localhost:8080/"
    },
    "id": "yL8pJMQbqwK_",
    "outputId": "88e9f26b-cb53-4a93-a5b4-a2b1955e24ae"
   },
   "outputs": [
    {
     "name": "stdout",
     "output_type": "stream",
     "text": [
      "Mounted at /content/drive\n"
     ]
    }
   ],
   "source": [
    "from google.colab import drive\n",
    "drive.mount('/content/drive')"
   ]
  },
  {
   "cell_type": "code",
   "execution_count": 10,
   "metadata": {
    "id": "utvDWnmGqyCu"
   },
   "outputs": [],
   "source": [
    "# data source:\n",
    "file_path1 = '/content/drive/My Drive/X999/bbl_evictions_merged_covid.csv'\n",
    "file_path3 = '/content/drive/My Drive/X999/bbl_cleaned.csv'\n",
    "# file_path2 = '/content/drive/My Drive/X999/evictions_pre_post_covid.csv'"
   ]
  },
  {
   "cell_type": "code",
   "execution_count": 11,
   "metadata": {
    "id": "EiGzepvYdo7a"
   },
   "outputs": [],
   "source": [
    "# evictions= pd.read_csv(file_path2)\n",
    "bbl_cleaned= pd.read_csv(file_path3)"
   ]
  },
  {
   "cell_type": "code",
   "execution_count": 12,
   "metadata": {
    "colab": {
     "base_uri": "https://localhost:8080/"
    },
    "id": "PeCGUAYOgq1x",
    "outputId": "823b6be2-3da6-44b1-f21b-efbb20bb0861"
   },
   "outputs": [
    {
     "data": {
      "text/plain": [
       "(753110, 112)"
      ]
     },
     "execution_count": 12,
     "metadata": {},
     "output_type": "execute_result"
    }
   ],
   "source": [
    "# list(bbl_cleaned.columns),\n",
    "bbl_cleaned.shape\n",
    "# so 753110 res buildings\n",
    "# will use this number to calculate the average number of evictions per building, but not only the builingds that\n",
    "# have the evictions, but all the res buildings"
   ]
  },
  {
   "cell_type": "code",
   "execution_count": 8,
   "metadata": {
    "id": "5vdZwnwmdrQN"
   },
   "outputs": [],
   "source": [
    "# evictions.eviction_count.sum()"
   ]
  },
  {
   "cell_type": "code",
   "execution_count": 13,
   "metadata": {
    "id": "YQa5mRHmq4bs"
   },
   "outputs": [],
   "source": [
    "bbl_evictions_merged_raw = pd.read_csv(file_path1)"
   ]
  },
  {
   "cell_type": "code",
   "execution_count": 14,
   "metadata": {
    "id": "zRImi2qsyH3H"
   },
   "outputs": [],
   "source": [
    "bbl_evictions_merged = bbl_evictions_merged_raw.copy()"
   ]
  },
  {
   "cell_type": "code",
   "execution_count": 15,
   "metadata": {
    "colab": {
     "base_uri": "https://localhost:8080/",
     "height": 446
    },
    "id": "gBs1IrXwyKHx",
    "outputId": "970cb4d8-80ae-4e4c-d03a-f105f432d5df"
   },
   "outputs": [
    {
     "data": {
      "application/vnd.google.colaboratory.intrinsic+json": {
       "type": "dataframe"
      },
      "text/html": [
       "\n",
       "  <div id=\"df-882f9721-6d6d-4598-b7e7-ca817fcf6b51\" class=\"colab-df-container\">\n",
       "    <div>\n",
       "<style scoped>\n",
       "    .dataframe tbody tr th:only-of-type {\n",
       "        vertical-align: middle;\n",
       "    }\n",
       "\n",
       "    .dataframe tbody tr th {\n",
       "        vertical-align: top;\n",
       "    }\n",
       "\n",
       "    .dataframe thead th {\n",
       "        text-align: right;\n",
       "    }\n",
       "</style>\n",
       "<table border=\"1\" class=\"dataframe\">\n",
       "  <thead>\n",
       "    <tr style=\"text-align: right;\">\n",
       "      <th></th>\n",
       "      <th>court_index_number</th>\n",
       "      <th>docket_number</th>\n",
       "      <th>eviction_address</th>\n",
       "      <th>eviction_apartment_number</th>\n",
       "      <th>executed_date</th>\n",
       "      <th>borough</th>\n",
       "      <th>eviction_postcode</th>\n",
       "      <th>ejectment</th>\n",
       "      <th>eviction/legal_possession</th>\n",
       "      <th>latitude</th>\n",
       "      <th>...</th>\n",
       "      <th>is_condo</th>\n",
       "      <th>floor_category</th>\n",
       "      <th>rent_era</th>\n",
       "      <th>architectural_style</th>\n",
       "      <th>economic_period</th>\n",
       "      <th>residential_units_category</th>\n",
       "      <th>is_llc</th>\n",
       "      <th>building_size_category</th>\n",
       "      <th>size_quartile</th>\n",
       "      <th>decade</th>\n",
       "    </tr>\n",
       "  </thead>\n",
       "  <tbody>\n",
       "    <tr>\n",
       "      <th>0</th>\n",
       "      <td>35484/19</td>\n",
       "      <td>494073</td>\n",
       "      <td>184 MT. EDEN PARKWAY</td>\n",
       "      <td>UNIT 1D</td>\n",
       "      <td>2020-01-02</td>\n",
       "      <td>BRONX</td>\n",
       "      <td>10457</td>\n",
       "      <td>Not an Ejectment</td>\n",
       "      <td>Possession</td>\n",
       "      <td>40.842943</td>\n",
       "      <td>...</td>\n",
       "      <td>False</td>\n",
       "      <td>mid-rise</td>\n",
       "      <td>Pre-1947, pre-rent-control</td>\n",
       "      <td>1921–1930, Art Deco Skyscrapers</td>\n",
       "      <td>Pre-1929, pre-great depression</td>\n",
       "      <td>21-100 units</td>\n",
       "      <td>True</td>\n",
       "      <td>large</td>\n",
       "      <td>Q4 (largest 25%)</td>\n",
       "      <td>1920-1929</td>\n",
       "    </tr>\n",
       "    <tr>\n",
       "      <th>1</th>\n",
       "      <td>251388/19</td>\n",
       "      <td>117473</td>\n",
       "      <td>160 EAST 117 STREET</td>\n",
       "      <td>3-B</td>\n",
       "      <td>2020-01-02</td>\n",
       "      <td>MANHATTAN</td>\n",
       "      <td>10035</td>\n",
       "      <td>Not an Ejectment</td>\n",
       "      <td>Possession</td>\n",
       "      <td>40.799094</td>\n",
       "      <td>...</td>\n",
       "      <td>NaN</td>\n",
       "      <td>NaN</td>\n",
       "      <td>NaN</td>\n",
       "      <td>NaN</td>\n",
       "      <td>NaN</td>\n",
       "      <td>NaN</td>\n",
       "      <td>NaN</td>\n",
       "      <td>NaN</td>\n",
       "      <td>NaN</td>\n",
       "      <td>NaN</td>\n",
       "    </tr>\n",
       "    <tr>\n",
       "      <th>2</th>\n",
       "      <td>66822/19</td>\n",
       "      <td>25733</td>\n",
       "      <td>66-07 ALDERTON ST</td>\n",
       "      <td>unknown</td>\n",
       "      <td>2020-01-02</td>\n",
       "      <td>QUEENS</td>\n",
       "      <td>11374</td>\n",
       "      <td>Not an Ejectment</td>\n",
       "      <td>Possession</td>\n",
       "      <td>40.719316</td>\n",
       "      <td>...</td>\n",
       "      <td>False</td>\n",
       "      <td>low-rise</td>\n",
       "      <td>1994–Present, vacancy decontrol</td>\n",
       "      <td>1981–2000, Post-Modernism</td>\n",
       "      <td>1991–2008, modern economic growth</td>\n",
       "      <td>3-5 units</td>\n",
       "      <td>True</td>\n",
       "      <td>small</td>\n",
       "      <td>Q4 (largest 25%)</td>\n",
       "      <td>1990-1999</td>\n",
       "    </tr>\n",
       "    <tr>\n",
       "      <th>3</th>\n",
       "      <td>68501/18</td>\n",
       "      <td>91505</td>\n",
       "      <td>1245 STRATFORD AVE</td>\n",
       "      <td>D12</td>\n",
       "      <td>2020-01-02</td>\n",
       "      <td>BRONX</td>\n",
       "      <td>10472</td>\n",
       "      <td>Not an Ejectment</td>\n",
       "      <td>Possession</td>\n",
       "      <td>40.830623</td>\n",
       "      <td>...</td>\n",
       "      <td>False</td>\n",
       "      <td>mid-rise</td>\n",
       "      <td>Pre-1947, pre-rent-control</td>\n",
       "      <td>1921–1930, Art Deco Skyscrapers</td>\n",
       "      <td>Pre-1929, pre-great depression</td>\n",
       "      <td>21-100 units</td>\n",
       "      <td>True</td>\n",
       "      <td>very large</td>\n",
       "      <td>Q4 (largest 25%)</td>\n",
       "      <td>1920-1929</td>\n",
       "    </tr>\n",
       "    <tr>\n",
       "      <th>4</th>\n",
       "      <td>68498/19</td>\n",
       "      <td>26147</td>\n",
       "      <td>28-16 47TH STREET</td>\n",
       "      <td>1-L</td>\n",
       "      <td>2020-01-02</td>\n",
       "      <td>QUEENS</td>\n",
       "      <td>11103</td>\n",
       "      <td>Not an Ejectment</td>\n",
       "      <td>Possession</td>\n",
       "      <td>40.762390</td>\n",
       "      <td>...</td>\n",
       "      <td>False</td>\n",
       "      <td>low-rise</td>\n",
       "      <td>Pre-1947, pre-rent-control</td>\n",
       "      <td>1921–1930, Art Deco Skyscrapers</td>\n",
       "      <td>Pre-1929, pre-great depression</td>\n",
       "      <td>6-20 units</td>\n",
       "      <td>True</td>\n",
       "      <td>medium</td>\n",
       "      <td>Q4 (largest 25%)</td>\n",
       "      <td>1920-1929</td>\n",
       "    </tr>\n",
       "  </tbody>\n",
       "</table>\n",
       "<p>5 rows × 40 columns</p>\n",
       "</div>\n",
       "    <div class=\"colab-df-buttons\">\n",
       "\n",
       "  <div class=\"colab-df-container\">\n",
       "    <button class=\"colab-df-convert\" onclick=\"convertToInteractive('df-882f9721-6d6d-4598-b7e7-ca817fcf6b51')\"\n",
       "            title=\"Convert this dataframe to an interactive table.\"\n",
       "            style=\"display:none;\">\n",
       "\n",
       "  <svg xmlns=\"http://www.w3.org/2000/svg\" height=\"24px\" viewBox=\"0 -960 960 960\">\n",
       "    <path d=\"M120-120v-720h720v720H120Zm60-500h600v-160H180v160Zm220 220h160v-160H400v160Zm0 220h160v-160H400v160ZM180-400h160v-160H180v160Zm440 0h160v-160H620v160ZM180-180h160v-160H180v160Zm440 0h160v-160H620v160Z\"/>\n",
       "  </svg>\n",
       "    </button>\n",
       "\n",
       "  <style>\n",
       "    .colab-df-container {\n",
       "      display:flex;\n",
       "      gap: 12px;\n",
       "    }\n",
       "\n",
       "    .colab-df-convert {\n",
       "      background-color: #E8F0FE;\n",
       "      border: none;\n",
       "      border-radius: 50%;\n",
       "      cursor: pointer;\n",
       "      display: none;\n",
       "      fill: #1967D2;\n",
       "      height: 32px;\n",
       "      padding: 0 0 0 0;\n",
       "      width: 32px;\n",
       "    }\n",
       "\n",
       "    .colab-df-convert:hover {\n",
       "      background-color: #E2EBFA;\n",
       "      box-shadow: 0px 1px 2px rgba(60, 64, 67, 0.3), 0px 1px 3px 1px rgba(60, 64, 67, 0.15);\n",
       "      fill: #174EA6;\n",
       "    }\n",
       "\n",
       "    .colab-df-buttons div {\n",
       "      margin-bottom: 4px;\n",
       "    }\n",
       "\n",
       "    [theme=dark] .colab-df-convert {\n",
       "      background-color: #3B4455;\n",
       "      fill: #D2E3FC;\n",
       "    }\n",
       "\n",
       "    [theme=dark] .colab-df-convert:hover {\n",
       "      background-color: #434B5C;\n",
       "      box-shadow: 0px 1px 3px 1px rgba(0, 0, 0, 0.15);\n",
       "      filter: drop-shadow(0px 1px 2px rgba(0, 0, 0, 0.3));\n",
       "      fill: #FFFFFF;\n",
       "    }\n",
       "  </style>\n",
       "\n",
       "    <script>\n",
       "      const buttonEl =\n",
       "        document.querySelector('#df-882f9721-6d6d-4598-b7e7-ca817fcf6b51 button.colab-df-convert');\n",
       "      buttonEl.style.display =\n",
       "        google.colab.kernel.accessAllowed ? 'block' : 'none';\n",
       "\n",
       "      async function convertToInteractive(key) {\n",
       "        const element = document.querySelector('#df-882f9721-6d6d-4598-b7e7-ca817fcf6b51');\n",
       "        const dataTable =\n",
       "          await google.colab.kernel.invokeFunction('convertToInteractive',\n",
       "                                                    [key], {});\n",
       "        if (!dataTable) return;\n",
       "\n",
       "        const docLinkHtml = 'Like what you see? Visit the ' +\n",
       "          '<a target=\"_blank\" href=https://colab.research.google.com/notebooks/data_table.ipynb>data table notebook</a>'\n",
       "          + ' to learn more about interactive tables.';\n",
       "        element.innerHTML = '';\n",
       "        dataTable['output_type'] = 'display_data';\n",
       "        await google.colab.output.renderOutput(dataTable, element);\n",
       "        const docLink = document.createElement('div');\n",
       "        docLink.innerHTML = docLinkHtml;\n",
       "        element.appendChild(docLink);\n",
       "      }\n",
       "    </script>\n",
       "  </div>\n",
       "\n",
       "\n",
       "<div id=\"df-71e776cb-75eb-4ed2-ad8f-f47354cd545d\">\n",
       "  <button class=\"colab-df-quickchart\" onclick=\"quickchart('df-71e776cb-75eb-4ed2-ad8f-f47354cd545d')\"\n",
       "            title=\"Suggest charts\"\n",
       "            style=\"display:none;\">\n",
       "\n",
       "<svg xmlns=\"http://www.w3.org/2000/svg\" height=\"24px\"viewBox=\"0 0 24 24\"\n",
       "     width=\"24px\">\n",
       "    <g>\n",
       "        <path d=\"M19 3H5c-1.1 0-2 .9-2 2v14c0 1.1.9 2 2 2h14c1.1 0 2-.9 2-2V5c0-1.1-.9-2-2-2zM9 17H7v-7h2v7zm4 0h-2V7h2v10zm4 0h-2v-4h2v4z\"/>\n",
       "    </g>\n",
       "</svg>\n",
       "  </button>\n",
       "\n",
       "<style>\n",
       "  .colab-df-quickchart {\n",
       "      --bg-color: #E8F0FE;\n",
       "      --fill-color: #1967D2;\n",
       "      --hover-bg-color: #E2EBFA;\n",
       "      --hover-fill-color: #174EA6;\n",
       "      --disabled-fill-color: #AAA;\n",
       "      --disabled-bg-color: #DDD;\n",
       "  }\n",
       "\n",
       "  [theme=dark] .colab-df-quickchart {\n",
       "      --bg-color: #3B4455;\n",
       "      --fill-color: #D2E3FC;\n",
       "      --hover-bg-color: #434B5C;\n",
       "      --hover-fill-color: #FFFFFF;\n",
       "      --disabled-bg-color: #3B4455;\n",
       "      --disabled-fill-color: #666;\n",
       "  }\n",
       "\n",
       "  .colab-df-quickchart {\n",
       "    background-color: var(--bg-color);\n",
       "    border: none;\n",
       "    border-radius: 50%;\n",
       "    cursor: pointer;\n",
       "    display: none;\n",
       "    fill: var(--fill-color);\n",
       "    height: 32px;\n",
       "    padding: 0;\n",
       "    width: 32px;\n",
       "  }\n",
       "\n",
       "  .colab-df-quickchart:hover {\n",
       "    background-color: var(--hover-bg-color);\n",
       "    box-shadow: 0 1px 2px rgba(60, 64, 67, 0.3), 0 1px 3px 1px rgba(60, 64, 67, 0.15);\n",
       "    fill: var(--button-hover-fill-color);\n",
       "  }\n",
       "\n",
       "  .colab-df-quickchart-complete:disabled,\n",
       "  .colab-df-quickchart-complete:disabled:hover {\n",
       "    background-color: var(--disabled-bg-color);\n",
       "    fill: var(--disabled-fill-color);\n",
       "    box-shadow: none;\n",
       "  }\n",
       "\n",
       "  .colab-df-spinner {\n",
       "    border: 2px solid var(--fill-color);\n",
       "    border-color: transparent;\n",
       "    border-bottom-color: var(--fill-color);\n",
       "    animation:\n",
       "      spin 1s steps(1) infinite;\n",
       "  }\n",
       "\n",
       "  @keyframes spin {\n",
       "    0% {\n",
       "      border-color: transparent;\n",
       "      border-bottom-color: var(--fill-color);\n",
       "      border-left-color: var(--fill-color);\n",
       "    }\n",
       "    20% {\n",
       "      border-color: transparent;\n",
       "      border-left-color: var(--fill-color);\n",
       "      border-top-color: var(--fill-color);\n",
       "    }\n",
       "    30% {\n",
       "      border-color: transparent;\n",
       "      border-left-color: var(--fill-color);\n",
       "      border-top-color: var(--fill-color);\n",
       "      border-right-color: var(--fill-color);\n",
       "    }\n",
       "    40% {\n",
       "      border-color: transparent;\n",
       "      border-right-color: var(--fill-color);\n",
       "      border-top-color: var(--fill-color);\n",
       "    }\n",
       "    60% {\n",
       "      border-color: transparent;\n",
       "      border-right-color: var(--fill-color);\n",
       "    }\n",
       "    80% {\n",
       "      border-color: transparent;\n",
       "      border-right-color: var(--fill-color);\n",
       "      border-bottom-color: var(--fill-color);\n",
       "    }\n",
       "    90% {\n",
       "      border-color: transparent;\n",
       "      border-bottom-color: var(--fill-color);\n",
       "    }\n",
       "  }\n",
       "</style>\n",
       "\n",
       "  <script>\n",
       "    async function quickchart(key) {\n",
       "      const quickchartButtonEl =\n",
       "        document.querySelector('#' + key + ' button');\n",
       "      quickchartButtonEl.disabled = true;  // To prevent multiple clicks.\n",
       "      quickchartButtonEl.classList.add('colab-df-spinner');\n",
       "      try {\n",
       "        const charts = await google.colab.kernel.invokeFunction(\n",
       "            'suggestCharts', [key], {});\n",
       "      } catch (error) {\n",
       "        console.error('Error during call to suggestCharts:', error);\n",
       "      }\n",
       "      quickchartButtonEl.classList.remove('colab-df-spinner');\n",
       "      quickchartButtonEl.classList.add('colab-df-quickchart-complete');\n",
       "    }\n",
       "    (() => {\n",
       "      let quickchartButtonEl =\n",
       "        document.querySelector('#df-71e776cb-75eb-4ed2-ad8f-f47354cd545d button');\n",
       "      quickchartButtonEl.style.display =\n",
       "        google.colab.kernel.accessAllowed ? 'block' : 'none';\n",
       "    })();\n",
       "  </script>\n",
       "</div>\n",
       "\n",
       "    </div>\n",
       "  </div>\n"
      ],
      "text/plain": [
       "  court_index_number  docket_number      eviction_address  \\\n",
       "0           35484/19         494073  184 MT. EDEN PARKWAY   \n",
       "1          251388/19         117473   160 EAST 117 STREET   \n",
       "2           66822/19          25733     66-07 ALDERTON ST   \n",
       "3           68501/18          91505    1245 STRATFORD AVE   \n",
       "4           68498/19          26147     28-16 47TH STREET   \n",
       "\n",
       "  eviction_apartment_number executed_date    borough  eviction_postcode  \\\n",
       "0                   UNIT 1D    2020-01-02      BRONX              10457   \n",
       "1                       3-B    2020-01-02  MANHATTAN              10035   \n",
       "2                   unknown    2020-01-02     QUEENS              11374   \n",
       "3                       D12    2020-01-02      BRONX              10472   \n",
       "4                       1-L    2020-01-02     QUEENS              11103   \n",
       "\n",
       "          ejectment eviction/legal_possession   latitude  ...  is_condo  \\\n",
       "0  Not an Ejectment                Possession  40.842943  ...     False   \n",
       "1  Not an Ejectment                Possession  40.799094  ...       NaN   \n",
       "2  Not an Ejectment                Possession  40.719316  ...     False   \n",
       "3  Not an Ejectment                Possession  40.830623  ...     False   \n",
       "4  Not an Ejectment                Possession  40.762390  ...     False   \n",
       "\n",
       "   floor_category                         rent_era  \\\n",
       "0        mid-rise       Pre-1947, pre-rent-control   \n",
       "1             NaN                              NaN   \n",
       "2        low-rise  1994–Present, vacancy decontrol   \n",
       "3        mid-rise       Pre-1947, pre-rent-control   \n",
       "4        low-rise       Pre-1947, pre-rent-control   \n",
       "\n",
       "               architectural_style                    economic_period  \\\n",
       "0  1921–1930, Art Deco Skyscrapers     Pre-1929, pre-great depression   \n",
       "1                              NaN                                NaN   \n",
       "2        1981–2000, Post-Modernism  1991–2008, modern economic growth   \n",
       "3  1921–1930, Art Deco Skyscrapers     Pre-1929, pre-great depression   \n",
       "4  1921–1930, Art Deco Skyscrapers     Pre-1929, pre-great depression   \n",
       "\n",
       "   residential_units_category is_llc building_size_category     size_quartile  \\\n",
       "0                21-100 units   True                  large  Q4 (largest 25%)   \n",
       "1                         NaN    NaN                    NaN               NaN   \n",
       "2                   3-5 units   True                  small  Q4 (largest 25%)   \n",
       "3                21-100 units   True             very large  Q4 (largest 25%)   \n",
       "4                  6-20 units   True                 medium  Q4 (largest 25%)   \n",
       "\n",
       "      decade  \n",
       "0  1920-1929  \n",
       "1        NaN  \n",
       "2  1990-1999  \n",
       "3  1920-1929  \n",
       "4  1920-1929  \n",
       "\n",
       "[5 rows x 40 columns]"
      ]
     },
     "metadata": {},
     "output_type": "display_data"
    },
    {
     "data": {
      "text/plain": [
       "(None, (6338, 40))"
      ]
     },
     "execution_count": 15,
     "metadata": {},
     "output_type": "execute_result"
    }
   ],
   "source": [
    "display(bbl_evictions_merged.head()), bbl_evictions_merged.shape"
   ]
  },
  {
   "cell_type": "code",
   "execution_count": 17,
   "metadata": {
    "colab": {
     "base_uri": "https://localhost:8080/"
    },
    "id": "XNMq_0JL946A",
    "outputId": "208e8ddc-122d-4bc4-83cf-bc4ce96f310b"
   },
   "outputs": [
    {
     "data": {
      "text/plain": [
       "(6338, 40)"
      ]
     },
     "execution_count": 17,
     "metadata": {},
     "output_type": "execute_result"
    }
   ],
   "source": [
    "bbl_evictions_merged.shape\n",
    "# code size, much smaller"
   ]
  },
  {
   "cell_type": "code",
   "execution_count": 18,
   "metadata": {
    "colab": {
     "base_uri": "https://localhost:8080/"
    },
    "id": "xCv11x1qyV1n",
    "outputId": "6a62bd51-4401-4fb9-ea37-866504f023a8"
   },
   "outputs": [
    {
     "data": {
      "text/plain": [
       "array([2020, 2021, 2022], dtype=int32)"
      ]
     },
     "execution_count": 18,
     "metadata": {},
     "output_type": "execute_result"
    }
   ],
   "source": [
    "type(bbl_evictions_merged.executed_date[0]), bbl_evictions_merged.executed_date[0]\n",
    "bbl_evictions_merged['executed_date'] = pd.to_datetime(bbl_evictions_merged['executed_date'], format='%Y-%m-%d')\n",
    "bbl_evictions_merged['executed_date'].dt.year.unique() # 5 years"
   ]
  },
  {
   "cell_type": "code",
   "execution_count": 19,
   "metadata": {
    "id": "LA66LC2n6Oit"
   },
   "outputs": [],
   "source": [
    "building_characteristics = [\n",
    "    'yearbuilt', 'bldgclass', 'numfloors', 'unitsres', 'ownername', 'bldgarea',\n",
    "    'building_type', 'building_category', 'is_condo', 'floor_category',\n",
    "    'rent_era', 'architectural_style', 'economic_period',\n",
    "    'residential_units_category', 'is_llc', 'building_size_category',\n",
    "    'size_quartile', 'yearbuilt', 'numfloors', 'unitsres'\n",
    "]"
   ]
  },
  {
   "cell_type": "code",
   "execution_count": 20,
   "metadata": {
    "id": "SYFAkZ1M6OWR"
   },
   "outputs": [],
   "source": [
    "nan_counts = bbl_evictions_merged[building_characteristics].isna().sum()\n",
    "nan_percentages = (nan_counts / len(bbl_evictions_merged) * 100).round(3)\n",
    "# percentage:.3f%"
   ]
  },
  {
   "cell_type": "code",
   "execution_count": 21,
   "metadata": {
    "colab": {
     "base_uri": "https://localhost:8080/"
    },
    "id": "kCuNQElz6OMM",
    "outputId": "3fbd7efc-67f0-4837-e0f3-62f4f3d939a6"
   },
   "outputs": [
    {
     "data": {
      "text/plain": [
       "(yearbuilt                     314\n",
       " bldgclass                     314\n",
       " numfloors                     314\n",
       " unitsres                      314\n",
       " ownername                     314\n",
       " bldgarea                      314\n",
       " building_type                 314\n",
       " building_category             314\n",
       " is_condo                      314\n",
       " floor_category                314\n",
       " rent_era                      314\n",
       " architectural_style           314\n",
       " economic_period               314\n",
       " residential_units_category    314\n",
       " is_llc                        314\n",
       " building_size_category        314\n",
       " size_quartile                 314\n",
       " yearbuilt                     314\n",
       " numfloors                     314\n",
       " unitsres                      314\n",
       " dtype: int64,\n",
       " yearbuilt                     4.954\n",
       " bldgclass                     4.954\n",
       " numfloors                     4.954\n",
       " unitsres                      4.954\n",
       " ownername                     4.954\n",
       " bldgarea                      4.954\n",
       " building_type                 4.954\n",
       " building_category             4.954\n",
       " is_condo                      4.954\n",
       " floor_category                4.954\n",
       " rent_era                      4.954\n",
       " architectural_style           4.954\n",
       " economic_period               4.954\n",
       " residential_units_category    4.954\n",
       " is_llc                        4.954\n",
       " building_size_category        4.954\n",
       " size_quartile                 4.954\n",
       " yearbuilt                     4.954\n",
       " numfloors                     4.954\n",
       " unitsres                      4.954\n",
       " dtype: float64)"
      ]
     },
     "execution_count": 21,
     "metadata": {},
     "output_type": "execute_result"
    }
   ],
   "source": [
    "nan_counts, nan_percentages"
   ]
  },
  {
   "cell_type": "code",
   "execution_count": 22,
   "metadata": {
    "colab": {
     "base_uri": "https://localhost:8080/"
    },
    "id": "5iMqB-FFG-Yc",
    "outputId": "6a51cb6f-9b15-4539-9a97-6f9cebb00292"
   },
   "outputs": [
    {
     "data": {
      "text/plain": [
       "(6338, 40)"
      ]
     },
     "execution_count": 22,
     "metadata": {},
     "output_type": "execute_result"
    }
   ],
   "source": [
    "bbl_evictions_merged.shape"
   ]
  },
  {
   "cell_type": "code",
   "execution_count": 23,
   "metadata": {
    "id": "4zMMD4J8HAu8"
   },
   "outputs": [],
   "source": [
    "df = bbl_evictions_merged.copy()"
   ]
  },
  {
   "cell_type": "code",
   "execution_count": 24,
   "metadata": {
    "id": "A-IkLCY26NrG"
   },
   "outputs": [],
   "source": [
    "df = bbl_evictions_merged.dropna(subset=['average_year_eviction_count'])"
   ]
  },
  {
   "cell_type": "code",
   "execution_count": 25,
   "metadata": {
    "colab": {
     "base_uri": "https://localhost:8080/"
    },
    "id": "NVddJqIX6Ngi",
    "outputId": "5a6c924d-5d95-4076-98e6-48211d6f4baf"
   },
   "outputs": [
    {
     "data": {
      "text/plain": [
       "(6338, 40)"
      ]
     },
     "execution_count": 25,
     "metadata": {},
     "output_type": "execute_result"
    }
   ],
   "source": [
    "df.shape"
   ]
  },
  {
   "cell_type": "code",
   "execution_count": 26,
   "metadata": {
    "id": "KbcJLrKn6NSJ"
   },
   "outputs": [],
   "source": [
    "df_clean = df.dropna(subset=building_characteristics)"
   ]
  },
  {
   "cell_type": "code",
   "execution_count": 27,
   "metadata": {
    "colab": {
     "base_uri": "https://localhost:8080/"
    },
    "id": "42Dgvrxv6NFX",
    "outputId": "51c04755-34b3-470f-be9d-8d1cd9a65827"
   },
   "outputs": [
    {
     "data": {
      "text/plain": [
       "((6024, 40), 3770)"
      ]
     },
     "execution_count": 27,
     "metadata": {},
     "output_type": "execute_result"
    }
   ],
   "source": [
    "df_clean.shape, 74082 - 70312\n",
    "# good"
   ]
  },
  {
   "cell_type": "code",
   "execution_count": 28,
   "metadata": {
    "id": "G7FmPTW06M6a"
   },
   "outputs": [],
   "source": [
    "df_clean['eviction_rate_per_unit'] = df_clean['average_year_eviction_count'] / df_clean['unitsres']\n",
    "df_clean['eviction_rate_per_unit'] = df_clean['eviction_rate_per_unit'].replace([np.inf, -np.inf], np.nan)\n",
    "# second line handles potential division by zero errors"
   ]
  },
  {
   "cell_type": "code",
   "execution_count": 29,
   "metadata": {
    "colab": {
     "base_uri": "https://localhost:8080/",
     "height": 446
    },
    "id": "CyuD5N1V6MuI",
    "outputId": "bfaa6852-a27a-44b8-ffab-e413be9e5edb"
   },
   "outputs": [
    {
     "data": {
      "application/vnd.google.colaboratory.intrinsic+json": {
       "type": "dataframe"
      },
      "text/html": [
       "\n",
       "  <div id=\"df-eb82c637-3b6a-4147-98e4-ec9496ae255d\" class=\"colab-df-container\">\n",
       "    <div>\n",
       "<style scoped>\n",
       "    .dataframe tbody tr th:only-of-type {\n",
       "        vertical-align: middle;\n",
       "    }\n",
       "\n",
       "    .dataframe tbody tr th {\n",
       "        vertical-align: top;\n",
       "    }\n",
       "\n",
       "    .dataframe thead th {\n",
       "        text-align: right;\n",
       "    }\n",
       "</style>\n",
       "<table border=\"1\" class=\"dataframe\">\n",
       "  <thead>\n",
       "    <tr style=\"text-align: right;\">\n",
       "      <th></th>\n",
       "      <th>court_index_number</th>\n",
       "      <th>docket_number</th>\n",
       "      <th>eviction_address</th>\n",
       "      <th>eviction_apartment_number</th>\n",
       "      <th>executed_date</th>\n",
       "      <th>borough</th>\n",
       "      <th>eviction_postcode</th>\n",
       "      <th>ejectment</th>\n",
       "      <th>eviction/legal_possession</th>\n",
       "      <th>latitude</th>\n",
       "      <th>...</th>\n",
       "      <th>floor_category</th>\n",
       "      <th>rent_era</th>\n",
       "      <th>architectural_style</th>\n",
       "      <th>economic_period</th>\n",
       "      <th>residential_units_category</th>\n",
       "      <th>is_llc</th>\n",
       "      <th>building_size_category</th>\n",
       "      <th>size_quartile</th>\n",
       "      <th>decade</th>\n",
       "      <th>eviction_rate_per_unit</th>\n",
       "    </tr>\n",
       "  </thead>\n",
       "  <tbody>\n",
       "    <tr>\n",
       "      <th>0</th>\n",
       "      <td>35484/19</td>\n",
       "      <td>494073</td>\n",
       "      <td>184 MT. EDEN PARKWAY</td>\n",
       "      <td>UNIT 1D</td>\n",
       "      <td>2020-01-02</td>\n",
       "      <td>BRONX</td>\n",
       "      <td>10457</td>\n",
       "      <td>Not an Ejectment</td>\n",
       "      <td>Possession</td>\n",
       "      <td>40.842943</td>\n",
       "      <td>...</td>\n",
       "      <td>mid-rise</td>\n",
       "      <td>Pre-1947, pre-rent-control</td>\n",
       "      <td>1921–1930, Art Deco Skyscrapers</td>\n",
       "      <td>Pre-1929, pre-great depression</td>\n",
       "      <td>21-100 units</td>\n",
       "      <td>True</td>\n",
       "      <td>large</td>\n",
       "      <td>Q4 (largest 25%)</td>\n",
       "      <td>1920-1929</td>\n",
       "      <td>0.038462</td>\n",
       "    </tr>\n",
       "    <tr>\n",
       "      <th>2</th>\n",
       "      <td>66822/19</td>\n",
       "      <td>25733</td>\n",
       "      <td>66-07 ALDERTON ST</td>\n",
       "      <td>unknown</td>\n",
       "      <td>2020-01-02</td>\n",
       "      <td>QUEENS</td>\n",
       "      <td>11374</td>\n",
       "      <td>Not an Ejectment</td>\n",
       "      <td>Possession</td>\n",
       "      <td>40.719316</td>\n",
       "      <td>...</td>\n",
       "      <td>low-rise</td>\n",
       "      <td>1994–Present, vacancy decontrol</td>\n",
       "      <td>1981–2000, Post-Modernism</td>\n",
       "      <td>1991–2008, modern economic growth</td>\n",
       "      <td>3-5 units</td>\n",
       "      <td>True</td>\n",
       "      <td>small</td>\n",
       "      <td>Q4 (largest 25%)</td>\n",
       "      <td>1990-1999</td>\n",
       "      <td>0.333333</td>\n",
       "    </tr>\n",
       "    <tr>\n",
       "      <th>3</th>\n",
       "      <td>68501/18</td>\n",
       "      <td>91505</td>\n",
       "      <td>1245 STRATFORD AVE</td>\n",
       "      <td>D12</td>\n",
       "      <td>2020-01-02</td>\n",
       "      <td>BRONX</td>\n",
       "      <td>10472</td>\n",
       "      <td>Not an Ejectment</td>\n",
       "      <td>Possession</td>\n",
       "      <td>40.830623</td>\n",
       "      <td>...</td>\n",
       "      <td>mid-rise</td>\n",
       "      <td>Pre-1947, pre-rent-control</td>\n",
       "      <td>1921–1930, Art Deco Skyscrapers</td>\n",
       "      <td>Pre-1929, pre-great depression</td>\n",
       "      <td>21-100 units</td>\n",
       "      <td>True</td>\n",
       "      <td>very large</td>\n",
       "      <td>Q4 (largest 25%)</td>\n",
       "      <td>1920-1929</td>\n",
       "      <td>0.013699</td>\n",
       "    </tr>\n",
       "    <tr>\n",
       "      <th>4</th>\n",
       "      <td>68498/19</td>\n",
       "      <td>26147</td>\n",
       "      <td>28-16 47TH STREET</td>\n",
       "      <td>1-L</td>\n",
       "      <td>2020-01-02</td>\n",
       "      <td>QUEENS</td>\n",
       "      <td>11103</td>\n",
       "      <td>Not an Ejectment</td>\n",
       "      <td>Possession</td>\n",
       "      <td>40.762390</td>\n",
       "      <td>...</td>\n",
       "      <td>low-rise</td>\n",
       "      <td>Pre-1947, pre-rent-control</td>\n",
       "      <td>1921–1930, Art Deco Skyscrapers</td>\n",
       "      <td>Pre-1929, pre-great depression</td>\n",
       "      <td>6-20 units</td>\n",
       "      <td>True</td>\n",
       "      <td>medium</td>\n",
       "      <td>Q4 (largest 25%)</td>\n",
       "      <td>1920-1929</td>\n",
       "      <td>0.166667</td>\n",
       "    </tr>\n",
       "    <tr>\n",
       "      <th>5</th>\n",
       "      <td>65335/19</td>\n",
       "      <td>11940</td>\n",
       "      <td>645 WEST 160TH STREET APT. 4C</td>\n",
       "      <td>4C</td>\n",
       "      <td>2020-01-02</td>\n",
       "      <td>MANHATTAN</td>\n",
       "      <td>10032</td>\n",
       "      <td>Not an Ejectment</td>\n",
       "      <td>Possession</td>\n",
       "      <td>40.836721</td>\n",
       "      <td>...</td>\n",
       "      <td>mid-rise</td>\n",
       "      <td>Pre-1947, pre-rent-control</td>\n",
       "      <td>1900–1920, Beaux-Arts</td>\n",
       "      <td>Pre-1929, pre-great depression</td>\n",
       "      <td>21-100 units</td>\n",
       "      <td>True</td>\n",
       "      <td>very large</td>\n",
       "      <td>Q4 (largest 25%)</td>\n",
       "      <td>1910-1919</td>\n",
       "      <td>0.020833</td>\n",
       "    </tr>\n",
       "  </tbody>\n",
       "</table>\n",
       "<p>5 rows × 41 columns</p>\n",
       "</div>\n",
       "    <div class=\"colab-df-buttons\">\n",
       "\n",
       "  <div class=\"colab-df-container\">\n",
       "    <button class=\"colab-df-convert\" onclick=\"convertToInteractive('df-eb82c637-3b6a-4147-98e4-ec9496ae255d')\"\n",
       "            title=\"Convert this dataframe to an interactive table.\"\n",
       "            style=\"display:none;\">\n",
       "\n",
       "  <svg xmlns=\"http://www.w3.org/2000/svg\" height=\"24px\" viewBox=\"0 -960 960 960\">\n",
       "    <path d=\"M120-120v-720h720v720H120Zm60-500h600v-160H180v160Zm220 220h160v-160H400v160Zm0 220h160v-160H400v160ZM180-400h160v-160H180v160Zm440 0h160v-160H620v160ZM180-180h160v-160H180v160Zm440 0h160v-160H620v160Z\"/>\n",
       "  </svg>\n",
       "    </button>\n",
       "\n",
       "  <style>\n",
       "    .colab-df-container {\n",
       "      display:flex;\n",
       "      gap: 12px;\n",
       "    }\n",
       "\n",
       "    .colab-df-convert {\n",
       "      background-color: #E8F0FE;\n",
       "      border: none;\n",
       "      border-radius: 50%;\n",
       "      cursor: pointer;\n",
       "      display: none;\n",
       "      fill: #1967D2;\n",
       "      height: 32px;\n",
       "      padding: 0 0 0 0;\n",
       "      width: 32px;\n",
       "    }\n",
       "\n",
       "    .colab-df-convert:hover {\n",
       "      background-color: #E2EBFA;\n",
       "      box-shadow: 0px 1px 2px rgba(60, 64, 67, 0.3), 0px 1px 3px 1px rgba(60, 64, 67, 0.15);\n",
       "      fill: #174EA6;\n",
       "    }\n",
       "\n",
       "    .colab-df-buttons div {\n",
       "      margin-bottom: 4px;\n",
       "    }\n",
       "\n",
       "    [theme=dark] .colab-df-convert {\n",
       "      background-color: #3B4455;\n",
       "      fill: #D2E3FC;\n",
       "    }\n",
       "\n",
       "    [theme=dark] .colab-df-convert:hover {\n",
       "      background-color: #434B5C;\n",
       "      box-shadow: 0px 1px 3px 1px rgba(0, 0, 0, 0.15);\n",
       "      filter: drop-shadow(0px 1px 2px rgba(0, 0, 0, 0.3));\n",
       "      fill: #FFFFFF;\n",
       "    }\n",
       "  </style>\n",
       "\n",
       "    <script>\n",
       "      const buttonEl =\n",
       "        document.querySelector('#df-eb82c637-3b6a-4147-98e4-ec9496ae255d button.colab-df-convert');\n",
       "      buttonEl.style.display =\n",
       "        google.colab.kernel.accessAllowed ? 'block' : 'none';\n",
       "\n",
       "      async function convertToInteractive(key) {\n",
       "        const element = document.querySelector('#df-eb82c637-3b6a-4147-98e4-ec9496ae255d');\n",
       "        const dataTable =\n",
       "          await google.colab.kernel.invokeFunction('convertToInteractive',\n",
       "                                                    [key], {});\n",
       "        if (!dataTable) return;\n",
       "\n",
       "        const docLinkHtml = 'Like what you see? Visit the ' +\n",
       "          '<a target=\"_blank\" href=https://colab.research.google.com/notebooks/data_table.ipynb>data table notebook</a>'\n",
       "          + ' to learn more about interactive tables.';\n",
       "        element.innerHTML = '';\n",
       "        dataTable['output_type'] = 'display_data';\n",
       "        await google.colab.output.renderOutput(dataTable, element);\n",
       "        const docLink = document.createElement('div');\n",
       "        docLink.innerHTML = docLinkHtml;\n",
       "        element.appendChild(docLink);\n",
       "      }\n",
       "    </script>\n",
       "  </div>\n",
       "\n",
       "\n",
       "<div id=\"df-460a9b46-696e-4ba0-8e92-5e0c98e97e9d\">\n",
       "  <button class=\"colab-df-quickchart\" onclick=\"quickchart('df-460a9b46-696e-4ba0-8e92-5e0c98e97e9d')\"\n",
       "            title=\"Suggest charts\"\n",
       "            style=\"display:none;\">\n",
       "\n",
       "<svg xmlns=\"http://www.w3.org/2000/svg\" height=\"24px\"viewBox=\"0 0 24 24\"\n",
       "     width=\"24px\">\n",
       "    <g>\n",
       "        <path d=\"M19 3H5c-1.1 0-2 .9-2 2v14c0 1.1.9 2 2 2h14c1.1 0 2-.9 2-2V5c0-1.1-.9-2-2-2zM9 17H7v-7h2v7zm4 0h-2V7h2v10zm4 0h-2v-4h2v4z\"/>\n",
       "    </g>\n",
       "</svg>\n",
       "  </button>\n",
       "\n",
       "<style>\n",
       "  .colab-df-quickchart {\n",
       "      --bg-color: #E8F0FE;\n",
       "      --fill-color: #1967D2;\n",
       "      --hover-bg-color: #E2EBFA;\n",
       "      --hover-fill-color: #174EA6;\n",
       "      --disabled-fill-color: #AAA;\n",
       "      --disabled-bg-color: #DDD;\n",
       "  }\n",
       "\n",
       "  [theme=dark] .colab-df-quickchart {\n",
       "      --bg-color: #3B4455;\n",
       "      --fill-color: #D2E3FC;\n",
       "      --hover-bg-color: #434B5C;\n",
       "      --hover-fill-color: #FFFFFF;\n",
       "      --disabled-bg-color: #3B4455;\n",
       "      --disabled-fill-color: #666;\n",
       "  }\n",
       "\n",
       "  .colab-df-quickchart {\n",
       "    background-color: var(--bg-color);\n",
       "    border: none;\n",
       "    border-radius: 50%;\n",
       "    cursor: pointer;\n",
       "    display: none;\n",
       "    fill: var(--fill-color);\n",
       "    height: 32px;\n",
       "    padding: 0;\n",
       "    width: 32px;\n",
       "  }\n",
       "\n",
       "  .colab-df-quickchart:hover {\n",
       "    background-color: var(--hover-bg-color);\n",
       "    box-shadow: 0 1px 2px rgba(60, 64, 67, 0.3), 0 1px 3px 1px rgba(60, 64, 67, 0.15);\n",
       "    fill: var(--button-hover-fill-color);\n",
       "  }\n",
       "\n",
       "  .colab-df-quickchart-complete:disabled,\n",
       "  .colab-df-quickchart-complete:disabled:hover {\n",
       "    background-color: var(--disabled-bg-color);\n",
       "    fill: var(--disabled-fill-color);\n",
       "    box-shadow: none;\n",
       "  }\n",
       "\n",
       "  .colab-df-spinner {\n",
       "    border: 2px solid var(--fill-color);\n",
       "    border-color: transparent;\n",
       "    border-bottom-color: var(--fill-color);\n",
       "    animation:\n",
       "      spin 1s steps(1) infinite;\n",
       "  }\n",
       "\n",
       "  @keyframes spin {\n",
       "    0% {\n",
       "      border-color: transparent;\n",
       "      border-bottom-color: var(--fill-color);\n",
       "      border-left-color: var(--fill-color);\n",
       "    }\n",
       "    20% {\n",
       "      border-color: transparent;\n",
       "      border-left-color: var(--fill-color);\n",
       "      border-top-color: var(--fill-color);\n",
       "    }\n",
       "    30% {\n",
       "      border-color: transparent;\n",
       "      border-left-color: var(--fill-color);\n",
       "      border-top-color: var(--fill-color);\n",
       "      border-right-color: var(--fill-color);\n",
       "    }\n",
       "    40% {\n",
       "      border-color: transparent;\n",
       "      border-right-color: var(--fill-color);\n",
       "      border-top-color: var(--fill-color);\n",
       "    }\n",
       "    60% {\n",
       "      border-color: transparent;\n",
       "      border-right-color: var(--fill-color);\n",
       "    }\n",
       "    80% {\n",
       "      border-color: transparent;\n",
       "      border-right-color: var(--fill-color);\n",
       "      border-bottom-color: var(--fill-color);\n",
       "    }\n",
       "    90% {\n",
       "      border-color: transparent;\n",
       "      border-bottom-color: var(--fill-color);\n",
       "    }\n",
       "  }\n",
       "</style>\n",
       "\n",
       "  <script>\n",
       "    async function quickchart(key) {\n",
       "      const quickchartButtonEl =\n",
       "        document.querySelector('#' + key + ' button');\n",
       "      quickchartButtonEl.disabled = true;  // To prevent multiple clicks.\n",
       "      quickchartButtonEl.classList.add('colab-df-spinner');\n",
       "      try {\n",
       "        const charts = await google.colab.kernel.invokeFunction(\n",
       "            'suggestCharts', [key], {});\n",
       "      } catch (error) {\n",
       "        console.error('Error during call to suggestCharts:', error);\n",
       "      }\n",
       "      quickchartButtonEl.classList.remove('colab-df-spinner');\n",
       "      quickchartButtonEl.classList.add('colab-df-quickchart-complete');\n",
       "    }\n",
       "    (() => {\n",
       "      let quickchartButtonEl =\n",
       "        document.querySelector('#df-460a9b46-696e-4ba0-8e92-5e0c98e97e9d button');\n",
       "      quickchartButtonEl.style.display =\n",
       "        google.colab.kernel.accessAllowed ? 'block' : 'none';\n",
       "    })();\n",
       "  </script>\n",
       "</div>\n",
       "\n",
       "    </div>\n",
       "  </div>\n"
      ],
      "text/plain": [
       "  court_index_number  docket_number               eviction_address  \\\n",
       "0           35484/19         494073           184 MT. EDEN PARKWAY   \n",
       "2           66822/19          25733              66-07 ALDERTON ST   \n",
       "3           68501/18          91505             1245 STRATFORD AVE   \n",
       "4           68498/19          26147              28-16 47TH STREET   \n",
       "5           65335/19          11940  645 WEST 160TH STREET APT. 4C   \n",
       "\n",
       "  eviction_apartment_number executed_date    borough  eviction_postcode  \\\n",
       "0                   UNIT 1D    2020-01-02      BRONX              10457   \n",
       "2                   unknown    2020-01-02     QUEENS              11374   \n",
       "3                       D12    2020-01-02      BRONX              10472   \n",
       "4                       1-L    2020-01-02     QUEENS              11103   \n",
       "5                        4C    2020-01-02  MANHATTAN              10032   \n",
       "\n",
       "          ejectment eviction/legal_possession   latitude  ...  floor_category  \\\n",
       "0  Not an Ejectment                Possession  40.842943  ...        mid-rise   \n",
       "2  Not an Ejectment                Possession  40.719316  ...        low-rise   \n",
       "3  Not an Ejectment                Possession  40.830623  ...        mid-rise   \n",
       "4  Not an Ejectment                Possession  40.762390  ...        low-rise   \n",
       "5  Not an Ejectment                Possession  40.836721  ...        mid-rise   \n",
       "\n",
       "                          rent_era              architectural_style  \\\n",
       "0       Pre-1947, pre-rent-control  1921–1930, Art Deco Skyscrapers   \n",
       "2  1994–Present, vacancy decontrol        1981–2000, Post-Modernism   \n",
       "3       Pre-1947, pre-rent-control  1921–1930, Art Deco Skyscrapers   \n",
       "4       Pre-1947, pre-rent-control  1921–1930, Art Deco Skyscrapers   \n",
       "5       Pre-1947, pre-rent-control            1900–1920, Beaux-Arts   \n",
       "\n",
       "                     economic_period  residential_units_category  is_llc  \\\n",
       "0     Pre-1929, pre-great depression                21-100 units    True   \n",
       "2  1991–2008, modern economic growth                   3-5 units    True   \n",
       "3     Pre-1929, pre-great depression                21-100 units    True   \n",
       "4     Pre-1929, pre-great depression                  6-20 units    True   \n",
       "5     Pre-1929, pre-great depression                21-100 units    True   \n",
       "\n",
       "  building_size_category     size_quartile     decade  eviction_rate_per_unit  \n",
       "0                  large  Q4 (largest 25%)  1920-1929                0.038462  \n",
       "2                  small  Q4 (largest 25%)  1990-1999                0.333333  \n",
       "3             very large  Q4 (largest 25%)  1920-1929                0.013699  \n",
       "4                 medium  Q4 (largest 25%)  1920-1929                0.166667  \n",
       "5             very large  Q4 (largest 25%)  1910-1919                0.020833  \n",
       "\n",
       "[5 rows x 41 columns]"
      ]
     },
     "metadata": {},
     "output_type": "display_data"
    }
   ],
   "source": [
    "display(df_clean.head())"
   ]
  },
  {
   "cell_type": "code",
   "execution_count": 30,
   "metadata": {
    "id": "YO04e32p6Mg7"
   },
   "outputs": [],
   "source": [
    "building_evictions = df.groupby('bbl_clean').agg({\n",
    "    'average_year_eviction_count': 'mean',\n",
    "    'eviction_count': 'sum',\n",
    "    'unitsres': 'first',\n",
    "    'building_category': 'first',\n",
    "    'building_type': 'first',\n",
    "    'is_llc': 'first',\n",
    "    'yearbuilt': 'first',\n",
    "    'bldgclass': 'first',\n",
    "    'numfloors': 'first',\n",
    "    'bldgarea': 'first',\n",
    "    'is_condo': 'first',\n",
    "    'floor_category': 'first',\n",
    "    'rent_era': 'first',\n",
    "    'architectural_style': 'first',\n",
    "    'economic_period': 'first',\n",
    "    'residential_units_category': 'first',\n",
    "    'building_size_category': 'first',\n",
    "    'size_quartile': 'first'\n",
    "}).reset_index()\n",
    "building_evictions['eviction_rate_per_unit'] = building_evictions['average_year_eviction_count'] / building_evictions['unitsres']"
   ]
  },
  {
   "cell_type": "code",
   "execution_count": 31,
   "metadata": {
    "id": "a-BMS3c-XiyJ"
   },
   "outputs": [],
   "source": [
    "characteristics = [\n",
    "    'yearbuilt', 'bldgclass', 'numfloors', 'unitsres', 'bldgarea',\n",
    "    'building_type', 'building_category', 'is_condo', 'floor_category',\n",
    "    'rent_era', 'architectural_style', 'economic_period',\n",
    "    'residential_units_category', 'is_llc', 'building_size_category',\n",
    "    'size_quartile'\n",
    "]\n",
    "characteristics = list(dict.fromkeys(characteristics))\n",
    "building_evictions['eviction_rate_per_unit'] = building_evictions['eviction_rate_per_unit'].replace([np.inf, -np.inf], np.nan)\n",
    "building_evictions_clean = building_evictions.dropna(subset=['eviction_rate_per_unit'])\n",
    "current_year = pd.Timestamp.now().year\n",
    "building_evictions_clean['building_age'] = current_year - building_evictions_clean['yearbuilt']\n",
    "characteristics.append('building_age')"
   ]
  },
  {
   "cell_type": "code",
   "execution_count": 32,
   "metadata": {
    "colab": {
     "base_uri": "https://localhost:8080/"
    },
    "id": "oSXuA9OmXmq4",
    "outputId": "ed4495a2-e094-4526-907f-e97ad88521ef"
   },
   "outputs": [
    {
     "name": "stdout",
     "output_type": "stream",
     "text": [
      "total buildings analyzed: 4753\n",
      "average eviction rate per unit: 0.2431\n"
     ]
    }
   ],
   "source": [
    "print(f\"total buildings analyzed: {len(building_evictions_clean)}\")\n",
    "print(f\"average eviction rate per unit: {building_evictions_clean['eviction_rate_per_unit'].mean():.4f}\")"
   ]
  },
  {
   "cell_type": "code",
   "execution_count": 33,
   "metadata": {
    "colab": {
     "base_uri": "https://localhost:8080/"
    },
    "id": "Xqdz7JTAdffd",
    "outputId": "87913359-17be-4e5f-a29c-7294bea53aec"
   },
   "outputs": [
    {
     "data": {
      "text/plain": [
       "['yearbuilt', 'numfloors', 'unitsres', 'bldgarea', 'building_age']"
      ]
     },
     "execution_count": 33,
     "metadata": {},
     "output_type": "execute_result"
    }
   ],
   "source": [
    "numerical_chars = building_evictions_clean[characteristics].select_dtypes(include=[np.number]).columns.tolist()\n",
    "numerical_chars"
   ]
  },
  {
   "cell_type": "code",
   "execution_count": 34,
   "metadata": {
    "id": "rw9bLZ7AXrAv"
   },
   "outputs": [],
   "source": [
    "corr_data = pd.DataFrame()\n",
    "for char in numerical_chars:\n",
    "    correlation = building_evictions_clean[[char, 'eviction_rate_per_unit']].corr().iloc[0, 1]\n",
    "    r, p_value = stats.pearsonr(\n",
    "        building_evictions_clean[char].dropna(),\n",
    "        building_evictions_clean.loc[building_evictions_clean[char].notna(), 'eviction_rate_per_unit']\n",
    "    )\n",
    "    corr_data = pd.concat([corr_data, pd.DataFrame({\n",
    "        'characteristic': [char],\n",
    "        'correlation': [correlation],\n",
    "        'p_value': [p_value],\n",
    "        'significant': [p_value < 0.05]\n",
    "    })])"
   ]
  },
  {
   "cell_type": "code",
   "execution_count": 35,
   "metadata": {
    "colab": {
     "base_uri": "https://localhost:8080/"
    },
    "id": "mUk8jS44YFEL",
    "outputId": "cccec63b-a8b8-4479-92cf-b888f91b7f56"
   },
   "outputs": [
    {
     "name": "stdout",
     "output_type": "stream",
     "text": [
      "correlation with eviction rate (only numerical characteristics):\n",
      "  characteristic  correlation        p_value  significant\n",
      "0      numfloors    -0.357203  4.868327e-143         True\n",
      "0       unitsres    -0.160717   7.178726e-29         True\n",
      "0       bldgarea    -0.150264   2.097262e-25         True\n",
      "0      yearbuilt     0.006235   6.674063e-01        False\n",
      "0   building_age    -0.006235   6.674063e-01        False\n"
     ]
    }
   ],
   "source": [
    "corr_data = corr_data.sort_values(by='correlation', key=abs, ascending=False)\n",
    "\n",
    "print(\"correlation with eviction rate (only numerical characteristics):\")\n",
    "print(corr_data)"
   ]
  },
  {
   "cell_type": "code",
   "execution_count": 36,
   "metadata": {
    "colab": {
     "base_uri": "https://localhost:8080/",
     "height": 563
    },
    "id": "3sHExkIUWYb6",
    "outputId": "8f411e94-7d98-4e68-85df-52c3f4628d52"
   },
   "outputs": [
    {
     "data": {
      "text/plain": [
       "Text(0.5, 1.0, 'Correlation with eviction rate (only numerical characteristics)')"
      ]
     },
     "execution_count": 36,
     "metadata": {},
     "output_type": "execute_result"
    },
    {
     "data": {
      "image/png": "[encoded data removed]",
      "text/plain": [
       "<Figure size 800x600 with 1 Axes>"
      ]
     },
     "metadata": {},
     "output_type": "display_data"
    }
   ],
   "source": [
    "plt.figure(figsize=(8, 6))\n",
    "bars = plt.barh(corr_data['characteristic'], corr_data['correlation'])\n",
    "for i, bar in enumerate(bars):\n",
    "    if corr_data.iloc[i]['significant']:\n",
    "        if corr_data.iloc[i]['correlation'] > 0:\n",
    "            bar.set_color('red')\n",
    "        else:\n",
    "            bar.set_color('lightblue')\n",
    "    else:\n",
    "        bar.set_color('gray')\n",
    "plt.title('Correlation with eviction rate (only numerical characteristics)', fontsize=14)\n"
   ]
  },
  {
   "cell_type": "markdown",
   "metadata": {
    "id": "-UJdmnUCcFPt"
   },
   "source": [
    "very similar resulst from the normal times."
   ]
  },
  {
   "cell_type": "markdown",
   "metadata": {
    "id": "makKkRemc9w1"
   },
   "source": []
  },
  {
   "cell_type": "markdown",
   "metadata": {
    "id": "hAhE674NjOxg"
   },
   "source": [
    "## Categorical analysis:"
   ]
  },
  {
   "cell_type": "markdown",
   "metadata": {
    "id": "yk4Wtm9Aj2_p"
   },
   "source": [
    "## 1. Building category (building type)"
   ]
  },
  {
   "cell_type": "code",
   "execution_count": 37,
   "metadata": {
    "colab": {
     "base_uri": "https://localhost:8080/"
    },
    "id": "TsF5Vwp-j2cF",
    "outputId": "22cc0c48-2853-47f9-d3ee-914c92fc6001"
   },
   "outputs": [
    {
     "data": {
      "text/plain": [
       "array(['elevator', None, 'walk-up', 'condo-co-op',\n",
       "       'primarily_res_with_mixed_use', 'single-family', 'two-family'],\n",
       "      dtype=object)"
      ]
     },
     "execution_count": 37,
     "metadata": {},
     "output_type": "execute_result"
    }
   ],
   "source": [
    "building_evictions.building_category.unique()\n",
    "# type of the building, two-family, elevator, etc....."
   ]
  },
  {
   "cell_type": "markdown",
   "metadata": {
    "id": "0buaA8hdllMp"
   },
   "source": [
    "### total count per type of buildings over the years"
   ]
  },
  {
   "cell_type": "code",
   "execution_count": 38,
   "metadata": {
    "id": "e7V2dd5ve3F4"
   },
   "outputs": [],
   "source": [
    "# display(evictions.head())"
   ]
  },
  {
   "cell_type": "code",
   "execution_count": 39,
   "metadata": {
    "colab": {
     "base_uri": "https://localhost:8080/"
    },
    "id": "3k_mqiI7gKPa",
    "outputId": "b738bd89-9fcb-410a-ba08-7c14542476b0"
   },
   "outputs": [
    {
     "data": {
      "text/plain": [
       "Index(['bbl_clean', 'average_year_eviction_count', 'eviction_count',\n",
       "       'unitsres', 'building_category', 'building_type', 'is_llc', 'yearbuilt',\n",
       "       'bldgclass', 'numfloors', 'bldgarea', 'is_condo', 'floor_category',\n",
       "       'rent_era', 'architectural_style', 'economic_period',\n",
       "       'residential_units_category', 'building_size_category', 'size_quartile',\n",
       "       'eviction_rate_per_unit', 'building_age'],\n",
       "      dtype='object')"
      ]
     },
     "execution_count": 39,
     "metadata": {},
     "output_type": "execute_result"
    }
   ],
   "source": [
    "building_evictions_clean.columns"
   ]
  },
  {
   "cell_type": "code",
   "execution_count": 49,
   "metadata": {
    "id": "m9ZNLlVG6kaW"
   },
   "outputs": [],
   "source": [
    "def build_category_dataframes(bbl_cleaned, cleaned_dataframe, category_column, num_years=5):\n",
    "    category_data = cleaned_dataframe.groupby(category_column).agg(\n",
    "        total_evictions=('eviction_count', 'count')\n",
    "    ).reset_index()\n",
    "    total_evictions = category_data['total_evictions'].sum()\n",
    "    category_data['eviction_percentage'] = category_data['total_evictions'] / total_evictions\n",
    "    total_building_count = 753110\n",
    "\n",
    "    building_counts = bbl_cleaned['bbl'].groupby(bbl_cleaned[category_column]).nunique()\n",
    "    building_counts_df = bbl_cleaned.groupby(category_column)['bbl'].nunique().reset_index()\n",
    "    building_counts_df.columns = [category_column, 'building_count']\n",
    "    total_buildings = building_counts_df.building_count.sum()\n",
    "    building_counts_df['building_percentage'] = (building_counts_df['building_count'] / total_buildings) * 100\n",
    "\n",
    "    category_data = pd.merge(category_data, building_counts_df, on=category_column)\n",
    "\n",
    "    category_data['evictions_per_building'] = category_data['total_evictions'] / category_data['building_count']\n",
    "    num_years = 3  # during covid\n",
    "    category_data['yearly_evictions_per_cat'] = category_data['total_evictions'] / num_years\n",
    "    category_data['yearly_evictions_per_building_per_cat'] = category_data['evictions_per_building'] / num_years\n",
    "\n",
    "    return category_data"
   ]
  },
  {
   "cell_type": "code",
   "execution_count": 44,
   "metadata": {
    "colab": {
     "base_uri": "https://localhost:8080/",
     "height": 257
    },
    "id": "Ny5oDW2D6zHP",
    "outputId": "63b45583-1880-4f2c-ad30-c48f089cdf22"
   },
   "outputs": [
    {
     "data": {
      "application/vnd.google.colaboratory.intrinsic+json": {
       "summary": "{\n  \"name\": \"category_data\",\n  \"rows\": 6,\n  \"fields\": [\n    {\n      \"column\": \"building_category\",\n      \"properties\": {\n        \"dtype\": \"string\",\n        \"num_unique_values\": 6,\n        \"samples\": [\n          \"condo-co-op\",\n          \"elevator\",\n          \"walk-up\"\n        ],\n        \"semantic_type\": \"\",\n        \"description\": \"\"\n      }\n    },\n    {\n      \"column\": \"total_evictions\",\n      \"properties\": {\n        \"dtype\": \"number\",\n        \"std\": 716,\n        \"min\": 172,\n        \"max\": 1922,\n        \"num_unique_values\": 6,\n        \"samples\": [\n          286,\n          1382,\n          1922\n        ],\n        \"semantic_type\": \"\",\n        \"description\": \"\"\n      }\n    },\n    {\n      \"column\": \"eviction_percentage\",\n      \"properties\": {\n        \"dtype\": \"number\",\n        \"std\": 0.15071458054025283,\n        \"min\": 0.036187670944666524,\n        \"max\": 0.40437618346307597,\n        \"num_unique_values\": 6,\n        \"samples\": [\n          0.06017252261729434,\n          0.29076372817168106,\n          0.40437618346307597\n        ],\n        \"semantic_type\": \"\",\n        \"description\": \"\"\n      }\n    },\n    {\n      \"column\": \"building_count\",\n      \"properties\": {\n        \"dtype\": \"number\",\n        \"std\": 131081,\n        \"min\": 10884,\n        \"max\": 314302,\n        \"num_unique_values\": 6,\n        \"samples\": [\n          11814,\n          10884,\n          131993\n        ],\n        \"semantic_type\": \"\",\n        \"description\": \"\"\n      }\n    },\n    {\n      \"column\": \"building_percentage\",\n      \"properties\": {\n        \"dtype\": \"number\",\n        \"std\": 17.405318102037388,\n        \"min\": 1.4452072074464555,\n        \"max\": 41.733876857298405,\n        \"num_unique_values\": 6,\n        \"samples\": [\n          1.5686951441356507,\n          1.4452072074464555,\n          17.52639056711503\n        ],\n        \"semantic_type\": \"\",\n        \"description\": \"\"\n      }\n    },\n    {\n      \"column\": \"evictions_per_building\",\n      \"properties\": {\n        \"dtype\": \"number\",\n        \"std\": 0.04873001816951876,\n        \"min\": 0.0007826867153247514,\n        \"max\": 0.12697537669974274,\n        \"num_unique_values\": 6,\n        \"samples\": [\n          0.024208566108007448,\n          0.12697537669974274,\n          0.014561378254907458\n        ],\n        \"semantic_type\": \"\",\n        \"description\": \"\"\n      }\n    },\n    {\n      \"column\": \"yearly_evictions_per_cat\",\n      \"properties\": {\n        \"dtype\": \"number\",\n        \"std\": 143.26928026156432,\n        \"min\": 34.4,\n        \"max\": 384.4,\n        \"num_unique_values\": 6,\n        \"samples\": [\n          57.2,\n          276.4,\n          384.4\n        ],\n        \"semantic_type\": \"\",\n        \"description\": \"\"\n      }\n    },\n    {\n      \"column\": \"yearly_evictions_per_building_per_cat\",\n      \"properties\": {\n        \"dtype\": \"number\",\n        \"std\": 0.009746003633903752,\n        \"min\": 0.00015653734306495028,\n        \"max\": 0.025395075339948548,\n        \"num_unique_values\": 6,\n        \"samples\": [\n          0.00484171322160149,\n          0.025395075339948548,\n          0.0029122756509814916\n        ],\n        \"semantic_type\": \"\",\n        \"description\": \"\"\n      }\n    }\n  ]\n}",
       "type": "dataframe",
       "variable_name": "category_data"
      },
      "text/html": [
       "\n",
       "  <div id=\"df-8887c76d-98ee-46f2-8609-a98083be0b19\" class=\"colab-df-container\">\n",
       "    <div>\n",
       "<style scoped>\n",
       "    .dataframe tbody tr th:only-of-type {\n",
       "        vertical-align: middle;\n",
       "    }\n",
       "\n",
       "    .dataframe tbody tr th {\n",
       "        vertical-align: top;\n",
       "    }\n",
       "\n",
       "    .dataframe thead th {\n",
       "        text-align: right;\n",
       "    }\n",
       "</style>\n",
       "<table border=\"1\" class=\"dataframe\">\n",
       "  <thead>\n",
       "    <tr style=\"text-align: right;\">\n",
       "      <th></th>\n",
       "      <th>building_category</th>\n",
       "      <th>total_evictions</th>\n",
       "      <th>eviction_percentage</th>\n",
       "      <th>building_count</th>\n",
       "      <th>building_percentage</th>\n",
       "      <th>evictions_per_building</th>\n",
       "      <th>yearly_evictions_per_cat</th>\n",
       "      <th>yearly_evictions_per_building_per_cat</th>\n",
       "    </tr>\n",
       "  </thead>\n",
       "  <tbody>\n",
       "    <tr>\n",
       "      <th>0</th>\n",
       "      <td>condo-co-op</td>\n",
       "      <td>286</td>\n",
       "      <td>0.060173</td>\n",
       "      <td>11814</td>\n",
       "      <td>1.568695</td>\n",
       "      <td>0.024209</td>\n",
       "      <td>57.2</td>\n",
       "      <td>0.004842</td>\n",
       "    </tr>\n",
       "    <tr>\n",
       "      <th>1</th>\n",
       "      <td>elevator</td>\n",
       "      <td>1382</td>\n",
       "      <td>0.290764</td>\n",
       "      <td>10884</td>\n",
       "      <td>1.445207</td>\n",
       "      <td>0.126975</td>\n",
       "      <td>276.4</td>\n",
       "      <td>0.025395</td>\n",
       "    </tr>\n",
       "    <tr>\n",
       "      <th>2</th>\n",
       "      <td>primarily_res_with_mixed_use</td>\n",
       "      <td>172</td>\n",
       "      <td>0.036188</td>\n",
       "      <td>33400</td>\n",
       "      <td>4.434943</td>\n",
       "      <td>0.005150</td>\n",
       "      <td>34.4</td>\n",
       "      <td>0.001030</td>\n",
       "    </tr>\n",
       "    <tr>\n",
       "      <th>3</th>\n",
       "      <td>single-family</td>\n",
       "      <td>246</td>\n",
       "      <td>0.051757</td>\n",
       "      <td>314302</td>\n",
       "      <td>41.733877</td>\n",
       "      <td>0.000783</td>\n",
       "      <td>49.2</td>\n",
       "      <td>0.000157</td>\n",
       "    </tr>\n",
       "    <tr>\n",
       "      <th>4</th>\n",
       "      <td>two-family</td>\n",
       "      <td>745</td>\n",
       "      <td>0.156743</td>\n",
       "      <td>250717</td>\n",
       "      <td>33.290887</td>\n",
       "      <td>0.002971</td>\n",
       "      <td>149.0</td>\n",
       "      <td>0.000594</td>\n",
       "    </tr>\n",
       "    <tr>\n",
       "      <th>5</th>\n",
       "      <td>walk-up</td>\n",
       "      <td>1922</td>\n",
       "      <td>0.404376</td>\n",
       "      <td>131993</td>\n",
       "      <td>17.526391</td>\n",
       "      <td>0.014561</td>\n",
       "      <td>384.4</td>\n",
       "      <td>0.002912</td>\n",
       "    </tr>\n",
       "  </tbody>\n",
       "</table>\n",
       "</div>\n",
       "    <div class=\"colab-df-buttons\">\n",
       "\n",
       "  <div class=\"colab-df-container\">\n",
       "    <button class=\"colab-df-convert\" onclick=\"convertToInteractive('df-8887c76d-98ee-46f2-8609-a98083be0b19')\"\n",
       "            title=\"Convert this dataframe to an interactive table.\"\n",
       "            style=\"display:none;\">\n",
       "\n",
       "  <svg xmlns=\"http://www.w3.org/2000/svg\" height=\"24px\" viewBox=\"0 -960 960 960\">\n",
       "    <path d=\"M120-120v-720h720v720H120Zm60-500h600v-160H180v160Zm220 220h160v-160H400v160Zm0 220h160v-160H400v160ZM180-400h160v-160H180v160Zm440 0h160v-160H620v160ZM180-180h160v-160H180v160Zm440 0h160v-160H620v160Z\"/>\n",
       "  </svg>\n",
       "    </button>\n",
       "\n",
       "  <style>\n",
       "    .colab-df-container {\n",
       "      display:flex;\n",
       "      gap: 12px;\n",
       "    }\n",
       "\n",
       "    .colab-df-convert {\n",
       "      background-color: #E8F0FE;\n",
       "      border: none;\n",
       "      border-radius: 50%;\n",
       "      cursor: pointer;\n",
       "      display: none;\n",
       "      fill: #1967D2;\n",
       "      height: 32px;\n",
       "      padding: 0 0 0 0;\n",
       "      width: 32px;\n",
       "    }\n",
       "\n",
       "    .colab-df-convert:hover {\n",
       "      background-color: #E2EBFA;\n",
       "      box-shadow: 0px 1px 2px rgba(60, 64, 67, 0.3), 0px 1px 3px 1px rgba(60, 64, 67, 0.15);\n",
       "      fill: #174EA6;\n",
       "    }\n",
       "\n",
       "    .colab-df-buttons div {\n",
       "      margin-bottom: 4px;\n",
       "    }\n",
       "\n",
       "    [theme=dark] .colab-df-convert {\n",
       "      background-color: #3B4455;\n",
       "      fill: #D2E3FC;\n",
       "    }\n",
       "\n",
       "    [theme=dark] .colab-df-convert:hover {\n",
       "      background-color: #434B5C;\n",
       "      box-shadow: 0px 1px 3px 1px rgba(0, 0, 0, 0.15);\n",
       "      filter: drop-shadow(0px 1px 2px rgba(0, 0, 0, 0.3));\n",
       "      fill: #FFFFFF;\n",
       "    }\n",
       "  </style>\n",
       "\n",
       "    <script>\n",
       "      const buttonEl =\n",
       "        document.querySelector('#df-8887c76d-98ee-46f2-8609-a98083be0b19 button.colab-df-convert');\n",
       "      buttonEl.style.display =\n",
       "        google.colab.kernel.accessAllowed ? 'block' : 'none';\n",
       "\n",
       "      async function convertToInteractive(key) {\n",
       "        const element = document.querySelector('#df-8887c76d-98ee-46f2-8609-a98083be0b19');\n",
       "        const dataTable =\n",
       "          await google.colab.kernel.invokeFunction('convertToInteractive',\n",
       "                                                    [key], {});\n",
       "        if (!dataTable) return;\n",
       "\n",
       "        const docLinkHtml = 'Like what you see? Visit the ' +\n",
       "          '<a target=\"_blank\" href=https://colab.research.google.com/notebooks/data_table.ipynb>data table notebook</a>'\n",
       "          + ' to learn more about interactive tables.';\n",
       "        element.innerHTML = '';\n",
       "        dataTable['output_type'] = 'display_data';\n",
       "        await google.colab.output.renderOutput(dataTable, element);\n",
       "        const docLink = document.createElement('div');\n",
       "        docLink.innerHTML = docLinkHtml;\n",
       "        element.appendChild(docLink);\n",
       "      }\n",
       "    </script>\n",
       "  </div>\n",
       "\n",
       "\n",
       "<div id=\"df-41a0054c-0e8a-4c49-8cdb-09ae2b4b404d\">\n",
       "  <button class=\"colab-df-quickchart\" onclick=\"quickchart('df-41a0054c-0e8a-4c49-8cdb-09ae2b4b404d')\"\n",
       "            title=\"Suggest charts\"\n",
       "            style=\"display:none;\">\n",
       "\n",
       "<svg xmlns=\"http://www.w3.org/2000/svg\" height=\"24px\"viewBox=\"0 0 24 24\"\n",
       "     width=\"24px\">\n",
       "    <g>\n",
       "        <path d=\"M19 3H5c-1.1 0-2 .9-2 2v14c0 1.1.9 2 2 2h14c1.1 0 2-.9 2-2V5c0-1.1-.9-2-2-2zM9 17H7v-7h2v7zm4 0h-2V7h2v10zm4 0h-2v-4h2v4z\"/>\n",
       "    </g>\n",
       "</svg>\n",
       "  </button>\n",
       "\n",
       "<style>\n",
       "  .colab-df-quickchart {\n",
       "      --bg-color: #E8F0FE;\n",
       "      --fill-color: #1967D2;\n",
       "      --hover-bg-color: #E2EBFA;\n",
       "      --hover-fill-color: #174EA6;\n",
       "      --disabled-fill-color: #AAA;\n",
       "      --disabled-bg-color: #DDD;\n",
       "  }\n",
       "\n",
       "  [theme=dark] .colab-df-quickchart {\n",
       "      --bg-color: #3B4455;\n",
       "      --fill-color: #D2E3FC;\n",
       "      --hover-bg-color: #434B5C;\n",
       "      --hover-fill-color: #FFFFFF;\n",
       "      --disabled-bg-color: #3B4455;\n",
       "      --disabled-fill-color: #666;\n",
       "  }\n",
       "\n",
       "  .colab-df-quickchart {\n",
       "    background-color: var(--bg-color);\n",
       "    border: none;\n",
       "    border-radius: 50%;\n",
       "    cursor: pointer;\n",
       "    display: none;\n",
       "    fill: var(--fill-color);\n",
       "    height: 32px;\n",
       "    padding: 0;\n",
       "    width: 32px;\n",
       "  }\n",
       "\n",
       "  .colab-df-quickchart:hover {\n",
       "    background-color: var(--hover-bg-color);\n",
       "    box-shadow: 0 1px 2px rgba(60, 64, 67, 0.3), 0 1px 3px 1px rgba(60, 64, 67, 0.15);\n",
       "    fill: var(--button-hover-fill-color);\n",
       "  }\n",
       "\n",
       "  .colab-df-quickchart-complete:disabled,\n",
       "  .colab-df-quickchart-complete:disabled:hover {\n",
       "    background-color: var(--disabled-bg-color);\n",
       "    fill: var(--disabled-fill-color);\n",
       "    box-shadow: none;\n",
       "  }\n",
       "\n",
       "  .colab-df-spinner {\n",
       "    border: 2px solid var(--fill-color);\n",
       "    border-color: transparent;\n",
       "    border-bottom-color: var(--fill-color);\n",
       "    animation:\n",
       "      spin 1s steps(1) infinite;\n",
       "  }\n",
       "\n",
       "  @keyframes spin {\n",
       "    0% {\n",
       "      border-color: transparent;\n",
       "      border-bottom-color: var(--fill-color);\n",
       "      border-left-color: var(--fill-color);\n",
       "    }\n",
       "    20% {\n",
       "      border-color: transparent;\n",
       "      border-left-color: var(--fill-color);\n",
       "      border-top-color: var(--fill-color);\n",
       "    }\n",
       "    30% {\n",
       "      border-color: transparent;\n",
       "      border-left-color: var(--fill-color);\n",
       "      border-top-color: var(--fill-color);\n",
       "      border-right-color: var(--fill-color);\n",
       "    }\n",
       "    40% {\n",
       "      border-color: transparent;\n",
       "      border-right-color: var(--fill-color);\n",
       "      border-top-color: var(--fill-color);\n",
       "    }\n",
       "    60% {\n",
       "      border-color: transparent;\n",
       "      border-right-color: var(--fill-color);\n",
       "    }\n",
       "    80% {\n",
       "      border-color: transparent;\n",
       "      border-right-color: var(--fill-color);\n",
       "      border-bottom-color: var(--fill-color);\n",
       "    }\n",
       "    90% {\n",
       "      border-color: transparent;\n",
       "      border-bottom-color: var(--fill-color);\n",
       "    }\n",
       "  }\n",
       "</style>\n",
       "\n",
       "  <script>\n",
       "    async function quickchart(key) {\n",
       "      const quickchartButtonEl =\n",
       "        document.querySelector('#' + key + ' button');\n",
       "      quickchartButtonEl.disabled = true;  // To prevent multiple clicks.\n",
       "      quickchartButtonEl.classList.add('colab-df-spinner');\n",
       "      try {\n",
       "        const charts = await google.colab.kernel.invokeFunction(\n",
       "            'suggestCharts', [key], {});\n",
       "      } catch (error) {\n",
       "        console.error('Error during call to suggestCharts:', error);\n",
       "      }\n",
       "      quickchartButtonEl.classList.remove('colab-df-spinner');\n",
       "      quickchartButtonEl.classList.add('colab-df-quickchart-complete');\n",
       "    }\n",
       "    (() => {\n",
       "      let quickchartButtonEl =\n",
       "        document.querySelector('#df-41a0054c-0e8a-4c49-8cdb-09ae2b4b404d button');\n",
       "      quickchartButtonEl.style.display =\n",
       "        google.colab.kernel.accessAllowed ? 'block' : 'none';\n",
       "    })();\n",
       "  </script>\n",
       "</div>\n",
       "\n",
       "  <div id=\"id_ffbbb34a-50a5-4ea6-ac66-8dadcea3208c\">\n",
       "    <style>\n",
       "      .colab-df-generate {\n",
       "        background-color: #E8F0FE;\n",
       "        border: none;\n",
       "        border-radius: 50%;\n",
       "        cursor: pointer;\n",
       "        display: none;\n",
       "        fill: #1967D2;\n",
       "        height: 32px;\n",
       "        padding: 0 0 0 0;\n",
       "        width: 32px;\n",
       "      }\n",
       "\n",
       "      .colab-df-generate:hover {\n",
       "        background-color: #E2EBFA;\n",
       "        box-shadow: 0px 1px 2px rgba(60, 64, 67, 0.3), 0px 1px 3px 1px rgba(60, 64, 67, 0.15);\n",
       "        fill: #174EA6;\n",
       "      }\n",
       "\n",
       "      [theme=dark] .colab-df-generate {\n",
       "        background-color: #3B4455;\n",
       "        fill: #D2E3FC;\n",
       "      }\n",
       "\n",
       "      [theme=dark] .colab-df-generate:hover {\n",
       "        background-color: #434B5C;\n",
       "        box-shadow: 0px 1px 3px 1px rgba(0, 0, 0, 0.15);\n",
       "        filter: drop-shadow(0px 1px 2px rgba(0, 0, 0, 0.3));\n",
       "        fill: #FFFFFF;\n",
       "      }\n",
       "    </style>\n",
       "    <button class=\"colab-df-generate\" onclick=\"generateWithVariable('category_data')\"\n",
       "            title=\"Generate code using this dataframe.\"\n",
       "            style=\"display:none;\">\n",
       "\n",
       "  <svg xmlns=\"http://www.w3.org/2000/svg\" height=\"24px\"viewBox=\"0 0 24 24\"\n",
       "       width=\"24px\">\n",
       "    <path d=\"M7,19H8.4L18.45,9,17,7.55,7,17.6ZM5,21V16.75L18.45,3.32a2,2,0,0,1,2.83,0l1.4,1.43a1.91,1.91,0,0,1,.58,1.4,1.91,1.91,0,0,1-.58,1.4L9.25,21ZM18.45,9,17,7.55Zm-12,3A5.31,5.31,0,0,0,4.9,8.1,5.31,5.31,0,0,0,1,6.5,5.31,5.31,0,0,0,4.9,4.9,5.31,5.31,0,0,0,6.5,1,5.31,5.31,0,0,0,8.1,4.9,5.31,5.31,0,0,0,12,6.5,5.46,5.46,0,0,0,6.5,12Z\"/>\n",
       "  </svg>\n",
       "    </button>\n",
       "    <script>\n",
       "      (() => {\n",
       "      const buttonEl =\n",
       "        document.querySelector('#id_ffbbb34a-50a5-4ea6-ac66-8dadcea3208c button.colab-df-generate');\n",
       "      buttonEl.style.display =\n",
       "        google.colab.kernel.accessAllowed ? 'block' : 'none';\n",
       "\n",
       "      buttonEl.onclick = () => {\n",
       "        google.colab.notebook.generateWithVariable('category_data');\n",
       "      }\n",
       "      })();\n",
       "    </script>\n",
       "  </div>\n",
       "\n",
       "    </div>\n",
       "  </div>\n"
      ],
      "text/plain": [
       "              building_category  total_evictions  eviction_percentage  \\\n",
       "0                   condo-co-op              286             0.060173   \n",
       "1                      elevator             1382             0.290764   \n",
       "2  primarily_res_with_mixed_use              172             0.036188   \n",
       "3                 single-family              246             0.051757   \n",
       "4                    two-family              745             0.156743   \n",
       "5                       walk-up             1922             0.404376   \n",
       "\n",
       "   building_count  building_percentage  evictions_per_building  \\\n",
       "0           11814             1.568695                0.024209   \n",
       "1           10884             1.445207                0.126975   \n",
       "2           33400             4.434943                0.005150   \n",
       "3          314302            41.733877                0.000783   \n",
       "4          250717            33.290887                0.002971   \n",
       "5          131993            17.526391                0.014561   \n",
       "\n",
       "   yearly_evictions_per_cat  yearly_evictions_per_building_per_cat  \n",
       "0                      57.2                               0.004842  \n",
       "1                     276.4                               0.025395  \n",
       "2                      34.4                               0.001030  \n",
       "3                      49.2                               0.000157  \n",
       "4                     149.0                               0.000594  \n",
       "5                     384.4                               0.002912  "
      ]
     },
     "execution_count": 44,
     "metadata": {},
     "output_type": "execute_result"
    }
   ],
   "source": [
    "category_data = build_category_dataframes(bbl_cleaned, building_evictions_clean, 'building_category')\n",
    "category_data"
   ]
  },
  {
   "cell_type": "code",
   "execution_count": 45,
   "metadata": {
    "colab": {
     "base_uri": "https://localhost:8080/",
     "height": 707
    },
    "id": "GcpQuzn-7FTs",
    "outputId": "ac68c7e0-8b21-4e19-8fdc-2dadd645eb2c"
   },
   "outputs": [
    {
     "data": {
      "image/png": "[encoded data removed]",
      "text/plain": [
       "<Figure size 700x700 with 1 Axes>"
      ]
     },
     "metadata": {},
     "output_type": "display_data"
    }
   ],
   "source": [
    "total_all_evictions = category_data['total_evictions'].sum()\n",
    "# category_data['percentage'] = (category_data['total_evictions'] / total_all_evictions) * 100\n",
    "\n",
    "plt.figure(figsize=(7, 7))\n",
    "bars = plt.bar(category_data['building_category'], category_data['total_evictions'])\n",
    "for i, (value, percentage) in enumerate(zip(category_data['total_evictions'],\n",
    "                                           category_data['eviction_percentage']*100)):\n",
    "    plt.text(i, value + (value * 0.0005),\n",
    "             f\"{value:,.0f}\\n({percentage:.1f}%)\",\n",
    "             ha='center', fontsize=9)\n",
    "plt.xlabel('Building Category (by function)', fontsize=12)\n",
    "plt.ylabel('total evictions', fontsize=12)\n",
    "plt.title('total evictions by building category during Covid', fontsize=14)\n",
    "plt.xticks(rotation=45, ha='right', fontsize=10)\n",
    "plt.grid(axis='y', linestyle='--', alpha=0.7)\n",
    "plt.tight_layout()\n",
    "plt.show()"
   ]
  },
  {
   "cell_type": "code",
   "execution_count": 46,
   "metadata": {
    "colab": {
     "base_uri": "https://localhost:8080/",
     "height": 607
    },
    "id": "VzftIVy97LUi",
    "outputId": "38c94bd3-e786-4990-fa9d-85e1309e2abc"
   },
   "outputs": [
    {
     "data": {
      "image/png": "[encoded data removed]",
      "text/plain": [
       "<Figure size 600x600 with 1 Axes>"
      ]
     },
     "metadata": {},
     "output_type": "display_data"
    }
   ],
   "source": [
    "category_data['yearly_evictions'] = category_data['total_evictions'] / 5\n",
    "total_yearly_evictions = category_data['yearly_evictions'].sum()\n",
    "category_data['percentage'] = (category_data['yearly_evictions_per_cat'] / total_yearly_evictions) * 100\n",
    "\n",
    "plt.figure(figsize=(6, 6))\n",
    "bars = plt.bar(category_data['building_category'], category_data['yearly_evictions_per_cat'])\n",
    "for i, (value, percentage) in enumerate(zip(category_data['yearly_evictions_per_cat'],\n",
    "                                            category_data['percentage'])):\n",
    "    plt.text(i, value + (value * 0.00005),\n",
    "             f\"{value:,.1f}\\n({percentage:.1f}%)\",\n",
    "             ha='center', fontsize=9)\n",
    "plt.xlabel('Building Category (by functions)', fontsize=12)\n",
    "plt.ylabel('average yearly evictions', fontsize=12)\n",
    "plt.title('average yearly evictions by building category during covid', fontsize=14)\n",
    "plt.xticks(rotation=45, ha='right', fontsize=10)\n",
    "plt.grid(axis='y', linestyle='--', alpha=0.7)\n",
    "plt.tight_layout()\n",
    "plt.show()"
   ]
  },
  {
   "cell_type": "code",
   "execution_count": 50,
   "metadata": {
    "colab": {
     "base_uri": "https://localhost:8080/",
     "height": 607
    },
    "id": "w12m-pWu6veg",
    "outputId": "3175cae5-cc8f-4551-f37d-b92f356fc5d9"
   },
   "outputs": [
    {
     "data": {
      "image/png": "[encoded data removed]",
      "text/plain": [
       "<Figure size 600x600 with 1 Axes>"
      ]
     },
     "metadata": {},
     "output_type": "display_data"
    }
   ],
   "source": [
    "plt.figure(figsize=(6, 6))\n",
    "bars = plt.bar(category_data['building_category'], category_data['yearly_evictions_per_building_per_cat'])\n",
    "for i, value in enumerate(category_data['yearly_evictions_per_building_per_cat']):\n",
    "    plt.text(i, value + (value * 0.01),\n",
    "             f\"{value:.4f}\",\n",
    "             ha='center', fontsize=9)\n",
    "\n",
    "plt.xlabel('building category', fontsize=12)\n",
    "plt.ylabel('average yearly evictions per building', fontsize=12)\n",
    "plt.title('average number of yearly evictions per building by building category during Covid', fontsize=14)\n",
    "plt.xticks(rotation=45, ha='right', fontsize=10)\n",
    "plt.grid(axis='y', linestyle='--', alpha=0.7)\n",
    "\n",
    "plt.tight_layout()"
   ]
  },
  {
   "cell_type": "code",
   "execution_count": 48,
   "metadata": {
    "colab": {
     "base_uri": "https://localhost:8080/"
    },
    "id": "kOdD6a3B7etC",
    "outputId": "cbe7820c-ecf9-42ec-8195-b89f12f63183"
   },
   "outputs": [
    {
     "name": "stdout",
     "output_type": "stream",
     "text": [
      "ranked list of yearly evictions per building:\n",
      "1. elevator: 0.0254\n",
      "2. condo-co-op: 0.0048\n",
      "3. walk-up: 0.0029\n",
      "4. primarily_res_with_mixed_use: 0.0010\n",
      "5. two-family: 0.0006\n",
      "6. single-family: 0.0002\n"
     ]
    }
   ],
   "source": [
    "print(\"ranked list of yearly evictions per building:\")\n",
    "sorted_data = category_data.sort_values('yearly_evictions_per_building_per_cat', ascending=False)\n",
    "for i in range(len(sorted_data)):\n",
    "    category = sorted_data.iloc[i]['building_category']\n",
    "    rate = sorted_data.iloc[i]['yearly_evictions_per_building_per_cat']\n",
    "    print(f\"{i+1}. {category}: {rate:.4f}\")"
   ]
  },
  {
   "cell_type": "markdown",
   "metadata": {
    "id": "eKtVool4ovcs"
   },
   "source": []
  },
  {
   "cell_type": "markdown",
   "metadata": {
    "id": "ZWst2Olgu4lm"
   },
   "source": [
    "The patterns appear to be very similar to normal times."
   ]
  },
  {
   "cell_type": "code",
   "execution_count": 48,
   "metadata": {
    "id": "cALCPq6qWYuA"
   },
   "outputs": [],
   "source": []
  }
 ],
 "metadata": {
  "colab": {
   "provenance": []
  },
  "kernelspec": {
   "display_name": "Python 3 (ipykernel)",
   "language": "python",
   "name": "python3"
  },
  "language_info": {
   "codemirror_mode": {
    "name": "ipython",
    "version": 3
   },
   "file_extension": ".py",
   "mimetype": "text/x-python",
   "name": "python",
   "nbconvert_exporter": "python",
   "pygments_lexer": "ipython3",
   "version": "3.11.0"
  }
 },
 "nbformat": 4,
 "nbformat_minor": 0
}
