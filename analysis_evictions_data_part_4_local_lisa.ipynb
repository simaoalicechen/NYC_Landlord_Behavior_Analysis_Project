version https://git-lfs.github.com/spec/v1
oid sha256:a057b68d9f3fd5c5e993f0ec6f79eced3dc16417e9425d8d0f2de3bfbfe33255
size 340007798
