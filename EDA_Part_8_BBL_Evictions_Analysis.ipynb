{
 "cells": [
  {
   "cell_type": "markdown",
   "metadata": {},
   "source": [
    "In this notebook, we would look into the correlation between average eviction rates and building characteristics. Currently, we are looking at the numerical characteristics. "
   ]
  },
  {
   "cell_type": "code",
   "execution_count": 2,
   "metadata": {
    "id": "PN_U9et3qjx7"
   },
   "outputs": [],
   "source": [
    "# !pip install geopandas folium matplotlib seaborn scipy\n",
    "# !pip install esda\n",
    "# !pip install splot\n",
    "# # for google colab, had to reinstall some pacakges."
   ]
  },
  {
   "cell_type": "code",
   "execution_count": 89,
   "metadata": {
    "id": "0j1GVN6Sqs0d"
   },
   "outputs": [],
   "source": [
    "import pandas as pd\n",
    "import geopandas as gpd\n",
    "import numpy as np\n",
    "import datetime as dt\n",
    "import scipy\n",
    "\n",
    "from sklearn.cluster import DBSCAN\n",
    "from sklearn.cluster import KMeans\n",
    "from sklearn.preprocessing import StandardScaler\n",
    "from sklearn.metrics import silhouette_score\n",
    "from scipy.spatial.distance import cdist\n",
    "from scipy import stats\n",
    "\n",
    "# visualization\n",
    "import matplotlib.pyplot as plt\n",
    "from matplotlib import colors as mcolors\n",
    "import seaborn as sns\n",
    "import folium\n",
    "from folium.plugins import HeatMap\n",
    "from folium import Marker\n",
    "from folium.plugins import MarkerCluster\n",
    "import plotly.express as px\n",
    "import plotly.io as pio\n",
    "\n",
    "# spatial statistics\n",
    "from esda.moran import Moran\n",
    "from esda.getisord import G_Local\n",
    "from libpysal.weights import Queen, Rook\n",
    "\n",
    "# system and utility\n",
    "import warnings\n",
    "import os\n",
    "import io\n",
    "from IPython.display import IFrame\n",
    "from google.colab import files\n",
    "\n",
    "from libpysal.weights import Queen, Rook\n",
    "from esda.moran import Moran\n",
    "import matplotlib.pyplot as plt\n",
    "from splot.esda import moran_scatterplot\n",
    "\n",
    "# suppress warnings\n",
    "warnings.filterwarnings('ignore')\n",
    "\n",
    "# inline\n",
    "%matplotlib inline"
   ]
  },
  {
   "cell_type": "code",
   "execution_count": 4,
   "metadata": {
    "colab": {
     "base_uri": "https://localhost:8080/"
    },
    "id": "yL8pJMQbqwK_",
    "outputId": "0ffd0945-832e-4824-8732-6d38ea7f1ec7"
   },
   "outputs": [
    {
     "name": "stdout",
     "output_type": "stream",
     "text": [
      "Mounted at /content/drive\n"
     ]
    }
   ],
   "source": [
    "from google.colab import drive\n",
    "drive.mount('/content/drive')"
   ]
  },
  {
   "cell_type": "code",
   "execution_count": 7,
   "metadata": {
    "id": "utvDWnmGqyCu"
   },
   "outputs": [],
   "source": [
    "# data source:\n",
    "file_path1 = '/content/drive/My Drive/X999/bbl_evictions_merged.csv'"
   ]
  },
  {
   "cell_type": "code",
   "execution_count": 10,
   "metadata": {
    "id": "YQa5mRHmq4bs"
   },
   "outputs": [],
   "source": [
    "bbl_evictions_merged_raw = pd.read_csv(file_path1)"
   ]
  },
  {
   "cell_type": "code",
   "execution_count": 13,
   "metadata": {
    "id": "zRImi2qsyH3H"
   },
   "outputs": [],
   "source": [
    "bbl_evictions_merged = bbl_evictions_merged_raw.copy()"
   ]
  },
  {
   "cell_type": "code",
   "execution_count": 17,
   "metadata": {
    "colab": {
     "base_uri": "https://localhost:8080/",
     "height": 429
    },
    "id": "gBs1IrXwyKHx",
    "outputId": "623c2631-b655-4724-9bbd-8c5fe3357b5a"
   },
   "outputs": [
    {
     "data": {
      "application/vnd.google.colaboratory.intrinsic+json": {
       "type": "dataframe"
      },
      "text/html": [
       "\n",
       "  <div id=\"df-48a4ab11-8e61-48a9-8b92-856a6443858d\" class=\"colab-df-container\">\n",
       "    <div>\n",
       "<style scoped>\n",
       "    .dataframe tbody tr th:only-of-type {\n",
       "        vertical-align: middle;\n",
       "    }\n",
       "\n",
       "    .dataframe tbody tr th {\n",
       "        vertical-align: top;\n",
       "    }\n",
       "\n",
       "    .dataframe thead th {\n",
       "        text-align: right;\n",
       "    }\n",
       "</style>\n",
       "<table border=\"1\" class=\"dataframe\">\n",
       "  <thead>\n",
       "    <tr style=\"text-align: right;\">\n",
       "      <th></th>\n",
       "      <th>court_index_number</th>\n",
       "      <th>docket_number</th>\n",
       "      <th>eviction_address</th>\n",
       "      <th>eviction_apartment_number</th>\n",
       "      <th>executed_date</th>\n",
       "      <th>borough</th>\n",
       "      <th>eviction_postcode</th>\n",
       "      <th>ejectment</th>\n",
       "      <th>eviction/legal_possession</th>\n",
       "      <th>latitude</th>\n",
       "      <th>...</th>\n",
       "      <th>building_category</th>\n",
       "      <th>is_condo</th>\n",
       "      <th>floor_category</th>\n",
       "      <th>rent_era</th>\n",
       "      <th>architectural_style</th>\n",
       "      <th>economic_period</th>\n",
       "      <th>residential_units_category</th>\n",
       "      <th>is_llc</th>\n",
       "      <th>building_size_category</th>\n",
       "      <th>size_quartile</th>\n",
       "    </tr>\n",
       "  </thead>\n",
       "  <tbody>\n",
       "    <tr>\n",
       "      <th>0</th>\n",
       "      <td>34859/16</td>\n",
       "      <td>53416</td>\n",
       "      <td>3476 SEYMOUR AVENUE</td>\n",
       "      <td>3-B</td>\n",
       "      <td>2017-01-03</td>\n",
       "      <td>BRONX</td>\n",
       "      <td>10469</td>\n",
       "      <td>Not an Ejectment</td>\n",
       "      <td>Possession</td>\n",
       "      <td>40.877620</td>\n",
       "      <td>...</td>\n",
       "      <td>walk-up</td>\n",
       "      <td>False</td>\n",
       "      <td>mid-rise</td>\n",
       "      <td>Pre-1947, pre-rent-control</td>\n",
       "      <td>1931–1950, Manhattan Modern</td>\n",
       "      <td>1930-1945, great depression and WWII</td>\n",
       "      <td>100+ units</td>\n",
       "      <td>True</td>\n",
       "      <td>mega</td>\n",
       "      <td>Q4 (largest 25%)</td>\n",
       "    </tr>\n",
       "    <tr>\n",
       "      <th>1</th>\n",
       "      <td>B57808/16</td>\n",
       "      <td>74242</td>\n",
       "      <td>1426 BRYANT AVENUE</td>\n",
       "      <td>10 AKA 2ND FL UNIT</td>\n",
       "      <td>2017-01-03</td>\n",
       "      <td>BRONX</td>\n",
       "      <td>10459</td>\n",
       "      <td>Not an Ejectment</td>\n",
       "      <td>Possession</td>\n",
       "      <td>40.830691</td>\n",
       "      <td>...</td>\n",
       "      <td>two-family</td>\n",
       "      <td>False</td>\n",
       "      <td>low-rise</td>\n",
       "      <td>1994–Present, vacancy decontrol</td>\n",
       "      <td>1981–2000, Post-Modernism</td>\n",
       "      <td>1991–2008, modern economic growth</td>\n",
       "      <td>2-unit</td>\n",
       "      <td>False</td>\n",
       "      <td>small</td>\n",
       "      <td>Q3 (50-75%)</td>\n",
       "    </tr>\n",
       "    <tr>\n",
       "      <th>2</th>\n",
       "      <td>N069212/14</td>\n",
       "      <td>355977</td>\n",
       "      <td>1309 5TH AVENUE</td>\n",
       "      <td>24H</td>\n",
       "      <td>2017-01-03</td>\n",
       "      <td>MANHATTAN</td>\n",
       "      <td>10029</td>\n",
       "      <td>Not an Ejectment</td>\n",
       "      <td>Possession</td>\n",
       "      <td>40.797309</td>\n",
       "      <td>...</td>\n",
       "      <td>elevator</td>\n",
       "      <td>False</td>\n",
       "      <td>high-rise</td>\n",
       "      <td>1970–1993, deregularization</td>\n",
       "      <td>1951–1980, the International Style, Alternativ...</td>\n",
       "      <td>1946–1975, pst war economic boom</td>\n",
       "      <td>100+ units</td>\n",
       "      <td>False</td>\n",
       "      <td>mega</td>\n",
       "      <td>Q4 (largest 25%)</td>\n",
       "    </tr>\n",
       "    <tr>\n",
       "      <th>3</th>\n",
       "      <td>K065455/16</td>\n",
       "      <td>367441</td>\n",
       "      <td>458 EAST 51 STREET</td>\n",
       "      <td>6A</td>\n",
       "      <td>2017-01-03</td>\n",
       "      <td>BROOKLYN</td>\n",
       "      <td>11203</td>\n",
       "      <td>Not an Ejectment</td>\n",
       "      <td>Possession</td>\n",
       "      <td>40.650624</td>\n",
       "      <td>...</td>\n",
       "      <td>elevator</td>\n",
       "      <td>False</td>\n",
       "      <td>mid-rise</td>\n",
       "      <td>Pre-1947, pre-rent-control</td>\n",
       "      <td>1931–1950, Manhattan Modern</td>\n",
       "      <td>1930-1945, great depression and WWII</td>\n",
       "      <td>21-100 units</td>\n",
       "      <td>True</td>\n",
       "      <td>very large</td>\n",
       "      <td>Q4 (largest 25%)</td>\n",
       "    </tr>\n",
       "    <tr>\n",
       "      <th>4</th>\n",
       "      <td>33992/16</td>\n",
       "      <td>458984</td>\n",
       "      <td>580 EAST 168TH STREE T</td>\n",
       "      <td>*</td>\n",
       "      <td>2017-01-03</td>\n",
       "      <td>BRONX</td>\n",
       "      <td>10456</td>\n",
       "      <td>Not an Ejectment</td>\n",
       "      <td>Possession</td>\n",
       "      <td>40.830494</td>\n",
       "      <td>...</td>\n",
       "      <td>NaN</td>\n",
       "      <td>NaN</td>\n",
       "      <td>NaN</td>\n",
       "      <td>NaN</td>\n",
       "      <td>NaN</td>\n",
       "      <td>NaN</td>\n",
       "      <td>NaN</td>\n",
       "      <td>NaN</td>\n",
       "      <td>NaN</td>\n",
       "      <td>NaN</td>\n",
       "    </tr>\n",
       "  </tbody>\n",
       "</table>\n",
       "<p>5 rows × 39 columns</p>\n",
       "</div>\n",
       "    <div class=\"colab-df-buttons\">\n",
       "\n",
       "  <div class=\"colab-df-container\">\n",
       "    <button class=\"colab-df-convert\" onclick=\"convertToInteractive('df-48a4ab11-8e61-48a9-8b92-856a6443858d')\"\n",
       "            title=\"Convert this dataframe to an interactive table.\"\n",
       "            style=\"display:none;\">\n",
       "\n",
       "  <svg xmlns=\"http://www.w3.org/2000/svg\" height=\"24px\" viewBox=\"0 -960 960 960\">\n",
       "    <path d=\"M120-120v-720h720v720H120Zm60-500h600v-160H180v160Zm220 220h160v-160H400v160Zm0 220h160v-160H400v160ZM180-400h160v-160H180v160Zm440 0h160v-160H620v160ZM180-180h160v-160H180v160Zm440 0h160v-160H620v160Z\"/>\n",
       "  </svg>\n",
       "    </button>\n",
       "\n",
       "  <style>\n",
       "    .colab-df-container {\n",
       "      display:flex;\n",
       "      gap: 12px;\n",
       "    }\n",
       "\n",
       "    .colab-df-convert {\n",
       "      background-color: #E8F0FE;\n",
       "      border: none;\n",
       "      border-radius: 50%;\n",
       "      cursor: pointer;\n",
       "      display: none;\n",
       "      fill: #1967D2;\n",
       "      height: 32px;\n",
       "      padding: 0 0 0 0;\n",
       "      width: 32px;\n",
       "    }\n",
       "\n",
       "    .colab-df-convert:hover {\n",
       "      background-color: #E2EBFA;\n",
       "      box-shadow: 0px 1px 2px rgba(60, 64, 67, 0.3), 0px 1px 3px 1px rgba(60, 64, 67, 0.15);\n",
       "      fill: #174EA6;\n",
       "    }\n",
       "\n",
       "    .colab-df-buttons div {\n",
       "      margin-bottom: 4px;\n",
       "    }\n",
       "\n",
       "    [theme=dark] .colab-df-convert {\n",
       "      background-color: #3B4455;\n",
       "      fill: #D2E3FC;\n",
       "    }\n",
       "\n",
       "    [theme=dark] .colab-df-convert:hover {\n",
       "      background-color: #434B5C;\n",
       "      box-shadow: 0px 1px 3px 1px rgba(0, 0, 0, 0.15);\n",
       "      filter: drop-shadow(0px 1px 2px rgba(0, 0, 0, 0.3));\n",
       "      fill: #FFFFFF;\n",
       "    }\n",
       "  </style>\n",
       "\n",
       "    <script>\n",
       "      const buttonEl =\n",
       "        document.querySelector('#df-48a4ab11-8e61-48a9-8b92-856a6443858d button.colab-df-convert');\n",
       "      buttonEl.style.display =\n",
       "        google.colab.kernel.accessAllowed ? 'block' : 'none';\n",
       "\n",
       "      async function convertToInteractive(key) {\n",
       "        const element = document.querySelector('#df-48a4ab11-8e61-48a9-8b92-856a6443858d');\n",
       "        const dataTable =\n",
       "          await google.colab.kernel.invokeFunction('convertToInteractive',\n",
       "                                                    [key], {});\n",
       "        if (!dataTable) return;\n",
       "\n",
       "        const docLinkHtml = 'Like what you see? Visit the ' +\n",
       "          '<a target=\"_blank\" href=https://colab.research.google.com/notebooks/data_table.ipynb>data table notebook</a>'\n",
       "          + ' to learn more about interactive tables.';\n",
       "        element.innerHTML = '';\n",
       "        dataTable['output_type'] = 'display_data';\n",
       "        await google.colab.output.renderOutput(dataTable, element);\n",
       "        const docLink = document.createElement('div');\n",
       "        docLink.innerHTML = docLinkHtml;\n",
       "        element.appendChild(docLink);\n",
       "      }\n",
       "    </script>\n",
       "  </div>\n",
       "\n",
       "\n",
       "<div id=\"df-79a152a3-562a-4302-a643-790c32ce7cfe\">\n",
       "  <button class=\"colab-df-quickchart\" onclick=\"quickchart('df-79a152a3-562a-4302-a643-790c32ce7cfe')\"\n",
       "            title=\"Suggest charts\"\n",
       "            style=\"display:none;\">\n",
       "\n",
       "<svg xmlns=\"http://www.w3.org/2000/svg\" height=\"24px\"viewBox=\"0 0 24 24\"\n",
       "     width=\"24px\">\n",
       "    <g>\n",
       "        <path d=\"M19 3H5c-1.1 0-2 .9-2 2v14c0 1.1.9 2 2 2h14c1.1 0 2-.9 2-2V5c0-1.1-.9-2-2-2zM9 17H7v-7h2v7zm4 0h-2V7h2v10zm4 0h-2v-4h2v4z\"/>\n",
       "    </g>\n",
       "</svg>\n",
       "  </button>\n",
       "\n",
       "<style>\n",
       "  .colab-df-quickchart {\n",
       "      --bg-color: #E8F0FE;\n",
       "      --fill-color: #1967D2;\n",
       "      --hover-bg-color: #E2EBFA;\n",
       "      --hover-fill-color: #174EA6;\n",
       "      --disabled-fill-color: #AAA;\n",
       "      --disabled-bg-color: #DDD;\n",
       "  }\n",
       "\n",
       "  [theme=dark] .colab-df-quickchart {\n",
       "      --bg-color: #3B4455;\n",
       "      --fill-color: #D2E3FC;\n",
       "      --hover-bg-color: #434B5C;\n",
       "      --hover-fill-color: #FFFFFF;\n",
       "      --disabled-bg-color: #3B4455;\n",
       "      --disabled-fill-color: #666;\n",
       "  }\n",
       "\n",
       "  .colab-df-quickchart {\n",
       "    background-color: var(--bg-color);\n",
       "    border: none;\n",
       "    border-radius: 50%;\n",
       "    cursor: pointer;\n",
       "    display: none;\n",
       "    fill: var(--fill-color);\n",
       "    height: 32px;\n",
       "    padding: 0;\n",
       "    width: 32px;\n",
       "  }\n",
       "\n",
       "  .colab-df-quickchart:hover {\n",
       "    background-color: var(--hover-bg-color);\n",
       "    box-shadow: 0 1px 2px rgba(60, 64, 67, 0.3), 0 1px 3px 1px rgba(60, 64, 67, 0.15);\n",
       "    fill: var(--button-hover-fill-color);\n",
       "  }\n",
       "\n",
       "  .colab-df-quickchart-complete:disabled,\n",
       "  .colab-df-quickchart-complete:disabled:hover {\n",
       "    background-color: var(--disabled-bg-color);\n",
       "    fill: var(--disabled-fill-color);\n",
       "    box-shadow: none;\n",
       "  }\n",
       "\n",
       "  .colab-df-spinner {\n",
       "    border: 2px solid var(--fill-color);\n",
       "    border-color: transparent;\n",
       "    border-bottom-color: var(--fill-color);\n",
       "    animation:\n",
       "      spin 1s steps(1) infinite;\n",
       "  }\n",
       "\n",
       "  @keyframes spin {\n",
       "    0% {\n",
       "      border-color: transparent;\n",
       "      border-bottom-color: var(--fill-color);\n",
       "      border-left-color: var(--fill-color);\n",
       "    }\n",
       "    20% {\n",
       "      border-color: transparent;\n",
       "      border-left-color: var(--fill-color);\n",
       "      border-top-color: var(--fill-color);\n",
       "    }\n",
       "    30% {\n",
       "      border-color: transparent;\n",
       "      border-left-color: var(--fill-color);\n",
       "      border-top-color: var(--fill-color);\n",
       "      border-right-color: var(--fill-color);\n",
       "    }\n",
       "    40% {\n",
       "      border-color: transparent;\n",
       "      border-right-color: var(--fill-color);\n",
       "      border-top-color: var(--fill-color);\n",
       "    }\n",
       "    60% {\n",
       "      border-color: transparent;\n",
       "      border-right-color: var(--fill-color);\n",
       "    }\n",
       "    80% {\n",
       "      border-color: transparent;\n",
       "      border-right-color: var(--fill-color);\n",
       "      border-bottom-color: var(--fill-color);\n",
       "    }\n",
       "    90% {\n",
       "      border-color: transparent;\n",
       "      border-bottom-color: var(--fill-color);\n",
       "    }\n",
       "  }\n",
       "</style>\n",
       "\n",
       "  <script>\n",
       "    async function quickchart(key) {\n",
       "      const quickchartButtonEl =\n",
       "        document.querySelector('#' + key + ' button');\n",
       "      quickchartButtonEl.disabled = true;  // To prevent multiple clicks.\n",
       "      quickchartButtonEl.classList.add('colab-df-spinner');\n",
       "      try {\n",
       "        const charts = await google.colab.kernel.invokeFunction(\n",
       "            'suggestCharts', [key], {});\n",
       "      } catch (error) {\n",
       "        console.error('Error during call to suggestCharts:', error);\n",
       "      }\n",
       "      quickchartButtonEl.classList.remove('colab-df-spinner');\n",
       "      quickchartButtonEl.classList.add('colab-df-quickchart-complete');\n",
       "    }\n",
       "    (() => {\n",
       "      let quickchartButtonEl =\n",
       "        document.querySelector('#df-79a152a3-562a-4302-a643-790c32ce7cfe button');\n",
       "      quickchartButtonEl.style.display =\n",
       "        google.colab.kernel.accessAllowed ? 'block' : 'none';\n",
       "    })();\n",
       "  </script>\n",
       "</div>\n",
       "\n",
       "    </div>\n",
       "  </div>\n"
      ],
      "text/plain": [
       "  court_index_number  docket_number        eviction_address  \\\n",
       "0           34859/16          53416     3476 SEYMOUR AVENUE   \n",
       "1          B57808/16          74242      1426 BRYANT AVENUE   \n",
       "2         N069212/14         355977         1309 5TH AVENUE   \n",
       "3         K065455/16         367441      458 EAST 51 STREET   \n",
       "4           33992/16         458984  580 EAST 168TH STREE T   \n",
       "\n",
       "  eviction_apartment_number executed_date    borough  eviction_postcode  \\\n",
       "0                       3-B    2017-01-03      BRONX              10469   \n",
       "1        10 AKA 2ND FL UNIT    2017-01-03      BRONX              10459   \n",
       "2                       24H    2017-01-03  MANHATTAN              10029   \n",
       "3                        6A    2017-01-03   BROOKLYN              11203   \n",
       "4                         *    2017-01-03      BRONX              10456   \n",
       "\n",
       "          ejectment eviction/legal_possession   latitude  ...  \\\n",
       "0  Not an Ejectment                Possession  40.877620  ...   \n",
       "1  Not an Ejectment                Possession  40.830691  ...   \n",
       "2  Not an Ejectment                Possession  40.797309  ...   \n",
       "3  Not an Ejectment                Possession  40.650624  ...   \n",
       "4  Not an Ejectment                Possession  40.830494  ...   \n",
       "\n",
       "   building_category  is_condo  floor_category  \\\n",
       "0            walk-up     False        mid-rise   \n",
       "1         two-family     False        low-rise   \n",
       "2           elevator     False       high-rise   \n",
       "3           elevator     False        mid-rise   \n",
       "4                NaN       NaN             NaN   \n",
       "\n",
       "                          rent_era  \\\n",
       "0       Pre-1947, pre-rent-control   \n",
       "1  1994–Present, vacancy decontrol   \n",
       "2      1970–1993, deregularization   \n",
       "3       Pre-1947, pre-rent-control   \n",
       "4                              NaN   \n",
       "\n",
       "                                 architectural_style  \\\n",
       "0                        1931–1950, Manhattan Modern   \n",
       "1                          1981–2000, Post-Modernism   \n",
       "2  1951–1980, the International Style, Alternativ...   \n",
       "3                        1931–1950, Manhattan Modern   \n",
       "4                                                NaN   \n",
       "\n",
       "                        economic_period residential_units_category is_llc  \\\n",
       "0  1930-1945, great depression and WWII                 100+ units   True   \n",
       "1     1991–2008, modern economic growth                     2-unit  False   \n",
       "2      1946–1975, pst war economic boom                 100+ units  False   \n",
       "3  1930-1945, great depression and WWII               21-100 units   True   \n",
       "4                                   NaN                        NaN    NaN   \n",
       "\n",
       "   building_size_category     size_quartile  \n",
       "0                    mega  Q4 (largest 25%)  \n",
       "1                   small       Q3 (50-75%)  \n",
       "2                    mega  Q4 (largest 25%)  \n",
       "3              very large  Q4 (largest 25%)  \n",
       "4                     NaN               NaN  \n",
       "\n",
       "[5 rows x 39 columns]"
      ]
     },
     "metadata": {},
     "output_type": "display_data"
    },
    {
     "data": {
      "text/plain": [
       "(None, (74082, 39))"
      ]
     },
     "execution_count": 17,
     "metadata": {},
     "output_type": "execute_result"
    }
   ],
   "source": [
    "display(bbl_evictions_merged.head()), bbl_evictions_merged.shape"
   ]
  },
  {
   "cell_type": "code",
   "execution_count": 18,
   "metadata": {
    "colab": {
     "base_uri": "https://localhost:8080/"
    },
    "id": "xCv11x1qyV1n",
    "outputId": "aca87daa-7984-4985-bfc3-bef89a03c09c"
   },
   "outputs": [
    {
     "data": {
      "text/plain": [
       "Index(['court_index_number', 'docket_number', 'eviction_address',\n",
       "       'eviction_apartment_number', 'executed_date', 'borough',\n",
       "       'eviction_postcode', 'ejectment', 'eviction/legal_possession',\n",
       "       'latitude', 'longitude', 'community_board', 'council_district',\n",
       "       'census_tract', 'bin', 'bbl', 'nta', 'geometry', 'eviction_count',\n",
       "       'year', 'average_year_eviction_count', 'bbl_clean', 'yearbuilt',\n",
       "       'bldgclass', 'numfloors', 'unitsres', 'ownername', 'bldgarea',\n",
       "       'building_type', 'building_category', 'is_condo', 'floor_category',\n",
       "       'rent_era', 'architectural_style', 'economic_period',\n",
       "       'residential_units_category', 'is_llc', 'building_size_category',\n",
       "       'size_quartile'],\n",
       "      dtype='object')"
      ]
     },
     "execution_count": 18,
     "metadata": {},
     "output_type": "execute_result"
    }
   ],
   "source": [
    "bbl_evictions_merged.columns"
   ]
  },
  {
   "cell_type": "code",
   "execution_count": 19,
   "metadata": {
    "id": "LA66LC2n6Oit"
   },
   "outputs": [],
   "source": [
    "building_characteristics = [\n",
    "    'yearbuilt', 'bldgclass', 'numfloors', 'unitsres', 'ownername', 'bldgarea',\n",
    "    'building_type', 'building_category', 'is_condo', 'floor_category',\n",
    "    'rent_era', 'architectural_style', 'economic_period',\n",
    "    'residential_units_category', 'is_llc', 'building_size_category',\n",
    "    'size_quartile', 'yearbuilt', 'numfloors', 'unitsres'\n",
    "]"
   ]
  },
  {
   "cell_type": "code",
   "execution_count": 26,
   "metadata": {
    "id": "SYFAkZ1M6OWR"
   },
   "outputs": [],
   "source": [
    "nan_counts = bbl_evictions_merged[building_characteristics].isna().sum()\n",
    "nan_percentages = (nan_counts / len(bbl_evictions_merged) * 100).round(3)\n",
    "# percentage:.3f%"
   ]
  },
  {
   "cell_type": "code",
   "execution_count": 27,
   "metadata": {
    "colab": {
     "base_uri": "https://localhost:8080/"
    },
    "id": "kCuNQElz6OMM",
    "outputId": "6a72034c-1bfe-4c1e-f220-1d9e20b75d37"
   },
   "outputs": [
    {
     "data": {
      "text/plain": [
       "(yearbuilt                     3770\n",
       " bldgclass                     3770\n",
       " numfloors                     3770\n",
       " unitsres                      3770\n",
       " ownername                     3770\n",
       " bldgarea                      3770\n",
       " building_type                 3770\n",
       " building_category             3770\n",
       " is_condo                      3770\n",
       " floor_category                3770\n",
       " rent_era                      3770\n",
       " architectural_style           3770\n",
       " economic_period               3770\n",
       " residential_units_category    3770\n",
       " is_llc                        3770\n",
       " building_size_category        3770\n",
       " size_quartile                 3770\n",
       " yearbuilt                     3770\n",
       " numfloors                     3770\n",
       " unitsres                      3770\n",
       " dtype: int64,\n",
       " yearbuilt                     5.089\n",
       " bldgclass                     5.089\n",
       " numfloors                     5.089\n",
       " unitsres                      5.089\n",
       " ownername                     5.089\n",
       " bldgarea                      5.089\n",
       " building_type                 5.089\n",
       " building_category             5.089\n",
       " is_condo                      5.089\n",
       " floor_category                5.089\n",
       " rent_era                      5.089\n",
       " architectural_style           5.089\n",
       " economic_period               5.089\n",
       " residential_units_category    5.089\n",
       " is_llc                        5.089\n",
       " building_size_category        5.089\n",
       " size_quartile                 5.089\n",
       " yearbuilt                     5.089\n",
       " numfloors                     5.089\n",
       " unitsres                      5.089\n",
       " dtype: float64)"
      ]
     },
     "execution_count": 27,
     "metadata": {},
     "output_type": "execute_result"
    }
   ],
   "source": [
    "nan_counts, nan_percentages"
   ]
  },
  {
   "cell_type": "code",
   "execution_count": 36,
   "metadata": {
    "colab": {
     "base_uri": "https://localhost:8080/"
    },
    "id": "5iMqB-FFG-Yc",
    "outputId": "70a74b01-741a-4df4-f954-29f4bc62095b"
   },
   "outputs": [
    {
     "data": {
      "text/plain": [
       "(74082, 39)"
      ]
     },
     "execution_count": 36,
     "metadata": {},
     "output_type": "execute_result"
    }
   ],
   "source": [
    "bbl_evictions_merged.shape"
   ]
  },
  {
   "cell_type": "code",
   "execution_count": 37,
   "metadata": {
    "id": "4zMMD4J8HAu8"
   },
   "outputs": [],
   "source": [
    "df = bbl_evictions_merged.copy()"
   ]
  },
  {
   "cell_type": "code",
   "execution_count": 38,
   "metadata": {
    "id": "A-IkLCY26NrG"
   },
   "outputs": [],
   "source": [
    "df = bbl_evictions_merged.dropna(subset=['average_year_eviction_count'])"
   ]
  },
  {
   "cell_type": "code",
   "execution_count": 39,
   "metadata": {
    "colab": {
     "base_uri": "https://localhost:8080/"
    },
    "id": "NVddJqIX6Ngi",
    "outputId": "f2736e7c-a475-42a4-9139-a706a46d2236"
   },
   "outputs": [
    {
     "data": {
      "text/plain": [
       "(74082, 39)"
      ]
     },
     "execution_count": 39,
     "metadata": {},
     "output_type": "execute_result"
    }
   ],
   "source": [
    "df.shape"
   ]
  },
  {
   "cell_type": "code",
   "execution_count": 50,
   "metadata": {
    "id": "KbcJLrKn6NSJ"
   },
   "outputs": [],
   "source": [
    "df_clean = df.dropna(subset=building_characteristics)"
   ]
  },
  {
   "cell_type": "code",
   "execution_count": 51,
   "metadata": {
    "colab": {
     "base_uri": "https://localhost:8080/"
    },
    "id": "42Dgvrxv6NFX",
    "outputId": "eb51ece6-31b2-45dc-c54b-b0b712294408"
   },
   "outputs": [
    {
     "data": {
      "text/plain": [
       "((70312, 39), 3770)"
      ]
     },
     "execution_count": 51,
     "metadata": {},
     "output_type": "execute_result"
    }
   ],
   "source": [
    "df_clean.shape, 74082 - 70312\n",
    "# good"
   ]
  },
  {
   "cell_type": "code",
   "execution_count": 53,
   "metadata": {
    "id": "G7FmPTW06M6a"
   },
   "outputs": [],
   "source": [
    "df_clean['eviction_rate_per_unit'] = df_clean['average_year_eviction_count'] / df_clean['unitsres']\n",
    "# Handle inf values that might result from division by zero\n",
    "df_clean['eviction_rate_per_unit'] = df_clean['eviction_rate_per_unit'].replace([np.inf, -np.inf], np.nan)\n"
   ]
  },
  {
   "cell_type": "code",
   "execution_count": 55,
   "metadata": {
    "colab": {
     "base_uri": "https://localhost:8080/",
     "height": 412
    },
    "id": "CyuD5N1V6MuI",
    "outputId": "00ee7464-53ad-4494-ccf0-e654359a4051"
   },
   "outputs": [
    {
     "data": {
      "application/vnd.google.colaboratory.intrinsic+json": {
       "type": "dataframe"
      },
      "text/html": [
       "\n",
       "  <div id=\"df-46e37d2f-fc00-4cc4-bb22-f25a1d9fdcca\" class=\"colab-df-container\">\n",
       "    <div>\n",
       "<style scoped>\n",
       "    .dataframe tbody tr th:only-of-type {\n",
       "        vertical-align: middle;\n",
       "    }\n",
       "\n",
       "    .dataframe tbody tr th {\n",
       "        vertical-align: top;\n",
       "    }\n",
       "\n",
       "    .dataframe thead th {\n",
       "        text-align: right;\n",
       "    }\n",
       "</style>\n",
       "<table border=\"1\" class=\"dataframe\">\n",
       "  <thead>\n",
       "    <tr style=\"text-align: right;\">\n",
       "      <th></th>\n",
       "      <th>court_index_number</th>\n",
       "      <th>docket_number</th>\n",
       "      <th>eviction_address</th>\n",
       "      <th>eviction_apartment_number</th>\n",
       "      <th>executed_date</th>\n",
       "      <th>borough</th>\n",
       "      <th>eviction_postcode</th>\n",
       "      <th>ejectment</th>\n",
       "      <th>eviction/legal_possession</th>\n",
       "      <th>latitude</th>\n",
       "      <th>...</th>\n",
       "      <th>is_condo</th>\n",
       "      <th>floor_category</th>\n",
       "      <th>rent_era</th>\n",
       "      <th>architectural_style</th>\n",
       "      <th>economic_period</th>\n",
       "      <th>residential_units_category</th>\n",
       "      <th>is_llc</th>\n",
       "      <th>building_size_category</th>\n",
       "      <th>size_quartile</th>\n",
       "      <th>eviction_rate_per_unit</th>\n",
       "    </tr>\n",
       "  </thead>\n",
       "  <tbody>\n",
       "    <tr>\n",
       "      <th>0</th>\n",
       "      <td>34859/16</td>\n",
       "      <td>53416</td>\n",
       "      <td>3476 SEYMOUR AVENUE</td>\n",
       "      <td>3-B</td>\n",
       "      <td>2017-01-03</td>\n",
       "      <td>BRONX</td>\n",
       "      <td>10469</td>\n",
       "      <td>Not an Ejectment</td>\n",
       "      <td>Possession</td>\n",
       "      <td>40.877620</td>\n",
       "      <td>...</td>\n",
       "      <td>False</td>\n",
       "      <td>mid-rise</td>\n",
       "      <td>Pre-1947, pre-rent-control</td>\n",
       "      <td>1931–1950, Manhattan Modern</td>\n",
       "      <td>1930-1945, great depression and WWII</td>\n",
       "      <td>100+ units</td>\n",
       "      <td>True</td>\n",
       "      <td>mega</td>\n",
       "      <td>Q4 (largest 25%)</td>\n",
       "      <td>0.016456</td>\n",
       "    </tr>\n",
       "    <tr>\n",
       "      <th>1</th>\n",
       "      <td>B57808/16</td>\n",
       "      <td>74242</td>\n",
       "      <td>1426 BRYANT AVENUE</td>\n",
       "      <td>10 AKA 2ND FL UNIT</td>\n",
       "      <td>2017-01-03</td>\n",
       "      <td>BRONX</td>\n",
       "      <td>10459</td>\n",
       "      <td>Not an Ejectment</td>\n",
       "      <td>Possession</td>\n",
       "      <td>40.830691</td>\n",
       "      <td>...</td>\n",
       "      <td>False</td>\n",
       "      <td>low-rise</td>\n",
       "      <td>1994–Present, vacancy decontrol</td>\n",
       "      <td>1981–2000, Post-Modernism</td>\n",
       "      <td>1991–2008, modern economic growth</td>\n",
       "      <td>2-unit</td>\n",
       "      <td>False</td>\n",
       "      <td>small</td>\n",
       "      <td>Q3 (50-75%)</td>\n",
       "      <td>0.500000</td>\n",
       "    </tr>\n",
       "    <tr>\n",
       "      <th>2</th>\n",
       "      <td>N069212/14</td>\n",
       "      <td>355977</td>\n",
       "      <td>1309 5TH AVENUE</td>\n",
       "      <td>24H</td>\n",
       "      <td>2017-01-03</td>\n",
       "      <td>MANHATTAN</td>\n",
       "      <td>10029</td>\n",
       "      <td>Not an Ejectment</td>\n",
       "      <td>Possession</td>\n",
       "      <td>40.797309</td>\n",
       "      <td>...</td>\n",
       "      <td>False</td>\n",
       "      <td>high-rise</td>\n",
       "      <td>1970–1993, deregularization</td>\n",
       "      <td>1951–1980, the International Style, Alternativ...</td>\n",
       "      <td>1946–1975, pst war economic boom</td>\n",
       "      <td>100+ units</td>\n",
       "      <td>False</td>\n",
       "      <td>mega</td>\n",
       "      <td>Q4 (largest 25%)</td>\n",
       "      <td>0.006667</td>\n",
       "    </tr>\n",
       "    <tr>\n",
       "      <th>3</th>\n",
       "      <td>K065455/16</td>\n",
       "      <td>367441</td>\n",
       "      <td>458 EAST 51 STREET</td>\n",
       "      <td>6A</td>\n",
       "      <td>2017-01-03</td>\n",
       "      <td>BROOKLYN</td>\n",
       "      <td>11203</td>\n",
       "      <td>Not an Ejectment</td>\n",
       "      <td>Possession</td>\n",
       "      <td>40.650624</td>\n",
       "      <td>...</td>\n",
       "      <td>False</td>\n",
       "      <td>mid-rise</td>\n",
       "      <td>Pre-1947, pre-rent-control</td>\n",
       "      <td>1931–1950, Manhattan Modern</td>\n",
       "      <td>1930-1945, great depression and WWII</td>\n",
       "      <td>21-100 units</td>\n",
       "      <td>True</td>\n",
       "      <td>very large</td>\n",
       "      <td>Q4 (largest 25%)</td>\n",
       "      <td>0.050314</td>\n",
       "    </tr>\n",
       "    <tr>\n",
       "      <th>6</th>\n",
       "      <td>50104/16</td>\n",
       "      <td>318266</td>\n",
       "      <td>598 E 183 ST AKA 2239 ADAMS PL</td>\n",
       "      <td>26</td>\n",
       "      <td>2017-01-03</td>\n",
       "      <td>BRONX</td>\n",
       "      <td>10457</td>\n",
       "      <td>Not an Ejectment</td>\n",
       "      <td>Possession</td>\n",
       "      <td>40.853070</td>\n",
       "      <td>...</td>\n",
       "      <td>False</td>\n",
       "      <td>mid-rise</td>\n",
       "      <td>Pre-1947, pre-rent-control</td>\n",
       "      <td>1900–1920, Beaux-Arts</td>\n",
       "      <td>Pre-1929, pre-great depression</td>\n",
       "      <td>21-100 units</td>\n",
       "      <td>True</td>\n",
       "      <td>very large</td>\n",
       "      <td>Q4 (largest 25%)</td>\n",
       "      <td>0.060345</td>\n",
       "    </tr>\n",
       "  </tbody>\n",
       "</table>\n",
       "<p>5 rows × 40 columns</p>\n",
       "</div>\n",
       "    <div class=\"colab-df-buttons\">\n",
       "\n",
       "  <div class=\"colab-df-container\">\n",
       "    <button class=\"colab-df-convert\" onclick=\"convertToInteractive('df-46e37d2f-fc00-4cc4-bb22-f25a1d9fdcca')\"\n",
       "            title=\"Convert this dataframe to an interactive table.\"\n",
       "            style=\"display:none;\">\n",
       "\n",
       "  <svg xmlns=\"http://www.w3.org/2000/svg\" height=\"24px\" viewBox=\"0 -960 960 960\">\n",
       "    <path d=\"M120-120v-720h720v720H120Zm60-500h600v-160H180v160Zm220 220h160v-160H400v160Zm0 220h160v-160H400v160ZM180-400h160v-160H180v160Zm440 0h160v-160H620v160ZM180-180h160v-160H180v160Zm440 0h160v-160H620v160Z\"/>\n",
       "  </svg>\n",
       "    </button>\n",
       "\n",
       "  <style>\n",
       "    .colab-df-container {\n",
       "      display:flex;\n",
       "      gap: 12px;\n",
       "    }\n",
       "\n",
       "    .colab-df-convert {\n",
       "      background-color: #E8F0FE;\n",
       "      border: none;\n",
       "      border-radius: 50%;\n",
       "      cursor: pointer;\n",
       "      display: none;\n",
       "      fill: #1967D2;\n",
       "      height: 32px;\n",
       "      padding: 0 0 0 0;\n",
       "      width: 32px;\n",
       "    }\n",
       "\n",
       "    .colab-df-convert:hover {\n",
       "      background-color: #E2EBFA;\n",
       "      box-shadow: 0px 1px 2px rgba(60, 64, 67, 0.3), 0px 1px 3px 1px rgba(60, 64, 67, 0.15);\n",
       "      fill: #174EA6;\n",
       "    }\n",
       "\n",
       "    .colab-df-buttons div {\n",
       "      margin-bottom: 4px;\n",
       "    }\n",
       "\n",
       "    [theme=dark] .colab-df-convert {\n",
       "      background-color: #3B4455;\n",
       "      fill: #D2E3FC;\n",
       "    }\n",
       "\n",
       "    [theme=dark] .colab-df-convert:hover {\n",
       "      background-color: #434B5C;\n",
       "      box-shadow: 0px 1px 3px 1px rgba(0, 0, 0, 0.15);\n",
       "      filter: drop-shadow(0px 1px 2px rgba(0, 0, 0, 0.3));\n",
       "      fill: #FFFFFF;\n",
       "    }\n",
       "  </style>\n",
       "\n",
       "    <script>\n",
       "      const buttonEl =\n",
       "        document.querySelector('#df-46e37d2f-fc00-4cc4-bb22-f25a1d9fdcca button.colab-df-convert');\n",
       "      buttonEl.style.display =\n",
       "        google.colab.kernel.accessAllowed ? 'block' : 'none';\n",
       "\n",
       "      async function convertToInteractive(key) {\n",
       "        const element = document.querySelector('#df-46e37d2f-fc00-4cc4-bb22-f25a1d9fdcca');\n",
       "        const dataTable =\n",
       "          await google.colab.kernel.invokeFunction('convertToInteractive',\n",
       "                                                    [key], {});\n",
       "        if (!dataTable) return;\n",
       "\n",
       "        const docLinkHtml = 'Like what you see? Visit the ' +\n",
       "          '<a target=\"_blank\" href=https://colab.research.google.com/notebooks/data_table.ipynb>data table notebook</a>'\n",
       "          + ' to learn more about interactive tables.';\n",
       "        element.innerHTML = '';\n",
       "        dataTable['output_type'] = 'display_data';\n",
       "        await google.colab.output.renderOutput(dataTable, element);\n",
       "        const docLink = document.createElement('div');\n",
       "        docLink.innerHTML = docLinkHtml;\n",
       "        element.appendChild(docLink);\n",
       "      }\n",
       "    </script>\n",
       "  </div>\n",
       "\n",
       "\n",
       "<div id=\"df-4ddba125-ab88-4f21-8b1e-95dddd094b20\">\n",
       "  <button class=\"colab-df-quickchart\" onclick=\"quickchart('df-4ddba125-ab88-4f21-8b1e-95dddd094b20')\"\n",
       "            title=\"Suggest charts\"\n",
       "            style=\"display:none;\">\n",
       "\n",
       "<svg xmlns=\"http://www.w3.org/2000/svg\" height=\"24px\"viewBox=\"0 0 24 24\"\n",
       "     width=\"24px\">\n",
       "    <g>\n",
       "        <path d=\"M19 3H5c-1.1 0-2 .9-2 2v14c0 1.1.9 2 2 2h14c1.1 0 2-.9 2-2V5c0-1.1-.9-2-2-2zM9 17H7v-7h2v7zm4 0h-2V7h2v10zm4 0h-2v-4h2v4z\"/>\n",
       "    </g>\n",
       "</svg>\n",
       "  </button>\n",
       "\n",
       "<style>\n",
       "  .colab-df-quickchart {\n",
       "      --bg-color: #E8F0FE;\n",
       "      --fill-color: #1967D2;\n",
       "      --hover-bg-color: #E2EBFA;\n",
       "      --hover-fill-color: #174EA6;\n",
       "      --disabled-fill-color: #AAA;\n",
       "      --disabled-bg-color: #DDD;\n",
       "  }\n",
       "\n",
       "  [theme=dark] .colab-df-quickchart {\n",
       "      --bg-color: #3B4455;\n",
       "      --fill-color: #D2E3FC;\n",
       "      --hover-bg-color: #434B5C;\n",
       "      --hover-fill-color: #FFFFFF;\n",
       "      --disabled-bg-color: #3B4455;\n",
       "      --disabled-fill-color: #666;\n",
       "  }\n",
       "\n",
       "  .colab-df-quickchart {\n",
       "    background-color: var(--bg-color);\n",
       "    border: none;\n",
       "    border-radius: 50%;\n",
       "    cursor: pointer;\n",
       "    display: none;\n",
       "    fill: var(--fill-color);\n",
       "    height: 32px;\n",
       "    padding: 0;\n",
       "    width: 32px;\n",
       "  }\n",
       "\n",
       "  .colab-df-quickchart:hover {\n",
       "    background-color: var(--hover-bg-color);\n",
       "    box-shadow: 0 1px 2px rgba(60, 64, 67, 0.3), 0 1px 3px 1px rgba(60, 64, 67, 0.15);\n",
       "    fill: var(--button-hover-fill-color);\n",
       "  }\n",
       "\n",
       "  .colab-df-quickchart-complete:disabled,\n",
       "  .colab-df-quickchart-complete:disabled:hover {\n",
       "    background-color: var(--disabled-bg-color);\n",
       "    fill: var(--disabled-fill-color);\n",
       "    box-shadow: none;\n",
       "  }\n",
       "\n",
       "  .colab-df-spinner {\n",
       "    border: 2px solid var(--fill-color);\n",
       "    border-color: transparent;\n",
       "    border-bottom-color: var(--fill-color);\n",
       "    animation:\n",
       "      spin 1s steps(1) infinite;\n",
       "  }\n",
       "\n",
       "  @keyframes spin {\n",
       "    0% {\n",
       "      border-color: transparent;\n",
       "      border-bottom-color: var(--fill-color);\n",
       "      border-left-color: var(--fill-color);\n",
       "    }\n",
       "    20% {\n",
       "      border-color: transparent;\n",
       "      border-left-color: var(--fill-color);\n",
       "      border-top-color: var(--fill-color);\n",
       "    }\n",
       "    30% {\n",
       "      border-color: transparent;\n",
       "      border-left-color: var(--fill-color);\n",
       "      border-top-color: var(--fill-color);\n",
       "      border-right-color: var(--fill-color);\n",
       "    }\n",
       "    40% {\n",
       "      border-color: transparent;\n",
       "      border-right-color: var(--fill-color);\n",
       "      border-top-color: var(--fill-color);\n",
       "    }\n",
       "    60% {\n",
       "      border-color: transparent;\n",
       "      border-right-color: var(--fill-color);\n",
       "    }\n",
       "    80% {\n",
       "      border-color: transparent;\n",
       "      border-right-color: var(--fill-color);\n",
       "      border-bottom-color: var(--fill-color);\n",
       "    }\n",
       "    90% {\n",
       "      border-color: transparent;\n",
       "      border-bottom-color: var(--fill-color);\n",
       "    }\n",
       "  }\n",
       "</style>\n",
       "\n",
       "  <script>\n",
       "    async function quickchart(key) {\n",
       "      const quickchartButtonEl =\n",
       "        document.querySelector('#' + key + ' button');\n",
       "      quickchartButtonEl.disabled = true;  // To prevent multiple clicks.\n",
       "      quickchartButtonEl.classList.add('colab-df-spinner');\n",
       "      try {\n",
       "        const charts = await google.colab.kernel.invokeFunction(\n",
       "            'suggestCharts', [key], {});\n",
       "      } catch (error) {\n",
       "        console.error('Error during call to suggestCharts:', error);\n",
       "      }\n",
       "      quickchartButtonEl.classList.remove('colab-df-spinner');\n",
       "      quickchartButtonEl.classList.add('colab-df-quickchart-complete');\n",
       "    }\n",
       "    (() => {\n",
       "      let quickchartButtonEl =\n",
       "        document.querySelector('#df-4ddba125-ab88-4f21-8b1e-95dddd094b20 button');\n",
       "      quickchartButtonEl.style.display =\n",
       "        google.colab.kernel.accessAllowed ? 'block' : 'none';\n",
       "    })();\n",
       "  </script>\n",
       "</div>\n",
       "\n",
       "    </div>\n",
       "  </div>\n"
      ],
      "text/plain": [
       "  court_index_number  docket_number                eviction_address  \\\n",
       "0           34859/16          53416             3476 SEYMOUR AVENUE   \n",
       "1          B57808/16          74242              1426 BRYANT AVENUE   \n",
       "2         N069212/14         355977                 1309 5TH AVENUE   \n",
       "3         K065455/16         367441              458 EAST 51 STREET   \n",
       "6           50104/16         318266  598 E 183 ST AKA 2239 ADAMS PL   \n",
       "\n",
       "  eviction_apartment_number executed_date    borough  eviction_postcode  \\\n",
       "0                       3-B    2017-01-03      BRONX              10469   \n",
       "1        10 AKA 2ND FL UNIT    2017-01-03      BRONX              10459   \n",
       "2                       24H    2017-01-03  MANHATTAN              10029   \n",
       "3                        6A    2017-01-03   BROOKLYN              11203   \n",
       "6                        26    2017-01-03      BRONX              10457   \n",
       "\n",
       "          ejectment eviction/legal_possession   latitude  ...  is_condo  \\\n",
       "0  Not an Ejectment                Possession  40.877620  ...     False   \n",
       "1  Not an Ejectment                Possession  40.830691  ...     False   \n",
       "2  Not an Ejectment                Possession  40.797309  ...     False   \n",
       "3  Not an Ejectment                Possession  40.650624  ...     False   \n",
       "6  Not an Ejectment                Possession  40.853070  ...     False   \n",
       "\n",
       "   floor_category                         rent_era  \\\n",
       "0        mid-rise       Pre-1947, pre-rent-control   \n",
       "1        low-rise  1994–Present, vacancy decontrol   \n",
       "2       high-rise      1970–1993, deregularization   \n",
       "3        mid-rise       Pre-1947, pre-rent-control   \n",
       "6        mid-rise       Pre-1947, pre-rent-control   \n",
       "\n",
       "                                 architectural_style  \\\n",
       "0                        1931–1950, Manhattan Modern   \n",
       "1                          1981–2000, Post-Modernism   \n",
       "2  1951–1980, the International Style, Alternativ...   \n",
       "3                        1931–1950, Manhattan Modern   \n",
       "6                              1900–1920, Beaux-Arts   \n",
       "\n",
       "                        economic_period  residential_units_category is_llc  \\\n",
       "0  1930-1945, great depression and WWII                  100+ units   True   \n",
       "1     1991–2008, modern economic growth                      2-unit  False   \n",
       "2      1946–1975, pst war economic boom                  100+ units  False   \n",
       "3  1930-1945, great depression and WWII                21-100 units   True   \n",
       "6        Pre-1929, pre-great depression                21-100 units   True   \n",
       "\n",
       "  building_size_category     size_quartile  eviction_rate_per_unit  \n",
       "0                   mega  Q4 (largest 25%)                0.016456  \n",
       "1                  small       Q3 (50-75%)                0.500000  \n",
       "2                   mega  Q4 (largest 25%)                0.006667  \n",
       "3             very large  Q4 (largest 25%)                0.050314  \n",
       "6             very large  Q4 (largest 25%)                0.060345  \n",
       "\n",
       "[5 rows x 40 columns]"
      ]
     },
     "metadata": {},
     "output_type": "display_data"
    }
   ],
   "source": [
    "display(df_clean.head())"
   ]
  },
  {
   "cell_type": "code",
   "execution_count": 83,
   "metadata": {
    "id": "YO04e32p6Mg7"
   },
   "outputs": [],
   "source": [
    "building_evictions = df.groupby('bbl_clean').agg({\n",
    "    'average_year_eviction_count': 'mean',\n",
    "    'eviction_count': 'sum',\n",
    "    'unitsres': 'first',\n",
    "    'building_category': 'first',\n",
    "    'building_type': 'first',\n",
    "    'is_llc': 'first',\n",
    "    'yearbuilt': 'first',\n",
    "    'bldgclass': 'first',\n",
    "    'numfloors': 'first',\n",
    "    'bldgarea': 'first',\n",
    "    'is_condo': 'first',\n",
    "    'floor_category': 'first',\n",
    "    'rent_era': 'first',\n",
    "    'architectural_style': 'first',\n",
    "    'economic_period': 'first',\n",
    "    'residential_units_category': 'first',\n",
    "    'building_size_category': 'first',\n",
    "    'size_quartile': 'first'\n",
    "}).reset_index()\n",
    "building_evictions['eviction_rate_per_unit'] = building_evictions['average_year_eviction_count'] / building_evictions['unitsres']"
   ]
  },
  {
   "cell_type": "code",
   "execution_count": 86,
   "metadata": {
    "id": "a-BMS3c-XiyJ"
   },
   "outputs": [],
   "source": [
    "characteristics = [\n",
    "    'yearbuilt', 'bldgclass', 'numfloors', 'unitsres', 'bldgarea',\n",
    "    'building_type', 'building_category', 'is_condo', 'floor_category',\n",
    "    'rent_era', 'architectural_style', 'economic_period',\n",
    "    'residential_units_category', 'is_llc', 'building_size_category',\n",
    "    'size_quartile'\n",
    "]\n",
    "characteristics = list(dict.fromkeys(characteristics))\n",
    "building_evictions['eviction_rate_per_unit'] = building_evictions['eviction_rate_per_unit'].replace([np.inf, -np.inf], np.nan)\n",
    "building_evictions_clean = building_evictions.dropna(subset=['eviction_rate_per_unit'])\n",
    "current_year = pd.Timestamp.now().year\n",
    "building_evictions_clean['building_age'] = current_year - building_evictions_clean['yearbuilt']\n",
    "characteristics.append('building_age')"
   ]
  },
  {
   "cell_type": "code",
   "execution_count": 115,
   "metadata": {
    "colab": {
     "base_uri": "https://localhost:8080/"
    },
    "id": "oSXuA9OmXmq4",
    "outputId": "daf1172a-c130-4a0e-e31b-3849c4cee0b1"
   },
   "outputs": [
    {
     "name": "stdout",
     "output_type": "stream",
     "text": [
      "total buildings analyzed: 31545\n",
      "average eviction rate per unit: 0.3094\n"
     ]
    }
   ],
   "source": [
    "print(f\"total buildings analyzed: {len(building_evictions_clean)}\")\n",
    "print(f\"average eviction rate per unit: {building_evictions_clean['eviction_rate_per_unit'].mean():.4f}\")"
   ]
  },
  {
   "cell_type": "code",
   "execution_count": 112,
   "metadata": {
    "colab": {
     "base_uri": "https://localhost:8080/"
    },
    "id": "Xqdz7JTAdffd",
    "outputId": "b1b06918-cba1-421f-e8fe-14df52ad3468"
   },
   "outputs": [
    {
     "data": {
      "text/plain": [
       "['yearbuilt', 'numfloors', 'unitsres', 'bldgarea', 'building_age']"
      ]
     },
     "execution_count": 112,
     "metadata": {},
     "output_type": "execute_result"
    }
   ],
   "source": [
    "numerical_chars = building_evictions_clean[characteristics].select_dtypes(include=[np.number]).columns.tolist()\n",
    "numerical_chars"
   ]
  },
  {
   "cell_type": "code",
   "execution_count": 113,
   "metadata": {
    "id": "rw9bLZ7AXrAv"
   },
   "outputs": [],
   "source": [
    "corr_data = pd.DataFrame()\n",
    "for char in numerical_chars:\n",
    "    correlation = building_evictions_clean[[char, 'eviction_rate_per_unit']].corr().iloc[0, 1]\n",
    "    r, p_value = stats.pearsonr(\n",
    "        building_evictions_clean[char].dropna(),\n",
    "        building_evictions_clean.loc[building_evictions_clean[char].notna(), 'eviction_rate_per_unit']\n",
    "    )\n",
    "    corr_data = pd.concat([corr_data, pd.DataFrame({\n",
    "        'characteristic': [char],\n",
    "        'correlation': [correlation],\n",
    "        'p_value': [p_value],\n",
    "        'significant': [p_value < 0.05]\n",
    "    })])"
   ]
  },
  {
   "cell_type": "code",
   "execution_count": 114,
   "metadata": {
    "colab": {
     "base_uri": "https://localhost:8080/"
    },
    "id": "mUk8jS44YFEL",
    "outputId": "aa7fd817-0391-4948-f3b2-7fb830e44e87"
   },
   "outputs": [
    {
     "name": "stdout",
     "output_type": "stream",
     "text": [
      "correlation with eviction rate (only numerical characteristics):\n",
      "  characteristic  correlation        p_value  significant\n",
      "0      numfloors    -0.394253   0.000000e+00         True\n",
      "0       unitsres    -0.176111  4.032848e-218         True\n",
      "0       bldgarea    -0.173245  4.858287e-211         True\n",
      "0   building_age    -0.034417   9.700829e-10         True\n",
      "0      yearbuilt     0.034417   9.700829e-10         True\n"
     ]
    }
   ],
   "source": [
    "corr_data = corr_data.sort_values(by='correlation', key=abs, ascending=False)\n",
    "\n",
    "print(\"correlation with eviction rate (only numerical characteristics):\")\n",
    "print(corr_data)"
   ]
  },
  {
   "cell_type": "code",
   "execution_count": 111,
   "metadata": {
    "colab": {
     "base_uri": "https://localhost:8080/",
     "height": 563
    },
    "id": "3sHExkIUWYb6",
    "outputId": "57608a65-0084-4339-d37d-78170fa34a0f"
   },
   "outputs": [
    {
     "data": {
      "text/plain": [
       "Text(0.5, 1.0, 'Correlation with eviction rate (only numerical characteristics)')"
      ]
     },
     "execution_count": 111,
     "metadata": {},
     "output_type": "execute_result"
    },
    {
     "data": {
      "image/png": "[encoded data removed]",
      "text/plain": [
       "<Figure size 800x600 with 1 Axes>"
      ]
     },
     "metadata": {},
     "output_type": "display_data"
    }
   ],
   "source": [
    "plt.figure(figsize=(8, 6))\n",
    "bars = plt.barh(corr_data['characteristic'], corr_data['correlation'])\n",
    "for i, bar in enumerate(bars):\n",
    "    if corr_data.iloc[i]['significant']:\n",
    "        if corr_data.iloc[i]['correlation'] > 0:\n",
    "            bar.set_color('red')\n",
    "        else:\n",
    "            bar.set_color('lightblue')\n",
    "    else:\n",
    "        bar.set_color('gray')\n",
    "plt.title('Correlation with eviction rate (only numerical characteristics)', fontsize=14)"
   ]
  },
  {
   "cell_type": "markdown",
   "metadata": {
    "id": "-UJdmnUCcFPt"
   },
   "source": [
    "- numfloors (-0.394253, p < 0.001) \\\n",
    "This is so far the strongest correlation, showing a moderately strong negative relationship between the number of floors in a building and eviction rates. This means that as the number of floors increases, the eviction rate tends to decrease. In other words, taller buildings generally have lower eviction rates per unit. This correlation is highly statistically significant (p-value almost zero).\n",
    "- unitsres (-0.176111, p < 0.001) \\\n",
    "There's a weak to moderate negative correlation between the number of residential units and eviction rates. Buildings with more units tend to have somewhat lower eviction rates per unit. This is also highly statistically significant.\n",
    "- bldgarea (-0.173245, p < 0.001) \\\n",
    "The building area shows a similar weak to moderate negative correlation with eviction rates. This means, larger buildings (by square footage) tend to have lower eviction rates per unit. This correlation is very similar in strength to the number of units, suggesting these two characteristics may have similar aspects of building size.\n",
    "- building_age (-0.034417, p < 0.001) and yearbuilt (0.034417, p < 0.001) \\\n",
    "These show very weak correlations with eviction rates. Building age has a slight negative correlation, meaning older buildings have marginally higher eviction rates. 'Yearbuilt' shows the exact same correlation magnitude but positive. In this case, it actually makes sense as it's the inverse of building age. While statistically significant due to large sample size, the practical significance is quite small. In other words, building age appears to have minimal correlation with eviction rates compared to other factors.\n",
    "\n",
    "**Overall qualitative interpretation:**\n",
    "\n",
    "- Building size matters: The data strongly suggests that larger buildings (taller, more units, greater area) tend to have lower eviction rates per unit. Some of the factors could be:\n",
    "\n",
    "- Professional management in larger buildings\n",
    "- more systematic tenant screening processes\n",
    "- economies of scale in maintenance and operations\n",
    "- Potentially different ownership structures\n"
   ]
  },
  {
   "cell_type": "markdown",
   "metadata": {
    "id": "makKkRemc9w1"
   },
   "source": []
  },
  {
   "cell_type": "code",
   "execution_count": null,
   "metadata": {
    "id": "0u73v84LWYeQ"
   },
   "outputs": [],
   "source": []
  },
  {
   "cell_type": "code",
   "execution_count": null,
   "metadata": {
    "id": "fYTyx2UIWYhE"
   },
   "outputs": [],
   "source": []
  },
  {
   "cell_type": "code",
   "execution_count": null,
   "metadata": {
    "id": "t-_EBxX3WYjx"
   },
   "outputs": [],
   "source": []
  },
  {
   "cell_type": "code",
   "execution_count": null,
   "metadata": {
    "id": "oQwfEf20WYqw"
   },
   "outputs": [],
   "source": []
  },
  {
   "cell_type": "code",
   "execution_count": null,
   "metadata": {
    "id": "cALCPq6qWYuA"
   },
   "outputs": [],
   "source": []
  }
 ],
 "metadata": {
  "colab": {
   "provenance": []
  },
  "kernelspec": {
   "display_name": "Python 3 (ipykernel)",
   "language": "python",
   "name": "python3"
  },
  "language_info": {
   "codemirror_mode": {
    "name": "ipython",
    "version": 3
   },
   "file_extension": ".py",
   "mimetype": "text/x-python",
   "name": "python",
   "nbconvert_exporter": "python",
   "pygments_lexer": "ipython3",
   "version": "3.11.0"
  }
 },
 "nbformat": 4,
 "nbformat_minor": 1
}
