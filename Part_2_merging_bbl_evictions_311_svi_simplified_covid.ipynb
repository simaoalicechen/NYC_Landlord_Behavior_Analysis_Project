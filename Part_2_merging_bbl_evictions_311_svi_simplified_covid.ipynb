{
 "cells": [
  {
   "cell_type": "code",
   "execution_count": 2,
   "metadata": {
    "id": "PN_U9et3qjx7"
   },
   "outputs": [],
   "source": [
    "# !pip install geopandas folium matplotlib seaborn scipy\n",
    "# !pip install esda\n",
    "# !pip install splot\n",
    "# # for google colab, had to reinstall some pacakges."
   ]
  },
  {
   "cell_type": "code",
   "execution_count": 3,
   "metadata": {
    "id": "0j1GVN6Sqs0d"
   },
   "outputs": [],
   "source": [
    "import pandas as pd\n",
    "import numpy as np\n",
    "from scipy import stats\n",
    "import datetime as dt\n",
    "import matplotlib\n",
    "import matplotlib.pyplot as plt\n",
    "import os\n",
    "import io\n",
    "import geopandas as gpd\n",
    "import seaborn as sns\n",
    "\n",
    "# suppress warning\n",
    "import warnings\n",
    "warnings.filterwarnings('ignore')\n",
    "\n",
    "%matplotlib inline"
   ]
  },
  {
   "cell_type": "code",
   "execution_count": 4,
   "metadata": {
    "colab": {
     "base_uri": "https://localhost:8080/"
    },
    "id": "yL8pJMQbqwK_",
    "outputId": "a61aea59-204e-463b-c7cd-6cf6f1ed5a93"
   },
   "outputs": [
    {
     "name": "stdout",
     "output_type": "stream",
     "text": [
      "Mounted at /content/drive\n"
     ]
    }
   ],
   "source": [
    "from google.colab import drive\n",
    "drive.mount('/content/drive')"
   ]
  },
  {
   "cell_type": "code",
   "execution_count": 29,
   "metadata": {
    "id": "bw2k7BqMMRTr"
   },
   "outputs": [],
   "source": [
    "file_path1 = '/content/drive/My Drive/X999/bbl_evictions_merged_covid.csv'"
   ]
  },
  {
   "cell_type": "markdown",
   "metadata": {
    "id": "MISUltnfzzUB"
   },
   "source": []
  },
  {
   "cell_type": "code",
   "execution_count": 28,
   "metadata": {
    "id": "NhxlMVk2aX7Y"
   },
   "outputs": [],
   "source": [
    "# file_path2 = '/content/drive/My Drive/X999/svi_cleaned.csv'"
   ]
  },
  {
   "cell_type": "code",
   "execution_count": 30,
   "metadata": {
    "id": "zFtAZ7Yx6U4l"
   },
   "outputs": [],
   "source": [
    "file_path3 = '/content/drive/My Drive/X999/bbl_evictions_svi.csv'"
   ]
  },
  {
   "cell_type": "code",
   "execution_count": 31,
   "metadata": {
    "id": "6IJp5Keo8nbw"
   },
   "outputs": [],
   "source": [
    "file_path5 = '/content/drive/My Drive/X999/svi_simplified.csv'"
   ]
  },
  {
   "cell_type": "markdown",
   "metadata": {
    "id": "BANEjkYp8m6Y"
   },
   "source": []
  },
  {
   "cell_type": "code",
   "execution_count": 32,
   "metadata": {
    "id": "3EGzBLiH6YsO"
   },
   "outputs": [],
   "source": [
    "bbl_evictions_svi_df = pd.read_csv(file_path3)"
   ]
  },
  {
   "cell_type": "code",
   "execution_count": 33,
   "metadata": {
    "id": "7nKPJI5i7hNU"
   },
   "outputs": [],
   "source": [
    "file_path4 = '/content/drive/My Drive/X999/bbl_evcitions_311_df_groupby_bbl_covid.csv'"
   ]
  },
  {
   "cell_type": "code",
   "execution_count": 39,
   "metadata": {
    "id": "z3Km_c9K6nCv"
   },
   "outputs": [],
   "source": [
    "bbl_evictions_311_df_covid = pd.read_csv(file_path4)"
   ]
  },
  {
   "cell_type": "code",
   "execution_count": 35,
   "metadata": {
    "id": "VqTboIPm6f28"
   },
   "outputs": [],
   "source": [
    "svi_simplified_df = pd.read_csv(file_path5)"
   ]
  },
  {
   "cell_type": "code",
   "execution_count": 36,
   "metadata": {
    "colab": {
     "base_uri": "https://localhost:8080/"
    },
    "id": "xbUjTNFy8voX",
    "outputId": "10066fbe-7114-4c53-b1fd-9db6654b93b7"
   },
   "outputs": [
    {
     "data": {
      "text/plain": [
       "Index(['FIPS', 'E_TOTPOP', 'RPL_THEME1', 'RPL_THEME2', 'RPL_THEME3',\n",
       "       'RPL_THEME4', 'RPL_THEMES', 'EP_POV150', 'EP_UNEMP', 'EP_NOHSDP',\n",
       "       'EP_UNINSUR', 'EP_AGE65', 'EP_AGE17', 'EP_DISABL', 'EP_LIMENG',\n",
       "       'EP_NOVEH', 'EP_CROWD', 'EP_HBURD', 'EP_AFAM', 'EP_HISP', 'EP_ASIAN',\n",
       "       'EP_AIAN', 'EP_NHPI', 'EP_TWOMORE', 'EP_OTHERRACE', 'EP_MINRTY',\n",
       "       'EP_WHITE'],\n",
       "      dtype='object')"
      ]
     },
     "execution_count": 36,
     "metadata": {},
     "output_type": "execute_result"
    }
   ],
   "source": [
    "svi_simplified_df.columns"
   ]
  },
  {
   "cell_type": "code",
   "execution_count": 37,
   "metadata": {
    "id": "WuEYRWrt83Pq"
   },
   "outputs": [],
   "source": [
    "svi_simplified_df = svi_simplified_df.rename(columns={'FIPS': 'zipcodes'})"
   ]
  },
  {
   "cell_type": "code",
   "execution_count": 40,
   "metadata": {
    "colab": {
     "base_uri": "https://localhost:8080/"
    },
    "id": "isyo8eGd8xus",
    "outputId": "aa15c125-26cf-4190-aeb6-e49737e342a1"
   },
   "outputs": [
    {
     "data": {
      "text/plain": [
       "Index(['court_index_number', 'docket_number', 'eviction_address',\n",
       "       'eviction_apartment_number', 'executed_date', 'borough',\n",
       "       'eviction_postcode', 'ejectment', 'eviction/legal_possession',\n",
       "       'latitude', 'longitude', 'community_board', 'council_district',\n",
       "       'census_tract', 'bin', 'nta', 'geometry', 'eviction_count', 'year',\n",
       "       'average_year_eviction_count', 'bbl', 'yearbuilt', 'bldgclass',\n",
       "       'numfloors', 'unitsres', 'ownername', 'bldgarea', 'building_type',\n",
       "       'building_category', 'is_condo', 'floor_category', 'rent_era',\n",
       "       'architectural_style', 'economic_period', 'residential_units_category',\n",
       "       'is_llc', 'building_size_category', 'size_quartile', 'decade',\n",
       "       'complaint_count'],\n",
       "      dtype='object')"
      ]
     },
     "execution_count": 40,
     "metadata": {},
     "output_type": "execute_result"
    }
   ],
   "source": [
    "bbl_evictions_311_df_covid.columns"
   ]
  },
  {
   "cell_type": "code",
   "execution_count": 41,
   "metadata": {
    "id": "6Nb0TFYe81G-"
   },
   "outputs": [],
   "source": [
    "bbl_evictions_311_df_covid = bbl_evictions_311_df_covid.rename(columns={'eviction_postcode': 'zipcodes'})"
   ]
  },
  {
   "cell_type": "code",
   "execution_count": 44,
   "metadata": {
    "id": "vBq16-By9OS1"
   },
   "outputs": [],
   "source": [
    "bbl_evictions_311_df_covid = bbl_evictions_311_df_covid.drop(columns=['bbl_clean'])"
   ]
  },
  {
   "cell_type": "code",
   "execution_count": 45,
   "metadata": {
    "id": "Jf4wmSj-9Xaa"
   },
   "outputs": [],
   "source": [
    "# merge based on bbl_evictions_311_df to just add svi columns to the 311 evictions columns\n",
    "merged_df = bbl_evictions_311_df_covid.merge(\n",
    "    svi_simplified_df,\n",
    "    on='zipcodes',\n",
    "    how='left'\n",
    ")"
   ]
  },
  {
   "cell_type": "code",
   "execution_count": 46,
   "metadata": {
    "colab": {
     "base_uri": "https://localhost:8080/"
    },
    "id": "G6ZkwUln982S",
    "outputId": "a4ed4098-d820-4795-dc18-65f230b4d2e3"
   },
   "outputs": [
    {
     "data": {
      "text/plain": [
       "Index(['court_index_number', 'docket_number', 'eviction_address',\n",
       "       'eviction_apartment_number', 'executed_date', 'borough', 'zipcodes',\n",
       "       'ejectment', 'eviction/legal_possession', 'latitude', 'longitude',\n",
       "       'community_board', 'council_district', 'census_tract', 'bin', 'nta',\n",
       "       'geometry', 'eviction_count', 'year', 'average_year_eviction_count',\n",
       "       'bbl', 'yearbuilt', 'bldgclass', 'numfloors', 'unitsres', 'ownername',\n",
       "       'bldgarea', 'building_type', 'building_category', 'is_condo',\n",
       "       'floor_category', 'rent_era', 'architectural_style', 'economic_period',\n",
       "       'residential_units_category', 'is_llc', 'building_size_category',\n",
       "       'size_quartile', 'decade', 'complaint_count', 'E_TOTPOP', 'RPL_THEME1',\n",
       "       'RPL_THEME2', 'RPL_THEME3', 'RPL_THEME4', 'RPL_THEMES', 'EP_POV150',\n",
       "       'EP_UNEMP', 'EP_NOHSDP', 'EP_UNINSUR', 'EP_AGE65', 'EP_AGE17',\n",
       "       'EP_DISABL', 'EP_LIMENG', 'EP_NOVEH', 'EP_CROWD', 'EP_HBURD', 'EP_AFAM',\n",
       "       'EP_HISP', 'EP_ASIAN', 'EP_AIAN', 'EP_NHPI', 'EP_TWOMORE',\n",
       "       'EP_OTHERRACE', 'EP_MINRTY', 'EP_WHITE'],\n",
       "      dtype='object')"
      ]
     },
     "execution_count": 46,
     "metadata": {},
     "output_type": "execute_result"
    }
   ],
   "source": [
    "merged_df.columns"
   ]
  },
  {
   "cell_type": "code",
   "execution_count": 49,
   "metadata": {
    "colab": {
     "base_uri": "https://localhost:8080/"
    },
    "id": "RTQaxkHL_PqL",
    "outputId": "bacb5b68-8bd6-4c7e-c4aa-eda3ccfbd1cf"
   },
   "outputs": [
    {
     "data": {
      "text/plain": [
       "(6338, 66)"
      ]
     },
     "execution_count": 49,
     "metadata": {},
     "output_type": "execute_result"
    }
   ],
   "source": [
    "merged_df.shape\n",
    "# lovely, all necessary features, but not too large"
   ]
  },
  {
   "cell_type": "code",
   "execution_count": 50,
   "metadata": {
    "id": "_UY6C-LF_VBI"
   },
   "outputs": [],
   "source": [
    "merged_df.to_csv('/content/drive/My Drive/X999/bbl_evictions_311_svi_covid.csv', index=False)"
   ]
  },
  {
   "cell_type": "code",
   "execution_count": 24,
   "metadata": {
    "id": "HAP0uBkT-nEN"
   },
   "outputs": [],
   "source": []
  }
 ],
 "metadata": {
  "colab": {
   "provenance": []
  },
  "kernelspec": {
   "display_name": "Python 3 (ipykernel)",
   "language": "python",
   "name": "python3"
  },
  "language_info": {
   "codemirror_mode": {
    "name": "ipython",
    "version": 3
   },
   "file_extension": ".py",
   "mimetype": "text/x-python",
   "name": "python",
   "nbconvert_exporter": "python",
   "pygments_lexer": "ipython3",
   "version": "3.11.0"
  }
 },
 "nbformat": 4,
 "nbformat_minor": 0
}
