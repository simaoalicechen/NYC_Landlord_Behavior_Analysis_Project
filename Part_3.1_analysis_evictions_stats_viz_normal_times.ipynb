{
 "cells": [
  {
   "cell_type": "markdown",
   "metadata": {
    "id": "AtdZhKelxasM"
   },
   "source": [
    "# **Introduction**\n",
    "\n",
    "- In this notebook, we use the initially cleaned eviction data and turn it into geodataframe. From cleaning_eviction notebook, we have known the evictions during and outside of covid behave drastically differently, therefore, in this notebook, we first break the initial cleaned_eviction df into 2 parts: covid and pre-post covid, and then analyze their stats.\n",
    "\n",
    "- For clarity and brevity, we only focus on normal times in this notebook.\n",
    "\n",
    "- In order to analyze the building per year eviction data, we aggregate and merge based on bbl and create the new column \"average_year_eviction_count\", representing avegrae evictions per year per building. For each dataframe, we visualize the trends over the years in aggregated data and per building per year data, with stats summary. We also visualize the eviction distributions in nyc with plotly and folium on maps. To make the visuals more clear, we create different maps with different thresholds.  \n",
    "\n",
    "- Finally, we find the buildings with the most evictions (> 10 or >5) on each period. We will use these bbl and merge them with BBL.csv to find the exact buildings and locate the landlords. Further analysis will continue in the same series notebooks until clustering analysis and getting to know the data is done.\n",
    "\n",
    "- All charts, summaries, maps can be found in images folder."
   ]
  },
  {
   "cell_type": "code",
   "execution_count": 2,
   "metadata": {
    "id": "8BDmR5z23Lgw"
   },
   "outputs": [],
   "source": [
    "# !pip install geopandas folium matplotlib seaborn scipy\n",
    "# !pip install esda\n",
    "# !pip install splot\n",
    "# # for google colab, had to reinstall some pacakges."
   ]
  },
  {
   "cell_type": "code",
   "execution_count": null,
   "metadata": {
    "id": "rOCrbQvHzouc"
   },
   "outputs": [],
   "source": [
    "# !pip install geopandas folium matplotlib seaborn scipy esda splot"
   ]
  },
  {
   "cell_type": "code",
   "execution_count": 3,
   "metadata": {
    "id": "nAmNEs6wVScC"
   },
   "outputs": [],
   "source": [
    "import pandas as pd\n",
    "import geopandas as gpd\n",
    "import numpy as np\n",
    "import datetime as dt\n",
    "import scipy\n",
    "\n",
    "from sklearn.cluster import DBSCAN\n",
    "from sklearn.cluster import KMeans\n",
    "from sklearn.preprocessing import StandardScaler\n",
    "from sklearn.metrics import silhouette_score\n",
    "\n",
    "# visualization\n",
    "import matplotlib.pyplot as plt\n",
    "from matplotlib import colors as mcolors\n",
    "import seaborn as sns\n",
    "import folium\n",
    "from folium.plugins import HeatMap\n",
    "from folium import Marker\n",
    "from folium.plugins import MarkerCluster\n",
    "import plotly.express as px\n",
    "import plotly.io as pio\n",
    "\n",
    "# system and utility\n",
    "import warnings\n",
    "import os\n",
    "import io\n",
    "from IPython.display import IFrame\n",
    "from google.colab import files\n",
    "\n",
    "import matplotlib.pyplot as plt\n",
    "\n",
    "# suppress warnings\n",
    "warnings.filterwarnings('ignore')\n",
    "\n",
    "# inline\n",
    "%matplotlib inline"
   ]
  },
  {
   "cell_type": "code",
   "execution_count": 4,
   "metadata": {
    "id": "GRnogN_KpSn-"
   },
   "outputs": [],
   "source": [
    "pd.set_option('display.max_colwidth', None)\n",
    "pd.set_option('display.max_row', 1000)"
   ]
  },
  {
   "cell_type": "markdown",
   "metadata": {
    "id": "mdu1MZ4dafhf"
   },
   "source": [
    "# **Part 1 Get the Eviction data**"
   ]
  },
  {
   "cell_type": "code",
   "execution_count": 5,
   "metadata": {
    "colab": {
     "base_uri": "https://localhost:8080/"
    },
    "id": "fVLfYL7LWCKH",
    "outputId": "e86fb37b-bee4-4807-c70f-70bd75f6d4ce"
   },
   "outputs": [
    {
     "name": "stdout",
     "output_type": "stream",
     "text": [
      "Mounted at /content/drive\n"
     ]
    }
   ],
   "source": [
    "from google.colab import drive\n",
    "drive.mount('/content/drive')"
   ]
  },
  {
   "cell_type": "code",
   "execution_count": 6,
   "metadata": {
    "id": "qpFrBTBgxVNg"
   },
   "outputs": [],
   "source": [
    "# data source:\n",
    "file_path = '/content/drive/My Drive/X999/evictions_df_cleaned.csv'"
   ]
  },
  {
   "cell_type": "code",
   "execution_count": 7,
   "metadata": {
    "id": "euMz6qtOA-Re"
   },
   "outputs": [],
   "source": [
    "evictions_df_raw = pd.read_csv(file_path)"
   ]
  },
  {
   "cell_type": "code",
   "execution_count": 8,
   "metadata": {
    "id": "-nNgSlMwskhZ"
   },
   "outputs": [],
   "source": [
    "evictions_df = evictions_df_raw.copy()"
   ]
  },
  {
   "cell_type": "code",
   "execution_count": 9,
   "metadata": {
    "id": "eJG3z9E8u0SV"
   },
   "outputs": [],
   "source": [
    "evictions_df.bin = evictions_df.bin.astype(int)\n",
    "evictions_df.bbl = evictions_df.bbl.astype(int)"
   ]
  },
  {
   "cell_type": "code",
   "execution_count": 10,
   "metadata": {
    "colab": {
     "base_uri": "https://localhost:8080/"
    },
    "id": "LU9YZbm0bJYA",
    "outputId": "a5c7a414-fc93-4df5-eddc-d87fa9e21d05"
   },
   "outputs": [
    {
     "data": {
      "text/plain": [
       "(83282, 20)"
      ]
     },
     "execution_count": 10,
     "metadata": {},
     "output_type": "execute_result"
    }
   ],
   "source": [
    "evictions_df.shape\n",
    "# correct"
   ]
  },
  {
   "cell_type": "code",
   "execution_count": 11,
   "metadata": {
    "colab": {
     "base_uri": "https://localhost:8080/",
     "height": 201
    },
    "id": "uK2dsD2f2WG3",
    "outputId": "d8a52dc2-1112-467b-eb5c-52d776c52dae"
   },
   "outputs": [
    {
     "data": {
      "application/vnd.google.colaboratory.intrinsic+json": {
       "summary": "{\n  \"name\": \"evictions_df\",\n  \"rows\": 83282,\n  \"fields\": [\n    {\n      \"column\": \"primary_key\",\n      \"properties\": {\n        \"dtype\": \"string\",\n        \"num_unique_values\": 83282,\n        \"samples\": [\n          \"B29926/17_97241\",\n          \"R302108/23_111907\",\n          \"K85267/16B_74587\"\n        ],\n        \"semantic_type\": \"\",\n        \"description\": \"\"\n      }\n    },\n    {\n      \"column\": \"court_index_number\",\n      \"properties\": {\n        \"dtype\": \"string\",\n        \"num_unique_values\": 80538,\n        \"samples\": [\n          \"24049/18\",\n          \"318794/22\",\n          \"056601/18\"\n        ],\n        \"semantic_type\": \"\",\n        \"description\": \"\"\n      }\n    },\n    {\n      \"column\": \"docket_number\",\n      \"properties\": {\n        \"dtype\": \"number\",\n        \"std\": 137195,\n        \"min\": 15,\n        \"max\": 496987,\n        \"num_unique_values\": 71765,\n        \"samples\": [\n          60218,\n          69925,\n          361100\n        ],\n        \"semantic_type\": \"\",\n        \"description\": \"\"\n      }\n    },\n    {\n      \"column\": \"eviction_address\",\n      \"properties\": {\n        \"dtype\": \"string\",\n        \"num_unique_values\": 47097,\n        \"samples\": [\n          \"2016 ALBEMARLE ROAD\",\n          \"505 LAGUARDIA PLACE\",\n          \"1782 BERGEN STREET\"\n        ],\n        \"semantic_type\": \"\",\n        \"description\": \"\"\n      }\n    },\n    {\n      \"column\": \"eviction_apartment_number\",\n      \"properties\": {\n        \"dtype\": \"category\",\n        \"num_unique_values\": 7786,\n        \"samples\": [\n          \"2J2\",\n          \"35C\",\n          \"UNIT 6C\"\n        ],\n        \"semantic_type\": \"\",\n        \"description\": \"\"\n      }\n    },\n    {\n      \"column\": \"executed_date\",\n      \"properties\": {\n        \"dtype\": \"object\",\n        \"num_unique_values\": 1583,\n        \"samples\": [\n          \"2022-05-25\",\n          \"2024-07-30\",\n          \"2022-12-14\"\n        ],\n        \"semantic_type\": \"\",\n        \"description\": \"\"\n      }\n    },\n    {\n      \"column\": \"borough\",\n      \"properties\": {\n        \"dtype\": \"category\",\n        \"num_unique_values\": 5,\n        \"samples\": [\n          \"BRONX\",\n          \"MANHATTAN\",\n          \"STATEN ISLAND\"\n        ],\n        \"semantic_type\": \"\",\n        \"description\": \"\"\n      }\n    },\n    {\n      \"column\": \"eviction_postcode\",\n      \"properties\": {\n        \"dtype\": \"number\",\n        \"std\": 508,\n        \"min\": 10000,\n        \"max\": 11698,\n        \"num_unique_values\": 204,\n        \"samples\": [\n          10456,\n          10463,\n          10031\n        ],\n        \"semantic_type\": \"\",\n        \"description\": \"\"\n      }\n    },\n    {\n      \"column\": \"ejectment\",\n      \"properties\": {\n        \"dtype\": \"category\",\n        \"num_unique_values\": 2,\n        \"samples\": [\n          \"Ejectment\",\n          \"Not an Ejectment\"\n        ],\n        \"semantic_type\": \"\",\n        \"description\": \"\"\n      }\n    },\n    {\n      \"column\": \"eviction/legal_possession\",\n      \"properties\": {\n        \"dtype\": \"category\",\n        \"num_unique_values\": 2,\n        \"samples\": [\n          \"Eviction\",\n          \"Possession\"\n        ],\n        \"semantic_type\": \"\",\n        \"description\": \"\"\n      }\n    },\n    {\n      \"column\": \"latitude\",\n      \"properties\": {\n        \"dtype\": \"number\",\n        \"std\": 0.09234899393009968,\n        \"min\": 40.49905,\n        \"max\": 40.912869,\n        \"num_unique_values\": 36804,\n        \"samples\": [\n          40.814336,\n          40.761003\n        ],\n        \"semantic_type\": \"\",\n        \"description\": \"\"\n      }\n    },\n    {\n      \"column\": \"longitude\",\n      \"properties\": {\n        \"dtype\": \"number\",\n        \"std\": 0.06925988995148814,\n        \"min\": -74.251262,\n        \"max\": -73.70143,\n        \"num_unique_values\": 36087,\n        \"samples\": [\n          -73.875558,\n          -73.822434\n        ],\n        \"semantic_type\": \"\",\n        \"description\": \"\"\n      }\n    },\n    {\n      \"column\": \"community_board\",\n      \"properties\": {\n        \"dtype\": \"number\",\n        \"std\": 4.584108785100959,\n        \"min\": 1.0,\n        \"max\": 18.0,\n        \"num_unique_values\": 18,\n        \"samples\": [\n          5.0,\n          7.0\n        ],\n        \"semantic_type\": \"\",\n        \"description\": \"\"\n      }\n    },\n    {\n      \"column\": \"council_district\",\n      \"properties\": {\n        \"dtype\": \"number\",\n        \"std\": 13.909055800049133,\n        \"min\": 1.0,\n        \"max\": 51.0,\n        \"num_unique_values\": 51,\n        \"samples\": [\n          28.0,\n          13.0\n        ],\n        \"semantic_type\": \"\",\n        \"description\": \"\"\n      }\n    },\n    {\n      \"column\": \"census_tract\",\n      \"properties\": {\n        \"dtype\": \"number\",\n        \"std\": 21464.839364658576,\n        \"min\": 1.0,\n        \"max\": 157903.0,\n        \"num_unique_values\": 1292,\n        \"samples\": [\n          506.0,\n          106.0\n        ],\n        \"semantic_type\": \"\",\n        \"description\": \"\"\n      }\n    },\n    {\n      \"column\": \"bin\",\n      \"properties\": {\n        \"dtype\": \"number\",\n        \"std\": 1121933,\n        \"min\": 1000000,\n        \"max\": 5171959,\n        \"num_unique_values\": 38502,\n        \"samples\": [\n          2121263,\n          3388423\n        ],\n        \"semantic_type\": \"\",\n        \"description\": \"\"\n      }\n    },\n    {\n      \"column\": \"bbl\",\n      \"properties\": {\n        \"dtype\": \"number\",\n        \"std\": 1071178701,\n        \"min\": 0,\n        \"max\": 5080490021,\n        \"num_unique_values\": 36121,\n        \"samples\": [\n          2041020038,\n          3067210053\n        ],\n        \"semantic_type\": \"\",\n        \"description\": \"\"\n      }\n    },\n    {\n      \"column\": \"nta\",\n      \"properties\": {\n        \"dtype\": \"category\",\n        \"num_unique_values\": 190,\n        \"samples\": [\n          \"Ocean Parkway South\",\n          \"Stuyvesant Town-Cooper Village\"\n        ],\n        \"semantic_type\": \"\",\n        \"description\": \"\"\n      }\n    },\n    {\n      \"column\": \"year\",\n      \"properties\": {\n        \"dtype\": \"number\",\n        \"std\": 2,\n        \"min\": 2017,\n        \"max\": 2024,\n        \"num_unique_values\": 8,\n        \"samples\": [\n          2018,\n          2022\n        ],\n        \"semantic_type\": \"\",\n        \"description\": \"\"\n      }\n    },\n    {\n      \"column\": \"month_year\",\n      \"properties\": {\n        \"dtype\": \"object\",\n        \"num_unique_values\": 86,\n        \"samples\": [\n          \"2022-02\",\n          \"2024-12\"\n        ],\n        \"semantic_type\": \"\",\n        \"description\": \"\"\n      }\n    }\n  ]\n}",
       "type": "dataframe",
       "variable_name": "evictions_df"
      },
      "text/html": [
       "\n",
       "  <div id=\"df-0871291d-f55d-4c77-9a9d-63148668a3f9\" class=\"colab-df-container\">\n",
       "    <div>\n",
       "<style scoped>\n",
       "    .dataframe tbody tr th:only-of-type {\n",
       "        vertical-align: middle;\n",
       "    }\n",
       "\n",
       "    .dataframe tbody tr th {\n",
       "        vertical-align: top;\n",
       "    }\n",
       "\n",
       "    .dataframe thead th {\n",
       "        text-align: right;\n",
       "    }\n",
       "</style>\n",
       "<table border=\"1\" class=\"dataframe\">\n",
       "  <thead>\n",
       "    <tr style=\"text-align: right;\">\n",
       "      <th></th>\n",
       "      <th>primary_key</th>\n",
       "      <th>court_index_number</th>\n",
       "      <th>docket_number</th>\n",
       "      <th>eviction_address</th>\n",
       "      <th>eviction_apartment_number</th>\n",
       "      <th>executed_date</th>\n",
       "      <th>borough</th>\n",
       "      <th>eviction_postcode</th>\n",
       "      <th>ejectment</th>\n",
       "      <th>eviction/legal_possession</th>\n",
       "      <th>latitude</th>\n",
       "      <th>longitude</th>\n",
       "      <th>community_board</th>\n",
       "      <th>council_district</th>\n",
       "      <th>census_tract</th>\n",
       "      <th>bin</th>\n",
       "      <th>bbl</th>\n",
       "      <th>nta</th>\n",
       "      <th>year</th>\n",
       "      <th>month_year</th>\n",
       "    </tr>\n",
       "  </thead>\n",
       "  <tbody>\n",
       "    <tr>\n",
       "      <th>0</th>\n",
       "      <td>*308072/22_5865</td>\n",
       "      <td>*308072/22</td>\n",
       "      <td>5865</td>\n",
       "      <td>356 MILLER AVE</td>\n",
       "      <td>1 AND BASEMENT</td>\n",
       "      <td>2024-12-04</td>\n",
       "      <td>BROOKLYN</td>\n",
       "      <td>11207</td>\n",
       "      <td>Not an Ejectment</td>\n",
       "      <td>Possession</td>\n",
       "      <td>40.672121</td>\n",
       "      <td>-73.891105</td>\n",
       "      <td>5.0</td>\n",
       "      <td>37.0</td>\n",
       "      <td>1152.0</td>\n",
       "      <td>3083989</td>\n",
       "      <td>3037420029</td>\n",
       "      <td>East New York</td>\n",
       "      <td>2024</td>\n",
       "      <td>2024-12</td>\n",
       "    </tr>\n",
       "    <tr>\n",
       "      <th>1</th>\n",
       "      <td>*313639/23_5202</td>\n",
       "      <td>*313639/23</td>\n",
       "      <td>5202</td>\n",
       "      <td>710 61ST STREET</td>\n",
       "      <td>2ND FLOOR</td>\n",
       "      <td>2024-03-04</td>\n",
       "      <td>BROOKLYN</td>\n",
       "      <td>11220</td>\n",
       "      <td>Not an Ejectment</td>\n",
       "      <td>Possession</td>\n",
       "      <td>40.635941</td>\n",
       "      <td>-74.011883</td>\n",
       "      <td>7.0</td>\n",
       "      <td>38.0</td>\n",
       "      <td>118.0</td>\n",
       "      <td>3143881</td>\n",
       "      <td>3057940012</td>\n",
       "      <td>Sunset Park East</td>\n",
       "      <td>2024</td>\n",
       "      <td>2024-03</td>\n",
       "    </tr>\n",
       "  </tbody>\n",
       "</table>\n",
       "</div>\n",
       "    <div class=\"colab-df-buttons\">\n",
       "\n",
       "  <div class=\"colab-df-container\">\n",
       "    <button class=\"colab-df-convert\" onclick=\"convertToInteractive('df-0871291d-f55d-4c77-9a9d-63148668a3f9')\"\n",
       "            title=\"Convert this dataframe to an interactive table.\"\n",
       "            style=\"display:none;\">\n",
       "\n",
       "  <svg xmlns=\"http://www.w3.org/2000/svg\" height=\"24px\" viewBox=\"0 -960 960 960\">\n",
       "    <path d=\"M120-120v-720h720v720H120Zm60-500h600v-160H180v160Zm220 220h160v-160H400v160Zm0 220h160v-160H400v160ZM180-400h160v-160H180v160Zm440 0h160v-160H620v160ZM180-180h160v-160H180v160Zm440 0h160v-160H620v160Z\"/>\n",
       "  </svg>\n",
       "    </button>\n",
       "\n",
       "  <style>\n",
       "    .colab-df-container {\n",
       "      display:flex;\n",
       "      gap: 12px;\n",
       "    }\n",
       "\n",
       "    .colab-df-convert {\n",
       "      background-color: #E8F0FE;\n",
       "      border: none;\n",
       "      border-radius: 50%;\n",
       "      cursor: pointer;\n",
       "      display: none;\n",
       "      fill: #1967D2;\n",
       "      height: 32px;\n",
       "      padding: 0 0 0 0;\n",
       "      width: 32px;\n",
       "    }\n",
       "\n",
       "    .colab-df-convert:hover {\n",
       "      background-color: #E2EBFA;\n",
       "      box-shadow: 0px 1px 2px rgba(60, 64, 67, 0.3), 0px 1px 3px 1px rgba(60, 64, 67, 0.15);\n",
       "      fill: #174EA6;\n",
       "    }\n",
       "\n",
       "    .colab-df-buttons div {\n",
       "      margin-bottom: 4px;\n",
       "    }\n",
       "\n",
       "    [theme=dark] .colab-df-convert {\n",
       "      background-color: #3B4455;\n",
       "      fill: #D2E3FC;\n",
       "    }\n",
       "\n",
       "    [theme=dark] .colab-df-convert:hover {\n",
       "      background-color: #434B5C;\n",
       "      box-shadow: 0px 1px 3px 1px rgba(0, 0, 0, 0.15);\n",
       "      filter: drop-shadow(0px 1px 2px rgba(0, 0, 0, 0.3));\n",
       "      fill: #FFFFFF;\n",
       "    }\n",
       "  </style>\n",
       "\n",
       "    <script>\n",
       "      const buttonEl =\n",
       "        document.querySelector('#df-0871291d-f55d-4c77-9a9d-63148668a3f9 button.colab-df-convert');\n",
       "      buttonEl.style.display =\n",
       "        google.colab.kernel.accessAllowed ? 'block' : 'none';\n",
       "\n",
       "      async function convertToInteractive(key) {\n",
       "        const element = document.querySelector('#df-0871291d-f55d-4c77-9a9d-63148668a3f9');\n",
       "        const dataTable =\n",
       "          await google.colab.kernel.invokeFunction('convertToInteractive',\n",
       "                                                    [key], {});\n",
       "        if (!dataTable) return;\n",
       "\n",
       "        const docLinkHtml = 'Like what you see? Visit the ' +\n",
       "          '<a target=\"_blank\" href=https://colab.research.google.com/notebooks/data_table.ipynb>data table notebook</a>'\n",
       "          + ' to learn more about interactive tables.';\n",
       "        element.innerHTML = '';\n",
       "        dataTable['output_type'] = 'display_data';\n",
       "        await google.colab.output.renderOutput(dataTable, element);\n",
       "        const docLink = document.createElement('div');\n",
       "        docLink.innerHTML = docLinkHtml;\n",
       "        element.appendChild(docLink);\n",
       "      }\n",
       "    </script>\n",
       "  </div>\n",
       "\n",
       "\n",
       "<div id=\"df-da979939-5755-43c9-84c6-9b4decdbda7e\">\n",
       "  <button class=\"colab-df-quickchart\" onclick=\"quickchart('df-da979939-5755-43c9-84c6-9b4decdbda7e')\"\n",
       "            title=\"Suggest charts\"\n",
       "            style=\"display:none;\">\n",
       "\n",
       "<svg xmlns=\"http://www.w3.org/2000/svg\" height=\"24px\"viewBox=\"0 0 24 24\"\n",
       "     width=\"24px\">\n",
       "    <g>\n",
       "        <path d=\"M19 3H5c-1.1 0-2 .9-2 2v14c0 1.1.9 2 2 2h14c1.1 0 2-.9 2-2V5c0-1.1-.9-2-2-2zM9 17H7v-7h2v7zm4 0h-2V7h2v10zm4 0h-2v-4h2v4z\"/>\n",
       "    </g>\n",
       "</svg>\n",
       "  </button>\n",
       "\n",
       "<style>\n",
       "  .colab-df-quickchart {\n",
       "      --bg-color: #E8F0FE;\n",
       "      --fill-color: #1967D2;\n",
       "      --hover-bg-color: #E2EBFA;\n",
       "      --hover-fill-color: #174EA6;\n",
       "      --disabled-fill-color: #AAA;\n",
       "      --disabled-bg-color: #DDD;\n",
       "  }\n",
       "\n",
       "  [theme=dark] .colab-df-quickchart {\n",
       "      --bg-color: #3B4455;\n",
       "      --fill-color: #D2E3FC;\n",
       "      --hover-bg-color: #434B5C;\n",
       "      --hover-fill-color: #FFFFFF;\n",
       "      --disabled-bg-color: #3B4455;\n",
       "      --disabled-fill-color: #666;\n",
       "  }\n",
       "\n",
       "  .colab-df-quickchart {\n",
       "    background-color: var(--bg-color);\n",
       "    border: none;\n",
       "    border-radius: 50%;\n",
       "    cursor: pointer;\n",
       "    display: none;\n",
       "    fill: var(--fill-color);\n",
       "    height: 32px;\n",
       "    padding: 0;\n",
       "    width: 32px;\n",
       "  }\n",
       "\n",
       "  .colab-df-quickchart:hover {\n",
       "    background-color: var(--hover-bg-color);\n",
       "    box-shadow: 0 1px 2px rgba(60, 64, 67, 0.3), 0 1px 3px 1px rgba(60, 64, 67, 0.15);\n",
       "    fill: var(--button-hover-fill-color);\n",
       "  }\n",
       "\n",
       "  .colab-df-quickchart-complete:disabled,\n",
       "  .colab-df-quickchart-complete:disabled:hover {\n",
       "    background-color: var(--disabled-bg-color);\n",
       "    fill: var(--disabled-fill-color);\n",
       "    box-shadow: none;\n",
       "  }\n",
       "\n",
       "  .colab-df-spinner {\n",
       "    border: 2px solid var(--fill-color);\n",
       "    border-color: transparent;\n",
       "    border-bottom-color: var(--fill-color);\n",
       "    animation:\n",
       "      spin 1s steps(1) infinite;\n",
       "  }\n",
       "\n",
       "  @keyframes spin {\n",
       "    0% {\n",
       "      border-color: transparent;\n",
       "      border-bottom-color: var(--fill-color);\n",
       "      border-left-color: var(--fill-color);\n",
       "    }\n",
       "    20% {\n",
       "      border-color: transparent;\n",
       "      border-left-color: var(--fill-color);\n",
       "      border-top-color: var(--fill-color);\n",
       "    }\n",
       "    30% {\n",
       "      border-color: transparent;\n",
       "      border-left-color: var(--fill-color);\n",
       "      border-top-color: var(--fill-color);\n",
       "      border-right-color: var(--fill-color);\n",
       "    }\n",
       "    40% {\n",
       "      border-color: transparent;\n",
       "      border-right-color: var(--fill-color);\n",
       "      border-top-color: var(--fill-color);\n",
       "    }\n",
       "    60% {\n",
       "      border-color: transparent;\n",
       "      border-right-color: var(--fill-color);\n",
       "    }\n",
       "    80% {\n",
       "      border-color: transparent;\n",
       "      border-right-color: var(--fill-color);\n",
       "      border-bottom-color: var(--fill-color);\n",
       "    }\n",
       "    90% {\n",
       "      border-color: transparent;\n",
       "      border-bottom-color: var(--fill-color);\n",
       "    }\n",
       "  }\n",
       "</style>\n",
       "\n",
       "  <script>\n",
       "    async function quickchart(key) {\n",
       "      const quickchartButtonEl =\n",
       "        document.querySelector('#' + key + ' button');\n",
       "      quickchartButtonEl.disabled = true;  // To prevent multiple clicks.\n",
       "      quickchartButtonEl.classList.add('colab-df-spinner');\n",
       "      try {\n",
       "        const charts = await google.colab.kernel.invokeFunction(\n",
       "            'suggestCharts', [key], {});\n",
       "      } catch (error) {\n",
       "        console.error('Error during call to suggestCharts:', error);\n",
       "      }\n",
       "      quickchartButtonEl.classList.remove('colab-df-spinner');\n",
       "      quickchartButtonEl.classList.add('colab-df-quickchart-complete');\n",
       "    }\n",
       "    (() => {\n",
       "      let quickchartButtonEl =\n",
       "        document.querySelector('#df-da979939-5755-43c9-84c6-9b4decdbda7e button');\n",
       "      quickchartButtonEl.style.display =\n",
       "        google.colab.kernel.accessAllowed ? 'block' : 'none';\n",
       "    })();\n",
       "  </script>\n",
       "</div>\n",
       "\n",
       "    </div>\n",
       "  </div>\n"
      ],
      "text/plain": [
       "       primary_key court_index_number  docket_number eviction_address  \\\n",
       "0  *308072/22_5865         *308072/22           5865   356 MILLER AVE   \n",
       "1  *313639/23_5202         *313639/23           5202  710 61ST STREET   \n",
       "\n",
       "  eviction_apartment_number executed_date   borough  eviction_postcode  \\\n",
       "0            1 AND BASEMENT    2024-12-04  BROOKLYN              11207   \n",
       "1                 2ND FLOOR    2024-03-04  BROOKLYN              11220   \n",
       "\n",
       "          ejectment eviction/legal_possession   latitude  longitude  \\\n",
       "0  Not an Ejectment                Possession  40.672121 -73.891105   \n",
       "1  Not an Ejectment                Possession  40.635941 -74.011883   \n",
       "\n",
       "   community_board  council_district  census_tract      bin         bbl  \\\n",
       "0              5.0              37.0        1152.0  3083989  3037420029   \n",
       "1              7.0              38.0         118.0  3143881  3057940012   \n",
       "\n",
       "                nta  year month_year  \n",
       "0     East New York  2024    2024-12  \n",
       "1  Sunset Park East  2024    2024-03  "
      ]
     },
     "execution_count": 11,
     "metadata": {},
     "output_type": "execute_result"
    }
   ],
   "source": [
    "evictions_df.head(2)"
   ]
  },
  {
   "cell_type": "code",
   "execution_count": 12,
   "metadata": {
    "colab": {
     "base_uri": "https://localhost:8080/"
    },
    "id": "2_KaRbkT2aHJ",
    "outputId": "c9f343e3-b43a-42a6-edd4-33919bcc37a0"
   },
   "outputs": [
    {
     "data": {
      "text/plain": [
       "(Index(['primary_key', 'court_index_number', 'docket_number',\n",
       "        'eviction_address', 'eviction_apartment_number', 'executed_date',\n",
       "        'borough', 'eviction_postcode', 'ejectment',\n",
       "        'eviction/legal_possession', 'latitude', 'longitude', 'community_board',\n",
       "        'council_district', 'census_tract', 'bin', 'bbl', 'nta', 'year',\n",
       "        'month_year'],\n",
       "       dtype='object'),\n",
       " (83282, 20))"
      ]
     },
     "execution_count": 12,
     "metadata": {},
     "output_type": "execute_result"
    }
   ],
   "source": [
    "evictions_df.columns, \\\n",
    "evictions_df.shape"
   ]
  },
  {
   "cell_type": "code",
   "execution_count": 13,
   "metadata": {
    "id": "tZCK0OOg2qtC"
   },
   "outputs": [],
   "source": [
    "evictions_df.executed_date = pd.to_datetime(evictions_df.executed_date)"
   ]
  },
  {
   "cell_type": "code",
   "execution_count": 14,
   "metadata": {
    "colab": {
     "base_uri": "https://localhost:8080/"
    },
    "id": "YYdleBp62zgi",
    "outputId": "6207edc1-3dba-4887-c091-394ce2d85ac9"
   },
   "outputs": [
    {
     "data": {
      "text/plain": [
       "(Timestamp('2017-01-03 00:00:00'), Timestamp('2024-12-30 00:00:00'))"
      ]
     },
     "execution_count": 14,
     "metadata": {},
     "output_type": "execute_result"
    }
   ],
   "source": [
    "evictions_df.executed_date.min(), evictions_df.executed_date.max()"
   ]
  },
  {
   "cell_type": "markdown",
   "metadata": {
    "id": "JUq9LI8faqYV"
   },
   "source": [
    "# **Part 2 Convert the dataframe to geopanda**"
   ]
  },
  {
   "cell_type": "markdown",
   "metadata": {
    "id": "qC00xy-j31Ek"
   },
   "source": [
    "#### To properly understand the geo features and find hot spots in this evcition datasets, we need to utilize the GeoDataFrame to see if there is any interesting patterns that could be attributed to Societal trends/Predatory landlord bahaviors/corporate landlord behaviors"
   ]
  },
  {
   "cell_type": "code",
   "execution_count": 15,
   "metadata": {
    "id": "Ox_SO-573fV6"
   },
   "outputs": [],
   "source": [
    "# first, we create a GeoDataFrame\n",
    "# when we save them in 2 different periods, they will also be geopanda\n",
    "evictions_gdf = gpd.GeoDataFrame(\n",
    "    evictions_df,\n",
    "    geometry=gpd.points_from_xy(evictions_df['longitude'], evictions_df['latitude']))"
   ]
  },
  {
   "cell_type": "code",
   "execution_count": 16,
   "metadata": {
    "colab": {
     "base_uri": "https://localhost:8080/"
    },
    "id": "oGIMLFny4M9e",
    "outputId": "4a1486b0-2f79-475c-b149-679b9060ad87"
   },
   "outputs": [
    {
     "data": {
      "text/plain": [
       "((83282, 21),\n",
       " Index(['primary_key', 'court_index_number', 'docket_number',\n",
       "        'eviction_address', 'eviction_apartment_number', 'executed_date',\n",
       "        'borough', 'eviction_postcode', 'ejectment',\n",
       "        'eviction/legal_possession', 'latitude', 'longitude', 'community_board',\n",
       "        'council_district', 'census_tract', 'bin', 'bbl', 'nta', 'year',\n",
       "        'month_year', 'geometry'],\n",
       "       dtype='object'))"
      ]
     },
     "execution_count": 16,
     "metadata": {},
     "output_type": "execute_result"
    }
   ],
   "source": [
    "evictions_gdf.shape, evictions_gdf.columns"
   ]
  },
  {
   "cell_type": "code",
   "execution_count": 17,
   "metadata": {
    "id": "UL5HW15QehQU"
   },
   "outputs": [],
   "source": [
    "evictions_cleaned = evictions_gdf.dropna(subset=['latitude', 'longitude'])\n",
    "evictions_cleaned = evictions_cleaned.reset_index(drop=True)"
   ]
  },
  {
   "cell_type": "code",
   "execution_count": 18,
   "metadata": {
    "id": "tDQUGFkEiQ2_"
   },
   "outputs": [],
   "source": [
    "# type(evictions_cleaned)\n",
    "# it's geo dataframe, the explaination is too long, therefore commented out."
   ]
  },
  {
   "cell_type": "code",
   "execution_count": 19,
   "metadata": {
    "colab": {
     "base_uri": "https://localhost:8080/"
    },
    "id": "x3ZnXXiHQA86",
    "outputId": "07327728-f1a6-484d-b508-53699b645936"
   },
   "outputs": [
    {
     "data": {
      "text/plain": [
       "Index(['primary_key', 'court_index_number', 'docket_number',\n",
       "       'eviction_address', 'eviction_apartment_number', 'executed_date',\n",
       "       'borough', 'eviction_postcode', 'ejectment',\n",
       "       'eviction/legal_possession', 'latitude', 'longitude', 'community_board',\n",
       "       'council_district', 'census_tract', 'bin', 'bbl', 'nta', 'year',\n",
       "       'month_year', 'geometry'],\n",
       "      dtype='object')"
      ]
     },
     "execution_count": 19,
     "metadata": {},
     "output_type": "execute_result"
    }
   ],
   "source": [
    "evictions_cleaned.columns"
   ]
  },
  {
   "cell_type": "markdown",
   "metadata": {
    "id": "bvsbHikj0zBF"
   },
   "source": [
    "# **Part 3: seperate the periods**\n",
    "## **A note before we do the groupby and why we seperate the periods first**:\n",
    "### We need to seperate the two periods, normal times and covid, before we aggregate and merge the average_eviction_count per building, because in these two periods, the severity of the evictions were very different."
   ]
  },
  {
   "cell_type": "code",
   "execution_count": 20,
   "metadata": {
    "colab": {
     "base_uri": "https://localhost:8080/",
     "height": 300
    },
    "id": "diZ-u8hy1K4J",
    "outputId": "70198bbd-4650-45d2-a161-a5b7d7cc815a"
   },
   "outputs": [
    {
     "data": {
      "application/vnd.google.colaboratory.intrinsic+json": {
       "summary": "{\n  \"name\": \"evictions_per_year\",\n  \"rows\": 8,\n  \"fields\": [\n    {\n      \"column\": \"year\",\n      \"properties\": {\n        \"dtype\": \"number\",\n        \"std\": 2,\n        \"min\": 2017,\n        \"max\": 2024,\n        \"num_unique_values\": 8,\n        \"samples\": [\n          2018,\n          2022,\n          2017\n        ],\n        \"semantic_type\": \"\",\n        \"description\": \"\"\n      }\n    },\n    {\n      \"column\": \"eviction_count\",\n      \"properties\": {\n        \"dtype\": \"number\",\n        \"std\": 7235,\n        \"min\": 126,\n        \"max\": 18528,\n        \"num_unique_values\": 8,\n        \"samples\": [\n          17763,\n          3731,\n          18528\n        ],\n        \"semantic_type\": \"\",\n        \"description\": \"\"\n      }\n    }\n  ]\n}",
       "type": "dataframe",
       "variable_name": "evictions_per_year"
      },
      "text/html": [
       "\n",
       "  <div id=\"df-051801b2-a9f7-4f6f-9643-41027c6de401\" class=\"colab-df-container\">\n",
       "    <div>\n",
       "<style scoped>\n",
       "    .dataframe tbody tr th:only-of-type {\n",
       "        vertical-align: middle;\n",
       "    }\n",
       "\n",
       "    .dataframe tbody tr th {\n",
       "        vertical-align: top;\n",
       "    }\n",
       "\n",
       "    .dataframe thead th {\n",
       "        text-align: right;\n",
       "    }\n",
       "</style>\n",
       "<table border=\"1\" class=\"dataframe\">\n",
       "  <thead>\n",
       "    <tr style=\"text-align: right;\">\n",
       "      <th></th>\n",
       "      <th>year</th>\n",
       "      <th>eviction_count</th>\n",
       "    </tr>\n",
       "  </thead>\n",
       "  <tbody>\n",
       "    <tr>\n",
       "      <th>0</th>\n",
       "      <td>2017</td>\n",
       "      <td>18528</td>\n",
       "    </tr>\n",
       "    <tr>\n",
       "      <th>1</th>\n",
       "      <td>2018</td>\n",
       "      <td>17763</td>\n",
       "    </tr>\n",
       "    <tr>\n",
       "      <th>2</th>\n",
       "      <td>2019</td>\n",
       "      <td>15180</td>\n",
       "    </tr>\n",
       "    <tr>\n",
       "      <th>3</th>\n",
       "      <td>2020</td>\n",
       "      <td>2707</td>\n",
       "    </tr>\n",
       "    <tr>\n",
       "      <th>4</th>\n",
       "      <td>2021</td>\n",
       "      <td>126</td>\n",
       "    </tr>\n",
       "    <tr>\n",
       "      <th>5</th>\n",
       "      <td>2022</td>\n",
       "      <td>3731</td>\n",
       "    </tr>\n",
       "    <tr>\n",
       "      <th>6</th>\n",
       "      <td>2023</td>\n",
       "      <td>11163</td>\n",
       "    </tr>\n",
       "    <tr>\n",
       "      <th>7</th>\n",
       "      <td>2024</td>\n",
       "      <td>14084</td>\n",
       "    </tr>\n",
       "  </tbody>\n",
       "</table>\n",
       "</div>\n",
       "    <div class=\"colab-df-buttons\">\n",
       "\n",
       "  <div class=\"colab-df-container\">\n",
       "    <button class=\"colab-df-convert\" onclick=\"convertToInteractive('df-051801b2-a9f7-4f6f-9643-41027c6de401')\"\n",
       "            title=\"Convert this dataframe to an interactive table.\"\n",
       "            style=\"display:none;\">\n",
       "\n",
       "  <svg xmlns=\"http://www.w3.org/2000/svg\" height=\"24px\" viewBox=\"0 -960 960 960\">\n",
       "    <path d=\"M120-120v-720h720v720H120Zm60-500h600v-160H180v160Zm220 220h160v-160H400v160Zm0 220h160v-160H400v160ZM180-400h160v-160H180v160Zm440 0h160v-160H620v160ZM180-180h160v-160H180v160Zm440 0h160v-160H620v160Z\"/>\n",
       "  </svg>\n",
       "    </button>\n",
       "\n",
       "  <style>\n",
       "    .colab-df-container {\n",
       "      display:flex;\n",
       "      gap: 12px;\n",
       "    }\n",
       "\n",
       "    .colab-df-convert {\n",
       "      background-color: #E8F0FE;\n",
       "      border: none;\n",
       "      border-radius: 50%;\n",
       "      cursor: pointer;\n",
       "      display: none;\n",
       "      fill: #1967D2;\n",
       "      height: 32px;\n",
       "      padding: 0 0 0 0;\n",
       "      width: 32px;\n",
       "    }\n",
       "\n",
       "    .colab-df-convert:hover {\n",
       "      background-color: #E2EBFA;\n",
       "      box-shadow: 0px 1px 2px rgba(60, 64, 67, 0.3), 0px 1px 3px 1px rgba(60, 64, 67, 0.15);\n",
       "      fill: #174EA6;\n",
       "    }\n",
       "\n",
       "    .colab-df-buttons div {\n",
       "      margin-bottom: 4px;\n",
       "    }\n",
       "\n",
       "    [theme=dark] .colab-df-convert {\n",
       "      background-color: #3B4455;\n",
       "      fill: #D2E3FC;\n",
       "    }\n",
       "\n",
       "    [theme=dark] .colab-df-convert:hover {\n",
       "      background-color: #434B5C;\n",
       "      box-shadow: 0px 1px 3px 1px rgba(0, 0, 0, 0.15);\n",
       "      filter: drop-shadow(0px 1px 2px rgba(0, 0, 0, 0.3));\n",
       "      fill: #FFFFFF;\n",
       "    }\n",
       "  </style>\n",
       "\n",
       "    <script>\n",
       "      const buttonEl =\n",
       "        document.querySelector('#df-051801b2-a9f7-4f6f-9643-41027c6de401 button.colab-df-convert');\n",
       "      buttonEl.style.display =\n",
       "        google.colab.kernel.accessAllowed ? 'block' : 'none';\n",
       "\n",
       "      async function convertToInteractive(key) {\n",
       "        const element = document.querySelector('#df-051801b2-a9f7-4f6f-9643-41027c6de401');\n",
       "        const dataTable =\n",
       "          await google.colab.kernel.invokeFunction('convertToInteractive',\n",
       "                                                    [key], {});\n",
       "        if (!dataTable) return;\n",
       "\n",
       "        const docLinkHtml = 'Like what you see? Visit the ' +\n",
       "          '<a target=\"_blank\" href=https://colab.research.google.com/notebooks/data_table.ipynb>data table notebook</a>'\n",
       "          + ' to learn more about interactive tables.';\n",
       "        element.innerHTML = '';\n",
       "        dataTable['output_type'] = 'display_data';\n",
       "        await google.colab.output.renderOutput(dataTable, element);\n",
       "        const docLink = document.createElement('div');\n",
       "        docLink.innerHTML = docLinkHtml;\n",
       "        element.appendChild(docLink);\n",
       "      }\n",
       "    </script>\n",
       "  </div>\n",
       "\n",
       "\n",
       "<div id=\"df-65eccdb6-8803-438a-beb4-5a6616487656\">\n",
       "  <button class=\"colab-df-quickchart\" onclick=\"quickchart('df-65eccdb6-8803-438a-beb4-5a6616487656')\"\n",
       "            title=\"Suggest charts\"\n",
       "            style=\"display:none;\">\n",
       "\n",
       "<svg xmlns=\"http://www.w3.org/2000/svg\" height=\"24px\"viewBox=\"0 0 24 24\"\n",
       "     width=\"24px\">\n",
       "    <g>\n",
       "        <path d=\"M19 3H5c-1.1 0-2 .9-2 2v14c0 1.1.9 2 2 2h14c1.1 0 2-.9 2-2V5c0-1.1-.9-2-2-2zM9 17H7v-7h2v7zm4 0h-2V7h2v10zm4 0h-2v-4h2v4z\"/>\n",
       "    </g>\n",
       "</svg>\n",
       "  </button>\n",
       "\n",
       "<style>\n",
       "  .colab-df-quickchart {\n",
       "      --bg-color: #E8F0FE;\n",
       "      --fill-color: #1967D2;\n",
       "      --hover-bg-color: #E2EBFA;\n",
       "      --hover-fill-color: #174EA6;\n",
       "      --disabled-fill-color: #AAA;\n",
       "      --disabled-bg-color: #DDD;\n",
       "  }\n",
       "\n",
       "  [theme=dark] .colab-df-quickchart {\n",
       "      --bg-color: #3B4455;\n",
       "      --fill-color: #D2E3FC;\n",
       "      --hover-bg-color: #434B5C;\n",
       "      --hover-fill-color: #FFFFFF;\n",
       "      --disabled-bg-color: #3B4455;\n",
       "      --disabled-fill-color: #666;\n",
       "  }\n",
       "\n",
       "  .colab-df-quickchart {\n",
       "    background-color: var(--bg-color);\n",
       "    border: none;\n",
       "    border-radius: 50%;\n",
       "    cursor: pointer;\n",
       "    display: none;\n",
       "    fill: var(--fill-color);\n",
       "    height: 32px;\n",
       "    padding: 0;\n",
       "    width: 32px;\n",
       "  }\n",
       "\n",
       "  .colab-df-quickchart:hover {\n",
       "    background-color: var(--hover-bg-color);\n",
       "    box-shadow: 0 1px 2px rgba(60, 64, 67, 0.3), 0 1px 3px 1px rgba(60, 64, 67, 0.15);\n",
       "    fill: var(--button-hover-fill-color);\n",
       "  }\n",
       "\n",
       "  .colab-df-quickchart-complete:disabled,\n",
       "  .colab-df-quickchart-complete:disabled:hover {\n",
       "    background-color: var(--disabled-bg-color);\n",
       "    fill: var(--disabled-fill-color);\n",
       "    box-shadow: none;\n",
       "  }\n",
       "\n",
       "  .colab-df-spinner {\n",
       "    border: 2px solid var(--fill-color);\n",
       "    border-color: transparent;\n",
       "    border-bottom-color: var(--fill-color);\n",
       "    animation:\n",
       "      spin 1s steps(1) infinite;\n",
       "  }\n",
       "\n",
       "  @keyframes spin {\n",
       "    0% {\n",
       "      border-color: transparent;\n",
       "      border-bottom-color: var(--fill-color);\n",
       "      border-left-color: var(--fill-color);\n",
       "    }\n",
       "    20% {\n",
       "      border-color: transparent;\n",
       "      border-left-color: var(--fill-color);\n",
       "      border-top-color: var(--fill-color);\n",
       "    }\n",
       "    30% {\n",
       "      border-color: transparent;\n",
       "      border-left-color: var(--fill-color);\n",
       "      border-top-color: var(--fill-color);\n",
       "      border-right-color: var(--fill-color);\n",
       "    }\n",
       "    40% {\n",
       "      border-color: transparent;\n",
       "      border-right-color: var(--fill-color);\n",
       "      border-top-color: var(--fill-color);\n",
       "    }\n",
       "    60% {\n",
       "      border-color: transparent;\n",
       "      border-right-color: var(--fill-color);\n",
       "    }\n",
       "    80% {\n",
       "      border-color: transparent;\n",
       "      border-right-color: var(--fill-color);\n",
       "      border-bottom-color: var(--fill-color);\n",
       "    }\n",
       "    90% {\n",
       "      border-color: transparent;\n",
       "      border-bottom-color: var(--fill-color);\n",
       "    }\n",
       "  }\n",
       "</style>\n",
       "\n",
       "  <script>\n",
       "    async function quickchart(key) {\n",
       "      const quickchartButtonEl =\n",
       "        document.querySelector('#' + key + ' button');\n",
       "      quickchartButtonEl.disabled = true;  // To prevent multiple clicks.\n",
       "      quickchartButtonEl.classList.add('colab-df-spinner');\n",
       "      try {\n",
       "        const charts = await google.colab.kernel.invokeFunction(\n",
       "            'suggestCharts', [key], {});\n",
       "      } catch (error) {\n",
       "        console.error('Error during call to suggestCharts:', error);\n",
       "      }\n",
       "      quickchartButtonEl.classList.remove('colab-df-spinner');\n",
       "      quickchartButtonEl.classList.add('colab-df-quickchart-complete');\n",
       "    }\n",
       "    (() => {\n",
       "      let quickchartButtonEl =\n",
       "        document.querySelector('#df-65eccdb6-8803-438a-beb4-5a6616487656 button');\n",
       "      quickchartButtonEl.style.display =\n",
       "        google.colab.kernel.accessAllowed ? 'block' : 'none';\n",
       "    })();\n",
       "  </script>\n",
       "</div>\n",
       "\n",
       "  <div id=\"id_feeac820-ed32-4bf6-891e-0f22bab6f913\">\n",
       "    <style>\n",
       "      .colab-df-generate {\n",
       "        background-color: #E8F0FE;\n",
       "        border: none;\n",
       "        border-radius: 50%;\n",
       "        cursor: pointer;\n",
       "        display: none;\n",
       "        fill: #1967D2;\n",
       "        height: 32px;\n",
       "        padding: 0 0 0 0;\n",
       "        width: 32px;\n",
       "      }\n",
       "\n",
       "      .colab-df-generate:hover {\n",
       "        background-color: #E2EBFA;\n",
       "        box-shadow: 0px 1px 2px rgba(60, 64, 67, 0.3), 0px 1px 3px 1px rgba(60, 64, 67, 0.15);\n",
       "        fill: #174EA6;\n",
       "      }\n",
       "\n",
       "      [theme=dark] .colab-df-generate {\n",
       "        background-color: #3B4455;\n",
       "        fill: #D2E3FC;\n",
       "      }\n",
       "\n",
       "      [theme=dark] .colab-df-generate:hover {\n",
       "        background-color: #434B5C;\n",
       "        box-shadow: 0px 1px 3px 1px rgba(0, 0, 0, 0.15);\n",
       "        filter: drop-shadow(0px 1px 2px rgba(0, 0, 0, 0.3));\n",
       "        fill: #FFFFFF;\n",
       "      }\n",
       "    </style>\n",
       "    <button class=\"colab-df-generate\" onclick=\"generateWithVariable('evictions_per_year')\"\n",
       "            title=\"Generate code using this dataframe.\"\n",
       "            style=\"display:none;\">\n",
       "\n",
       "  <svg xmlns=\"http://www.w3.org/2000/svg\" height=\"24px\"viewBox=\"0 0 24 24\"\n",
       "       width=\"24px\">\n",
       "    <path d=\"M7,19H8.4L18.45,9,17,7.55,7,17.6ZM5,21V16.75L18.45,3.32a2,2,0,0,1,2.83,0l1.4,1.43a1.91,1.91,0,0,1,.58,1.4,1.91,1.91,0,0,1-.58,1.4L9.25,21ZM18.45,9,17,7.55Zm-12,3A5.31,5.31,0,0,0,4.9,8.1,5.31,5.31,0,0,0,1,6.5,5.31,5.31,0,0,0,4.9,4.9,5.31,5.31,0,0,0,6.5,1,5.31,5.31,0,0,0,8.1,4.9,5.31,5.31,0,0,0,12,6.5,5.46,5.46,0,0,0,6.5,12Z\"/>\n",
       "  </svg>\n",
       "    </button>\n",
       "    <script>\n",
       "      (() => {\n",
       "      const buttonEl =\n",
       "        document.querySelector('#id_feeac820-ed32-4bf6-891e-0f22bab6f913 button.colab-df-generate');\n",
       "      buttonEl.style.display =\n",
       "        google.colab.kernel.accessAllowed ? 'block' : 'none';\n",
       "\n",
       "      buttonEl.onclick = () => {\n",
       "        google.colab.notebook.generateWithVariable('evictions_per_year');\n",
       "      }\n",
       "      })();\n",
       "    </script>\n",
       "  </div>\n",
       "\n",
       "    </div>\n",
       "  </div>\n"
      ],
      "text/plain": [
       "   year  eviction_count\n",
       "0  2017           18528\n",
       "1  2018           17763\n",
       "2  2019           15180\n",
       "3  2020            2707\n",
       "4  2021             126\n",
       "5  2022            3731\n",
       "6  2023           11163\n",
       "7  2024           14084"
      ]
     },
     "execution_count": 20,
     "metadata": {},
     "output_type": "execute_result"
    }
   ],
   "source": [
    "# here is why\n",
    "evictions_per_year = evictions_cleaned.groupby('year').size().reset_index(name='eviction_count')\n",
    "evictions_per_year = evictions_per_year.sort_values('year')\n",
    "evictions_per_year"
   ]
  },
  {
   "cell_type": "markdown",
   "metadata": {
    "id": "iWKmfGT9jdFO"
   },
   "source": [
    "## **Let's break this geopanda with avegrae eviction count per building into two periods**"
   ]
  },
  {
   "cell_type": "code",
   "execution_count": 21,
   "metadata": {
    "id": "Ae7IWo06ArHE"
   },
   "outputs": [],
   "source": [
    "evictions_cleaned['year'] = evictions_cleaned['executed_date'].dt.year\n",
    "pre_post_covid_years = [2017, 2018, 2019, 2023, 2024]\n",
    "covid_years = [2020, 2021, 2022]"
   ]
  },
  {
   "cell_type": "code",
   "execution_count": 22,
   "metadata": {
    "id": "BAKqDOBoBIgu"
   },
   "outputs": [],
   "source": [
    "evictions_pre_post_covid = evictions_cleaned[evictions_cleaned['year'].isin(pre_post_covid_years)].copy()\n",
    "evictions_covid = evictions_cleaned[evictions_cleaned['year'].isin(covid_years)].copy()"
   ]
  },
  {
   "cell_type": "code",
   "execution_count": 23,
   "metadata": {
    "colab": {
     "base_uri": "https://localhost:8080/"
    },
    "id": "H3liUzWnhs0A",
    "outputId": "61e14f17-8dd1-4cb3-d827-b9c45f7a3172"
   },
   "outputs": [
    {
     "data": {
      "text/plain": [
       "Index(['primary_key', 'court_index_number', 'docket_number',\n",
       "       'eviction_address', 'eviction_apartment_number', 'executed_date',\n",
       "       'borough', 'eviction_postcode', 'ejectment',\n",
       "       'eviction/legal_possession', 'latitude', 'longitude', 'community_board',\n",
       "       'council_district', 'census_tract', 'bin', 'bbl', 'nta', 'year',\n",
       "       'month_year', 'geometry'],\n",
       "      dtype='object')"
      ]
     },
     "execution_count": 23,
     "metadata": {},
     "output_type": "execute_result"
    }
   ],
   "source": [
    "evictions_pre_post_covid.columns"
   ]
  },
  {
   "cell_type": "code",
   "execution_count": 24,
   "metadata": {
    "colab": {
     "base_uri": "https://localhost:8080/"
    },
    "id": "-XrLWxVPBM05",
    "outputId": "71f65492-cdd5-4b3b-af13-b8f1c32c5ec1"
   },
   "outputs": [
    {
     "data": {
      "text/plain": [
       "(76718, 6564, 83282)"
      ]
     },
     "execution_count": 24,
     "metadata": {},
     "output_type": "execute_result"
    }
   ],
   "source": [
    "len(evictions_pre_post_covid), \\\n",
    "len(evictions_covid), \\\n",
    "76718 + 6564\n",
    "# correct"
   ]
  },
  {
   "cell_type": "code",
   "execution_count": 25,
   "metadata": {
    "colab": {
     "base_uri": "https://localhost:8080/"
    },
    "id": "sYa_rW4dhp2U",
    "outputId": "6049d7d3-cadc-41d2-cf80-da4ec6deda92"
   },
   "outputs": [
    {
     "data": {
      "text/plain": [
       "(geopandas.geodataframe.GeoDataFrame, geopandas.geodataframe.GeoDataFrame)"
      ]
     },
     "execution_count": 25,
     "metadata": {},
     "output_type": "execute_result"
    }
   ],
   "source": [
    "type(evictions_pre_post_covid), type(evictions_covid)\n",
    "# geodataframe"
   ]
  },
  {
   "cell_type": "markdown",
   "metadata": {
    "id": "xqLF26jpCtQ5"
   },
   "source": [
    "## **Now, we have 2 dataframes, one is post/pre covid and we have their average evictions per building, per year. The other one is covid and we also have their average evictions per building per year. These two columns' (from 2 dataframes) numbers are very different**"
   ]
  },
  {
   "cell_type": "code",
   "execution_count": 26,
   "metadata": {
    "colab": {
     "base_uri": "https://localhost:8080/"
    },
    "id": "k5-6rt94mVjS",
    "outputId": "16578dfc-ec71-4412-dfd6-ea093e4dd9a0"
   },
   "outputs": [
    {
     "data": {
      "text/plain": [
       "(array([ True,  True,  True,  True,  True,  True,  True,  True,  True,\n",
       "         True,  True,  True,  True,  True,  True,  True,  True,  True,\n",
       "         True,  True,  True]),\n",
       " array([ True,  True,  True,  True,  True,  True,  True,  True,  True,\n",
       "         True,  True,  True,  True,  True,  True,  True,  True,  True,\n",
       "         True,  True,  True]))"
      ]
     },
     "execution_count": 26,
     "metadata": {},
     "output_type": "execute_result"
    }
   ],
   "source": [
    "evictions_pre_post_covid.columns == evictions_cleaned.columns, \\\n",
    "evictions_covid.columns == evictions_cleaned.columns\n",
    "# check if merge was correct"
   ]
  },
  {
   "cell_type": "code",
   "execution_count": 27,
   "metadata": {
    "colab": {
     "base_uri": "https://localhost:8080/"
    },
    "id": "r2wTlO0MB7B4",
    "outputId": "f980c744-5f14-46e7-b85c-b633606891eb"
   },
   "outputs": [
    {
     "data": {
      "text/plain": [
       "((76718, 21), (6564, 21), 83282, 15343.6, 2188.0)"
      ]
     },
     "execution_count": 27,
     "metadata": {},
     "output_type": "execute_result"
    }
   ],
   "source": [
    "evictions_pre_post_covid.shape, \\\n",
    "evictions_covid.shape, \\\n",
    "76718 + 6564, \\\n",
    "76718/5, 6564/3"
   ]
  },
  {
   "cell_type": "code",
   "execution_count": 28,
   "metadata": {
    "id": "ZMnZXtCIqNha"
   },
   "outputs": [],
   "source": [
    "# temporarily save cleaned covid evictions data to my drive\n",
    "# we will work on this in a seperate file for clarity\n",
    "evictions_covid.to_csv('/content/drive/My Drive/X999/evictions_covid.csv', index=False)"
   ]
  },
  {
   "cell_type": "markdown",
   "metadata": {
    "id": "7iqFD0kW2hll"
   },
   "source": [
    "# **From now on, everything is about normal times**"
   ]
  },
  {
   "cell_type": "markdown",
   "metadata": {
    "id": "EUrThhBRQjHh"
   },
   "source": [
    "# **Part 4: Aggregation to find eviction counts (with BIN)**\n",
    "\n",
    "#### Aggregate by bin:\n",
    "\n",
    "BIN (buiding identification numbers) appears to be the most sensible basic unit here, as other ones: apartment unit, neighborhood, zipcode, and borough would either be too small (non-representable) or too large to understand landlord behaviors."
   ]
  },
  {
   "cell_type": "markdown",
   "metadata": {
    "id": "Uo34eSXxfpHx"
   },
   "source": [
    "## **A tiny note on groupby and merge:**\n",
    "### One tricky thing is when we do the groupby and merge to calcuate per building per year's eviction, we're finding one average evictions per year value for each unique building. When we merge this value back to the original df, we want all rows that have the same bin get the same avg_evictions_per_building value. If we groupby 'bin', 'year', and have the numb_years, each bin will be divided by different number of years (the number of years that they had evictions), and therefore it is different from groupby bin and directly divide by 5.\n",
    "### This is a big distinction, because groupby bin and year, and divide by the years each building had eviction assumes that when the building did not have evictions that year, the buildings did not exist. This is not true. We need to treat as if all the buildings exist in all these years.\n",
    "### Since bbl data has a cutoff at 2020 (something we learned from another dataset), we will not go into details to think about \"what if certain buildings were completed in 2019 and did not exist in 2017\" this type of questions."
   ]
  },
  {
   "cell_type": "code",
   "execution_count": 29,
   "metadata": {
    "id": "4zD6VxaFeV9k"
   },
   "outputs": [],
   "source": [
    "# evictions_by_building_year = evictions_df.groupby(['bin', 'year']).size().reset_index(name='evictions')\n",
    "# years_per_building = evictions_by_building_year.groupby('bin')['year'].nunique()\n",
    "# total_evictions = evictions_by_building_year.groupby('bin')['evictions'].sum()\n",
    "# avg_evictions = total_evictions / years_per_building\n",
    "# # don't do this"
   ]
  },
  {
   "cell_type": "code",
   "execution_count": 30,
   "metadata": {
    "id": "F9HHMSaOeRrx"
   },
   "outputs": [],
   "source": [
    "# groupby\n",
    "evictions_per_building = evictions_pre_post_covid.groupby('bin').size().reset_index(name='total_evictions')"
   ]
  },
  {
   "cell_type": "code",
   "execution_count": 31,
   "metadata": {
    "id": "ImxrcNDCg5Sm"
   },
   "outputs": [],
   "source": [
    "# divide by all years covered\n",
    "evictions_per_building['average_year_eviction_count'] = evictions_per_building['total_evictions'] / 5"
   ]
  },
  {
   "cell_type": "code",
   "execution_count": 32,
   "metadata": {
    "id": "jWz-AU3NhGSS"
   },
   "outputs": [],
   "source": [
    "# merge the average_year_eviction_count back to the evictions_df based on bin\n",
    "evictions_pre_post_covid = evictions_pre_post_covid.merge(evictions_per_building[['bin', 'average_year_eviction_count']], on='bin', how='left')"
   ]
  },
  {
   "cell_type": "code",
   "execution_count": 33,
   "metadata": {
    "colab": {
     "base_uri": "https://localhost:8080/"
    },
    "id": "Dsguliivi2-t",
    "outputId": "4c5de85a-19dc-4ba1-990e-b087d7ed4b39"
   },
   "outputs": [
    {
     "data": {
      "text/plain": [
       "((76718, 22), 36029)"
      ]
     },
     "execution_count": 33,
     "metadata": {},
     "output_type": "execute_result"
    }
   ],
   "source": [
    "evictions_pre_post_covid.shape, len(evictions_pre_post_covid.bin.unique())"
   ]
  },
  {
   "cell_type": "code",
   "execution_count": 34,
   "metadata": {
    "colab": {
     "base_uri": "https://localhost:8080/",
     "height": 446
    },
    "id": "HAPHS8MQ3Y0R",
    "outputId": "4c245521-22e3-4bfd-d6e6-be97d797b150"
   },
   "outputs": [
    {
     "data": {
      "application/vnd.google.colaboratory.intrinsic+json": {
       "type": "dataframe",
       "variable_name": "evictions_pre_post_covid"
      },
      "text/html": [
       "\n",
       "  <div id=\"df-9f3ce0a9-f65a-40ca-bb44-6dff6b5b8c8d\" class=\"colab-df-container\">\n",
       "    <div>\n",
       "<style scoped>\n",
       "    .dataframe tbody tr th:only-of-type {\n",
       "        vertical-align: middle;\n",
       "    }\n",
       "\n",
       "    .dataframe tbody tr th {\n",
       "        vertical-align: top;\n",
       "    }\n",
       "\n",
       "    .dataframe thead th {\n",
       "        text-align: right;\n",
       "    }\n",
       "</style>\n",
       "<table border=\"1\" class=\"dataframe\">\n",
       "  <thead>\n",
       "    <tr style=\"text-align: right;\">\n",
       "      <th></th>\n",
       "      <th>primary_key</th>\n",
       "      <th>court_index_number</th>\n",
       "      <th>docket_number</th>\n",
       "      <th>eviction_address</th>\n",
       "      <th>eviction_apartment_number</th>\n",
       "      <th>executed_date</th>\n",
       "      <th>borough</th>\n",
       "      <th>eviction_postcode</th>\n",
       "      <th>ejectment</th>\n",
       "      <th>eviction/legal_possession</th>\n",
       "      <th>...</th>\n",
       "      <th>community_board</th>\n",
       "      <th>council_district</th>\n",
       "      <th>census_tract</th>\n",
       "      <th>bin</th>\n",
       "      <th>bbl</th>\n",
       "      <th>nta</th>\n",
       "      <th>year</th>\n",
       "      <th>month_year</th>\n",
       "      <th>geometry</th>\n",
       "      <th>average_year_eviction_count</th>\n",
       "    </tr>\n",
       "  </thead>\n",
       "  <tbody>\n",
       "    <tr>\n",
       "      <th>0</th>\n",
       "      <td>*308072/22_5865</td>\n",
       "      <td>*308072/22</td>\n",
       "      <td>5865</td>\n",
       "      <td>356 MILLER AVE</td>\n",
       "      <td>1 AND BASEMENT</td>\n",
       "      <td>2024-12-04</td>\n",
       "      <td>BROOKLYN</td>\n",
       "      <td>11207</td>\n",
       "      <td>Not an Ejectment</td>\n",
       "      <td>Possession</td>\n",
       "      <td>...</td>\n",
       "      <td>5.0</td>\n",
       "      <td>37.0</td>\n",
       "      <td>1152.0</td>\n",
       "      <td>3083989</td>\n",
       "      <td>3037420029</td>\n",
       "      <td>East New York</td>\n",
       "      <td>2024</td>\n",
       "      <td>2024-12</td>\n",
       "      <td>POINT (-73.8911 40.67212)</td>\n",
       "      <td>0.8</td>\n",
       "    </tr>\n",
       "    <tr>\n",
       "      <th>1</th>\n",
       "      <td>*313639/23_5202</td>\n",
       "      <td>*313639/23</td>\n",
       "      <td>5202</td>\n",
       "      <td>710 61ST STREET</td>\n",
       "      <td>2ND FLOOR</td>\n",
       "      <td>2024-03-04</td>\n",
       "      <td>BROOKLYN</td>\n",
       "      <td>11220</td>\n",
       "      <td>Not an Ejectment</td>\n",
       "      <td>Possession</td>\n",
       "      <td>...</td>\n",
       "      <td>7.0</td>\n",
       "      <td>38.0</td>\n",
       "      <td>118.0</td>\n",
       "      <td>3143881</td>\n",
       "      <td>3057940012</td>\n",
       "      <td>Sunset Park East</td>\n",
       "      <td>2024</td>\n",
       "      <td>2024-03</td>\n",
       "      <td>POINT (-74.01188 40.63594)</td>\n",
       "      <td>0.6</td>\n",
       "    </tr>\n",
       "    <tr>\n",
       "      <th>2</th>\n",
       "      <td>*324973/22_5308</td>\n",
       "      <td>*324973/22</td>\n",
       "      <td>5308</td>\n",
       "      <td>462 60TH STREET</td>\n",
       "      <td>FOURTH FLOOR APT AKA</td>\n",
       "      <td>2024-08-13</td>\n",
       "      <td>BROOKLYN</td>\n",
       "      <td>11220</td>\n",
       "      <td>Not an Ejectment</td>\n",
       "      <td>Possession</td>\n",
       "      <td>...</td>\n",
       "      <td>7.0</td>\n",
       "      <td>38.0</td>\n",
       "      <td>122.0</td>\n",
       "      <td>3143435</td>\n",
       "      <td>3057820030</td>\n",
       "      <td>Sunset Park West</td>\n",
       "      <td>2024</td>\n",
       "      <td>2024-08</td>\n",
       "      <td>POINT (-74.01707 40.64001)</td>\n",
       "      <td>0.6</td>\n",
       "    </tr>\n",
       "    <tr>\n",
       "      <th>3</th>\n",
       "      <td>*53336/16_170279</td>\n",
       "      <td>*53336/16</td>\n",
       "      <td>170279</td>\n",
       "      <td>3400 PAUL AVENUE</td>\n",
       "      <td>15D</td>\n",
       "      <td>2018-10-17</td>\n",
       "      <td>BRONX</td>\n",
       "      <td>10468</td>\n",
       "      <td>Not an Ejectment</td>\n",
       "      <td>Possession</td>\n",
       "      <td>...</td>\n",
       "      <td>7.0</td>\n",
       "      <td>11.0</td>\n",
       "      <td>409.0</td>\n",
       "      <td>2015444</td>\n",
       "      <td>2032510420</td>\n",
       "      <td>Van Cortlandt Village</td>\n",
       "      <td>2018</td>\n",
       "      <td>2018-10</td>\n",
       "      <td>POINT (-73.88957 40.87719)</td>\n",
       "      <td>0.8</td>\n",
       "    </tr>\n",
       "    <tr>\n",
       "      <th>4</th>\n",
       "      <td>*5990/17_2703</td>\n",
       "      <td>*5990/17</td>\n",
       "      <td>2703</td>\n",
       "      <td>480 CONCORD AVENUE</td>\n",
       "      <td>4E</td>\n",
       "      <td>2019-08-30</td>\n",
       "      <td>BRONX</td>\n",
       "      <td>10455</td>\n",
       "      <td>Not an Ejectment</td>\n",
       "      <td>Possession</td>\n",
       "      <td>...</td>\n",
       "      <td>1.0</td>\n",
       "      <td>8.0</td>\n",
       "      <td>35.0</td>\n",
       "      <td>2003900</td>\n",
       "      <td>2025770038</td>\n",
       "      <td>Mott Haven-Port Morris</td>\n",
       "      <td>2019</td>\n",
       "      <td>2019-08</td>\n",
       "      <td>POINT (-73.90881 40.8112)</td>\n",
       "      <td>1.6</td>\n",
       "    </tr>\n",
       "  </tbody>\n",
       "</table>\n",
       "<p>5 rows × 22 columns</p>\n",
       "</div>\n",
       "    <div class=\"colab-df-buttons\">\n",
       "\n",
       "  <div class=\"colab-df-container\">\n",
       "    <button class=\"colab-df-convert\" onclick=\"convertToInteractive('df-9f3ce0a9-f65a-40ca-bb44-6dff6b5b8c8d')\"\n",
       "            title=\"Convert this dataframe to an interactive table.\"\n",
       "            style=\"display:none;\">\n",
       "\n",
       "  <svg xmlns=\"http://www.w3.org/2000/svg\" height=\"24px\" viewBox=\"0 -960 960 960\">\n",
       "    <path d=\"M120-120v-720h720v720H120Zm60-500h600v-160H180v160Zm220 220h160v-160H400v160Zm0 220h160v-160H400v160ZM180-400h160v-160H180v160Zm440 0h160v-160H620v160ZM180-180h160v-160H180v160Zm440 0h160v-160H620v160Z\"/>\n",
       "  </svg>\n",
       "    </button>\n",
       "\n",
       "  <style>\n",
       "    .colab-df-container {\n",
       "      display:flex;\n",
       "      gap: 12px;\n",
       "    }\n",
       "\n",
       "    .colab-df-convert {\n",
       "      background-color: #E8F0FE;\n",
       "      border: none;\n",
       "      border-radius: 50%;\n",
       "      cursor: pointer;\n",
       "      display: none;\n",
       "      fill: #1967D2;\n",
       "      height: 32px;\n",
       "      padding: 0 0 0 0;\n",
       "      width: 32px;\n",
       "    }\n",
       "\n",
       "    .colab-df-convert:hover {\n",
       "      background-color: #E2EBFA;\n",
       "      box-shadow: 0px 1px 2px rgba(60, 64, 67, 0.3), 0px 1px 3px 1px rgba(60, 64, 67, 0.15);\n",
       "      fill: #174EA6;\n",
       "    }\n",
       "\n",
       "    .colab-df-buttons div {\n",
       "      margin-bottom: 4px;\n",
       "    }\n",
       "\n",
       "    [theme=dark] .colab-df-convert {\n",
       "      background-color: #3B4455;\n",
       "      fill: #D2E3FC;\n",
       "    }\n",
       "\n",
       "    [theme=dark] .colab-df-convert:hover {\n",
       "      background-color: #434B5C;\n",
       "      box-shadow: 0px 1px 3px 1px rgba(0, 0, 0, 0.15);\n",
       "      filter: drop-shadow(0px 1px 2px rgba(0, 0, 0, 0.3));\n",
       "      fill: #FFFFFF;\n",
       "    }\n",
       "  </style>\n",
       "\n",
       "    <script>\n",
       "      const buttonEl =\n",
       "        document.querySelector('#df-9f3ce0a9-f65a-40ca-bb44-6dff6b5b8c8d button.colab-df-convert');\n",
       "      buttonEl.style.display =\n",
       "        google.colab.kernel.accessAllowed ? 'block' : 'none';\n",
       "\n",
       "      async function convertToInteractive(key) {\n",
       "        const element = document.querySelector('#df-9f3ce0a9-f65a-40ca-bb44-6dff6b5b8c8d');\n",
       "        const dataTable =\n",
       "          await google.colab.kernel.invokeFunction('convertToInteractive',\n",
       "                                                    [key], {});\n",
       "        if (!dataTable) return;\n",
       "\n",
       "        const docLinkHtml = 'Like what you see? Visit the ' +\n",
       "          '<a target=\"_blank\" href=https://colab.research.google.com/notebooks/data_table.ipynb>data table notebook</a>'\n",
       "          + ' to learn more about interactive tables.';\n",
       "        element.innerHTML = '';\n",
       "        dataTable['output_type'] = 'display_data';\n",
       "        await google.colab.output.renderOutput(dataTable, element);\n",
       "        const docLink = document.createElement('div');\n",
       "        docLink.innerHTML = docLinkHtml;\n",
       "        element.appendChild(docLink);\n",
       "      }\n",
       "    </script>\n",
       "  </div>\n",
       "\n",
       "\n",
       "<div id=\"df-8a0bb2be-13c2-4ae7-95a9-eb174bfaa49e\">\n",
       "  <button class=\"colab-df-quickchart\" onclick=\"quickchart('df-8a0bb2be-13c2-4ae7-95a9-eb174bfaa49e')\"\n",
       "            title=\"Suggest charts\"\n",
       "            style=\"display:none;\">\n",
       "\n",
       "<svg xmlns=\"http://www.w3.org/2000/svg\" height=\"24px\"viewBox=\"0 0 24 24\"\n",
       "     width=\"24px\">\n",
       "    <g>\n",
       "        <path d=\"M19 3H5c-1.1 0-2 .9-2 2v14c0 1.1.9 2 2 2h14c1.1 0 2-.9 2-2V5c0-1.1-.9-2-2-2zM9 17H7v-7h2v7zm4 0h-2V7h2v10zm4 0h-2v-4h2v4z\"/>\n",
       "    </g>\n",
       "</svg>\n",
       "  </button>\n",
       "\n",
       "<style>\n",
       "  .colab-df-quickchart {\n",
       "      --bg-color: #E8F0FE;\n",
       "      --fill-color: #1967D2;\n",
       "      --hover-bg-color: #E2EBFA;\n",
       "      --hover-fill-color: #174EA6;\n",
       "      --disabled-fill-color: #AAA;\n",
       "      --disabled-bg-color: #DDD;\n",
       "  }\n",
       "\n",
       "  [theme=dark] .colab-df-quickchart {\n",
       "      --bg-color: #3B4455;\n",
       "      --fill-color: #D2E3FC;\n",
       "      --hover-bg-color: #434B5C;\n",
       "      --hover-fill-color: #FFFFFF;\n",
       "      --disabled-bg-color: #3B4455;\n",
       "      --disabled-fill-color: #666;\n",
       "  }\n",
       "\n",
       "  .colab-df-quickchart {\n",
       "    background-color: var(--bg-color);\n",
       "    border: none;\n",
       "    border-radius: 50%;\n",
       "    cursor: pointer;\n",
       "    display: none;\n",
       "    fill: var(--fill-color);\n",
       "    height: 32px;\n",
       "    padding: 0;\n",
       "    width: 32px;\n",
       "  }\n",
       "\n",
       "  .colab-df-quickchart:hover {\n",
       "    background-color: var(--hover-bg-color);\n",
       "    box-shadow: 0 1px 2px rgba(60, 64, 67, 0.3), 0 1px 3px 1px rgba(60, 64, 67, 0.15);\n",
       "    fill: var(--button-hover-fill-color);\n",
       "  }\n",
       "\n",
       "  .colab-df-quickchart-complete:disabled,\n",
       "  .colab-df-quickchart-complete:disabled:hover {\n",
       "    background-color: var(--disabled-bg-color);\n",
       "    fill: var(--disabled-fill-color);\n",
       "    box-shadow: none;\n",
       "  }\n",
       "\n",
       "  .colab-df-spinner {\n",
       "    border: 2px solid var(--fill-color);\n",
       "    border-color: transparent;\n",
       "    border-bottom-color: var(--fill-color);\n",
       "    animation:\n",
       "      spin 1s steps(1) infinite;\n",
       "  }\n",
       "\n",
       "  @keyframes spin {\n",
       "    0% {\n",
       "      border-color: transparent;\n",
       "      border-bottom-color: var(--fill-color);\n",
       "      border-left-color: var(--fill-color);\n",
       "    }\n",
       "    20% {\n",
       "      border-color: transparent;\n",
       "      border-left-color: var(--fill-color);\n",
       "      border-top-color: var(--fill-color);\n",
       "    }\n",
       "    30% {\n",
       "      border-color: transparent;\n",
       "      border-left-color: var(--fill-color);\n",
       "      border-top-color: var(--fill-color);\n",
       "      border-right-color: var(--fill-color);\n",
       "    }\n",
       "    40% {\n",
       "      border-color: transparent;\n",
       "      border-right-color: var(--fill-color);\n",
       "      border-top-color: var(--fill-color);\n",
       "    }\n",
       "    60% {\n",
       "      border-color: transparent;\n",
       "      border-right-color: var(--fill-color);\n",
       "    }\n",
       "    80% {\n",
       "      border-color: transparent;\n",
       "      border-right-color: var(--fill-color);\n",
       "      border-bottom-color: var(--fill-color);\n",
       "    }\n",
       "    90% {\n",
       "      border-color: transparent;\n",
       "      border-bottom-color: var(--fill-color);\n",
       "    }\n",
       "  }\n",
       "</style>\n",
       "\n",
       "  <script>\n",
       "    async function quickchart(key) {\n",
       "      const quickchartButtonEl =\n",
       "        document.querySelector('#' + key + ' button');\n",
       "      quickchartButtonEl.disabled = true;  // To prevent multiple clicks.\n",
       "      quickchartButtonEl.classList.add('colab-df-spinner');\n",
       "      try {\n",
       "        const charts = await google.colab.kernel.invokeFunction(\n",
       "            'suggestCharts', [key], {});\n",
       "      } catch (error) {\n",
       "        console.error('Error during call to suggestCharts:', error);\n",
       "      }\n",
       "      quickchartButtonEl.classList.remove('colab-df-spinner');\n",
       "      quickchartButtonEl.classList.add('colab-df-quickchart-complete');\n",
       "    }\n",
       "    (() => {\n",
       "      let quickchartButtonEl =\n",
       "        document.querySelector('#df-8a0bb2be-13c2-4ae7-95a9-eb174bfaa49e button');\n",
       "      quickchartButtonEl.style.display =\n",
       "        google.colab.kernel.accessAllowed ? 'block' : 'none';\n",
       "    })();\n",
       "  </script>\n",
       "</div>\n",
       "\n",
       "    </div>\n",
       "  </div>\n"
      ],
      "text/plain": [
       "        primary_key court_index_number  docket_number    eviction_address  \\\n",
       "0   *308072/22_5865         *308072/22           5865      356 MILLER AVE   \n",
       "1   *313639/23_5202         *313639/23           5202     710 61ST STREET   \n",
       "2   *324973/22_5308         *324973/22           5308     462 60TH STREET   \n",
       "3  *53336/16_170279          *53336/16         170279    3400 PAUL AVENUE   \n",
       "4     *5990/17_2703           *5990/17           2703  480 CONCORD AVENUE   \n",
       "\n",
       "  eviction_apartment_number executed_date   borough  eviction_postcode  \\\n",
       "0            1 AND BASEMENT    2024-12-04  BROOKLYN              11207   \n",
       "1                 2ND FLOOR    2024-03-04  BROOKLYN              11220   \n",
       "2      FOURTH FLOOR APT AKA    2024-08-13  BROOKLYN              11220   \n",
       "3                       15D    2018-10-17     BRONX              10468   \n",
       "4                        4E    2019-08-30     BRONX              10455   \n",
       "\n",
       "          ejectment eviction/legal_possession  ...  community_board  \\\n",
       "0  Not an Ejectment                Possession  ...              5.0   \n",
       "1  Not an Ejectment                Possession  ...              7.0   \n",
       "2  Not an Ejectment                Possession  ...              7.0   \n",
       "3  Not an Ejectment                Possession  ...              7.0   \n",
       "4  Not an Ejectment                Possession  ...              1.0   \n",
       "\n",
       "   council_district  census_tract      bin         bbl  \\\n",
       "0              37.0        1152.0  3083989  3037420029   \n",
       "1              38.0         118.0  3143881  3057940012   \n",
       "2              38.0         122.0  3143435  3057820030   \n",
       "3              11.0         409.0  2015444  2032510420   \n",
       "4               8.0          35.0  2003900  2025770038   \n",
       "\n",
       "                      nta  year month_year                    geometry  \\\n",
       "0           East New York  2024    2024-12   POINT (-73.8911 40.67212)   \n",
       "1        Sunset Park East  2024    2024-03  POINT (-74.01188 40.63594)   \n",
       "2        Sunset Park West  2024    2024-08  POINT (-74.01707 40.64001)   \n",
       "3   Van Cortlandt Village  2018    2018-10  POINT (-73.88957 40.87719)   \n",
       "4  Mott Haven-Port Morris  2019    2019-08   POINT (-73.90881 40.8112)   \n",
       "\n",
       "  average_year_eviction_count  \n",
       "0                         0.8  \n",
       "1                         0.6  \n",
       "2                         0.6  \n",
       "3                         0.8  \n",
       "4                         1.6  \n",
       "\n",
       "[5 rows x 22 columns]"
      ]
     },
     "execution_count": 34,
     "metadata": {},
     "output_type": "execute_result"
    }
   ],
   "source": [
    "evictions_pre_post_covid.head()"
   ]
  },
  {
   "cell_type": "code",
   "execution_count": 35,
   "metadata": {
    "colab": {
     "base_uri": "https://localhost:8080/"
    },
    "id": "D_7fgf2Di0j7",
    "outputId": "52fe25c3-be49-49d9-b4b4-cf10b09a2e9c"
   },
   "outputs": [
    {
     "data": {
      "text/plain": [
       "(36029, 3)"
      ]
     },
     "execution_count": 35,
     "metadata": {},
     "output_type": "execute_result"
    }
   ],
   "source": [
    "evictions_per_building.shape\n",
    "# correct 38502"
   ]
  },
  {
   "cell_type": "code",
   "execution_count": 36,
   "metadata": {
    "id": "A_HozBCFwAGQ"
   },
   "outputs": [],
   "source": [
    "# evictions_cleaned.to_csv('/content/drive/My Drive/X999/evictions_geo_cleaned_all.csv', index=False)"
   ]
  },
  {
   "cell_type": "markdown",
   "metadata": {
    "id": "vh9e2HZJkone"
   },
   "source": [
    "**During normal years, on average, each year has about 15343.6 evictions, but during covid 3 years, each year only has 2188 evictions.**\n",
    "\n",
    "Here is a breakdown of each year:"
   ]
  },
  {
   "cell_type": "code",
   "execution_count": 37,
   "metadata": {
    "id": "65a5pkPSlfxa"
   },
   "outputs": [],
   "source": [
    "# evictions_per_year = evictions_pre_post_covid.groupby('year').size().reset_index(name='eviction_count')\n",
    "# evictions_per_year = evictions_pre_post_covid.sort_values('year')\n",
    "# evictions_per_year.head()"
   ]
  },
  {
   "cell_type": "code",
   "execution_count": 38,
   "metadata": {
    "id": "uJhrflZZlhqn"
   },
   "outputs": [],
   "source": [
    "# average_per_year = evictions_per_year['eviction_count'].mean()\n",
    "# average_per_year"
   ]
  },
  {
   "cell_type": "code",
   "execution_count": 39,
   "metadata": {
    "id": "tXoKXIRE8-tU"
   },
   "outputs": [],
   "source": [
    "# evictions_pre_post_covid.columns == evictions_covid.columns"
   ]
  },
  {
   "cell_type": "markdown",
   "metadata": {
    "id": "UxcXsztTh6TC"
   },
   "source": [
    "# **Part 5 Eviction trends over time and over different buildings**"
   ]
  },
  {
   "cell_type": "markdown",
   "metadata": {
    "id": "2UItUMlQo8Xr"
   },
   "source": [
    "## **Only normal times in this file**"
   ]
  },
  {
   "cell_type": "code",
   "execution_count": 40,
   "metadata": {
    "colab": {
     "base_uri": "https://localhost:8080/",
     "height": 507
    },
    "id": "jnd-GnLm-eeZ",
    "outputId": "b33525fb-19c0-427c-ee86-e8cd0e3d5c82"
   },
   "outputs": [
    {
     "data": {
      "image/png": "[encoded data removed]",
      "text/plain": [
       "<Figure size 800x500 with 1 Axes>"
      ]
     },
     "metadata": {},
     "output_type": "display_data"
    }
   ],
   "source": [
    "eviction_counts = evictions_pre_post_covid['average_year_eviction_count'].value_counts().sort_index()\n",
    "\n",
    "plt.figure(figsize=(8, 5))\n",
    "bars = plt.bar(eviction_counts.index, eviction_counts.values, color='skyblue')\n",
    "\n",
    "plt.title('Number of buildings by average yearly eviction count (pre-post)', fontsize=12)\n",
    "plt.xlabel('Average yearly evictions')\n",
    "plt.ylabel('Number of buildings')\n",
    "\n",
    "plt.grid(True, alpha=0.3)\n",
    "\n",
    "plt.tight_layout()\n",
    "plt.show()\n",
    "\n",
    "# create stats\n",
    "total_buildings = eviction_counts.sum()\n",
    "buildings_one_eviction = eviction_counts.get(1.0, 0)\n",
    "percentage_one_eviction = (buildings_one_eviction / total_buildings) * 100"
   ]
  },
  {
   "cell_type": "code",
   "execution_count": 41,
   "metadata": {
    "id": "T-W2RWhRoNC8"
   },
   "outputs": [],
   "source": [
    "# get the metrics first\n",
    "most_common_count = eviction_counts.index[eviction_counts.argmax()]\n",
    "buildings_less_equal_common = (evictions_per_building['average_year_eviction_count'] <= most_common_count).sum()\n",
    "percentage_less_equal_common = (buildings_less_equal_common / total_buildings) * 100"
   ]
  },
  {
   "cell_type": "code",
   "execution_count": 42,
   "metadata": {
    "colab": {
     "base_uri": "https://localhost:8080/"
    },
    "id": "gXRPEHC8oR49",
    "outputId": "3d6691e3-c0a6-4340-9c3a-818e8fbc2044"
   },
   "outputs": [
    {
     "data": {
      "text/plain": [
       "(np.float64(0.2), np.int64(21479), np.float64(27.997340910868374))"
      ]
     },
     "execution_count": 42,
     "metadata": {},
     "output_type": "execute_result"
    }
   ],
   "source": [
    "most_common_count, buildings_less_equal_common, percentage_less_equal_common"
   ]
  },
  {
   "cell_type": "code",
   "execution_count": 43,
   "metadata": {
    "colab": {
     "base_uri": "https://localhost:8080/",
     "height": 175
    },
    "id": "uNhPl9zb-mHe",
    "outputId": "04e71125-db53-4c87-980b-6be7fdc0a490"
   },
   "outputs": [
    {
     "data": {
      "application/vnd.google.colaboratory.intrinsic+json": {
       "summary": "{\n  \"name\": \"summary_df\",\n  \"rows\": 4,\n  \"fields\": [\n    {\n      \"column\": \"metrics\",\n      \"properties\": {\n        \"dtype\": \"string\",\n        \"num_unique_values\": 4,\n        \"samples\": [\n          \"most common eviction count (per building, per year)\",\n          \"buildings with less than most common eviction count (per building, per year)\",\n          \"total buildings\"\n        ],\n        \"semantic_type\": \"\",\n        \"description\": \"\"\n      }\n    },\n    {\n      \"column\": \"value\",\n      \"properties\": {\n        \"dtype\": \"string\",\n        \"num_unique_values\": 4,\n        \"samples\": [\n          \"0.20 (21,479 buildings)\",\n          \"21,479 (28.0%)\",\n          \"76,718\"\n        ],\n        \"semantic_type\": \"\",\n        \"description\": \"\"\n      }\n    }\n  ]\n}",
       "type": "dataframe",
       "variable_name": "summary_df"
      },
      "text/html": [
       "\n",
       "  <div id=\"df-f14df5fd-866e-41f4-af4b-d45fddc09bd2\" class=\"colab-df-container\">\n",
       "    <div>\n",
       "<style scoped>\n",
       "    .dataframe tbody tr th:only-of-type {\n",
       "        vertical-align: middle;\n",
       "    }\n",
       "\n",
       "    .dataframe tbody tr th {\n",
       "        vertical-align: top;\n",
       "    }\n",
       "\n",
       "    .dataframe thead th {\n",
       "        text-align: right;\n",
       "    }\n",
       "</style>\n",
       "<table border=\"1\" class=\"dataframe\">\n",
       "  <thead>\n",
       "    <tr style=\"text-align: right;\">\n",
       "      <th></th>\n",
       "      <th>metrics</th>\n",
       "      <th>value</th>\n",
       "    </tr>\n",
       "  </thead>\n",
       "  <tbody>\n",
       "    <tr>\n",
       "      <th>0</th>\n",
       "      <td>total buildings</td>\n",
       "      <td>76,718</td>\n",
       "    </tr>\n",
       "    <tr>\n",
       "      <th>1</th>\n",
       "      <td>most common eviction count (per building, per year)</td>\n",
       "      <td>0.20 (21,479 buildings)</td>\n",
       "    </tr>\n",
       "    <tr>\n",
       "      <th>2</th>\n",
       "      <td>buildings with exactly one eviction per year</td>\n",
       "      <td>4,720 (6.2%)</td>\n",
       "    </tr>\n",
       "    <tr>\n",
       "      <th>3</th>\n",
       "      <td>buildings with less than most common eviction count (per building, per year)</td>\n",
       "      <td>21,479 (28.0%)</td>\n",
       "    </tr>\n",
       "  </tbody>\n",
       "</table>\n",
       "</div>\n",
       "    <div class=\"colab-df-buttons\">\n",
       "\n",
       "  <div class=\"colab-df-container\">\n",
       "    <button class=\"colab-df-convert\" onclick=\"convertToInteractive('df-f14df5fd-866e-41f4-af4b-d45fddc09bd2')\"\n",
       "            title=\"Convert this dataframe to an interactive table.\"\n",
       "            style=\"display:none;\">\n",
       "\n",
       "  <svg xmlns=\"http://www.w3.org/2000/svg\" height=\"24px\" viewBox=\"0 -960 960 960\">\n",
       "    <path d=\"M120-120v-720h720v720H120Zm60-500h600v-160H180v160Zm220 220h160v-160H400v160Zm0 220h160v-160H400v160ZM180-400h160v-160H180v160Zm440 0h160v-160H620v160ZM180-180h160v-160H180v160Zm440 0h160v-160H620v160Z\"/>\n",
       "  </svg>\n",
       "    </button>\n",
       "\n",
       "  <style>\n",
       "    .colab-df-container {\n",
       "      display:flex;\n",
       "      gap: 12px;\n",
       "    }\n",
       "\n",
       "    .colab-df-convert {\n",
       "      background-color: #E8F0FE;\n",
       "      border: none;\n",
       "      border-radius: 50%;\n",
       "      cursor: pointer;\n",
       "      display: none;\n",
       "      fill: #1967D2;\n",
       "      height: 32px;\n",
       "      padding: 0 0 0 0;\n",
       "      width: 32px;\n",
       "    }\n",
       "\n",
       "    .colab-df-convert:hover {\n",
       "      background-color: #E2EBFA;\n",
       "      box-shadow: 0px 1px 2px rgba(60, 64, 67, 0.3), 0px 1px 3px 1px rgba(60, 64, 67, 0.15);\n",
       "      fill: #174EA6;\n",
       "    }\n",
       "\n",
       "    .colab-df-buttons div {\n",
       "      margin-bottom: 4px;\n",
       "    }\n",
       "\n",
       "    [theme=dark] .colab-df-convert {\n",
       "      background-color: #3B4455;\n",
       "      fill: #D2E3FC;\n",
       "    }\n",
       "\n",
       "    [theme=dark] .colab-df-convert:hover {\n",
       "      background-color: #434B5C;\n",
       "      box-shadow: 0px 1px 3px 1px rgba(0, 0, 0, 0.15);\n",
       "      filter: drop-shadow(0px 1px 2px rgba(0, 0, 0, 0.3));\n",
       "      fill: #FFFFFF;\n",
       "    }\n",
       "  </style>\n",
       "\n",
       "    <script>\n",
       "      const buttonEl =\n",
       "        document.querySelector('#df-f14df5fd-866e-41f4-af4b-d45fddc09bd2 button.colab-df-convert');\n",
       "      buttonEl.style.display =\n",
       "        google.colab.kernel.accessAllowed ? 'block' : 'none';\n",
       "\n",
       "      async function convertToInteractive(key) {\n",
       "        const element = document.querySelector('#df-f14df5fd-866e-41f4-af4b-d45fddc09bd2');\n",
       "        const dataTable =\n",
       "          await google.colab.kernel.invokeFunction('convertToInteractive',\n",
       "                                                    [key], {});\n",
       "        if (!dataTable) return;\n",
       "\n",
       "        const docLinkHtml = 'Like what you see? Visit the ' +\n",
       "          '<a target=\"_blank\" href=https://colab.research.google.com/notebooks/data_table.ipynb>data table notebook</a>'\n",
       "          + ' to learn more about interactive tables.';\n",
       "        element.innerHTML = '';\n",
       "        dataTable['output_type'] = 'display_data';\n",
       "        await google.colab.output.renderOutput(dataTable, element);\n",
       "        const docLink = document.createElement('div');\n",
       "        docLink.innerHTML = docLinkHtml;\n",
       "        element.appendChild(docLink);\n",
       "      }\n",
       "    </script>\n",
       "  </div>\n",
       "\n",
       "\n",
       "<div id=\"df-6baa5279-0a2a-4534-8b6b-422ecd584e9c\">\n",
       "  <button class=\"colab-df-quickchart\" onclick=\"quickchart('df-6baa5279-0a2a-4534-8b6b-422ecd584e9c')\"\n",
       "            title=\"Suggest charts\"\n",
       "            style=\"display:none;\">\n",
       "\n",
       "<svg xmlns=\"http://www.w3.org/2000/svg\" height=\"24px\"viewBox=\"0 0 24 24\"\n",
       "     width=\"24px\">\n",
       "    <g>\n",
       "        <path d=\"M19 3H5c-1.1 0-2 .9-2 2v14c0 1.1.9 2 2 2h14c1.1 0 2-.9 2-2V5c0-1.1-.9-2-2-2zM9 17H7v-7h2v7zm4 0h-2V7h2v10zm4 0h-2v-4h2v4z\"/>\n",
       "    </g>\n",
       "</svg>\n",
       "  </button>\n",
       "\n",
       "<style>\n",
       "  .colab-df-quickchart {\n",
       "      --bg-color: #E8F0FE;\n",
       "      --fill-color: #1967D2;\n",
       "      --hover-bg-color: #E2EBFA;\n",
       "      --hover-fill-color: #174EA6;\n",
       "      --disabled-fill-color: #AAA;\n",
       "      --disabled-bg-color: #DDD;\n",
       "  }\n",
       "\n",
       "  [theme=dark] .colab-df-quickchart {\n",
       "      --bg-color: #3B4455;\n",
       "      --fill-color: #D2E3FC;\n",
       "      --hover-bg-color: #434B5C;\n",
       "      --hover-fill-color: #FFFFFF;\n",
       "      --disabled-bg-color: #3B4455;\n",
       "      --disabled-fill-color: #666;\n",
       "  }\n",
       "\n",
       "  .colab-df-quickchart {\n",
       "    background-color: var(--bg-color);\n",
       "    border: none;\n",
       "    border-radius: 50%;\n",
       "    cursor: pointer;\n",
       "    display: none;\n",
       "    fill: var(--fill-color);\n",
       "    height: 32px;\n",
       "    padding: 0;\n",
       "    width: 32px;\n",
       "  }\n",
       "\n",
       "  .colab-df-quickchart:hover {\n",
       "    background-color: var(--hover-bg-color);\n",
       "    box-shadow: 0 1px 2px rgba(60, 64, 67, 0.3), 0 1px 3px 1px rgba(60, 64, 67, 0.15);\n",
       "    fill: var(--button-hover-fill-color);\n",
       "  }\n",
       "\n",
       "  .colab-df-quickchart-complete:disabled,\n",
       "  .colab-df-quickchart-complete:disabled:hover {\n",
       "    background-color: var(--disabled-bg-color);\n",
       "    fill: var(--disabled-fill-color);\n",
       "    box-shadow: none;\n",
       "  }\n",
       "\n",
       "  .colab-df-spinner {\n",
       "    border: 2px solid var(--fill-color);\n",
       "    border-color: transparent;\n",
       "    border-bottom-color: var(--fill-color);\n",
       "    animation:\n",
       "      spin 1s steps(1) infinite;\n",
       "  }\n",
       "\n",
       "  @keyframes spin {\n",
       "    0% {\n",
       "      border-color: transparent;\n",
       "      border-bottom-color: var(--fill-color);\n",
       "      border-left-color: var(--fill-color);\n",
       "    }\n",
       "    20% {\n",
       "      border-color: transparent;\n",
       "      border-left-color: var(--fill-color);\n",
       "      border-top-color: var(--fill-color);\n",
       "    }\n",
       "    30% {\n",
       "      border-color: transparent;\n",
       "      border-left-color: var(--fill-color);\n",
       "      border-top-color: var(--fill-color);\n",
       "      border-right-color: var(--fill-color);\n",
       "    }\n",
       "    40% {\n",
       "      border-color: transparent;\n",
       "      border-right-color: var(--fill-color);\n",
       "      border-top-color: var(--fill-color);\n",
       "    }\n",
       "    60% {\n",
       "      border-color: transparent;\n",
       "      border-right-color: var(--fill-color);\n",
       "    }\n",
       "    80% {\n",
       "      border-color: transparent;\n",
       "      border-right-color: var(--fill-color);\n",
       "      border-bottom-color: var(--fill-color);\n",
       "    }\n",
       "    90% {\n",
       "      border-color: transparent;\n",
       "      border-bottom-color: var(--fill-color);\n",
       "    }\n",
       "  }\n",
       "</style>\n",
       "\n",
       "  <script>\n",
       "    async function quickchart(key) {\n",
       "      const quickchartButtonEl =\n",
       "        document.querySelector('#' + key + ' button');\n",
       "      quickchartButtonEl.disabled = true;  // To prevent multiple clicks.\n",
       "      quickchartButtonEl.classList.add('colab-df-spinner');\n",
       "      try {\n",
       "        const charts = await google.colab.kernel.invokeFunction(\n",
       "            'suggestCharts', [key], {});\n",
       "      } catch (error) {\n",
       "        console.error('Error during call to suggestCharts:', error);\n",
       "      }\n",
       "      quickchartButtonEl.classList.remove('colab-df-spinner');\n",
       "      quickchartButtonEl.classList.add('colab-df-quickchart-complete');\n",
       "    }\n",
       "    (() => {\n",
       "      let quickchartButtonEl =\n",
       "        document.querySelector('#df-6baa5279-0a2a-4534-8b6b-422ecd584e9c button');\n",
       "      quickchartButtonEl.style.display =\n",
       "        google.colab.kernel.accessAllowed ? 'block' : 'none';\n",
       "    })();\n",
       "  </script>\n",
       "</div>\n",
       "\n",
       "  <div id=\"id_c2743def-1f92-4a3c-9a8c-00d76f4a3115\">\n",
       "    <style>\n",
       "      .colab-df-generate {\n",
       "        background-color: #E8F0FE;\n",
       "        border: none;\n",
       "        border-radius: 50%;\n",
       "        cursor: pointer;\n",
       "        display: none;\n",
       "        fill: #1967D2;\n",
       "        height: 32px;\n",
       "        padding: 0 0 0 0;\n",
       "        width: 32px;\n",
       "      }\n",
       "\n",
       "      .colab-df-generate:hover {\n",
       "        background-color: #E2EBFA;\n",
       "        box-shadow: 0px 1px 2px rgba(60, 64, 67, 0.3), 0px 1px 3px 1px rgba(60, 64, 67, 0.15);\n",
       "        fill: #174EA6;\n",
       "      }\n",
       "\n",
       "      [theme=dark] .colab-df-generate {\n",
       "        background-color: #3B4455;\n",
       "        fill: #D2E3FC;\n",
       "      }\n",
       "\n",
       "      [theme=dark] .colab-df-generate:hover {\n",
       "        background-color: #434B5C;\n",
       "        box-shadow: 0px 1px 3px 1px rgba(0, 0, 0, 0.15);\n",
       "        filter: drop-shadow(0px 1px 2px rgba(0, 0, 0, 0.3));\n",
       "        fill: #FFFFFF;\n",
       "      }\n",
       "    </style>\n",
       "    <button class=\"colab-df-generate\" onclick=\"generateWithVariable('summary_df')\"\n",
       "            title=\"Generate code using this dataframe.\"\n",
       "            style=\"display:none;\">\n",
       "\n",
       "  <svg xmlns=\"http://www.w3.org/2000/svg\" height=\"24px\"viewBox=\"0 0 24 24\"\n",
       "       width=\"24px\">\n",
       "    <path d=\"M7,19H8.4L18.45,9,17,7.55,7,17.6ZM5,21V16.75L18.45,3.32a2,2,0,0,1,2.83,0l1.4,1.43a1.91,1.91,0,0,1,.58,1.4,1.91,1.91,0,0,1-.58,1.4L9.25,21ZM18.45,9,17,7.55Zm-12,3A5.31,5.31,0,0,0,4.9,8.1,5.31,5.31,0,0,0,1,6.5,5.31,5.31,0,0,0,4.9,4.9,5.31,5.31,0,0,0,6.5,1,5.31,5.31,0,0,0,8.1,4.9,5.31,5.31,0,0,0,12,6.5,5.46,5.46,0,0,0,6.5,12Z\"/>\n",
       "  </svg>\n",
       "    </button>\n",
       "    <script>\n",
       "      (() => {\n",
       "      const buttonEl =\n",
       "        document.querySelector('#id_c2743def-1f92-4a3c-9a8c-00d76f4a3115 button.colab-df-generate');\n",
       "      buttonEl.style.display =\n",
       "        google.colab.kernel.accessAllowed ? 'block' : 'none';\n",
       "\n",
       "      buttonEl.onclick = () => {\n",
       "        google.colab.notebook.generateWithVariable('summary_df');\n",
       "      }\n",
       "      })();\n",
       "    </script>\n",
       "  </div>\n",
       "\n",
       "    </div>\n",
       "  </div>\n"
      ],
      "text/plain": [
       "                                                                        metrics  \\\n",
       "0                                                               total buildings   \n",
       "1                           most common eviction count (per building, per year)   \n",
       "2                                  buildings with exactly one eviction per year   \n",
       "3  buildings with less than most common eviction count (per building, per year)   \n",
       "\n",
       "                     value  \n",
       "0                   76,718  \n",
       "1  0.20 (21,479 buildings)  \n",
       "2             4,720 (6.2%)  \n",
       "3           21,479 (28.0%)  "
      ]
     },
     "execution_count": 43,
     "metadata": {},
     "output_type": "execute_result"
    }
   ],
   "source": [
    "summary_data = {'metrics': ['total buildings', 'most common eviction count (per building, per year)',\n",
    "  'buildings with exactly one eviction per year', 'buildings with less than most common eviction count (per building, per year)'],\n",
    "'value': [f\"{total_buildings:,}\", f\"{most_common_count:.2f} ({eviction_counts.max():,} buildings)\",\n",
    "f\"{buildings_one_eviction:,} ({percentage_one_eviction:.1f}%)\",f\"{buildings_less_equal_common:,} ({percentage_less_equal_common:.1f}%)\"]}\n",
    "\n",
    "summary_df = pd.DataFrame(summary_data)\n",
    "summary_df"
   ]
  },
  {
   "cell_type": "code",
   "execution_count": 44,
   "metadata": {
    "colab": {
     "base_uri": "https://localhost:8080/"
    },
    "id": "j_mQ9TZ1p4sR",
    "outputId": "db0adfaa-41d8-4b8b-a93a-ddfe29949017"
   },
   "outputs": [
    {
     "data": {
      "text/plain": [
       "np.float64(1.24063192471128)"
      ]
     },
     "execution_count": 44,
     "metadata": {},
     "output_type": "execute_result"
    }
   ],
   "source": [
    "evictions_pre_post_covid['average_year_eviction_count'].mean()"
   ]
  },
  {
   "cell_type": "code",
   "execution_count": 45,
   "metadata": {
    "colab": {
     "base_uri": "https://localhost:8080/",
     "height": 507
    },
    "id": "v7AM0NA29jST",
    "outputId": "bb75e47b-19bd-4957-c202-1fcf70b6a91c"
   },
   "outputs": [
    {
     "data": {
      "image/png": "[encoded data removed]",
      "text/plain": [
       "<Figure size 1000x500 with 1 Axes>"
      ]
     },
     "metadata": {},
     "output_type": "display_data"
    }
   ],
   "source": [
    "yearly_means = evictions_pre_post_covid.groupby('year')['average_year_eviction_count'].mean()\n",
    "\n",
    "plt.figure(figsize=(10, 5))\n",
    "bars = plt.bar(yearly_means.index, yearly_means.values, color='skyblue')\n",
    "\n",
    "plt.title('Average yearly eviction count per building (2017-2019, 2023-2024)', fontsize=12)\n",
    "plt.xlabel('year')\n",
    "plt.ylabel('average Evictions per Building')\n",
    "\n",
    "for bar in bars:\n",
    "    height = bar.get_height()\n",
    "    plt.text(bar.get_x() + bar.get_width()/2., height,\n",
    "             f'{height:.2f}',\n",
    "             ha='center', va='bottom')\n",
    "\n",
    "plt.tight_layout()\n",
    "plt.show()"
   ]
  },
  {
   "cell_type": "code",
   "execution_count": 46,
   "metadata": {
    "id": "AbezazmGrVwE"
   },
   "outputs": [],
   "source": [
    "combined_stats = {\n",
    "    'metric': ['overall mean', f'maximum average ({yearly_means.idxmax()})',\n",
    "        f'minimum average ({yearly_means.idxmin()})'] + [f\"average for {year}\" for year in yearly_means.index],\n",
    "    'value': [f\"{yearly_means.mean():.2f}\",\n",
    "  f\"{yearly_means.max():.2f}\",f\"{yearly_means.min():.2f}\"] + [f\"{avg:.2f}\" for avg in yearly_means.values]}"
   ]
  },
  {
   "cell_type": "code",
   "execution_count": 47,
   "metadata": {
    "colab": {
     "base_uri": "https://localhost:8080/",
     "height": 300
    },
    "id": "Ox4DnQTNrxI_",
    "outputId": "b0d63bf5-27e1-4c98-8133-2da84b72667d"
   },
   "outputs": [
    {
     "data": {
      "application/vnd.google.colaboratory.intrinsic+json": {
       "summary": "{\n  \"name\": \"combined_df\",\n  \"rows\": 8,\n  \"fields\": [\n    {\n      \"column\": \"metric\",\n      \"properties\": {\n        \"dtype\": \"string\",\n        \"num_unique_values\": 8,\n        \"samples\": [\n          \"maximum average (2024)\",\n          \"average for 2019\",\n          \"overall mean\"\n        ],\n        \"semantic_type\": \"\",\n        \"description\": \"\"\n      }\n    },\n    {\n      \"column\": \"value\",\n      \"properties\": {\n        \"dtype\": \"string\",\n        \"num_unique_values\": 4,\n        \"samples\": [\n          \"1.58\",\n          \"1.15\",\n          \"1.25\"\n        ],\n        \"semantic_type\": \"\",\n        \"description\": \"\"\n      }\n    }\n  ]\n}",
       "type": "dataframe",
       "variable_name": "combined_df"
      },
      "text/html": [
       "\n",
       "  <div id=\"df-e2c41eb6-66fd-4596-b8eb-2f8ba8c316e7\" class=\"colab-df-container\">\n",
       "    <div>\n",
       "<style scoped>\n",
       "    .dataframe tbody tr th:only-of-type {\n",
       "        vertical-align: middle;\n",
       "    }\n",
       "\n",
       "    .dataframe tbody tr th {\n",
       "        vertical-align: top;\n",
       "    }\n",
       "\n",
       "    .dataframe thead th {\n",
       "        text-align: right;\n",
       "    }\n",
       "</style>\n",
       "<table border=\"1\" class=\"dataframe\">\n",
       "  <thead>\n",
       "    <tr style=\"text-align: right;\">\n",
       "      <th></th>\n",
       "      <th>metric</th>\n",
       "      <th>value</th>\n",
       "    </tr>\n",
       "  </thead>\n",
       "  <tbody>\n",
       "    <tr>\n",
       "      <th>0</th>\n",
       "      <td>overall mean</td>\n",
       "      <td>1.25</td>\n",
       "    </tr>\n",
       "    <tr>\n",
       "      <th>1</th>\n",
       "      <td>maximum average (2024)</td>\n",
       "      <td>1.58</td>\n",
       "    </tr>\n",
       "    <tr>\n",
       "      <th>2</th>\n",
       "      <td>minimum average (2018)</td>\n",
       "      <td>1.14</td>\n",
       "    </tr>\n",
       "    <tr>\n",
       "      <th>3</th>\n",
       "      <td>average for 2017</td>\n",
       "      <td>1.15</td>\n",
       "    </tr>\n",
       "    <tr>\n",
       "      <th>4</th>\n",
       "      <td>average for 2018</td>\n",
       "      <td>1.14</td>\n",
       "    </tr>\n",
       "    <tr>\n",
       "      <th>5</th>\n",
       "      <td>average for 2019</td>\n",
       "      <td>1.15</td>\n",
       "    </tr>\n",
       "    <tr>\n",
       "      <th>6</th>\n",
       "      <td>average for 2023</td>\n",
       "      <td>1.25</td>\n",
       "    </tr>\n",
       "    <tr>\n",
       "      <th>7</th>\n",
       "      <td>average for 2024</td>\n",
       "      <td>1.58</td>\n",
       "    </tr>\n",
       "  </tbody>\n",
       "</table>\n",
       "</div>\n",
       "    <div class=\"colab-df-buttons\">\n",
       "\n",
       "  <div class=\"colab-df-container\">\n",
       "    <button class=\"colab-df-convert\" onclick=\"convertToInteractive('df-e2c41eb6-66fd-4596-b8eb-2f8ba8c316e7')\"\n",
       "            title=\"Convert this dataframe to an interactive table.\"\n",
       "            style=\"display:none;\">\n",
       "\n",
       "  <svg xmlns=\"http://www.w3.org/2000/svg\" height=\"24px\" viewBox=\"0 -960 960 960\">\n",
       "    <path d=\"M120-120v-720h720v720H120Zm60-500h600v-160H180v160Zm220 220h160v-160H400v160Zm0 220h160v-160H400v160ZM180-400h160v-160H180v160Zm440 0h160v-160H620v160ZM180-180h160v-160H180v160Zm440 0h160v-160H620v160Z\"/>\n",
       "  </svg>\n",
       "    </button>\n",
       "\n",
       "  <style>\n",
       "    .colab-df-container {\n",
       "      display:flex;\n",
       "      gap: 12px;\n",
       "    }\n",
       "\n",
       "    .colab-df-convert {\n",
       "      background-color: #E8F0FE;\n",
       "      border: none;\n",
       "      border-radius: 50%;\n",
       "      cursor: pointer;\n",
       "      display: none;\n",
       "      fill: #1967D2;\n",
       "      height: 32px;\n",
       "      padding: 0 0 0 0;\n",
       "      width: 32px;\n",
       "    }\n",
       "\n",
       "    .colab-df-convert:hover {\n",
       "      background-color: #E2EBFA;\n",
       "      box-shadow: 0px 1px 2px rgba(60, 64, 67, 0.3), 0px 1px 3px 1px rgba(60, 64, 67, 0.15);\n",
       "      fill: #174EA6;\n",
       "    }\n",
       "\n",
       "    .colab-df-buttons div {\n",
       "      margin-bottom: 4px;\n",
       "    }\n",
       "\n",
       "    [theme=dark] .colab-df-convert {\n",
       "      background-color: #3B4455;\n",
       "      fill: #D2E3FC;\n",
       "    }\n",
       "\n",
       "    [theme=dark] .colab-df-convert:hover {\n",
       "      background-color: #434B5C;\n",
       "      box-shadow: 0px 1px 3px 1px rgba(0, 0, 0, 0.15);\n",
       "      filter: drop-shadow(0px 1px 2px rgba(0, 0, 0, 0.3));\n",
       "      fill: #FFFFFF;\n",
       "    }\n",
       "  </style>\n",
       "\n",
       "    <script>\n",
       "      const buttonEl =\n",
       "        document.querySelector('#df-e2c41eb6-66fd-4596-b8eb-2f8ba8c316e7 button.colab-df-convert');\n",
       "      buttonEl.style.display =\n",
       "        google.colab.kernel.accessAllowed ? 'block' : 'none';\n",
       "\n",
       "      async function convertToInteractive(key) {\n",
       "        const element = document.querySelector('#df-e2c41eb6-66fd-4596-b8eb-2f8ba8c316e7');\n",
       "        const dataTable =\n",
       "          await google.colab.kernel.invokeFunction('convertToInteractive',\n",
       "                                                    [key], {});\n",
       "        if (!dataTable) return;\n",
       "\n",
       "        const docLinkHtml = 'Like what you see? Visit the ' +\n",
       "          '<a target=\"_blank\" href=https://colab.research.google.com/notebooks/data_table.ipynb>data table notebook</a>'\n",
       "          + ' to learn more about interactive tables.';\n",
       "        element.innerHTML = '';\n",
       "        dataTable['output_type'] = 'display_data';\n",
       "        await google.colab.output.renderOutput(dataTable, element);\n",
       "        const docLink = document.createElement('div');\n",
       "        docLink.innerHTML = docLinkHtml;\n",
       "        element.appendChild(docLink);\n",
       "      }\n",
       "    </script>\n",
       "  </div>\n",
       "\n",
       "\n",
       "<div id=\"df-c30cf3ba-508f-44f8-8223-66640d21ace3\">\n",
       "  <button class=\"colab-df-quickchart\" onclick=\"quickchart('df-c30cf3ba-508f-44f8-8223-66640d21ace3')\"\n",
       "            title=\"Suggest charts\"\n",
       "            style=\"display:none;\">\n",
       "\n",
       "<svg xmlns=\"http://www.w3.org/2000/svg\" height=\"24px\"viewBox=\"0 0 24 24\"\n",
       "     width=\"24px\">\n",
       "    <g>\n",
       "        <path d=\"M19 3H5c-1.1 0-2 .9-2 2v14c0 1.1.9 2 2 2h14c1.1 0 2-.9 2-2V5c0-1.1-.9-2-2-2zM9 17H7v-7h2v7zm4 0h-2V7h2v10zm4 0h-2v-4h2v4z\"/>\n",
       "    </g>\n",
       "</svg>\n",
       "  </button>\n",
       "\n",
       "<style>\n",
       "  .colab-df-quickchart {\n",
       "      --bg-color: #E8F0FE;\n",
       "      --fill-color: #1967D2;\n",
       "      --hover-bg-color: #E2EBFA;\n",
       "      --hover-fill-color: #174EA6;\n",
       "      --disabled-fill-color: #AAA;\n",
       "      --disabled-bg-color: #DDD;\n",
       "  }\n",
       "\n",
       "  [theme=dark] .colab-df-quickchart {\n",
       "      --bg-color: #3B4455;\n",
       "      --fill-color: #D2E3FC;\n",
       "      --hover-bg-color: #434B5C;\n",
       "      --hover-fill-color: #FFFFFF;\n",
       "      --disabled-bg-color: #3B4455;\n",
       "      --disabled-fill-color: #666;\n",
       "  }\n",
       "\n",
       "  .colab-df-quickchart {\n",
       "    background-color: var(--bg-color);\n",
       "    border: none;\n",
       "    border-radius: 50%;\n",
       "    cursor: pointer;\n",
       "    display: none;\n",
       "    fill: var(--fill-color);\n",
       "    height: 32px;\n",
       "    padding: 0;\n",
       "    width: 32px;\n",
       "  }\n",
       "\n",
       "  .colab-df-quickchart:hover {\n",
       "    background-color: var(--hover-bg-color);\n",
       "    box-shadow: 0 1px 2px rgba(60, 64, 67, 0.3), 0 1px 3px 1px rgba(60, 64, 67, 0.15);\n",
       "    fill: var(--button-hover-fill-color);\n",
       "  }\n",
       "\n",
       "  .colab-df-quickchart-complete:disabled,\n",
       "  .colab-df-quickchart-complete:disabled:hover {\n",
       "    background-color: var(--disabled-bg-color);\n",
       "    fill: var(--disabled-fill-color);\n",
       "    box-shadow: none;\n",
       "  }\n",
       "\n",
       "  .colab-df-spinner {\n",
       "    border: 2px solid var(--fill-color);\n",
       "    border-color: transparent;\n",
       "    border-bottom-color: var(--fill-color);\n",
       "    animation:\n",
       "      spin 1s steps(1) infinite;\n",
       "  }\n",
       "\n",
       "  @keyframes spin {\n",
       "    0% {\n",
       "      border-color: transparent;\n",
       "      border-bottom-color: var(--fill-color);\n",
       "      border-left-color: var(--fill-color);\n",
       "    }\n",
       "    20% {\n",
       "      border-color: transparent;\n",
       "      border-left-color: var(--fill-color);\n",
       "      border-top-color: var(--fill-color);\n",
       "    }\n",
       "    30% {\n",
       "      border-color: transparent;\n",
       "      border-left-color: var(--fill-color);\n",
       "      border-top-color: var(--fill-color);\n",
       "      border-right-color: var(--fill-color);\n",
       "    }\n",
       "    40% {\n",
       "      border-color: transparent;\n",
       "      border-right-color: var(--fill-color);\n",
       "      border-top-color: var(--fill-color);\n",
       "    }\n",
       "    60% {\n",
       "      border-color: transparent;\n",
       "      border-right-color: var(--fill-color);\n",
       "    }\n",
       "    80% {\n",
       "      border-color: transparent;\n",
       "      border-right-color: var(--fill-color);\n",
       "      border-bottom-color: var(--fill-color);\n",
       "    }\n",
       "    90% {\n",
       "      border-color: transparent;\n",
       "      border-bottom-color: var(--fill-color);\n",
       "    }\n",
       "  }\n",
       "</style>\n",
       "\n",
       "  <script>\n",
       "    async function quickchart(key) {\n",
       "      const quickchartButtonEl =\n",
       "        document.querySelector('#' + key + ' button');\n",
       "      quickchartButtonEl.disabled = true;  // To prevent multiple clicks.\n",
       "      quickchartButtonEl.classList.add('colab-df-spinner');\n",
       "      try {\n",
       "        const charts = await google.colab.kernel.invokeFunction(\n",
       "            'suggestCharts', [key], {});\n",
       "      } catch (error) {\n",
       "        console.error('Error during call to suggestCharts:', error);\n",
       "      }\n",
       "      quickchartButtonEl.classList.remove('colab-df-spinner');\n",
       "      quickchartButtonEl.classList.add('colab-df-quickchart-complete');\n",
       "    }\n",
       "    (() => {\n",
       "      let quickchartButtonEl =\n",
       "        document.querySelector('#df-c30cf3ba-508f-44f8-8223-66640d21ace3 button');\n",
       "      quickchartButtonEl.style.display =\n",
       "        google.colab.kernel.accessAllowed ? 'block' : 'none';\n",
       "    })();\n",
       "  </script>\n",
       "</div>\n",
       "\n",
       "  <div id=\"id_ab5f51be-35b9-4586-baa7-a6bec8cbb770\">\n",
       "    <style>\n",
       "      .colab-df-generate {\n",
       "        background-color: #E8F0FE;\n",
       "        border: none;\n",
       "        border-radius: 50%;\n",
       "        cursor: pointer;\n",
       "        display: none;\n",
       "        fill: #1967D2;\n",
       "        height: 32px;\n",
       "        padding: 0 0 0 0;\n",
       "        width: 32px;\n",
       "      }\n",
       "\n",
       "      .colab-df-generate:hover {\n",
       "        background-color: #E2EBFA;\n",
       "        box-shadow: 0px 1px 2px rgba(60, 64, 67, 0.3), 0px 1px 3px 1px rgba(60, 64, 67, 0.15);\n",
       "        fill: #174EA6;\n",
       "      }\n",
       "\n",
       "      [theme=dark] .colab-df-generate {\n",
       "        background-color: #3B4455;\n",
       "        fill: #D2E3FC;\n",
       "      }\n",
       "\n",
       "      [theme=dark] .colab-df-generate:hover {\n",
       "        background-color: #434B5C;\n",
       "        box-shadow: 0px 1px 3px 1px rgba(0, 0, 0, 0.15);\n",
       "        filter: drop-shadow(0px 1px 2px rgba(0, 0, 0, 0.3));\n",
       "        fill: #FFFFFF;\n",
       "      }\n",
       "    </style>\n",
       "    <button class=\"colab-df-generate\" onclick=\"generateWithVariable('combined_df')\"\n",
       "            title=\"Generate code using this dataframe.\"\n",
       "            style=\"display:none;\">\n",
       "\n",
       "  <svg xmlns=\"http://www.w3.org/2000/svg\" height=\"24px\"viewBox=\"0 0 24 24\"\n",
       "       width=\"24px\">\n",
       "    <path d=\"M7,19H8.4L18.45,9,17,7.55,7,17.6ZM5,21V16.75L18.45,3.32a2,2,0,0,1,2.83,0l1.4,1.43a1.91,1.91,0,0,1,.58,1.4,1.91,1.91,0,0,1-.58,1.4L9.25,21ZM18.45,9,17,7.55Zm-12,3A5.31,5.31,0,0,0,4.9,8.1,5.31,5.31,0,0,0,1,6.5,5.31,5.31,0,0,0,4.9,4.9,5.31,5.31,0,0,0,6.5,1,5.31,5.31,0,0,0,8.1,4.9,5.31,5.31,0,0,0,12,6.5,5.46,5.46,0,0,0,6.5,12Z\"/>\n",
       "  </svg>\n",
       "    </button>\n",
       "    <script>\n",
       "      (() => {\n",
       "      const buttonEl =\n",
       "        document.querySelector('#id_ab5f51be-35b9-4586-baa7-a6bec8cbb770 button.colab-df-generate');\n",
       "      buttonEl.style.display =\n",
       "        google.colab.kernel.accessAllowed ? 'block' : 'none';\n",
       "\n",
       "      buttonEl.onclick = () => {\n",
       "        google.colab.notebook.generateWithVariable('combined_df');\n",
       "      }\n",
       "      })();\n",
       "    </script>\n",
       "  </div>\n",
       "\n",
       "    </div>\n",
       "  </div>\n"
      ],
      "text/plain": [
       "                   metric value\n",
       "0            overall mean  1.25\n",
       "1  maximum average (2024)  1.58\n",
       "2  minimum average (2018)  1.14\n",
       "3        average for 2017  1.15\n",
       "4        average for 2018  1.14\n",
       "5        average for 2019  1.15\n",
       "6        average for 2023  1.25\n",
       "7        average for 2024  1.58"
      ]
     },
     "execution_count": 47,
     "metadata": {},
     "output_type": "execute_result"
    }
   ],
   "source": [
    "combined_df = pd.DataFrame(combined_stats)\n",
    "combined_df"
   ]
  },
  {
   "cell_type": "markdown",
   "metadata": {
    "id": "nw_QfRQUQ0f5"
   },
   "source": [
    "# **Part 6 Visualize the GeoDataFrame -- Plotly and Folium**"
   ]
  },
  {
   "cell_type": "markdown",
   "metadata": {
    "id": "TcGK0eMJbWQ5"
   },
   "source": [
    "## **Part 6.1 Plotly first pre-post covid**\n",
    "\n",
    "Did not show the pre-view here to save space, but we will add the results to the image folder.\n"
   ]
  },
  {
   "cell_type": "code",
   "execution_count": 8,
   "metadata": {
    "colab": {
     "base_uri": "https://localhost:8080/",
     "height": 542
    },
    "id": "9aKS3R5cQqej",
    "outputId": "f68db8bf-78e2-4816-b93f-94fd5972c323"
   },
   "outputs": [],
   "source": [
    "# scatter map showing eviction counts by bin\n",
    "# a very basic and high-level visualization of each building's annual eviction during the year pre and post covid\n",
    "# the outlines are clear. They are the lighter and orange ones.\n",
    "fig = px.scatter_geo(evictions_pre_post_covid,\n",
    "                     lat='latitude', lon='longitude',\n",
    "                     color='average_year_eviction_count',\n",
    "                     hover_name='bin',\n",
    "                     title=\"Evictions by bin in NYC pre-post\")\n",
    "\n",
    "fig.update_geos(scope='usa', fitbounds=\"locations\")\n",
    "fig.show()"
   ]
  },
  {
   "cell_type": "code",
   "execution_count": 9,
   "metadata": {
    "colab": {
     "base_uri": "https://localhost:8080/",
     "height": 542
    },
    "id": "evm1jvI4ywME",
    "outputId": "ef172b61-a30c-4390-af4f-89258d3f6933"
   },
   "outputs": [],
   "source": [
    "# not let the ones < 5 shown\n",
    "evictions_filtered = evictions_pre_post_covid[evictions_pre_post_covid['average_year_eviction_count'] >= 5]\n",
    "fig = px.scatter_geo(evictions_filtered,\n",
    "                     lat='latitude',\n",
    "                     lon='longitude',\n",
    "                     color='average_year_eviction_count',\n",
    "                     hover_name='bin',\n",
    "                     title=\"Evictions by bin in NYC (5+ Evictions) pre-post\")\n",
    "\n",
    "fig.update_geos(scope='usa', fitbounds=\"locations\")\n",
    "fig.show()"
   ]
  },
  {
   "cell_type": "code",
   "execution_count": 10,
   "metadata": {
    "colab": {
     "base_uri": "https://localhost:8080/",
     "height": 542
    },
    "id": "ua9k_b-Vy6FC",
    "outputId": "3dd72614-a266-4395-f258-14d3b29dc152"
   },
   "outputs": [],
   "source": [
    "# not let the ones < 10 shown\n",
    "evictions_filtered = evictions_pre_post_covid[evictions_pre_post_covid['average_year_eviction_count'] >= 10]\n",
    "fig = px.scatter_geo(evictions_filtered,\n",
    "                     lat='latitude',\n",
    "                     lon='longitude',\n",
    "                     color='average_year_eviction_count',\n",
    "                     hover_name='bin',\n",
    "                     title=\"Evictions by bin in NYC (10+ Evictions) pre-post\")\n",
    "\n",
    "fig.update_geos(scope='usa', fitbounds=\"locations\")\n",
    "fig.show()"
   ]
  },
  {
   "cell_type": "code",
   "execution_count": 51,
   "metadata": {
    "id": "az4PnjNwWEAh"
   },
   "outputs": [],
   "source": [
    "# # in case the graph does not load, it is as shown below\n",
    "# # it is originally an interactive graph where if you point to a building, you get the bin id, laititude, longitude, and\n",
    "# # the annual eviction counts\n",
    "# from google.colab import files\n",
    "# from IPython.display import Image\n",
    "# uploaded = files.upload()\n",
    "# Image(filename='plotly_image.png')"
   ]
  },
  {
   "cell_type": "code",
   "execution_count": 52,
   "metadata": {
    "id": "vqIQbP2mR3Ud"
   },
   "outputs": [],
   "source": [
    "# # save as an interactive HTML file\n",
    "# pio.write_html(fig, file='evictions_map.html', auto_open=False)"
   ]
  },
  {
   "cell_type": "markdown",
   "metadata": {
    "id": "eV_9b-aRrdg0"
   },
   "source": [
    "#### Short summaries:  \n",
    "- During covid, buildings with high evictions were drastically fewer than normal times. And the buildings with high evictions were consistent with the normal times'.[link text](https://)\n"
   ]
  },
  {
   "cell_type": "markdown",
   "metadata": {
    "id": "mRoEwLlhbhKV"
   },
   "source": [
    "## **Part 6.2 Folium pre-post covid**"
   ]
  },
  {
   "cell_type": "code",
   "execution_count": 11,
   "metadata": {
    "colab": {
     "base_uri": "https://localhost:8080/",
     "height": 729
    },
    "id": "TqCXDCRIRjmk",
    "outputId": "9ebc57e5-cd27-4737-a173-b0412bd2a545"
   },
   "outputs": [],
   "source": [
    "# use folium heatmap to show the data in a better visualization\n",
    "nyc_map = folium.Map(location=[40.7128, -74.0060], zoom_start=11)\n",
    "title_html = '''\n",
    "             <div style=\"position: fixed;\n",
    "                         top: 10px;\n",
    "                         left: 50%;\n",
    "                         transform: translateX(-50%);\n",
    "                         z-index: 1000;\n",
    "                         background-color: white;\n",
    "                         padding: 10px;\n",
    "                         border-radius: 5px;\n",
    "                         border: 2px solid grey;\n",
    "                         font-size: 16px;\n",
    "                         font-weight: bold;\">\n",
    "                 NYC Evictions Heatmap pre post covid (all buildings with evictions per building)\n",
    "             </div>\n",
    "             '''\n",
    "nyc_map.get_root().html.add_child(folium.Element(title_html))\n",
    "heat_data = [[row['latitude'], row['longitude'], row['average_year_eviction_count']] for index, row in evictions_pre_post_covid.iterrows()]\n",
    "HeatMap(heat_data, radius=10).add_to(nyc_map)\n",
    "\n",
    "nyc_map"
   ]
  },
  {
   "cell_type": "code",
   "execution_count": 12,
   "metadata": {
    "colab": {
     "base_uri": "https://localhost:8080/",
     "height": 729
    },
    "id": "ipjRhDZqzWdo",
    "outputId": "275d5dfb-3930-49ad-8925-14c65a488e56"
   },
   "outputs": [],
   "source": [
    "# not let the ones < 5 shown\n",
    "evictions_filtered = evictions_pre_post_covid[evictions_pre_post_covid['average_year_eviction_count'] >= 5]\n",
    "\n",
    "nyc_map = folium.Map(location=[40.7128, -74.0060], zoom_start=11)\n",
    "# html\n",
    "title_html = '''\n",
    "             <div style=\"position: fixed;\n",
    "                         top: 10px;\n",
    "                         left: 50%;\n",
    "                         transform: translateX(-50%);\n",
    "                         z-index: 1000;\n",
    "                         background-color: white;\n",
    "                         padding: 10px;\n",
    "                         border-radius: 5px;\n",
    "                         border: 2px solid grey;\n",
    "                         font-size: 16px;\n",
    "                         font-weight: bold;\">\n",
    "                 NYC Evictions Heatmap pre post covid (5+ Evictions per building)\n",
    "             </div>\n",
    "             '''\n",
    "nyc_map.get_root().html.add_child(folium.Element(title_html))\n",
    "heat_data = [[row['latitude'], row['longitude'], row['average_year_eviction_count']]\n",
    "             for index, row in evictions_filtered.iterrows()]\n",
    "\n",
    "HeatMap(heat_data, radius=10).add_to(nyc_map)\n",
    "\n",
    "nyc_map"
   ]
  },
  {
   "cell_type": "code",
   "execution_count": 13,
   "metadata": {
    "colab": {
     "base_uri": "https://localhost:8080/",
     "height": 729
    },
    "id": "zm9Ord-rzhCe",
    "outputId": "20fc7f30-7014-4e54-99ee-129190d7861e"
   },
   "outputs": [],
   "source": [
    "# not let the ones < 10 shown\n",
    "evictions_filtered = evictions_pre_post_covid[evictions_pre_post_covid['average_year_eviction_count'] >= 10]\n",
    "\n",
    "nyc_map = folium.Map(location=[40.7128, -74.0060], zoom_start=11)\n",
    "# HTML\n",
    "title_html = '''\n",
    "             <div style=\"position: fixed;\n",
    "                         top: 10px;\n",
    "                         left: 50%;\n",
    "                         transform: translateX(-50%);\n",
    "                         z-index: 1000;\n",
    "                         background-color: white;\n",
    "                         padding: 10px;\n",
    "                         border-radius: 5px;\n",
    "                         border: 2px solid grey;\n",
    "                         font-size: 16px;\n",
    "                         font-weight: bold;\">\n",
    "                 NYC Evictions Heatmap pre post covid (10+ Evictions per building)\n",
    "             </div>\n",
    "             '''\n",
    "nyc_map.get_root().html.add_child(folium.Element(title_html))\n",
    "\n",
    "heat_data = [[row['latitude'], row['longitude'], row['average_year_eviction_count']]\n",
    "             for index, row in evictions_filtered.iterrows()]\n",
    "\n",
    "HeatMap(heat_data, radius=10).add_to(nyc_map)\n",
    "\n",
    "nyc_map"
   ]
  },
  {
   "cell_type": "code",
   "execution_count": 56,
   "metadata": {
    "id": "NAn7l4_SLDRm"
   },
   "outputs": [],
   "source": [
    "# # in case it does not load, it is as shown below\n",
    "# from google.colab import files\n",
    "# from IPython.display import Image\n",
    "# uploaded = files.upload()\n",
    "# Image(filename='heat_map.png')"
   ]
  },
  {
   "cell_type": "code",
   "execution_count": 56,
   "metadata": {
    "id": "qDyVKTDgGB5H"
   },
   "outputs": [],
   "source": []
  },
  {
   "cell_type": "markdown",
   "metadata": {
    "id": "6pVa64AEbmug"
   },
   "source": [
    "#### Short summaries:\n",
    "- Based on the analysis of NYC eviction data in two periods (covid in another file), there's a clear distinction between eviction patterns during and outside of the covid period. In the pre/post covid years (2017-2019, 2023-2024), evictions had a higher rate, with more buildings affected and a much higher average number of evictions per building (0.3 vs 1.24 on average per building, per year). During the Covid period (2020-2022), there was a significant decrease in eviction activity, likely due to eviction moratoriums and other protective measures implemented during the pandemic, and a decrease in rents with many residents fleeing NYC. This is interesting, as it is consistent with the phenomenon that lower rents environment overall actually encourages evictions.\n",
    "\n",
    "- In both periods, the majority of buildings experienced just one eviction per year, suggesting that most landlords use eviction as an occasional rather than frequent measure. However, there were some properties with notably higher eviction counts, particularly in the normal years. These concentrated areas also tend to be the regular buildings and neighborhoods who show persistent behaviors over the years.\n",
    "\n",
    "- Foliums shows clear geo relationships with the NYC background. Plotly shows the drastic change with less background distractions.\n",
    "\n",
    "- TBC"
   ]
  },
  {
   "cell_type": "markdown",
   "metadata": {
    "id": "i7orsH2dS1JI"
   },
   "source": [
    "# **Part 7 Buildings with high evictions in normal times**"
   ]
  },
  {
   "cell_type": "code",
   "execution_count": 57,
   "metadata": {
    "id": "59MkyPHzY0h5"
   },
   "outputs": [],
   "source": [
    "# evictions_cleaned.columns\n",
    "## didn't change"
   ]
  },
  {
   "cell_type": "code",
   "execution_count": 58,
   "metadata": {
    "colab": {
     "base_uri": "https://localhost:8080/"
    },
    "id": "mDEbHHaVlIr1",
    "outputId": "691dce1e-0eb2-4a20-85de-46413b0e60d4"
   },
   "outputs": [
    {
     "data": {
      "text/plain": [
       "(36029, 5326)"
      ]
     },
     "execution_count": 58,
     "metadata": {},
     "output_type": "execute_result"
    }
   ],
   "source": [
    "len(evictions_pre_post_covid.bin.unique()), \\\n",
    "len(evictions_covid.bin.unique())"
   ]
  },
  {
   "cell_type": "code",
   "execution_count": 59,
   "metadata": {
    "colab": {
     "base_uri": "https://localhost:8080/"
    },
    "id": "qsviAP5suOUB",
    "outputId": "6445d2fb-bc97-464b-9f61-4d66afab2982"
   },
   "outputs": [
    {
     "data": {
      "text/plain": [
       "dtype('int64')"
      ]
     },
     "execution_count": 59,
     "metadata": {},
     "output_type": "execute_result"
    }
   ],
   "source": [
    "evictions_pre_post_covid.bin.dtype"
   ]
  },
  {
   "cell_type": "code",
   "execution_count": 60,
   "metadata": {
    "colab": {
     "base_uri": "https://localhost:8080/"
    },
    "id": "17KBAk-Yk7iu",
    "outputId": "854689ee-0f9a-4841-863f-8417bcf12a41"
   },
   "outputs": [
    {
     "data": {
      "text/plain": [
       "(36029, 1)"
      ]
     },
     "execution_count": 60,
     "metadata": {},
     "output_type": "execute_result"
    }
   ],
   "source": [
    "# sort by eviction_count and extract the top 10 records based on the average_year_eviction_count column\n",
    "top_bins_pre_post = evictions_pre_post_covid[['bin', 'average_year_eviction_count']].groupby('bin').mean().sort_values(by='average_year_eviction_count', ascending=False)\n",
    "top_bins_pre_post.shape"
   ]
  },
  {
   "cell_type": "code",
   "execution_count": 61,
   "metadata": {
    "colab": {
     "base_uri": "https://localhost:8080/",
     "height": 708
    },
    "id": "QUE_1vCn7ZWn",
    "outputId": "90c0ded9-32d1-4258-ff27-635caa5825af"
   },
   "outputs": [
    {
     "data": {
      "application/vnd.google.colaboratory.intrinsic+json": {
       "summary": "{\n  \"name\": \"top_bins_pre_post\",\n  \"rows\": 36029,\n  \"fields\": [\n    {\n      \"column\": \"bin\",\n      \"properties\": {\n        \"dtype\": \"number\",\n        \"std\": 1171402,\n        \"min\": 1000000,\n        \"max\": 5171959,\n        \"num_unique_values\": 36029,\n        \"samples\": [\n          5001077,\n          3105124,\n          4196698\n        ],\n        \"semantic_type\": \"\",\n        \"description\": \"\"\n      }\n    },\n    {\n      \"column\": \"average_year_eviction_count\",\n      \"properties\": {\n        \"dtype\": \"number\",\n        \"std\": 0.58905987277713,\n        \"min\": 0.2,\n        \"max\": 35.6,\n        \"num_unique_values\": 48,\n        \"samples\": [\n          4.2,\n          1.6,\n          4.4\n        ],\n        \"semantic_type\": \"\",\n        \"description\": \"\"\n      }\n    }\n  ]\n}",
       "type": "dataframe",
       "variable_name": "top_bins_pre_post"
      },
      "text/html": [
       "\n",
       "  <div id=\"df-addf634b-98db-457d-a2cd-11a532e310fb\" class=\"colab-df-container\">\n",
       "    <div>\n",
       "<style scoped>\n",
       "    .dataframe tbody tr th:only-of-type {\n",
       "        vertical-align: middle;\n",
       "    }\n",
       "\n",
       "    .dataframe tbody tr th {\n",
       "        vertical-align: top;\n",
       "    }\n",
       "\n",
       "    .dataframe thead th {\n",
       "        text-align: right;\n",
       "    }\n",
       "</style>\n",
       "<table border=\"1\" class=\"dataframe\">\n",
       "  <thead>\n",
       "    <tr style=\"text-align: right;\">\n",
       "      <th></th>\n",
       "      <th>average_year_eviction_count</th>\n",
       "    </tr>\n",
       "    <tr>\n",
       "      <th>bin</th>\n",
       "      <th></th>\n",
       "    </tr>\n",
       "  </thead>\n",
       "  <tbody>\n",
       "    <tr>\n",
       "      <th>3000000</th>\n",
       "      <td>35.6</td>\n",
       "    </tr>\n",
       "    <tr>\n",
       "      <th>2000000</th>\n",
       "      <td>27.8</td>\n",
       "    </tr>\n",
       "    <tr>\n",
       "      <th>4298968</th>\n",
       "      <td>20.6</td>\n",
       "    </tr>\n",
       "    <tr>\n",
       "      <th>4000000</th>\n",
       "      <td>17.8</td>\n",
       "    </tr>\n",
       "    <tr>\n",
       "      <th>2127134</th>\n",
       "      <td>14.8</td>\n",
       "    </tr>\n",
       "    <tr>\n",
       "      <th>1000000</th>\n",
       "      <td>13.8</td>\n",
       "    </tr>\n",
       "    <tr>\n",
       "      <th>2113629</th>\n",
       "      <td>13.4</td>\n",
       "    </tr>\n",
       "    <tr>\n",
       "      <th>3326600</th>\n",
       "      <td>13.2</td>\n",
       "    </tr>\n",
       "    <tr>\n",
       "      <th>2093973</th>\n",
       "      <td>12.2</td>\n",
       "    </tr>\n",
       "    <tr>\n",
       "      <th>1089438</th>\n",
       "      <td>11.4</td>\n",
       "    </tr>\n",
       "    <tr>\n",
       "      <th>3253907</th>\n",
       "      <td>9.8</td>\n",
       "    </tr>\n",
       "    <tr>\n",
       "      <th>2113628</th>\n",
       "      <td>9.6</td>\n",
       "    </tr>\n",
       "    <tr>\n",
       "      <th>2004223</th>\n",
       "      <td>9.4</td>\n",
       "    </tr>\n",
       "    <tr>\n",
       "      <th>4047324</th>\n",
       "      <td>7.4</td>\n",
       "    </tr>\n",
       "    <tr>\n",
       "      <th>2013027</th>\n",
       "      <td>7.4</td>\n",
       "    </tr>\n",
       "    <tr>\n",
       "      <th>2057437</th>\n",
       "      <td>7.2</td>\n",
       "    </tr>\n",
       "    <tr>\n",
       "      <th>2007988</th>\n",
       "      <td>6.8</td>\n",
       "    </tr>\n",
       "    <tr>\n",
       "      <th>3323062</th>\n",
       "      <td>6.8</td>\n",
       "    </tr>\n",
       "    <tr>\n",
       "      <th>3189540</th>\n",
       "      <td>6.8</td>\n",
       "    </tr>\n",
       "    <tr>\n",
       "      <th>2093451</th>\n",
       "      <td>6.8</td>\n",
       "    </tr>\n",
       "  </tbody>\n",
       "</table>\n",
       "</div>\n",
       "    <div class=\"colab-df-buttons\">\n",
       "\n",
       "  <div class=\"colab-df-container\">\n",
       "    <button class=\"colab-df-convert\" onclick=\"convertToInteractive('df-addf634b-98db-457d-a2cd-11a532e310fb')\"\n",
       "            title=\"Convert this dataframe to an interactive table.\"\n",
       "            style=\"display:none;\">\n",
       "\n",
       "  <svg xmlns=\"http://www.w3.org/2000/svg\" height=\"24px\" viewBox=\"0 -960 960 960\">\n",
       "    <path d=\"M120-120v-720h720v720H120Zm60-500h600v-160H180v160Zm220 220h160v-160H400v160Zm0 220h160v-160H400v160ZM180-400h160v-160H180v160Zm440 0h160v-160H620v160ZM180-180h160v-160H180v160Zm440 0h160v-160H620v160Z\"/>\n",
       "  </svg>\n",
       "    </button>\n",
       "\n",
       "  <style>\n",
       "    .colab-df-container {\n",
       "      display:flex;\n",
       "      gap: 12px;\n",
       "    }\n",
       "\n",
       "    .colab-df-convert {\n",
       "      background-color: #E8F0FE;\n",
       "      border: none;\n",
       "      border-radius: 50%;\n",
       "      cursor: pointer;\n",
       "      display: none;\n",
       "      fill: #1967D2;\n",
       "      height: 32px;\n",
       "      padding: 0 0 0 0;\n",
       "      width: 32px;\n",
       "    }\n",
       "\n",
       "    .colab-df-convert:hover {\n",
       "      background-color: #E2EBFA;\n",
       "      box-shadow: 0px 1px 2px rgba(60, 64, 67, 0.3), 0px 1px 3px 1px rgba(60, 64, 67, 0.15);\n",
       "      fill: #174EA6;\n",
       "    }\n",
       "\n",
       "    .colab-df-buttons div {\n",
       "      margin-bottom: 4px;\n",
       "    }\n",
       "\n",
       "    [theme=dark] .colab-df-convert {\n",
       "      background-color: #3B4455;\n",
       "      fill: #D2E3FC;\n",
       "    }\n",
       "\n",
       "    [theme=dark] .colab-df-convert:hover {\n",
       "      background-color: #434B5C;\n",
       "      box-shadow: 0px 1px 3px 1px rgba(0, 0, 0, 0.15);\n",
       "      filter: drop-shadow(0px 1px 2px rgba(0, 0, 0, 0.3));\n",
       "      fill: #FFFFFF;\n",
       "    }\n",
       "  </style>\n",
       "\n",
       "    <script>\n",
       "      const buttonEl =\n",
       "        document.querySelector('#df-addf634b-98db-457d-a2cd-11a532e310fb button.colab-df-convert');\n",
       "      buttonEl.style.display =\n",
       "        google.colab.kernel.accessAllowed ? 'block' : 'none';\n",
       "\n",
       "      async function convertToInteractive(key) {\n",
       "        const element = document.querySelector('#df-addf634b-98db-457d-a2cd-11a532e310fb');\n",
       "        const dataTable =\n",
       "          await google.colab.kernel.invokeFunction('convertToInteractive',\n",
       "                                                    [key], {});\n",
       "        if (!dataTable) return;\n",
       "\n",
       "        const docLinkHtml = 'Like what you see? Visit the ' +\n",
       "          '<a target=\"_blank\" href=https://colab.research.google.com/notebooks/data_table.ipynb>data table notebook</a>'\n",
       "          + ' to learn more about interactive tables.';\n",
       "        element.innerHTML = '';\n",
       "        dataTable['output_type'] = 'display_data';\n",
       "        await google.colab.output.renderOutput(dataTable, element);\n",
       "        const docLink = document.createElement('div');\n",
       "        docLink.innerHTML = docLinkHtml;\n",
       "        element.appendChild(docLink);\n",
       "      }\n",
       "    </script>\n",
       "  </div>\n",
       "\n",
       "\n",
       "<div id=\"df-eb613346-bb69-4cf1-a785-58e560043930\">\n",
       "  <button class=\"colab-df-quickchart\" onclick=\"quickchart('df-eb613346-bb69-4cf1-a785-58e560043930')\"\n",
       "            title=\"Suggest charts\"\n",
       "            style=\"display:none;\">\n",
       "\n",
       "<svg xmlns=\"http://www.w3.org/2000/svg\" height=\"24px\"viewBox=\"0 0 24 24\"\n",
       "     width=\"24px\">\n",
       "    <g>\n",
       "        <path d=\"M19 3H5c-1.1 0-2 .9-2 2v14c0 1.1.9 2 2 2h14c1.1 0 2-.9 2-2V5c0-1.1-.9-2-2-2zM9 17H7v-7h2v7zm4 0h-2V7h2v10zm4 0h-2v-4h2v4z\"/>\n",
       "    </g>\n",
       "</svg>\n",
       "  </button>\n",
       "\n",
       "<style>\n",
       "  .colab-df-quickchart {\n",
       "      --bg-color: #E8F0FE;\n",
       "      --fill-color: #1967D2;\n",
       "      --hover-bg-color: #E2EBFA;\n",
       "      --hover-fill-color: #174EA6;\n",
       "      --disabled-fill-color: #AAA;\n",
       "      --disabled-bg-color: #DDD;\n",
       "  }\n",
       "\n",
       "  [theme=dark] .colab-df-quickchart {\n",
       "      --bg-color: #3B4455;\n",
       "      --fill-color: #D2E3FC;\n",
       "      --hover-bg-color: #434B5C;\n",
       "      --hover-fill-color: #FFFFFF;\n",
       "      --disabled-bg-color: #3B4455;\n",
       "      --disabled-fill-color: #666;\n",
       "  }\n",
       "\n",
       "  .colab-df-quickchart {\n",
       "    background-color: var(--bg-color);\n",
       "    border: none;\n",
       "    border-radius: 50%;\n",
       "    cursor: pointer;\n",
       "    display: none;\n",
       "    fill: var(--fill-color);\n",
       "    height: 32px;\n",
       "    padding: 0;\n",
       "    width: 32px;\n",
       "  }\n",
       "\n",
       "  .colab-df-quickchart:hover {\n",
       "    background-color: var(--hover-bg-color);\n",
       "    box-shadow: 0 1px 2px rgba(60, 64, 67, 0.3), 0 1px 3px 1px rgba(60, 64, 67, 0.15);\n",
       "    fill: var(--button-hover-fill-color);\n",
       "  }\n",
       "\n",
       "  .colab-df-quickchart-complete:disabled,\n",
       "  .colab-df-quickchart-complete:disabled:hover {\n",
       "    background-color: var(--disabled-bg-color);\n",
       "    fill: var(--disabled-fill-color);\n",
       "    box-shadow: none;\n",
       "  }\n",
       "\n",
       "  .colab-df-spinner {\n",
       "    border: 2px solid var(--fill-color);\n",
       "    border-color: transparent;\n",
       "    border-bottom-color: var(--fill-color);\n",
       "    animation:\n",
       "      spin 1s steps(1) infinite;\n",
       "  }\n",
       "\n",
       "  @keyframes spin {\n",
       "    0% {\n",
       "      border-color: transparent;\n",
       "      border-bottom-color: var(--fill-color);\n",
       "      border-left-color: var(--fill-color);\n",
       "    }\n",
       "    20% {\n",
       "      border-color: transparent;\n",
       "      border-left-color: var(--fill-color);\n",
       "      border-top-color: var(--fill-color);\n",
       "    }\n",
       "    30% {\n",
       "      border-color: transparent;\n",
       "      border-left-color: var(--fill-color);\n",
       "      border-top-color: var(--fill-color);\n",
       "      border-right-color: var(--fill-color);\n",
       "    }\n",
       "    40% {\n",
       "      border-color: transparent;\n",
       "      border-right-color: var(--fill-color);\n",
       "      border-top-color: var(--fill-color);\n",
       "    }\n",
       "    60% {\n",
       "      border-color: transparent;\n",
       "      border-right-color: var(--fill-color);\n",
       "    }\n",
       "    80% {\n",
       "      border-color: transparent;\n",
       "      border-right-color: var(--fill-color);\n",
       "      border-bottom-color: var(--fill-color);\n",
       "    }\n",
       "    90% {\n",
       "      border-color: transparent;\n",
       "      border-bottom-color: var(--fill-color);\n",
       "    }\n",
       "  }\n",
       "</style>\n",
       "\n",
       "  <script>\n",
       "    async function quickchart(key) {\n",
       "      const quickchartButtonEl =\n",
       "        document.querySelector('#' + key + ' button');\n",
       "      quickchartButtonEl.disabled = true;  // To prevent multiple clicks.\n",
       "      quickchartButtonEl.classList.add('colab-df-spinner');\n",
       "      try {\n",
       "        const charts = await google.colab.kernel.invokeFunction(\n",
       "            'suggestCharts', [key], {});\n",
       "      } catch (error) {\n",
       "        console.error('Error during call to suggestCharts:', error);\n",
       "      }\n",
       "      quickchartButtonEl.classList.remove('colab-df-spinner');\n",
       "      quickchartButtonEl.classList.add('colab-df-quickchart-complete');\n",
       "    }\n",
       "    (() => {\n",
       "      let quickchartButtonEl =\n",
       "        document.querySelector('#df-eb613346-bb69-4cf1-a785-58e560043930 button');\n",
       "      quickchartButtonEl.style.display =\n",
       "        google.colab.kernel.accessAllowed ? 'block' : 'none';\n",
       "    })();\n",
       "  </script>\n",
       "</div>\n",
       "\n",
       "    </div>\n",
       "  </div>\n"
      ],
      "text/plain": [
       "         average_year_eviction_count\n",
       "bin                                 \n",
       "3000000                         35.6\n",
       "2000000                         27.8\n",
       "4298968                         20.6\n",
       "4000000                         17.8\n",
       "2127134                         14.8\n",
       "1000000                         13.8\n",
       "2113629                         13.4\n",
       "3326600                         13.2\n",
       "2093973                         12.2\n",
       "1089438                         11.4\n",
       "3253907                          9.8\n",
       "2113628                          9.6\n",
       "2004223                          9.4\n",
       "4047324                          7.4\n",
       "2013027                          7.4\n",
       "2057437                          7.2\n",
       "2007988                          6.8\n",
       "3323062                          6.8\n",
       "3189540                          6.8\n",
       "2093451                          6.8"
      ]
     },
     "execution_count": 61,
     "metadata": {},
     "output_type": "execute_result"
    }
   ],
   "source": [
    "top_bins_pre_post.head(20)"
   ]
  },
  {
   "cell_type": "code",
   "execution_count": 62,
   "metadata": {
    "colab": {
     "base_uri": "https://localhost:8080/"
    },
    "id": "n3XaF2VrlNaI",
    "outputId": "121b6bfb-ab66-4b07-8162-9bb1d7213928"
   },
   "outputs": [
    {
     "data": {
      "text/plain": [
       "(10, 1)"
      ]
     },
     "execution_count": 62,
     "metadata": {},
     "output_type": "execute_result"
    }
   ],
   "source": [
    "bins_over_10_evictions = top_bins_pre_post[top_bins_pre_post['average_year_eviction_count'] > 10]\n",
    "bins_over_10_evictions.shape\n",
    "# 18 buildings have eviction counts larger than 10 per year on average"
   ]
  },
  {
   "cell_type": "code",
   "execution_count": 63,
   "metadata": {
    "colab": {
     "base_uri": "https://localhost:8080/",
     "height": 394
    },
    "id": "J_gGrkcWIFrY",
    "outputId": "bc5c1ac9-939a-4bba-83fb-08d27c2c54f1"
   },
   "outputs": [
    {
     "data": {
      "application/vnd.google.colaboratory.intrinsic+json": {
       "summary": "{\n  \"name\": \"bins_over_10_evictions\",\n  \"rows\": 10,\n  \"fields\": [\n    {\n      \"column\": \"bin\",\n      \"properties\": {\n        \"dtype\": \"number\",\n        \"std\": 1123593,\n        \"min\": 1000000,\n        \"max\": 4298968,\n        \"num_unique_values\": 10,\n        \"samples\": [\n          2093973,\n          2000000,\n          1000000\n        ],\n        \"semantic_type\": \"\",\n        \"description\": \"\"\n      }\n    },\n    {\n      \"column\": \"average_year_eviction_count\",\n      \"properties\": {\n        \"dtype\": \"number\",\n        \"std\": 7.901082907495094,\n        \"min\": 11.4,\n        \"max\": 35.6,\n        \"num_unique_values\": 10,\n        \"samples\": [\n          12.2,\n          27.8,\n          13.8\n        ],\n        \"semantic_type\": \"\",\n        \"description\": \"\"\n      }\n    }\n  ]\n}",
       "type": "dataframe",
       "variable_name": "bins_over_10_evictions"
      },
      "text/html": [
       "\n",
       "  <div id=\"df-e382ce48-e9ec-4fd7-b945-1744eca540cd\" class=\"colab-df-container\">\n",
       "    <div>\n",
       "<style scoped>\n",
       "    .dataframe tbody tr th:only-of-type {\n",
       "        vertical-align: middle;\n",
       "    }\n",
       "\n",
       "    .dataframe tbody tr th {\n",
       "        vertical-align: top;\n",
       "    }\n",
       "\n",
       "    .dataframe thead th {\n",
       "        text-align: right;\n",
       "    }\n",
       "</style>\n",
       "<table border=\"1\" class=\"dataframe\">\n",
       "  <thead>\n",
       "    <tr style=\"text-align: right;\">\n",
       "      <th></th>\n",
       "      <th>average_year_eviction_count</th>\n",
       "    </tr>\n",
       "    <tr>\n",
       "      <th>bin</th>\n",
       "      <th></th>\n",
       "    </tr>\n",
       "  </thead>\n",
       "  <tbody>\n",
       "    <tr>\n",
       "      <th>3000000</th>\n",
       "      <td>35.6</td>\n",
       "    </tr>\n",
       "    <tr>\n",
       "      <th>2000000</th>\n",
       "      <td>27.8</td>\n",
       "    </tr>\n",
       "    <tr>\n",
       "      <th>4298968</th>\n",
       "      <td>20.6</td>\n",
       "    </tr>\n",
       "    <tr>\n",
       "      <th>4000000</th>\n",
       "      <td>17.8</td>\n",
       "    </tr>\n",
       "    <tr>\n",
       "      <th>2127134</th>\n",
       "      <td>14.8</td>\n",
       "    </tr>\n",
       "    <tr>\n",
       "      <th>1000000</th>\n",
       "      <td>13.8</td>\n",
       "    </tr>\n",
       "    <tr>\n",
       "      <th>2113629</th>\n",
       "      <td>13.4</td>\n",
       "    </tr>\n",
       "    <tr>\n",
       "      <th>3326600</th>\n",
       "      <td>13.2</td>\n",
       "    </tr>\n",
       "    <tr>\n",
       "      <th>2093973</th>\n",
       "      <td>12.2</td>\n",
       "    </tr>\n",
       "    <tr>\n",
       "      <th>1089438</th>\n",
       "      <td>11.4</td>\n",
       "    </tr>\n",
       "  </tbody>\n",
       "</table>\n",
       "</div>\n",
       "    <div class=\"colab-df-buttons\">\n",
       "\n",
       "  <div class=\"colab-df-container\">\n",
       "    <button class=\"colab-df-convert\" onclick=\"convertToInteractive('df-e382ce48-e9ec-4fd7-b945-1744eca540cd')\"\n",
       "            title=\"Convert this dataframe to an interactive table.\"\n",
       "            style=\"display:none;\">\n",
       "\n",
       "  <svg xmlns=\"http://www.w3.org/2000/svg\" height=\"24px\" viewBox=\"0 -960 960 960\">\n",
       "    <path d=\"M120-120v-720h720v720H120Zm60-500h600v-160H180v160Zm220 220h160v-160H400v160Zm0 220h160v-160H400v160ZM180-400h160v-160H180v160Zm440 0h160v-160H620v160ZM180-180h160v-160H180v160Zm440 0h160v-160H620v160Z\"/>\n",
       "  </svg>\n",
       "    </button>\n",
       "\n",
       "  <style>\n",
       "    .colab-df-container {\n",
       "      display:flex;\n",
       "      gap: 12px;\n",
       "    }\n",
       "\n",
       "    .colab-df-convert {\n",
       "      background-color: #E8F0FE;\n",
       "      border: none;\n",
       "      border-radius: 50%;\n",
       "      cursor: pointer;\n",
       "      display: none;\n",
       "      fill: #1967D2;\n",
       "      height: 32px;\n",
       "      padding: 0 0 0 0;\n",
       "      width: 32px;\n",
       "    }\n",
       "\n",
       "    .colab-df-convert:hover {\n",
       "      background-color: #E2EBFA;\n",
       "      box-shadow: 0px 1px 2px rgba(60, 64, 67, 0.3), 0px 1px 3px 1px rgba(60, 64, 67, 0.15);\n",
       "      fill: #174EA6;\n",
       "    }\n",
       "\n",
       "    .colab-df-buttons div {\n",
       "      margin-bottom: 4px;\n",
       "    }\n",
       "\n",
       "    [theme=dark] .colab-df-convert {\n",
       "      background-color: #3B4455;\n",
       "      fill: #D2E3FC;\n",
       "    }\n",
       "\n",
       "    [theme=dark] .colab-df-convert:hover {\n",
       "      background-color: #434B5C;\n",
       "      box-shadow: 0px 1px 3px 1px rgba(0, 0, 0, 0.15);\n",
       "      filter: drop-shadow(0px 1px 2px rgba(0, 0, 0, 0.3));\n",
       "      fill: #FFFFFF;\n",
       "    }\n",
       "  </style>\n",
       "\n",
       "    <script>\n",
       "      const buttonEl =\n",
       "        document.querySelector('#df-e382ce48-e9ec-4fd7-b945-1744eca540cd button.colab-df-convert');\n",
       "      buttonEl.style.display =\n",
       "        google.colab.kernel.accessAllowed ? 'block' : 'none';\n",
       "\n",
       "      async function convertToInteractive(key) {\n",
       "        const element = document.querySelector('#df-e382ce48-e9ec-4fd7-b945-1744eca540cd');\n",
       "        const dataTable =\n",
       "          await google.colab.kernel.invokeFunction('convertToInteractive',\n",
       "                                                    [key], {});\n",
       "        if (!dataTable) return;\n",
       "\n",
       "        const docLinkHtml = 'Like what you see? Visit the ' +\n",
       "          '<a target=\"_blank\" href=https://colab.research.google.com/notebooks/data_table.ipynb>data table notebook</a>'\n",
       "          + ' to learn more about interactive tables.';\n",
       "        element.innerHTML = '';\n",
       "        dataTable['output_type'] = 'display_data';\n",
       "        await google.colab.output.renderOutput(dataTable, element);\n",
       "        const docLink = document.createElement('div');\n",
       "        docLink.innerHTML = docLinkHtml;\n",
       "        element.appendChild(docLink);\n",
       "      }\n",
       "    </script>\n",
       "  </div>\n",
       "\n",
       "\n",
       "<div id=\"df-ada8b461-8f8c-488b-9b1d-09e10c21ea77\">\n",
       "  <button class=\"colab-df-quickchart\" onclick=\"quickchart('df-ada8b461-8f8c-488b-9b1d-09e10c21ea77')\"\n",
       "            title=\"Suggest charts\"\n",
       "            style=\"display:none;\">\n",
       "\n",
       "<svg xmlns=\"http://www.w3.org/2000/svg\" height=\"24px\"viewBox=\"0 0 24 24\"\n",
       "     width=\"24px\">\n",
       "    <g>\n",
       "        <path d=\"M19 3H5c-1.1 0-2 .9-2 2v14c0 1.1.9 2 2 2h14c1.1 0 2-.9 2-2V5c0-1.1-.9-2-2-2zM9 17H7v-7h2v7zm4 0h-2V7h2v10zm4 0h-2v-4h2v4z\"/>\n",
       "    </g>\n",
       "</svg>\n",
       "  </button>\n",
       "\n",
       "<style>\n",
       "  .colab-df-quickchart {\n",
       "      --bg-color: #E8F0FE;\n",
       "      --fill-color: #1967D2;\n",
       "      --hover-bg-color: #E2EBFA;\n",
       "      --hover-fill-color: #174EA6;\n",
       "      --disabled-fill-color: #AAA;\n",
       "      --disabled-bg-color: #DDD;\n",
       "  }\n",
       "\n",
       "  [theme=dark] .colab-df-quickchart {\n",
       "      --bg-color: #3B4455;\n",
       "      --fill-color: #D2E3FC;\n",
       "      --hover-bg-color: #434B5C;\n",
       "      --hover-fill-color: #FFFFFF;\n",
       "      --disabled-bg-color: #3B4455;\n",
       "      --disabled-fill-color: #666;\n",
       "  }\n",
       "\n",
       "  .colab-df-quickchart {\n",
       "    background-color: var(--bg-color);\n",
       "    border: none;\n",
       "    border-radius: 50%;\n",
       "    cursor: pointer;\n",
       "    display: none;\n",
       "    fill: var(--fill-color);\n",
       "    height: 32px;\n",
       "    padding: 0;\n",
       "    width: 32px;\n",
       "  }\n",
       "\n",
       "  .colab-df-quickchart:hover {\n",
       "    background-color: var(--hover-bg-color);\n",
       "    box-shadow: 0 1px 2px rgba(60, 64, 67, 0.3), 0 1px 3px 1px rgba(60, 64, 67, 0.15);\n",
       "    fill: var(--button-hover-fill-color);\n",
       "  }\n",
       "\n",
       "  .colab-df-quickchart-complete:disabled,\n",
       "  .colab-df-quickchart-complete:disabled:hover {\n",
       "    background-color: var(--disabled-bg-color);\n",
       "    fill: var(--disabled-fill-color);\n",
       "    box-shadow: none;\n",
       "  }\n",
       "\n",
       "  .colab-df-spinner {\n",
       "    border: 2px solid var(--fill-color);\n",
       "    border-color: transparent;\n",
       "    border-bottom-color: var(--fill-color);\n",
       "    animation:\n",
       "      spin 1s steps(1) infinite;\n",
       "  }\n",
       "\n",
       "  @keyframes spin {\n",
       "    0% {\n",
       "      border-color: transparent;\n",
       "      border-bottom-color: var(--fill-color);\n",
       "      border-left-color: var(--fill-color);\n",
       "    }\n",
       "    20% {\n",
       "      border-color: transparent;\n",
       "      border-left-color: var(--fill-color);\n",
       "      border-top-color: var(--fill-color);\n",
       "    }\n",
       "    30% {\n",
       "      border-color: transparent;\n",
       "      border-left-color: var(--fill-color);\n",
       "      border-top-color: var(--fill-color);\n",
       "      border-right-color: var(--fill-color);\n",
       "    }\n",
       "    40% {\n",
       "      border-color: transparent;\n",
       "      border-right-color: var(--fill-color);\n",
       "      border-top-color: var(--fill-color);\n",
       "    }\n",
       "    60% {\n",
       "      border-color: transparent;\n",
       "      border-right-color: var(--fill-color);\n",
       "    }\n",
       "    80% {\n",
       "      border-color: transparent;\n",
       "      border-right-color: var(--fill-color);\n",
       "      border-bottom-color: var(--fill-color);\n",
       "    }\n",
       "    90% {\n",
       "      border-color: transparent;\n",
       "      border-bottom-color: var(--fill-color);\n",
       "    }\n",
       "  }\n",
       "</style>\n",
       "\n",
       "  <script>\n",
       "    async function quickchart(key) {\n",
       "      const quickchartButtonEl =\n",
       "        document.querySelector('#' + key + ' button');\n",
       "      quickchartButtonEl.disabled = true;  // To prevent multiple clicks.\n",
       "      quickchartButtonEl.classList.add('colab-df-spinner');\n",
       "      try {\n",
       "        const charts = await google.colab.kernel.invokeFunction(\n",
       "            'suggestCharts', [key], {});\n",
       "      } catch (error) {\n",
       "        console.error('Error during call to suggestCharts:', error);\n",
       "      }\n",
       "      quickchartButtonEl.classList.remove('colab-df-spinner');\n",
       "      quickchartButtonEl.classList.add('colab-df-quickchart-complete');\n",
       "    }\n",
       "    (() => {\n",
       "      let quickchartButtonEl =\n",
       "        document.querySelector('#df-ada8b461-8f8c-488b-9b1d-09e10c21ea77 button');\n",
       "      quickchartButtonEl.style.display =\n",
       "        google.colab.kernel.accessAllowed ? 'block' : 'none';\n",
       "    })();\n",
       "  </script>\n",
       "</div>\n",
       "\n",
       "  <div id=\"id_6867cf57-05b7-4ab6-b416-1451f43277fe\">\n",
       "    <style>\n",
       "      .colab-df-generate {\n",
       "        background-color: #E8F0FE;\n",
       "        border: none;\n",
       "        border-radius: 50%;\n",
       "        cursor: pointer;\n",
       "        display: none;\n",
       "        fill: #1967D2;\n",
       "        height: 32px;\n",
       "        padding: 0 0 0 0;\n",
       "        width: 32px;\n",
       "      }\n",
       "\n",
       "      .colab-df-generate:hover {\n",
       "        background-color: #E2EBFA;\n",
       "        box-shadow: 0px 1px 2px rgba(60, 64, 67, 0.3), 0px 1px 3px 1px rgba(60, 64, 67, 0.15);\n",
       "        fill: #174EA6;\n",
       "      }\n",
       "\n",
       "      [theme=dark] .colab-df-generate {\n",
       "        background-color: #3B4455;\n",
       "        fill: #D2E3FC;\n",
       "      }\n",
       "\n",
       "      [theme=dark] .colab-df-generate:hover {\n",
       "        background-color: #434B5C;\n",
       "        box-shadow: 0px 1px 3px 1px rgba(0, 0, 0, 0.15);\n",
       "        filter: drop-shadow(0px 1px 2px rgba(0, 0, 0, 0.3));\n",
       "        fill: #FFFFFF;\n",
       "      }\n",
       "    </style>\n",
       "    <button class=\"colab-df-generate\" onclick=\"generateWithVariable('bins_over_10_evictions')\"\n",
       "            title=\"Generate code using this dataframe.\"\n",
       "            style=\"display:none;\">\n",
       "\n",
       "  <svg xmlns=\"http://www.w3.org/2000/svg\" height=\"24px\"viewBox=\"0 0 24 24\"\n",
       "       width=\"24px\">\n",
       "    <path d=\"M7,19H8.4L18.45,9,17,7.55,7,17.6ZM5,21V16.75L18.45,3.32a2,2,0,0,1,2.83,0l1.4,1.43a1.91,1.91,0,0,1,.58,1.4,1.91,1.91,0,0,1-.58,1.4L9.25,21ZM18.45,9,17,7.55Zm-12,3A5.31,5.31,0,0,0,4.9,8.1,5.31,5.31,0,0,0,1,6.5,5.31,5.31,0,0,0,4.9,4.9,5.31,5.31,0,0,0,6.5,1,5.31,5.31,0,0,0,8.1,4.9,5.31,5.31,0,0,0,12,6.5,5.46,5.46,0,0,0,6.5,12Z\"/>\n",
       "  </svg>\n",
       "    </button>\n",
       "    <script>\n",
       "      (() => {\n",
       "      const buttonEl =\n",
       "        document.querySelector('#id_6867cf57-05b7-4ab6-b416-1451f43277fe button.colab-df-generate');\n",
       "      buttonEl.style.display =\n",
       "        google.colab.kernel.accessAllowed ? 'block' : 'none';\n",
       "\n",
       "      buttonEl.onclick = () => {\n",
       "        google.colab.notebook.generateWithVariable('bins_over_10_evictions');\n",
       "      }\n",
       "      })();\n",
       "    </script>\n",
       "  </div>\n",
       "\n",
       "    </div>\n",
       "  </div>\n"
      ],
      "text/plain": [
       "         average_year_eviction_count\n",
       "bin                                 \n",
       "3000000                         35.6\n",
       "2000000                         27.8\n",
       "4298968                         20.6\n",
       "4000000                         17.8\n",
       "2127134                         14.8\n",
       "1000000                         13.8\n",
       "2113629                         13.4\n",
       "3326600                         13.2\n",
       "2093973                         12.2\n",
       "1089438                         11.4"
      ]
     },
     "execution_count": 63,
     "metadata": {},
     "output_type": "execute_result"
    }
   ],
   "source": [
    "bins_over_10_evictions"
   ]
  },
  {
   "cell_type": "code",
   "execution_count": 63,
   "metadata": {
    "id": "icfHzIdUIP4a"
   },
   "outputs": [],
   "source": []
  },
  {
   "cell_type": "markdown",
   "metadata": {
    "id": "pz7vTVM0xase"
   },
   "source": [
    "### TODO:\n",
    "### Some potential research questions/hypothesis include:\n",
    "    - look into each of these buildings and check who the landlords are. (with the merge of BBL)\n",
    "    - are they individual landlord or corporate landlords?\n",
    "    - do they habitually exbihit such behavior?\n",
    "    - is there a reason for the evictions besides the tenants' behavior?\n",
    "    - is this related to building policy changes?\n",
    "    - is this related to city-wide/neighborhood-wide changes?\n",
    "### Another dataset we will be using: BBL.csv\n",
    "    - pull the info of the buildings from bbl\n",
    "    - since there are only 18 of them, we can have a closer look at them and then get a writeup of the landlords' background."
   ]
  },
  {
   "cell_type": "markdown",
   "metadata": {
    "id": "8mKaugiExasf"
   },
   "source": [
    "#### The rest of the analysis will be broken down into different notebooks"
   ]
  },
  {
   "cell_type": "code",
   "execution_count": 64,
   "metadata": {
    "id": "eQLlwq95xasf"
   },
   "outputs": [],
   "source": [
    "# save cleaned evictions data to my drive\n",
    "evictions_pre_post_covid.to_csv('/content/drive/My Drive/X999/evictions_pre_post_covid.csv', index=False)"
   ]
  },
  {
   "cell_type": "code",
   "execution_count": 65,
   "metadata": {
    "id": "yAE55NyLKwno"
   },
   "outputs": [],
   "source": [
    "# save cleaned evictions data to my drive\n",
    "evictions_covid.to_csv('/content/drive/My Drive/X999/evictions_covid.csv', index=False)"
   ]
  },
  {
   "cell_type": "code",
   "execution_count": 65,
   "metadata": {
    "id": "pt4Hhr8CKy45"
   },
   "outputs": [],
   "source": []
  }
 ],
 "metadata": {
  "accelerator": "GPU",
  "colab": {
   "gpuType": "T4",
   "machine_shape": "hm",
   "provenance": []
  },
  "kernelspec": {
   "display_name": "Python 3 (ipykernel)",
   "language": "python",
   "name": "python3"
  },
  "language_info": {
   "codemirror_mode": {
    "name": "ipython",
    "version": 3
   },
   "file_extension": ".py",
   "mimetype": "text/x-python",
   "name": "python",
   "nbconvert_exporter": "python",
   "pygments_lexer": "ipython3",
   "version": "3.11.0"
  }
 },
 "nbformat": 4,
 "nbformat_minor": 1
}
