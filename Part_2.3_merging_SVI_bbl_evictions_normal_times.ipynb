{
 "cells": [
  {
   "cell_type": "code",
   "execution_count": 3,
   "metadata": {
    "id": "PN_U9et3qjx7"
   },
   "outputs": [],
   "source": [
    "# !pip install geopandas folium matplotlib seaborn scipy\n",
    "# !pip install esda\n",
    "# !pip install splot\n",
    "# # for google colab, had to reinstall some pacakges."
   ]
  },
  {
   "cell_type": "code",
   "execution_count": 2,
   "metadata": {
    "id": "0j1GVN6Sqs0d"
   },
   "outputs": [],
   "source": [
    "import pandas as pd\n",
    "import numpy as np\n",
    "from scipy import stats\n",
    "import datetime as dt\n",
    "import matplotlib\n",
    "import matplotlib.pyplot as plt\n",
    "import os\n",
    "import io\n",
    "import geopandas as gpd\n",
    "import seaborn as sns\n",
    "\n",
    "# suppress warning\n",
    "import warnings\n",
    "warnings.filterwarnings('ignore')\n",
    "\n",
    "%matplotlib inline"
   ]
  },
  {
   "cell_type": "code",
   "execution_count": 5,
   "metadata": {
    "colab": {
     "base_uri": "https://localhost:8080/"
    },
    "id": "yL8pJMQbqwK_",
    "outputId": "1fec0af2-1709-4213-a1f5-a93b63871a33"
   },
   "outputs": [
    {
     "name": "stdout",
     "output_type": "stream",
     "text": [
      "Mounted at /content/drive\n"
     ]
    }
   ],
   "source": [
    "from google.colab import drive\n",
    "drive.mount('/content/drive')"
   ]
  },
  {
   "cell_type": "code",
   "execution_count": 6,
   "metadata": {
    "id": "bw2k7BqMMRTr"
   },
   "outputs": [],
   "source": [
    "file_path1 = '/content/drive/My Drive/X999/bbl_evictions_merged.csv'"
   ]
  },
  {
   "cell_type": "code",
   "execution_count": 7,
   "metadata": {
    "id": "NhxlMVk2aX7Y"
   },
   "outputs": [],
   "source": [
    "file_path2 = '/content/drive/My Drive/X999/svi_cleaned.csv'"
   ]
  },
  {
   "cell_type": "code",
   "execution_count": 8,
   "metadata": {
    "id": "ZgdM_AC-MRcf"
   },
   "outputs": [],
   "source": [
    "bbl_evictions_df = pd.read_csv(file_path1)"
   ]
  },
  {
   "cell_type": "code",
   "execution_count": 9,
   "metadata": {
    "id": "M_4TT80Faicy"
   },
   "outputs": [],
   "source": [
    "svi_df = pd.read_csv(file_path2)"
   ]
  },
  {
   "cell_type": "code",
   "execution_count": 11,
   "metadata": {
    "id": "sYJeTTVJjSa7"
   },
   "outputs": [],
   "source": [
    "columns_list = ['FIPS', 'E_TOTPOP', 'RPL_THEME1', 'RPL_THEME2', 'RPL_THEME3', 'RPL_THEME4', 'RPL_THEMES',\n",
    "               'EP_POV150', 'EP_UNEMP', 'EP_NOHSDP', 'EP_UNINSUR','EP_AGE65', 'EP_AGE17', 'EP_DISABL', 'EP_LIMENG',\n",
    "               'EP_NOVEH', 'EP_CROWD', 'EP_HBURD','EP_AFAM', 'EP_HISP', 'EP_ASIAN', 'EP_AIAN', 'EP_NHPI', 'EP_TWOMORE',\n",
    "                'EP_OTHERRACE', 'EP_MINRTY']"
   ]
  },
  {
   "cell_type": "code",
   "execution_count": 12,
   "metadata": {
    "id": "UR8ZQoBFjQuB"
   },
   "outputs": [],
   "source": [
    "# the cleaned svi df has changed all columns to lower case, so we will do it here too.\n",
    "lowercase_columns = [col.lower() for col in columns_list]"
   ]
  },
  {
   "cell_type": "code",
   "execution_count": 14,
   "metadata": {
    "colab": {
     "base_uri": "https://localhost:8080/",
     "height": 255
    },
    "id": "adZOP2EkMRhp",
    "outputId": "ad04271e-0e7f-4893-b971-ae121491f6ce"
   },
   "outputs": [
    {
     "data": {
      "application/vnd.google.colaboratory.intrinsic+json": {
       "type": "dataframe",
       "variable_name": "svi_simplified"
      },
      "text/html": [
       "\n",
       "  <div id=\"df-b63d875b-7cbe-4d37-976e-7665e1cb3baf\" class=\"colab-df-container\">\n",
       "    <div>\n",
       "<style scoped>\n",
       "    .dataframe tbody tr th:only-of-type {\n",
       "        vertical-align: middle;\n",
       "    }\n",
       "\n",
       "    .dataframe tbody tr th {\n",
       "        vertical-align: top;\n",
       "    }\n",
       "\n",
       "    .dataframe thead th {\n",
       "        text-align: right;\n",
       "    }\n",
       "</style>\n",
       "<table border=\"1\" class=\"dataframe\">\n",
       "  <thead>\n",
       "    <tr style=\"text-align: right;\">\n",
       "      <th></th>\n",
       "      <th>fips</th>\n",
       "      <th>e_totpop</th>\n",
       "      <th>rpl_theme1</th>\n",
       "      <th>rpl_theme2</th>\n",
       "      <th>rpl_theme3</th>\n",
       "      <th>rpl_theme4</th>\n",
       "      <th>rpl_themes</th>\n",
       "      <th>ep_pov150</th>\n",
       "      <th>ep_unemp</th>\n",
       "      <th>ep_nohsdp</th>\n",
       "      <th>...</th>\n",
       "      <th>ep_crowd</th>\n",
       "      <th>ep_hburd</th>\n",
       "      <th>ep_afam</th>\n",
       "      <th>ep_hisp</th>\n",
       "      <th>ep_asian</th>\n",
       "      <th>ep_aian</th>\n",
       "      <th>ep_nhpi</th>\n",
       "      <th>ep_twomore</th>\n",
       "      <th>ep_otherrace</th>\n",
       "      <th>ep_minrty</th>\n",
       "    </tr>\n",
       "  </thead>\n",
       "  <tbody>\n",
       "    <tr>\n",
       "      <th>0</th>\n",
       "      <td>10001</td>\n",
       "      <td>27004</td>\n",
       "      <td>0.5688</td>\n",
       "      <td>0.1692</td>\n",
       "      <td>0.8670</td>\n",
       "      <td>0.9806</td>\n",
       "      <td>0.7414</td>\n",
       "      <td>20.3</td>\n",
       "      <td>4.3</td>\n",
       "      <td>9.1</td>\n",
       "      <td>...</td>\n",
       "      <td>2.7</td>\n",
       "      <td>23.1</td>\n",
       "      <td>8.2</td>\n",
       "      <td>19.3</td>\n",
       "      <td>18.6</td>\n",
       "      <td>0.0</td>\n",
       "      <td>0.0</td>\n",
       "      <td>2.9</td>\n",
       "      <td>0.8</td>\n",
       "      <td>49.8</td>\n",
       "    </tr>\n",
       "    <tr>\n",
       "      <th>1</th>\n",
       "      <td>10002</td>\n",
       "      <td>76518</td>\n",
       "      <td>0.9639</td>\n",
       "      <td>0.8781</td>\n",
       "      <td>0.9369</td>\n",
       "      <td>0.9254</td>\n",
       "      <td>0.9656</td>\n",
       "      <td>36.8</td>\n",
       "      <td>7.6</td>\n",
       "      <td>30.0</td>\n",
       "      <td>...</td>\n",
       "      <td>6.8</td>\n",
       "      <td>40.8</td>\n",
       "      <td>8.0</td>\n",
       "      <td>26.0</td>\n",
       "      <td>37.2</td>\n",
       "      <td>0.1</td>\n",
       "      <td>0.0</td>\n",
       "      <td>2.4</td>\n",
       "      <td>0.8</td>\n",
       "      <td>74.4</td>\n",
       "    </tr>\n",
       "    <tr>\n",
       "      <th>2</th>\n",
       "      <td>10003</td>\n",
       "      <td>53877</td>\n",
       "      <td>0.3389</td>\n",
       "      <td>0.0969</td>\n",
       "      <td>0.7977</td>\n",
       "      <td>0.9368</td>\n",
       "      <td>0.5373</td>\n",
       "      <td>14.3</td>\n",
       "      <td>4.7</td>\n",
       "      <td>4.2</td>\n",
       "      <td>...</td>\n",
       "      <td>3.2</td>\n",
       "      <td>21.8</td>\n",
       "      <td>5.4</td>\n",
       "      <td>10.3</td>\n",
       "      <td>16.7</td>\n",
       "      <td>0.1</td>\n",
       "      <td>0.1</td>\n",
       "      <td>3.8</td>\n",
       "      <td>0.3</td>\n",
       "      <td>36.7</td>\n",
       "    </tr>\n",
       "    <tr>\n",
       "      <th>3</th>\n",
       "      <td>10004</td>\n",
       "      <td>4579</td>\n",
       "      <td>0.0252</td>\n",
       "      <td>0.0769</td>\n",
       "      <td>0.8439</td>\n",
       "      <td>0.8558</td>\n",
       "      <td>0.2299</td>\n",
       "      <td>3.7</td>\n",
       "      <td>0.4</td>\n",
       "      <td>0.9</td>\n",
       "      <td>...</td>\n",
       "      <td>7.6</td>\n",
       "      <td>6.1</td>\n",
       "      <td>5.5</td>\n",
       "      <td>5.0</td>\n",
       "      <td>29.9</td>\n",
       "      <td>0.0</td>\n",
       "      <td>0.0</td>\n",
       "      <td>3.5</td>\n",
       "      <td>0.0</td>\n",
       "      <td>43.9</td>\n",
       "    </tr>\n",
       "    <tr>\n",
       "      <th>4</th>\n",
       "      <td>10005</td>\n",
       "      <td>8801</td>\n",
       "      <td>0.0631</td>\n",
       "      <td>0.0427</td>\n",
       "      <td>0.7504</td>\n",
       "      <td>0.8496</td>\n",
       "      <td>0.2437</td>\n",
       "      <td>7.4</td>\n",
       "      <td>3.4</td>\n",
       "      <td>2.5</td>\n",
       "      <td>...</td>\n",
       "      <td>8.4</td>\n",
       "      <td>10.9</td>\n",
       "      <td>4.8</td>\n",
       "      <td>8.6</td>\n",
       "      <td>11.2</td>\n",
       "      <td>0.0</td>\n",
       "      <td>0.0</td>\n",
       "      <td>6.5</td>\n",
       "      <td>0.0</td>\n",
       "      <td>31.0</td>\n",
       "    </tr>\n",
       "  </tbody>\n",
       "</table>\n",
       "<p>5 rows × 26 columns</p>\n",
       "</div>\n",
       "    <div class=\"colab-df-buttons\">\n",
       "\n",
       "  <div class=\"colab-df-container\">\n",
       "    <button class=\"colab-df-convert\" onclick=\"convertToInteractive('df-b63d875b-7cbe-4d37-976e-7665e1cb3baf')\"\n",
       "            title=\"Convert this dataframe to an interactive table.\"\n",
       "            style=\"display:none;\">\n",
       "\n",
       "  <svg xmlns=\"http://www.w3.org/2000/svg\" height=\"24px\" viewBox=\"0 -960 960 960\">\n",
       "    <path d=\"M120-120v-720h720v720H120Zm60-500h600v-160H180v160Zm220 220h160v-160H400v160Zm0 220h160v-160H400v160ZM180-400h160v-160H180v160Zm440 0h160v-160H620v160ZM180-180h160v-160H180v160Zm440 0h160v-160H620v160Z\"/>\n",
       "  </svg>\n",
       "    </button>\n",
       "\n",
       "  <style>\n",
       "    .colab-df-container {\n",
       "      display:flex;\n",
       "      gap: 12px;\n",
       "    }\n",
       "\n",
       "    .colab-df-convert {\n",
       "      background-color: #E8F0FE;\n",
       "      border: none;\n",
       "      border-radius: 50%;\n",
       "      cursor: pointer;\n",
       "      display: none;\n",
       "      fill: #1967D2;\n",
       "      height: 32px;\n",
       "      padding: 0 0 0 0;\n",
       "      width: 32px;\n",
       "    }\n",
       "\n",
       "    .colab-df-convert:hover {\n",
       "      background-color: #E2EBFA;\n",
       "      box-shadow: 0px 1px 2px rgba(60, 64, 67, 0.3), 0px 1px 3px 1px rgba(60, 64, 67, 0.15);\n",
       "      fill: #174EA6;\n",
       "    }\n",
       "\n",
       "    .colab-df-buttons div {\n",
       "      margin-bottom: 4px;\n",
       "    }\n",
       "\n",
       "    [theme=dark] .colab-df-convert {\n",
       "      background-color: #3B4455;\n",
       "      fill: #D2E3FC;\n",
       "    }\n",
       "\n",
       "    [theme=dark] .colab-df-convert:hover {\n",
       "      background-color: #434B5C;\n",
       "      box-shadow: 0px 1px 3px 1px rgba(0, 0, 0, 0.15);\n",
       "      filter: drop-shadow(0px 1px 2px rgba(0, 0, 0, 0.3));\n",
       "      fill: #FFFFFF;\n",
       "    }\n",
       "  </style>\n",
       "\n",
       "    <script>\n",
       "      const buttonEl =\n",
       "        document.querySelector('#df-b63d875b-7cbe-4d37-976e-7665e1cb3baf button.colab-df-convert');\n",
       "      buttonEl.style.display =\n",
       "        google.colab.kernel.accessAllowed ? 'block' : 'none';\n",
       "\n",
       "      async function convertToInteractive(key) {\n",
       "        const element = document.querySelector('#df-b63d875b-7cbe-4d37-976e-7665e1cb3baf');\n",
       "        const dataTable =\n",
       "          await google.colab.kernel.invokeFunction('convertToInteractive',\n",
       "                                                    [key], {});\n",
       "        if (!dataTable) return;\n",
       "\n",
       "        const docLinkHtml = 'Like what you see? Visit the ' +\n",
       "          '<a target=\"_blank\" href=https://colab.research.google.com/notebooks/data_table.ipynb>data table notebook</a>'\n",
       "          + ' to learn more about interactive tables.';\n",
       "        element.innerHTML = '';\n",
       "        dataTable['output_type'] = 'display_data';\n",
       "        await google.colab.output.renderOutput(dataTable, element);\n",
       "        const docLink = document.createElement('div');\n",
       "        docLink.innerHTML = docLinkHtml;\n",
       "        element.appendChild(docLink);\n",
       "      }\n",
       "    </script>\n",
       "  </div>\n",
       "\n",
       "\n",
       "<div id=\"df-fd2fba76-3665-406d-9518-3d4d4d4dda40\">\n",
       "  <button class=\"colab-df-quickchart\" onclick=\"quickchart('df-fd2fba76-3665-406d-9518-3d4d4d4dda40')\"\n",
       "            title=\"Suggest charts\"\n",
       "            style=\"display:none;\">\n",
       "\n",
       "<svg xmlns=\"http://www.w3.org/2000/svg\" height=\"24px\"viewBox=\"0 0 24 24\"\n",
       "     width=\"24px\">\n",
       "    <g>\n",
       "        <path d=\"M19 3H5c-1.1 0-2 .9-2 2v14c0 1.1.9 2 2 2h14c1.1 0 2-.9 2-2V5c0-1.1-.9-2-2-2zM9 17H7v-7h2v7zm4 0h-2V7h2v10zm4 0h-2v-4h2v4z\"/>\n",
       "    </g>\n",
       "</svg>\n",
       "  </button>\n",
       "\n",
       "<style>\n",
       "  .colab-df-quickchart {\n",
       "      --bg-color: #E8F0FE;\n",
       "      --fill-color: #1967D2;\n",
       "      --hover-bg-color: #E2EBFA;\n",
       "      --hover-fill-color: #174EA6;\n",
       "      --disabled-fill-color: #AAA;\n",
       "      --disabled-bg-color: #DDD;\n",
       "  }\n",
       "\n",
       "  [theme=dark] .colab-df-quickchart {\n",
       "      --bg-color: #3B4455;\n",
       "      --fill-color: #D2E3FC;\n",
       "      --hover-bg-color: #434B5C;\n",
       "      --hover-fill-color: #FFFFFF;\n",
       "      --disabled-bg-color: #3B4455;\n",
       "      --disabled-fill-color: #666;\n",
       "  }\n",
       "\n",
       "  .colab-df-quickchart {\n",
       "    background-color: var(--bg-color);\n",
       "    border: none;\n",
       "    border-radius: 50%;\n",
       "    cursor: pointer;\n",
       "    display: none;\n",
       "    fill: var(--fill-color);\n",
       "    height: 32px;\n",
       "    padding: 0;\n",
       "    width: 32px;\n",
       "  }\n",
       "\n",
       "  .colab-df-quickchart:hover {\n",
       "    background-color: var(--hover-bg-color);\n",
       "    box-shadow: 0 1px 2px rgba(60, 64, 67, 0.3), 0 1px 3px 1px rgba(60, 64, 67, 0.15);\n",
       "    fill: var(--button-hover-fill-color);\n",
       "  }\n",
       "\n",
       "  .colab-df-quickchart-complete:disabled,\n",
       "  .colab-df-quickchart-complete:disabled:hover {\n",
       "    background-color: var(--disabled-bg-color);\n",
       "    fill: var(--disabled-fill-color);\n",
       "    box-shadow: none;\n",
       "  }\n",
       "\n",
       "  .colab-df-spinner {\n",
       "    border: 2px solid var(--fill-color);\n",
       "    border-color: transparent;\n",
       "    border-bottom-color: var(--fill-color);\n",
       "    animation:\n",
       "      spin 1s steps(1) infinite;\n",
       "  }\n",
       "\n",
       "  @keyframes spin {\n",
       "    0% {\n",
       "      border-color: transparent;\n",
       "      border-bottom-color: var(--fill-color);\n",
       "      border-left-color: var(--fill-color);\n",
       "    }\n",
       "    20% {\n",
       "      border-color: transparent;\n",
       "      border-left-color: var(--fill-color);\n",
       "      border-top-color: var(--fill-color);\n",
       "    }\n",
       "    30% {\n",
       "      border-color: transparent;\n",
       "      border-left-color: var(--fill-color);\n",
       "      border-top-color: var(--fill-color);\n",
       "      border-right-color: var(--fill-color);\n",
       "    }\n",
       "    40% {\n",
       "      border-color: transparent;\n",
       "      border-right-color: var(--fill-color);\n",
       "      border-top-color: var(--fill-color);\n",
       "    }\n",
       "    60% {\n",
       "      border-color: transparent;\n",
       "      border-right-color: var(--fill-color);\n",
       "    }\n",
       "    80% {\n",
       "      border-color: transparent;\n",
       "      border-right-color: var(--fill-color);\n",
       "      border-bottom-color: var(--fill-color);\n",
       "    }\n",
       "    90% {\n",
       "      border-color: transparent;\n",
       "      border-bottom-color: var(--fill-color);\n",
       "    }\n",
       "  }\n",
       "</style>\n",
       "\n",
       "  <script>\n",
       "    async function quickchart(key) {\n",
       "      const quickchartButtonEl =\n",
       "        document.querySelector('#' + key + ' button');\n",
       "      quickchartButtonEl.disabled = true;  // To prevent multiple clicks.\n",
       "      quickchartButtonEl.classList.add('colab-df-spinner');\n",
       "      try {\n",
       "        const charts = await google.colab.kernel.invokeFunction(\n",
       "            'suggestCharts', [key], {});\n",
       "      } catch (error) {\n",
       "        console.error('Error during call to suggestCharts:', error);\n",
       "      }\n",
       "      quickchartButtonEl.classList.remove('colab-df-spinner');\n",
       "      quickchartButtonEl.classList.add('colab-df-quickchart-complete');\n",
       "    }\n",
       "    (() => {\n",
       "      let quickchartButtonEl =\n",
       "        document.querySelector('#df-fd2fba76-3665-406d-9518-3d4d4d4dda40 button');\n",
       "      quickchartButtonEl.style.display =\n",
       "        google.colab.kernel.accessAllowed ? 'block' : 'none';\n",
       "    })();\n",
       "  </script>\n",
       "</div>\n",
       "\n",
       "    </div>\n",
       "  </div>\n"
      ],
      "text/plain": [
       "    fips  e_totpop  rpl_theme1  rpl_theme2  rpl_theme3  rpl_theme4  \\\n",
       "0  10001     27004      0.5688      0.1692      0.8670      0.9806   \n",
       "1  10002     76518      0.9639      0.8781      0.9369      0.9254   \n",
       "2  10003     53877      0.3389      0.0969      0.7977      0.9368   \n",
       "3  10004      4579      0.0252      0.0769      0.8439      0.8558   \n",
       "4  10005      8801      0.0631      0.0427      0.7504      0.8496   \n",
       "\n",
       "   rpl_themes  ep_pov150  ep_unemp  ep_nohsdp  ...  ep_crowd  ep_hburd  \\\n",
       "0      0.7414       20.3       4.3        9.1  ...       2.7      23.1   \n",
       "1      0.9656       36.8       7.6       30.0  ...       6.8      40.8   \n",
       "2      0.5373       14.3       4.7        4.2  ...       3.2      21.8   \n",
       "3      0.2299        3.7       0.4        0.9  ...       7.6       6.1   \n",
       "4      0.2437        7.4       3.4        2.5  ...       8.4      10.9   \n",
       "\n",
       "   ep_afam  ep_hisp  ep_asian  ep_aian  ep_nhpi  ep_twomore  ep_otherrace  \\\n",
       "0      8.2     19.3      18.6      0.0      0.0         2.9           0.8   \n",
       "1      8.0     26.0      37.2      0.1      0.0         2.4           0.8   \n",
       "2      5.4     10.3      16.7      0.1      0.1         3.8           0.3   \n",
       "3      5.5      5.0      29.9      0.0      0.0         3.5           0.0   \n",
       "4      4.8      8.6      11.2      0.0      0.0         6.5           0.0   \n",
       "\n",
       "   ep_minrty  \n",
       "0       49.8  \n",
       "1       74.4  \n",
       "2       36.7  \n",
       "3       43.9  \n",
       "4       31.0  \n",
       "\n",
       "[5 rows x 26 columns]"
      ]
     },
     "execution_count": 14,
     "metadata": {},
     "output_type": "execute_result"
    }
   ],
   "source": [
    "svi_simplified = svi_df[lowercase_columns]\n",
    "svi_simplified.head()"
   ]
  },
  {
   "cell_type": "code",
   "execution_count": 15,
   "metadata": {
    "colab": {
     "base_uri": "https://localhost:8080/"
    },
    "id": "EQ6rB0GNavPn",
    "outputId": "c745c846-c4d8-4bfc-8d36-937e9cc1b94d"
   },
   "outputs": [
    {
     "data": {
      "text/plain": [
       "((204, 156), (204, 26))"
      ]
     },
     "execution_count": 15,
     "metadata": {},
     "output_type": "execute_result"
    }
   ],
   "source": [
    "svi_df.shape, svi_simplified.shape"
   ]
  },
  {
   "cell_type": "code",
   "execution_count": 17,
   "metadata": {
    "id": "vAia8f-zRGfl"
   },
   "outputs": [],
   "source": [
    "svi_simplified['ep_white'] = 100 - svi_simplified['ep_minrty']"
   ]
  },
  {
   "cell_type": "code",
   "execution_count": 19,
   "metadata": {
    "colab": {
     "base_uri": "https://localhost:8080/"
    },
    "id": "6MnHmE92RLDC",
    "outputId": "903462a2-c654-4efd-8e31-b10373a856fa"
   },
   "outputs": [
    {
     "data": {
      "text/plain": [
       "(dtype('int64'), dtype('int64'))"
      ]
     },
     "execution_count": 19,
     "metadata": {},
     "output_type": "execute_result"
    }
   ],
   "source": [
    "bbl_evictions_df.eviction_postcode.dtype, svi_simplified.fips.dtype"
   ]
  },
  {
   "cell_type": "code",
   "execution_count": 20,
   "metadata": {
    "id": "0JJUIKtcReP0"
   },
   "outputs": [],
   "source": [
    "bbl_evictions_df['eviction_postcode'] = bbl_evictions_df['eviction_postcode'].astype(str)\n",
    "svi_simplified['fips'] = svi_simplified['fips'].astype(str)"
   ]
  },
  {
   "cell_type": "code",
   "execution_count": 21,
   "metadata": {
    "id": "GqG7TPpwMRlG"
   },
   "outputs": [],
   "source": [
    "merged_df = pd.merge(bbl_evictions_df,\n",
    "                    svi_simplified,\n",
    "                    left_on='eviction_postcode',\n",
    "                    right_on='fips',\n",
    "                    how='left')"
   ]
  },
  {
   "cell_type": "markdown",
   "metadata": {
    "id": "4enzYQaHkGpo"
   },
   "source": [
    "## After merging bbl_evictions_df and svi_simplified, we check nan, since rpl_themes is the most import column and any rows that have nan"
   ]
  },
  {
   "cell_type": "code",
   "execution_count": 31,
   "metadata": {
    "colab": {
     "base_uri": "https://localhost:8080/"
    },
    "id": "nngKSqZ-kH7b",
    "outputId": "6cbc526f-2d6a-456b-82b9-efcac10460e6"
   },
   "outputs": [
    {
     "data": {
      "text/plain": [
       "(74082, 67)"
      ]
     },
     "execution_count": 31,
     "metadata": {},
     "output_type": "execute_result"
    }
   ],
   "source": [
    "merged_df.shape"
   ]
  },
  {
   "cell_type": "code",
   "execution_count": 32,
   "metadata": {
    "colab": {
     "base_uri": "https://localhost:8080/",
     "height": 617
    },
    "id": "b_aDvllDkJmB",
    "outputId": "2d60ec8f-2676-4eb5-c3a0-991f44efd8e3"
   },
   "outputs": [
    {
     "data": {
      "application/vnd.google.colaboratory.intrinsic+json": {
       "type": "dataframe",
       "variable_name": "nan_rows"
      },
      "text/html": [
       "\n",
       "  <div id=\"df-18f909e9-48e3-47ff-b156-daeddc752acc\" class=\"colab-df-container\">\n",
       "    <div>\n",
       "<style scoped>\n",
       "    .dataframe tbody tr th:only-of-type {\n",
       "        vertical-align: middle;\n",
       "    }\n",
       "\n",
       "    .dataframe tbody tr th {\n",
       "        vertical-align: top;\n",
       "    }\n",
       "\n",
       "    .dataframe thead th {\n",
       "        text-align: right;\n",
       "    }\n",
       "</style>\n",
       "<table border=\"1\" class=\"dataframe\">\n",
       "  <thead>\n",
       "    <tr style=\"text-align: right;\">\n",
       "      <th></th>\n",
       "      <th>court_index_number</th>\n",
       "      <th>docket_number</th>\n",
       "      <th>eviction_address</th>\n",
       "      <th>eviction_apartment_number</th>\n",
       "      <th>executed_date</th>\n",
       "      <th>borough</th>\n",
       "      <th>eviction_postcode</th>\n",
       "      <th>ejectment</th>\n",
       "      <th>eviction/legal_possession</th>\n",
       "      <th>latitude</th>\n",
       "      <th>...</th>\n",
       "      <th>ep_hburd</th>\n",
       "      <th>ep_afam</th>\n",
       "      <th>ep_hisp</th>\n",
       "      <th>ep_asian</th>\n",
       "      <th>ep_aian</th>\n",
       "      <th>ep_nhpi</th>\n",
       "      <th>ep_twomore</th>\n",
       "      <th>ep_otherrace</th>\n",
       "      <th>ep_minrty</th>\n",
       "      <th>ep_white</th>\n",
       "    </tr>\n",
       "  </thead>\n",
       "  <tbody>\n",
       "    <tr>\n",
       "      <th>105</th>\n",
       "      <td>Q75285/16</td>\n",
       "      <td>74259</td>\n",
       "      <td>213 BEACH 99 STREET</td>\n",
       "      <td>2</td>\n",
       "      <td>2017-01-04</td>\n",
       "      <td>QUEENS</td>\n",
       "      <td>11694</td>\n",
       "      <td>Not an Ejectment</td>\n",
       "      <td>Possession</td>\n",
       "      <td>40.584419</td>\n",
       "      <td>...</td>\n",
       "      <td>NaN</td>\n",
       "      <td>NaN</td>\n",
       "      <td>NaN</td>\n",
       "      <td>NaN</td>\n",
       "      <td>NaN</td>\n",
       "      <td>NaN</td>\n",
       "      <td>NaN</td>\n",
       "      <td>NaN</td>\n",
       "      <td>NaN</td>\n",
       "      <td>NaN</td>\n",
       "    </tr>\n",
       "    <tr>\n",
       "      <th>132</th>\n",
       "      <td>Q72854/16</td>\n",
       "      <td>74382</td>\n",
       "      <td>711B SEAGIRT AVENUE</td>\n",
       "      <td>5M</td>\n",
       "      <td>2017-01-04</td>\n",
       "      <td>QUEENS</td>\n",
       "      <td>11691</td>\n",
       "      <td>Not an Ejectment</td>\n",
       "      <td>Possession</td>\n",
       "      <td>40.595996</td>\n",
       "      <td>...</td>\n",
       "      <td>NaN</td>\n",
       "      <td>NaN</td>\n",
       "      <td>NaN</td>\n",
       "      <td>NaN</td>\n",
       "      <td>NaN</td>\n",
       "      <td>NaN</td>\n",
       "      <td>NaN</td>\n",
       "      <td>NaN</td>\n",
       "      <td>NaN</td>\n",
       "      <td>NaN</td>\n",
       "    </tr>\n",
       "    <tr>\n",
       "      <th>200</th>\n",
       "      <td>Q65762/16</td>\n",
       "      <td>92015</td>\n",
       "      <td>180 BEACH 117TH STREET</td>\n",
       "      <td>2-E</td>\n",
       "      <td>2017-01-04</td>\n",
       "      <td>QUEENS</td>\n",
       "      <td>11694</td>\n",
       "      <td>Not an Ejectment</td>\n",
       "      <td>Possession</td>\n",
       "      <td>40.578958</td>\n",
       "      <td>...</td>\n",
       "      <td>NaN</td>\n",
       "      <td>NaN</td>\n",
       "      <td>NaN</td>\n",
       "      <td>NaN</td>\n",
       "      <td>NaN</td>\n",
       "      <td>NaN</td>\n",
       "      <td>NaN</td>\n",
       "      <td>NaN</td>\n",
       "      <td>NaN</td>\n",
       "      <td>NaN</td>\n",
       "    </tr>\n",
       "    <tr>\n",
       "      <th>205</th>\n",
       "      <td>Q59869/16</td>\n",
       "      <td>91103</td>\n",
       "      <td>171 BEACH 26TH ST</td>\n",
       "      <td>1</td>\n",
       "      <td>2017-01-04</td>\n",
       "      <td>QUEENS</td>\n",
       "      <td>11691</td>\n",
       "      <td>Not an Ejectment</td>\n",
       "      <td>Possession</td>\n",
       "      <td>40.594155</td>\n",
       "      <td>...</td>\n",
       "      <td>NaN</td>\n",
       "      <td>NaN</td>\n",
       "      <td>NaN</td>\n",
       "      <td>NaN</td>\n",
       "      <td>NaN</td>\n",
       "      <td>NaN</td>\n",
       "      <td>NaN</td>\n",
       "      <td>NaN</td>\n",
       "      <td>NaN</td>\n",
       "      <td>NaN</td>\n",
       "    </tr>\n",
       "    <tr>\n",
       "      <th>280</th>\n",
       "      <td>64250/16</td>\n",
       "      <td>7180</td>\n",
       "      <td>231 BEACH 100TH ST.</td>\n",
       "      <td>#1</td>\n",
       "      <td>2017-01-05</td>\n",
       "      <td>QUEENS</td>\n",
       "      <td>11694</td>\n",
       "      <td>Not an Ejectment</td>\n",
       "      <td>Possession</td>\n",
       "      <td>40.584585</td>\n",
       "      <td>...</td>\n",
       "      <td>NaN</td>\n",
       "      <td>NaN</td>\n",
       "      <td>NaN</td>\n",
       "      <td>NaN</td>\n",
       "      <td>NaN</td>\n",
       "      <td>NaN</td>\n",
       "      <td>NaN</td>\n",
       "      <td>NaN</td>\n",
       "      <td>NaN</td>\n",
       "      <td>NaN</td>\n",
       "    </tr>\n",
       "    <tr>\n",
       "      <th>...</th>\n",
       "      <td>...</td>\n",
       "      <td>...</td>\n",
       "      <td>...</td>\n",
       "      <td>...</td>\n",
       "      <td>...</td>\n",
       "      <td>...</td>\n",
       "      <td>...</td>\n",
       "      <td>...</td>\n",
       "      <td>...</td>\n",
       "      <td>...</td>\n",
       "      <td>...</td>\n",
       "      <td>...</td>\n",
       "      <td>...</td>\n",
       "      <td>...</td>\n",
       "      <td>...</td>\n",
       "      <td>...</td>\n",
       "      <td>...</td>\n",
       "      <td>...</td>\n",
       "      <td>...</td>\n",
       "      <td>...</td>\n",
       "      <td>...</td>\n",
       "    </tr>\n",
       "    <tr>\n",
       "      <th>73941</th>\n",
       "      <td>0303331/23</td>\n",
       "      <td>22381</td>\n",
       "      <td>51-24 BEACH CHANNEL DRIVE</td>\n",
       "      <td>7B</td>\n",
       "      <td>2024-12-18</td>\n",
       "      <td>QUEENS</td>\n",
       "      <td>11691</td>\n",
       "      <td>Not an Ejectment</td>\n",
       "      <td>Possession</td>\n",
       "      <td>40.595255</td>\n",
       "      <td>...</td>\n",
       "      <td>NaN</td>\n",
       "      <td>NaN</td>\n",
       "      <td>NaN</td>\n",
       "      <td>NaN</td>\n",
       "      <td>NaN</td>\n",
       "      <td>NaN</td>\n",
       "      <td>NaN</td>\n",
       "      <td>NaN</td>\n",
       "      <td>NaN</td>\n",
       "      <td>NaN</td>\n",
       "    </tr>\n",
       "    <tr>\n",
       "      <th>73942</th>\n",
       "      <td>309866/22</td>\n",
       "      <td>17441</td>\n",
       "      <td>707 BEACH 9TH STREET</td>\n",
       "      <td>3P</td>\n",
       "      <td>2024-12-18</td>\n",
       "      <td>QUEENS</td>\n",
       "      <td>11691</td>\n",
       "      <td>Not an Ejectment</td>\n",
       "      <td>Possession</td>\n",
       "      <td>40.602163</td>\n",
       "      <td>...</td>\n",
       "      <td>NaN</td>\n",
       "      <td>NaN</td>\n",
       "      <td>NaN</td>\n",
       "      <td>NaN</td>\n",
       "      <td>NaN</td>\n",
       "      <td>NaN</td>\n",
       "      <td>NaN</td>\n",
       "      <td>NaN</td>\n",
       "      <td>NaN</td>\n",
       "      <td>NaN</td>\n",
       "    </tr>\n",
       "    <tr>\n",
       "      <th>73956</th>\n",
       "      <td>320832/23</td>\n",
       "      <td>140338</td>\n",
       "      <td>162 BEACH 116TH   ST REET</td>\n",
       "      <td>3R</td>\n",
       "      <td>2024-12-18</td>\n",
       "      <td>QUEENS</td>\n",
       "      <td>11694</td>\n",
       "      <td>Not an Ejectment</td>\n",
       "      <td>Possession</td>\n",
       "      <td>40.578937</td>\n",
       "      <td>...</td>\n",
       "      <td>NaN</td>\n",
       "      <td>NaN</td>\n",
       "      <td>NaN</td>\n",
       "      <td>NaN</td>\n",
       "      <td>NaN</td>\n",
       "      <td>NaN</td>\n",
       "      <td>NaN</td>\n",
       "      <td>NaN</td>\n",
       "      <td>NaN</td>\n",
       "      <td>NaN</td>\n",
       "    </tr>\n",
       "    <tr>\n",
       "      <th>73960</th>\n",
       "      <td>301187/24</td>\n",
       "      <td>42289</td>\n",
       "      <td>180 BEACH 117TH STREET</td>\n",
       "      <td>#6K</td>\n",
       "      <td>2024-12-18</td>\n",
       "      <td>QUEENS</td>\n",
       "      <td>11694</td>\n",
       "      <td>Not an Ejectment</td>\n",
       "      <td>Possession</td>\n",
       "      <td>40.578958</td>\n",
       "      <td>...</td>\n",
       "      <td>NaN</td>\n",
       "      <td>NaN</td>\n",
       "      <td>NaN</td>\n",
       "      <td>NaN</td>\n",
       "      <td>NaN</td>\n",
       "      <td>NaN</td>\n",
       "      <td>NaN</td>\n",
       "      <td>NaN</td>\n",
       "      <td>NaN</td>\n",
       "      <td>NaN</td>\n",
       "    </tr>\n",
       "    <tr>\n",
       "      <th>73995</th>\n",
       "      <td>307552/23</td>\n",
       "      <td>9433</td>\n",
       "      <td>1074 BEACH 22ND ST</td>\n",
       "      <td>unknown</td>\n",
       "      <td>2024-12-19</td>\n",
       "      <td>QUEENS</td>\n",
       "      <td>11691</td>\n",
       "      <td>Not an Ejectment</td>\n",
       "      <td>Possession</td>\n",
       "      <td>40.603970</td>\n",
       "      <td>...</td>\n",
       "      <td>NaN</td>\n",
       "      <td>NaN</td>\n",
       "      <td>NaN</td>\n",
       "      <td>NaN</td>\n",
       "      <td>NaN</td>\n",
       "      <td>NaN</td>\n",
       "      <td>NaN</td>\n",
       "      <td>NaN</td>\n",
       "      <td>NaN</td>\n",
       "      <td>NaN</td>\n",
       "    </tr>\n",
       "  </tbody>\n",
       "</table>\n",
       "<p>1648 rows × 67 columns</p>\n",
       "</div>\n",
       "    <div class=\"colab-df-buttons\">\n",
       "\n",
       "  <div class=\"colab-df-container\">\n",
       "    <button class=\"colab-df-convert\" onclick=\"convertToInteractive('df-18f909e9-48e3-47ff-b156-daeddc752acc')\"\n",
       "            title=\"Convert this dataframe to an interactive table.\"\n",
       "            style=\"display:none;\">\n",
       "\n",
       "  <svg xmlns=\"http://www.w3.org/2000/svg\" height=\"24px\" viewBox=\"0 -960 960 960\">\n",
       "    <path d=\"M120-120v-720h720v720H120Zm60-500h600v-160H180v160Zm220 220h160v-160H400v160Zm0 220h160v-160H400v160ZM180-400h160v-160H180v160Zm440 0h160v-160H620v160ZM180-180h160v-160H180v160Zm440 0h160v-160H620v160Z\"/>\n",
       "  </svg>\n",
       "    </button>\n",
       "\n",
       "  <style>\n",
       "    .colab-df-container {\n",
       "      display:flex;\n",
       "      gap: 12px;\n",
       "    }\n",
       "\n",
       "    .colab-df-convert {\n",
       "      background-color: #E8F0FE;\n",
       "      border: none;\n",
       "      border-radius: 50%;\n",
       "      cursor: pointer;\n",
       "      display: none;\n",
       "      fill: #1967D2;\n",
       "      height: 32px;\n",
       "      padding: 0 0 0 0;\n",
       "      width: 32px;\n",
       "    }\n",
       "\n",
       "    .colab-df-convert:hover {\n",
       "      background-color: #E2EBFA;\n",
       "      box-shadow: 0px 1px 2px rgba(60, 64, 67, 0.3), 0px 1px 3px 1px rgba(60, 64, 67, 0.15);\n",
       "      fill: #174EA6;\n",
       "    }\n",
       "\n",
       "    .colab-df-buttons div {\n",
       "      margin-bottom: 4px;\n",
       "    }\n",
       "\n",
       "    [theme=dark] .colab-df-convert {\n",
       "      background-color: #3B4455;\n",
       "      fill: #D2E3FC;\n",
       "    }\n",
       "\n",
       "    [theme=dark] .colab-df-convert:hover {\n",
       "      background-color: #434B5C;\n",
       "      box-shadow: 0px 1px 3px 1px rgba(0, 0, 0, 0.15);\n",
       "      filter: drop-shadow(0px 1px 2px rgba(0, 0, 0, 0.3));\n",
       "      fill: #FFFFFF;\n",
       "    }\n",
       "  </style>\n",
       "\n",
       "    <script>\n",
       "      const buttonEl =\n",
       "        document.querySelector('#df-18f909e9-48e3-47ff-b156-daeddc752acc button.colab-df-convert');\n",
       "      buttonEl.style.display =\n",
       "        google.colab.kernel.accessAllowed ? 'block' : 'none';\n",
       "\n",
       "      async function convertToInteractive(key) {\n",
       "        const element = document.querySelector('#df-18f909e9-48e3-47ff-b156-daeddc752acc');\n",
       "        const dataTable =\n",
       "          await google.colab.kernel.invokeFunction('convertToInteractive',\n",
       "                                                    [key], {});\n",
       "        if (!dataTable) return;\n",
       "\n",
       "        const docLinkHtml = 'Like what you see? Visit the ' +\n",
       "          '<a target=\"_blank\" href=https://colab.research.google.com/notebooks/data_table.ipynb>data table notebook</a>'\n",
       "          + ' to learn more about interactive tables.';\n",
       "        element.innerHTML = '';\n",
       "        dataTable['output_type'] = 'display_data';\n",
       "        await google.colab.output.renderOutput(dataTable, element);\n",
       "        const docLink = document.createElement('div');\n",
       "        docLink.innerHTML = docLinkHtml;\n",
       "        element.appendChild(docLink);\n",
       "      }\n",
       "    </script>\n",
       "  </div>\n",
       "\n",
       "\n",
       "<div id=\"df-275d81bf-a300-42f1-ac3f-cc1d1cf5815c\">\n",
       "  <button class=\"colab-df-quickchart\" onclick=\"quickchart('df-275d81bf-a300-42f1-ac3f-cc1d1cf5815c')\"\n",
       "            title=\"Suggest charts\"\n",
       "            style=\"display:none;\">\n",
       "\n",
       "<svg xmlns=\"http://www.w3.org/2000/svg\" height=\"24px\"viewBox=\"0 0 24 24\"\n",
       "     width=\"24px\">\n",
       "    <g>\n",
       "        <path d=\"M19 3H5c-1.1 0-2 .9-2 2v14c0 1.1.9 2 2 2h14c1.1 0 2-.9 2-2V5c0-1.1-.9-2-2-2zM9 17H7v-7h2v7zm4 0h-2V7h2v10zm4 0h-2v-4h2v4z\"/>\n",
       "    </g>\n",
       "</svg>\n",
       "  </button>\n",
       "\n",
       "<style>\n",
       "  .colab-df-quickchart {\n",
       "      --bg-color: #E8F0FE;\n",
       "      --fill-color: #1967D2;\n",
       "      --hover-bg-color: #E2EBFA;\n",
       "      --hover-fill-color: #174EA6;\n",
       "      --disabled-fill-color: #AAA;\n",
       "      --disabled-bg-color: #DDD;\n",
       "  }\n",
       "\n",
       "  [theme=dark] .colab-df-quickchart {\n",
       "      --bg-color: #3B4455;\n",
       "      --fill-color: #D2E3FC;\n",
       "      --hover-bg-color: #434B5C;\n",
       "      --hover-fill-color: #FFFFFF;\n",
       "      --disabled-bg-color: #3B4455;\n",
       "      --disabled-fill-color: #666;\n",
       "  }\n",
       "\n",
       "  .colab-df-quickchart {\n",
       "    background-color: var(--bg-color);\n",
       "    border: none;\n",
       "    border-radius: 50%;\n",
       "    cursor: pointer;\n",
       "    display: none;\n",
       "    fill: var(--fill-color);\n",
       "    height: 32px;\n",
       "    padding: 0;\n",
       "    width: 32px;\n",
       "  }\n",
       "\n",
       "  .colab-df-quickchart:hover {\n",
       "    background-color: var(--hover-bg-color);\n",
       "    box-shadow: 0 1px 2px rgba(60, 64, 67, 0.3), 0 1px 3px 1px rgba(60, 64, 67, 0.15);\n",
       "    fill: var(--button-hover-fill-color);\n",
       "  }\n",
       "\n",
       "  .colab-df-quickchart-complete:disabled,\n",
       "  .colab-df-quickchart-complete:disabled:hover {\n",
       "    background-color: var(--disabled-bg-color);\n",
       "    fill: var(--disabled-fill-color);\n",
       "    box-shadow: none;\n",
       "  }\n",
       "\n",
       "  .colab-df-spinner {\n",
       "    border: 2px solid var(--fill-color);\n",
       "    border-color: transparent;\n",
       "    border-bottom-color: var(--fill-color);\n",
       "    animation:\n",
       "      spin 1s steps(1) infinite;\n",
       "  }\n",
       "\n",
       "  @keyframes spin {\n",
       "    0% {\n",
       "      border-color: transparent;\n",
       "      border-bottom-color: var(--fill-color);\n",
       "      border-left-color: var(--fill-color);\n",
       "    }\n",
       "    20% {\n",
       "      border-color: transparent;\n",
       "      border-left-color: var(--fill-color);\n",
       "      border-top-color: var(--fill-color);\n",
       "    }\n",
       "    30% {\n",
       "      border-color: transparent;\n",
       "      border-left-color: var(--fill-color);\n",
       "      border-top-color: var(--fill-color);\n",
       "      border-right-color: var(--fill-color);\n",
       "    }\n",
       "    40% {\n",
       "      border-color: transparent;\n",
       "      border-right-color: var(--fill-color);\n",
       "      border-top-color: var(--fill-color);\n",
       "    }\n",
       "    60% {\n",
       "      border-color: transparent;\n",
       "      border-right-color: var(--fill-color);\n",
       "    }\n",
       "    80% {\n",
       "      border-color: transparent;\n",
       "      border-right-color: var(--fill-color);\n",
       "      border-bottom-color: var(--fill-color);\n",
       "    }\n",
       "    90% {\n",
       "      border-color: transparent;\n",
       "      border-bottom-color: var(--fill-color);\n",
       "    }\n",
       "  }\n",
       "</style>\n",
       "\n",
       "  <script>\n",
       "    async function quickchart(key) {\n",
       "      const quickchartButtonEl =\n",
       "        document.querySelector('#' + key + ' button');\n",
       "      quickchartButtonEl.disabled = true;  // To prevent multiple clicks.\n",
       "      quickchartButtonEl.classList.add('colab-df-spinner');\n",
       "      try {\n",
       "        const charts = await google.colab.kernel.invokeFunction(\n",
       "            'suggestCharts', [key], {});\n",
       "      } catch (error) {\n",
       "        console.error('Error during call to suggestCharts:', error);\n",
       "      }\n",
       "      quickchartButtonEl.classList.remove('colab-df-spinner');\n",
       "      quickchartButtonEl.classList.add('colab-df-quickchart-complete');\n",
       "    }\n",
       "    (() => {\n",
       "      let quickchartButtonEl =\n",
       "        document.querySelector('#df-275d81bf-a300-42f1-ac3f-cc1d1cf5815c button');\n",
       "      quickchartButtonEl.style.display =\n",
       "        google.colab.kernel.accessAllowed ? 'block' : 'none';\n",
       "    })();\n",
       "  </script>\n",
       "</div>\n",
       "\n",
       "  <div id=\"id_b3c89c76-dced-41bc-9cc7-f3605151395c\">\n",
       "    <style>\n",
       "      .colab-df-generate {\n",
       "        background-color: #E8F0FE;\n",
       "        border: none;\n",
       "        border-radius: 50%;\n",
       "        cursor: pointer;\n",
       "        display: none;\n",
       "        fill: #1967D2;\n",
       "        height: 32px;\n",
       "        padding: 0 0 0 0;\n",
       "        width: 32px;\n",
       "      }\n",
       "\n",
       "      .colab-df-generate:hover {\n",
       "        background-color: #E2EBFA;\n",
       "        box-shadow: 0px 1px 2px rgba(60, 64, 67, 0.3), 0px 1px 3px 1px rgba(60, 64, 67, 0.15);\n",
       "        fill: #174EA6;\n",
       "      }\n",
       "\n",
       "      [theme=dark] .colab-df-generate {\n",
       "        background-color: #3B4455;\n",
       "        fill: #D2E3FC;\n",
       "      }\n",
       "\n",
       "      [theme=dark] .colab-df-generate:hover {\n",
       "        background-color: #434B5C;\n",
       "        box-shadow: 0px 1px 3px 1px rgba(0, 0, 0, 0.15);\n",
       "        filter: drop-shadow(0px 1px 2px rgba(0, 0, 0, 0.3));\n",
       "        fill: #FFFFFF;\n",
       "      }\n",
       "    </style>\n",
       "    <button class=\"colab-df-generate\" onclick=\"generateWithVariable('nan_rows')\"\n",
       "            title=\"Generate code using this dataframe.\"\n",
       "            style=\"display:none;\">\n",
       "\n",
       "  <svg xmlns=\"http://www.w3.org/2000/svg\" height=\"24px\"viewBox=\"0 0 24 24\"\n",
       "       width=\"24px\">\n",
       "    <path d=\"M7,19H8.4L18.45,9,17,7.55,7,17.6ZM5,21V16.75L18.45,3.32a2,2,0,0,1,2.83,0l1.4,1.43a1.91,1.91,0,0,1,.58,1.4,1.91,1.91,0,0,1-.58,1.4L9.25,21ZM18.45,9,17,7.55Zm-12,3A5.31,5.31,0,0,0,4.9,8.1,5.31,5.31,0,0,0,1,6.5,5.31,5.31,0,0,0,4.9,4.9,5.31,5.31,0,0,0,6.5,1,5.31,5.31,0,0,0,8.1,4.9,5.31,5.31,0,0,0,12,6.5,5.46,5.46,0,0,0,6.5,12Z\"/>\n",
       "  </svg>\n",
       "    </button>\n",
       "    <script>\n",
       "      (() => {\n",
       "      const buttonEl =\n",
       "        document.querySelector('#id_b3c89c76-dced-41bc-9cc7-f3605151395c button.colab-df-generate');\n",
       "      buttonEl.style.display =\n",
       "        google.colab.kernel.accessAllowed ? 'block' : 'none';\n",
       "\n",
       "      buttonEl.onclick = () => {\n",
       "        google.colab.notebook.generateWithVariable('nan_rows');\n",
       "      }\n",
       "      })();\n",
       "    </script>\n",
       "  </div>\n",
       "\n",
       "    </div>\n",
       "  </div>\n"
      ],
      "text/plain": [
       "      court_index_number  docket_number           eviction_address  \\\n",
       "105            Q75285/16          74259        213 BEACH 99 STREET   \n",
       "132            Q72854/16          74382        711B SEAGIRT AVENUE   \n",
       "200            Q65762/16          92015     180 BEACH 117TH STREET   \n",
       "205            Q59869/16          91103          171 BEACH 26TH ST   \n",
       "280             64250/16           7180        231 BEACH 100TH ST.   \n",
       "...                  ...            ...                        ...   \n",
       "73941         0303331/23          22381  51-24 BEACH CHANNEL DRIVE   \n",
       "73942          309866/22          17441       707 BEACH 9TH STREET   \n",
       "73956          320832/23         140338  162 BEACH 116TH   ST REET   \n",
       "73960          301187/24          42289     180 BEACH 117TH STREET   \n",
       "73995          307552/23           9433         1074 BEACH 22ND ST   \n",
       "\n",
       "      eviction_apartment_number executed_date borough eviction_postcode  \\\n",
       "105                           2    2017-01-04  QUEENS             11694   \n",
       "132                          5M    2017-01-04  QUEENS             11691   \n",
       "200                         2-E    2017-01-04  QUEENS             11694   \n",
       "205                           1    2017-01-04  QUEENS             11691   \n",
       "280                          #1    2017-01-05  QUEENS             11694   \n",
       "...                         ...           ...     ...               ...   \n",
       "73941                        7B    2024-12-18  QUEENS             11691   \n",
       "73942                        3P    2024-12-18  QUEENS             11691   \n",
       "73956                        3R    2024-12-18  QUEENS             11694   \n",
       "73960                       #6K    2024-12-18  QUEENS             11694   \n",
       "73995                   unknown    2024-12-19  QUEENS             11691   \n",
       "\n",
       "              ejectment eviction/legal_possession   latitude  ...  ep_hburd  \\\n",
       "105    Not an Ejectment                Possession  40.584419  ...       NaN   \n",
       "132    Not an Ejectment                Possession  40.595996  ...       NaN   \n",
       "200    Not an Ejectment                Possession  40.578958  ...       NaN   \n",
       "205    Not an Ejectment                Possession  40.594155  ...       NaN   \n",
       "280    Not an Ejectment                Possession  40.584585  ...       NaN   \n",
       "...                 ...                       ...        ...  ...       ...   \n",
       "73941  Not an Ejectment                Possession  40.595255  ...       NaN   \n",
       "73942  Not an Ejectment                Possession  40.602163  ...       NaN   \n",
       "73956  Not an Ejectment                Possession  40.578937  ...       NaN   \n",
       "73960  Not an Ejectment                Possession  40.578958  ...       NaN   \n",
       "73995  Not an Ejectment                Possession  40.603970  ...       NaN   \n",
       "\n",
       "       ep_afam  ep_hisp  ep_asian  ep_aian  ep_nhpi ep_twomore ep_otherrace  \\\n",
       "105        NaN      NaN       NaN      NaN      NaN        NaN          NaN   \n",
       "132        NaN      NaN       NaN      NaN      NaN        NaN          NaN   \n",
       "200        NaN      NaN       NaN      NaN      NaN        NaN          NaN   \n",
       "205        NaN      NaN       NaN      NaN      NaN        NaN          NaN   \n",
       "280        NaN      NaN       NaN      NaN      NaN        NaN          NaN   \n",
       "...        ...      ...       ...      ...      ...        ...          ...   \n",
       "73941      NaN      NaN       NaN      NaN      NaN        NaN          NaN   \n",
       "73942      NaN      NaN       NaN      NaN      NaN        NaN          NaN   \n",
       "73956      NaN      NaN       NaN      NaN      NaN        NaN          NaN   \n",
       "73960      NaN      NaN       NaN      NaN      NaN        NaN          NaN   \n",
       "73995      NaN      NaN       NaN      NaN      NaN        NaN          NaN   \n",
       "\n",
       "       ep_minrty  ep_white  \n",
       "105          NaN       NaN  \n",
       "132          NaN       NaN  \n",
       "200          NaN       NaN  \n",
       "205          NaN       NaN  \n",
       "280          NaN       NaN  \n",
       "...          ...       ...  \n",
       "73941        NaN       NaN  \n",
       "73942        NaN       NaN  \n",
       "73956        NaN       NaN  \n",
       "73960        NaN       NaN  \n",
       "73995        NaN       NaN  \n",
       "\n",
       "[1648 rows x 67 columns]"
      ]
     },
     "execution_count": 32,
     "metadata": {},
     "output_type": "execute_result"
    }
   ],
   "source": [
    "nan_rows = merged_df[merged_df['rpl_themes'].isna()]\n",
    "nan_rows # the zipcodes were not matches in this case and all the svi columns are nan"
   ]
  },
  {
   "cell_type": "code",
   "execution_count": 22,
   "metadata": {
    "colab": {
     "base_uri": "https://localhost:8080/"
    },
    "id": "PFA3XCQ1_y45",
    "outputId": "12142646-3fbc-439f-a8cd-94e9c69f0ac0"
   },
   "outputs": [
    {
     "name": "stdout",
     "output_type": "stream",
     "text": [
      "2.22456197186901 % missing rows\n"
     ]
    }
   ],
   "source": [
    "missing_svi = merged_df['rpl_themes'].isna().sum()\n",
    "print(missing_svi/len(merged_df)*100,\"% missing rows\")"
   ]
  },
  {
   "cell_type": "code",
   "execution_count": 34,
   "metadata": {
    "colab": {
     "base_uri": "https://localhost:8080/"
    },
    "id": "0D67_4p9kPm2",
    "outputId": "a40048ae-e865-4d03-efc7-42c65a8f68aa"
   },
   "outputs": [
    {
     "data": {
      "text/plain": [
       "np.int64(1648)"
      ]
     },
     "execution_count": 34,
     "metadata": {},
     "output_type": "execute_result"
    }
   ],
   "source": [
    "missing_svi"
   ]
  },
  {
   "cell_type": "code",
   "execution_count": 24,
   "metadata": {
    "colab": {
     "base_uri": "https://localhost:8080/"
    },
    "id": "ICqAcT5y-4yp",
    "outputId": "b468ee14-c7b2-4330-ddb5-22511caf151c"
   },
   "outputs": [
    {
     "data": {
      "text/plain": [
       "array(['11694', '11691', '11692', '11693', '11040', '10101', '11001',\n",
       "       '11384', '11439', '11242', '10424', '11137', '11443', '11266',\n",
       "       '11272', '11698', '10000', '11442', '10433', '11382', '10041',\n",
       "       '11202', '11467', '10360', '10260'], dtype=object)"
      ]
     },
     "execution_count": 24,
     "metadata": {},
     "output_type": "execute_result"
    }
   ],
   "source": [
    "missing_postcodes = merged_df[merged_df['rpl_themes'].isna()]['eviction_postcode'].unique()\n",
    "missing_postcodes"
   ]
  },
  {
   "cell_type": "markdown",
   "metadata": {
    "id": "ZJUejf4LkUvE"
   },
   "source": [
    "These zipcodes do not have matches. Roughly these neighborhoods: Neighborhoods were affected:\n",
    "Rockaway Park, Belle Harbor, Neponsit, Roxbury, Far Rockaway, Bayswater, Arverne, Edgemere, Rockaway Beach, Hammels, New Hyde Park, Floral Park, Bellerose, Brooklyn Heights, Financial District."
   ]
  },
  {
   "cell_type": "code",
   "execution_count": 35,
   "metadata": {
    "id": "rUisBtRMALMc"
   },
   "outputs": [],
   "source": [
    "missing_postcodes = merged_df[merged_df['rpl_themes'].isna()]['eviction_postcode'].unique()"
   ]
  },
  {
   "cell_type": "code",
   "execution_count": 36,
   "metadata": {
    "colab": {
     "base_uri": "https://localhost:8080/"
    },
    "id": "6zW1bywQAJja",
    "outputId": "a301e5e4-8208-4f32-fdbc-ebd7b707daea"
   },
   "outputs": [
    {
     "data": {
      "text/plain": [
       "((74082, 67), (72434, 67), 1648)"
      ]
     },
     "execution_count": 36,
     "metadata": {},
     "output_type": "execute_result"
    }
   ],
   "source": [
    "merged_df_clean = merged_df[~merged_df['eviction_postcode'].isin(missing_postcodes)]\n",
    "merged_df.shape, merged_df_clean.shape, len(merged_df) - len(merged_df_clean)"
   ]
  },
  {
   "cell_type": "code",
   "execution_count": null,
   "metadata": {
    "id": "4PwczapkAONF"
   },
   "outputs": [],
   "source": [
    "# merged_df_clean.columns"
   ]
  },
  {
   "cell_type": "code",
   "execution_count": 27,
   "metadata": {
    "colab": {
     "base_uri": "https://localhost:8080/",
     "height": 507
    },
    "id": "W7hDDQvyAgrq",
    "outputId": "559a9f61-3a2e-4217-9b56-08d97a50dd40"
   },
   "outputs": [
    {
     "data": {
      "image/png": "[encoded data removed]",
      "text/plain": [
       "<Figure size 500x500 with 2 Axes>"
      ]
     },
     "metadata": {},
     "output_type": "display_data"
    }
   ],
   "source": [
    "key_vars = ['average_year_eviction_count', 'rpl_themes', 'rpl_theme1', 'rpl_theme2', 'rpl_theme3', 'rpl_theme4']\n",
    "correlation_heatmap = merged_df_clean[key_vars].corr(method='spearman')\n",
    "\n",
    "plt.figure(figsize=(5, 5))\n",
    "sns.heatmap(correlation_heatmap, annot=True, cmap='coolwarm', vmin=-1, vmax=1)\n",
    "plt.title('Spearman Correlation Between Eviction Rate and SVI Components')\n",
    "plt.tight_layout()\n",
    "plt.savefig('eviction_svi_correlation.png')"
   ]
  },
  {
   "cell_type": "code",
   "execution_count": 28,
   "metadata": {
    "colab": {
     "base_uri": "https://localhost:8080/"
    },
    "id": "--lH_F3itOAB",
    "outputId": "721f3731-aefb-4fb5-fdb3-3d3247742ff3"
   },
   "outputs": [
    {
     "name": "stdout",
     "output_type": "stream",
     "text": [
      "correlation between eviction rate and rpl_themes: r = 0.203, p = 0.0000 (significant)\n",
      "correlation between eviction rate and rpl_theme1: r = 0.145, p = 0.0000 (significant)\n",
      "correlation between eviction rate and rpl_theme2: r = 0.218, p = 0.0000 (significant)\n",
      "correlation between eviction rate and rpl_theme3: r = 0.158, p = 0.0000 (significant)\n",
      "correlation between eviction rate and rpl_theme4: r = 0.121, p = 0.0000 (significant)\n"
     ]
    }
   ],
   "source": [
    "key_vars = ['average_year_eviction_count', 'rpl_themes', 'rpl_theme1', 'rpl_theme2', 'rpl_theme3', 'rpl_theme4']\n",
    "correlation_results = {}\n",
    "\n",
    "for var in key_vars[1:]:\n",
    "    correlation, p_value = stats.spearmanr(merged_df_clean['average_year_eviction_count'], merged_df_clean[var])\n",
    "    correlation_results[var] = {'correlation': correlation, 'p_value': p_value}\n",
    "\n",
    "for var, results in correlation_results.items():\n",
    "    significance = \"significant\" if results['p_value'] < 0.05 else \"not significant\"\n",
    "    print(f\"correlation between eviction rate and {var}: r = {results['correlation']:.3f}, p = {results['p_value']:.4f} ({significance})\")"
   ]
  },
  {
   "cell_type": "markdown",
   "metadata": {
    "id": "XbB-xfGvCnNW"
   },
   "source": [
    "The relatively weak correlations between eviction rates and SVI components suggest that evictions in NYC are not simply driven by social vulnerability as measured by the SVI. Other factors not captured in the SVI (such as local housing policies, landlord practices, or rental market conditions) likely play important roles.\n",
    "\n",
    "The household composition/disability theme having the strongest correlation (but still weak) might indicate that household structure and disability status may be slightly more relevant to eviction risk than other vulnerability factors."
   ]
  },
  {
   "cell_type": "code",
   "execution_count": 29,
   "metadata": {
    "colab": {
     "base_uri": "https://localhost:8080/",
     "height": 307
    },
    "id": "zg7-eD6EAzC8",
    "outputId": "d7f7418b-c966-4f79-9bbf-68137691c6df"
   },
   "outputs": [
    {
     "data": {
      "image/png": "[encoded data removed]",
      "text/plain": [
       "<Figure size 300x300 with 1 Axes>"
      ]
     },
     "metadata": {},
     "output_type": "display_data"
    }
   ],
   "source": [
    "merged_df_clean['svi_quartile'] = pd.qcut(merged_df_clean['rpl_themes'], 4, labels=['Q1 (Low)', 'Q2', 'Q3', 'Q4 (High)'])\n",
    "quartile_analysis = merged_df_clean.groupby('svi_quartile').agg({\n",
    "    'average_year_eviction_count': 'mean',\n",
    "    'eviction_count': 'sum',\n",
    "    'e_totpop': 'sum'\n",
    "}).reset_index()\n",
    "quartile_analysis['total_eviction_rate'] = quartile_analysis['average_year_eviction_count'] / quartile_analysis['e_totpop'] * 1000\n",
    "plt.figure(figsize=(3, 3))\n",
    "sns.barplot(x='svi_quartile', y='total_eviction_rate', data=quartile_analysis)\n",
    "plt.title('Eviction Rate by Social Vulnerability Index Quartile')\n",
    "plt.ylabel('Evictions per 1,000 residents')\n",
    "plt.xlabel('SVI Quartile')\n",
    "plt.tight_layout()\n",
    "plt.savefig('eviction_by_svi_quartile.png')"
   ]
  },
  {
   "cell_type": "markdown",
   "metadata": {
    "id": "V1AF2oYQefGp"
   },
   "source": [
    "Though with fairly weak correlation, we do see more people with higher svi score experienced more evictions than others."
   ]
  },
  {
   "cell_type": "code",
   "execution_count": null,
   "metadata": {
    "id": "w6Rs5nNceebm"
   },
   "outputs": [],
   "source": []
  },
  {
   "cell_type": "code",
   "execution_count": 30,
   "metadata": {
    "colab": {
     "base_uri": "https://localhost:8080/",
     "height": 407
    },
    "id": "nUbcAD5NBEby",
    "outputId": "3db1667a-2d77-4c94-d141-971559007ee1"
   },
   "outputs": [
    {
     "data": {
      "image/png": "[encoded data removed]",
      "text/plain": [
       "<Figure size 400x400 with 1 Axes>"
      ]
     },
     "metadata": {},
     "output_type": "display_data"
    }
   ],
   "source": [
    "time_analysis = merged_df_clean.groupby(['year', 'svi_quartile']).agg({\n",
    "    'average_year_eviction_count': 'sum',\n",
    "    'e_totpop': 'sum'\n",
    "}).reset_index()\n",
    "time_analysis['yearly_eviction_rate'] = time_analysis['average_year_eviction_count'] / time_analysis['e_totpop'] * 1000\n",
    "\n",
    "plt.figure(figsize=(4, 4))\n",
    "sns.lineplot(x='year', y='yearly_eviction_rate', hue='svi_quartile', data=time_analysis, marker='o')\n",
    "plt.title('Eviction Rate Trends by SVI Quartile')\n",
    "plt.ylabel('Evictions per 1,000 residents')\n",
    "plt.xlabel('Year')\n",
    "plt.tight_layout()\n",
    "plt.savefig('eviction_trends_svi.png')"
   ]
  },
  {
   "cell_type": "markdown",
   "metadata": {
    "id": "rhiA-GtSeqp4"
   },
   "source": [
    "though svi is not a strong preditor for evictions, it does show that over time, people with higher svi are more likely to experience evictions."
   ]
  },
  {
   "cell_type": "code",
   "execution_count": null,
   "metadata": {
    "id": "AJK1NfAPd8JC"
   },
   "outputs": [],
   "source": []
  }
 ],
 "metadata": {
  "colab": {
   "provenance": []
  },
  "kernelspec": {
   "display_name": "Python 3 (ipykernel)",
   "language": "python",
   "name": "python3"
  },
  "language_info": {
   "codemirror_mode": {
    "name": "ipython",
    "version": 3
   },
   "file_extension": ".py",
   "mimetype": "text/x-python",
   "name": "python",
   "nbconvert_exporter": "python",
   "pygments_lexer": "ipython3",
   "version": "3.11.0"
  }
 },
 "nbformat": 4,
 "nbformat_minor": 0
}
