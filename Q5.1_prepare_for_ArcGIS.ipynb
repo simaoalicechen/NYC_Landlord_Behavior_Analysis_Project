{
 "cells": [
  {
   "cell_type": "markdown",
   "metadata": {
    "id": "RJJaRxjLsajI"
   },
   "source": [
    "## Introduction\n",
    "\n",
    "In this notebook, we prepare the csv files that will be used for ArcGIS.\n",
    "\n",
    "They need to be: \n",
    "1) small. In this case, we break down the original dataset into different boroughs and analyze/visualize to prevent ArcGIS glitches; \n",
    "2) have the correct \"BIN\" column and data (integers) for joins; \n",
    "3) We do not group by neighborhood or zip codes yet, so that we can have some visuals for each building. The average_eviction_count will be by each building over the 7 years. \n",
    "4) **The key to successfully operate a \"join\" in ArcGIS is to**\n",
    "\n",
    "*   Choose a good dataset from the port / download the original one and reduce them;\n",
    "*   Export the ones from the port (export their features) and form new editable table;\n",
    "*   Re-index the join columns in the table's property section;\n",
    "*   Join the attribute table (in this case, the building footprints) with self-cleaned csvs\n",
    "\n",
    "5) The final results in this notebook can be shp files/geojason, but they don't have to be. The correct file formats for shape (zip) files are: cpg, dbf, geojson, prj, shp. \n",
    "\n",
    "In the next notebook, we will re-aggregate the average eviction counts by neighborhood or zip to create comparable visuals with SVI (social vulnerability index) Scores.\n",
    "\n"
   ]
  },
  {
   "cell_type": "markdown",
   "metadata": {
    "id": "NeoAmoJqIa59"
   },
   "source": [
    "BBL Data explainations:\n",
    "https://data.cityofnewyork.us/City-Government/Primary-Land-Use-Tax-Lot-Output-PLUTO-/64uk-42ks/about_data\n",
    "\n",
    "A very detailed NYC building info data: https://s-media.nyc.gov/agencies/dcp/assets/files/pdf/data-tools/bytes/padgui.pdf\n",
    "\n",
    "Some other info: https://www.nyc.gov/assets/finance/jump/hlpbldgcode.html\n"
   ]
  },
  {
   "cell_type": "code",
   "execution_count": 1,
   "metadata": {
    "id": "8BDmR5z23Lgw"
   },
   "outputs": [],
   "source": [
    "# !pip install geopandas folium matplotlib seaborn scipy\n",
    "# !pip install esda\n",
    "# !pip install splot\n",
    "# # for google colab, had to reinstall some pacakges."
   ]
  },
  {
   "cell_type": "code",
   "execution_count": 2,
   "metadata": {
    "id": "rOCrbQvHzouc"
   },
   "outputs": [],
   "source": [
    "# !pip install geopandas folium matplotlib seaborn scipy esda splot"
   ]
  },
  {
   "cell_type": "code",
   "execution_count": null,
   "metadata": {
    "id": "nAmNEs6wVScC"
   },
   "outputs": [],
   "source": [
    "import pandas as pd\n",
    "import geopandas as gpd\n",
    "import numpy as np\n",
    "import datetime as dt\n",
    "import scipy\n",
    "\n",
    "from sklearn.cluster import DBSCAN\n",
    "from sklearn.cluster import KMeans\n",
    "from sklearn.preprocessing import StandardScaler\n",
    "from sklearn.metrics import silhouette_score\n",
    "\n",
    "# visualization\n",
    "import matplotlib.pyplot as plt\n",
    "from matplotlib import colors as mcolors\n",
    "import seaborn as sns\n",
    "import folium\n",
    "from folium.plugins import HeatMap\n",
    "from folium import Marker\n",
    "from folium.plugins import MarkerCluster\n",
    "import plotly.express as px\n",
    "import plotly.io as pio\n",
    "\n",
    "# spatial statistics\n",
    "from esda.moran import Moran\n",
    "from esda import Moran_Local\n",
    "from esda.getisord import G_Local\n",
    "from shapely.geometry import Point\n",
    "from libpysal.weights import Queen, Rook\n",
    "\n",
    "# system and utility\n",
    "import warnings\n",
    "import os\n",
    "import io\n",
    "from IPython.display import IFrame\n",
    "from google.colab import files\n",
    "\n",
    "from libpysal.weights import Queen, Rook\n",
    "from esda.moran import Moran\n",
    "import matplotlib.pyplot as plt\n",
    "from splot.esda import moran_scatterplot\n",
    "\n",
    "# suppress warnings\n",
    "warnings.filterwarnings('ignore')\n",
    "\n",
    "# inline\n",
    "%matplotlib inline"
   ]
  },
  {
   "cell_type": "markdown",
   "metadata": {
    "id": "mdu1MZ4dafhf"
   },
   "source": [
    "# Part 1: Get the Evictions data"
   ]
  },
  {
   "cell_type": "code",
   "execution_count": null,
   "metadata": {
    "colab": {
     "base_uri": "https://localhost:8080/"
    },
    "id": "fVLfYL7LWCKH",
    "outputId": "85367312-3334-43f3-a41f-7a809b9ef853"
   },
   "outputs": [
    {
     "name": "stdout",
     "output_type": "stream",
     "text": [
      "Mounted at /content/drive\n"
     ]
    }
   ],
   "source": [
    "from google.colab import drive\n",
    "drive.mount('/content/drive')"
   ]
  },
  {
   "cell_type": "code",
   "execution_count": null,
   "metadata": {
    "id": "wFISYw4rQTag"
   },
   "outputs": [],
   "source": [
    "# data source:\n",
    "# gdf already cleaned with lisa info\n",
    "file_path = '/content/drive/My Drive/X999/evictions_cleaned_lisa.csv'"
   ]
  },
  {
   "cell_type": "markdown",
   "metadata": {
    "id": "9gNO6bFxcZak"
   },
   "source": []
  },
  {
   "cell_type": "code",
   "execution_count": null,
   "metadata": {
    "id": "euMz6qtOA-Re"
   },
   "outputs": [],
   "source": [
    "evictions_cleaned_raw = pd.read_csv(file_path)"
   ]
  },
  {
   "cell_type": "code",
   "execution_count": null,
   "metadata": {
    "id": "-nNgSlMwskhZ"
   },
   "outputs": [],
   "source": [
    "evictions_cleaned = evictions_cleaned_raw.copy()"
   ]
  },
  {
   "cell_type": "code",
   "execution_count": null,
   "metadata": {
    "colab": {
     "base_uri": "https://localhost:8080/"
    },
    "id": "VnAeydLuxvAc",
    "outputId": "7ff08099-3275-4602-ecb0-e546100bb27a"
   },
   "outputs": [
    {
     "data": {
      "text/plain": [
       "Index(['court_index_number', 'docket_number', 'eviction_address',\n",
       "       'eviction_apartment_number', 'executed_date', 'borough',\n",
       "       'eviction_postcode', 'ejectment', 'eviction/legal_possession',\n",
       "       'latitude', 'longitude', 'community_board', 'council_district',\n",
       "       'census_tract', 'bin', 'bbl', 'nta', 'geometry', 'eviction_count',\n",
       "       'year', 'average_year_eviction_count', 'cluster', 'cluster_k',\n",
       "       'same_cluster', 'lisa_cluster_rook', 'lisa_pvalue_rook',\n",
       "       'lisa_cluster_queen', 'lisa_pvalue_queen'],\n",
       "      dtype='object')"
      ]
     },
     "execution_count": 8,
     "metadata": {},
     "output_type": "execute_result"
    }
   ],
   "source": [
    "evictions_cleaned.columns"
   ]
  },
  {
   "cell_type": "code",
   "execution_count": null,
   "metadata": {
    "colab": {
     "base_uri": "https://localhost:8080/"
    },
    "id": "-E49Gqilp26d",
    "outputId": "5624531d-ee3e-42f4-b6e3-fdd22b23b024"
   },
   "outputs": [
    {
     "data": {
      "text/plain": [
       "Index(['eviction_address', 'eviction_apartment_number', 'borough',\n",
       "       'eviction_postcode', 'latitude', 'longitude', 'bin', 'bbl',\n",
       "       'eviction_count', 'year', 'average_year_eviction_count', 'geometry'],\n",
       "      dtype='object')"
      ]
     },
     "execution_count": 10,
     "metadata": {},
     "output_type": "execute_result"
    }
   ],
   "source": [
    "relevant_columns = [\n",
    "    'eviction_address', 'eviction_apartment_number', 'borough', 'eviction_postcode',\n",
    "    'latitude', 'longitude', 'bin', 'bbl', 'eviction_count', 'year',\n",
    "    'average_year_eviction_count', 'geometry'\n",
    "]\n",
    "\n",
    "# Filter the DataFrame to keep only relevant columns\n",
    "evictions_cleaned_filtered = evictions_cleaned[relevant_columns]\n",
    "evictions_cleaned_filtered.columns"
   ]
  },
  {
   "cell_type": "code",
   "execution_count": null,
   "metadata": {
    "id": "XJobRZemquqf"
   },
   "outputs": [],
   "source": [
    "from shapely.wkt import loads\n",
    "evictions_cleaned_filtered['geometry'] = evictions_cleaned_filtered['geometry'].apply(loads)"
   ]
  },
  {
   "cell_type": "code",
   "execution_count": null,
   "metadata": {
    "id": "fbpV0IaXqUvO"
   },
   "outputs": [],
   "source": [
    "evictions_cleaned_geo = gpd.GeoDataFrame(evictions_cleaned_filtered, geometry='geometry', crs=\"EPSG:4326\")"
   ]
  },
  {
   "cell_type": "code",
   "execution_count": null,
   "metadata": {
    "colab": {
     "base_uri": "https://localhost:8080/",
     "height": 458
    },
    "id": "56VK1C64q7IO",
    "outputId": "7cd45c95-9aad-4b09-c4b9-d53f2dc409e1"
   },
   "outputs": [
    {
     "data": {
      "text/html": [
       "<div>\n",
       "<style scoped>\n",
       "    .dataframe tbody tr th:only-of-type {\n",
       "        vertical-align: middle;\n",
       "    }\n",
       "\n",
       "    .dataframe tbody tr th {\n",
       "        vertical-align: top;\n",
       "    }\n",
       "\n",
       "    .dataframe thead th {\n",
       "        text-align: right;\n",
       "    }\n",
       "</style>\n",
       "<table border=\"1\" class=\"dataframe\">\n",
       "  <thead>\n",
       "    <tr style=\"text-align: right;\">\n",
       "      <th></th>\n",
       "      <th>0</th>\n",
       "    </tr>\n",
       "  </thead>\n",
       "  <tbody>\n",
       "    <tr>\n",
       "      <th>0</th>\n",
       "      <td>Point</td>\n",
       "    </tr>\n",
       "    <tr>\n",
       "      <th>1</th>\n",
       "      <td>Point</td>\n",
       "    </tr>\n",
       "    <tr>\n",
       "      <th>2</th>\n",
       "      <td>Point</td>\n",
       "    </tr>\n",
       "    <tr>\n",
       "      <th>3</th>\n",
       "      <td>Point</td>\n",
       "    </tr>\n",
       "    <tr>\n",
       "      <th>4</th>\n",
       "      <td>Point</td>\n",
       "    </tr>\n",
       "    <tr>\n",
       "      <th>...</th>\n",
       "      <td>...</td>\n",
       "    </tr>\n",
       "    <tr>\n",
       "      <th>76479</th>\n",
       "      <td>Point</td>\n",
       "    </tr>\n",
       "    <tr>\n",
       "      <th>76480</th>\n",
       "      <td>Point</td>\n",
       "    </tr>\n",
       "    <tr>\n",
       "      <th>76481</th>\n",
       "      <td>Point</td>\n",
       "    </tr>\n",
       "    <tr>\n",
       "      <th>76482</th>\n",
       "      <td>Point</td>\n",
       "    </tr>\n",
       "    <tr>\n",
       "      <th>76483</th>\n",
       "      <td>Point</td>\n",
       "    </tr>\n",
       "  </tbody>\n",
       "</table>\n",
       "<p>76484 rows × 1 columns</p>\n",
       "</div><br><label><b>dtype:</b> object</label>"
      ],
      "text/plain": [
       "0        Point\n",
       "1        Point\n",
       "2        Point\n",
       "3        Point\n",
       "4        Point\n",
       "         ...  \n",
       "76479    Point\n",
       "76480    Point\n",
       "76481    Point\n",
       "76482    Point\n",
       "76483    Point\n",
       "Length: 76484, dtype: object"
      ]
     },
     "execution_count": 13,
     "metadata": {},
     "output_type": "execute_result"
    }
   ],
   "source": [
    "evictions_cleaned_geo.geometry.type"
   ]
  },
  {
   "cell_type": "code",
   "execution_count": null,
   "metadata": {
    "colab": {
     "base_uri": "https://localhost:8080/",
     "height": 400
    },
    "id": "tn5tcEFHrAiX",
    "outputId": "f179a065-742e-46f0-8357-43c0db6eb5d6"
   },
   "outputs": [
    {
     "data": {
      "application/vnd.google.colaboratory.intrinsic+json": {
       "summary": "{\n  \"name\": \"evictions_cleaned_geo\",\n  \"rows\": 76484,\n  \"fields\": [\n    {\n      \"column\": \"eviction_address\",\n      \"properties\": {\n        \"dtype\": \"string\",\n        \"num_unique_values\": 43870,\n        \"samples\": [\n          \"135 DIVISION STREET\",\n          \"92-61 165TH STREET\",\n          \"114-55 144TH STREET\"\n        ],\n        \"semantic_type\": \"\",\n        \"description\": \"\"\n      }\n    },\n    {\n      \"column\": \"eviction_apartment_number\",\n      \"properties\": {\n        \"dtype\": \"category\",\n        \"num_unique_values\": 7246,\n        \"samples\": [\n          \"13-2\",\n          \"RM 11\",\n          \"011E\"\n        ],\n        \"semantic_type\": \"\",\n        \"description\": \"\"\n      }\n    },\n    {\n      \"column\": \"borough\",\n      \"properties\": {\n        \"dtype\": \"category\",\n        \"num_unique_values\": 5,\n        \"samples\": [\n          \"BRONX\",\n          \"MANHATTAN\",\n          \"STATEN ISLAND\"\n        ],\n        \"semantic_type\": \"\",\n        \"description\": \"\"\n      }\n    },\n    {\n      \"column\": \"eviction_postcode\",\n      \"properties\": {\n        \"dtype\": \"number\",\n        \"std\": 505,\n        \"min\": 10000,\n        \"max\": 11698,\n        \"num_unique_values\": 201,\n        \"samples\": [\n          11427,\n          10460,\n          11432\n        ],\n        \"semantic_type\": \"\",\n        \"description\": \"\"\n      }\n    },\n    {\n      \"column\": \"latitude\",\n      \"properties\": {\n        \"dtype\": \"number\",\n        \"std\": 0.0925304693760839,\n        \"min\": 40.49905,\n        \"max\": 40.912869,\n        \"num_unique_values\": 34825,\n        \"samples\": [\n          40.657766,\n          40.794745,\n          40.873478\n        ],\n        \"semantic_type\": \"\",\n        \"description\": \"\"\n      }\n    },\n    {\n      \"column\": \"longitude\",\n      \"properties\": {\n        \"dtype\": \"number\",\n        \"std\": 0.06894858789880356,\n        \"min\": -74.251262,\n        \"max\": -73.70143,\n        \"num_unique_values\": 34177,\n        \"samples\": [\n          -74.076354,\n          -73.943527,\n          -73.748368\n        ],\n        \"semantic_type\": \"\",\n        \"description\": \"\"\n      }\n    },\n    {\n      \"column\": \"bin\",\n      \"properties\": {\n        \"dtype\": \"number\",\n        \"std\": 1114210.4512336305,\n        \"min\": 1000000.0,\n        \"max\": 5171959.0,\n        \"num_unique_values\": 36327,\n        \"samples\": [\n          2124413.0,\n          2013324.0,\n          2113158.0\n        ],\n        \"semantic_type\": \"\",\n        \"description\": \"\"\n      }\n    },\n    {\n      \"column\": \"bbl\",\n      \"properties\": {\n        \"dtype\": \"number\",\n        \"std\": 1063158608.9217985,\n        \"min\": 0.0,\n        \"max\": 5080490021.0,\n        \"num_unique_values\": 34032,\n        \"samples\": [\n          1022430278.0,\n          3042630023.0,\n          3056720073.0\n        ],\n        \"semantic_type\": \"\",\n        \"description\": \"\"\n      }\n    },\n    {\n      \"column\": \"eviction_count\",\n      \"properties\": {\n        \"dtype\": \"number\",\n        \"std\": 24,\n        \"min\": 1,\n        \"max\": 254,\n        \"num_unique_values\": 70,\n        \"samples\": [\n          20,\n          3,\n          89\n        ],\n        \"semantic_type\": \"\",\n        \"description\": \"\"\n      }\n    },\n    {\n      \"column\": \"year\",\n      \"properties\": {\n        \"dtype\": \"number\",\n        \"std\": 2,\n        \"min\": 2017,\n        \"max\": 2024,\n        \"num_unique_values\": 8,\n        \"samples\": [\n          2018,\n          2022,\n          2024\n        ],\n        \"semantic_type\": \"\",\n        \"description\": \"\"\n      }\n    },\n    {\n      \"column\": \"average_year_eviction_count\",\n      \"properties\": {\n        \"dtype\": \"number\",\n        \"std\": 3.4680421635998555,\n        \"min\": 1.0,\n        \"max\": 36.285714285714285,\n        \"num_unique_values\": 132,\n        \"samples\": [\n          1.25,\n          3.75,\n          10.166666666666666\n        ],\n        \"semantic_type\": \"\",\n        \"description\": \"\"\n      }\n    },\n    {\n      \"column\": \"geometry\",\n      \"properties\": {\n        \"dtype\": \"geometry\",\n        \"num_unique_values\": 37445,\n        \"samples\": [\n          \"POINT (-73.891616 40.6705)\",\n          \"POINT (-73.974501 40.722512)\",\n          \"POINT (-73.928559 40.855313)\"\n        ],\n        \"semantic_type\": \"\",\n        \"description\": \"\"\n      }\n    }\n  ]\n}",
       "type": "dataframe",
       "variable_name": "evictions_cleaned_geo"
      },
      "text/html": [
       "\n",
       "  <div id=\"df-55ada242-5ba8-44eb-9b7d-116fd7bd7ce7\" class=\"colab-df-container\">\n",
       "    <div>\n",
       "<style scoped>\n",
       "    .dataframe tbody tr th:only-of-type {\n",
       "        vertical-align: middle;\n",
       "    }\n",
       "\n",
       "    .dataframe tbody tr th {\n",
       "        vertical-align: top;\n",
       "    }\n",
       "\n",
       "    .dataframe thead th {\n",
       "        text-align: right;\n",
       "    }\n",
       "</style>\n",
       "<table border=\"1\" class=\"dataframe\">\n",
       "  <thead>\n",
       "    <tr style=\"text-align: right;\">\n",
       "      <th></th>\n",
       "      <th>eviction_address</th>\n",
       "      <th>eviction_apartment_number</th>\n",
       "      <th>borough</th>\n",
       "      <th>eviction_postcode</th>\n",
       "      <th>latitude</th>\n",
       "      <th>longitude</th>\n",
       "      <th>bin</th>\n",
       "      <th>bbl</th>\n",
       "      <th>eviction_count</th>\n",
       "      <th>year</th>\n",
       "      <th>average_year_eviction_count</th>\n",
       "      <th>geometry</th>\n",
       "    </tr>\n",
       "  </thead>\n",
       "  <tbody>\n",
       "    <tr>\n",
       "      <th>0</th>\n",
       "      <td>710 61ST STREET</td>\n",
       "      <td>2ND FLOOR</td>\n",
       "      <td>BROOKLYN</td>\n",
       "      <td>11220</td>\n",
       "      <td>40.635941</td>\n",
       "      <td>-74.011883</td>\n",
       "      <td>3143881.0</td>\n",
       "      <td>3.057940e+09</td>\n",
       "      <td>3</td>\n",
       "      <td>2024</td>\n",
       "      <td>3.000000</td>\n",
       "      <td>POINT (-74.01188 40.63594)</td>\n",
       "    </tr>\n",
       "    <tr>\n",
       "      <th>1</th>\n",
       "      <td>462 60TH STREET</td>\n",
       "      <td>FOURTH FLOOR APT AKA</td>\n",
       "      <td>BROOKLYN</td>\n",
       "      <td>11220</td>\n",
       "      <td>40.640008</td>\n",
       "      <td>-74.017068</td>\n",
       "      <td>3143435.0</td>\n",
       "      <td>3.057820e+09</td>\n",
       "      <td>3</td>\n",
       "      <td>2024</td>\n",
       "      <td>3.000000</td>\n",
       "      <td>POINT (-74.01707 40.64001)</td>\n",
       "    </tr>\n",
       "    <tr>\n",
       "      <th>2</th>\n",
       "      <td>3400 PAUL AVENUE</td>\n",
       "      <td>15D</td>\n",
       "      <td>BRONX</td>\n",
       "      <td>10468</td>\n",
       "      <td>40.877190</td>\n",
       "      <td>-73.889569</td>\n",
       "      <td>2015444.0</td>\n",
       "      <td>2.032510e+09</td>\n",
       "      <td>4</td>\n",
       "      <td>2018</td>\n",
       "      <td>4.000000</td>\n",
       "      <td>POINT (-73.88957 40.87719)</td>\n",
       "    </tr>\n",
       "    <tr>\n",
       "      <th>3</th>\n",
       "      <td>480 CONCORD AVENUE</td>\n",
       "      <td>4E</td>\n",
       "      <td>BRONX</td>\n",
       "      <td>10455</td>\n",
       "      <td>40.811197</td>\n",
       "      <td>-73.908810</td>\n",
       "      <td>2003900.0</td>\n",
       "      <td>2.025770e+09</td>\n",
       "      <td>9</td>\n",
       "      <td>2019</td>\n",
       "      <td>2.250000</td>\n",
       "      <td>POINT (-73.90881 40.8112)</td>\n",
       "    </tr>\n",
       "    <tr>\n",
       "      <th>4</th>\n",
       "      <td>65 EAST 193RD ST</td>\n",
       "      <td>1B</td>\n",
       "      <td>BRONX</td>\n",
       "      <td>10468</td>\n",
       "      <td>40.866075</td>\n",
       "      <td>-73.896515</td>\n",
       "      <td>2013945.0</td>\n",
       "      <td>2.031770e+09</td>\n",
       "      <td>8</td>\n",
       "      <td>2017</td>\n",
       "      <td>2.666667</td>\n",
       "      <td>POINT (-73.89652 40.86608)</td>\n",
       "    </tr>\n",
       "  </tbody>\n",
       "</table>\n",
       "</div>\n",
       "    <div class=\"colab-df-buttons\">\n",
       "\n",
       "  <div class=\"colab-df-container\">\n",
       "    <button class=\"colab-df-convert\" onclick=\"convertToInteractive('df-55ada242-5ba8-44eb-9b7d-116fd7bd7ce7')\"\n",
       "            title=\"Convert this dataframe to an interactive table.\"\n",
       "            style=\"display:none;\">\n",
       "\n",
       "  <svg xmlns=\"http://www.w3.org/2000/svg\" height=\"24px\" viewBox=\"0 -960 960 960\">\n",
       "    <path d=\"M120-120v-720h720v720H120Zm60-500h600v-160H180v160Zm220 220h160v-160H400v160Zm0 220h160v-160H400v160ZM180-400h160v-160H180v160Zm440 0h160v-160H620v160ZM180-180h160v-160H180v160Zm440 0h160v-160H620v160Z\"/>\n",
       "  </svg>\n",
       "    </button>\n",
       "\n",
       "  <style>\n",
       "    .colab-df-container {\n",
       "      display:flex;\n",
       "      gap: 12px;\n",
       "    }\n",
       "\n",
       "    .colab-df-convert {\n",
       "      background-color: #E8F0FE;\n",
       "      border: none;\n",
       "      border-radius: 50%;\n",
       "      cursor: pointer;\n",
       "      display: none;\n",
       "      fill: #1967D2;\n",
       "      height: 32px;\n",
       "      padding: 0 0 0 0;\n",
       "      width: 32px;\n",
       "    }\n",
       "\n",
       "    .colab-df-convert:hover {\n",
       "      background-color: #E2EBFA;\n",
       "      box-shadow: 0px 1px 2px rgba(60, 64, 67, 0.3), 0px 1px 3px 1px rgba(60, 64, 67, 0.15);\n",
       "      fill: #174EA6;\n",
       "    }\n",
       "\n",
       "    .colab-df-buttons div {\n",
       "      margin-bottom: 4px;\n",
       "    }\n",
       "\n",
       "    [theme=dark] .colab-df-convert {\n",
       "      background-color: #3B4455;\n",
       "      fill: #D2E3FC;\n",
       "    }\n",
       "\n",
       "    [theme=dark] .colab-df-convert:hover {\n",
       "      background-color: #434B5C;\n",
       "      box-shadow: 0px 1px 3px 1px rgba(0, 0, 0, 0.15);\n",
       "      filter: drop-shadow(0px 1px 2px rgba(0, 0, 0, 0.3));\n",
       "      fill: #FFFFFF;\n",
       "    }\n",
       "  </style>\n",
       "\n",
       "    <script>\n",
       "      const buttonEl =\n",
       "        document.querySelector('#df-55ada242-5ba8-44eb-9b7d-116fd7bd7ce7 button.colab-df-convert');\n",
       "      buttonEl.style.display =\n",
       "        google.colab.kernel.accessAllowed ? 'block' : 'none';\n",
       "\n",
       "      async function convertToInteractive(key) {\n",
       "        const element = document.querySelector('#df-55ada242-5ba8-44eb-9b7d-116fd7bd7ce7');\n",
       "        const dataTable =\n",
       "          await google.colab.kernel.invokeFunction('convertToInteractive',\n",
       "                                                    [key], {});\n",
       "        if (!dataTable) return;\n",
       "\n",
       "        const docLinkHtml = 'Like what you see? Visit the ' +\n",
       "          '<a target=\"_blank\" href=https://colab.research.google.com/notebooks/data_table.ipynb>data table notebook</a>'\n",
       "          + ' to learn more about interactive tables.';\n",
       "        element.innerHTML = '';\n",
       "        dataTable['output_type'] = 'display_data';\n",
       "        await google.colab.output.renderOutput(dataTable, element);\n",
       "        const docLink = document.createElement('div');\n",
       "        docLink.innerHTML = docLinkHtml;\n",
       "        element.appendChild(docLink);\n",
       "      }\n",
       "    </script>\n",
       "  </div>\n",
       "\n",
       "\n",
       "<div id=\"df-a214ad9f-c0c6-403b-8294-73e9296f4493\">\n",
       "  <button class=\"colab-df-quickchart\" onclick=\"quickchart('df-a214ad9f-c0c6-403b-8294-73e9296f4493')\"\n",
       "            title=\"Suggest charts\"\n",
       "            style=\"display:none;\">\n",
       "\n",
       "<svg xmlns=\"http://www.w3.org/2000/svg\" height=\"24px\"viewBox=\"0 0 24 24\"\n",
       "     width=\"24px\">\n",
       "    <g>\n",
       "        <path d=\"M19 3H5c-1.1 0-2 .9-2 2v14c0 1.1.9 2 2 2h14c1.1 0 2-.9 2-2V5c0-1.1-.9-2-2-2zM9 17H7v-7h2v7zm4 0h-2V7h2v10zm4 0h-2v-4h2v4z\"/>\n",
       "    </g>\n",
       "</svg>\n",
       "  </button>\n",
       "\n",
       "<style>\n",
       "  .colab-df-quickchart {\n",
       "      --bg-color: #E8F0FE;\n",
       "      --fill-color: #1967D2;\n",
       "      --hover-bg-color: #E2EBFA;\n",
       "      --hover-fill-color: #174EA6;\n",
       "      --disabled-fill-color: #AAA;\n",
       "      --disabled-bg-color: #DDD;\n",
       "  }\n",
       "\n",
       "  [theme=dark] .colab-df-quickchart {\n",
       "      --bg-color: #3B4455;\n",
       "      --fill-color: #D2E3FC;\n",
       "      --hover-bg-color: #434B5C;\n",
       "      --hover-fill-color: #FFFFFF;\n",
       "      --disabled-bg-color: #3B4455;\n",
       "      --disabled-fill-color: #666;\n",
       "  }\n",
       "\n",
       "  .colab-df-quickchart {\n",
       "    background-color: var(--bg-color);\n",
       "    border: none;\n",
       "    border-radius: 50%;\n",
       "    cursor: pointer;\n",
       "    display: none;\n",
       "    fill: var(--fill-color);\n",
       "    height: 32px;\n",
       "    padding: 0;\n",
       "    width: 32px;\n",
       "  }\n",
       "\n",
       "  .colab-df-quickchart:hover {\n",
       "    background-color: var(--hover-bg-color);\n",
       "    box-shadow: 0 1px 2px rgba(60, 64, 67, 0.3), 0 1px 3px 1px rgba(60, 64, 67, 0.15);\n",
       "    fill: var(--button-hover-fill-color);\n",
       "  }\n",
       "\n",
       "  .colab-df-quickchart-complete:disabled,\n",
       "  .colab-df-quickchart-complete:disabled:hover {\n",
       "    background-color: var(--disabled-bg-color);\n",
       "    fill: var(--disabled-fill-color);\n",
       "    box-shadow: none;\n",
       "  }\n",
       "\n",
       "  .colab-df-spinner {\n",
       "    border: 2px solid var(--fill-color);\n",
       "    border-color: transparent;\n",
       "    border-bottom-color: var(--fill-color);\n",
       "    animation:\n",
       "      spin 1s steps(1) infinite;\n",
       "  }\n",
       "\n",
       "  @keyframes spin {\n",
       "    0% {\n",
       "      border-color: transparent;\n",
       "      border-bottom-color: var(--fill-color);\n",
       "      border-left-color: var(--fill-color);\n",
       "    }\n",
       "    20% {\n",
       "      border-color: transparent;\n",
       "      border-left-color: var(--fill-color);\n",
       "      border-top-color: var(--fill-color);\n",
       "    }\n",
       "    30% {\n",
       "      border-color: transparent;\n",
       "      border-left-color: var(--fill-color);\n",
       "      border-top-color: var(--fill-color);\n",
       "      border-right-color: var(--fill-color);\n",
       "    }\n",
       "    40% {\n",
       "      border-color: transparent;\n",
       "      border-right-color: var(--fill-color);\n",
       "      border-top-color: var(--fill-color);\n",
       "    }\n",
       "    60% {\n",
       "      border-color: transparent;\n",
       "      border-right-color: var(--fill-color);\n",
       "    }\n",
       "    80% {\n",
       "      border-color: transparent;\n",
       "      border-right-color: var(--fill-color);\n",
       "      border-bottom-color: var(--fill-color);\n",
       "    }\n",
       "    90% {\n",
       "      border-color: transparent;\n",
       "      border-bottom-color: var(--fill-color);\n",
       "    }\n",
       "  }\n",
       "</style>\n",
       "\n",
       "  <script>\n",
       "    async function quickchart(key) {\n",
       "      const quickchartButtonEl =\n",
       "        document.querySelector('#' + key + ' button');\n",
       "      quickchartButtonEl.disabled = true;  // To prevent multiple clicks.\n",
       "      quickchartButtonEl.classList.add('colab-df-spinner');\n",
       "      try {\n",
       "        const charts = await google.colab.kernel.invokeFunction(\n",
       "            'suggestCharts', [key], {});\n",
       "      } catch (error) {\n",
       "        console.error('Error during call to suggestCharts:', error);\n",
       "      }\n",
       "      quickchartButtonEl.classList.remove('colab-df-spinner');\n",
       "      quickchartButtonEl.classList.add('colab-df-quickchart-complete');\n",
       "    }\n",
       "    (() => {\n",
       "      let quickchartButtonEl =\n",
       "        document.querySelector('#df-a214ad9f-c0c6-403b-8294-73e9296f4493 button');\n",
       "      quickchartButtonEl.style.display =\n",
       "        google.colab.kernel.accessAllowed ? 'block' : 'none';\n",
       "    })();\n",
       "  </script>\n",
       "</div>\n",
       "\n",
       "    </div>\n",
       "  </div>\n"
      ],
      "text/plain": [
       "     eviction_address eviction_apartment_number   borough  eviction_postcode  \\\n",
       "0     710 61ST STREET                 2ND FLOOR  BROOKLYN              11220   \n",
       "1     462 60TH STREET      FOURTH FLOOR APT AKA  BROOKLYN              11220   \n",
       "2    3400 PAUL AVENUE                       15D     BRONX              10468   \n",
       "3  480 CONCORD AVENUE                        4E     BRONX              10455   \n",
       "4    65 EAST 193RD ST                        1B     BRONX              10468   \n",
       "\n",
       "    latitude  longitude        bin           bbl  eviction_count  year  \\\n",
       "0  40.635941 -74.011883  3143881.0  3.057940e+09               3  2024   \n",
       "1  40.640008 -74.017068  3143435.0  3.057820e+09               3  2024   \n",
       "2  40.877190 -73.889569  2015444.0  2.032510e+09               4  2018   \n",
       "3  40.811197 -73.908810  2003900.0  2.025770e+09               9  2019   \n",
       "4  40.866075 -73.896515  2013945.0  2.031770e+09               8  2017   \n",
       "\n",
       "   average_year_eviction_count                    geometry  \n",
       "0                     3.000000  POINT (-74.01188 40.63594)  \n",
       "1                     3.000000  POINT (-74.01707 40.64001)  \n",
       "2                     4.000000  POINT (-73.88957 40.87719)  \n",
       "3                     2.250000   POINT (-73.90881 40.8112)  \n",
       "4                     2.666667  POINT (-73.89652 40.86608)  "
      ]
     },
     "execution_count": 14,
     "metadata": {},
     "output_type": "execute_result"
    }
   ],
   "source": [
    "evictions_cleaned_geo.head()"
   ]
  },
  {
   "cell_type": "code",
   "execution_count": null,
   "metadata": {
    "colab": {
     "base_uri": "https://localhost:8080/"
    },
    "id": "_NjfcHjurBuG",
    "outputId": "c53da99b-92f1-4127-803b-f79fe6f92b8d"
   },
   "outputs": [
    {
     "data": {
      "text/plain": [
       "array(['BROOKLYN', 'BRONX', 'STATEN ISLAND', 'QUEENS', 'MANHATTAN'],\n",
       "      dtype=object)"
      ]
     },
     "execution_count": 15,
     "metadata": {},
     "output_type": "execute_result"
    }
   ],
   "source": [
    "evictions_cleaned_geo['borough'].unique()"
   ]
  },
  {
   "cell_type": "code",
   "execution_count": null,
   "metadata": {
    "id": "rti2jBGPrKth"
   },
   "outputs": [],
   "source": [
    "manhattan = evictions_cleaned_geo[evictions_cleaned_geo['borough'] == 'MANHATTAN']\n",
    "brooklyn = evictions_cleaned_geo[evictions_cleaned_geo['borough'] == 'BROOKLYN']\n",
    "staten_island = evictions_cleaned_geo[evictions_cleaned_geo['borough'] == 'STATEN ISLAND']\n",
    "bronx = evictions_cleaned_geo[evictions_cleaned_geo['borough'] == 'BRONX']\n",
    "queens = evictions_cleaned_geo[evictions_cleaned_geo['borough'] == 'QUEENS']"
   ]
  },
  {
   "cell_type": "code",
   "execution_count": null,
   "metadata": {
    "id": "64AkO4fEvv6n"
   },
   "outputs": [],
   "source": [
    "manhattan = manhattan.rename(columns={'bin': 'BIN'})\n",
    "brooklyn = brooklyn.rename(columns={'bin': 'BIN'})\n",
    "staten_island = staten_island.rename(columns={'bin': 'BIN'})\n",
    "bronx = bronx.rename(columns={'bin': 'BIN'})\n",
    "queens = queens.rename(columns={'bin': 'BIN'})"
   ]
  },
  {
   "cell_type": "code",
   "execution_count": null,
   "metadata": {
    "colab": {
     "base_uri": "https://localhost:8080/"
    },
    "id": "MlJS7eGBwH0z",
    "outputId": "2f796bfe-7f1e-4021-fcb4-cde99b83778e"
   },
   "outputs": [
    {
     "name": "stdout",
     "output_type": "stream",
     "text": [
      "0\n",
      "int64\n"
     ]
    }
   ],
   "source": [
    "print(manhattan['BIN'].isnull().sum())\n",
    "manhattan = manhattan.dropna(subset=['BIN'])\n",
    "print(manhattan['BIN'].dtype)\n",
    "# needs to be converted to integera, because in arcgis, the building data is numeric/long\n",
    "manhattan['BIN'] = manhattan['BIN'].astype(int)"
   ]
  },
  {
   "cell_type": "code",
   "execution_count": null,
   "metadata": {
    "colab": {
     "base_uri": "https://localhost:8080/"
    },
    "id": "rGsB5hFTwqao",
    "outputId": "4cb39740-c950-4401-f5e6-8a5b04240aea"
   },
   "outputs": [
    {
     "name": "stdout",
     "output_type": "stream",
     "text": [
      "[1084520 1087539 1063963 ... 1062905 1005429 1006684]\n"
     ]
    },
    {
     "data": {
      "text/plain": [
       "numpy.dtypes.Int64DType"
      ]
     },
     "execution_count": 20,
     "metadata": {},
     "output_type": "execute_result"
    }
   ],
   "source": [
    "print(manhattan['BIN'].unique())\n",
    "manhattan = manhattan.dropna(subset=['BIN'])\n",
    "manhattan['BIN'] = manhattan['BIN'].astype(int)\n",
    "type(manhattan['BIN'].dtype)"
   ]
  },
  {
   "cell_type": "code",
   "execution_count": null,
   "metadata": {
    "colab": {
     "base_uri": "https://localhost:8080/",
     "height": 17
    },
    "id": "200PSEQsw2jk",
    "outputId": "8e7437a5-aaef-46c0-da55-80ff031b084c"
   },
   "outputs": [
    {
     "data": {
      "application/javascript": [
       "\n",
       "    async function download(id, filename, size) {\n",
       "      if (!google.colab.kernel.accessAllowed) {\n",
       "        return;\n",
       "      }\n",
       "      const div = document.createElement('div');\n",
       "      const label = document.createElement('label');\n",
       "      label.textContent = `Downloading \"${filename}\": `;\n",
       "      div.appendChild(label);\n",
       "      const progress = document.createElement('progress');\n",
       "      progress.max = size;\n",
       "      div.appendChild(progress);\n",
       "      document.body.appendChild(div);\n",
       "\n",
       "      const buffers = [];\n",
       "      let downloaded = 0;\n",
       "\n",
       "      const channel = await google.colab.kernel.comms.open(id);\n",
       "      // Send a message to notify the kernel that we're ready.\n",
       "      channel.send({})\n",
       "\n",
       "      for await (const message of channel.messages) {\n",
       "        // Send a message to notify the kernel that we're ready.\n",
       "        channel.send({})\n",
       "        if (message.buffers) {\n",
       "          for (const buffer of message.buffers) {\n",
       "            buffers.push(buffer);\n",
       "            downloaded += buffer.byteLength;\n",
       "            progress.value = downloaded;\n",
       "          }\n",
       "        }\n",
       "      }\n",
       "      const blob = new Blob(buffers, {type: 'application/binary'});\n",
       "      const a = document.createElement('a');\n",
       "      a.href = window.URL.createObjectURL(blob);\n",
       "      a.download = filename;\n",
       "      div.appendChild(a);\n",
       "      a.click();\n",
       "      div.remove();\n",
       "    }\n",
       "  "
      ],
      "text/plain": [
       "<IPython.core.display.Javascript object>"
      ]
     },
     "metadata": {},
     "output_type": "display_data"
    },
    {
     "data": {
      "application/javascript": [
       "download(\"download_cd4f3ba1-0392-40b5-8e14-1f8a24b0a5ff\", \"manhattan_cleaned.csv\", 1442680)"
      ],
      "text/plain": [
       "<IPython.core.display.Javascript object>"
      ]
     },
     "metadata": {},
     "output_type": "display_data"
    }
   ],
   "source": [
    "manhattan.to_csv(\"manhattan_cleaned.csv\", index=False)\n",
    "files.download(\"manhattan_cleaned.csv\")"
   ]
  },
  {
   "cell_type": "code",
   "execution_count": null,
   "metadata": {
    "colab": {
     "base_uri": "https://localhost:8080/"
    },
    "id": "FGvgnIdyGTaA",
    "outputId": "8ec69421-3291-4a26-da28-db332ca9493e"
   },
   "outputs": [
    {
     "name": "stdout",
     "output_type": "stream",
     "text": [
      "0\n",
      "float64\n"
     ]
    }
   ],
   "source": [
    "print(brooklyn['BIN'].isnull().sum())\n",
    "brooklyn = brooklyn.dropna(subset=['BIN'])\n",
    "print(brooklyn['BIN'].dtype)\n",
    "# needs to be converted to integera, because in arcgis, the building data is numeric/long\n",
    "brooklyn['BIN'] = brooklyn['BIN'].astype(int)"
   ]
  },
  {
   "cell_type": "code",
   "execution_count": null,
   "metadata": {
    "colab": {
     "base_uri": "https://localhost:8080/"
    },
    "id": "hqM6ADQnGZ06",
    "outputId": "ce39f452-c8ab-4d50-b1a6-ec7cbf9301c5"
   },
   "outputs": [
    {
     "name": "stdout",
     "output_type": "stream",
     "text": [
      "[3143881 3143435 3034442 ... 3085014 3327967 3147431]\n"
     ]
    },
    {
     "data": {
      "text/plain": [
       "numpy.dtypes.Int64DType"
      ]
     },
     "execution_count": 23,
     "metadata": {},
     "output_type": "execute_result"
    }
   ],
   "source": [
    "print(brooklyn['BIN'].unique())\n",
    "brooklyn = brooklyn.dropna(subset=['BIN'])\n",
    "brooklyn['BIN'] = brooklyn['BIN'].astype(int)\n",
    "type(brooklyn['BIN'].dtype)"
   ]
  },
  {
   "cell_type": "code",
   "execution_count": null,
   "metadata": {
    "colab": {
     "base_uri": "https://localhost:8080/"
    },
    "id": "71VOTTO9Ghan",
    "outputId": "7d94cb30-3ac3-4d2d-955b-caa16be562da"
   },
   "outputs": [
    {
     "name": "stdout",
     "output_type": "stream",
     "text": [
      "0\n",
      "float64\n",
      "[5087958 5033262 5050009 ... 5169530 5108656 5147292]\n"
     ]
    },
    {
     "data": {
      "text/plain": [
       "numpy.dtypes.Int64DType"
      ]
     },
     "execution_count": 24,
     "metadata": {},
     "output_type": "execute_result"
    }
   ],
   "source": [
    "print(staten_island['BIN'].isnull().sum())\n",
    "staten_island = staten_island.dropna(subset=['BIN'])\n",
    "print(staten_island['BIN'].dtype)\n",
    "staten_island['BIN'] = staten_island['BIN'].astype(int)\n",
    "print(staten_island['BIN'].unique())\n",
    "staten_island = staten_island.dropna(subset=['BIN'])\n",
    "staten_island['BIN'] = staten_island['BIN'].astype(int)\n",
    "type(staten_island['BIN'].dtype)"
   ]
  },
  {
   "cell_type": "code",
   "execution_count": null,
   "metadata": {
    "colab": {
     "base_uri": "https://localhost:8080/"
    },
    "id": "n80HdXZuGra1",
    "outputId": "a5907c45-0516-480a-ec11-d7cef8714b6f"
   },
   "outputs": [
    {
     "name": "stdout",
     "output_type": "stream",
     "text": [
      "0\n",
      "float64\n",
      "[4436442 4074666 4168635 ... 4036623 4518927 4011328]\n"
     ]
    },
    {
     "data": {
      "text/plain": [
       "numpy.dtypes.Int64DType"
      ]
     },
     "execution_count": 25,
     "metadata": {},
     "output_type": "execute_result"
    }
   ],
   "source": [
    "print(queens['BIN'].isnull().sum())\n",
    "queens = queens.dropna(subset=['BIN'])\n",
    "print(queens['BIN'].dtype)\n",
    "queens['BIN'] = queens['BIN'].astype(int)\n",
    "print(queens['BIN'].unique())\n",
    "queens = queens.dropna(subset=['BIN'])\n",
    "queens['BIN'] = queens['BIN'].astype(int)\n",
    "type(queens['BIN'].dtype)"
   ]
  },
  {
   "cell_type": "code",
   "execution_count": null,
   "metadata": {
    "colab": {
     "base_uri": "https://localhost:8080/"
    },
    "id": "iHRfQcNTG1kh",
    "outputId": "bc2a71f3-ef14-4c2b-80d0-5605e5d974ad"
   },
   "outputs": [
    {
     "name": "stdout",
     "output_type": "stream",
     "text": [
      "0\n",
      "float64\n",
      "[2015444 2003900 2013945 ... 2028895 1053888 1064154]\n"
     ]
    },
    {
     "data": {
      "text/plain": [
       "numpy.dtypes.Int64DType"
      ]
     },
     "execution_count": 26,
     "metadata": {},
     "output_type": "execute_result"
    }
   ],
   "source": [
    "print(bronx['BIN'].isnull().sum())\n",
    "bronx = bronx.dropna(subset=['BIN'])\n",
    "print(bronx['BIN'].dtype)\n",
    "# needs to be converted to integera, because in arcgis, the building data is numeric/long\n",
    "bronx['BIN'] = bronx['BIN'].astype(int)\n",
    "print(bronx['BIN'].unique())\n",
    "bronx = bronx.dropna(subset=['BIN'])\n",
    "bronx['BIN'] = bronx['BIN'].astype(int)\n",
    "type(bronx['BIN'].dtype)"
   ]
  },
  {
   "cell_type": "code",
   "execution_count": null,
   "metadata": {
    "colab": {
     "base_uri": "https://localhost:8080/",
     "height": 17
    },
    "id": "VNfiSv9vw-Vo",
    "outputId": "5b335e4a-ec0b-4e1c-a432-acb5d047bf2d"
   },
   "outputs": [
    {
     "data": {
      "application/javascript": [
       "\n",
       "    async function download(id, filename, size) {\n",
       "      if (!google.colab.kernel.accessAllowed) {\n",
       "        return;\n",
       "      }\n",
       "      const div = document.createElement('div');\n",
       "      const label = document.createElement('label');\n",
       "      label.textContent = `Downloading \"${filename}\": `;\n",
       "      div.appendChild(label);\n",
       "      const progress = document.createElement('progress');\n",
       "      progress.max = size;\n",
       "      div.appendChild(progress);\n",
       "      document.body.appendChild(div);\n",
       "\n",
       "      const buffers = [];\n",
       "      let downloaded = 0;\n",
       "\n",
       "      const channel = await google.colab.kernel.comms.open(id);\n",
       "      // Send a message to notify the kernel that we're ready.\n",
       "      channel.send({})\n",
       "\n",
       "      for await (const message of channel.messages) {\n",
       "        // Send a message to notify the kernel that we're ready.\n",
       "        channel.send({})\n",
       "        if (message.buffers) {\n",
       "          for (const buffer of message.buffers) {\n",
       "            buffers.push(buffer);\n",
       "            downloaded += buffer.byteLength;\n",
       "            progress.value = downloaded;\n",
       "          }\n",
       "        }\n",
       "      }\n",
       "      const blob = new Blob(buffers, {type: 'application/binary'});\n",
       "      const a = document.createElement('a');\n",
       "      a.href = window.URL.createObjectURL(blob);\n",
       "      a.download = filename;\n",
       "      div.appendChild(a);\n",
       "      a.click();\n",
       "      div.remove();\n",
       "    }\n",
       "  "
      ],
      "text/plain": [
       "<IPython.core.display.Javascript object>"
      ]
     },
     "metadata": {},
     "output_type": "display_data"
    },
    {
     "data": {
      "application/javascript": [
       "download(\"download_d68a387e-9ddb-487e-a17e-6cdd3790eccc\", \"manhattan_cleaned.csv\", 1442680)"
      ],
      "text/plain": [
       "<IPython.core.display.Javascript object>"
      ]
     },
     "metadata": {},
     "output_type": "display_data"
    },
    {
     "data": {
      "application/javascript": [
       "\n",
       "    async function download(id, filename, size) {\n",
       "      if (!google.colab.kernel.accessAllowed) {\n",
       "        return;\n",
       "      }\n",
       "      const div = document.createElement('div');\n",
       "      const label = document.createElement('label');\n",
       "      label.textContent = `Downloading \"${filename}\": `;\n",
       "      div.appendChild(label);\n",
       "      const progress = document.createElement('progress');\n",
       "      progress.max = size;\n",
       "      div.appendChild(progress);\n",
       "      document.body.appendChild(div);\n",
       "\n",
       "      const buffers = [];\n",
       "      let downloaded = 0;\n",
       "\n",
       "      const channel = await google.colab.kernel.comms.open(id);\n",
       "      // Send a message to notify the kernel that we're ready.\n",
       "      channel.send({})\n",
       "\n",
       "      for await (const message of channel.messages) {\n",
       "        // Send a message to notify the kernel that we're ready.\n",
       "        channel.send({})\n",
       "        if (message.buffers) {\n",
       "          for (const buffer of message.buffers) {\n",
       "            buffers.push(buffer);\n",
       "            downloaded += buffer.byteLength;\n",
       "            progress.value = downloaded;\n",
       "          }\n",
       "        }\n",
       "      }\n",
       "      const blob = new Blob(buffers, {type: 'application/binary'});\n",
       "      const a = document.createElement('a');\n",
       "      a.href = window.URL.createObjectURL(blob);\n",
       "      a.download = filename;\n",
       "      div.appendChild(a);\n",
       "      a.click();\n",
       "      div.remove();\n",
       "    }\n",
       "  "
      ],
      "text/plain": [
       "<IPython.core.display.Javascript object>"
      ]
     },
     "metadata": {},
     "output_type": "display_data"
    },
    {
     "data": {
      "application/javascript": [
       "download(\"download_a5154851-77ea-4542-9526-03b4db628dea\", \"brooklyn_cleaned.csv\", 2730141)"
      ],
      "text/plain": [
       "<IPython.core.display.Javascript object>"
      ]
     },
     "metadata": {},
     "output_type": "display_data"
    },
    {
     "data": {
      "application/javascript": [
       "\n",
       "    async function download(id, filename, size) {\n",
       "      if (!google.colab.kernel.accessAllowed) {\n",
       "        return;\n",
       "      }\n",
       "      const div = document.createElement('div');\n",
       "      const label = document.createElement('label');\n",
       "      label.textContent = `Downloading \"${filename}\": `;\n",
       "      div.appendChild(label);\n",
       "      const progress = document.createElement('progress');\n",
       "      progress.max = size;\n",
       "      div.appendChild(progress);\n",
       "      document.body.appendChild(div);\n",
       "\n",
       "      const buffers = [];\n",
       "      let downloaded = 0;\n",
       "\n",
       "      const channel = await google.colab.kernel.comms.open(id);\n",
       "      // Send a message to notify the kernel that we're ready.\n",
       "      channel.send({})\n",
       "\n",
       "      for await (const message of channel.messages) {\n",
       "        // Send a message to notify the kernel that we're ready.\n",
       "        channel.send({})\n",
       "        if (message.buffers) {\n",
       "          for (const buffer of message.buffers) {\n",
       "            buffers.push(buffer);\n",
       "            downloaded += buffer.byteLength;\n",
       "            progress.value = downloaded;\n",
       "          }\n",
       "        }\n",
       "      }\n",
       "      const blob = new Blob(buffers, {type: 'application/binary'});\n",
       "      const a = document.createElement('a');\n",
       "      a.href = window.URL.createObjectURL(blob);\n",
       "      a.download = filename;\n",
       "      div.appendChild(a);\n",
       "      a.click();\n",
       "      div.remove();\n",
       "    }\n",
       "  "
      ],
      "text/plain": [
       "<IPython.core.display.Javascript object>"
      ]
     },
     "metadata": {},
     "output_type": "display_data"
    },
    {
     "data": {
      "application/javascript": [
       "download(\"download_37f43cb7-9390-40e9-84f7-eabbf39f0c1a\", \"staten_island_cleaned.csv\", 336446)"
      ],
      "text/plain": [
       "<IPython.core.display.Javascript object>"
      ]
     },
     "metadata": {},
     "output_type": "display_data"
    },
    {
     "data": {
      "application/javascript": [
       "\n",
       "    async function download(id, filename, size) {\n",
       "      if (!google.colab.kernel.accessAllowed) {\n",
       "        return;\n",
       "      }\n",
       "      const div = document.createElement('div');\n",
       "      const label = document.createElement('label');\n",
       "      label.textContent = `Downloading \"${filename}\": `;\n",
       "      div.appendChild(label);\n",
       "      const progress = document.createElement('progress');\n",
       "      progress.max = size;\n",
       "      div.appendChild(progress);\n",
       "      document.body.appendChild(div);\n",
       "\n",
       "      const buffers = [];\n",
       "      let downloaded = 0;\n",
       "\n",
       "      const channel = await google.colab.kernel.comms.open(id);\n",
       "      // Send a message to notify the kernel that we're ready.\n",
       "      channel.send({})\n",
       "\n",
       "      for await (const message of channel.messages) {\n",
       "        // Send a message to notify the kernel that we're ready.\n",
       "        channel.send({})\n",
       "        if (message.buffers) {\n",
       "          for (const buffer of message.buffers) {\n",
       "            buffers.push(buffer);\n",
       "            downloaded += buffer.byteLength;\n",
       "            progress.value = downloaded;\n",
       "          }\n",
       "        }\n",
       "      }\n",
       "      const blob = new Blob(buffers, {type: 'application/binary'});\n",
       "      const a = document.createElement('a');\n",
       "      a.href = window.URL.createObjectURL(blob);\n",
       "      a.download = filename;\n",
       "      div.appendChild(a);\n",
       "      a.click();\n",
       "      div.remove();\n",
       "    }\n",
       "  "
      ],
      "text/plain": [
       "<IPython.core.display.Javascript object>"
      ]
     },
     "metadata": {},
     "output_type": "display_data"
    },
    {
     "data": {
      "application/javascript": [
       "download(\"download_09092865-503d-49dc-9446-489ffc55d7d5\", \"queens_cleaned.csv\", 1650854)"
      ],
      "text/plain": [
       "<IPython.core.display.Javascript object>"
      ]
     },
     "metadata": {},
     "output_type": "display_data"
    },
    {
     "data": {
      "application/javascript": [
       "\n",
       "    async function download(id, filename, size) {\n",
       "      if (!google.colab.kernel.accessAllowed) {\n",
       "        return;\n",
       "      }\n",
       "      const div = document.createElement('div');\n",
       "      const label = document.createElement('label');\n",
       "      label.textContent = `Downloading \"${filename}\": `;\n",
       "      div.appendChild(label);\n",
       "      const progress = document.createElement('progress');\n",
       "      progress.max = size;\n",
       "      div.appendChild(progress);\n",
       "      document.body.appendChild(div);\n",
       "\n",
       "      const buffers = [];\n",
       "      let downloaded = 0;\n",
       "\n",
       "      const channel = await google.colab.kernel.comms.open(id);\n",
       "      // Send a message to notify the kernel that we're ready.\n",
       "      channel.send({})\n",
       "\n",
       "      for await (const message of channel.messages) {\n",
       "        // Send a message to notify the kernel that we're ready.\n",
       "        channel.send({})\n",
       "        if (message.buffers) {\n",
       "          for (const buffer of message.buffers) {\n",
       "            buffers.push(buffer);\n",
       "            downloaded += buffer.byteLength;\n",
       "            progress.value = downloaded;\n",
       "          }\n",
       "        }\n",
       "      }\n",
       "      const blob = new Blob(buffers, {type: 'application/binary'});\n",
       "      const a = document.createElement('a');\n",
       "      a.href = window.URL.createObjectURL(blob);\n",
       "      a.download = filename;\n",
       "      div.appendChild(a);\n",
       "      a.click();\n",
       "      div.remove();\n",
       "    }\n",
       "  "
      ],
      "text/plain": [
       "<IPython.core.display.Javascript object>"
      ]
     },
     "metadata": {},
     "output_type": "display_data"
    },
    {
     "data": {
      "application/javascript": [
       "download(\"download_96fd78ee-a858-41e4-b052-52ca2c5758dc\", \"bronx_cleaned.csv\", 3237617)"
      ],
      "text/plain": [
       "<IPython.core.display.Javascript object>"
      ]
     },
     "metadata": {},
     "output_type": "display_data"
    }
   ],
   "source": [
    "manhattan.to_csv(\"manhattan_cleaned.csv\", index=False)\n",
    "files.download(\"manhattan_cleaned.csv\")\n",
    "brooklyn.to_csv(\"brooklyn_cleaned.csv\", index=False)\n",
    "files.download(\"brooklyn_cleaned.csv\")\n",
    "staten_island.to_csv(\"staten_island_cleaned.csv\", index=False)\n",
    "files.download(\"staten_island_cleaned.csv\")\n",
    "queens.to_csv(\"queens_cleaned.csv\", index=False)\n",
    "files.download(\"queens_cleaned.csv\")\n",
    "bronx.to_csv(\"bronx_cleaned.csv\", index=False)\n",
    "files.download(\"bronx_cleaned.csv\")"
   ]
  },
  {
   "cell_type": "code",
   "execution_count": null,
   "metadata": {
    "id": "ojVIoQ1zI3uG"
   },
   "outputs": [],
   "source": []
  }
 ],
 "metadata": {
  "accelerator": "GPU",
  "colab": {
   "gpuType": "L4",
   "machine_shape": "hm",
   "provenance": []
  },
  "kernelspec": {
   "display_name": "Python 3 (ipykernel)",
   "language": "python",
   "name": "python3"
  },
  "language_info": {
   "codemirror_mode": {
    "name": "ipython",
    "version": 3
   },
   "file_extension": ".py",
   "mimetype": "text/x-python",
   "name": "python",
   "nbconvert_exporter": "python",
   "pygments_lexer": "ipython3",
   "version": "3.11.0"
  }
 },
 "nbformat": 4,
 "nbformat_minor": 1
}
