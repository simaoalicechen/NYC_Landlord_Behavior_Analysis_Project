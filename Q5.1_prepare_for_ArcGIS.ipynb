{
 "cells": [
  {
   "cell_type": "markdown",
   "metadata": {
    "id": "RJJaRxjLsajI"
   },
   "source": [
    "## Introduction\n",
    "\n",
    "In this notebook, we prepare the csv files that will be used for ArcGIS.\n",
    "\n",
    "They need to be:\n",
    "1) small. In this case, we break down the original dataset into different boroughs and analyze/visualize to prevent ArcGIS glitches;\n",
    "2) have the correct \"BIN\" column and data (integers) for joins;\n",
    "3) We do not group by neighborhood or zip codes yet, so that we can have some visuals for each building. The average_eviction_count will be by each building over the 7 years.\n",
    "4) **The key steps to successfully operate a \"join\" in ArcGIS are to**\n",
    "\n",
    "*   Choose a good dataset from the port / download the original one and reduce them;\n",
    "*   Export the ones from the port (export their features) and form new editable table;\n",
    "*   Re-index the join columns in the table's property section;\n",
    "*   Join the attribute table (in this case, the building footprints) with self-cleaned csvs\n",
    "\n",
    "5) The final results in this notebook can be shp files/geojason, but they don't have to be. The correct file formats for shape (zip) files are: cpg, dbf, geojson, prj, shp.\n",
    "\n",
    "In the next notebook, we will re-aggregate the average eviction counts by neighborhood or zip to create comparable visuals with SVI (social vulnerability index) Scores.\n",
    "\n"
   ]
  },
  {
   "cell_type": "markdown",
   "metadata": {
    "id": "NeoAmoJqIa59"
   },
   "source": [
    "BBL Data explainations:\n",
    "https://data.cityofnewyork.us/City-Government/Primary-Land-Use-Tax-Lot-Output-PLUTO-/64uk-42ks/about_data\n",
    "\n",
    "A very detailed NYC building info data: https://s-media.nyc.gov/agencies/dcp/assets/files/pdf/data-tools/bytes/padgui.pdf\n",
    "\n",
    "Some other info: https://www.nyc.gov/assets/finance/jump/hlpbldgcode.html\n"
   ]
  },
  {
   "cell_type": "code",
   "execution_count": 2,
   "metadata": {
    "id": "8BDmR5z23Lgw"
   },
   "outputs": [],
   "source": [
    "# !pip install geopandas folium matplotlib seaborn scipy\n",
    "# !pip install esda\n",
    "# !pip install splot\n",
    "# # for google colab, had to reinstall some pacakges."
   ]
  },
  {
   "cell_type": "code",
   "execution_count": null,
   "metadata": {
    "id": "rOCrbQvHzouc"
   },
   "outputs": [],
   "source": [
    "# !pip install geopandas folium matplotlib seaborn scipy esda splot"
   ]
  },
  {
   "cell_type": "code",
   "execution_count": 3,
   "metadata": {
    "id": "nAmNEs6wVScC"
   },
   "outputs": [],
   "source": [
    "import pandas as pd\n",
    "import geopandas as gpd\n",
    "import numpy as np\n",
    "import datetime as dt\n",
    "import scipy\n",
    "\n",
    "from sklearn.cluster import DBSCAN\n",
    "from sklearn.cluster import KMeans\n",
    "from sklearn.preprocessing import StandardScaler\n",
    "from sklearn.metrics import silhouette_score\n",
    "\n",
    "# visualization\n",
    "import matplotlib.pyplot as plt\n",
    "from matplotlib import colors as mcolors\n",
    "import seaborn as sns\n",
    "import folium\n",
    "from folium.plugins import HeatMap\n",
    "from folium import Marker\n",
    "from folium.plugins import MarkerCluster\n",
    "import plotly.express as px\n",
    "import plotly.io as pio\n",
    "\n",
    "# spatial statistics\n",
    "from esda.moran import Moran\n",
    "from esda import Moran_Local\n",
    "from esda.getisord import G_Local\n",
    "from shapely.geometry import Point\n",
    "from libpysal.weights import Queen, Rook\n",
    "\n",
    "# system and utility\n",
    "import warnings\n",
    "import os\n",
    "import io\n",
    "from IPython.display import IFrame\n",
    "from google.colab import files\n",
    "\n",
    "from libpysal.weights import Queen, Rook\n",
    "from esda.moran import Moran\n",
    "import matplotlib.pyplot as plt\n",
    "from splot.esda import moran_scatterplot\n",
    "\n",
    "# suppress warnings\n",
    "warnings.filterwarnings('ignore')\n",
    "\n",
    "# inline\n",
    "%matplotlib inline"
   ]
  },
  {
   "cell_type": "markdown",
   "metadata": {
    "id": "mdu1MZ4dafhf"
   },
   "source": [
    "# Part 1: Get the Evictions data"
   ]
  },
  {
   "cell_type": "code",
   "execution_count": 4,
   "metadata": {
    "colab": {
     "base_uri": "https://localhost:8080/"
    },
    "id": "fVLfYL7LWCKH",
    "outputId": "a10ac81a-9a73-46f1-ea33-231e4b32e12f"
   },
   "outputs": [
    {
     "name": "stdout",
     "output_type": "stream",
     "text": [
      "Mounted at /content/drive\n"
     ]
    }
   ],
   "source": [
    "from google.colab import drive\n",
    "drive.mount('/content/drive')"
   ]
  },
  {
   "cell_type": "code",
   "execution_count": 5,
   "metadata": {
    "id": "wFISYw4rQTag"
   },
   "outputs": [],
   "source": [
    "# data source:\n",
    "# gdf already cleaned with lisa info\n",
    "file_path = '/content/drive/My Drive/X999/evictions_cleaned_lisa.csv'"
   ]
  },
  {
   "cell_type": "markdown",
   "metadata": {
    "id": "9gNO6bFxcZak"
   },
   "source": []
  },
  {
   "cell_type": "code",
   "execution_count": 6,
   "metadata": {
    "id": "euMz6qtOA-Re"
   },
   "outputs": [],
   "source": [
    "evictions_cleaned_raw = pd.read_csv(file_path)"
   ]
  },
  {
   "cell_type": "code",
   "execution_count": 7,
   "metadata": {
    "id": "-nNgSlMwskhZ"
   },
   "outputs": [],
   "source": [
    "evictions_cleaned = evictions_cleaned_raw.copy()"
   ]
  },
  {
   "cell_type": "code",
   "execution_count": 8,
   "metadata": {
    "colab": {
     "base_uri": "https://localhost:8080/"
    },
    "id": "VnAeydLuxvAc",
    "outputId": "aef7dc36-b70e-44d8-c77d-3857401ef055"
   },
   "outputs": [
    {
     "data": {
      "text/plain": [
       "Index(['court_index_number', 'docket_number', 'eviction_address',\n",
       "       'eviction_apartment_number', 'executed_date', 'borough',\n",
       "       'eviction_postcode', 'ejectment', 'eviction/legal_possession',\n",
       "       'latitude', 'longitude', 'community_board', 'council_district',\n",
       "       'census_tract', 'bin', 'bbl', 'nta', 'geometry', 'eviction_count',\n",
       "       'year', 'average_year_eviction_count', 'cluster', 'cluster_k',\n",
       "       'same_cluster', 'lisa_cluster_rook', 'lisa_pvalue_rook',\n",
       "       'lisa_cluster_queen', 'lisa_pvalue_queen'],\n",
       "      dtype='object')"
      ]
     },
     "execution_count": 8,
     "metadata": {},
     "output_type": "execute_result"
    }
   ],
   "source": [
    "evictions_cleaned.columns"
   ]
  },
  {
   "cell_type": "code",
   "execution_count": 9,
   "metadata": {
    "colab": {
     "base_uri": "https://localhost:8080/"
    },
    "id": "-E49Gqilp26d",
    "outputId": "d51e2ce7-bc13-4d92-c3ca-97242caed14b"
   },
   "outputs": [
    {
     "data": {
      "text/plain": [
       "Index(['borough', 'eviction_postcode', 'bin', 'bbl', 'eviction_count', 'year',\n",
       "       'average_year_eviction_count'],\n",
       "      dtype='object')"
      ]
     },
     "execution_count": 9,
     "metadata": {},
     "output_type": "execute_result"
    }
   ],
   "source": [
    "relevant_columns = [\n",
    "    'borough', 'eviction_postcode', 'bin', 'bbl', 'eviction_count', 'year',\n",
    "    'average_year_eviction_count'\n",
    "]\n",
    "\n",
    "# Filter the DataFrame to keep only relevant columns\n",
    "evictions_cleaned_filtered = evictions_cleaned[relevant_columns]\n",
    "evictions_cleaned_filtered.columns"
   ]
  },
  {
   "cell_type": "code",
   "execution_count": 10,
   "metadata": {
    "id": "XJobRZemquqf"
   },
   "outputs": [],
   "source": [
    "# from shapely.wkt import loads\n",
    "# evictions_cleaned_filtered['geometry'] = evictions_cleaned_filtered['geometry'].apply(loads)"
   ]
  },
  {
   "cell_type": "code",
   "execution_count": 11,
   "metadata": {
    "id": "fbpV0IaXqUvO"
   },
   "outputs": [],
   "source": [
    "# evictions_cleaned_geo = gpd.GeoDataFrame(evictions_cleaned_filtered, geometry='geometry', crs=\"EPSG:4326\")"
   ]
  },
  {
   "cell_type": "code",
   "execution_count": 12,
   "metadata": {
    "id": "56VK1C64q7IO"
   },
   "outputs": [],
   "source": [
    "# evictions_cleaned_geo.geometry.type"
   ]
  },
  {
   "cell_type": "code",
   "execution_count": 13,
   "metadata": {
    "id": "tn5tcEFHrAiX"
   },
   "outputs": [],
   "source": [
    "# evictions_cleaned_geo.head()"
   ]
  },
  {
   "cell_type": "code",
   "execution_count": 14,
   "metadata": {
    "colab": {
     "base_uri": "https://localhost:8080/"
    },
    "id": "_NjfcHjurBuG",
    "outputId": "7a07fba5-18e9-4b1d-ebb2-b0c573e67f05"
   },
   "outputs": [
    {
     "data": {
      "text/plain": [
       "array(['BROOKLYN', 'BRONX', 'STATEN ISLAND', 'QUEENS', 'MANHATTAN'],\n",
       "      dtype=object)"
      ]
     },
     "execution_count": 14,
     "metadata": {},
     "output_type": "execute_result"
    }
   ],
   "source": [
    "evictions_cleaned_filtered['borough'].unique()"
   ]
  },
  {
   "cell_type": "code",
   "execution_count": 15,
   "metadata": {
    "id": "rti2jBGPrKth"
   },
   "outputs": [],
   "source": [
    "manhattan = evictions_cleaned_filtered[evictions_cleaned_filtered['borough'] == 'MANHATTAN']\n",
    "brooklyn = evictions_cleaned_filtered[evictions_cleaned_filtered['borough'] == 'BROOKLYN']\n",
    "staten_island = evictions_cleaned_filtered[evictions_cleaned_filtered['borough'] == 'STATEN ISLAND']\n",
    "bronx = evictions_cleaned_filtered[evictions_cleaned_filtered['borough'] == 'BRONX']\n",
    "queens = evictions_cleaned_filtered[evictions_cleaned_filtered['borough'] == 'QUEENS']"
   ]
  },
  {
   "cell_type": "code",
   "execution_count": 16,
   "metadata": {
    "id": "64AkO4fEvv6n"
   },
   "outputs": [],
   "source": [
    "manhattan = manhattan.rename(columns={'bin': 'BIN'})\n",
    "brooklyn = brooklyn.rename(columns={'bin': 'BIN'})\n",
    "staten_island = staten_island.rename(columns={'bin': 'BIN'})\n",
    "bronx = bronx.rename(columns={'bin': 'BIN'})\n",
    "queens = queens.rename(columns={'bin': 'BIN'})"
   ]
  },
  {
   "cell_type": "code",
   "execution_count": 17,
   "metadata": {
    "colab": {
     "base_uri": "https://localhost:8080/"
    },
    "id": "MlJS7eGBwH0z",
    "outputId": "c1321987-deee-4923-f804-68fbbb667e69"
   },
   "outputs": [
    {
     "name": "stdout",
     "output_type": "stream",
     "text": [
      "0\n",
      "float64\n"
     ]
    }
   ],
   "source": [
    "print(manhattan['BIN'].isnull().sum())\n",
    "manhattan = manhattan.dropna(subset=['BIN'])\n",
    "print(manhattan['BIN'].dtype)\n",
    "# needs to be converted to integera, because in arcgis, the building data is numeric/long\n",
    "manhattan['BIN'] = manhattan['BIN'].astype(int)"
   ]
  },
  {
   "cell_type": "code",
   "execution_count": 18,
   "metadata": {
    "colab": {
     "base_uri": "https://localhost:8080/"
    },
    "id": "rGsB5hFTwqao",
    "outputId": "2e9fd23f-3046-4b16-efdb-79ab4997aada"
   },
   "outputs": [
    {
     "name": "stdout",
     "output_type": "stream",
     "text": [
      "[1084520 1087539 1063963 ... 1062905 1005429 1006684]\n"
     ]
    },
    {
     "data": {
      "text/plain": [
       "numpy.dtypes.Int64DType"
      ]
     },
     "execution_count": 18,
     "metadata": {},
     "output_type": "execute_result"
    }
   ],
   "source": [
    "print(manhattan['BIN'].unique())\n",
    "manhattan = manhattan.dropna(subset=['BIN'])\n",
    "manhattan['BIN'] = manhattan['BIN'].astype(int)\n",
    "type(manhattan['BIN'].dtype)"
   ]
  },
  {
   "cell_type": "code",
   "execution_count": 19,
   "metadata": {
    "colab": {
     "base_uri": "https://localhost:8080/",
     "height": 17
    },
    "id": "200PSEQsw2jk",
    "outputId": "187a02c1-371f-4782-ca76-ed2f9c9c1df8"
   },
   "outputs": [
    {
     "data": {
      "application/javascript": [
       "\n",
       "    async function download(id, filename, size) {\n",
       "      if (!google.colab.kernel.accessAllowed) {\n",
       "        return;\n",
       "      }\n",
       "      const div = document.createElement('div');\n",
       "      const label = document.createElement('label');\n",
       "      label.textContent = `Downloading \"${filename}\": `;\n",
       "      div.appendChild(label);\n",
       "      const progress = document.createElement('progress');\n",
       "      progress.max = size;\n",
       "      div.appendChild(progress);\n",
       "      document.body.appendChild(div);\n",
       "\n",
       "      const buffers = [];\n",
       "      let downloaded = 0;\n",
       "\n",
       "      const channel = await google.colab.kernel.comms.open(id);\n",
       "      // Send a message to notify the kernel that we're ready.\n",
       "      channel.send({})\n",
       "\n",
       "      for await (const message of channel.messages) {\n",
       "        // Send a message to notify the kernel that we're ready.\n",
       "        channel.send({})\n",
       "        if (message.buffers) {\n",
       "          for (const buffer of message.buffers) {\n",
       "            buffers.push(buffer);\n",
       "            downloaded += buffer.byteLength;\n",
       "            progress.value = downloaded;\n",
       "          }\n",
       "        }\n",
       "      }\n",
       "      const blob = new Blob(buffers, {type: 'application/binary'});\n",
       "      const a = document.createElement('a');\n",
       "      a.href = window.URL.createObjectURL(blob);\n",
       "      a.download = filename;\n",
       "      div.appendChild(a);\n",
       "      a.click();\n",
       "      div.remove();\n",
       "    }\n",
       "  "
      ],
      "text/plain": [
       "<IPython.core.display.Javascript object>"
      ]
     },
     "metadata": {},
     "output_type": "display_data"
    },
    {
     "data": {
      "application/javascript": [
       "download(\"download_e4fc9451-9e2a-447d-94b0-f1afe2bae468\", \"manhattan_cleaned.csv\", 579880)"
      ],
      "text/plain": [
       "<IPython.core.display.Javascript object>"
      ]
     },
     "metadata": {},
     "output_type": "display_data"
    }
   ],
   "source": [
    "manhattan.to_csv(\"manhattan_cleaned.csv\", index=False)\n",
    "files.download(\"manhattan_cleaned.csv\")"
   ]
  },
  {
   "cell_type": "code",
   "execution_count": 20,
   "metadata": {
    "colab": {
     "base_uri": "https://localhost:8080/"
    },
    "id": "FGvgnIdyGTaA",
    "outputId": "3a50e09b-7485-498d-eb9c-5983c8c4b9fb"
   },
   "outputs": [
    {
     "name": "stdout",
     "output_type": "stream",
     "text": [
      "0\n",
      "float64\n"
     ]
    }
   ],
   "source": [
    "print(brooklyn['BIN'].isnull().sum())\n",
    "brooklyn = brooklyn.dropna(subset=['BIN'])\n",
    "print(brooklyn['BIN'].dtype)\n",
    "# needs to be converted to integera, because in arcgis, the building data is numeric/long\n",
    "brooklyn['BIN'] = brooklyn['BIN'].astype(int)"
   ]
  },
  {
   "cell_type": "code",
   "execution_count": 21,
   "metadata": {
    "colab": {
     "base_uri": "https://localhost:8080/"
    },
    "id": "hqM6ADQnGZ06",
    "outputId": "bc90039b-b7e9-40a5-86e1-5d2af70175da"
   },
   "outputs": [
    {
     "name": "stdout",
     "output_type": "stream",
     "text": [
      "[3143881 3143435 3034442 ... 3085014 3327967 3147431]\n"
     ]
    },
    {
     "data": {
      "text/plain": [
       "numpy.dtypes.Int64DType"
      ]
     },
     "execution_count": 21,
     "metadata": {},
     "output_type": "execute_result"
    }
   ],
   "source": [
    "print(brooklyn['BIN'].unique())\n",
    "brooklyn = brooklyn.dropna(subset=['BIN'])\n",
    "brooklyn['BIN'] = brooklyn['BIN'].astype(int)\n",
    "type(brooklyn['BIN'].dtype)"
   ]
  },
  {
   "cell_type": "code",
   "execution_count": 22,
   "metadata": {
    "colab": {
     "base_uri": "https://localhost:8080/"
    },
    "id": "71VOTTO9Ghan",
    "outputId": "47e40d7d-bc90-4b1e-e5e3-d416cb8ad2bd"
   },
   "outputs": [
    {
     "name": "stdout",
     "output_type": "stream",
     "text": [
      "0\n",
      "float64\n",
      "[5087958 5033262 5050009 ... 5169530 5108656 5147292]\n"
     ]
    },
    {
     "data": {
      "text/plain": [
       "numpy.dtypes.Int64DType"
      ]
     },
     "execution_count": 22,
     "metadata": {},
     "output_type": "execute_result"
    }
   ],
   "source": [
    "print(staten_island['BIN'].isnull().sum())\n",
    "staten_island = staten_island.dropna(subset=['BIN'])\n",
    "print(staten_island['BIN'].dtype)\n",
    "staten_island['BIN'] = staten_island['BIN'].astype(int)\n",
    "print(staten_island['BIN'].unique())\n",
    "staten_island = staten_island.dropna(subset=['BIN'])\n",
    "staten_island['BIN'] = staten_island['BIN'].astype(int)\n",
    "type(staten_island['BIN'].dtype)"
   ]
  },
  {
   "cell_type": "code",
   "execution_count": 23,
   "metadata": {
    "colab": {
     "base_uri": "https://localhost:8080/"
    },
    "id": "n80HdXZuGra1",
    "outputId": "578f92a4-8293-4a85-987c-7ac7eddc0f10"
   },
   "outputs": [
    {
     "name": "stdout",
     "output_type": "stream",
     "text": [
      "0\n",
      "float64\n",
      "[4436442 4074666 4168635 ... 4036623 4518927 4011328]\n"
     ]
    },
    {
     "data": {
      "text/plain": [
       "numpy.dtypes.Int64DType"
      ]
     },
     "execution_count": 23,
     "metadata": {},
     "output_type": "execute_result"
    }
   ],
   "source": [
    "print(queens['BIN'].isnull().sum())\n",
    "queens = queens.dropna(subset=['BIN'])\n",
    "print(queens['BIN'].dtype)\n",
    "queens['BIN'] = queens['BIN'].astype(int)\n",
    "print(queens['BIN'].unique())\n",
    "queens = queens.dropna(subset=['BIN'])\n",
    "queens['BIN'] = queens['BIN'].astype(int)\n",
    "type(queens['BIN'].dtype)"
   ]
  },
  {
   "cell_type": "code",
   "execution_count": 24,
   "metadata": {
    "colab": {
     "base_uri": "https://localhost:8080/"
    },
    "id": "iHRfQcNTG1kh",
    "outputId": "82aff7f1-4f18-431a-a923-14b8f6d307d1"
   },
   "outputs": [
    {
     "name": "stdout",
     "output_type": "stream",
     "text": [
      "0\n",
      "float64\n",
      "[2015444 2003900 2013945 ... 2028895 1053888 1064154]\n"
     ]
    },
    {
     "data": {
      "text/plain": [
       "numpy.dtypes.Int64DType"
      ]
     },
     "execution_count": 24,
     "metadata": {},
     "output_type": "execute_result"
    }
   ],
   "source": [
    "print(bronx['BIN'].isnull().sum())\n",
    "bronx = bronx.dropna(subset=['BIN'])\n",
    "print(bronx['BIN'].dtype)\n",
    "# needs to be converted to integera, because in arcgis, the building data is numeric/long\n",
    "bronx['BIN'] = bronx['BIN'].astype(int)\n",
    "print(bronx['BIN'].unique())\n",
    "bronx = bronx.dropna(subset=['BIN'])\n",
    "bronx['BIN'] = bronx['BIN'].astype(int)\n",
    "type(bronx['BIN'].dtype)"
   ]
  },
  {
   "cell_type": "code",
   "execution_count": 25,
   "metadata": {
    "colab": {
     "base_uri": "https://localhost:8080/",
     "height": 17
    },
    "id": "VNfiSv9vw-Vo",
    "outputId": "845e91c1-143c-4a5f-a2ef-65270f6b37b5"
   },
   "outputs": [
    {
     "data": {
      "application/javascript": [
       "\n",
       "    async function download(id, filename, size) {\n",
       "      if (!google.colab.kernel.accessAllowed) {\n",
       "        return;\n",
       "      }\n",
       "      const div = document.createElement('div');\n",
       "      const label = document.createElement('label');\n",
       "      label.textContent = `Downloading \"${filename}\": `;\n",
       "      div.appendChild(label);\n",
       "      const progress = document.createElement('progress');\n",
       "      progress.max = size;\n",
       "      div.appendChild(progress);\n",
       "      document.body.appendChild(div);\n",
       "\n",
       "      const buffers = [];\n",
       "      let downloaded = 0;\n",
       "\n",
       "      const channel = await google.colab.kernel.comms.open(id);\n",
       "      // Send a message to notify the kernel that we're ready.\n",
       "      channel.send({})\n",
       "\n",
       "      for await (const message of channel.messages) {\n",
       "        // Send a message to notify the kernel that we're ready.\n",
       "        channel.send({})\n",
       "        if (message.buffers) {\n",
       "          for (const buffer of message.buffers) {\n",
       "            buffers.push(buffer);\n",
       "            downloaded += buffer.byteLength;\n",
       "            progress.value = downloaded;\n",
       "          }\n",
       "        }\n",
       "      }\n",
       "      const blob = new Blob(buffers, {type: 'application/binary'});\n",
       "      const a = document.createElement('a');\n",
       "      a.href = window.URL.createObjectURL(blob);\n",
       "      a.download = filename;\n",
       "      div.appendChild(a);\n",
       "      a.click();\n",
       "      div.remove();\n",
       "    }\n",
       "  "
      ],
      "text/plain": [
       "<IPython.core.display.Javascript object>"
      ]
     },
     "metadata": {},
     "output_type": "display_data"
    },
    {
     "data": {
      "application/javascript": [
       "download(\"download_93a90212-2cd9-488e-bbcd-99b35d6c3407\", \"manhattan_cleaned.csv\", 579880)"
      ],
      "text/plain": [
       "<IPython.core.display.Javascript object>"
      ]
     },
     "metadata": {},
     "output_type": "display_data"
    },
    {
     "data": {
      "application/javascript": [
       "\n",
       "    async function download(id, filename, size) {\n",
       "      if (!google.colab.kernel.accessAllowed) {\n",
       "        return;\n",
       "      }\n",
       "      const div = document.createElement('div');\n",
       "      const label = document.createElement('label');\n",
       "      label.textContent = `Downloading \"${filename}\": `;\n",
       "      div.appendChild(label);\n",
       "      const progress = document.createElement('progress');\n",
       "      progress.max = size;\n",
       "      div.appendChild(progress);\n",
       "      document.body.appendChild(div);\n",
       "\n",
       "      const buffers = [];\n",
       "      let downloaded = 0;\n",
       "\n",
       "      const channel = await google.colab.kernel.comms.open(id);\n",
       "      // Send a message to notify the kernel that we're ready.\n",
       "      channel.send({})\n",
       "\n",
       "      for await (const message of channel.messages) {\n",
       "        // Send a message to notify the kernel that we're ready.\n",
       "        channel.send({})\n",
       "        if (message.buffers) {\n",
       "          for (const buffer of message.buffers) {\n",
       "            buffers.push(buffer);\n",
       "            downloaded += buffer.byteLength;\n",
       "            progress.value = downloaded;\n",
       "          }\n",
       "        }\n",
       "      }\n",
       "      const blob = new Blob(buffers, {type: 'application/binary'});\n",
       "      const a = document.createElement('a');\n",
       "      a.href = window.URL.createObjectURL(blob);\n",
       "      a.download = filename;\n",
       "      div.appendChild(a);\n",
       "      a.click();\n",
       "      div.remove();\n",
       "    }\n",
       "  "
      ],
      "text/plain": [
       "<IPython.core.display.Javascript object>"
      ]
     },
     "metadata": {},
     "output_type": "display_data"
    },
    {
     "data": {
      "application/javascript": [
       "download(\"download_959dea09-0ea9-4263-be11-453f1c38cd82\", \"brooklyn_cleaned.csv\", 1088048)"
      ],
      "text/plain": [
       "<IPython.core.display.Javascript object>"
      ]
     },
     "metadata": {},
     "output_type": "display_data"
    },
    {
     "data": {
      "application/javascript": [
       "\n",
       "    async function download(id, filename, size) {\n",
       "      if (!google.colab.kernel.accessAllowed) {\n",
       "        return;\n",
       "      }\n",
       "      const div = document.createElement('div');\n",
       "      const label = document.createElement('label');\n",
       "      label.textContent = `Downloading \"${filename}\": `;\n",
       "      div.appendChild(label);\n",
       "      const progress = document.createElement('progress');\n",
       "      progress.max = size;\n",
       "      div.appendChild(progress);\n",
       "      document.body.appendChild(div);\n",
       "\n",
       "      const buffers = [];\n",
       "      let downloaded = 0;\n",
       "\n",
       "      const channel = await google.colab.kernel.comms.open(id);\n",
       "      // Send a message to notify the kernel that we're ready.\n",
       "      channel.send({})\n",
       "\n",
       "      for await (const message of channel.messages) {\n",
       "        // Send a message to notify the kernel that we're ready.\n",
       "        channel.send({})\n",
       "        if (message.buffers) {\n",
       "          for (const buffer of message.buffers) {\n",
       "            buffers.push(buffer);\n",
       "            downloaded += buffer.byteLength;\n",
       "            progress.value = downloaded;\n",
       "          }\n",
       "        }\n",
       "      }\n",
       "      const blob = new Blob(buffers, {type: 'application/binary'});\n",
       "      const a = document.createElement('a');\n",
       "      a.href = window.URL.createObjectURL(blob);\n",
       "      a.download = filename;\n",
       "      div.appendChild(a);\n",
       "      a.click();\n",
       "      div.remove();\n",
       "    }\n",
       "  "
      ],
      "text/plain": [
       "<IPython.core.display.Javascript object>"
      ]
     },
     "metadata": {},
     "output_type": "display_data"
    },
    {
     "data": {
      "application/javascript": [
       "download(\"download_07706f22-295c-4fb0-93c4-08e58f4796c1\", \"staten_island_cleaned.csv\", 142239)"
      ],
      "text/plain": [
       "<IPython.core.display.Javascript object>"
      ]
     },
     "metadata": {},
     "output_type": "display_data"
    },
    {
     "data": {
      "application/javascript": [
       "\n",
       "    async function download(id, filename, size) {\n",
       "      if (!google.colab.kernel.accessAllowed) {\n",
       "        return;\n",
       "      }\n",
       "      const div = document.createElement('div');\n",
       "      const label = document.createElement('label');\n",
       "      label.textContent = `Downloading \"${filename}\": `;\n",
       "      div.appendChild(label);\n",
       "      const progress = document.createElement('progress');\n",
       "      progress.max = size;\n",
       "      div.appendChild(progress);\n",
       "      document.body.appendChild(div);\n",
       "\n",
       "      const buffers = [];\n",
       "      let downloaded = 0;\n",
       "\n",
       "      const channel = await google.colab.kernel.comms.open(id);\n",
       "      // Send a message to notify the kernel that we're ready.\n",
       "      channel.send({})\n",
       "\n",
       "      for await (const message of channel.messages) {\n",
       "        // Send a message to notify the kernel that we're ready.\n",
       "        channel.send({})\n",
       "        if (message.buffers) {\n",
       "          for (const buffer of message.buffers) {\n",
       "            buffers.push(buffer);\n",
       "            downloaded += buffer.byteLength;\n",
       "            progress.value = downloaded;\n",
       "          }\n",
       "        }\n",
       "      }\n",
       "      const blob = new Blob(buffers, {type: 'application/binary'});\n",
       "      const a = document.createElement('a');\n",
       "      a.href = window.URL.createObjectURL(blob);\n",
       "      a.download = filename;\n",
       "      div.appendChild(a);\n",
       "      a.click();\n",
       "      div.remove();\n",
       "    }\n",
       "  "
      ],
      "text/plain": [
       "<IPython.core.display.Javascript object>"
      ]
     },
     "metadata": {},
     "output_type": "display_data"
    },
    {
     "data": {
      "application/javascript": [
       "download(\"download_93e36651-52dd-4bb2-a468-e0a519541adc\", \"queens_cleaned.csv\", 633968)"
      ],
      "text/plain": [
       "<IPython.core.display.Javascript object>"
      ]
     },
     "metadata": {},
     "output_type": "display_data"
    },
    {
     "data": {
      "application/javascript": [
       "\n",
       "    async function download(id, filename, size) {\n",
       "      if (!google.colab.kernel.accessAllowed) {\n",
       "        return;\n",
       "      }\n",
       "      const div = document.createElement('div');\n",
       "      const label = document.createElement('label');\n",
       "      label.textContent = `Downloading \"${filename}\": `;\n",
       "      div.appendChild(label);\n",
       "      const progress = document.createElement('progress');\n",
       "      progress.max = size;\n",
       "      div.appendChild(progress);\n",
       "      document.body.appendChild(div);\n",
       "\n",
       "      const buffers = [];\n",
       "      let downloaded = 0;\n",
       "\n",
       "      const channel = await google.colab.kernel.comms.open(id);\n",
       "      // Send a message to notify the kernel that we're ready.\n",
       "      channel.send({})\n",
       "\n",
       "      for await (const message of channel.messages) {\n",
       "        // Send a message to notify the kernel that we're ready.\n",
       "        channel.send({})\n",
       "        if (message.buffers) {\n",
       "          for (const buffer of message.buffers) {\n",
       "            buffers.push(buffer);\n",
       "            downloaded += buffer.byteLength;\n",
       "            progress.value = downloaded;\n",
       "          }\n",
       "        }\n",
       "      }\n",
       "      const blob = new Blob(buffers, {type: 'application/binary'});\n",
       "      const a = document.createElement('a');\n",
       "      a.href = window.URL.createObjectURL(blob);\n",
       "      a.download = filename;\n",
       "      div.appendChild(a);\n",
       "      a.click();\n",
       "      div.remove();\n",
       "    }\n",
       "  "
      ],
      "text/plain": [
       "<IPython.core.display.Javascript object>"
      ]
     },
     "metadata": {},
     "output_type": "display_data"
    },
    {
     "data": {
      "application/javascript": [
       "download(\"download_38777292-5e6a-4912-bc9f-9f229b884252\", \"bronx_cleaned.csv\", 1269514)"
      ],
      "text/plain": [
       "<IPython.core.display.Javascript object>"
      ]
     },
     "metadata": {},
     "output_type": "display_data"
    }
   ],
   "source": [
    "manhattan.to_csv(\"manhattan_cleaned.csv\", index=False)\n",
    "files.download(\"manhattan_cleaned.csv\")\n",
    "brooklyn.to_csv(\"brooklyn_cleaned.csv\", index=False)\n",
    "files.download(\"brooklyn_cleaned.csv\")\n",
    "staten_island.to_csv(\"staten_island_cleaned.csv\", index=False)\n",
    "files.download(\"staten_island_cleaned.csv\")\n",
    "queens.to_csv(\"queens_cleaned.csv\", index=False)\n",
    "files.download(\"queens_cleaned.csv\")\n",
    "bronx.to_csv(\"bronx_cleaned.csv\", index=False)\n",
    "files.download(\"bronx_cleaned.csv\")"
   ]
  },
  {
   "cell_type": "code",
   "execution_count": null,
   "metadata": {
    "id": "ojVIoQ1zI3uG"
   },
   "outputs": [],
   "source": []
  }
 ],
 "metadata": {
  "accelerator": "GPU",
  "colab": {
   "gpuType": "L4",
   "machine_shape": "hm",
   "provenance": []
  },
  "kernelspec": {
   "display_name": "Python 3 (ipykernel)",
   "language": "python",
   "name": "python3"
  },
  "language_info": {
   "codemirror_mode": {
    "name": "ipython",
    "version": 3
   },
   "file_extension": ".py",
   "mimetype": "text/x-python",
   "name": "python",
   "nbconvert_exporter": "python",
   "pygments_lexer": "ipython3",
   "version": "3.11.0"
  }
 },
 "nbformat": 4,
 "nbformat_minor": 0
}
